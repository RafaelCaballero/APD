{
 "cells": [
  {
   "cell_type": "markdown",
   "metadata": {
    "id": "rUA6_wKkxs30"
   },
   "source": [
    "\n",
    "\n",
    "## Fechas\n",
    "### Rafa Caballero\n",
    "\n",
    "A menudo tenemos que trabajar con fechas. Una operación habitual es tener que convertir un string a formato fecha. Para eso utilizaremos la función `strptime`"
   ]
  },
  {
   "cell_type": "code",
   "execution_count": null,
   "metadata": {
    "id": "SnojbzTTxsGN",
    "outputId": "9b352c6a-7953-42bc-8bed-d71abf0ad61f"
   },
   "outputs": [
    {
     "name": "stdout",
     "output_type": "stream",
     "text": [
      "El tipo ahora es  <class 'datetime.datetime'>\n",
      "El valor es  2019-09-18 01:55:19\n"
     ]
    }
   ],
   "source": [
    "from datetime import datetime\n",
    "\n",
    "date_time_str1 = '18/09/19 01:55:19'\n",
    "\n",
    "date_time1 = datetime.strptime(date_time_str1, '%d/%m/%y %H:%M:%S')\n",
    "\n",
    "\n",
    "print (\"El tipo ahora es \",  type(date_time1))\n",
    "print (\"El valor es \", date_time1)"
   ]
  },
  {
   "cell_type": "markdown",
   "metadata": {
    "id": "qhZCnRzxz5uU"
   },
   "source": [
    "La lista de formatos posibles se puede ver [aquí](https://docs.python.org/3.7/library/datetime.html?highlight=strptime#strftime-strptime-behavior)"
   ]
  },
  {
   "cell_type": "code",
   "execution_count": null,
   "metadata": {
    "id": "-jI47tWzx6Yr",
    "outputId": "5d4dcd91-9ed8-495e-8392-374d97dd4a8a"
   },
   "outputs": [
    {
     "name": "stdout",
     "output_type": "stream",
     "text": [
      "El tipo ahora es  <class 'datetime.datetime'>\n",
      "El valor es  2021-09-16 22:55:19\n"
     ]
    }
   ],
   "source": [
    "date_time_str2 = '16-09-21| 22:55:19'\n",
    "\n",
    "date_time2 = datetime.strptime(date_time_str2, '%d-%m-%y| %H:%M:%S')\n",
    "\n",
    "\n",
    "print (\"El tipo ahora es \",  type(date_time2))\n",
    "print (\"El valor es \", date_time2)"
   ]
  },
  {
   "cell_type": "markdown",
   "metadata": {
    "id": "eMqUSm9d1WRV"
   },
   "source": [
    "Una ventaja de tener el tipo fecha es que podemos obtener los componentes y hacer operaciones"
   ]
  },
  {
   "cell_type": "code",
   "execution_count": null,
   "metadata": {
    "id": "3hJtbIJo1eCj",
    "outputId": "acabc9bb-6ed6-4a98-ab67-61f9e427bace"
   },
   "outputs": [
    {
     "data": {
      "text/plain": [
       "16"
      ]
     },
     "execution_count": 3,
     "metadata": {},
     "output_type": "execute_result"
    }
   ],
   "source": [
    "date_time2.day"
   ]
  },
  {
   "cell_type": "markdown",
   "metadata": {
    "id": "9uXIbjyw1zWl"
   },
   "source": [
    "Las diferencias de fechas son los llamados \"deltas\""
   ]
  },
  {
   "cell_type": "code",
   "execution_count": null,
   "metadata": {
    "id": "YcKiqbzS1ovw",
    "outputId": "a8b2397f-9640-427b-ec43-950bd0dfb649"
   },
   "outputs": [
    {
     "data": {
      "text/plain": [
       "datetime.timedelta(days=729, seconds=75600)"
      ]
     },
     "execution_count": 4,
     "metadata": {},
     "output_type": "execute_result"
    }
   ],
   "source": [
    "dif = date_time2 - date_time1\n",
    "dif"
   ]
  },
  {
   "cell_type": "code",
   "execution_count": null,
   "metadata": {
    "id": "wX-AVnjS1lcd",
    "outputId": "e72af98d-c5d0-4ec6-bc7f-11236435be48"
   },
   "outputs": [
    {
     "data": {
      "text/plain": [
       "datetime.datetime(2023, 9, 16, 19, 55, 19)"
      ]
     },
     "execution_count": 5,
     "metadata": {},
     "output_type": "execute_result"
    }
   ],
   "source": [
    "date_time2 + dif"
   ]
  },
  {
   "cell_type": "markdown",
   "metadata": {
    "id": "tvDGx5ga2W1t"
   },
   "source": [
    "La función inversa es strftime"
   ]
  },
  {
   "cell_type": "code",
   "execution_count": null,
   "metadata": {
    "id": "0V2RaKlF2aQK",
    "outputId": "8e5d3e8b-2c79-49b7-d4d2-e63a68b5ad57"
   },
   "outputs": [
    {
     "name": "stdout",
     "output_type": "stream",
     "text": [
      "fecha: 2021-09-16, 22:55:19\n"
     ]
    }
   ],
   "source": [
    "sfecha = date_time2.strftime(\"%Y-%m-%d, %H:%M:%S\")\n",
    "print(\"fecha:\",sfecha)"
   ]
  },
  {
   "cell_type": "markdown",
   "metadata": {
    "id": "UV1CbCj13KG1"
   },
   "source": [
    "**Ejercicio** Consideramos el siguiente fichero"
   ]
  },
  {
   "cell_type": "code",
   "execution_count": null,
   "metadata": {
    "id": "yOH9oJ6b3iWt",
    "outputId": "6c5e5571-c15d-4b1a-fc00-4646e4ee4bb4"
   },
   "outputs": [
    {
     "data": {
      "text/html": [
       "<div>\n",
       "<style scoped>\n",
       "    .dataframe tbody tr th:only-of-type {\n",
       "        vertical-align: middle;\n",
       "    }\n",
       "\n",
       "    .dataframe tbody tr th {\n",
       "        vertical-align: top;\n",
       "    }\n",
       "\n",
       "    .dataframe thead th {\n",
       "        text-align: right;\n",
       "    }\n",
       "</style>\n",
       "<table border=\"1\" class=\"dataframe\">\n",
       "  <thead>\n",
       "    <tr style=\"text-align: right;\">\n",
       "      <th></th>\n",
       "      <th>_id</th>\n",
       "      <th>text</th>\n",
       "      <th>userid</th>\n",
       "      <th>screen_name</th>\n",
       "      <th>created_at</th>\n",
       "      <th>lang</th>\n",
       "      <th>quote_count</th>\n",
       "      <th>reply_count</th>\n",
       "      <th>retweet_count</th>\n",
       "      <th>favorite_count</th>\n",
       "      <th>coordinates</th>\n",
       "      <th>reply</th>\n",
       "      <th>quote</th>\n",
       "      <th>RT</th>\n",
       "      <th>RT_source</th>\n",
       "      <th>nRTin</th>\n",
       "    </tr>\n",
       "  </thead>\n",
       "  <tbody>\n",
       "    <tr>\n",
       "      <th>0</th>\n",
       "      <td>1322162444786126848</td>\n",
       "      <td>Winners attract other winners</td>\n",
       "      <td>289706821</td>\n",
       "      <td>thatguy0603</td>\n",
       "      <td>2020-10-30T13:04:26.000Z</td>\n",
       "      <td>en</td>\n",
       "      <td>0.0</td>\n",
       "      <td>0.0</td>\n",
       "      <td>0.0</td>\n",
       "      <td>0.0</td>\n",
       "      <td>NaN</td>\n",
       "      <td>False</td>\n",
       "      <td>True</td>\n",
       "      <td>False</td>\n",
       "      <td>NaN</td>\n",
       "      <td>0.0</td>\n",
       "    </tr>\n",
       "    <tr>\n",
       "      <th>1</th>\n",
       "      <td>1316829358686834688</td>\n",
       "      <td>NOW WE KNOW...C-SPAN Steve Sculley tried to ri...</td>\n",
       "      <td>1116507977828175872</td>\n",
       "      <td>FloridaDude297</td>\n",
       "      <td>2020-10-15T19:52:39.000Z</td>\n",
       "      <td>en</td>\n",
       "      <td>12.0</td>\n",
       "      <td>28.0</td>\n",
       "      <td>681.0</td>\n",
       "      <td>1232.0</td>\n",
       "      <td>NaN</td>\n",
       "      <td>False</td>\n",
       "      <td>False</td>\n",
       "      <td>False</td>\n",
       "      <td>NaN</td>\n",
       "      <td>0.0</td>\n",
       "    </tr>\n",
       "    <tr>\n",
       "      <th>2</th>\n",
       "      <td>1318888111699599362</td>\n",
       "      <td>NaN</td>\n",
       "      <td>1290009888580657152</td>\n",
       "      <td>why_inn</td>\n",
       "      <td>2020-10-21T12:13:24.000Z</td>\n",
       "      <td>NaN</td>\n",
       "      <td>NaN</td>\n",
       "      <td>NaN</td>\n",
       "      <td>NaN</td>\n",
       "      <td>NaN</td>\n",
       "      <td>NaN</td>\n",
       "      <td>NaN</td>\n",
       "      <td>NaN</td>\n",
       "      <td>True</td>\n",
       "      <td>1.318884e+18</td>\n",
       "      <td>NaN</td>\n",
       "    </tr>\n",
       "    <tr>\n",
       "      <th>3</th>\n",
       "      <td>1321483993922023424</td>\n",
       "      <td>@realDonaldTrump Vote Biden🌊🌊🌊🌊🌊🌊🌊🌊🌊🌊🌊</td>\n",
       "      <td>922851359594033152</td>\n",
       "      <td>Janet06969062</td>\n",
       "      <td>2020-10-28T16:08:30.000Z</td>\n",
       "      <td>fr</td>\n",
       "      <td>0.0</td>\n",
       "      <td>0.0</td>\n",
       "      <td>0.0</td>\n",
       "      <td>0.0</td>\n",
       "      <td>NaN</td>\n",
       "      <td>True</td>\n",
       "      <td>False</td>\n",
       "      <td>False</td>\n",
       "      <td>NaN</td>\n",
       "      <td>0.0</td>\n",
       "    </tr>\n",
       "    <tr>\n",
       "      <th>4</th>\n",
       "      <td>1313626566694404096</td>\n",
       "      <td>NaN</td>\n",
       "      <td>3285934814</td>\n",
       "      <td>Bill4TruthTrump</td>\n",
       "      <td>2020-10-06T23:45:54.000Z</td>\n",
       "      <td>NaN</td>\n",
       "      <td>NaN</td>\n",
       "      <td>NaN</td>\n",
       "      <td>NaN</td>\n",
       "      <td>NaN</td>\n",
       "      <td>NaN</td>\n",
       "      <td>NaN</td>\n",
       "      <td>NaN</td>\n",
       "      <td>True</td>\n",
       "      <td>1.313618e+18</td>\n",
       "      <td>NaN</td>\n",
       "    </tr>\n",
       "    <tr>\n",
       "      <th>...</th>\n",
       "      <td>...</td>\n",
       "      <td>...</td>\n",
       "      <td>...</td>\n",
       "      <td>...</td>\n",
       "      <td>...</td>\n",
       "      <td>...</td>\n",
       "      <td>...</td>\n",
       "      <td>...</td>\n",
       "      <td>...</td>\n",
       "      <td>...</td>\n",
       "      <td>...</td>\n",
       "      <td>...</td>\n",
       "      <td>...</td>\n",
       "      <td>...</td>\n",
       "      <td>...</td>\n",
       "      <td>...</td>\n",
       "    </tr>\n",
       "    <tr>\n",
       "      <th>8218</th>\n",
       "      <td>1315812986049576961</td>\n",
       "      <td>Anderson Cooper’s face when he hears they are ...</td>\n",
       "      <td>27950593</td>\n",
       "      <td>BookofJonah</td>\n",
       "      <td>2020-10-13T00:33:57.000Z</td>\n",
       "      <td>en</td>\n",
       "      <td>0.0</td>\n",
       "      <td>0.0</td>\n",
       "      <td>0.0</td>\n",
       "      <td>0.0</td>\n",
       "      <td>NaN</td>\n",
       "      <td>False</td>\n",
       "      <td>False</td>\n",
       "      <td>False</td>\n",
       "      <td>NaN</td>\n",
       "      <td>11248.0</td>\n",
       "    </tr>\n",
       "    <tr>\n",
       "      <th>8219</th>\n",
       "      <td>1316458442303967232</td>\n",
       "      <td>@Annakhait @GeorgePaschall @JoeBiden Find the ...</td>\n",
       "      <td>1074690010266386437</td>\n",
       "      <td>Skeye_Watching</td>\n",
       "      <td>2020-10-14T19:18:45.000Z</td>\n",
       "      <td>en</td>\n",
       "      <td>0.0</td>\n",
       "      <td>0.0</td>\n",
       "      <td>2.0</td>\n",
       "      <td>3.0</td>\n",
       "      <td>NaN</td>\n",
       "      <td>True</td>\n",
       "      <td>False</td>\n",
       "      <td>False</td>\n",
       "      <td>NaN</td>\n",
       "      <td>1.0</td>\n",
       "    </tr>\n",
       "    <tr>\n",
       "      <th>8220</th>\n",
       "      <td>1322185176261296132</td>\n",
       "      <td>Should we have a law that would severely punis...</td>\n",
       "      <td>1290693635441332230</td>\n",
       "      <td>noname76089779</td>\n",
       "      <td>2020-10-30T14:34:45.000Z</td>\n",
       "      <td>en</td>\n",
       "      <td>2.0</td>\n",
       "      <td>5.0</td>\n",
       "      <td>11.0</td>\n",
       "      <td>8.0</td>\n",
       "      <td>NaN</td>\n",
       "      <td>False</td>\n",
       "      <td>False</td>\n",
       "      <td>False</td>\n",
       "      <td>NaN</td>\n",
       "      <td>43.0</td>\n",
       "    </tr>\n",
       "    <tr>\n",
       "      <th>8221</th>\n",
       "      <td>1319049364753481728</td>\n",
       "      <td>@MilesTaylorUSA @JoeBiden https://t.co/JXZEHDjG5P</td>\n",
       "      <td>493606253</td>\n",
       "      <td>LocolopezNYC</td>\n",
       "      <td>2020-10-21T22:54:09.000Z</td>\n",
       "      <td>und</td>\n",
       "      <td>0.0</td>\n",
       "      <td>0.0</td>\n",
       "      <td>0.0</td>\n",
       "      <td>0.0</td>\n",
       "      <td>NaN</td>\n",
       "      <td>True</td>\n",
       "      <td>False</td>\n",
       "      <td>False</td>\n",
       "      <td>NaN</td>\n",
       "      <td>12.0</td>\n",
       "    </tr>\n",
       "    <tr>\n",
       "      <th>8222</th>\n",
       "      <td>1322741933073027072</td>\n",
       "      <td>JUST IN:  Two men were arrested in Florida aft...</td>\n",
       "      <td>1092086942198452224</td>\n",
       "      <td>no_silenced</td>\n",
       "      <td>2020-11-01T03:27:06.000Z</td>\n",
       "      <td>en</td>\n",
       "      <td>1.0</td>\n",
       "      <td>1.0</td>\n",
       "      <td>32.0</td>\n",
       "      <td>52.0</td>\n",
       "      <td>NaN</td>\n",
       "      <td>False</td>\n",
       "      <td>False</td>\n",
       "      <td>False</td>\n",
       "      <td>NaN</td>\n",
       "      <td>204.0</td>\n",
       "    </tr>\n",
       "  </tbody>\n",
       "</table>\n",
       "<p>8223 rows × 16 columns</p>\n",
       "</div>"
      ],
      "text/plain": [
       "                      _id                                               text  \\\n",
       "0     1322162444786126848                      Winners attract other winners   \n",
       "1     1316829358686834688  NOW WE KNOW...C-SPAN Steve Sculley tried to ri...   \n",
       "2     1318888111699599362                                                NaN   \n",
       "3     1321483993922023424             @realDonaldTrump Vote Biden🌊🌊🌊🌊🌊🌊🌊🌊🌊🌊🌊   \n",
       "4     1313626566694404096                                                NaN   \n",
       "...                   ...                                                ...   \n",
       "8218  1315812986049576961  Anderson Cooper’s face when he hears they are ...   \n",
       "8219  1316458442303967232  @Annakhait @GeorgePaschall @JoeBiden Find the ...   \n",
       "8220  1322185176261296132  Should we have a law that would severely punis...   \n",
       "8221  1319049364753481728  @MilesTaylorUSA @JoeBiden https://t.co/JXZEHDjG5P   \n",
       "8222  1322741933073027072  JUST IN:  Two men were arrested in Florida aft...   \n",
       "\n",
       "                   userid      screen_name                created_at lang  \\\n",
       "0               289706821      thatguy0603  2020-10-30T13:04:26.000Z   en   \n",
       "1     1116507977828175872   FloridaDude297  2020-10-15T19:52:39.000Z   en   \n",
       "2     1290009888580657152          why_inn  2020-10-21T12:13:24.000Z  NaN   \n",
       "3      922851359594033152    Janet06969062  2020-10-28T16:08:30.000Z   fr   \n",
       "4              3285934814  Bill4TruthTrump  2020-10-06T23:45:54.000Z  NaN   \n",
       "...                   ...              ...                       ...  ...   \n",
       "8218             27950593      BookofJonah  2020-10-13T00:33:57.000Z   en   \n",
       "8219  1074690010266386437   Skeye_Watching  2020-10-14T19:18:45.000Z   en   \n",
       "8220  1290693635441332230   noname76089779  2020-10-30T14:34:45.000Z   en   \n",
       "8221            493606253     LocolopezNYC  2020-10-21T22:54:09.000Z  und   \n",
       "8222  1092086942198452224      no_silenced  2020-11-01T03:27:06.000Z   en   \n",
       "\n",
       "      quote_count  reply_count  retweet_count  favorite_count  coordinates  \\\n",
       "0             0.0          0.0            0.0             0.0          NaN   \n",
       "1            12.0         28.0          681.0          1232.0          NaN   \n",
       "2             NaN          NaN            NaN             NaN          NaN   \n",
       "3             0.0          0.0            0.0             0.0          NaN   \n",
       "4             NaN          NaN            NaN             NaN          NaN   \n",
       "...           ...          ...            ...             ...          ...   \n",
       "8218          0.0          0.0            0.0             0.0          NaN   \n",
       "8219          0.0          0.0            2.0             3.0          NaN   \n",
       "8220          2.0          5.0           11.0             8.0          NaN   \n",
       "8221          0.0          0.0            0.0             0.0          NaN   \n",
       "8222          1.0          1.0           32.0            52.0          NaN   \n",
       "\n",
       "      reply  quote     RT     RT_source    nRTin  \n",
       "0     False   True  False           NaN      0.0  \n",
       "1     False  False  False           NaN      0.0  \n",
       "2       NaN    NaN   True  1.318884e+18      NaN  \n",
       "3      True  False  False           NaN      0.0  \n",
       "4       NaN    NaN   True  1.313618e+18      NaN  \n",
       "...     ...    ...    ...           ...      ...  \n",
       "8218  False  False  False           NaN  11248.0  \n",
       "8219   True  False  False           NaN      1.0  \n",
       "8220  False  False  False           NaN     43.0  \n",
       "8221   True  False  False           NaN     12.0  \n",
       "8222  False  False  False           NaN    204.0  \n",
       "\n",
       "[8223 rows x 16 columns]"
      ]
     },
     "execution_count": 9,
     "metadata": {},
     "output_type": "execute_result"
    }
   ],
   "source": [
    "fileIn = \"https://raw.githubusercontent.com/RafaelCaballero/tdm/master/datos/tusa2020.csv\"\n",
    "import pandas as pd\n",
    "df = pd.read_csv(fileIn)\n",
    "df"
   ]
  },
  {
   "cell_type": "markdown",
   "metadata": {
    "id": "vo1xsne54Oq-"
   },
   "source": [
    "queremos extraer los datos de la fecha, por ejemplo para saber a qué hora se tuitea más. Para ello intentamos primero convertir una fecha concreta a datetime. Es importante observar que todas las fechas acaban en .000Z"
   ]
  },
  {
   "cell_type": "code",
   "execution_count": null,
   "metadata": {
    "id": "8KzTt7et4KzF"
   },
   "outputs": [],
   "source": [
    "s = \"2020-10-30T13:04:26.000Z\"\n",
    "\n",
    "formato = \n",
    "datetime.strptime(s,formato)"
   ]
  },
  {
   "cell_type": "markdown",
   "metadata": {
    "id": "u-kwKW6h6HLe"
   },
   "source": [
    "Ahora podemos aplicárselo a la columna completa, para convertirla en fecha, usando pd.to_datetime, como se explica [aquí](https://stackoverflow.com/questions/17134716/convert-dataframe-column-type-from-string-to-datetime). El formato es el mismo"
   ]
  },
  {
   "cell_type": "code",
   "execution_count": null,
   "metadata": {
    "id": "s26asRsu6K0l"
   },
   "outputs": [],
   "source": [
    "\n"
   ]
  },
  {
   "cell_type": "markdown",
   "metadata": {
    "id": "W2WFnBJ2724m"
   },
   "source": [
    "Finalmente podemos extraer la hora. Un detalle importante: cuando queramos aplicar funciones, propiedades típicas de un tipo a una columna, debemos añadir primero un indicador del tipo. Por ejemplo si la columna es un string deberemos incluir algo como `df[\"nombre\"].str.upper()`, y si es una fecha/hora lo mismo pero con dt `df[\"fecha\"].dt.hour`"
   ]
  },
  {
   "cell_type": "code",
   "execution_count": null,
   "metadata": {
    "id": "vH7NoF7_8W-u"
   },
   "outputs": [],
   "source": []
  },
  {
   "cell_type": "markdown",
   "metadata": {
    "id": "uuq8A81o8YJ1"
   },
   "source": [
    "Ahora ya podemos crear la columna hora:"
   ]
  },
  {
   "cell_type": "code",
   "execution_count": null,
   "metadata": {
    "id": "9kZwn1DG8a6F"
   },
   "outputs": [],
   "source": []
  }
 ],
 "metadata": {
  "colab": {
   "name": "6fechas.ipynb",
   "provenance": []
  },
  "kernelspec": {
   "display_name": "Python 3",
   "language": "python",
   "name": "python3"
  },
  "language_info": {
   "codemirror_mode": {
    "name": "ipython",
    "version": 3
   },
   "file_extension": ".py",
   "mimetype": "text/x-python",
   "name": "python",
   "nbconvert_exporter": "python",
   "pygments_lexer": "ipython3",
   "version": "3.8.5"
  }
 },
 "nbformat": 4,
 "nbformat_minor": 1
}
