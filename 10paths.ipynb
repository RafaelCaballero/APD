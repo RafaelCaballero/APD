{
 "cells": [
  {
   "cell_type": "markdown",
   "id": "2544e73e",
   "metadata": {},
   "source": [
    "\n",
    "<table>\n",
    "    <tr>\n",
    "      <td>Grado en Ingeniería de Datos e Inteligencia Artificial - Facultad de Informática - UCM\n",
    "      </td>\n",
    "      <td>\n",
    "      <img src=\"https://biblioteca.ucm.es/data/cont/media/www/pag-88746//escudo.jpg\"  width=50/>\n",
    "      </td>\n",
    "     </tr>\n",
    "</table>\n",
    "\n",
    "## Adquisicion y preprocesamiento de datos - RafaC\n",
    "\n",
    "### Carpetas y ficheros\n",
    "\n",
    "### Índice\n",
    "[Caminos](#Caminos)<br>\n",
    "[Creación de carpetas](#Creación_de_carpetas)<br>\n",
    "[Borrado](#Borrado)<br>\n",
    "[Copia de ficheros](#Copia)<br>\n",
    "[Ficheros .zip](#Zip)<br>"
   ]
  },
  {
   "cell_type": "markdown",
   "id": "ff0f3153",
   "metadata": {},
   "source": [
    "<a name=\"Caminos\"></a>\n",
    "#### Caminos"
   ]
  },
  {
   "cell_type": "markdown",
   "id": "c3c5cc37",
   "metadata": {},
   "source": [
    "En cualquier sistema operativo los sistemas de almacenamiento permanentes (discusos, memorias flash, etc) van a tener un sistema de carpetas y ficheros:\n",
    "    \n",
    "    * Las carpetas pueden contener ficheros y otras carpetas\n",
    "    * Los ficheros contienen datos\n",
    "    \n",
    "Debemos ser capaces de manejar estas estructuras en Python para automatizar nuestro proceso de adquisición de datos.\n",
    "\n",
    "Primero veamos en qué carpeta nos encontramos ahora mismo (la del notebook de Python)"
   ]
  },
  {
   "cell_type": "code",
   "execution_count": 1,
   "id": "db5c0e7c",
   "metadata": {},
   "outputs": [
    {
     "name": "stdout",
     "output_type": "stream",
     "text": [
      "e:\\docencia\\2223\\APD\\codigo\\pandas\n"
     ]
    }
   ],
   "source": [
    "from pathlib import Path\n",
    "path = Path.cwd()  \n",
    "print(path)"
   ]
  },
  {
   "cell_type": "markdown",
   "id": "89ee08a5",
   "metadata": {},
   "source": [
    "Añadimos un fichero al final del camino"
   ]
  },
  {
   "cell_type": "code",
   "execution_count": 2,
   "id": "ed759d45",
   "metadata": {},
   "outputs": [
    {
     "name": "stdout",
     "output_type": "stream",
     "text": [
      "e:\\docencia\\2223\\APD\\codigo\\pandas\\datos.csv\n"
     ]
    }
   ],
   "source": [
    "import pandas as pd\n",
    "df = pd.DataFrame({\"nombre\":[\"Bertoldo\", \"Herminia\",\"Calixta\",\"Aniceto\"],\"edad\":[18,19,24,30]})\n",
    "p = Path(path,\"datos.csv\")\n",
    "df.to_csv(p,index=False)\n",
    "print(p)"
   ]
  },
  {
   "cell_type": "markdown",
   "id": "338d7f67",
   "metadata": {},
   "source": [
    "¿El path existe? ¿es una carpeta o un fichero?"
   ]
  },
  {
   "cell_type": "code",
   "execution_count": 3,
   "id": "66ade453",
   "metadata": {},
   "outputs": [
    {
     "name": "stdout",
     "output_type": "stream",
     "text": [
      "e:\\docencia\\2223\\APD\\codigo\\pandas\\datos.csv existe y es un fichero\n"
     ]
    }
   ],
   "source": [
    "if p.exists():\n",
    "    print(p,\"existe\",end=\" \")\n",
    "    if p.is_dir():\n",
    "        print(\"y es una carpeta\")\n",
    "    else:\n",
    "        if p.is_file():\n",
    "            print(\"y es un fichero\")\n",
    "else:\n",
    "    print(p,\"no existe\")"
   ]
  },
  {
   "cell_type": "markdown",
   "id": "ab90d1bc",
   "metadata": {},
   "source": [
    "Ya sabemos que p es un camino a un fichero, ahora vamos a ver algunas de sus características"
   ]
  },
  {
   "cell_type": "code",
   "execution_count": 4,
   "id": "c804cf4f",
   "metadata": {},
   "outputs": [
    {
     "data": {
      "text/plain": [
       "'datos.csv'"
      ]
     },
     "execution_count": 4,
     "metadata": {},
     "output_type": "execute_result"
    }
   ],
   "source": [
    "p.name"
   ]
  },
  {
   "cell_type": "code",
   "execution_count": 5,
   "id": "4286a848",
   "metadata": {},
   "outputs": [
    {
     "data": {
      "text/plain": [
       "'datos'"
      ]
     },
     "execution_count": 5,
     "metadata": {},
     "output_type": "execute_result"
    }
   ],
   "source": [
    "p.stem"
   ]
  },
  {
   "cell_type": "code",
   "execution_count": 6,
   "id": "ec5f2cb4",
   "metadata": {},
   "outputs": [
    {
     "data": {
      "text/plain": [
       "'.csv'"
      ]
     },
     "execution_count": 6,
     "metadata": {},
     "output_type": "execute_result"
    }
   ],
   "source": [
    "p.suffix"
   ]
  },
  {
   "cell_type": "markdown",
   "id": "beeefd7c",
   "metadata": {},
   "source": [
    "Además podemos obtener [algunos datos](https://docs.python.org/3/library/os.html#os.stat_result) del fichero, por ejemplo su tamaño en bytes"
   ]
  },
  {
   "cell_type": "code",
   "execution_count": 7,
   "id": "84a23c36",
   "metadata": {},
   "outputs": [
    {
     "data": {
      "text/plain": [
       "os.stat_result(st_mode=33206, st_ino=2251799813687712, st_dev=3022412528, st_nlink=1, st_uid=0, st_gid=0, st_size=63, st_atime=1676923812, st_mtime=1676923812, st_ctime=1676888054)"
      ]
     },
     "execution_count": 7,
     "metadata": {},
     "output_type": "execute_result"
    }
   ],
   "source": [
    "estad = p.stat() # estadísticas varias\n",
    "estad"
   ]
  },
  {
   "cell_type": "code",
   "execution_count": 8,
   "id": "6023cc7d",
   "metadata": {},
   "outputs": [
    {
     "data": {
      "text/plain": [
       "63"
      ]
     },
     "execution_count": 8,
     "metadata": {},
     "output_type": "execute_result"
    }
   ],
   "source": [
    "estad.st_size "
   ]
  },
  {
   "cell_type": "markdown",
   "id": "948d0f2c",
   "metadata": {},
   "source": [
    "Todas las carpetas y ficheros del path actual (que debe ser una carpeta)"
   ]
  },
  {
   "cell_type": "code",
   "execution_count": 40,
   "id": "bcf1d01f",
   "metadata": {},
   "outputs": [
    {
     "name": "stdout",
     "output_type": "stream",
     "text": [
      "e:\\docencia\\2223\\APD\\codigo\\pandas\n",
      "     .ipynb_checkpoints: carpeta\n",
      "     1numpyShort.ipynb: fichero\n",
      "     2series.ipynb: fichero\n",
      "     3dataframes.ipynb: fichero\n",
      "     4carga.ipynb: fichero\n",
      "     5fechas.ipynb: fichero\n",
      "     datos.csv: fichero\n",
      "     paths.ipynb: fichero\n",
      "     prueba.parquet: fichero\n",
      "     raw: carpeta\n",
      "     resumen.pdf: fichero\n",
      "     series.ipynb: fichero\n",
      "========================================\n"
     ]
    }
   ],
   "source": [
    "def lista(path):\n",
    "    print(path)\n",
    "    espacio = \" \"*5\n",
    "    for p in path.iterdir():\n",
    "        if p.is_dir():\n",
    "            print(espacio,p.name,\": carpeta\",sep=\"\")\n",
    "        else:\n",
    "            if p.is_file():\n",
    "                print(espacio,p.name,\": fichero\",sep=\"\")\n",
    "    print(\"=\"*40)\n",
    "                \n",
    "lista(path)                "
   ]
  },
  {
   "cell_type": "markdown",
   "id": "c78bb296",
   "metadata": {},
   "source": [
    "**Ejercicio** Vamos a crear un dataframe y a grabarlo en dos formatos"
   ]
  },
  {
   "cell_type": "code",
   "execution_count": 10,
   "id": "1de918e5",
   "metadata": {},
   "outputs": [
    {
     "name": "stdout",
     "output_type": "stream",
     "text": [
      "Defaulting to user installation because normal site-packages is not writeable\n",
      "Requirement already satisfied: pyarrow in c:\\users\\rafa\\appdata\\roaming\\python\\python39\\site-packages (11.0.0)\n",
      "Requirement already satisfied: numpy>=1.16.6 in c:\\users\\rafa\\appdata\\roaming\\python\\python39\\site-packages (from pyarrow) (1.23.5)\n"
     ]
    },
    {
     "name": "stderr",
     "output_type": "stream",
     "text": [
      "WARNING: Ignoring invalid distribution -illow (e:\\instalados\\anaconda\\lib\\site-packages)\n",
      "WARNING: Ignoring invalid distribution -illow (e:\\instalados\\anaconda\\lib\\site-packages)\n",
      "WARNING: Ignoring invalid distribution -illow (e:\\instalados\\anaconda\\lib\\site-packages)\n",
      "WARNING: Ignoring invalid distribution -illow (e:\\instalados\\anaconda\\lib\\site-packages)\n",
      "WARNING: Ignoring invalid distribution -illow (e:\\instalados\\anaconda\\lib\\site-packages)\n",
      "WARNING: Ignoring invalid distribution -illow (e:\\instalados\\anaconda\\lib\\site-packages)\n",
      "\n",
      "[notice] A new release of pip available: 22.3.1 -> 23.0\n",
      "[notice] To update, run: python.exe -m pip install --upgrade pip\n"
     ]
    }
   ],
   "source": [
    "!pip install pyarrow"
   ]
  },
  {
   "cell_type": "code",
   "execution_count": 11,
   "id": "285820ad",
   "metadata": {},
   "outputs": [],
   "source": [
    "import pandas as pd\n",
    "import numpy as np\n",
    "from pathlib import Path\n",
    "path = Path.cwd() \n",
    "\n",
    "# datos\n",
    "numcolumnas = 100\n",
    "filas = []\n",
    "numfilas = 10000\n",
    "for i in range(numfilas):\n",
    "    filas.append(np.random.randint(1,5000,numcolumnas))\n",
    "\n",
    "df = pd.DataFrame(filas, columns = [\"c\"+str(i) for i in range(numcolumnas)])\n",
    "fichero_csv = Path(path,\"prueba.csv\")\n",
    "fichero_parquet = Path(path,\"prueba.parquet\")\n",
    "df.to_csv(fichero_csv,index=False)\n",
    "df.to_parquet(fichero_parquet,index=False)"
   ]
  },
  {
   "cell_type": "markdown",
   "id": "493891bd",
   "metadata": {},
   "source": [
    "¿Cuál ocupa menos `fichero_csv`o `fichero_parquet`?"
   ]
  },
  {
   "cell_type": "code",
   "execution_count": 12,
   "id": "3b77d562",
   "metadata": {},
   "outputs": [
    {
     "name": "stdout",
     "output_type": "stream",
     "text": [
      "4788976\n"
     ]
    }
   ],
   "source": [
    "print(fichero_csv.stat().st_size)"
   ]
  },
  {
   "cell_type": "code",
   "execution_count": 13,
   "id": "8007b4fe",
   "metadata": {},
   "outputs": [
    {
     "name": "stdout",
     "output_type": "stream",
     "text": [
      "3415548\n"
     ]
    }
   ],
   "source": [
    "print(fichero_parquet.stat().st_size)"
   ]
  },
  {
   "cell_type": "markdown",
   "id": "f9791554",
   "metadata": {},
   "source": [
    "Comparar el tiempo de lectura"
   ]
  },
  {
   "cell_type": "code",
   "execution_count": 14,
   "id": "397a892d",
   "metadata": {},
   "outputs": [
    {
     "name": "stdout",
     "output_type": "stream",
     "text": [
      "74.9 ms ± 1.23 ms per loop (mean ± std. dev. of 7 runs, 10 loops each)\n"
     ]
    }
   ],
   "source": [
    "%timeit pd.read_csv(fichero_csv)"
   ]
  },
  {
   "cell_type": "code",
   "execution_count": 15,
   "id": "356ddaa7",
   "metadata": {},
   "outputs": [
    {
     "name": "stdout",
     "output_type": "stream",
     "text": [
      "9.68 ms ± 55.7 µs per loop (mean ± std. dev. of 7 runs, 100 loops each)\n"
     ]
    }
   ],
   "source": [
    "%timeit pd.read_parquet(fichero_parquet)"
   ]
  },
  {
   "cell_type": "markdown",
   "id": "fdfc51c4",
   "metadata": {},
   "source": [
    "<a name=\"Creación_de_carpetas\"></a>\n",
    "#### Creación de carpetas"
   ]
  },
  {
   "cell_type": "markdown",
   "id": "090c9f7b",
   "metadata": {},
   "source": [
    "Es un buen hábito tener los datos iniciarles en una carpeta `raw` y dejar los resultados en una carpeta `preprocess`. Para ello debemos ser capaces de crear carpetas si no existen"
   ]
  },
  {
   "cell_type": "code",
   "execution_count": 16,
   "id": "f5afdd5a",
   "metadata": {},
   "outputs": [
    {
     "name": "stdout",
     "output_type": "stream",
     "text": [
      "No existe, lo creamos\n",
      "Creado\n"
     ]
    }
   ],
   "source": [
    "from pathlib import Path\n",
    "path = Path.cwd()  \n",
    "pathraw = Path(path,\"raw\")\n",
    "if pathraw.exists():\n",
    "    print(\"Ya existe\")\n",
    "else:\n",
    "    print(\"No existe, lo creamos\")\n",
    "    pathraw.mkdir()\n",
    "    if pathraw.exists():\n",
    "        print(\"Creado\")\n",
    "    else:\n",
    "        print(\"No se puede crear!!\")"
   ]
  },
  {
   "cell_type": "markdown",
   "id": "08be6de1",
   "metadata": {},
   "source": [
    "Si ya existe y no lo comprobamos  da error"
   ]
  },
  {
   "cell_type": "code",
   "execution_count": 17,
   "id": "593094ab",
   "metadata": {},
   "outputs": [],
   "source": [
    "#pathraw.mkdir() Si quitamos el comentario"
   ]
  },
  {
   "cell_type": "markdown",
   "id": "c96d7520",
   "metadata": {},
   "source": [
    "Pero se puede hacer mejor con el atributo exists_ok, que indica que si ya existe no haga nada (y si no lo crea)"
   ]
  },
  {
   "cell_type": "code",
   "execution_count": 18,
   "id": "2861364e",
   "metadata": {},
   "outputs": [],
   "source": [
    "pathraw.mkdir(exist_ok=True)"
   ]
  },
  {
   "cell_type": "markdown",
   "id": "b87aa0bb",
   "metadata": {},
   "source": [
    "Otro parámetro util para `mkdir` es parents=True, que creará además todos las carpetas intermedias. Esto es muy útil para crear una estructura compleja de ficheros"
   ]
  },
  {
   "cell_type": "code",
   "execution_count": 36,
   "id": "d0adfc11",
   "metadata": {},
   "outputs": [],
   "source": [
    "folders = [\"raw/download/feb\",\"raw/download/mar\",\"raw/download/may\"] \n",
    "for f in folders:\n",
    "    newFolder = Path(path,f)\n",
    "    newFolder.mkdir(exist_ok=True,parents=True)"
   ]
  },
  {
   "cell_type": "markdown",
   "id": "eb539b3b",
   "metadata": {},
   "source": [
    "<a name=\"Borrado\"></a>\n",
    "#### Borrado de carpetas y ficheros"
   ]
  },
  {
   "cell_type": "markdown",
   "id": "1db0e307",
   "metadata": {},
   "source": [
    "En principio disponemos de dos métodos interesantes   \n",
    "    \n",
    "    * path.unlink() borra un fichero\n",
    "    * path.rmdir() borra una carpeta"
   ]
  },
  {
   "cell_type": "code",
   "execution_count": 41,
   "id": "f3e4622d",
   "metadata": {},
   "outputs": [
    {
     "name": "stdout",
     "output_type": "stream",
     "text": [
      "Antes\n",
      "e:\\docencia\\2223\\APD\\codigo\\pandas\n",
      "     .ipynb_checkpoints: carpeta\n",
      "     1numpyShort.ipynb: fichero\n",
      "     2series.ipynb: fichero\n",
      "     3dataframes.ipynb: fichero\n",
      "     4carga.ipynb: fichero\n",
      "     5fechas.ipynb: fichero\n",
      "     datos.csv: fichero\n",
      "     paths.ipynb: fichero\n",
      "     prueba.parquet: fichero\n",
      "     raw: carpeta\n",
      "     resumen.pdf: fichero\n",
      "     series.ipynb: fichero\n",
      "========================================\n",
      "Después\n",
      "e:\\docencia\\2223\\APD\\codigo\\pandas\n",
      "     .ipynb_checkpoints: carpeta\n",
      "     1numpyShort.ipynb: fichero\n",
      "     2series.ipynb: fichero\n",
      "     3dataframes.ipynb: fichero\n",
      "     4carga.ipynb: fichero\n",
      "     5fechas.ipynb: fichero\n",
      "     datos.csv: fichero\n",
      "     paths.ipynb: fichero\n",
      "     prueba.parquet: fichero\n",
      "     raw: carpeta\n",
      "     resumen.pdf: fichero\n",
      "     series.ipynb: fichero\n",
      "========================================\n"
     ]
    }
   ],
   "source": [
    "from pathlib import Path\n",
    "path = Path.cwd() \n",
    "print(\"Antes\")\n",
    "lista(path)\n",
    "fichero_csv = Path(path,\"prueba.csv\")\n",
    "fichero_csv.unlink(missing_ok=True) # no da error aunque no exista\n",
    "print(\"Después\")\n",
    "lista(path)"
   ]
  },
  {
   "cell_type": "markdown",
   "id": "1e7344fb",
   "metadata": {},
   "source": [
    "En el caso de borrar una carpeta debe estar vacía:"
   ]
  },
  {
   "cell_type": "code",
   "execution_count": 21,
   "id": "f1141e60",
   "metadata": {},
   "outputs": [],
   "source": [
    "from pathlib import Path\n",
    "path = Path.cwd() \n",
    "raw_dir = Path(path,\"raw\")\n",
    "#raw_dir.rmdir() si quitamos el comentario dará error"
   ]
  },
  {
   "cell_type": "markdown",
   "id": "3c0bf5f1",
   "metadata": {},
   "source": [
    "Si no queremos borrar elemento a elemento y queremos borrar todo un subárbol podemos usar la librería `shutil`"
   ]
  },
  {
   "cell_type": "code",
   "execution_count": 38,
   "id": "79460363",
   "metadata": {},
   "outputs": [],
   "source": [
    "from shutil import rmtree\n",
    "rmtree(raw_dir,ignore_errors=True) # para que no dé error si no existe"
   ]
  },
  {
   "cell_type": "markdown",
   "id": "e4618eda",
   "metadata": {},
   "source": [
    "<a name=\"Copia\"></a>\n",
    "#### Copia de ficheros\n",
    "Esta biblioteca también nos permite copiar ficheros de un destino a otro\n",
    "\n",
    "Primero creamos algunas carpetas y un fichero de prueba "
   ]
  },
  {
   "cell_type": "code",
   "execution_count": 42,
   "id": "43926c88",
   "metadata": {},
   "outputs": [
    {
     "name": "stdout",
     "output_type": "stream",
     "text": [
      "raw\\download\\feb\n",
      "     datos.csv: fichero\n",
      "========================================\n"
     ]
    }
   ],
   "source": [
    "folders = [\"raw/download/feb\",\"raw/download/mar\",\"raw/download/may\"] \n",
    "for f in folders:\n",
    "    newFolder = Path(path,f)\n",
    "    newFolder.mkdir(exist_ok=True,parents=True)\n",
    "    \n",
    "import pandas as pd\n",
    "df = pd.DataFrame({\"nombre\":[\"Bertoldo\", \"Herminia\",\"Calixta\",\"Aniceto\"],\"edad\":[18,19,24,30]})\n",
    "p = Path(folders[0],\"datos.csv\")\n",
    "df.to_csv(p,index=False)\n",
    "lista(Path(folders[0]))  "
   ]
  },
  {
   "cell_type": "code",
   "execution_count": 44,
   "id": "691cf2f0",
   "metadata": {},
   "outputs": [
    {
     "name": "stdout",
     "output_type": "stream",
     "text": [
      "Antes\n",
      "raw\\download\\mar\n",
      "     datoscopia.csv: fichero\n",
      "========================================\n",
      "después\n",
      "raw\\download\\mar\n",
      "     datoscopia.csv: fichero\n",
      "========================================\n"
     ]
    }
   ],
   "source": [
    "import pathlib\n",
    "import shutil\n",
    "\n",
    "print(\"Antes\")\n",
    "lista(Path(folders[1]))\n",
    "origen=p\n",
    "destino=Path(folders[1],\"datoscopia.csv\")\n",
    "shutil.copy(origen, destino)\n",
    "print(\"después\")\n",
    "lista(Path(folders[1]))\n"
   ]
  },
  {
   "cell_type": "code",
   "execution_count": 50,
   "id": "8985d16a",
   "metadata": {},
   "outputs": [],
   "source": [
    "from shutil import rmtree\n",
    "rmtree(raw_dir,ignore_errors=True) "
   ]
  },
  {
   "cell_type": "markdown",
   "id": "b55ffba0",
   "metadata": {},
   "source": [
    "<a name=\"Zip\"></a>\n",
    "#### Ficheros .zip\n",
    "Esta biblioteca también nos permite copiar ficheros de un destino a otro\n",
    "\n",
    "Primero creamos algunas carpetas y un fichero de prueba "
   ]
  },
  {
   "cell_type": "code",
   "execution_count": 53,
   "id": "e2ec8c01",
   "metadata": {},
   "outputs": [],
   "source": [
    "from pathlib import Path\n",
    "path = Path.cwd() \n",
    "download_dir = Path(path,\"raw/download\")\n",
    "download_dir.mkdir(exist_ok=True,parents=True)\n",
    "\n",
    "fichero = \"meteo22.zip\"\n",
    "path_fich = Path(download_dir,fichero)"
   ]
  },
  {
   "cell_type": "code",
   "execution_count": 55,
   "id": "f27f1d8f",
   "metadata": {},
   "outputs": [
    {
     "name": "stdout",
     "output_type": "stream",
     "text": [
      "Grabado\n",
      "e:\\docencia\\2223\\APD\\codigo\\pandas\\raw\\download\n",
      "     meteo22.zip: fichero\n",
      "========================================\n"
     ]
    }
   ],
   "source": [
    "import requests\n",
    "url = \"https://github.com/RafaelCaballero/tdm/blob/master/datos/madrid/meteo22.zip?raw=true\"\n",
    "r = requests.get(url)\n",
    "if r.status_code==200:\n",
    "    with open(path_fich, 'wb') as f:\n",
    "        f.write(r.content) # ahora lo grabamos localmente\n",
    "    print(\"Grabado\")\n",
    "else:\n",
    "    print(\"Error \",r.status_code)\n",
    "    \n",
    "lista(download_dir)    \n"
   ]
  },
  {
   "cell_type": "markdown",
   "id": "a17fed5a",
   "metadata": {},
   "source": [
    "Utilizamos `unpack_archive` que detecta el tipo de compresión y descomprime automáticamente. El primer parámetro es el fichero y el segundo la carpeta donde debe guardarse"
   ]
  },
  {
   "cell_type": "code",
   "execution_count": 56,
   "id": "f5fd40cf",
   "metadata": {},
   "outputs": [
    {
     "name": "stdout",
     "output_type": "stream",
     "text": [
      "e:\\docencia\\2223\\APD\\codigo\\pandas\\raw\n",
      "     abr_meteo22.csv: fichero\n",
      "     ago_meteo22.csv: fichero\n",
      "     dic_meteo22.csv: fichero\n",
      "     download: carpeta\n",
      "     ene_meteo22.csv: fichero\n",
      "     feb_meteo22.csv: fichero\n",
      "     Interpretación_datos_meteorologicos.pdf: fichero\n",
      "     jul_meteo22.csv: fichero\n",
      "     jun_meteo22.csv: fichero\n",
      "     mar_meteo22.csv: fichero\n",
      "     may_meteo22.csv: fichero\n",
      "     nov_meteo22.csv: fichero\n",
      "     oct_meteo22.csv: fichero\n",
      "     readme.txt: fichero\n",
      "     sep_meteo22.csv: fichero\n",
      "========================================\n"
     ]
    }
   ],
   "source": [
    "import shutil\n",
    "raw_dir = Path(path,\"raw\")\n",
    "shutil.unpack_archive(path_fich, raw_dir)\n",
    "lista(raw_dir)"
   ]
  },
  {
   "cell_type": "code",
   "execution_count": null,
   "id": "32d5b8d2",
   "metadata": {},
   "outputs": [],
   "source": []
  }
 ],
 "metadata": {
  "kernelspec": {
   "display_name": "Python 3 (ipykernel)",
   "language": "python",
   "name": "python3"
  },
  "language_info": {
   "codemirror_mode": {
    "name": "ipython",
    "version": 3
   },
   "file_extension": ".py",
   "mimetype": "text/x-python",
   "name": "python",
   "nbconvert_exporter": "python",
   "pygments_lexer": "ipython3",
   "version": "3.9.12"
  }
 },
 "nbformat": 4,
 "nbformat_minor": 5
}
