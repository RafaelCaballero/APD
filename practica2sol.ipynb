{
 "cells": [
  {
   "cell_type": "markdown",
   "metadata": {},
   "source": [
    "## Adquisición y preprocesamiento de la información\n",
    "\n",
    "<table>\n",
    "    <tr>\n",
    "      <td>Grado en Ingeniería de Datos e Inteligencia Artificial - Facultad de Informática - UCM\n",
    "      </td>\n",
    "      <td>\n",
    "      <img src=\"https://biblioteca.ucm.es/data/cont/media/www/pag-88746//escudo.jpg\"  width=50/>\n",
    "      </td>\n",
    "     </tr>\n",
    "</table>\n",
    "\n",
    "\n",
    "\n",
    "\n",
    "### Práctica \n",
    "\n",
    "No olvidéis los dos nombres de los miembros del grupo"
   ]
  },
  {
   "cell_type": "markdown",
   "metadata": {},
   "source": [
    "Nombre1:"
   ]
  },
  {
   "cell_type": "markdown",
   "metadata": {},
   "source": [
    "Nombre2: "
   ]
  },
  {
   "cell_type": "markdown",
   "metadata": {},
   "source": [
    "#### Carga de datos \n",
    "\n",
    "Ejecutar el siguiente código (no necesitamos entenderlo, pero lo haremos en breve)"
   ]
  },
  {
   "cell_type": "code",
   "execution_count": 1,
   "metadata": {},
   "outputs": [],
   "source": [
    "import pandas as pd\n",
    "import numpy as np\n",
    "df = pd.read_csv(\"https://raw.githubusercontent.com/hadley/data-baby-names/master/baby-names.csv\")\n",
    "\n",
    "nombresSerie = df.name\n",
    "nombres = df.name.values\n",
    "sexo = df.sex.values\n",
    "año = df.year.values"
   ]
  },
  {
   "cell_type": "markdown",
   "metadata": {},
   "source": [
    "Solo debemos saber que:\n",
    "\n",
    "`nombresSerie` representa los nombres de niños incluyendo un índice con la posición (hay 258000 niños, aunque los nombres se repiten, lógicamente)"
   ]
  },
  {
   "cell_type": "code",
   "execution_count": 2,
   "metadata": {},
   "outputs": [
    {
     "data": {
      "text/plain": [
       "0             John\n",
       "1          William\n",
       "2            James\n",
       "3          Charles\n",
       "4           George\n",
       "            ...   \n",
       "257995    Carleigh\n",
       "257996       Iyana\n",
       "257997      Kenley\n",
       "257998      Sloane\n",
       "257999     Elianna\n",
       "Name: name, Length: 258000, dtype: object"
      ]
     },
     "execution_count": 2,
     "metadata": {},
     "output_type": "execute_result"
    }
   ],
   "source": [
    "nombresSerie"
   ]
  },
  {
   "cell_type": "markdown",
   "metadata": {},
   "source": [
    "`nombres`, `sexo`, `año` son los nombres, sexo, y año de nacimiento de los niños, cada uno como un array numpy"
   ]
  },
  {
   "cell_type": "code",
   "execution_count": 3,
   "metadata": {},
   "outputs": [
    {
     "data": {
      "text/plain": [
       "array(['John', 'William', 'James', ..., 'Kenley', 'Sloane', 'Elianna'],\n",
       "      dtype=object)"
      ]
     },
     "execution_count": 3,
     "metadata": {},
     "output_type": "execute_result"
    }
   ],
   "source": [
    "nombres"
   ]
  },
  {
   "cell_type": "code",
   "execution_count": 4,
   "metadata": {},
   "outputs": [
    {
     "data": {
      "text/plain": [
       "array(['boy', 'boy', 'boy', ..., 'girl', 'girl', 'girl'], dtype=object)"
      ]
     },
     "execution_count": 4,
     "metadata": {},
     "output_type": "execute_result"
    }
   ],
   "source": [
    "sexo"
   ]
  },
  {
   "cell_type": "code",
   "execution_count": 5,
   "metadata": {},
   "outputs": [
    {
     "data": {
      "text/plain": [
       "array([1880, 1880, 1880, ..., 2008, 2008, 2008], dtype=int64)"
      ]
     },
     "execution_count": 5,
     "metadata": {},
     "output_type": "execute_result"
    }
   ],
   "source": [
    "año"
   ]
  },
  {
   "cell_type": "markdown",
   "metadata": {},
   "source": [
    "**Pregunta 1**  Escribe código para determinar cuántos niños (sexo 'boy') hay"
   ]
  },
  {
   "cell_type": "code",
   "execution_count": 6,
   "metadata": {},
   "outputs": [
    {
     "data": {
      "text/plain": [
       "129000"
      ]
     },
     "execution_count": 6,
     "metadata": {},
     "output_type": "execute_result"
    }
   ],
   "source": [
    "## Solución\n",
    "(sexo=='boy').sum()"
   ]
  },
  {
   "cell_type": "markdown",
   "metadata": {},
   "source": [
    "**Pregunta 2** Escribe código para determinar cuántos nacidos con posterioridad al año 2000 (es decir del año 2001 inclusive en adelante)"
   ]
  },
  {
   "cell_type": "code",
   "execution_count": 7,
   "metadata": {},
   "outputs": [
    {
     "data": {
      "text/plain": [
       "16000"
      ]
     },
     "execution_count": 7,
     "metadata": {},
     "output_type": "execute_result"
    }
   ],
   "source": [
    "(año>2000).sum()"
   ]
  },
  {
   "cell_type": "markdown",
   "metadata": {},
   "source": [
    "**Pregunta 3**  Escribe código para determinar cuántos nacidos con posterioridad al año 2000 y que sean niñas 'girl'"
   ]
  },
  {
   "cell_type": "code",
   "execution_count": 24,
   "metadata": {},
   "outputs": [
    {
     "data": {
      "text/plain": [
       "8000"
      ]
     },
     "execution_count": 24,
     "metadata": {},
     "output_type": "execute_result"
    }
   ],
   "source": [
    "tras2000 = año>2000\n",
    "chica = sexo=='girl'\n",
    "(tras2000 & chica).sum()"
   ]
  },
  {
   "cell_type": "markdown",
   "metadata": {},
   "source": [
    "**Pregunta 4**\n",
    "¿cúantos nombres diferentes (sin contar apariciones repetidas) hay que sean a la vez de chico y chica?\n",
    "\n",
    "Nota: usar conjuntos (fijarse en la solución de la práctica 1)"
   ]
  },
  {
   "cell_type": "code",
   "execution_count": 9,
   "metadata": {},
   "outputs": [
    {
     "data": {
      "text/plain": [
       "673"
      ]
     },
     "execution_count": 9,
     "metadata": {},
     "output_type": "execute_result"
    }
   ],
   "source": [
    "len(set(nombres[(sexo=='boy')]).intersection(set(nombres[(sexo=='girl')])))"
   ]
  },
  {
   "cell_type": "markdown",
   "metadata": {},
   "source": [
    "**Pregunta 5**\n",
    "\n",
    "Crear un nuevo ndarray (array de numpy) `nombresB` que sea igual que `nombres` salvo porque el nombre `George` ha sido sustituido por `Bertoldo`"
   ]
  },
  {
   "cell_type": "code",
   "execution_count": 23,
   "metadata": {},
   "outputs": [],
   "source": [
    "# Solución\n",
    "nombresB = nombres.copy()\n",
    "nombresB[nombres==\"George\"] = \"Bertoldo\""
   ]
  },
  {
   "cell_type": "code",
   "execution_count": 11,
   "metadata": {},
   "outputs": [
    {
     "name": "stdout",
     "output_type": "stream",
     "text": [
      "205\n"
     ]
    }
   ],
   "source": [
    "# para probar el ejercicio; no modificar este código; deben salir 205\n",
    "print((nombresB==\"Bertoldo\").sum())"
   ]
  },
  {
   "cell_type": "markdown",
   "metadata": {},
   "source": [
    "**Pregunta 67**\n",
    "Vamos a tomar una muestra aleatoria de `nombresSerie`; para ello utilizaremos el método [sample](https://pandas.pydata.org/docs/reference/api/pandas.Series.sample.html) de la clase `Series`. En particular queremos una muestra (sin reemplazmaiento) con el 40% de los datos (mirar la documentación de `sample` un parámetro se encarga de indicar la proporción de filas que devuelve). Llamar al resultado `muestra`"
   ]
  },
  {
   "cell_type": "code",
   "execution_count": 12,
   "metadata": {},
   "outputs": [],
   "source": [
    "# solución\n",
    "muestra = nombresSerie.sample(frac=0.4)"
   ]
  },
  {
   "cell_type": "code",
   "execution_count": 13,
   "metadata": {},
   "outputs": [
    {
     "data": {
      "text/plain": [
       "95720      Agustin\n",
       "85613       Emilio\n",
       "118253      Cooper\n",
       "230545          Jo\n",
       "2128          Noah\n",
       "            ...   \n",
       "248185     Claudia\n",
       "132671       Juana\n",
       "205072    Kimberly\n",
       "110233     Zachery\n",
       "163856      Ardith\n",
       "Name: name, Length: 103200, dtype: object"
      ]
     },
     "execution_count": 13,
     "metadata": {},
     "output_type": "execute_result"
    }
   ],
   "source": [
    "# no tocar este código, es para probar; debe salir la lista de nombres de la muestra con los índices desordenados\n",
    "muestra"
   ]
  },
  {
   "cell_type": "code",
   "execution_count": 14,
   "metadata": {},
   "outputs": [
    {
     "data": {
      "text/plain": [
       "3         Charles\n",
       "7          Thomas\n",
       "12         Walter\n",
       "17          David\n",
       "18          Louis\n",
       "           ...   \n",
       "257986     Amaris\n",
       "257990     Jamiya\n",
       "257992     Laylah\n",
       "257994       Diya\n",
       "257998     Sloane\n",
       "Name: name, Length: 103200, dtype: object"
      ]
     },
     "execution_count": 14,
     "metadata": {},
     "output_type": "execute_result"
    }
   ],
   "source": [
    "# no tocar este código, es para probar; debe salir la lista de nombres con los índices ahora ordenados; se veran \"huecos\"\n",
    "muestra.sort_index()"
   ]
  },
  {
   "cell_type": "markdown",
   "metadata": {},
   "source": [
    "**Pregunta 7** \n",
    "Dentro de `muestra` queremos averiguar cuántos personas tienen nombre que acaba con `a`. Para contar el número de nombres que acaban con 'a' podemos utilizar la función dde `Series` [endswith](https://pandas.pydata.org/docs/reference/api/pandas.Series.str.endswith.html). Usando esta función calcular el número de elementos de `muestra`que acaban en 'a'. Dejar el resultado (un número) en la variable `numas`"
   ]
  },
  {
   "cell_type": "code",
   "execution_count": 15,
   "metadata": {},
   "outputs": [
    {
     "name": "stdout",
     "output_type": "stream",
     "text": [
      "Proporción de nombres que acaban en 'a' 0.20138565891472868\n"
     ]
    }
   ],
   "source": [
    "# Solución\n",
    "numas = muestra.str.endswith('a').sum()\n",
    "\n",
    "# no tocar esto, es para ver el resultado. Eso sí, intentad entender el código. \n",
    "\n",
    "print(\"Proporción de nombres que acaban en 'a'\", numas/len(muestra))"
   ]
  },
  {
   "cell_type": "markdown",
   "metadata": {},
   "source": [
    "**Pregunta 8** Ya sabemos la proporción de nombres en la lista que acaban en 'a', pero querríamos hacerlo mejor distinguiendo por sexos, pero para ello primero tendremos que saber el sexo de cada elemento incluido en muestra; esto podemos hacerlo de forma muy fácil"
   ]
  },
  {
   "cell_type": "code",
   "execution_count": 16,
   "metadata": {},
   "outputs": [
    {
     "data": {
      "text/plain": [
       "array(['boy', 'boy', 'boy', ..., 'girl', 'boy', 'girl'], dtype=object)"
      ]
     },
     "execution_count": 16,
     "metadata": {},
     "output_type": "execute_result"
    }
   ],
   "source": [
    "sexomuestra = sexo[muestra.index]\n",
    "sexomuestra"
   ]
  },
  {
   "cell_type": "markdown",
   "metadata": {},
   "source": [
    "Es importante observar que en `sexomuestra` hay tantos elementos como en `muestra` y están en el mismo orden: el siguiente for muestra los 10 primeros nombres con su sexo"
   ]
  },
  {
   "cell_type": "code",
   "execution_count": 17,
   "metadata": {},
   "outputs": [
    {
     "name": "stdout",
     "output_type": "stream",
     "text": [
      "Agustin boy\n",
      "Emilio boy\n",
      "Cooper boy\n",
      "Jo girl\n",
      "Noah boy\n",
      "Millicent girl\n",
      "Claire girl\n",
      "Forest boy\n",
      "Naomi girl\n",
      "Verda girl\n"
     ]
    }
   ],
   "source": [
    "for i in range(10):\n",
    "    print(muestra.values[i],sexomuestra[i])"
   ]
  },
  {
   "cell_type": "markdown",
   "metadata": {},
   "source": [
    "\n",
    "Ahora queremos obtener la proporción de  chicas en `muestra` cuyo nombre acaba en `a` y la proporción de chicos en `muestra`cuyo nombre acaba en 'a'. Dejaremos los resultados en dos variables, `pchicasa` y `pchicosa`\n",
    "\n",
    "Pista:  usaremos `sexomuestra`, `muestra`, filtros, un cálculo de proporciones inspirado en el print de la pregunta anterior..."
   ]
  },
  {
   "cell_type": "code",
   "execution_count": 18,
   "metadata": {},
   "outputs": [
    {
     "name": "stdout",
     "output_type": "stream",
     "text": [
      "Proporción de chicos cuyo nombre acaba en 'a': 0.016070251618656224, y de chicas: 0.3866005347386368 \n"
     ]
    }
   ],
   "source": [
    "chico = sexomuestra=='boy'\n",
    "chica = ~chico\n",
    "acabaena = muestra.str.endswith('a')\n",
    "\n",
    "pchicosa = (chico & acabaena).sum() / chico.sum()\n",
    "pchicasa = (chica & acabaena).sum() / chica.sum()\n",
    "\n",
    "# No cambiar\n",
    "print(f\"Proporción de chicos cuyo nombre acaba en 'a': {pchicosa}, y de chicas: {pchicasa} \")\n"
   ]
  },
  {
   "cell_type": "markdown",
   "metadata": {},
   "source": [
    "**Pregunta 9** Asumiendo que en 'sexo' solo hay dos valores, chico o chica, ¿Qué frase de la siguientes te parece más correcta al hablar de intentar deducir el sexo de la persona según si su nombre acaba en 'a' o no? Selecciona una opción y escribe una frase que explique tu respuesta\n",
    "\n",
    "    a) El método parece útil para decidir con alta probabilidad  si es chico o chica a partir el nombre\n",
    "    b) El método parece útil para asegurar con alta probabilidad que es chica si acaba en 'a'\n",
    "    c) El método solo parece útil para asegurar con alta probabilidad  que es chico si no acaba en 'a'\n"
   ]
  },
  {
   "cell_type": "markdown",
   "metadata": {},
   "source": [
    "Solución: b) porque la probabilidad de que sea chico acabando en 'a' es mínima "
   ]
  },
  {
   "cell_type": "markdown",
   "metadata": {},
   "source": [
    "**Pregunta 10** \n",
    "Una forma intesante de dividir una Serie en 2 es la siguiente:\n",
    "    \n",
    "1) \"Barajamos\" los elementos de la Serie\n",
    "\n",
    "2) Nos quedamos con los n primeros en una serie nueva y del n en adelante en otra\n",
    "\n",
    "Utilizar este sistema para dividir la serie `nombresSerie` en dos valores de tipo Serie"
   ]
  },
  {
   "cell_type": "code",
   "execution_count": 22,
   "metadata": {},
   "outputs": [
    {
     "name": "stderr",
     "output_type": "stream",
     "text": [
      "C:\\Users\\Rafa\\AppData\\Local\\Temp\\ipykernel_3336\\121297023.py:4: FutureWarning: The behavior of `series[i:j]` with an integer-dtype index is deprecated. In a future version, this will be treated as *label-based* indexing, consistent with e.g. `series[i]` lookups. To retain the old behavior, use `series.iloc[i:j]`. To get the future behavior, use `series.loc[i:j]`.\n",
      "  train =  shuffle[:n]\n",
      "C:\\Users\\Rafa\\AppData\\Local\\Temp\\ipykernel_3336\\121297023.py:5: FutureWarning: The behavior of `series[i:j]` with an integer-dtype index is deprecated. In a future version, this will be treated as *label-based* indexing, consistent with e.g. `series[i]` lookups. To retain the old behavior, use `series.iloc[i:j]`. To get the future behavior, use `series.loc[i:j]`.\n",
      "  test = shuffle[n:]\n"
     ]
    }
   ],
   "source": [
    "# solución\n",
    "n=100000\n",
    "shuffle = nombresSerie.sample(frac=1)\n",
    "train =  shuffle[:n]\n",
    "test = shuffle[n:]"
   ]
  },
  {
   "cell_type": "code",
   "execution_count": null,
   "metadata": {},
   "outputs": [],
   "source": []
  }
 ],
 "metadata": {
  "kernelspec": {
   "display_name": "Python 3 (ipykernel)",
   "language": "python",
   "name": "python3"
  },
  "language_info": {
   "codemirror_mode": {
    "name": "ipython",
    "version": 3
   },
   "file_extension": ".py",
   "mimetype": "text/x-python",
   "name": "python",
   "nbconvert_exporter": "python",
   "pygments_lexer": "ipython3",
   "version": "3.9.12"
  }
 },
 "nbformat": 4,
 "nbformat_minor": 4
}
