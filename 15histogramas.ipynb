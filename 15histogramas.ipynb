{
 "cells": [
  {
   "cell_type": "markdown",
   "id": "8a7c807c",
   "metadata": {},
   "source": [
    "<table>\n",
    "    <tr>\n",
    "      <td>Grado en Ingeniería de Datos e Inteligencia Artificial - Facultad de Informática - UCM\n",
    "      </td>\n",
    "      <td>\n",
    "      <img src=\"https://biblioteca.ucm.es/data/cont/media/www/pag-88746//escudo.jpg\"  width=50/>\n",
    "      </td>\n",
    "     </tr>\n",
    "</table>\n",
    "\n",
    "## Adquisicion y preprocesamiento de datos - RafaC\n",
    "\n",
    "### Descripción variables ratio e intervalo\n",
    "Vamos a analizar este tipo de variables\n",
    "\n",
    "### Índice\n",
    "[Centralidad](#Centralidad)<br>\n",
    "[Dispersión](#Dispersión)<br>\n",
    "[Histogramas](#Histogramas)<br>\n",
    "[Asimetría](#Asimetría)<br>\n",
    "[Curtosis](#Curtosis)<br>\n"
   ]
  },
  {
   "cell_type": "markdown",
   "id": "45be422c",
   "metadata": {},
   "source": [
    "<a name=\"Centralidad\"></a>\n",
    "## Centralidad\n",
    "\n",
    "La idea es intentar reducir la variable completa a un solo valor, un \"centro\". Dos valores principales\n",
    "\n",
    "* Media $\\mu(x) = \\frac{\\displaystyle {\\sum_{i=1}^{N} x_i}}{N}$, donde $x$ es la variable que estamos estudiando formada por $x_1, \\dots, x_N$. La media es la medida de centralidad más popular. Puede verse afectada si hay hay una proporción grande de valores demasiado grandes o pequeños (outliers)\n",
    "\n",
    "* Mediana: valor que deja al 50% de los valores por debajo y el otro 50% por encima\n",
    "\n",
    "\n",
    "\n",
    "Ejemplo: notas obtenidas por diferentes países en las pruebas Pisa en lectura (REA), matemáticas (MAT) y ciencias (SCI) tanto para mujeres (FE) como para hombres (MA). Incluye también la renta per capita (RPC) del país y el nombre (PAIS) del país."
   ]
  },
  {
   "cell_type": "code",
   "execution_count": 1,
   "id": "97b23893",
   "metadata": {},
   "outputs": [
    {
     "name": "stdout",
     "output_type": "stream",
     "text": [
      "<class 'pandas.core.frame.DataFrame'>\n",
      "RangeIndex: 63 entries, 0 to 62\n",
      "Data columns (total 11 columns):\n",
      " #   Column  Non-Null Count  Dtype  \n",
      "---  ------  --------------  -----  \n",
      " 0   RPC     63 non-null     int64  \n",
      " 1   PAIS    63 non-null     object \n",
      " 2   MAT     63 non-null     float64\n",
      " 3   MAT_FE  63 non-null     float64\n",
      " 4   MAT_MA  63 non-null     float64\n",
      " 5   REA     63 non-null     float64\n",
      " 6   REA_FE  63 non-null     float64\n",
      " 7   REA_MA  63 non-null     float64\n",
      " 8   SCI     63 non-null     float64\n",
      " 9   SCI_FE  63 non-null     float64\n",
      " 10  SCI_MA  63 non-null     float64\n",
      "dtypes: float64(9), int64(1), object(1)\n",
      "memory usage: 5.5+ KB\n"
     ]
    }
   ],
   "source": [
    "import pandas as pd\n",
    "url = \"https://raw.githubusercontent.com/RafaelCaballero/tdm/master/datos/PisaDataClean.csv\"\n",
    "df_pisa = pd.read_csv(url)\n",
    "df_pisa.info() # información general, nulos, tipos y memoria que ocupa"
   ]
  },
  {
   "cell_type": "code",
   "execution_count": 2,
   "id": "5f408ba1",
   "metadata": {},
   "outputs": [
    {
     "data": {
      "text/html": [
       "<div>\n",
       "<style scoped>\n",
       "    .dataframe tbody tr th:only-of-type {\n",
       "        vertical-align: middle;\n",
       "    }\n",
       "\n",
       "    .dataframe tbody tr th {\n",
       "        vertical-align: top;\n",
       "    }\n",
       "\n",
       "    .dataframe thead th {\n",
       "        text-align: right;\n",
       "    }\n",
       "</style>\n",
       "<table border=\"1\" class=\"dataframe\">\n",
       "  <thead>\n",
       "    <tr style=\"text-align: right;\">\n",
       "      <th></th>\n",
       "      <th>RPC</th>\n",
       "      <th>MAT</th>\n",
       "      <th>MAT_FE</th>\n",
       "      <th>MAT_MA</th>\n",
       "      <th>REA</th>\n",
       "      <th>REA_FE</th>\n",
       "      <th>REA_MA</th>\n",
       "      <th>SCI</th>\n",
       "      <th>SCI_FE</th>\n",
       "      <th>SCI_MA</th>\n",
       "    </tr>\n",
       "  </thead>\n",
       "  <tbody>\n",
       "    <tr>\n",
       "      <th>count</th>\n",
       "      <td>63.000000</td>\n",
       "      <td>63.000000</td>\n",
       "      <td>63.000000</td>\n",
       "      <td>63.000000</td>\n",
       "      <td>63.000000</td>\n",
       "      <td>63.000000</td>\n",
       "      <td>63.000000</td>\n",
       "      <td>63.000000</td>\n",
       "      <td>63.000000</td>\n",
       "      <td>63.000000</td>\n",
       "    </tr>\n",
       "    <tr>\n",
       "      <th>mean</th>\n",
       "      <td>38231.492063</td>\n",
       "      <td>458.878611</td>\n",
       "      <td>456.666206</td>\n",
       "      <td>461.112029</td>\n",
       "      <td>461.764438</td>\n",
       "      <td>476.860812</td>\n",
       "      <td>446.760410</td>\n",
       "      <td>464.924883</td>\n",
       "      <td>465.160165</td>\n",
       "      <td>464.733040</td>\n",
       "    </tr>\n",
       "    <tr>\n",
       "      <th>std</th>\n",
       "      <td>23866.666268</td>\n",
       "      <td>50.811613</td>\n",
       "      <td>49.576609</td>\n",
       "      <td>52.334665</td>\n",
       "      <td>46.212095</td>\n",
       "      <td>45.164406</td>\n",
       "      <td>48.360072</td>\n",
       "      <td>46.687935</td>\n",
       "      <td>45.151592</td>\n",
       "      <td>48.831863</td>\n",
       "    </tr>\n",
       "    <tr>\n",
       "      <th>min</th>\n",
       "      <td>5998.000000</td>\n",
       "      <td>327.702000</td>\n",
       "      <td>329.745931</td>\n",
       "      <td>325.586561</td>\n",
       "      <td>349.859300</td>\n",
       "      <td>366.208167</td>\n",
       "      <td>335.185436</td>\n",
       "      <td>331.638800</td>\n",
       "      <td>330.828991</td>\n",
       "      <td>332.477015</td>\n",
       "    </tr>\n",
       "    <tr>\n",
       "      <th>25%</th>\n",
       "      <td>21072.000000</td>\n",
       "      <td>417.588750</td>\n",
       "      <td>417.128338</td>\n",
       "      <td>418.260475</td>\n",
       "      <td>427.012750</td>\n",
       "      <td>442.215541</td>\n",
       "      <td>412.238123</td>\n",
       "      <td>426.357250</td>\n",
       "      <td>430.377770</td>\n",
       "      <td>423.049407</td>\n",
       "    </tr>\n",
       "    <tr>\n",
       "      <th>50%</th>\n",
       "      <td>33842.000000</td>\n",
       "      <td>476.830900</td>\n",
       "      <td>472.739508</td>\n",
       "      <td>477.767728</td>\n",
       "      <td>478.960600</td>\n",
       "      <td>492.034800</td>\n",
       "      <td>460.103602</td>\n",
       "      <td>475.391200</td>\n",
       "      <td>472.586346</td>\n",
       "      <td>471.766923</td>\n",
       "    </tr>\n",
       "    <tr>\n",
       "      <th>75%</th>\n",
       "      <td>49016.500000</td>\n",
       "      <td>494.870800</td>\n",
       "      <td>493.087239</td>\n",
       "      <td>499.616330</td>\n",
       "      <td>498.915150</td>\n",
       "      <td>510.021003</td>\n",
       "      <td>487.043469</td>\n",
       "      <td>501.686100</td>\n",
       "      <td>497.087670</td>\n",
       "      <td>505.496834</td>\n",
       "    </tr>\n",
       "    <tr>\n",
       "      <th>max</th>\n",
       "      <td>128702.000000</td>\n",
       "      <td>564.189700</td>\n",
       "      <td>564.254534</td>\n",
       "      <td>564.129003</td>\n",
       "      <td>535.100200</td>\n",
       "      <td>550.511164</td>\n",
       "      <td>525.315266</td>\n",
       "      <td>555.574700</td>\n",
       "      <td>552.273031</td>\n",
       "      <td>558.663734</td>\n",
       "    </tr>\n",
       "  </tbody>\n",
       "</table>\n",
       "</div>"
      ],
      "text/plain": [
       "                 RPC         MAT      MAT_FE      MAT_MA         REA  \\\n",
       "count      63.000000   63.000000   63.000000   63.000000   63.000000   \n",
       "mean    38231.492063  458.878611  456.666206  461.112029  461.764438   \n",
       "std     23866.666268   50.811613   49.576609   52.334665   46.212095   \n",
       "min      5998.000000  327.702000  329.745931  325.586561  349.859300   \n",
       "25%     21072.000000  417.588750  417.128338  418.260475  427.012750   \n",
       "50%     33842.000000  476.830900  472.739508  477.767728  478.960600   \n",
       "75%     49016.500000  494.870800  493.087239  499.616330  498.915150   \n",
       "max    128702.000000  564.189700  564.254534  564.129003  535.100200   \n",
       "\n",
       "           REA_FE      REA_MA         SCI      SCI_FE      SCI_MA  \n",
       "count   63.000000   63.000000   63.000000   63.000000   63.000000  \n",
       "mean   476.860812  446.760410  464.924883  465.160165  464.733040  \n",
       "std     45.164406   48.360072   46.687935   45.151592   48.831863  \n",
       "min    366.208167  335.185436  331.638800  330.828991  332.477015  \n",
       "25%    442.215541  412.238123  426.357250  430.377770  423.049407  \n",
       "50%    492.034800  460.103602  475.391200  472.586346  471.766923  \n",
       "75%    510.021003  487.043469  501.686100  497.087670  505.496834  \n",
       "max    550.511164  525.315266  555.574700  552.273031  558.663734  "
      ]
     },
     "execution_count": 2,
     "metadata": {},
     "output_type": "execute_result"
    }
   ],
   "source": [
    "# nos quedamos solo con los datos que sean números (asumimos que hemos comprobado que todos son ratio o intervalo)\n",
    "df_pisa_num = df_pisa.select_dtypes(include=[\"number\"])\n",
    "desc_pisa = df_pisa_num.describe()\n",
    "desc_pisa"
   ]
  },
  {
   "cell_type": "code",
   "execution_count": 3,
   "id": "cc785e49",
   "metadata": {},
   "outputs": [
    {
     "data": {
      "text/html": [
       "<div>\n",
       "<style scoped>\n",
       "    .dataframe tbody tr th:only-of-type {\n",
       "        vertical-align: middle;\n",
       "    }\n",
       "\n",
       "    .dataframe tbody tr th {\n",
       "        vertical-align: top;\n",
       "    }\n",
       "\n",
       "    .dataframe thead th {\n",
       "        text-align: right;\n",
       "    }\n",
       "</style>\n",
       "<table border=\"1\" class=\"dataframe\">\n",
       "  <thead>\n",
       "    <tr style=\"text-align: right;\">\n",
       "      <th></th>\n",
       "      <th>RPC</th>\n",
       "      <th>MAT</th>\n",
       "      <th>MAT_FE</th>\n",
       "      <th>MAT_MA</th>\n",
       "      <th>REA</th>\n",
       "      <th>REA_FE</th>\n",
       "      <th>REA_MA</th>\n",
       "      <th>SCI</th>\n",
       "      <th>SCI_FE</th>\n",
       "      <th>SCI_MA</th>\n",
       "    </tr>\n",
       "  </thead>\n",
       "  <tbody>\n",
       "    <tr>\n",
       "      <th>mean</th>\n",
       "      <td>38231.492063</td>\n",
       "      <td>458.878611</td>\n",
       "      <td>456.666206</td>\n",
       "      <td>461.112029</td>\n",
       "      <td>461.764438</td>\n",
       "      <td>476.860812</td>\n",
       "      <td>446.760410</td>\n",
       "      <td>464.924883</td>\n",
       "      <td>465.160165</td>\n",
       "      <td>464.733040</td>\n",
       "    </tr>\n",
       "    <tr>\n",
       "      <th>50%</th>\n",
       "      <td>33842.000000</td>\n",
       "      <td>476.830900</td>\n",
       "      <td>472.739508</td>\n",
       "      <td>477.767728</td>\n",
       "      <td>478.960600</td>\n",
       "      <td>492.034800</td>\n",
       "      <td>460.103602</td>\n",
       "      <td>475.391200</td>\n",
       "      <td>472.586346</td>\n",
       "      <td>471.766923</td>\n",
       "    </tr>\n",
       "  </tbody>\n",
       "</table>\n",
       "</div>"
      ],
      "text/plain": [
       "               RPC         MAT      MAT_FE      MAT_MA         REA  \\\n",
       "mean  38231.492063  458.878611  456.666206  461.112029  461.764438   \n",
       "50%   33842.000000  476.830900  472.739508  477.767728  478.960600   \n",
       "\n",
       "          REA_FE      REA_MA         SCI      SCI_FE      SCI_MA  \n",
       "mean  476.860812  446.760410  464.924883  465.160165  464.733040  \n",
       "50%   492.034800  460.103602  475.391200  472.586346  471.766923  "
      ]
     },
     "execution_count": 3,
     "metadata": {},
     "output_type": "execute_result"
    }
   ],
   "source": [
    "# Nos quedamos solo con media y mediana\n",
    "desc_pisa.loc[[\"mean\",\"50%\"]]"
   ]
  },
  {
   "cell_type": "code",
   "execution_count": 4,
   "id": "967c7778",
   "metadata": {},
   "outputs": [
    {
     "data": {
      "text/plain": [
       "(458.8786111111111, 476.8309)"
      ]
     },
     "execution_count": 4,
     "metadata": {},
     "output_type": "execute_result"
    }
   ],
   "source": [
    "# otra forma, solo para una variable\n",
    "df_pisa.MAT.mean(), df_pisa.MAT.median()"
   ]
  },
  {
   "cell_type": "markdown",
   "id": "0c421350",
   "metadata": {},
   "source": [
    "<a name=\"Dispersión\"></a>\n",
    "## Dispersión\n",
    "\n",
    "Si las medidas de centralidad dan la idea de un \"centro\" de la variable, la media de dispersión sería el \"radio\" indica lo alejados que están de ese centro. Vamos a ver 2 cada uno relacionado con una de las medidas de centralidad\n",
    "\n",
    "* Desviación típica $\\sigma(x)=\\sqrt{\\frac{{\\displaystyle \\sum_{i=1}^{N}\\left(x_{i}-\\mu\\right)^{2}}}{N}}$, la raíz cuadrada de la varianza\n",
    "\n",
    "* Desviación absoluta con respecto a la mediana $\\mathit{MAD}(x) = mediana(|x_i - mediana(x)|)$"
   ]
  },
  {
   "cell_type": "code",
   "execution_count": 5,
   "id": "42161689",
   "metadata": {},
   "outputs": [
    {
     "data": {
      "text/plain": [
       "(50.81161280035877, 34.24600000000004)"
      ]
     },
     "execution_count": 5,
     "metadata": {},
     "output_type": "execute_result"
    }
   ],
   "source": [
    "df_pisa.MAT.std(), (df_pisa.MAT - df_pisa.MAT.median()).abs().median()"
   ]
  },
  {
   "cell_type": "code",
   "execution_count": 6,
   "id": "e8eb4de6",
   "metadata": {},
   "outputs": [
    {
     "data": {
      "text/html": [
       "<div>\n",
       "<style scoped>\n",
       "    .dataframe tbody tr th:only-of-type {\n",
       "        vertical-align: middle;\n",
       "    }\n",
       "\n",
       "    .dataframe tbody tr th {\n",
       "        vertical-align: top;\n",
       "    }\n",
       "\n",
       "    .dataframe thead th {\n",
       "        text-align: right;\n",
       "    }\n",
       "</style>\n",
       "<table border=\"1\" class=\"dataframe\">\n",
       "  <thead>\n",
       "    <tr style=\"text-align: right;\">\n",
       "      <th></th>\n",
       "      <th>mean</th>\n",
       "      <th>median</th>\n",
       "      <th>std</th>\n",
       "      <th>MAD</th>\n",
       "    </tr>\n",
       "  </thead>\n",
       "  <tbody>\n",
       "    <tr>\n",
       "      <th>RPC</th>\n",
       "      <td>38231.492063</td>\n",
       "      <td>33842.000000</td>\n",
       "      <td>23866.666268</td>\n",
       "      <td>14416.000000</td>\n",
       "    </tr>\n",
       "    <tr>\n",
       "      <th>MAT</th>\n",
       "      <td>458.878611</td>\n",
       "      <td>476.830900</td>\n",
       "      <td>50.811613</td>\n",
       "      <td>34.246000</td>\n",
       "    </tr>\n",
       "    <tr>\n",
       "      <th>MAT_FE</th>\n",
       "      <td>456.666206</td>\n",
       "      <td>472.739508</td>\n",
       "      <td>49.576609</td>\n",
       "      <td>33.205437</td>\n",
       "    </tr>\n",
       "    <tr>\n",
       "      <th>MAT_MA</th>\n",
       "      <td>461.112029</td>\n",
       "      <td>477.767728</td>\n",
       "      <td>52.334665</td>\n",
       "      <td>36.234844</td>\n",
       "    </tr>\n",
       "    <tr>\n",
       "      <th>REA</th>\n",
       "      <td>461.764438</td>\n",
       "      <td>478.960600</td>\n",
       "      <td>46.212095</td>\n",
       "      <td>34.230600</td>\n",
       "    </tr>\n",
       "    <tr>\n",
       "      <th>REA_FE</th>\n",
       "      <td>476.860812</td>\n",
       "      <td>492.034800</td>\n",
       "      <td>45.164406</td>\n",
       "      <td>33.485054</td>\n",
       "    </tr>\n",
       "    <tr>\n",
       "      <th>REA_MA</th>\n",
       "      <td>446.760410</td>\n",
       "      <td>460.103602</td>\n",
       "      <td>48.360072</td>\n",
       "      <td>35.806712</td>\n",
       "    </tr>\n",
       "    <tr>\n",
       "      <th>SCI</th>\n",
       "      <td>464.924883</td>\n",
       "      <td>475.391200</td>\n",
       "      <td>46.687935</td>\n",
       "      <td>33.830300</td>\n",
       "    </tr>\n",
       "    <tr>\n",
       "      <th>SCI_FE</th>\n",
       "      <td>465.160165</td>\n",
       "      <td>472.586346</td>\n",
       "      <td>45.151592</td>\n",
       "      <td>32.968941</td>\n",
       "    </tr>\n",
       "    <tr>\n",
       "      <th>SCI_MA</th>\n",
       "      <td>464.733040</td>\n",
       "      <td>471.766923</td>\n",
       "      <td>48.831863</td>\n",
       "      <td>37.823431</td>\n",
       "    </tr>\n",
       "  </tbody>\n",
       "</table>\n",
       "</div>"
      ],
      "text/plain": [
       "                mean        median           std           MAD\n",
       "RPC     38231.492063  33842.000000  23866.666268  14416.000000\n",
       "MAT       458.878611    476.830900     50.811613     34.246000\n",
       "MAT_FE    456.666206    472.739508     49.576609     33.205437\n",
       "MAT_MA    461.112029    477.767728     52.334665     36.234844\n",
       "REA       461.764438    478.960600     46.212095     34.230600\n",
       "REA_FE    476.860812    492.034800     45.164406     33.485054\n",
       "REA_MA    446.760410    460.103602     48.360072     35.806712\n",
       "SCI       464.924883    475.391200     46.687935     33.830300\n",
       "SCI_FE    465.160165    472.586346     45.151592     32.968941\n",
       "SCI_MA    464.733040    471.766923     48.831863     37.823431"
      ]
     },
     "execution_count": 6,
     "metadata": {},
     "output_type": "execute_result"
    }
   ],
   "source": [
    "datos = []\n",
    "for c in df_pisa_num.columns:\n",
    "    variable = df_pisa[c]\n",
    "    datos.append([variable.mean(), variable.median(), variable.std(), (variable-variable.median()).abs().median()])\n",
    "    \n",
    "estad = pd.DataFrame(datos,columns=[\"mean\",\"median\",\"std\",\"MAD\"],index=df_pisa_num.columns)    \n",
    "estad"
   ]
  },
  {
   "cell_type": "markdown",
   "id": "9675877a",
   "metadata": {},
   "source": [
    "Algunas consecuencias sencillas:\n",
    "* De media parece que los hombres lo hacen mejor en matemáticas y las mujeres en lectura, en ciencia la diferencia es muy pequeña\n",
    "* De media se obtiene mejor nota en ciencias que en lectura, y en lectura que en matemáticas\n",
    "* En general la mediana es mayor que la media indicando una mayor dispersión a la izquierda\n",
    "* La mayor dispersión `std` se da en MAT_MA, pero si nos fijamos en la mediana es SCI_MA (quizás MAT_MA tiene más outliers?)\n",
    "* La menor dispersión `std` se da en REA_FE y en SCI_FE, aunque desde el punto de vista de MAD se da en SCI_FE y MAT_FE. En todo caso parece que las notas para las chicas varían menos de país en país que en el caso de los chicos (¿por qué?)"
   ]
  },
  {
   "cell_type": "markdown",
   "id": "8ed7ec70",
   "metadata": {},
   "source": [
    "<a name=\"Histogramas\"></a>\n",
    "## Histogramas\n",
    "\n",
    "* No debe confundirse con diagrama de barras, donde se representan datos categóricos nominal\n",
    "\n",
    "* Un histograma representa la frecuencia (número de elementos) en una variable (ratio u intervalo) representada por intervalos, nos permite ver la distribución de la variable (algo que no se pretende con el diagrama de barras) \n",
    "\n",
    "* En el caso de valores ordinales se puede usar un \"diagrama de barras ordenado\"\n",
    "\n",
    "Ejemplo"
   ]
  },
  {
   "cell_type": "code",
   "execution_count": 7,
   "id": "0529db9b",
   "metadata": {},
   "outputs": [
    {
     "data": {
      "image/png": "[encoded data removed]",
      "text/plain": [
       "<Figure size 640x480 with 1 Axes>"
      ]
     },
     "metadata": {},
     "output_type": "display_data"
    }
   ],
   "source": [
    "import numpy as np \n",
    "import matplotlib.pyplot as plt \n",
    "\n",
    "#generate a random numpy array with 1000 elements\n",
    "normaldata = np.random.randn(100000)\n",
    "data=normaldata\n",
    "\n",
    "#histograma\n",
    "plt.hist(data,edgecolor=\"black\", bins =30)\n",
    "\n",
    "#añadimos título\n",
    "plt.title(\"Histograma\")\n",
    "\n",
    "#etiqueta en X\n",
    "plt.xlabel(\"Valores\")\n",
    "\n",
    "#etiqueta en y\n",
    "plt.ylabel(\"Frecuencias\")\n",
    "\n",
    "# mostrarlo\n",
    "plt.show()"
   ]
  },
  {
   "cell_type": "code",
   "execution_count": 8,
   "id": "3e7a51ca",
   "metadata": {},
   "outputs": [
    {
     "data": {
      "text/plain": [
       "(-0.00027038546377990266, 0.999876468718308, -0.0022616727267600915)"
      ]
     },
     "execution_count": 8,
     "metadata": {},
     "output_type": "execute_result"
    }
   ],
   "source": [
    "data.mean(), data.std(), np.median(data)"
   ]
  },
  {
   "cell_type": "markdown",
   "id": "6ec55e74",
   "metadata": {},
   "source": [
    "Con `density=True` conseguimos frecuencias relativas"
   ]
  },
  {
   "cell_type": "code",
   "execution_count": 9,
   "id": "13a7e93e",
   "metadata": {},
   "outputs": [
    {
     "data": {
      "image/png": "[encoded data removed]",
      "text/plain": [
       "<Figure size 640x480 with 1 Axes>"
      ]
     },
     "metadata": {},
     "output_type": "display_data"
    }
   ],
   "source": [
    "#histograma\n",
    "plt.hist(data,edgecolor=\"black\", bins =30, density=True)\n",
    "\n",
    "#añadimos título\n",
    "plt.title(\"Histograma\")\n",
    "\n",
    "#etiqueta en X\n",
    "plt.xlabel(\"Valores\")\n",
    "\n",
    "#etiqueta en y\n",
    "plt.ylabel(\"Frecuencias\")\n",
    "\n",
    "# mostrarlo\n",
    "plt.show()"
   ]
  },
  {
   "cell_type": "markdown",
   "id": "a38694cb",
   "metadata": {},
   "source": [
    "Cuando tenemos una normal \"perfecta\"  se tiene que \n",
    "<img src=\"https://news.mit.edu/sites/default/files/styles/news_article__image_gallery/public/images/201202/20120208160239-1_0.jpg?itok=1X1a_HCs\" width=400></img>\n",
    "\n",
    "13.6 + 34.1 + 13.6 + 34.1 = 95.4% es decir casi el 95% de los valores estarán entre la media y +- 2 la desviación típica"
   ]
  },
  {
   "cell_type": "code",
   "execution_count": 10,
   "id": "bbb010bd",
   "metadata": {},
   "outputs": [
    {
     "data": {
      "text/plain": [
       "0.95478"
      ]
     },
     "execution_count": 10,
     "metadata": {},
     "output_type": "execute_result"
    }
   ],
   "source": [
    "m = data.mean()\n",
    "s = data.std()\n",
    "\n",
    "sum((data < m+2*s) & (data >m-2*s))/len(data)"
   ]
  },
  {
   "cell_type": "markdown",
   "id": "6fd33421",
   "metadata": {},
   "source": [
    "<a name=\"Asimetría\"></a>\n",
    "## Asimetría\n",
    "\n",
    "Asimetría a la derecha: muchos datos acumulados en poco espacio a la izquierda, a la derecha un descenso lento y prolongado\n",
    "\n",
    "* Se tendrá que media>mediana\n",
    "* Normalmente solo tendremos que preocuparnos por outliers a la derecha, es decir por valores \"excesivamente grandes\"\n",
    "* Sucede por ejemplo en mediciones que por su naturaleza son todas positivas\n",
    "* Puede tener sentido hacer un estudio diferente a la izquierda y a la derecha de la mediana"
   ]
  },
  {
   "cell_type": "code",
   "execution_count": 11,
   "id": "c1b9098b",
   "metadata": {},
   "outputs": [
    {
     "data": {
      "text/html": [
       "<div>\n",
       "<style scoped>\n",
       "    .dataframe tbody tr th:only-of-type {\n",
       "        vertical-align: middle;\n",
       "    }\n",
       "\n",
       "    .dataframe tbody tr th {\n",
       "        vertical-align: top;\n",
       "    }\n",
       "\n",
       "    .dataframe thead th {\n",
       "        text-align: right;\n",
       "    }\n",
       "</style>\n",
       "<table border=\"1\" class=\"dataframe\">\n",
       "  <thead>\n",
       "    <tr style=\"text-align: right;\">\n",
       "      <th></th>\n",
       "      <th>ANO</th>\n",
       "      <th>MES</th>\n",
       "      <th>DIA</th>\n",
       "      <th>HORA</th>\n",
       "      <th>CO</th>\n",
       "      <th>NO</th>\n",
       "      <th>NO2</th>\n",
       "      <th>PM2.5</th>\n",
       "      <th>PM10</th>\n",
       "      <th>NOx</th>\n",
       "      <th>O3</th>\n",
       "      <th>fechaH</th>\n",
       "      <th>fecha</th>\n",
       "      <th>festivo</th>\n",
       "    </tr>\n",
       "  </thead>\n",
       "  <tbody>\n",
       "    <tr>\n",
       "      <th>0</th>\n",
       "      <td>2019.0</td>\n",
       "      <td>1.0</td>\n",
       "      <td>1.0</td>\n",
       "      <td>1.0</td>\n",
       "      <td>0.6</td>\n",
       "      <td>81.0</td>\n",
       "      <td>73.0</td>\n",
       "      <td>NaN</td>\n",
       "      <td>NaN</td>\n",
       "      <td>196</td>\n",
       "      <td>3.08</td>\n",
       "      <td>2019-01-01 00:00:00</td>\n",
       "      <td>2019-01-01 00:00:00</td>\n",
       "      <td>festivo</td>\n",
       "    </tr>\n",
       "    <tr>\n",
       "      <th>1</th>\n",
       "      <td>2019.0</td>\n",
       "      <td>1.0</td>\n",
       "      <td>1.0</td>\n",
       "      <td>2.0</td>\n",
       "      <td>0.8</td>\n",
       "      <td>124.0</td>\n",
       "      <td>82.0</td>\n",
       "      <td>NaN</td>\n",
       "      <td>NaN</td>\n",
       "      <td>272</td>\n",
       "      <td>3.05</td>\n",
       "      <td>2019-01-01 01:00:00</td>\n",
       "      <td>2019-01-01 00:00:00</td>\n",
       "      <td>festivo</td>\n",
       "    </tr>\n",
       "    <tr>\n",
       "      <th>2</th>\n",
       "      <td>2019.0</td>\n",
       "      <td>1.0</td>\n",
       "      <td>1.0</td>\n",
       "      <td>3.0</td>\n",
       "      <td>0.7</td>\n",
       "      <td>93.0</td>\n",
       "      <td>72.0</td>\n",
       "      <td>NaN</td>\n",
       "      <td>NaN</td>\n",
       "      <td>215</td>\n",
       "      <td>3.13</td>\n",
       "      <td>2019-01-01 02:00:00</td>\n",
       "      <td>2019-01-01 00:00:00</td>\n",
       "      <td>festivo</td>\n",
       "    </tr>\n",
       "    <tr>\n",
       "      <th>3</th>\n",
       "      <td>2019.0</td>\n",
       "      <td>1.0</td>\n",
       "      <td>1.0</td>\n",
       "      <td>4.0</td>\n",
       "      <td>0.6</td>\n",
       "      <td>86.0</td>\n",
       "      <td>66.0</td>\n",
       "      <td>NaN</td>\n",
       "      <td>NaN</td>\n",
       "      <td>198</td>\n",
       "      <td>3.02</td>\n",
       "      <td>2019-01-01 03:00:00</td>\n",
       "      <td>2019-01-01 00:00:00</td>\n",
       "      <td>festivo</td>\n",
       "    </tr>\n",
       "    <tr>\n",
       "      <th>4</th>\n",
       "      <td>2019.0</td>\n",
       "      <td>1.0</td>\n",
       "      <td>1.0</td>\n",
       "      <td>5.0</td>\n",
       "      <td>0.6</td>\n",
       "      <td>79.0</td>\n",
       "      <td>64.0</td>\n",
       "      <td>NaN</td>\n",
       "      <td>NaN</td>\n",
       "      <td>185</td>\n",
       "      <td>2.98</td>\n",
       "      <td>2019-01-01 04:00:00</td>\n",
       "      <td>2019-01-01 00:00:00</td>\n",
       "      <td>festivo</td>\n",
       "    </tr>\n",
       "    <tr>\n",
       "      <th>...</th>\n",
       "      <td>...</td>\n",
       "      <td>...</td>\n",
       "      <td>...</td>\n",
       "      <td>...</td>\n",
       "      <td>...</td>\n",
       "      <td>...</td>\n",
       "      <td>...</td>\n",
       "      <td>...</td>\n",
       "      <td>...</td>\n",
       "      <td>...</td>\n",
       "      <td>...</td>\n",
       "      <td>...</td>\n",
       "      <td>...</td>\n",
       "      <td>...</td>\n",
       "    </tr>\n",
       "    <tr>\n",
       "      <th>24021</th>\n",
       "      <td>2021.0</td>\n",
       "      <td>9.0</td>\n",
       "      <td>30.0</td>\n",
       "      <td>20.0</td>\n",
       "      <td>0.3</td>\n",
       "      <td>27.0</td>\n",
       "      <td>80.0</td>\n",
       "      <td>17.0</td>\n",
       "      <td>23.0</td>\n",
       "      <td>122</td>\n",
       "      <td>NaN</td>\n",
       "      <td>2021-09-30 19:00:00</td>\n",
       "      <td>2021-09-30 00:00:00</td>\n",
       "      <td>laborable</td>\n",
       "    </tr>\n",
       "    <tr>\n",
       "      <th>24022</th>\n",
       "      <td>2021.0</td>\n",
       "      <td>9.0</td>\n",
       "      <td>30.0</td>\n",
       "      <td>21.0</td>\n",
       "      <td>1.1</td>\n",
       "      <td>168.0</td>\n",
       "      <td>153.0</td>\n",
       "      <td>19.0</td>\n",
       "      <td>30.0</td>\n",
       "      <td>411</td>\n",
       "      <td>NaN</td>\n",
       "      <td>2021-09-30 20:00:00</td>\n",
       "      <td>2021-09-30 00:00:00</td>\n",
       "      <td>laborable</td>\n",
       "    </tr>\n",
       "    <tr>\n",
       "      <th>24023</th>\n",
       "      <td>2021.0</td>\n",
       "      <td>9.0</td>\n",
       "      <td>30.0</td>\n",
       "      <td>22.0</td>\n",
       "      <td>1.0</td>\n",
       "      <td>179.0</td>\n",
       "      <td>157.0</td>\n",
       "      <td>28.0</td>\n",
       "      <td>44.0</td>\n",
       "      <td>431</td>\n",
       "      <td>NaN</td>\n",
       "      <td>2021-09-30 21:00:00</td>\n",
       "      <td>2021-09-30 00:00:00</td>\n",
       "      <td>laborable</td>\n",
       "    </tr>\n",
       "    <tr>\n",
       "      <th>24024</th>\n",
       "      <td>2021.0</td>\n",
       "      <td>9.0</td>\n",
       "      <td>30.0</td>\n",
       "      <td>23.0</td>\n",
       "      <td>0.8</td>\n",
       "      <td>115.0</td>\n",
       "      <td>133.0</td>\n",
       "      <td>27.0</td>\n",
       "      <td>43.0</td>\n",
       "      <td>309</td>\n",
       "      <td>NaN</td>\n",
       "      <td>2021-09-30 22:00:00</td>\n",
       "      <td>2021-09-30 00:00:00</td>\n",
       "      <td>laborable</td>\n",
       "    </tr>\n",
       "    <tr>\n",
       "      <th>24025</th>\n",
       "      <td>2021.0</td>\n",
       "      <td>9.0</td>\n",
       "      <td>30.0</td>\n",
       "      <td>24.0</td>\n",
       "      <td>0.4</td>\n",
       "      <td>19.0</td>\n",
       "      <td>102.0</td>\n",
       "      <td>20.0</td>\n",
       "      <td>30.0</td>\n",
       "      <td>130</td>\n",
       "      <td>NaN</td>\n",
       "      <td>2021-09-30 23:00:00</td>\n",
       "      <td>2021-09-30 00:00:00</td>\n",
       "      <td>laborable</td>\n",
       "    </tr>\n",
       "  </tbody>\n",
       "</table>\n",
       "<p>24026 rows × 14 columns</p>\n",
       "</div>"
      ],
      "text/plain": [
       "          ANO  MES   DIA  HORA   CO     NO    NO2  PM2.5  PM10  NOx    O3  \\\n",
       "0      2019.0  1.0   1.0   1.0  0.6   81.0   73.0    NaN   NaN  196  3.08   \n",
       "1      2019.0  1.0   1.0   2.0  0.8  124.0   82.0    NaN   NaN  272  3.05   \n",
       "2      2019.0  1.0   1.0   3.0  0.7   93.0   72.0    NaN   NaN  215  3.13   \n",
       "3      2019.0  1.0   1.0   4.0  0.6   86.0   66.0    NaN   NaN  198  3.02   \n",
       "4      2019.0  1.0   1.0   5.0  0.6   79.0   64.0    NaN   NaN  185  2.98   \n",
       "...       ...  ...   ...   ...  ...    ...    ...    ...   ...  ...   ...   \n",
       "24021  2021.0  9.0  30.0  20.0  0.3   27.0   80.0   17.0  23.0  122   NaN   \n",
       "24022  2021.0  9.0  30.0  21.0  1.1  168.0  153.0   19.0  30.0  411   NaN   \n",
       "24023  2021.0  9.0  30.0  22.0  1.0  179.0  157.0   28.0  44.0  431   NaN   \n",
       "24024  2021.0  9.0  30.0  23.0  0.8  115.0  133.0   27.0  43.0  309   NaN   \n",
       "24025  2021.0  9.0  30.0  24.0  0.4   19.0  102.0   20.0  30.0  130   NaN   \n",
       "\n",
       "                    fechaH                fecha    festivo  \n",
       "0      2019-01-01 00:00:00  2019-01-01 00:00:00    festivo  \n",
       "1      2019-01-01 01:00:00  2019-01-01 00:00:00    festivo  \n",
       "2      2019-01-01 02:00:00  2019-01-01 00:00:00    festivo  \n",
       "3      2019-01-01 03:00:00  2019-01-01 00:00:00    festivo  \n",
       "4      2019-01-01 04:00:00  2019-01-01 00:00:00    festivo  \n",
       "...                    ...                  ...        ...  \n",
       "24021  2021-09-30 19:00:00  2021-09-30 00:00:00  laborable  \n",
       "24022  2021-09-30 20:00:00  2021-09-30 00:00:00  laborable  \n",
       "24023  2021-09-30 21:00:00  2021-09-30 00:00:00  laborable  \n",
       "24024  2021-09-30 22:00:00  2021-09-30 00:00:00  laborable  \n",
       "24025  2021-09-30 23:00:00  2021-09-30 00:00:00  laborable  \n",
       "\n",
       "[24026 rows x 14 columns]"
      ]
     },
     "execution_count": 11,
     "metadata": {},
     "output_type": "execute_result"
    }
   ],
   "source": [
    "import pandas as pd\n",
    "url = \"https://raw.githubusercontent.com/RafaelCaballero/tdm/master/datos/madrid/contaminacionLargo.csv\"\n",
    "df_conta = pd.read_csv(url)\n",
    "df_conta"
   ]
  },
  {
   "cell_type": "code",
   "execution_count": 12,
   "id": "550a3c2e",
   "metadata": {},
   "outputs": [
    {
     "data": {
      "image/png": "[encoded data removed]",
      "text/plain": [
       "<Figure size 640x480 with 1 Axes>"
      ]
     },
     "metadata": {},
     "output_type": "display_data"
    }
   ],
   "source": [
    "import numpy as np \n",
    "import matplotlib.pyplot as plt \n",
    "\n",
    "data = df_conta.PM10\n",
    "#histograma\n",
    "plt.hist(data,edgecolor=\"black\", bins =50)\n",
    "\n",
    "#añadimos título\n",
    "plt.title(\"Histograma\")\n",
    "\n",
    "#etiqueta en X\n",
    "plt.xlabel(\"Valores\")\n",
    "\n",
    "#etiqueta en y\n",
    "plt.ylabel(\"Frecuencias\")\n",
    "\n",
    "# mostrarlo\n",
    "plt.show()"
   ]
  },
  {
   "cell_type": "code",
   "execution_count": 13,
   "id": "61c0b219",
   "metadata": {},
   "outputs": [
    {
     "data": {
      "text/plain": [
       "(16.39393460748697, 13.0)"
      ]
     },
     "execution_count": 13,
     "metadata": {},
     "output_type": "execute_result"
    }
   ],
   "source": [
    "data.mean(), data.median()"
   ]
  },
  {
   "cell_type": "markdown",
   "id": "46c07dcf",
   "metadata": {},
   "source": [
    "Como vemos aquí no se cumple la regla anterior de que en el entorno 2std se concentra el 95% de la población. Esto es así porque no se trata de una normal"
   ]
  },
  {
   "cell_type": "code",
   "execution_count": 14,
   "id": "352e5b37",
   "metadata": {},
   "outputs": [
    {
     "data": {
      "text/plain": [
       "0.7571797219678681"
      ]
     },
     "execution_count": 14,
     "metadata": {},
     "output_type": "execute_result"
    }
   ],
   "source": [
    "m = data.mean()\n",
    "s = data.std()\n",
    "\n",
    "sum((data < m+2*s) & (data >m-2*s))/len(data)"
   ]
  },
  {
   "cell_type": "markdown",
   "id": "05c05a85",
   "metadata": {},
   "source": [
    "La función `skew` de Pandas nos indica la asimetría:\n",
    "\n",
    "        >0 : Asimetría a la derecha o positiva\n",
    "        aprox. 0 : simétrico\n",
    "        <0 : asimetría a la izquierda o negativa\n",
    "\n",
    "\n",
    "<img src=\"https://upload.wikimedia.org/wikipedia/commons/c/cc/Relationship_between_mean_and_median_under_different_skewness.png\"  width=500>By Diva Jain - https://codeburst.io/2-important-statistics-terms-you-need-to-know-in-data-science-skewness-and-kurtosis-388fef94eeaa, CC BY-SA 4.0, https://commons.wikimedia.org/w/index.php?curid=84219892</img> \n",
    "\n",
    "\n",
    "\n"
   ]
  },
  {
   "cell_type": "code",
   "execution_count": 15,
   "id": "6e353d51",
   "metadata": {},
   "outputs": [
    {
     "data": {
      "text/plain": [
       "2.404078728714794"
      ]
     },
     "execution_count": 15,
     "metadata": {},
     "output_type": "execute_result"
    }
   ],
   "source": [
    "data.skew()"
   ]
  },
  {
   "cell_type": "markdown",
   "id": "34aff5d9",
   "metadata": {},
   "source": [
    "Tenemos por tanto asimetría a la derecha. En el dataframe de PISA"
   ]
  },
  {
   "cell_type": "code",
   "execution_count": 16,
   "id": "834ec03a",
   "metadata": {},
   "outputs": [
    {
     "name": "stdout",
     "output_type": "stream",
     "text": [
      "RPC 1.5781554179609465\n",
      "MAT -0.47285423783957503\n",
      "MAT_FE -0.47157882551534436\n",
      "MAT_MA -0.47630612237478603\n",
      "REA -0.5069435433836599\n",
      "REA_FE -0.5589979678197334\n",
      "REA_MA -0.4805101266718705\n",
      "SCI -0.3967275143175904\n",
      "SCI_FE -0.44800257199301036\n",
      "SCI_MA -0.3735259919422978\n"
     ]
    }
   ],
   "source": [
    "for c in df_pisa_num:\n",
    "    print(c,df_pisa_num[c].skew())"
   ]
  },
  {
   "cell_type": "markdown",
   "id": "382629f3",
   "metadata": {},
   "source": [
    "En nuestros datos \"normales\""
   ]
  },
  {
   "cell_type": "code",
   "execution_count": 17,
   "id": "1078a64f",
   "metadata": {},
   "outputs": [
    {
     "data": {
      "text/plain": [
       "x   -0.004883\n",
       "dtype: float64"
      ]
     },
     "execution_count": 17,
     "metadata": {},
     "output_type": "execute_result"
    }
   ],
   "source": [
    "pd.DataFrame({\"x\": normaldata}).skew()"
   ]
  },
  {
   "cell_type": "markdown",
   "id": "a4e9c5ae",
   "metadata": {},
   "source": [
    "Como vemos no sale exactamente 0 aunque sí muy cercano"
   ]
  },
  {
   "cell_type": "markdown",
   "id": "28bfadcb",
   "metadata": {},
   "source": [
    "<a name=\"Apuntamiento\"></a>\n",
    "## Curtosis\n",
    "\n",
    "La curtosis indica el peso de las colas en relación con una normar estándar. A menudo se confunde con \"apuntamiento\" pero no es exactamente lo mismo. La función `kurtosis` de Pandas nos indica este valor:\n",
    "\n",
    "        >0 : leptocúrtica ; los outliers tienen más peso que en la normal, tenemos muchos outliers (hay que ver por qué y si merece la pena hacer un estudio solo de esta parte)\n",
    "        aprox. 0 : ismilar a una normal\n",
    "        <0 : los outliers tienen menos peso que en la normal, la distribución está más concentrada alrededor de la media\n",
    "\n"
   ]
  },
  {
   "cell_type": "code",
   "execution_count": 18,
   "id": "12fa46b2",
   "metadata": {},
   "outputs": [
    {
     "data": {
      "text/plain": [
       "x   -0.011918\n",
       "dtype: float64"
      ]
     },
     "execution_count": 18,
     "metadata": {},
     "output_type": "execute_result"
    }
   ],
   "source": [
    "pd.DataFrame({\"x\": normaldata}).kurtosis()"
   ]
  },
  {
   "cell_type": "code",
   "execution_count": 19,
   "id": "1de3a7d4",
   "metadata": {},
   "outputs": [
    {
     "data": {
      "text/plain": [
       "10.844336984429532"
      ]
     },
     "execution_count": 19,
     "metadata": {},
     "output_type": "execute_result"
    }
   ],
   "source": [
    "df_conta.PM10.kurtosis()"
   ]
  },
  {
   "cell_type": "code",
   "execution_count": 20,
   "id": "18482c8c",
   "metadata": {},
   "outputs": [
    {
     "data": {
      "text/plain": [
       "-0.6022147440965746"
      ]
     },
     "execution_count": 20,
     "metadata": {},
     "output_type": "execute_result"
    }
   ],
   "source": [
    "df_pisa.MAT.kurtosis()"
   ]
  },
  {
   "cell_type": "markdown",
   "id": "00389e13",
   "metadata": {},
   "source": [
    "## Ejemplo\n",
    "\n",
    "Datos de 7 sensores de radiación solar durante varios días con todas sus horas "
   ]
  },
  {
   "cell_type": "code",
   "execution_count": 21,
   "id": "820990fb",
   "metadata": {},
   "outputs": [],
   "source": [
    "import pandas as pd\n",
    "url = \"https://github.com/RafaelCaballero/tdm/raw/master/datos/solar.zip\"\n",
    "df_solar = pd.read_csv(url)"
   ]
  },
  {
   "cell_type": "code",
   "execution_count": 22,
   "id": "8560e54f",
   "metadata": {},
   "outputs": [
    {
     "data": {
      "text/html": [
       "<div>\n",
       "<style scoped>\n",
       "    .dataframe tbody tr th:only-of-type {\n",
       "        vertical-align: middle;\n",
       "    }\n",
       "\n",
       "    .dataframe tbody tr th {\n",
       "        vertical-align: top;\n",
       "    }\n",
       "\n",
       "    .dataframe thead th {\n",
       "        text-align: right;\n",
       "    }\n",
       "</style>\n",
       "<table border=\"1\" class=\"dataframe\">\n",
       "  <thead>\n",
       "    <tr style=\"text-align: right;\">\n",
       "      <th></th>\n",
       "      <th>ID</th>\n",
       "      <th>DIA</th>\n",
       "      <th>HORA</th>\n",
       "      <th>TIMESTAMP</th>\n",
       "      <th>S1</th>\n",
       "      <th>S2</th>\n",
       "      <th>S3</th>\n",
       "      <th>S4</th>\n",
       "      <th>S5</th>\n",
       "      <th>S6</th>\n",
       "      <th>S7</th>\n",
       "    </tr>\n",
       "  </thead>\n",
       "  <tbody>\n",
       "    <tr>\n",
       "      <th>0</th>\n",
       "      <td>335-9</td>\n",
       "      <td>1</td>\n",
       "      <td>9.00</td>\n",
       "      <td>335</td>\n",
       "      <td>0.681559</td>\n",
       "      <td>0.689707</td>\n",
       "      <td>0.529802</td>\n",
       "      <td>0.662423</td>\n",
       "      <td>0.759624</td>\n",
       "      <td>0.681559</td>\n",
       "      <td>0.614483</td>\n",
       "    </tr>\n",
       "    <tr>\n",
       "      <th>1</th>\n",
       "      <td>335-9.02</td>\n",
       "      <td>1</td>\n",
       "      <td>9.02</td>\n",
       "      <td>335</td>\n",
       "      <td>0.741684</td>\n",
       "      <td>0.760434</td>\n",
       "      <td>0.627215</td>\n",
       "      <td>0.747665</td>\n",
       "      <td>0.795755</td>\n",
       "      <td>0.741684</td>\n",
       "      <td>0.662882</td>\n",
       "    </tr>\n",
       "    <tr>\n",
       "      <th>2</th>\n",
       "      <td>335-9.03</td>\n",
       "      <td>1</td>\n",
       "      <td>9.03</td>\n",
       "      <td>335</td>\n",
       "      <td>0.722616</td>\n",
       "      <td>0.699479</td>\n",
       "      <td>0.691650</td>\n",
       "      <td>0.656747</td>\n",
       "      <td>0.794075</td>\n",
       "      <td>0.722616</td>\n",
       "      <td>0.740163</td>\n",
       "    </tr>\n",
       "    <tr>\n",
       "      <th>3</th>\n",
       "      <td>335-9.05</td>\n",
       "      <td>1</td>\n",
       "      <td>9.05</td>\n",
       "      <td>335</td>\n",
       "      <td>0.724668</td>\n",
       "      <td>0.744789</td>\n",
       "      <td>0.721171</td>\n",
       "      <td>0.680943</td>\n",
       "      <td>0.741052</td>\n",
       "      <td>0.724668</td>\n",
       "      <td>0.731887</td>\n",
       "    </tr>\n",
       "    <tr>\n",
       "      <th>4</th>\n",
       "      <td>335-9.07</td>\n",
       "      <td>1</td>\n",
       "      <td>9.07</td>\n",
       "      <td>335</td>\n",
       "      <td>0.696729</td>\n",
       "      <td>0.680453</td>\n",
       "      <td>0.699055</td>\n",
       "      <td>0.709132</td>\n",
       "      <td>0.744442</td>\n",
       "      <td>0.696729</td>\n",
       "      <td>0.652886</td>\n",
       "    </tr>\n",
       "    <tr>\n",
       "      <th>...</th>\n",
       "      <td>...</td>\n",
       "      <td>...</td>\n",
       "      <td>...</td>\n",
       "      <td>...</td>\n",
       "      <td>...</td>\n",
       "      <td>...</td>\n",
       "      <td>...</td>\n",
       "      <td>...</td>\n",
       "      <td>...</td>\n",
       "      <td>...</td>\n",
       "      <td>...</td>\n",
       "    </tr>\n",
       "    <tr>\n",
       "      <th>13015</th>\n",
       "      <td>365-15.92</td>\n",
       "      <td>31</td>\n",
       "      <td>15.92</td>\n",
       "      <td>365</td>\n",
       "      <td>0.880301</td>\n",
       "      <td>0.921515</td>\n",
       "      <td>0.880301</td>\n",
       "      <td>0.823846</td>\n",
       "      <td>0.880301</td>\n",
       "      <td>0.880301</td>\n",
       "      <td>0.895543</td>\n",
       "    </tr>\n",
       "    <tr>\n",
       "      <th>13016</th>\n",
       "      <td>365-15.93</td>\n",
       "      <td>31</td>\n",
       "      <td>15.93</td>\n",
       "      <td>365</td>\n",
       "      <td>0.876873</td>\n",
       "      <td>0.917506</td>\n",
       "      <td>0.876873</td>\n",
       "      <td>0.822438</td>\n",
       "      <td>0.876873</td>\n",
       "      <td>0.876873</td>\n",
       "      <td>0.890674</td>\n",
       "    </tr>\n",
       "    <tr>\n",
       "      <th>13017</th>\n",
       "      <td>365-15.95</td>\n",
       "      <td>31</td>\n",
       "      <td>15.95</td>\n",
       "      <td>365</td>\n",
       "      <td>0.859016</td>\n",
       "      <td>0.884571</td>\n",
       "      <td>0.859016</td>\n",
       "      <td>0.800551</td>\n",
       "      <td>0.859016</td>\n",
       "      <td>0.859016</td>\n",
       "      <td>0.891926</td>\n",
       "    </tr>\n",
       "    <tr>\n",
       "      <th>13018</th>\n",
       "      <td>365-15.97</td>\n",
       "      <td>31</td>\n",
       "      <td>15.97</td>\n",
       "      <td>365</td>\n",
       "      <td>0.853623</td>\n",
       "      <td>0.875976</td>\n",
       "      <td>0.853623</td>\n",
       "      <td>0.810501</td>\n",
       "      <td>0.853623</td>\n",
       "      <td>0.853623</td>\n",
       "      <td>0.874393</td>\n",
       "    </tr>\n",
       "    <tr>\n",
       "      <th>13019</th>\n",
       "      <td>365-15.98</td>\n",
       "      <td>31</td>\n",
       "      <td>15.98</td>\n",
       "      <td>365</td>\n",
       "      <td>0.847129</td>\n",
       "      <td>0.888821</td>\n",
       "      <td>0.847129</td>\n",
       "      <td>0.795523</td>\n",
       "      <td>0.847129</td>\n",
       "      <td>0.847129</td>\n",
       "      <td>0.857044</td>\n",
       "    </tr>\n",
       "  </tbody>\n",
       "</table>\n",
       "<p>13020 rows × 11 columns</p>\n",
       "</div>"
      ],
      "text/plain": [
       "              ID  DIA   HORA  TIMESTAMP        S1        S2        S3  \\\n",
       "0          335-9    1   9.00        335  0.681559  0.689707  0.529802   \n",
       "1       335-9.02    1   9.02        335  0.741684  0.760434  0.627215   \n",
       "2       335-9.03    1   9.03        335  0.722616  0.699479  0.691650   \n",
       "3       335-9.05    1   9.05        335  0.724668  0.744789  0.721171   \n",
       "4       335-9.07    1   9.07        335  0.696729  0.680453  0.699055   \n",
       "...          ...  ...    ...        ...       ...       ...       ...   \n",
       "13015  365-15.92   31  15.92        365  0.880301  0.921515  0.880301   \n",
       "13016  365-15.93   31  15.93        365  0.876873  0.917506  0.876873   \n",
       "13017  365-15.95   31  15.95        365  0.859016  0.884571  0.859016   \n",
       "13018  365-15.97   31  15.97        365  0.853623  0.875976  0.853623   \n",
       "13019  365-15.98   31  15.98        365  0.847129  0.888821  0.847129   \n",
       "\n",
       "             S4        S5        S6        S7  \n",
       "0      0.662423  0.759624  0.681559  0.614483  \n",
       "1      0.747665  0.795755  0.741684  0.662882  \n",
       "2      0.656747  0.794075  0.722616  0.740163  \n",
       "3      0.680943  0.741052  0.724668  0.731887  \n",
       "4      0.709132  0.744442  0.696729  0.652886  \n",
       "...         ...       ...       ...       ...  \n",
       "13015  0.823846  0.880301  0.880301  0.895543  \n",
       "13016  0.822438  0.876873  0.876873  0.890674  \n",
       "13017  0.800551  0.859016  0.859016  0.891926  \n",
       "13018  0.810501  0.853623  0.853623  0.874393  \n",
       "13019  0.795523  0.847129  0.847129  0.857044  \n",
       "\n",
       "[13020 rows x 11 columns]"
      ]
     },
     "execution_count": 22,
     "metadata": {},
     "output_type": "execute_result"
    }
   ],
   "source": [
    "df_solar"
   ]
  },
  {
   "cell_type": "code",
   "execution_count": 23,
   "id": "ec9843d6",
   "metadata": {},
   "outputs": [
    {
     "data": {
      "image/png": "[encoded data removed]",
      "text/plain": [
       "<Figure size 2400x600 with 1 Axes>"
      ]
     },
     "metadata": {},
     "output_type": "display_data"
    },
    {
     "data": {
      "image/png": "[encoded data removed]",
      "text/plain": [
       "<Figure size 2400x600 with 1 Axes>"
      ]
     },
     "metadata": {},
     "output_type": "display_data"
    },
    {
     "data": {
      "image/png": "[encoded data removed]",
      "text/plain": [
       "<Figure size 2400x600 with 1 Axes>"
      ]
     },
     "metadata": {},
     "output_type": "display_data"
    },
    {
     "data": {
      "image/png": "[encoded data removed]",
      "text/plain": [
       "<Figure size 2400x600 with 1 Axes>"
      ]
     },
     "metadata": {},
     "output_type": "display_data"
    },
    {
     "data": {
      "image/png": "[encoded data removed]",
      "text/plain": [
       "<Figure size 2400x600 with 1 Axes>"
      ]
     },
     "metadata": {},
     "output_type": "display_data"
    },
    {
     "data": {
      "image/png": "[encoded data removed]",
      "text/plain": [
       "<Figure size 2400x600 with 1 Axes>"
      ]
     },
     "metadata": {},
     "output_type": "display_data"
    },
    {
     "data": {
      "image/png": "[encoded data removed]",
      "text/plain": [
       "<Figure size 2400x600 with 1 Axes>"
      ]
     },
     "metadata": {},
     "output_type": "display_data"
    }
   ],
   "source": [
    "\n",
    "import matplotlib.pyplot as plt \n",
    "for c in df_solar.columns[4:]:\n",
    "    fig, ax = plt.subplots(figsize=(24, 6))\n",
    "    df_solar[c].hist(bins=50)\n",
    "    plt.title(c)\n",
    "    plt.show()"
   ]
  },
  {
   "cell_type": "markdown",
   "id": "ff3f7bf6",
   "metadata": {},
   "source": [
    "¿Qué consecuencias se extraen a simple vista? Añadir código para probar"
   ]
  },
  {
   "cell_type": "code",
   "execution_count": null,
   "id": "fc8ba664",
   "metadata": {},
   "outputs": [],
   "source": []
  },
  {
   "cell_type": "code",
   "execution_count": null,
   "id": "e2cd7939",
   "metadata": {},
   "outputs": [],
   "source": []
  },
  {
   "cell_type": "markdown",
   "id": "48e11be7",
   "metadata": {},
   "source": [
    "<a name=\"Múltiples\"></a>\n",
    "## Múltiples histogramas\n",
    "\n",
    "En ocasiones para comparar interesa reproducir varios histogramas en uno solo. Aunque se puede hacer esto con matplotlib la biblioteca seaborn ofrece un catálogo más amplio de posibilidades "
   ]
  },
  {
   "cell_type": "code",
   "execution_count": 25,
   "id": "d4867022",
   "metadata": {},
   "outputs": [],
   "source": [
    "import seaborn as sns # !pip install seaborn"
   ]
  },
  {
   "cell_type": "code",
   "execution_count": 26,
   "id": "6ae9a054",
   "metadata": {},
   "outputs": [
    {
     "data": {
      "text/plain": [
       "<AxesSubplot: xlabel='PM10', ylabel='Count'>"
      ]
     },
     "execution_count": 26,
     "metadata": {},
     "output_type": "execute_result"
    },
    {
     "data": {
      "image/png": "[encoded data removed]",
      "text/plain": [
       "<Figure size 640x480 with 1 Axes>"
      ]
     },
     "metadata": {},
     "output_type": "display_data"
    }
   ],
   "source": [
    "\n",
    "sns.histplot(data=df_conta, x=\"PM10\", hue=\"ANO\",palette='tab10')"
   ]
  },
  {
   "cell_type": "markdown",
   "id": "6c792db0",
   "metadata": {},
   "source": [
    "a menudo se ve mejor si usamos la opción `multiple='stack'`"
   ]
  },
  {
   "cell_type": "code",
   "execution_count": 27,
   "id": "ac60cf2d",
   "metadata": {
    "scrolled": true
   },
   "outputs": [
    {
     "data": {
      "text/plain": [
       "<AxesSubplot: xlabel='PM10', ylabel='Count'>"
      ]
     },
     "execution_count": 27,
     "metadata": {},
     "output_type": "execute_result"
    },
    {
     "data": {
      "image/png": "[encoded data removed]",
      "text/plain": [
       "<Figure size 640x480 with 1 Axes>"
      ]
     },
     "metadata": {},
     "output_type": "display_data"
    }
   ],
   "source": [
    "sns.histplot(data=df_conta, x=\"PM10\", hue=\"ANO\",palette='tab10', multiple=\"stack\")"
   ]
  },
  {
   "cell_type": "markdown",
   "id": "9cfe3f7b",
   "metadata": {},
   "source": [
    "También se pueden comparar dos variables continuas, pero puede que haya que hacer una transformación"
   ]
  },
  {
   "cell_type": "code",
   "execution_count": 28,
   "id": "4039a817",
   "metadata": {},
   "outputs": [
    {
     "data": {
      "text/html": [
       "<div>\n",
       "<style scoped>\n",
       "    .dataframe tbody tr th:only-of-type {\n",
       "        vertical-align: middle;\n",
       "    }\n",
       "\n",
       "    .dataframe tbody tr th {\n",
       "        vertical-align: top;\n",
       "    }\n",
       "\n",
       "    .dataframe thead th {\n",
       "        text-align: right;\n",
       "    }\n",
       "</style>\n",
       "<table border=\"1\" class=\"dataframe\">\n",
       "  <thead>\n",
       "    <tr style=\"text-align: right;\">\n",
       "      <th></th>\n",
       "      <th>variable</th>\n",
       "      <th>value</th>\n",
       "    </tr>\n",
       "  </thead>\n",
       "  <tbody>\n",
       "    <tr>\n",
       "      <th>0</th>\n",
       "      <td>PM10</td>\n",
       "      <td>NaN</td>\n",
       "    </tr>\n",
       "    <tr>\n",
       "      <th>1</th>\n",
       "      <td>PM10</td>\n",
       "      <td>NaN</td>\n",
       "    </tr>\n",
       "    <tr>\n",
       "      <th>2</th>\n",
       "      <td>PM10</td>\n",
       "      <td>NaN</td>\n",
       "    </tr>\n",
       "    <tr>\n",
       "      <th>3</th>\n",
       "      <td>PM10</td>\n",
       "      <td>NaN</td>\n",
       "    </tr>\n",
       "    <tr>\n",
       "      <th>4</th>\n",
       "      <td>PM10</td>\n",
       "      <td>NaN</td>\n",
       "    </tr>\n",
       "    <tr>\n",
       "      <th>...</th>\n",
       "      <td>...</td>\n",
       "      <td>...</td>\n",
       "    </tr>\n",
       "    <tr>\n",
       "      <th>48047</th>\n",
       "      <td>PM2.5</td>\n",
       "      <td>17.0</td>\n",
       "    </tr>\n",
       "    <tr>\n",
       "      <th>48048</th>\n",
       "      <td>PM2.5</td>\n",
       "      <td>19.0</td>\n",
       "    </tr>\n",
       "    <tr>\n",
       "      <th>48049</th>\n",
       "      <td>PM2.5</td>\n",
       "      <td>28.0</td>\n",
       "    </tr>\n",
       "    <tr>\n",
       "      <th>48050</th>\n",
       "      <td>PM2.5</td>\n",
       "      <td>27.0</td>\n",
       "    </tr>\n",
       "    <tr>\n",
       "      <th>48051</th>\n",
       "      <td>PM2.5</td>\n",
       "      <td>20.0</td>\n",
       "    </tr>\n",
       "  </tbody>\n",
       "</table>\n",
       "<p>48052 rows × 2 columns</p>\n",
       "</div>"
      ],
      "text/plain": [
       "      variable  value\n",
       "0         PM10    NaN\n",
       "1         PM10    NaN\n",
       "2         PM10    NaN\n",
       "3         PM10    NaN\n",
       "4         PM10    NaN\n",
       "...        ...    ...\n",
       "48047    PM2.5   17.0\n",
       "48048    PM2.5   19.0\n",
       "48049    PM2.5   28.0\n",
       "48050    PM2.5   27.0\n",
       "48051    PM2.5   20.0\n",
       "\n",
       "[48052 rows x 2 columns]"
      ]
     },
     "execution_count": 28,
     "metadata": {},
     "output_type": "execute_result"
    }
   ],
   "source": [
    "df_conta_largo =df_conta[[\"PM10\",\"PM2.5\"]].melt()\n",
    "df_conta_largo"
   ]
  },
  {
   "cell_type": "code",
   "execution_count": 29,
   "id": "8e391881",
   "metadata": {
    "scrolled": true
   },
   "outputs": [
    {
     "data": {
      "text/plain": [
       "<AxesSubplot: xlabel='value', ylabel='Count'>"
      ]
     },
     "execution_count": 29,
     "metadata": {},
     "output_type": "execute_result"
    },
    {
     "data": {
      "image/png": "[encoded data removed]",
      "text/plain": [
       "<Figure size 640x480 with 1 Axes>"
      ]
     },
     "metadata": {},
     "output_type": "display_data"
    }
   ],
   "source": [
    "sns.histplot(data=df_conta_largo, x=\"value\", hue=\"variable\",palette='tab10', multiple=\"stack\")"
   ]
  },
  {
   "cell_type": "markdown",
   "id": "b475a897",
   "metadata": {},
   "source": [
    "Incluso 2 variables continuas "
   ]
  },
  {
   "cell_type": "code",
   "execution_count": 30,
   "id": "72a4c7dc",
   "metadata": {},
   "outputs": [
    {
     "data": {
      "text/plain": [
       "<AxesSubplot: xlabel='PM10', ylabel='PM2.5'>"
      ]
     },
     "execution_count": 30,
     "metadata": {},
     "output_type": "execute_result"
    },
    {
     "data": {
      "image/png": "[encoded data removed]",
      "text/plain": [
       "<Figure size 640x480 with 1 Axes>"
      ]
     },
     "metadata": {},
     "output_type": "display_data"
    }
   ],
   "source": [
    "sns.histplot(data=df_conta, x=\"PM10\", y=\"PM2.5\")"
   ]
  },
  {
   "cell_type": "code",
   "execution_count": null,
   "id": "a5d70403",
   "metadata": {},
   "outputs": [],
   "source": []
  },
  {
   "cell_type": "code",
   "execution_count": null,
   "id": "b15db5a8",
   "metadata": {},
   "outputs": [],
   "source": []
  }
 ],
 "metadata": {
  "kernelspec": {
   "display_name": "Python 3 (ipykernel)",
   "language": "python",
   "name": "python3"
  },
  "language_info": {
   "codemirror_mode": {
    "name": "ipython",
    "version": 3
   },
   "file_extension": ".py",
   "mimetype": "text/x-python",
   "name": "python",
   "nbconvert_exporter": "python",
   "pygments_lexer": "ipython3",
   "version": "3.9.12"
  }
 },
 "nbformat": 4,
 "nbformat_minor": 5
}
