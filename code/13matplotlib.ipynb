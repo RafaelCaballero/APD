{
  "cells": [
    {
      "cell_type": "markdown",
      "metadata": {
        "id": "view-in-github",
        "colab_type": "text"
      },
      "source": [
        "<a href=\"https://colab.research.google.com/github/RafaelCaballero/APD/blob/main/code/13matplotlib.ipynb\" target=\"_parent\"><img src=\"https://colab.research.google.com/assets/colab-badge.svg\" alt=\"Open In Colab\"/></a>"
      ]
    },
    {
      "cell_type": "markdown",
      "metadata": {
        "id": "WVJ8zavRLRuc"
      },
      "source": [
        "# Introducción a la ciencia de datos con Python\n",
        "### Rafa Caballero\n",
        "\n",
        "\n",
        "## Gráficos con matplotlib\n",
        "\n",
        "**Índice**\n",
        "\n",
        "[Introducción](#Introducción)<br>\n",
        "[Gráficos sencillos](#Gráficos-sencillos)<br>\n",
        "[Ejes](#Ejes)<br>\n",
        "[Grabación de figuras](#Grabación-de-figuras)<br>\n",
        "[Leyendas, etiquetas y títulos](#Leyendas,-etiquetas-y-títulos)<br>\n",
        "[Aspecto de los ejes de coordenadas](#Aspecto-de-los-ejes-de-coordenadas)<br>\n",
        "[Otros estilos 2D](#Otros-estilos-2D)<br>\n",
        "[Anotaciones de texto](#Anotaciones-de-texto)<br>\n",
        "[Subgráficos de tamaños diferentes](#Subgráficos-de-tamaños-diferentes)<br>\n",
        "[Mapas de colores y contornos](#Mapas-de-colores-y-Contornos)<br>\n",
        "[Figuras en 3D](#Figuras-en-3D)<br>\n",
        "[Para saber más](#Para-saber-más)<br>\n",
        "<hr>\n",
        "\n",
        "El origen de este notebook es:\n",
        "\n",
        "https://github.com/jrjohansson/scientific-python-lectures/blob/master/Lecture-4-Matplotlib.ipynb\n",
        "\n",
        "con algunos añadidos"
      ]
    },
    {
      "cell_type": "markdown",
      "metadata": {
        "id": "JEG4pvYfLRuf"
      },
      "source": [
        "## Introducción"
      ]
    },
    {
      "cell_type": "markdown",
      "metadata": {
        "id": "1wb23N8hLRug"
      },
      "source": [
        "Matplotlib es una librería excelente para generar gráficos en 2D y en 3D en Python. Entre sus ventajas:\n",
        "\n",
        "* Curva de aprendiaje \"suave\"\n",
        "* Control de todas las características de la figura\n",
        "* Posibilidad de grabar en muchos formatos: PNG, PDF, SVG, EPS,  PGF...\n",
        "* Posibilidad de generar figuras interactivas.\n",
        "* Posibilidad de generar código para figuras desde programa\n",
        "\n",
        "La fuente oficial de la librería es:: http://matplotlib.org/"
      ]
    },
    {
      "cell_type": "markdown",
      "metadata": {
        "id": "zqksXixNLRug"
      },
      "source": [
        "Comenzamos importando `matplotlib` y `numpy`"
      ]
    },
    {
      "cell_type": "code",
      "execution_count": null,
      "metadata": {
        "id": "cok3Q6h9LRuh"
      },
      "outputs": [],
      "source": [
        "import matplotlib\n",
        "import matplotlib.pyplot as plt\n",
        "import numpy as np"
      ]
    },
    {
      "cell_type": "markdown",
      "metadata": {
        "id": "ca8Ww8J8LRuj"
      },
      "source": [
        "## Gráficos sencillos"
      ]
    },
    {
      "cell_type": "markdown",
      "metadata": {
        "id": "k3D4i8d4LRuk"
      },
      "source": [
        "La forma más fácil de usar gráficos en Python es utilizar directamente funciones como plt.plot (que dibuja lineas entre pares de puntos) o plt.scatter (que muestra puntos sueltos)\n",
        "\n",
        "**Ejemplo 1**"
      ]
    },
    {
      "cell_type": "code",
      "execution_count": null,
      "metadata": {
        "id": "KIANcYyALRul"
      },
      "outputs": [],
      "source": [
        "# Los datos; podrían ser dos columnas de un dataframe\n",
        "x = list(range(10))\n",
        "y = [v*v for v in x]\n",
        "\n"
      ]
    },
    {
      "cell_type": "code",
      "execution_count": null,
      "metadata": {
        "id": "cHBqq-gDLRul"
      },
      "outputs": [],
      "source": [
        "# Plot the data\n",
        "plt.plot(x, y, label='x^2')\n",
        "\n",
        "# La leyenda x^2\n",
        "plt.legend()\n",
        "\n",
        "# título\n",
        "plt.title(\"Una figura sencilla\")\n",
        "\n",
        "# mostrar el resultado\n",
        "plt.show()"
      ]
    },
    {
      "cell_type": "markdown",
      "metadata": {
        "id": "L49VU0YoLRun"
      },
      "source": [
        "La llamada a 'show' al final se hace para que muestre realmente el gráfico. Esto permite incluir varios gráficos en la misma figura, o enriquecer el gráfico con varios componentes.\n",
        "\n",
        "**Ejemplo 2** En este ejemplo combinamos una línea (plot) y un gráfico de puntos (scatter) en el mismo gráfico"
      ]
    },
    {
      "cell_type": "code",
      "execution_count": null,
      "metadata": {
        "id": "Vhpi9FxoLRuo"
      },
      "outputs": [],
      "source": [
        "plt.plot([1,  4], [10,  30],\n",
        "          color='lightblue', linewidth=3)\n",
        "plt.scatter([0.3, 3.8, 1.2, 2.5], [11, 25, 9, 26],\n",
        "            color='darkgreen', marker='^')\n",
        "plt.xlim(0.5, 4.5) # límites del eje x\n",
        "plt.show()"
      ]
    },
    {
      "cell_type": "markdown",
      "metadata": {
        "id": "HeFSJf_8LRup"
      },
      "source": [
        "**Ej.** Copiar el código del *Ejemplo 1* y añadir código para que, además de y = x^2 muestre y2 = x^3 (la x puede ser la misma)"
      ]
    },
    {
      "cell_type": "code",
      "execution_count": null,
      "metadata": {
        "id": "hu1FvlWdLRup"
      },
      "outputs": [],
      "source": [
        "# Solución\n",
        "x = list(range(10))\n",
        "y1 = [v*v for v in x]\n",
        "y2 = [v*v*v for v in x]\n",
        "\n",
        "plt.plot(x, y1, label='x^2')\n",
        "\n",
        "# La leyenda x^2\n",
        "plt.legend()\n",
        "\n",
        "# título\n",
        "plt.title(\"Una figura sencilla\")\n",
        "\n",
        "# mostrar el resultado\n",
        "plt.show()\n",
        "\n"
      ]
    },
    {
      "cell_type": "markdown",
      "metadata": {
        "id": "AlEtk8_KLRuq"
      },
      "source": [
        "Incluso esta forma sencilla admite muchas posibilidades.\n",
        "\n",
        "**Ejemplo 3**"
      ]
    },
    {
      "cell_type": "code",
      "execution_count": null,
      "metadata": {
        "id": "9nrjkbIVLRuq"
      },
      "outputs": [],
      "source": [
        "\n",
        "plt.plot(x, y, '--r')\n",
        "plt.plot(y, x, '*-g')\n",
        "m = max(max(x),max(y))\n",
        "plt.plot(range(0,m,10),range(0,m,10),'d:b')\n",
        "plt.show()"
      ]
    },
    {
      "cell_type": "markdown",
      "metadata": {
        "id": "HSEf1kxLLRur"
      },
      "source": [
        "El tercer argumento tiene la forma '[marker][line][color]'\n",
        "\n",
        "**Markers**\n",
        "\n",
        "        character \tdescription\n",
        "        '.' \tpoint marker\n",
        "        ',' \tpixel marker\n",
        "        'o' \tcircle marker\n",
        "        'v' \ttriangle_down marker\n",
        "        '^' \ttriangle_up marker\n",
        "        '<' \ttriangle_left marker\n",
        "        '>' \ttriangle_right marker\n",
        "        '1' \ttri_down marker\n",
        "        '2' \ttri_up marker\n",
        "        '3' \ttri_left marker\n",
        "        '4' \ttri_right marker\n",
        "        's' \tsquare marker\n",
        "        'p' \tpentagon marker\n",
        "        '*' \tstar marker\n",
        "        'h' \thexagon1 marker\n",
        "        'H' \thexagon2 marker\n",
        "        '+' \tplus marker\n",
        "        'x' \tx marker\n",
        "        'D' \tdiamond marker\n",
        "        'd' \tthin_diamond marker\n",
        "        '|' \tvline marker\n",
        "        '_' \thline marker\n",
        "        \n",
        "        \n",
        "**Line Styles**\n",
        "\n",
        "        character \tdescription\n",
        "        '-' \tsolid line style\n",
        "        '--' \tdashed line style\n",
        "        '-.' \tdash-dot line style\n",
        "        ':' \tdotted line style\n",
        "**Color**\n",
        "\n",
        "    character \tcolor\n",
        "    'b' \tblue\n",
        "    'g' \tgreen\n",
        "    'r' \tred\n",
        "    'c' \tcyan\n",
        "    'm' \tmagenta\n",
        "    'y' \tyellow\n",
        "    'k' \tblack\n",
        "    'w' \twhite\n",
        "    \n",
        "Si estos colores se nos quedan cortos podemos quitar el color de la cadena de formato, y añadirla en su lugar en el parámetro c, utilizando cualquiera de los colores X11(https://en.wikipedia.org/wiki/X11_color_names#Color_name_chart) o un color RGB en hexadecimal\n",
        "\n",
        "**Ejemplo 4**"
      ]
    },
    {
      "cell_type": "code",
      "execution_count": null,
      "metadata": {
        "id": "gVSvkhHtLRuv"
      },
      "outputs": [],
      "source": [
        "x = np.arange(0,20,0.1)\n",
        "y = np.sin(x)\n",
        "\n",
        "plt.plot(x, y, '-', c=\"#8B0000\")\n",
        "plt.plot(x, [0]*len(x), '-', c=\"cornflowerblue\")\n",
        "plt.show()"
      ]
    },
    {
      "cell_type": "markdown",
      "metadata": {
        "id": "daq6rw1YLRuw"
      },
      "source": [
        "Incluso este método tan simple puede producir gráficos interesantes cuando se combina con otras bibliotecas como numpy\n",
        "\n",
        "**Ejemplo 5**\n",
        "\n",
        "Un ejemplo con niveles de gris"
      ]
    },
    {
      "cell_type": "code",
      "execution_count": null,
      "metadata": {
        "id": "UrBr7n6ELRuw"
      },
      "outputs": [],
      "source": [
        "\n",
        "puntos = np.arange(-20, 20, 0.05)\n",
        "xs,ys = np.meshgrid(puntos,puntos)\n",
        "print(xs,\"\\n\",\"-\"*30,\"\\n\",ys)"
      ]
    },
    {
      "cell_type": "code",
      "execution_count": null,
      "metadata": {
        "id": "3NxFsAZoLRux"
      },
      "outputs": [],
      "source": [
        "z = (xs ** 2) - (ys**2 )\n",
        "plt.imshow(z, cmap=plt.cm.gray)\n",
        "plt.colorbar()\n",
        "plt.title(\"Representación de $x^2 - y^2$\")\n",
        "plt.show()"
      ]
    },
    {
      "cell_type": "markdown",
      "metadata": {
        "id": "EzZWWPAwLRux"
      },
      "source": [
        "## Ejes"
      ]
    },
    {
      "cell_type": "markdown",
      "metadata": {
        "id": "9H1EBrKULRux"
      },
      "source": [
        "La idea es que una figura, representada por una variable  `fig` puede contener varias gráficas, cada una deminonada `eje`. Los ejes se añaden, entre otras formas, mediante el método `add_axes` de la clase `Figure`:\n",
        "\n",
        "**Ejemplo 6**"
      ]
    },
    {
      "cell_type": "code",
      "execution_count": null,
      "metadata": {
        "id": "QdNNZLF7LRuy"
      },
      "outputs": [],
      "source": [
        "fig = plt.figure()\n",
        "\n",
        "# left, bottom, width, height (range 0 to 1)\n",
        "axes = fig.add_axes([0.5, 0.5, 0.4, 0.8])\n",
        "\n",
        "axes.plot(x, y, 'r')\n",
        "\n",
        "axes.set_xlabel('x')\n",
        "axes.set_ylabel('y')\n",
        "axes.set_title('sin(x)');\n",
        "plt.show()"
      ]
    },
    {
      "cell_type": "markdown",
      "metadata": {
        "id": "ZJ7zwzqzLRuy"
      },
      "source": [
        "Aunque un poco más complejo, da mucho control sobre la construcción de figuras:\n",
        "\n",
        "**Ejemplo 7**"
      ]
    },
    {
      "cell_type": "code",
      "execution_count": null,
      "metadata": {
        "id": "ECYo5_O5LRuy"
      },
      "outputs": [],
      "source": [
        "fig = plt.figure()\n",
        "\n",
        "x = np.arange(0,20,0.1)\n",
        "y = np.sin(x/4)\n",
        "\n",
        "axes1 = fig.add_axes([0.1, 0.1, 0.8, 0.8]) # main axes\n",
        "axes2 = fig.add_axes([0.2, 0.5, 0.4, 0.3]) # inset axes\n",
        "\n",
        "# main figure\n",
        "axes1.plot(x, y, 'r')\n",
        "axes1.set_xlabel('x')\n",
        "axes1.set_ylabel('y')\n",
        "axes1.set_title('Título general')\n",
        "\n",
        "# insert\n",
        "axes2.plot(y, x, 'b')\n",
        "axes2.set_xlabel('y')\n",
        "axes2.set_ylabel('x')\n",
        "axes2.set_title('pequeño');"
      ]
    },
    {
      "cell_type": "markdown",
      "metadata": {
        "id": "UMPH9A0CLRuz"
      },
      "source": [
        "Para incluir muchos gráficos sin mezclarlos lo mejor es emplear `subplots`:\n",
        "\n",
        "**Ejemplo 8**"
      ]
    },
    {
      "cell_type": "code",
      "execution_count": null,
      "metadata": {
        "id": "pYs95VhoLRuz"
      },
      "outputs": [],
      "source": [
        "import math\n",
        "\n",
        "fig, (ax1, ax2) = plt.subplots(nrows=2,ncols=1, figsize=(10,10))\n",
        "\n",
        "# hacemos las gráficas\n",
        "X1 = range(100)\n",
        "X2 = [x/10 for x in range(-80,80)]\n",
        "ax1.plot(X1,[math.sin(x/4) for x in X1])\n",
        "ax1.set_title(\"seno(x)\")\n",
        "\n",
        "sigmo = ax2.plot(X2,[1/(1+math.exp(-x)) for x in X2],\n",
        "         color=\"g\", linewidth=4)\n",
        "ax2.set_title(\"sigmoid\")\n",
        "\n",
        "\n",
        "# No olvidar al final\n",
        "plt.show()"
      ]
    },
    {
      "cell_type": "markdown",
      "metadata": {
        "id": "I9bcXJDLLRu0"
      },
      "source": [
        "**Ejemplo 9**:"
      ]
    },
    {
      "cell_type": "code",
      "execution_count": null,
      "metadata": {
        "id": "au69gHvDLRu0"
      },
      "outputs": [],
      "source": [
        "import matplotlib.pyplot as plt\n",
        "import numpy as np\n",
        "\n",
        "fig, axes = plt.subplots(nrows=1, ncols=3)\n",
        "\n",
        "x = np.arange(0,20,0.1)\n",
        "y = np.sin(x/4)\n",
        "for ax in axes:\n",
        "    ax.plot(x, y, 'r')\n",
        "    ax.set_xlabel('x')\n",
        "    ax.set_ylabel('y')\n",
        "    ax.set_title('título')\n",
        "plt.show()"
      ]
    },
    {
      "cell_type": "markdown",
      "metadata": {
        "id": "UVNpp1EwLRu1"
      },
      "source": [
        "El problema es que las figuras se superponen. Podemos evitarlos utilizado el método  `fig.tight_layout` :\n",
        "\n",
        "**Ejemplo 10**"
      ]
    },
    {
      "cell_type": "code",
      "execution_count": null,
      "metadata": {
        "id": "VzimAJxiLRu1"
      },
      "outputs": [],
      "source": [
        "fig, axes = plt.subplots(nrows=1, ncols=3)\n",
        "\n",
        "for ax in axes:\n",
        "    ax.plot(x, y, 'r')\n",
        "    ax.set_xlabel('x')\n",
        "    ax.set_ylabel('y')\n",
        "    ax.set_title('title')\n",
        "\n",
        "fig.tight_layout()\n",
        "plt.show()"
      ]
    },
    {
      "cell_type": "markdown",
      "metadata": {
        "id": "sDTnoAFDLRu1"
      },
      "source": [
        "Matplotlib permite controlar el ratio x/y, el DPI y el tamaño de la figura cuando se crea el objeto `Figure` mediante los argumentos `figsize` y `dpi`.\n",
        "\n",
        "- `figsize` incluye la anchura y la altura en pulgadas, en forma de tupla.\n",
        "\n",
        "- `dpi` corresponde a dots-per-inch (pixels por pulgada per inch), la resolución.\n",
        "\n",
        "\n",
        "**Ejemplo 11**\n",
        "\n",
        "Figura de 800x400 píxeles, con resolución 100 dpi:"
      ]
    },
    {
      "cell_type": "code",
      "execution_count": null,
      "metadata": {
        "id": "vg4TIEE6LRu2"
      },
      "outputs": [],
      "source": [
        "fig = plt.figure(figsize=(8,4), dpi=100)"
      ]
    },
    {
      "cell_type": "markdown",
      "metadata": {
        "id": "RAVitvOBLRu2"
      },
      "source": [
        "Haremos esto aunque no queramos hacer varias figuras:\n",
        "\n",
        "\n",
        "**Ejemplo 12**:"
      ]
    },
    {
      "cell_type": "code",
      "execution_count": null,
      "metadata": {
        "id": "jfXfIBOwLRu3"
      },
      "outputs": [],
      "source": [
        "fig, axes = plt.subplots(figsize=(12,3))\n",
        "\n",
        "axes.plot(x, y, 'r')\n",
        "axes.set_xlabel('x')\n",
        "axes.set_ylabel('y')\n",
        "axes.set_title('title');"
      ]
    },
    {
      "cell_type": "markdown",
      "metadata": {
        "id": "PaBCYKn-LRu3"
      },
      "source": [
        "**Ejemplo 13**\n",
        "\n",
        "Vamos a mostrar la gráfica de algunos valores bursátiles en formato 2 columnas:"
      ]
    },
    {
      "cell_type": "code",
      "execution_count": null,
      "metadata": {
        "id": "FHfU-dI4LRu3"
      },
      "outputs": [],
      "source": [
        "import pandas as pd\n",
        "\n",
        "path = 'https://github.com/RafaelCaballero/tdm/raw/master/datos/valores.xlsx'\n",
        "# Cargamos el fichero excel\n",
        "xl = pd.read_excel(path)\n",
        "# en particular la hoja rawVol\n",
        "#hoja = xl.parse(\"raw_open\")\n",
        "xl.head()\n",
        "\n"
      ]
    },
    {
      "cell_type": "markdown",
      "metadata": {
        "id": "xpNZVm3vLRu4"
      },
      "source": [
        "Nos quedamos con los 20 primeros"
      ]
    },
    {
      "cell_type": "code",
      "execution_count": null,
      "metadata": {
        "id": "FLbP75VtLRu4"
      },
      "outputs": [],
      "source": [
        "df = xl\n",
        "df = df.drop(columns=[df.columns[0]])\n",
        "print(\"filas: \", len(df), \"columnas \",len(df.columns))\n",
        "X = range(len(df))"
      ]
    },
    {
      "cell_type": "code",
      "execution_count": null,
      "metadata": {
        "id": "8RouorgkLRu4"
      },
      "outputs": [],
      "source": [
        "fig, axes = plt.subplots(6,2, figsize=(20,60))\n",
        "print(axes.shape)\n",
        "for c in range(0,len(df.columns)):\n",
        "    axes[c//2][c%2].plot(X,df.take([c],axis=1))\n",
        "    axes[c//2][c%2].set_title(df.columns[c])\n",
        "plt.plot()"
      ]
    },
    {
      "cell_type": "markdown",
      "metadata": {
        "id": "zgZ4ku8GLRu4"
      },
      "source": [
        "### Grabación de figuras"
      ]
    },
    {
      "cell_type": "markdown",
      "metadata": {
        "id": "Rr8tyNr2LRu5"
      },
      "source": [
        "To save a figure to a file we can use the `savefig` method in the `Figure` class:"
      ]
    },
    {
      "cell_type": "code",
      "execution_count": null,
      "metadata": {
        "id": "VrszOdhhLRu5"
      },
      "outputs": [],
      "source": [
        "fig.savefig(\"filename.png\")"
      ]
    },
    {
      "cell_type": "markdown",
      "metadata": {
        "id": "Jj_Oq2g-LRu5"
      },
      "source": [
        "Here we can also optionally specify the DPI and choose between different output formats:"
      ]
    },
    {
      "cell_type": "code",
      "execution_count": null,
      "metadata": {
        "id": "nsCoWsb7LRu5"
      },
      "outputs": [],
      "source": [
        "fig.savefig(\"filename.png\", dpi=200)"
      ]
    },
    {
      "cell_type": "markdown",
      "metadata": {
        "id": "EM4v6qj8LRu6"
      },
      "source": [
        "Matplotlib puede grabar en formatos como PNG, JPG, EPS, SVG, PGF p PDF."
      ]
    },
    {
      "cell_type": "markdown",
      "metadata": {
        "id": "ggiyrMtcLRu6"
      },
      "source": [
        "### Leyendas, etiquetas y títulos"
      ]
    },
    {
      "cell_type": "markdown",
      "metadata": {
        "id": "-smOG4MFLRu6"
      },
      "source": [
        "Estos elementos se utilizan para \"embellecer\" las gráficas, veámoslos uno a uno"
      ]
    },
    {
      "cell_type": "markdown",
      "metadata": {
        "id": "q6YQIEGFLRu6"
      },
      "source": [
        "**Títulos**\n",
        "\n",
        "Se puede añadir un título a cada eje mediante el método `set_title`:"
      ]
    },
    {
      "cell_type": "code",
      "execution_count": null,
      "metadata": {
        "id": "yT8Y7wfqLRu6"
      },
      "outputs": [],
      "source": [
        "fig, ax = plt.subplots(1,1, figsize=(10,10))\n",
        "\n",
        "ax.set_title(\"Sin título\");"
      ]
    },
    {
      "cell_type": "markdown",
      "metadata": {
        "id": "nKnN6WmOLRu7"
      },
      "source": [
        "**Etiquetas de los ejes**\n",
        "\n",
        "De manera análoga, los métodos `set_xlabel` y `set_ylabel`, permiten poner nombre a los ejes X e Y:"
      ]
    },
    {
      "cell_type": "code",
      "execution_count": null,
      "metadata": {
        "id": "VUEb4LmfLRu7"
      },
      "outputs": [],
      "source": [
        "ax.set_xlabel(\"x\")\n",
        "ax.set_ylabel(\"y\")"
      ]
    },
    {
      "cell_type": "markdown",
      "metadata": {
        "id": "QkPAAx6yLRu8"
      },
      "source": [
        "**Leyendas**\n",
        "\n",
        "Las leyendas se usan para especificar cada función. El modo más normal es usar el parámetro label=\"nombre\" en el gráfico, y luego añadir ax.legend() para generar las leyendas\n",
        "\n",
        "\n",
        "**Ejemplo 14**"
      ]
    },
    {
      "cell_type": "code",
      "execution_count": null,
      "metadata": {
        "id": "58UfY_XmLRu8"
      },
      "outputs": [],
      "source": [
        "import numpy as np\n",
        "fig, ax = plt.subplots(1,1, figsize=(5,5))\n",
        "ax.set_title(\"Sin título\");\n",
        "ax.set_xlabel(\"x\")\n",
        "ax.set_ylabel(\"y\")\n",
        "x = np.arange(0,20,0.2)\n",
        "x2 = []\n",
        "y2 = []\n",
        "for i in range(20):\n",
        "    for j in range(i):\n",
        "        x2.append(i)\n",
        "        y2.append(i*i+j*j)\n",
        "ax.plot(x, x**2, label=\"$x^2$\")\n",
        "ax.plot(x2, y2, label=\"otra cosa\",c=\"g\")\n",
        "ax.legend();\n",
        "plt.show()"
      ]
    },
    {
      "cell_type": "markdown",
      "metadata": {
        "id": "aywm8dUqLRu8"
      },
      "source": [
        "Aunque matplotlib intenta poner la leyenda en el mejor sitio para que no solape con las funciones, la función `legend` tiene un argumento adicional `loc` que se puede emplear para este propósito. Los valore de  `loc` son numéricos, ver http://matplotlib.org/users/legend_guide.html#legend-location. Algunos de los valores más comunes para `loc`:"
      ]
    },
    {
      "cell_type": "code",
      "execution_count": null,
      "metadata": {
        "id": "hdzlP4K7LRu8"
      },
      "outputs": [],
      "source": [
        "ax.legend(loc=0) # por defecto, que elija matplotlib\n",
        "ax.legend(loc=1) # esquina superior derecha\n",
        "ax.legend(loc=2) # esquina superior izquierda\n",
        "ax.legend(loc=3) # esquina inferior izquierda\n",
        "ax.legend(loc=4) # esquina inferior derecha\n",
        "# .. mirar la documentación para más posibilidades"
      ]
    },
    {
      "cell_type": "markdown",
      "metadata": {
        "id": "yd3phDvJLRu9"
      },
      "source": [
        "**Ejemplo 15**"
      ]
    },
    {
      "cell_type": "code",
      "execution_count": null,
      "metadata": {
        "id": "dLVJ1c0gLRu9"
      },
      "outputs": [],
      "source": [
        "fig, ax = plt.subplots()\n",
        "\n",
        "ax.plot(x, np.log(x+1), label=\"y = log(x+1)\")\n",
        "ax.plot(x,np.cos(x)+x/10, label=\"y = cos(x)+ x/10\")\n",
        "ax.legend(loc=2); #  esquina superior izquierda\n",
        "ax.set_xlabel('x')\n",
        "ax.set_ylabel('y')\n",
        "ax.set_title('title');\n",
        "plt.show()"
      ]
    },
    {
      "cell_type": "markdown",
      "metadata": {
        "id": "Ai5FYmtOLRu9"
      },
      "source": [
        "Podemos también cambiar el estilo de fuente, para este y todos los demás gráficos:\n",
        "\n",
        "\n",
        "**Ejemplo 16**"
      ]
    },
    {
      "cell_type": "code",
      "execution_count": null,
      "metadata": {
        "id": "rKYTy1DvLRu9"
      },
      "outputs": [],
      "source": [
        "matplotlib.rcParams.update({'font.size': 18, 'font.family': 'serif'})\n",
        "\n",
        "fig, ax = plt.subplots()\n",
        "\n",
        "ax.plot(x, np.log(x+1), label=\"y = log(x+1)\")\n",
        "ax.plot(x,np.cos(x)+x/10, label=r\"$y = cos(x)+ \\frac{x}{10}$\")\n",
        "ax.legend(loc=2); #  esquina superior izquierda\n",
        "ax.set_xlabel('x')\n",
        "ax.set_ylabel('y')\n",
        "ax.set_title('title');\n",
        "plt.show()"
      ]
    },
    {
      "cell_type": "markdown",
      "metadata": {
        "id": "GQ4W3VXFLRu9"
      },
      "source": [
        "Vamos a recuperar un tipo de letra un poco más pequeño\n",
        "\n",
        "**Ejemplo 17**"
      ]
    },
    {
      "cell_type": "code",
      "execution_count": null,
      "metadata": {
        "id": "UPbWTKm-LRu-"
      },
      "outputs": [],
      "source": [
        "# Update the matplotlib configuration parameters:\n",
        "matplotlib.rcParams.update({'font.size': 14, 'font.family': 'STIXGeneral', 'mathtext.fontset': 'stix'})"
      ]
    },
    {
      "cell_type": "code",
      "execution_count": null,
      "metadata": {
        "id": "tErFKa0VLRu-"
      },
      "outputs": [],
      "source": [
        "fig, ax = plt.subplots()\n",
        "\n",
        "ax.plot(x, x**2, label=r\"$y = \\alpha^2$\")\n",
        "ax.plot(x, x**3, label=r\"$y = \\alpha^3$\")\n",
        "ax.legend(loc=2) # upper left corner\n",
        "ax.set_xlabel(r'$\\alpha$')\n",
        "ax.set_ylabel(r'$y$')\n",
        "ax.set_title('title');"
      ]
    },
    {
      "cell_type": "markdown",
      "metadata": {
        "id": "Fz3NbGIALRu-"
      },
      "source": [
        "### Aspecto de los ejes de coordenadas"
      ]
    },
    {
      "cell_type": "markdown",
      "metadata": {
        "id": "JT4QXDaMLRu-"
      },
      "source": [
        "Podemos poner marcas explícitas en los ejes con `set_xticks` y `set_yticks`. Ambos toman una lista de valores con dónde deben indicarse las marcas. Con `set_xticklabels` y `set_yticklabels` podemos indicar qué etiquetas concretas queremos mostrar:\n",
        "\n",
        "**Ejemplo 18**"
      ]
    },
    {
      "cell_type": "code",
      "execution_count": null,
      "metadata": {
        "id": "AqcDSPqaLRu_"
      },
      "outputs": [],
      "source": [
        "fig, ax = plt.subplots(figsize=(10, 4))\n",
        "x = np.arange(0,20,0.2)\n",
        "ax.plot(x, x**2, x, x**3, lw=2)\n",
        "\n",
        "ax.set_xticks([1, 2, 3, 4, 5])\n",
        "ax.set_xticklabels([r'$\\alpha$', r'$\\beta$', r'$\\gamma$', r'$\\delta$', r'$\\epsilon$'], fontsize=18)\n",
        "\n",
        "yticks = [0, 2000, 4000, 6000,8000]\n",
        "ax.set_yticks(yticks)\n",
        "ax.set_yticklabels([\"$%.1f$\" % y for y in yticks], fontsize=18); # etiquetas con formato latex\n",
        "plt.show()"
      ]
    },
    {
      "cell_type": "markdown",
      "metadata": {
        "id": "ZGSVoTKgLRu_"
      },
      "source": [
        "Las marcas o ticks admiten una gran variedad de posibilidades, ver  http://matplotlib.org/api/ticker_api.html para más detalles."
      ]
    },
    {
      "cell_type": "markdown",
      "metadata": {
        "id": "hhYgVxN7LRu_"
      },
      "source": [
        "**Cuadrícula**"
      ]
    },
    {
      "cell_type": "markdown",
      "metadata": {
        "id": "s_ulPQXHLRu_"
      },
      "source": [
        "El método `grid` nos permite mostrar una cuadrícula de fondo. Admite los mismos parámetros que `plot`:\n",
        "\n",
        "\n",
        "**Ejemplo 19**"
      ]
    },
    {
      "cell_type": "code",
      "execution_count": null,
      "metadata": {
        "id": "ssH3wD7uLRvA"
      },
      "outputs": [],
      "source": [
        "fig, axes = plt.subplots(1, 2, figsize=(10,3))\n",
        "\n",
        "# default grid appearance\n",
        "axes[0].plot(x, x**2, x, x**3, lw=2)\n",
        "axes[0].grid(True)\n",
        "\n",
        "# custom grid appearance\n",
        "axes[1].plot(x, x**2, x, x**3, lw=2)\n",
        "axes[1].grid(color='b', alpha=0.5, linestyle='dashed', linewidth=0.5)"
      ]
    },
    {
      "cell_type": "markdown",
      "metadata": {
        "id": "LIc1HKsCLRvA"
      },
      "source": [
        "**Propiedades de los ejes de coordenadas**"
      ]
    },
    {
      "cell_type": "markdown",
      "metadata": {
        "id": "2C99lsPWLRvA"
      },
      "source": [
        "También podemos cambiar el aspecto de los ejes de coordenadas:\n",
        "\n",
        "**Ejemplo 20**"
      ]
    },
    {
      "cell_type": "code",
      "execution_count": null,
      "metadata": {
        "id": "XnwQsqDxLRvA"
      },
      "outputs": [],
      "source": [
        "fig, ax = plt.subplots(figsize=(6,2))\n",
        "\n",
        "ax.spines['bottom'].set_color('blue')\n",
        "ax.spines['top'].set_color('blue')\n",
        "\n",
        "ax.spines['left'].set_color('red')\n",
        "ax.spines['left'].set_linewidth(2)\n",
        "\n",
        "# turn off axis spine to the right\n",
        "ax.spines['right'].set_color(\"none\")\n",
        "ax.yaxis.tick_left() # only ticks on the left side"
      ]
    },
    {
      "cell_type": "markdown",
      "metadata": {
        "id": "ZTEFfJw4LRvA"
      },
      "source": [
        "**Ejes duales**"
      ]
    },
    {
      "cell_type": "markdown",
      "metadata": {
        "id": "p9wWupdvLRvB"
      },
      "source": [
        "Tener dos ejes y (o dos ejes x) es interesante, por ejemplo cuando se tienen que representar dos unidades de medida diferentes. Matplotlib incluye los métodos `twinx` y `twiny` que permiten lograr esto:\n",
        "\n",
        "**Ejemplo 21**"
      ]
    },
    {
      "cell_type": "code",
      "execution_count": null,
      "metadata": {
        "id": "K-mFp-LlLRvB"
      },
      "outputs": [],
      "source": [
        "fig, ax1 = plt.subplots()\n",
        "\n",
        "ax1.plot(x, x**2, lw=2, color=\"blue\")\n",
        "ax1.set_ylabel(r\"área $(m^2)$\", fontsize=18, color=\"blue\")\n",
        "for label in ax1.get_yticklabels():\n",
        "    label.set_color(\"blue\")\n",
        "\n",
        "ax2 = ax1.twinx()\n",
        "ax2.plot(x, x**3, lw=2, color=\"red\")\n",
        "ax2.set_ylabel(r\"volumen $(m^3)$\", fontsize=18, color=\"red\")\n",
        "for label in ax2.get_yticklabels():\n",
        "    label.set_color(\"red\")"
      ]
    },
    {
      "cell_type": "markdown",
      "metadata": {
        "id": "voTIk9n-LRvB"
      },
      "source": [
        "**Ejes con valores negativos**\n",
        "\n",
        "**Ejemplo 22**"
      ]
    },
    {
      "cell_type": "code",
      "execution_count": null,
      "metadata": {
        "id": "SeM9JOz7LRvB"
      },
      "outputs": [],
      "source": [
        "fig, ax = plt.subplots()\n",
        "\n",
        "# para que no pinte la parte de arriba ni la de la derecha\n",
        "ax.spines['right'].set_color('none')\n",
        "ax.spines['top'].set_color('none')\n",
        "\n",
        "ax.xaxis.set_ticks_position('bottom')\n",
        "ax.spines['bottom'].set_position(('data',0)) # set position of x spine to x=0\n",
        "\n",
        "ax.yaxis.set_ticks_position('left')\n",
        "ax.spines['left'].set_position(('data',0))   # set position of y spine to y=0\n",
        "\n",
        "xx = np.linspace(-1, 1., 100) # 100 puntos repartodps entre -1 y 1\n",
        "ax.plot(xx, xx**3);"
      ]
    },
    {
      "cell_type": "markdown",
      "metadata": {
        "id": "teykY8MzLRvC"
      },
      "source": [
        "### Otros estilos 2D"
      ]
    },
    {
      "cell_type": "markdown",
      "metadata": {
        "id": "KXab2hj-LRvC"
      },
      "source": [
        "Además del método `plot`, matplotlib ofrece muchas otras posibilidades. En http://matplotlib.org/gallery.html se pueden encontrar muchos ejemplos.\n",
        "\n",
        "**Ejemplo 23**"
      ]
    },
    {
      "cell_type": "code",
      "execution_count": null,
      "metadata": {
        "id": "vFz0deZRLRvC"
      },
      "outputs": [],
      "source": [
        "n = np.array([0,1,2,3,4,5])\n",
        "\n",
        "fig, axes = plt.subplots(1, 4, figsize=(12,3))\n",
        "\n",
        "axes[0].scatter(xx, xx + 0.25*np.random.randn(len(xx)))\n",
        "axes[0].set_title(\"scatter\")\n",
        "\n",
        "axes[1].step(n, n**2, lw=2)\n",
        "axes[1].set_title(\"step\")\n",
        "\n",
        "axes[2].bar(n, n**2, align=\"center\", width=0.5, alpha=0.5)\n",
        "axes[2].set_title(\"bar\")\n",
        "\n",
        "axes[3].fill_between(x, x**2.8, x**3, color=\"red\");\n",
        "axes[3].set_title(\"fill_between\");\n",
        "\n",
        "fig.tight_layout()\n",
        "plt.show()"
      ]
    },
    {
      "cell_type": "markdown",
      "metadata": {
        "id": "U2dB-9yFLRvC"
      },
      "source": [
        "Al añadir los ejes se puede especificar que se quiere trabajar con coordenadas polares\n",
        "\n",
        "**Ejemplo 24**"
      ]
    },
    {
      "cell_type": "code",
      "execution_count": null,
      "metadata": {
        "id": "s6R3uGK3LRvC"
      },
      "outputs": [],
      "source": [
        "# polar plot using add_axes and polar projection\n",
        "fig = plt.figure()\n",
        "ax = fig.add_axes([0.0, 0.0, .9, .9], polar=True)\n",
        "t = np.linspace(0, 4 * np.pi, 200)\n",
        "ax.plot(t, t, color='blue', lw=3);"
      ]
    },
    {
      "cell_type": "markdown",
      "metadata": {
        "id": "4zTtrDDJLRvD"
      },
      "source": [
        "Otro uso típicos son los histogramas.\n",
        "\n",
        "**Ejemplo 25**"
      ]
    },
    {
      "cell_type": "code",
      "execution_count": null,
      "metadata": {
        "id": "rg4IG5ODLRvD"
      },
      "outputs": [],
      "source": [
        "\n",
        "\n",
        "import matplotlib\n",
        "import matplotlib.pyplot as plt\n",
        "import numpy as np\n",
        "\n",
        "# Un histograma\n",
        "n = np.random.randn(100000)\n",
        "fig, axes = plt.subplots(1, 2, figsize=(12,4))\n",
        "\n",
        "axes[0].hist(n,bins=60)\n",
        "axes[0].set_title(\"Histograma por defecto\")\n",
        "axes[0].set_xlim((min(n), max(n)))\n",
        "\n",
        "axes[1].hist(n, cumulative=True, bins=200)\n",
        "axes[1].set_title(\"Histograma acumulado\")\n",
        "axes[1].set_xlim((min(n), max(n)));"
      ]
    },
    {
      "cell_type": "markdown",
      "metadata": {
        "id": "vn17FhloLRvD"
      },
      "source": [
        "### Anotaciones de texto"
      ]
    },
    {
      "cell_type": "markdown",
      "metadata": {
        "id": "BvoTv_yILRvD"
      },
      "source": [
        "Se puede añadir texto a las gráficas con el método `text`.\n",
        "\n",
        "**Ejemplo 26**"
      ]
    },
    {
      "cell_type": "code",
      "execution_count": null,
      "metadata": {
        "id": "k7_LFPCvLRvE"
      },
      "outputs": [],
      "source": [
        "fig, ax = plt.subplots()\n",
        "xx = np.linspace(-1, 1., 100) # 100 puntos repartodps entre -1 y 1\n",
        "ax.plot(xx, xx**2, xx, xx**3)\n",
        "\n",
        "ax.text(0.15, 0.2, r\"$y=x^2$\", fontsize=20, color=\"blue\")\n",
        "ax.text(0.65, 0.1, r\"$y=x^3$\", fontsize=20, color=\"green\");\n",
        "plt.show()"
      ]
    },
    {
      "cell_type": "markdown",
      "metadata": {
        "id": "Wy3QeZknLRvE"
      },
      "source": [
        "### Subgráficos de tamaños diferentes"
      ]
    },
    {
      "cell_type": "markdown",
      "metadata": {
        "id": "hY3z2vXpLRvE"
      },
      "source": [
        "#### subplot2grid\n",
        "\n",
        "Permite que diferentes subplots tengan tamaño diferente\n",
        "\n",
        "**Ejemplo 27**"
      ]
    },
    {
      "cell_type": "code",
      "execution_count": null,
      "metadata": {
        "id": "j8FEIVXpLRvE"
      },
      "outputs": [],
      "source": [
        "fig = plt.figure()\n",
        "ax1 = plt.subplot2grid((3,3), (0,0), colspan=3)\n",
        "ax2 = plt.subplot2grid((3,3), (1,0), colspan=2)\n",
        "ax3 = plt.subplot2grid((3,3), (1,2), rowspan=2)\n",
        "ax4 = plt.subplot2grid((3,3), (2,0))\n",
        "ax5 = plt.subplot2grid((3,3), (2,1))\n",
        "fig.tight_layout()\n",
        "plt.show()"
      ]
    },
    {
      "cell_type": "markdown",
      "metadata": {
        "id": "9T_PebcyLRvE"
      },
      "source": [
        "**gridspec**\n",
        "\n",
        "Ejemplo 28"
      ]
    },
    {
      "cell_type": "code",
      "execution_count": null,
      "metadata": {
        "id": "LTpUTVzkLRvF"
      },
      "outputs": [],
      "source": [
        "import matplotlib.gridspec as gridspec\n",
        "\n",
        "fig = plt.figure()\n",
        "\n",
        "gs = gridspec.GridSpec(2, 3, height_ratios=[2,1], width_ratios=[1,2,1])\n",
        "for g in gs:\n",
        "    ax = fig.add_subplot(g)\n",
        "\n",
        "fig.tight_layout()"
      ]
    },
    {
      "cell_type": "markdown",
      "metadata": {
        "id": "pSOL6w3zLRvF"
      },
      "source": [
        "### Mapas de colores y contornos\n",
        "\n",
        "Útiles para representar figuras de una variable en dos variables, usando una de las variables como un mapa de color. Hay muchos mapas de colores predefinidos, aunque también se puede definir nuevos, ver: http://www.scipy.org/Cookbook/Matplotlib/Show_colormaps\n",
        "\n"
      ]
    },
    {
      "cell_type": "code",
      "execution_count": null,
      "metadata": {
        "id": "EWmAuiuILRvF"
      },
      "outputs": [],
      "source": [
        "# definimos una función de x en y,z\n",
        "alpha = 0.7\n",
        "phi_ext = 2 * np.pi * 0.5\n",
        "\n",
        "def flux_qubit_potential(phi_m, phi_p):\n",
        "    return 2 + alpha - 2 * np.cos(phi_p) * np.cos(phi_m) - alpha * np.cos(phi_ext - 2*phi_p)\n",
        "phi_m = np.linspace(0, 2*np.pi, 100)\n",
        "phi_p = np.linspace(0, 2*np.pi, 100)\n",
        "X,Y = np.meshgrid(phi_p, phi_m)\n",
        "Z = flux_qubit_potential(X, Y).T"
      ]
    },
    {
      "cell_type": "markdown",
      "metadata": {
        "id": "SBaEBcLZLRvF"
      },
      "source": [
        "**pcolor**\n",
        "\n",
        "**Ejemplo 29**"
      ]
    },
    {
      "cell_type": "code",
      "execution_count": null,
      "metadata": {
        "id": "GXsCRVGiLRvG"
      },
      "outputs": [],
      "source": [
        "fig, ax = plt.subplots()\n",
        "\n",
        "p = ax.pcolor(X/(2*np.pi), Y/(2*np.pi), Z, cmap=matplotlib.cm.RdBu, vmin=abs(Z).min(), vmax=abs(Z).max())\n",
        "cb = fig.colorbar(p, ax=ax)\n",
        "plt.show()"
      ]
    },
    {
      "cell_type": "markdown",
      "metadata": {
        "id": "sQW6jJr7LRvG"
      },
      "source": [
        "**contour**\n",
        "\n",
        "**Ejemplo 30**"
      ]
    },
    {
      "cell_type": "code",
      "execution_count": null,
      "metadata": {
        "id": "Z3Fc26seLRvI"
      },
      "outputs": [],
      "source": [
        "fig, ax = plt.subplots()\n",
        "\n",
        "cnt = ax.contour(Z, cmap=matplotlib.cm.RdBu, vmin=abs(Z).min(), vmax=abs(Z).max(), extent=[0, 1, 0, 1])"
      ]
    },
    {
      "cell_type": "markdown",
      "metadata": {
        "id": "D8QUj3VALRvI"
      },
      "source": [
        "## Figuras en 3D"
      ]
    },
    {
      "cell_type": "markdown",
      "metadata": {
        "id": "W0F8qKsALRvJ"
      },
      "source": [
        "Los gráficos  3D en matplotlib se obtienen mediante la clase `Axes3D`. Los ejes 3D se añaden igual que en el caso 2D  tan solo añadiendo el argumento `projection='3d'` a `add_axes` o a `add_subplot`."
      ]
    },
    {
      "cell_type": "markdown",
      "metadata": {
        "id": "UUidspSgLRvJ"
      },
      "source": [
        "**Superficies**\n",
        "\n",
        "Se dibujan con el método `plot_surface`\n",
        "\n",
        "**Ejemplo 31**"
      ]
    },
    {
      "cell_type": "code",
      "execution_count": null,
      "metadata": {
        "id": "X8_DJoQpLRvJ"
      },
      "outputs": [],
      "source": [
        "from mpl_toolkits.mplot3d.axes3d import Axes3D\n",
        "fig = plt.figure(figsize=(14,6))\n",
        "\n",
        "# projection='3d' indica que este subplot es en 3d\n",
        "ax = fig.add_subplot(1, 2, 1, projection='3d')\n",
        "\n",
        "p = ax.plot_surface(X, Y, Z)\n",
        "\n",
        "# degradado de color y barra de calor\n",
        "ax = fig.add_subplot(1, 2, 2, projection='3d')\n",
        "p = ax.plot_surface(X, Y, Z,  cmap=matplotlib.cm.coolwarm, linewidth=0)\n",
        "cb = fig.colorbar(p, shrink=0.5)"
      ]
    },
    {
      "cell_type": "markdown",
      "metadata": {
        "id": "6oab-dSMLRvJ"
      },
      "source": [
        "**Gráfico de malla**\n",
        "\n",
        "**Ejemplo 32**"
      ]
    },
    {
      "cell_type": "code",
      "execution_count": null,
      "metadata": {
        "id": "jPuRu8zqLRvK"
      },
      "outputs": [],
      "source": [
        "fig = plt.figure(figsize=(8,6))\n",
        "\n",
        "ax = fig.add_subplot(1, 1, 1, projection='3d')\n",
        "\n",
        "p = ax.plot_wireframe(X, Y, Z, rstride=4, cstride=4)\n",
        "plt.show()"
      ]
    },
    {
      "cell_type": "markdown",
      "metadata": {
        "id": "VydUMRgcLRvK"
      },
      "source": [
        "**Grafico 3D con proyecciones de contorno**\n",
        "\n",
        "**Ejemplo 33**"
      ]
    },
    {
      "cell_type": "code",
      "execution_count": null,
      "metadata": {
        "id": "xPEyXWTTLRvK"
      },
      "outputs": [],
      "source": [
        "fig = plt.figure(figsize=(8,6))\n",
        "\n",
        "ax = fig.add_subplot(1,1,1, projection='3d')\n",
        "\n",
        "ax.plot_surface(X, Y, Z, rstride=4, cstride=4, alpha=0.25)\n",
        "cset = ax.contour(X, Y, Z, zdir='z', offset=-np.pi, cmap=matplotlib.cm.coolwarm)\n",
        "cset = ax.contour(X, Y, Z, zdir='x', offset=-np.pi, cmap=matplotlib.cm.coolwarm)\n",
        "cset = ax.contour(X, Y, Z, zdir='y', offset=3*np.pi, cmap=matplotlib.cm.coolwarm)\n",
        "\n",
        "ax.set_xlim3d(-np.pi, 2*np.pi);\n",
        "ax.set_ylim3d(0, 3*np.pi);\n",
        "ax.set_zlim3d(-np.pi, 2*np.pi);"
      ]
    },
    {
      "cell_type": "markdown",
      "metadata": {
        "id": "060W3nZgLRvL"
      },
      "source": [
        "**Cambio de perspectiva**\n",
        "\n",
        "Podemos cambiar el punto de vista con el método `view_init` que toma dos argumentos: `elevation` y ángulo `azimuth`(en grados):\n",
        "\n",
        "**Ejemplo 34**"
      ]
    },
    {
      "cell_type": "code",
      "execution_count": null,
      "metadata": {
        "id": "LBMZDPRTLRvL"
      },
      "outputs": [],
      "source": [
        "fig = plt.figure(figsize=(12,6))\n",
        "\n",
        "ax = fig.add_subplot(1,2,1, projection='3d')\n",
        "ax.plot_surface(X, Y, Z,  alpha=0.25)\n",
        "ax.view_init(30, 45)\n",
        "\n",
        "ax = fig.add_subplot(1,2,2, projection='3d')\n",
        "ax.plot_surface(X, Y, Z,  alpha=0.25)\n",
        "ax.view_init(70, 30)\n",
        "\n",
        "fig.tight_layout()"
      ]
    },
    {
      "cell_type": "markdown",
      "metadata": {
        "id": "VShnilynLRvL"
      },
      "source": [
        "## Para saber más"
      ]
    },
    {
      "cell_type": "markdown",
      "metadata": {
        "id": "vSZ1ch4FLRvL"
      },
      "source": [
        "* http://www.matplotlib.org - La página oficial.\n",
        "* https://github.com/matplotlib/matplotlib - Código fuente .\n",
        "* http://matplotlib.org/gallery.html - Galería con muchos ejemplos\n",
        "* http://www.loria.fr/~rougier/teaching/matplotlib - Un buen tutorial.\n",
        "* http://scipy-lectures.github.io/matplotlib/matplotlib.html - Más referencias.\n",
        "* https://seaborn.pydata.org/ : seaborn es un paquete diferente, con muchos tipos de gráficas estadísticas ya construidas\n"
      ]
    },
    {
      "cell_type": "code",
      "execution_count": null,
      "metadata": {
        "id": "qd48hSnOLRvL"
      },
      "outputs": [],
      "source": []
    }
  ],
  "metadata": {
    "colab": {
      "provenance": [],
      "include_colab_link": true
    },
    "kernelspec": {
      "display_name": "Python 3 (ipykernel)",
      "language": "python",
      "name": "python3"
    },
    "language_info": {
      "codemirror_mode": {
        "name": "ipython",
        "version": 3
      },
      "file_extension": ".py",
      "mimetype": "text/x-python",
      "name": "python",
      "nbconvert_exporter": "python",
      "pygments_lexer": "ipython3",
      "version": "3.9.12"
    }
  },
  "nbformat": 4,
  "nbformat_minor": 0
}