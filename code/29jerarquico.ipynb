{
  "cells": [
    {
      "cell_type": "markdown",
      "metadata": {
        "id": "view-in-github",
        "colab_type": "text"
      },
      "source": [
        "<a href=\"https://colab.research.google.com/github/RafaelCaballero/APD/blob/main/code/29jerarquico.ipynb\" target=\"_parent\"><img src=\"https://colab.research.google.com/assets/colab-badge.svg\" alt=\"Open In Colab\"/></a>"
      ]
    },
    {
      "cell_type": "markdown",
      "id": "c7bbc232",
      "metadata": {
        "id": "c7bbc232"
      },
      "source": [
        "# Introducción a la ciencia de datos con Python\n",
        "Rafa Caballero\n",
        "\n",
        "#### Clustering Aglomerativo - Dendogramas\n"
      ]
    },
    {
      "cell_type": "code",
      "execution_count": null,
      "id": "c1938eb0",
      "metadata": {
        "id": "c1938eb0"
      },
      "outputs": [],
      "source": [
        "import numpy as np\n",
        "import matplotlib.pyplot as plt\n",
        "\n",
        "\n",
        "x = [4, 5, 10, 4, 3, 11, 14 , 6, 10, 12]\n",
        "y = [21, 19, 24, 17, 16, 25, 24, 22, 21, 21]\n",
        "\n",
        "plt.scatter(x, y)\n",
        "for i in range(len(x)):\n",
        "    plt.text(x[i]+0.3,y[i]-0.1,str(i))\n",
        "plt.show()"
      ]
    },
    {
      "cell_type": "code",
      "execution_count": null,
      "id": "6ba33289",
      "metadata": {
        "id": "6ba33289"
      },
      "outputs": [],
      "source": [
        "import numpy as np\n",
        "import matplotlib.pyplot as plt\n",
        "from scipy.cluster.hierarchy import dendrogram, linkage\n",
        "\n",
        "x = [4, 5, 10, 4, 3, 11, 14 , 6, 10, 12]\n",
        "y = [21, 19, 24, 17, 16, 25, 24, 22, 21, 21]\n",
        "\n",
        "data = list(zip(x, y))\n",
        "print(data)\n",
        "\n",
        "linkage_data = linkage(data, method='ward', metric='euclidean')\n",
        "r = dendrogram(linkage_data)\n",
        "\n",
        "plt.show()"
      ]
    },
    {
      "cell_type": "code",
      "execution_count": null,
      "id": "d87ae7ad",
      "metadata": {
        "id": "d87ae7ad"
      },
      "outputs": [],
      "source": [
        "import numpy as np\n",
        "import matplotlib.pyplot as plt\n",
        "from sklearn.cluster import AgglomerativeClustering\n",
        "\n",
        "x = [4, 5, 10, 4, 3, 11, 14 , 6, 10, 12]\n",
        "y = [21, 19, 24, 17, 16, 25, 24, 22, 21, 21]\n",
        "\n",
        "data = list(zip(x, y))\n",
        "\n",
        "hierarchical_cluster = AgglomerativeClustering(n_clusters=2, metric='euclidean', linkage='ward')\n",
        "labels = hierarchical_cluster.fit_predict(data)\n",
        "print(labels)\n",
        "plt.scatter(x, y, c=labels)\n",
        "plt.show()"
      ]
    },
    {
      "cell_type": "code",
      "execution_count": null,
      "id": "e79696bb",
      "metadata": {
        "id": "e79696bb"
      },
      "outputs": [],
      "source": [
        "import numpy as np\n",
        "\n",
        "x = []\n",
        "y = []\n",
        "for v in np.linspace(4, 12, 100):\n",
        "    x.append(v)\n",
        "    y.append(16)\n",
        "    x.append(v)\n",
        "    y.append(24)\n",
        "    x.append(4+v/2)\n",
        "    y.append(10+16/2)\n",
        "    x.append(4+ v/2)\n",
        "    y.append(10+24/2)\n",
        "\n",
        "for v in np.linspace(16, 24, 100):\n",
        "    x.append(4)\n",
        "    y.append(v)\n",
        "    x.append(12)\n",
        "    y.append(v)\n",
        "    y.append(10+v/2)\n",
        "    x.append(6)\n",
        "    y.append(10+ v/2)\n",
        "    x.append(10)\n",
        "\n",
        "plt.scatter(x, y)\n",
        "plt.show()"
      ]
    },
    {
      "cell_type": "code",
      "execution_count": null,
      "id": "4830358e",
      "metadata": {
        "id": "4830358e"
      },
      "outputs": [],
      "source": [
        "data = list(zip(x, y))\n",
        "\n",
        "hierarchical_cluster = AgglomerativeClustering(n_clusters=2, metric='manhattan', linkage='single')\n",
        "labels = hierarchical_cluster.fit_predict(data)\n",
        "plt.scatter(x, y, c=labels)\n",
        "plt.show()"
      ]
    },
    {
      "cell_type": "code",
      "execution_count": null,
      "id": "927f09ea",
      "metadata": {
        "id": "927f09ea"
      },
      "outputs": [],
      "source": []
    }
  ],
  "metadata": {
    "kernelspec": {
      "display_name": "Python 3 (ipykernel)",
      "language": "python",
      "name": "python3"
    },
    "language_info": {
      "codemirror_mode": {
        "name": "ipython",
        "version": 3
      },
      "file_extension": ".py",
      "mimetype": "text/x-python",
      "name": "python",
      "nbconvert_exporter": "python",
      "pygments_lexer": "ipython3",
      "version": "3.9.12"
    },
    "colab": {
      "provenance": [],
      "include_colab_link": true
    }
  },
  "nbformat": 4,
  "nbformat_minor": 5
}