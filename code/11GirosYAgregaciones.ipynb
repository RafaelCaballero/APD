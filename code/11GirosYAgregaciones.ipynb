{
  "cells": [
    {
      "cell_type": "markdown",
      "metadata": {
        "id": "view-in-github",
        "colab_type": "text"
      },
      "source": [
        "<a href=\"https://colab.research.google.com/github/RafaelCaballero/APD/blob/main/code/11GirosYAgregaciones.ipynb\" target=\"_parent\"><img src=\"https://colab.research.google.com/assets/colab-badge.svg\" alt=\"Open In Colab\"/></a>"
      ]
    },
    {
      "cell_type": "markdown",
      "id": "eff77eed",
      "metadata": {
        "id": "eff77eed"
      },
      "source": [
        "\n",
        "# Introducción a la ciencia de datos con Python\n",
        "### Rafa Caballero\n",
        "\n",
        "### Giros y agrupaciones\n",
        "Operaciones muy útiles para preparar los dataframes antes de empezar a trabajar\n",
        "\n",
        "### Índice\n",
        "[Trasponer](#Trasponer)<br>\n",
        "[pivot](#Pivot)<br>\n",
        "[melt](#Melt)<br>\n",
        "[pivot_table](#Pivot_table)<br>\n",
        "[Agregaciones](#Agregaciones)<br>"
      ]
    },
    {
      "cell_type": "markdown",
      "id": "e89af473",
      "metadata": {
        "id": "e89af473"
      },
      "source": [
        "<a name=\"Trasponer\"></a>\n",
        "## Trasponer\n",
        "\n",
        "Tenemos datos del euro en excel y queremos hacer una gráfica de su evolución"
      ]
    },
    {
      "cell_type": "code",
      "execution_count": null,
      "id": "3d58432d",
      "metadata": {
        "id": "3d58432d"
      },
      "outputs": [],
      "source": [
        "#!pip install --upgrade xlrd # si da error la siguiente línea descomentar esto y ejecutar"
      ]
    },
    {
      "cell_type": "code",
      "execution_count": null,
      "id": "09c23043",
      "metadata": {
        "id": "09c23043"
      },
      "outputs": [],
      "source": [
        "url = \"https://github.com/RafaelCaballero/tdm/raw/master/datos/euro.xlsx\"\n",
        "import pandas as pd\n",
        "\n",
        "df = pd.read_excel(url)\n",
        "df"
      ]
    },
    {
      "cell_type": "markdown",
      "id": "4429f561",
      "metadata": {
        "id": "4429f561"
      },
      "source": [
        "**Ejercicio**  Queremos eliminar las 3 últimas filas. Dejar el resultado en `df2`\n"
      ]
    },
    {
      "cell_type": "code",
      "execution_count": null,
      "id": "c10118ca",
      "metadata": {
        "id": "c10118ca"
      },
      "outputs": [],
      "source": []
    },
    {
      "cell_type": "markdown",
      "source": [
        "Vamos a convetir la columna Dates en índice"
      ],
      "metadata": {
        "id": "a-gQw-nopMmF"
      },
      "id": "a-gQw-nopMmF"
    },
    {
      "cell_type": "code",
      "source": [
        "df3 = df2.copy() # hacemos una copia\n",
        "df3.index = df3.Dates\n",
        "df3 = df3.drop([\"Dates\"],axis=1)\n",
        "df3"
      ],
      "metadata": {
        "id": "lWac3iJVoh1W"
      },
      "id": "lWac3iJVoh1W",
      "execution_count": null,
      "outputs": []
    },
    {
      "cell_type": "markdown",
      "id": "d438e2cb",
      "metadata": {
        "id": "d438e2cb"
      },
      "source": [
        "Ahora tenemos un problema, queremos hacer una gráfica de PX_OPEN pero es una fila. Solución: trasponer"
      ]
    },
    {
      "cell_type": "code",
      "execution_count": null,
      "id": "f4310247",
      "metadata": {
        "id": "f4310247"
      },
      "outputs": [],
      "source": [
        "df4 = df3.T\n",
        "df4"
      ]
    },
    {
      "cell_type": "code",
      "execution_count": null,
      "id": "96ac6dab",
      "metadata": {
        "id": "96ac6dab"
      },
      "outputs": [],
      "source": [
        "df4[\"PX_OPEN\"].plot()"
      ]
    },
    {
      "cell_type": "markdown",
      "id": "60e6bed2",
      "metadata": {
        "id": "60e6bed2"
      },
      "source": [
        "<a name=\"Pivot\"></a>\n",
        "## Pivot\n",
        "\n",
        "3 parámetros relevantes\n",
        "\n",
        "- columns: la columna (o columnas) cuyos valores serán las nuevas columnas\n",
        "- values: columna con la que se rellenaran estos valores\n",
        "- index: columna cuyo contenido pasará a ser el índice\n",
        "\n",
        "<img src=https://pandas.pydata.org/docs/_images/reshaping_pivot.png width=400>\n",
        "\n",
        "Tenemos datos de paro por comunidades:"
      ]
    },
    {
      "cell_type": "code",
      "execution_count": null,
      "id": "c41da96a",
      "metadata": {
        "id": "c41da96a"
      },
      "outputs": [],
      "source": [
        "import pandas as pd\n",
        "url = \"https://raw.githubusercontent.com/RafaelCaballero/tdm/master/datos/parocomunidades.csv\"\n",
        "df = pd.read_csv(url,encoding=\"latin1\")\n",
        "df.Comunidad = df.Comunidad.str.strip() # para quitar blancos al final y al principio\n",
        "df"
      ]
    },
    {
      "cell_type": "markdown",
      "id": "6b8ed526",
      "metadata": {
        "id": "6b8ed526"
      },
      "source": [
        "Nos gustaría hacer una gráfica para ver la evolución del paro por años en alguna comunidad concreta, pero para eso las comunidades deberían ser columnas"
      ]
    },
    {
      "cell_type": "code",
      "execution_count": null,
      "id": "c5efabec",
      "metadata": {
        "id": "c5efabec"
      },
      "outputs": [],
      "source": [
        "df.T"
      ]
    },
    {
      "cell_type": "markdown",
      "id": "c850e7cc",
      "metadata": {
        "id": "c850e7cc"
      },
      "source": [
        "No vale! no nos quedan los periodos como filas; lo que necesitamos es convertir Comunidad en columna sin afectar a las demás. Para esto podemos usar [pivot](https://pandas.pydata.org/docs/reference/api/pandas.DataFrame.pivot.html) que pasa del formato largo al formato ancho"
      ]
    },
    {
      "cell_type": "code",
      "execution_count": null,
      "id": "b68a85d1",
      "metadata": {
        "id": "b68a85d1"
      },
      "outputs": [],
      "source": [
        "df2 = df.pivot(index='Periodo', columns='Comunidad', values='Total')\n",
        "df2"
      ]
    },
    {
      "cell_type": "code",
      "execution_count": null,
      "id": "cd9080e2",
      "metadata": {
        "scrolled": true,
        "id": "cd9080e2"
      },
      "outputs": [],
      "source": [
        "df2[\"Asturias, Principado de\"].plot(title=\"Evolución paro en Asturias\")"
      ]
    },
    {
      "cell_type": "markdown",
      "id": "f6e9cab8",
      "metadata": {
        "id": "f6e9cab8"
      },
      "source": [
        "**Pregunta** ¿Qué hará el código siguiente?"
      ]
    },
    {
      "cell_type": "code",
      "execution_count": null,
      "id": "88755442",
      "metadata": {
        "id": "88755442"
      },
      "outputs": [],
      "source": [
        "#df.pivot(index='Comunidad', columns='Periodo', values='Total')"
      ]
    },
    {
      "cell_type": "markdown",
      "id": "02ac0f88",
      "metadata": {
        "id": "02ac0f88"
      },
      "source": [
        "<a name=\"Melt\"></a>\n",
        "## Melt\n",
        "\n",
        "[melt](https://pandas.pydata.org/docs/reference/api/pandas.melt.html) es la función contraria, la que pasa del formato ancho al formato largo\n",
        "\n",
        "En esta ocasión se indican las columnas que no hay que tocar, las que hacen de \"clave primaria\":\n",
        "\n",
        "<img src=\"https://miro.medium.com/max/1400/0*O3SGf68-vlON_H8L.png\" width=400>"
      ]
    },
    {
      "cell_type": "code",
      "execution_count": null,
      "id": "7e3e770e",
      "metadata": {
        "id": "7e3e770e"
      },
      "outputs": [],
      "source": [
        "df2"
      ]
    },
    {
      "cell_type": "code",
      "execution_count": null,
      "id": "0563f5a1",
      "metadata": {
        "id": "0563f5a1"
      },
      "outputs": [],
      "source": [
        "df2.melt()"
      ]
    },
    {
      "cell_type": "code",
      "execution_count": null,
      "id": "05837c17",
      "metadata": {
        "scrolled": true,
        "id": "05837c17"
      },
      "outputs": [],
      "source": [
        "df2.melt(ignore_index=False)"
      ]
    },
    {
      "cell_type": "markdown",
      "id": "f686bc6a",
      "metadata": {
        "id": "f686bc6a"
      },
      "source": [
        "<a name=\"Pivot_table\"></a>\n",
        "## pivot_table\n",
        "\n",
        "[pivot_table](https://pandas.pydata.org/docs/reference/api/pandas.pivot_table.html) Añade una función de agregación a pivot."
      ]
    },
    {
      "cell_type": "code",
      "execution_count": null,
      "id": "8b49fceb",
      "metadata": {
        "id": "8b49fceb"
      },
      "outputs": [],
      "source": [
        "stocks = pd.read_csv('https://gist.githubusercontent.com/alexdebrie/b3f40efc3dd7664df5a20f5eee85e854/raw/ee3e6feccba2464cbbc2e185fb17961c53d2a7f5/stocks.csv')\n",
        "stocks"
      ]
    },
    {
      "cell_type": "markdown",
      "id": "28d73795",
      "metadata": {
        "id": "28d73795"
      },
      "source": [
        "Vamos a convertir la columna `symbol`en 3, una para cada uno de sus valores"
      ]
    },
    {
      "cell_type": "code",
      "execution_count": null,
      "id": "b47e6c2f",
      "metadata": {
        "id": "b47e6c2f"
      },
      "outputs": [],
      "source": [
        "df_symbol = stocks.pivot(index='date', columns='symbol', values='volume')\n",
        "df_symbol"
      ]
    },
    {
      "cell_type": "code",
      "execution_count": null,
      "id": "97170e1f",
      "metadata": {
        "id": "97170e1f"
      },
      "outputs": [],
      "source": [
        "df_symbol.columns"
      ]
    },
    {
      "cell_type": "code",
      "execution_count": null,
      "id": "e3351431",
      "metadata": {
        "id": "e3351431"
      },
      "outputs": [],
      "source": [
        "stocks.pivot(index='symbol', columns='date', values='volume')"
      ]
    },
    {
      "cell_type": "markdown",
      "id": "6e5fd8cc",
      "metadata": {
        "id": "6e5fd8cc"
      },
      "source": [
        "Total de volumen para cada valor"
      ]
    },
    {
      "cell_type": "code",
      "execution_count": null,
      "id": "33b1b95a",
      "metadata": {
        "id": "33b1b95a"
      },
      "outputs": [],
      "source": [
        "import numpy as np\n",
        "stocks.pivot_table(index='symbol', values='volume', aggfunc=np.sum)"
      ]
    },
    {
      "cell_type": "markdown",
      "id": "b44c497d",
      "metadata": {
        "id": "b44c497d"
      },
      "source": [
        "**Ejemplo** Consideramos el fichero"
      ]
    },
    {
      "cell_type": "code",
      "execution_count": null,
      "id": "af5df6e1",
      "metadata": {
        "id": "af5df6e1"
      },
      "outputs": [],
      "source": [
        "import pandas as pd\n",
        "url = \"https://github.com/RafaelCaballero/tdm/raw/master/datos/clientes.xlsx\"\n",
        "df = pd.read_excel(url)\n",
        "df"
      ]
    },
    {
      "cell_type": "markdown",
      "id": "07f28d48",
      "metadata": {
        "id": "07f28d48"
      },
      "source": [
        "Queremos el total de tasas por cliente desglosadas en dos columnas, una para entregado=1 y otra para entregado=0"
      ]
    },
    {
      "cell_type": "code",
      "execution_count": null,
      "id": "89801042",
      "metadata": {
        "id": "89801042"
      },
      "outputs": [],
      "source": []
    },
    {
      "cell_type": "markdown",
      "id": "ef1c5903",
      "metadata": {
        "id": "ef1c5903"
      },
      "source": [
        "<a name=\"Agregaciones\"></a>\n",
        "## Agregados"
      ]
    },
    {
      "cell_type": "markdown",
      "id": "2c1b9ce9",
      "metadata": {
        "id": "2c1b9ce9"
      },
      "source": [
        "Ya sabemos que se pueden utilizar funciones de agregación por columnas\n",
        "\n",
        "<table>\n",
        "<thead><tr><th>Function</th><th>Description</th></tr></thead><tbody><tr><td>count</td><td>Number of non-null observations</td></tr><tr><td>sum</td><td>Sum of values</td></tr><tr><td>mean</td><td>Mean of values</td></tr><tr><td>mad</td><td>Mean absolute deviation</td></tr><tr><td>median</td><td>Arithmetic median of values</td></tr><tr><td>min</td><td>Minimum</td></tr><tr><td>max</td><td>Maximum</td></tr><tr><td>mode</td><td>Mode</td></tr><tr><td>abs</td><td>Absolute Value</td></tr><tr><td>prod</td><td>Product of values</td></tr><tr><td>std</td><td>Unbiased standard deviation</td></tr><tr><td>var</td><td>Unbiased variance</td></tr><tr><td>sem</td><td>Unbiased standard error of the mean</td></tr><tr><td>skew</td><td>Unbiased skewness (3rd moment)</td></tr><tr><td>kurt</td><td>Unbiased kurtosis (4th moment)</td></tr><tr><td>quantile</td><td>Sample quantile (value at %)</td></tr><tr><td>cumsum</td><td>Cumulative sum</td></tr><tr><td>cumprod</td><td>Cumulative product</td></tr><tr><td>cummax</td><td>Cumulative maximum</td></tr><tr><td>cummin</td><td>Cumulative minimum</td></tr></tbody>\n",
        "</table>\n",
        "\n"
      ]
    },
    {
      "cell_type": "code",
      "execution_count": null,
      "id": "e8581489",
      "metadata": {
        "id": "e8581489"
      },
      "outputs": [],
      "source": [
        "url = \"https://raw.githubusercontent.com/RafaelCaballero/tdm/master/datos/valores.csv\"\n",
        "df = pd.read_csv(url)\n",
        "df"
      ]
    },
    {
      "cell_type": "code",
      "execution_count": null,
      "id": "a907aa15",
      "metadata": {
        "id": "a907aa15"
      },
      "outputs": [],
      "source": [
        "df.INDU_Index_High.max(), df.INDU_Index_High.min()"
      ]
    },
    {
      "cell_type": "markdown",
      "id": "3253e2cb",
      "metadata": {
        "id": "3253e2cb"
      },
      "source": [
        "Sin embargo en otras ocasiones nos hará falta calcular estos datos por grupos. El siguiente ejemplo tiene datos de tweets de las elecciones USA2020 para varios usuarios, incluyendo el \"sentimiento\" que expresa el tweet sobre el candidato Biden (B) y Trump (T)"
      ]
    },
    {
      "cell_type": "code",
      "execution_count": null,
      "id": "993d484c",
      "metadata": {
        "id": "993d484c"
      },
      "outputs": [],
      "source": [
        "import pandas as pd\n",
        "url = \"https://github.com/RafaelCaballero/tdm/blob/master/datos/todousa2020_users.xlsx?raw=true\"\n",
        "\n",
        "df = pd.read_excel(url)\n",
        "df"
      ]
    },
    {
      "cell_type": "markdown",
      "id": "9fc2953c",
      "metadata": {
        "id": "9fc2953c"
      },
      "source": [
        "Para cada `userid` queremos saber la opinión media de estos usuarios para los dos candidatos (B) y (T).\n",
        "\n",
        "Esto se hace en dos fases:\n",
        "\n",
        "- Primero se agrupa con group by"
      ]
    },
    {
      "cell_type": "code",
      "execution_count": null,
      "id": "8278cd4d",
      "metadata": {
        "id": "8278cd4d"
      },
      "outputs": [],
      "source": [
        "df_userid = df.groupby('userid')\n",
        "df_userid\n",
        "\n"
      ]
    },
    {
      "cell_type": "markdown",
      "id": "362970cc",
      "metadata": {
        "id": "362970cc"
      },
      "source": [
        "Ahora se hacen las operaciones que se deseen sobre los grupos creados"
      ]
    },
    {
      "cell_type": "code",
      "execution_count": null,
      "id": "335cc15a",
      "metadata": {
        "id": "335cc15a"
      },
      "outputs": [],
      "source": [
        "df_user = df_userid.agg(\n",
        "      t_media=('T', 'mean'),\n",
        "      b_media=('B', 'mean')\n",
        ")\n",
        "df_user"
      ]
    },
    {
      "cell_type": "code",
      "execution_count": null,
      "id": "f5f09c06",
      "metadata": {
        "id": "f5f09c06"
      },
      "outputs": [],
      "source": []
    },
    {
      "cell_type": "markdown",
      "id": "f8a21ee4",
      "metadata": {
        "id": "f8a21ee4"
      },
      "source": [
        "**Ejercicio** Ahora queremos saber en el fichero\n",
        "\n",
        "https://raw.githubusercontent.com/RafaelCaballero/tdm/master/datos/vote_intention.csv\n",
        "\n",
        "que contiene datos de encuestas, la edad media de los votantes de cada partido (el voto es vote_r y la edad age)"
      ]
    },
    {
      "cell_type": "code",
      "execution_count": null,
      "id": "36dcee46",
      "metadata": {
        "id": "36dcee46"
      },
      "outputs": [],
      "source": [
        "import pandas as pd\n",
        "url = \"https://raw.githubusercontent.com/RafaelCaballero/tdm/master/datos/vote_intention.csv\"\n",
        "df = pd.read_csv(url)\n",
        "df"
      ]
    },
    {
      "cell_type": "code",
      "execution_count": null,
      "id": "a2b84a32",
      "metadata": {
        "id": "a2b84a32"
      },
      "outputs": [],
      "source": [
        "import numpy as np\n",
        "df.pivot_table(index='vote_r', values='age', aggfunc=np.mean).sort_values(by=[\"age\"])\n"
      ]
    },
    {
      "cell_type": "markdown",
      "id": "1ee73c31",
      "metadata": {
        "id": "1ee73c31"
      },
      "source": [
        "Otra forma:"
      ]
    },
    {
      "cell_type": "code",
      "execution_count": null,
      "id": "8046b4f0",
      "metadata": {
        "id": "8046b4f0"
      },
      "outputs": [],
      "source": [
        "df_vote_r = df.groupby('vote_r')\n",
        "df_vote_r.mean()[[\"age\"]].sort_values(by=[\"age\"])"
      ]
    },
    {
      "cell_type": "markdown",
      "id": "7a18bead",
      "metadata": {
        "id": "7a18bead"
      },
      "source": [
        "Mejor ¿por qué?"
      ]
    },
    {
      "cell_type": "code",
      "execution_count": null,
      "id": "8c06f68a",
      "metadata": {
        "id": "8c06f68a"
      },
      "outputs": [],
      "source": [
        "df_vote_r = df[['vote_r',\"age\"]].groupby('vote_r')\n",
        "df_vote_r.mean().sort_values(by=[\"age\"])"
      ]
    },
    {
      "cell_type": "markdown",
      "id": "b5988152",
      "metadata": {
        "id": "b5988152"
      },
      "source": [
        "¿Y si se quiere sobre dos variables?"
      ]
    },
    {
      "cell_type": "code",
      "execution_count": null,
      "id": "d99b5c5b",
      "metadata": {
        "id": "d99b5c5b"
      },
      "outputs": [],
      "source": [
        "df.pivot_table(index='vote_r', values=['age',\"edu\"], aggfunc=np.mean).sort_values(by=[\"edu\"])"
      ]
    },
    {
      "cell_type": "code",
      "execution_count": null,
      "id": "398509f2",
      "metadata": {
        "id": "398509f2"
      },
      "outputs": [],
      "source": [
        "df_vote_r = df[['vote_r',\"age\",\"edu\"]].groupby('vote_r')\n",
        "df_vote_r.mean().sort_values(by=[\"edu\"])"
      ]
    },
    {
      "cell_type": "markdown",
      "id": "7d45b839",
      "metadata": {
        "id": "7d45b839"
      },
      "source": [
        "Obtención de grupos"
      ]
    },
    {
      "cell_type": "code",
      "execution_count": null,
      "id": "f91b29f8",
      "metadata": {
        "id": "f91b29f8"
      },
      "outputs": [],
      "source": [
        "grupos = df_vote_r = df[['vote_r',\"age\"]].groupby('vote_r')\n",
        "grupos.get_group(\"Nulo\")"
      ]
    },
    {
      "cell_type": "code",
      "execution_count": null,
      "id": "c300a2fe",
      "metadata": {
        "id": "c300a2fe"
      },
      "outputs": [],
      "source": []
    }
  ],
  "metadata": {
    "kernelspec": {
      "display_name": "Python 3 (ipykernel)",
      "language": "python",
      "name": "python3"
    },
    "language_info": {
      "codemirror_mode": {
        "name": "ipython",
        "version": 3
      },
      "file_extension": ".py",
      "mimetype": "text/x-python",
      "name": "python",
      "nbconvert_exporter": "python",
      "pygments_lexer": "ipython3",
      "version": "3.9.12"
    },
    "colab": {
      "provenance": [],
      "include_colab_link": true
    }
  },
  "nbformat": 4,
  "nbformat_minor": 5
}