{
  "nbformat": 4,
  "nbformat_minor": 0,
  "metadata": {
    "colab": {
      "provenance": [],
      "authorship_tag": "ABX9TyNAp8DymVlB+uiUCyuh9tic",
      "include_colab_link": true
    },
    "kernelspec": {
      "name": "python3",
      "display_name": "Python 3"
    },
    "language_info": {
      "name": "python"
    }
  },
  "cells": [
    {
      "cell_type": "markdown",
      "metadata": {
        "id": "view-in-github",
        "colab_type": "text"
      },
      "source": [
        "<a href=\"https://colab.research.google.com/github/RafaelCaballero/APD/blob/main/code/06ejemplodataframes.ipynb\" target=\"_parent\"><img src=\"https://colab.research.google.com/assets/colab-badge.svg\" alt=\"Open In Colab\"/></a>"
      ]
    },
    {
      "cell_type": "markdown",
      "source": [
        "# Introducción a la ciencia de datos con Python\n",
        "###  Rafa Caballero\n",
        "\n",
        "# Caso práctico: análisis básico de datos, gráficos con pandas\n",
        "\n",
        "Comenzando cargando y preparando los datos con los que vamos a trabajar"
      ],
      "metadata": {
        "id": "skRIIbhPHoUw"
      }
    },
    {
      "cell_type": "code",
      "execution_count": null,
      "metadata": {
        "id": "vAjxMidxu-O7"
      },
      "outputs": [],
      "source": [
        "import yfinance as yf\n",
        "import pandas as pd\n",
        "\n",
        "# Lista de tickers:\n",
        "valores = [\"inditex\",\"iberdrola\", \"santander\", \"BBVA\", \"naturgy\"]\n",
        "tickers = ['ITX.MC', 'IBE.MC',    'SAN.MC', 'BBVA.MC', 'NTGY.MC']\n",
        "\n",
        "# Fechas de inicio y fin\n",
        "start_date = '2025-01-01'\n",
        "end_date = '2025-07-02'\n",
        "\n",
        "# Descargar los datos de Yahoo Finance\n",
        "data = yf.download(tickers, start=start_date, end=end_date, group_by='ticker')\n",
        "\n",
        "# Crear un DataFrame vacío para almacenar los valores OPEN\n",
        "open_data = pd.DataFrame()\n",
        "\n",
        "# Extraer los valores OPEN de cada ticker y añadirlos al DataFrame\n",
        "for i,ticker in enumerate(tickers):\n",
        "    open_data[valores[i]] = data[ticker]['Open']\n",
        "\n",
        "\n",
        "# incremento en porcentaje con respecto al día anterior\n",
        "roi = open_data.pct_change()*100\n",
        "\n",
        "# añadimos el día de la semana\n",
        "roi['dia_semana'] = roi.index.to_series().dt.day_name()\n",
        "\n",
        "# mejor en castellano\n",
        "days_translation = {\n",
        "    'Monday': 'Lunes',\n",
        "    'Tuesday': 'Martes',\n",
        "    'Wednesday': 'Miércoles',\n",
        "    'Thursday': 'Jueves',\n",
        "    'Friday': 'Viernes',\n",
        "    'Saturday': 'Sábado',\n",
        "    'Sunday': 'Domingo'\n",
        "}\n",
        "roi['dia_semana'] = roi['dia_semana'].map(days_translation)\n",
        "\n",
        "# Establecer el índice como una versión formateada de la fecha\n",
        "roi.index = pd.to_datetime(open_data.index).strftime('%Y-%m-%d')\n",
        "\n",
        "\n",
        "roi.style.background_gradient(cmap='RdYlGn')"
      ]
    },
    {
      "cell_type": "markdown",
      "source": [
        "**Ejercicio**\n",
        "\n",
        "La primera fila tiene valores NaN porque no existe fila anterior. Generar un nuevo dataframe \"roi2\" que sea igual que \"roi\" pero quitando la primera fila (idea: usar `roi.iloc[fila]` para seleccionar todo menos la primera fila)"
      ],
      "metadata": {
        "id": "nFzkPbSQxbAB"
      }
    },
    {
      "cell_type": "code",
      "source": [
        "# solución\n",
        "\n",
        "\n",
        "# para probar\n",
        "roi2.style.background_gradient(cmap='RdYlGn')"
      ],
      "metadata": {
        "id": "HyVwd6rhxx-j"
      },
      "execution_count": null,
      "outputs": []
    },
    {
      "cell_type": "markdown",
      "source": [
        "**Ejercicio**\n",
        "\n",
        "Queremos obtener el valor de BBVA el 2024-06-28 (ayuda: utilizar `roi2.loc[fila,columna]`)"
      ],
      "metadata": {
        "id": "Qr9y1J9t6e4k"
      }
    },
    {
      "cell_type": "code",
      "source": [],
      "metadata": {
        "id": "Lm87SgsA7hFT"
      },
      "execution_count": null,
      "outputs": []
    },
    {
      "cell_type": "markdown",
      "source": [
        "**Ejercicio**\n",
        "\n",
        "¿Y si queremos mostrar toda la fila correspondiente a esta fecha?"
      ],
      "metadata": {
        "id": "X_gono6c7rfb"
      }
    },
    {
      "cell_type": "code",
      "source": [],
      "metadata": {
        "id": "dbHmhuGb74jV"
      },
      "execution_count": null,
      "outputs": []
    },
    {
      "cell_type": "markdown",
      "source": [
        "### Información básica"
      ],
      "metadata": {
        "id": "PkGF99qQzcex"
      }
    },
    {
      "cell_type": "code",
      "source": [
        "roi2.info()"
      ],
      "metadata": {
        "id": "5X1FyHEVzgKR"
      },
      "execution_count": null,
      "outputs": []
    },
    {
      "cell_type": "code",
      "source": [
        "roi2.describe()"
      ],
      "metadata": {
        "id": "aiZQaes1zzg2"
      },
      "execution_count": null,
      "outputs": []
    },
    {
      "cell_type": "markdown",
      "source": [
        "Como se puede ver no muestra información sobre la columna \"dia_semana\" por no ser numérica. En estos casos se suele comprobar los valores que tiene y su frecuencia"
      ],
      "metadata": {
        "id": "Xel_7Jnd8EZe"
      }
    },
    {
      "cell_type": "code",
      "source": [
        "roi2.dia_semana.unique()"
      ],
      "metadata": {
        "id": "QLsFt4gm8QF3"
      },
      "execution_count": null,
      "outputs": []
    },
    {
      "cell_type": "code",
      "source": [
        "roi2.dia_semana.value_counts()"
      ],
      "metadata": {
        "id": "S4vdzpt28Uw-"
      },
      "execution_count": null,
      "outputs": []
    },
    {
      "cell_type": "markdown",
      "source": [
        "### Gráficos sencillos con Pandas\n",
        "\n",
        "Unos histogramas burdos pero rápidos de las columnas numéricas"
      ],
      "metadata": {
        "id": "th9rtrJZ0Aln"
      }
    },
    {
      "cell_type": "code",
      "source": [
        "roi2.hist()"
      ],
      "metadata": {
        "id": "Z32-ghO50FSX"
      },
      "execution_count": null,
      "outputs": []
    },
    {
      "cell_type": "markdown",
      "source": [
        "Un poquito mejor"
      ],
      "metadata": {
        "id": "jFtGrDKGue1l"
      }
    },
    {
      "cell_type": "code",
      "source": [
        "import matplotlib.pyplot as plt\n",
        "\n",
        "roi2.hist()\n",
        "plt.tight_layout() # plt controla como se muestran los gráficos"
      ],
      "metadata": {
        "id": "SyDKq8Acugul"
      },
      "execution_count": null,
      "outputs": []
    },
    {
      "cell_type": "markdown",
      "source": [
        "Los boxplots dan otra perspectiva"
      ],
      "metadata": {
        "id": "dxZh34nc8nc6"
      }
    },
    {
      "cell_type": "code",
      "source": [
        "roi2.boxplot()"
      ],
      "metadata": {
        "id": "f4EXleKw0SdI"
      },
      "execution_count": null,
      "outputs": []
    },
    {
      "cell_type": "code",
      "source": [],
      "metadata": {
        "id": "vaBZuuiE_hdC"
      },
      "execution_count": null,
      "outputs": []
    },
    {
      "cell_type": "code",
      "source": [
        "roi2.plot()"
      ],
      "metadata": {
        "id": "71s-11CY3R56"
      },
      "execution_count": null,
      "outputs": []
    },
    {
      "cell_type": "markdown",
      "source": [
        "uff...no se ve nada...ajustemos un poco el gráfico"
      ],
      "metadata": {
        "id": "OUwl93ZQ3XGy"
      }
    },
    {
      "cell_type": "code",
      "source": [
        "ax = roi2.plot(figsize=(20, 4), title='Evolución de los valores OPEN')\n",
        "# Configurar etiquetas del eje X para mostrar 1 de cada 5 fechas\n",
        "tick_positions = roi2.index[::5]\n",
        "ax.set_xticks(tick_positions)\n",
        "ax.set_xticklabels(tick_positions.strftime('%Y-%m-%d'), rotation=45)\n",
        "print(\"\")"
      ],
      "metadata": {
        "id": "OE459G5V0shk"
      },
      "execution_count": null,
      "outputs": []
    },
    {
      "cell_type": "markdown",
      "source": [
        "¿No se vería mejor con la media móvil?"
      ],
      "metadata": {
        "id": "jFy6fJBx5prA"
      }
    },
    {
      "cell_type": "code",
      "source": [
        "# Calcular la media móvil de 5 días\n",
        "rolling_average = roi2[valores].rolling(window=5).mean()\n",
        "rolling_average"
      ],
      "metadata": {
        "id": "GUbemqFL5thF"
      },
      "execution_count": null,
      "outputs": []
    },
    {
      "cell_type": "code",
      "source": [
        "ax = rolling_average.plot(figsize=(20, 4), title='Evolución de los valores OPEN, media móvil de 5 días')\n",
        "# Configurar etiquetas del eje X para mostrar 1 de cada 5 fechas\n",
        "tick_positions = rolling_average.index[::5]\n",
        "ax.set_xticks(tick_positions)\n",
        "ax.set_xticklabels(tick_positions.strftime('%Y-%m-%d'), rotation=45)\n",
        "print(\"\")"
      ],
      "metadata": {
        "id": "yBOyiWKy55sQ"
      },
      "execution_count": null,
      "outputs": []
    },
    {
      "cell_type": "markdown",
      "source": [
        "Puede ser que nos interese ver un día concreto en forma de barras:"
      ],
      "metadata": {
        "id": "ef5Xxf6v9KDN"
      }
    },
    {
      "cell_type": "code",
      "source": [
        "roi2.loc[[\"2024-06-11\"]].plot.bar()"
      ],
      "metadata": {
        "id": "vZeYLJV_9ONs"
      },
      "execution_count": null,
      "outputs": []
    },
    {
      "cell_type": "code",
      "source": [
        "open_data.plot.area()"
      ],
      "metadata": {
        "id": "MCSKPXDf_8Ds"
      },
      "execution_count": null,
      "outputs": []
    },
    {
      "cell_type": "code",
      "source": [
        "roi2.plot.kde() # diagrama de densidad"
      ],
      "metadata": {
        "id": "EQ5MpA8SGhxU"
      },
      "execution_count": null,
      "outputs": []
    },
    {
      "cell_type": "code",
      "source": [
        "roi2.plot.scatter(x=\"santander\",y=\"BBVA\")"
      ],
      "metadata": {
        "id": "5onPT4Xx9-Eg"
      },
      "execution_count": null,
      "outputs": []
    },
    {
      "cell_type": "code",
      "source": [
        "roi2.plot.scatter(x=\"santander\",y=\"inditex\")"
      ],
      "metadata": {
        "id": "T2OKKP2fBA2T"
      },
      "execution_count": null,
      "outputs": []
    },
    {
      "cell_type": "code",
      "source": [
        "roi2[valores].corr()"
      ],
      "metadata": {
        "id": "e8Qsg2vfBFrc"
      },
      "execution_count": null,
      "outputs": []
    },
    {
      "cell_type": "markdown",
      "source": [
        "Hay muchos más diagramas, ver aquí: https://pandas.pydata.org/docs/user_guide/visualization.html\n"
      ],
      "metadata": {
        "id": "yyl8RmpoGy-U"
      }
    },
    {
      "cell_type": "markdown",
      "source": [
        "#### Filtros\n",
        "\n",
        "**Ejercicio**\n",
        "\n",
        "En qué día tuvo naturgy su mayor decremento porcentual con respecto al día anterior (el valor mínimo en `roi2`)"
      ],
      "metadata": {
        "id": "fkqcH62XHTnG"
      }
    },
    {
      "cell_type": "code",
      "source": [],
      "metadata": {
        "id": "S2fi4Ca_HmLy"
      },
      "execution_count": null,
      "outputs": []
    }
  ]
}