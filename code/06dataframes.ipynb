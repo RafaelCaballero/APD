{
  "cells": [
    {
      "cell_type": "markdown",
      "metadata": {
        "id": "view-in-github",
        "colab_type": "text"
      },
      "source": [
        "<a href=\"https://colab.research.google.com/github/RafaelCaballero/APD/blob/main/code/06dataframes.ipynb\" target=\"_parent\"><img src=\"https://colab.research.google.com/assets/colab-badge.svg\" alt=\"Open In Colab\"/></a>"
      ]
    },
    {
      "cell_type": "markdown",
      "metadata": {
        "id": "q110icUhES3b"
      },
      "source": [
        "# Introducción a la ciencia de datos con Python\n",
        "###  Rafa Caballero\n",
        "\n",
        "## Pandas - DataFrames\n",
        "\n",
        "Los DataFrames son la estructura principal de Pandas. Se trata de una tabla bidimensional, aunque se pueden lograr representar más dimensiones usando *índices jerárquicos*.\n",
        "\n",
        "\n",
        "### Índice\n",
        "[Creación](#Creación)<br>\n",
        "[Acceso a columnas y filas](#Acceso-a-columnas-y-filas)<br>\n",
        "[Información básica](#basica)<br>\n",
        "[Modificación, inserción y borrado de columnas y filas](#Modificación)<br>\n",
        "[Muestras](#Samples)<br>\n",
        "[Iterar](#Iterar)<br>\n",
        "[Índices](#Índices)<br>"
      ]
    },
    {
      "cell_type": "markdown",
      "metadata": {
        "id": "R2xHXR2IES3l"
      },
      "source": [
        "<a name=\"Creación\"></a>\n",
        "## Creación"
      ]
    },
    {
      "cell_type": "markdown",
      "metadata": {
        "id": "ztEdTvQVES3m"
      },
      "source": [
        "Ya hemos visto como cargar Dataframes desde un fichero CSV o Excel.\n",
        "Otra alternativa es a través de listas de listas. Esto es habitual cuando por ejemplo estamos recopilando la información mediante web scraping y la vamos acumulando en listas. En este caso habrá que indicar, además, los nombres de las columnas"
      ]
    },
    {
      "cell_type": "code",
      "execution_count": null,
      "metadata": {
        "id": "IB9MXs1GES3n"
      },
      "outputs": [],
      "source": [
        "import pandas as pd\n",
        "\n",
        "datos = [['Madrid', 6507184], ['Barcelona', 5609350],\n",
        "         ['Valencia', 2547986], ['Sevilla', 1939887],\n",
        "         ['Alicante', 1838819], ['Málaga',1641121]  ]\n",
        "df = pd.DataFrame(datos ,columns=['provincia','habitantes'])\n",
        "df"
      ]
    },
    {
      "cell_type": "markdown",
      "metadata": {
        "id": "vChhWEwzES3o"
      },
      "source": [
        "El siguiente resultado, quizás inesperado, debe ser fácil de entender"
      ]
    },
    {
      "cell_type": "code",
      "execution_count": null,
      "metadata": {
        "id": "f8jgdXD_ES3p"
      },
      "outputs": [],
      "source": [
        "\n",
        "ciudades = ['Madrid', 'Barcelona', 'Valencia', 'Sevilla',\n",
        "         'Alicante', 'Málaga']\n",
        "habitantes = [6507184, 5609350,  2547986,  1939887,\n",
        "          1838819, 1641121 ]\n",
        "\n",
        "df2 = pd.DataFrame([ciudades,habitantes],['provincia','habitantes'])\n",
        "df2"
      ]
    },
    {
      "cell_type": "markdown",
      "metadata": {
        "id": "x9xDO9MCES3p"
      },
      "source": [
        "También se puede crear a partir de un diccionario"
      ]
    },
    {
      "cell_type": "code",
      "execution_count": null,
      "metadata": {
        "id": "lSbkSiBCES3q"
      },
      "outputs": [],
      "source": [
        "datos = {'provincia' : ['Madrid', 'Barcelona', 'Valencia', 'Sevilla',\n",
        "         'Alicante', 'Málaga'],\n",
        "         'habitantes' : [6507184, 5609350,  2547986,  1939887,\n",
        "          1838819, 1641121 ]}\n",
        "df = pd.DataFrame(datos)\n",
        "df"
      ]
    },
    {
      "cell_type": "markdown",
      "metadata": {
        "id": "MfShXpC-ES3r"
      },
      "source": [
        "## Acceso a columnas y filas"
      ]
    },
    {
      "cell_type": "markdown",
      "metadata": {
        "id": "Asmq7CYYES3s"
      },
      "source": [
        "Al acceder a una columna obtenemos una \"serie\", es decir una secuencia de datos todos ellos con su etiqueta (en principio un número)"
      ]
    },
    {
      "cell_type": "code",
      "execution_count": null,
      "metadata": {
        "id": "3wapsIyZES3s"
      },
      "outputs": [],
      "source": [
        "df['provincia']"
      ]
    },
    {
      "cell_type": "markdown",
      "metadata": {
        "id": "3N5_riIxES3t"
      },
      "source": [
        "Otra forma de acceder es con la notación . que solo puede usarse si el nombre de columna no contiene espacios ni símbolos especiales"
      ]
    },
    {
      "cell_type": "code",
      "execution_count": null,
      "metadata": {
        "id": "-klB2t-dES3t"
      },
      "outputs": [],
      "source": [
        "df.provincia"
      ]
    },
    {
      "cell_type": "markdown",
      "metadata": {
        "id": "vPooSdMiHB3g"
      },
      "source": [
        "Veamos cuál es el tipo de una columna"
      ]
    },
    {
      "cell_type": "code",
      "execution_count": null,
      "metadata": {
        "id": "LDecbKByES3t"
      },
      "outputs": [],
      "source": [
        "print(type(df['provincia']))"
      ]
    },
    {
      "cell_type": "markdown",
      "metadata": {
        "id": "9Lm_QeBDHB3h"
      },
      "source": [
        "Una \"Serie\" representa una columna tiene 2 componentes, el índice y los valores"
      ]
    },
    {
      "cell_type": "code",
      "execution_count": null,
      "metadata": {
        "id": "lm383_6yHB3h"
      },
      "outputs": [],
      "source": [
        "df.provincia.values"
      ]
    },
    {
      "cell_type": "code",
      "execution_count": null,
      "metadata": {
        "id": "gaiU8R6-HB3h"
      },
      "outputs": [],
      "source": [
        "df.provincia.index"
      ]
    },
    {
      "cell_type": "markdown",
      "metadata": {
        "id": "uGarzx7LES3u"
      },
      "source": [
        "Para acceder por varias columnas a la vez usar dobles corchetes, y el resultado es un nuevo Dataframe"
      ]
    },
    {
      "cell_type": "code",
      "execution_count": null,
      "metadata": {
        "id": "RnflVyM0ES3u"
      },
      "outputs": [],
      "source": [
        "df[['provincia','habitantes']]"
      ]
    },
    {
      "cell_type": "markdown",
      "metadata": {
        "id": "vnFAhH15ES3u"
      },
      "source": [
        "Se puede acceder a las columnas, a los índices y a los valores"
      ]
    },
    {
      "cell_type": "code",
      "execution_count": null,
      "metadata": {
        "id": "WmW28ly1ES3v"
      },
      "outputs": [],
      "source": [
        "df.columns"
      ]
    },
    {
      "cell_type": "code",
      "execution_count": null,
      "metadata": {
        "id": "XezILkblES3v"
      },
      "outputs": [],
      "source": [
        "df.index"
      ]
    },
    {
      "cell_type": "code",
      "execution_count": null,
      "metadata": {
        "id": "_V9TeGtdES3v"
      },
      "outputs": [],
      "source": [
        "df.values"
      ]
    },
    {
      "cell_type": "markdown",
      "metadata": {
        "id": "cTcrYZjyES3w"
      },
      "source": [
        "Sin embargo, no podemos acceder a la fila por posición directamente:"
      ]
    },
    {
      "cell_type": "code",
      "execution_count": null,
      "metadata": {
        "id": "SIfzNy5SES3w"
      },
      "outputs": [],
      "source": [
        "# esto daría error\n",
        "# df[0]"
      ]
    },
    {
      "cell_type": "markdown",
      "metadata": {
        "id": "2A8dD58vCA_p"
      },
      "source": [
        "Sí podríamos usar df.values, que nos da todas las filas, aunque no es muy habitual"
      ]
    },
    {
      "cell_type": "code",
      "execution_count": null,
      "metadata": {
        "id": "uujod4DlCGs_"
      },
      "outputs": [],
      "source": [
        "df.values[0]"
      ]
    },
    {
      "cell_type": "markdown",
      "metadata": {
        "id": "UUrgFERLES3w"
      },
      "source": [
        "En lugar de eso, utilizaremos `iloc` que recibe un entero como parámetro para acceder a la fila"
      ]
    },
    {
      "cell_type": "code",
      "execution_count": null,
      "metadata": {
        "id": "wHpizAa4AqPB"
      },
      "outputs": [],
      "source": [
        "df.iloc[0]"
      ]
    },
    {
      "cell_type": "markdown",
      "metadata": {
        "id": "f7tdX3EW_p8O"
      },
      "source": [
        "**Ejercicio 1**\n",
        "\n",
        "Acceder a las 3 primeras filas. Pista: utilizar iloc y la misma notación que si fuera una lista"
      ]
    },
    {
      "cell_type": "code",
      "execution_count": null,
      "metadata": {
        "id": "FYOWoeMbE3so"
      },
      "outputs": [],
      "source": []
    },
    {
      "cell_type": "markdown",
      "metadata": {
        "id": "MWYe91-nEJww"
      },
      "source": [
        "Igualmente dentro de la fila  podemos acceder a la columna por posición"
      ]
    },
    {
      "cell_type": "code",
      "execution_count": null,
      "metadata": {
        "id": "2ThHVLO9ES3w"
      },
      "outputs": [],
      "source": [
        "df.iloc[0][0], df.iloc[0][1]"
      ]
    },
    {
      "cell_type": "markdown",
      "metadata": {
        "id": "rwWWy1vjEdC4"
      },
      "source": [
        "Otra forma de lograr lo mismo [fila,columna]"
      ]
    },
    {
      "cell_type": "code",
      "execution_count": null,
      "metadata": {
        "id": "6z9dJVmqEfu_"
      },
      "outputs": [],
      "source": [
        "df.iloc[0,0], df.iloc[0,1]"
      ]
    },
    {
      "cell_type": "markdown",
      "metadata": {
        "id": "3W7sHLgGGh7Z"
      },
      "source": [
        "**Ejercicio 2** Seleccionar las filas de la 2 a la 4, ambas incluidas (comenzando en 0) y solo la primera columna (la número 0)"
      ]
    },
    {
      "cell_type": "code",
      "execution_count": null,
      "metadata": {
        "id": "fr8SlW4HGiMH"
      },
      "outputs": [],
      "source": [
        "# solución\n"
      ]
    },
    {
      "cell_type": "markdown",
      "metadata": {
        "id": "o8-hzbg4FMn3"
      },
      "source": [
        "**Acceso por índice.**\n",
        "\n",
        "A menudo el índice es la posición sin más, con lo que la función iloc nos sirve. Sin embargo esto no es siempre así"
      ]
    },
    {
      "cell_type": "code",
      "execution_count": null,
      "metadata": {
        "id": "plusDdp8ES3x"
      },
      "outputs": [],
      "source": [
        "datos = [['Madrid', 6507184], ['Barcelona', 5609350],\n",
        "         ['Valencia', 2547986], ['Sevilla', 1939887],\n",
        "         ['Alicante', 1838819], ['Málaga',1641121]  ]\n",
        "df = pd.DataFrame(datos ,columns=['provincia','habitantes'],\n",
        "               index=['Capital','Capital Com. Autonoma','Capital Com. Autonoma','Capital Com. Autonoma','Provincia','Provincia'])\n",
        "df"
      ]
    },
    {
      "cell_type": "markdown",
      "metadata": {
        "id": "BuGbpkBIGObp"
      },
      "source": [
        "Vemos que iloc en este caso no vale"
      ]
    },
    {
      "cell_type": "code",
      "execution_count": null,
      "metadata": {
        "id": "2FzH_Rd_ES3x"
      },
      "outputs": [],
      "source": [
        "# error\n",
        "#df.iloc['Capital']"
      ]
    },
    {
      "cell_type": "markdown",
      "metadata": {
        "id": "Xvc3u1TzES3x"
      },
      "source": [
        "Si se quiere acceder por el índice se puede usar `loc`"
      ]
    },
    {
      "cell_type": "code",
      "execution_count": null,
      "metadata": {
        "id": "9F10TDs-ES3x"
      },
      "outputs": [],
      "source": [
        "df.loc['Capital']"
      ]
    },
    {
      "cell_type": "code",
      "execution_count": null,
      "metadata": {
        "id": "CQ7P-ES2KQiA"
      },
      "outputs": [],
      "source": [
        "df.loc['Provincia']"
      ]
    },
    {
      "cell_type": "markdown",
      "metadata": {
        "id": "p5cLVBCwES3y"
      },
      "source": [
        "Si se quiere acceder por nombre de fila y columna podemos hacerlo seleccionando primero la fila:"
      ]
    },
    {
      "cell_type": "code",
      "execution_count": null,
      "metadata": {
        "id": "fHOMWx5VES3y"
      },
      "outputs": [],
      "source": [
        "df.loc['Provincia'][\"provincia\"]"
      ]
    },
    {
      "cell_type": "markdown",
      "metadata": {
        "id": "-tMfKBDQES3y"
      },
      "source": [
        "O utilizar `loc`con la notación habitual fila, columna"
      ]
    },
    {
      "cell_type": "code",
      "execution_count": null,
      "metadata": {
        "id": "U_B4fJVYES3y"
      },
      "outputs": [],
      "source": [
        "df.loc['Provincia','provincia']"
      ]
    },
    {
      "cell_type": "markdown",
      "source": [
        "<a name=\"basica\"></a>\n",
        "## Información básica\n",
        "\n",
        "Con poco esfuerzo podemos tener mucha información interesante sobre los datos. Veamos el siguiente ejemplo con datos de los \"Pokemon\""
      ],
      "metadata": {
        "id": "EgPz5AEPu719"
      }
    },
    {
      "cell_type": "code",
      "source": [
        "import pandas as pd\n",
        "url = \"https://raw.githubusercontent.com/RafaelCaballero/tdm/master/datos/pokemon.csv\"\n",
        "df = pd.read_csv(url)\n",
        "df"
      ],
      "metadata": {
        "id": "WGGY_wMP19T-"
      },
      "execution_count": null,
      "outputs": []
    },
    {
      "cell_type": "markdown",
      "source": [
        "Nombres de las columnas:"
      ],
      "metadata": {
        "id": "BGxuQwdr3W0s"
      }
    },
    {
      "cell_type": "code",
      "source": [
        "df.columns"
      ],
      "metadata": {
        "id": "TvU-eeXR3Y2s"
      },
      "execution_count": null,
      "outputs": []
    },
    {
      "cell_type": "markdown",
      "source": [
        "Si queremos saber el número de filas y columnas podemos usar `shape`"
      ],
      "metadata": {
        "id": "LGoGO_vf2MDe"
      }
    },
    {
      "cell_type": "code",
      "source": [
        "df.shape"
      ],
      "metadata": {
        "id": "HkSAETEd2QeO"
      },
      "execution_count": null,
      "outputs": []
    },
    {
      "cell_type": "markdown",
      "source": [
        "Es una tupla: podemos separar las dos componentes fácilmente"
      ],
      "metadata": {
        "id": "x393wvAO2SxG"
      }
    },
    {
      "cell_type": "code",
      "source": [
        "f,c = df.shape\n",
        "\n",
        "print(f\"Datataframe con {f} filas y {c} columnas\")"
      ],
      "metadata": {
        "id": "L7OZprgj2XoG"
      },
      "execution_count": null,
      "outputs": []
    },
    {
      "cell_type": "code",
      "source": [
        "# otra forma, aprovechando que las tuplas son secuencias\n",
        "s = df.shape\n",
        "\n",
        "print(f\"Datataframe con {s[0]} filas y {s[1]} columnas\")"
      ],
      "metadata": {
        "id": "wlL3Qspg2liU"
      },
      "execution_count": null,
      "outputs": []
    },
    {
      "cell_type": "markdown",
      "source": [
        "Más formas aun..."
      ],
      "metadata": {
        "id": "LDWM6E3U21CP"
      }
    },
    {
      "cell_type": "code",
      "source": [
        "f = len(df)\n",
        "c = len(df.columns)\n",
        "print(f\"Datataframe con {f} filas y {c} columnas\")"
      ],
      "metadata": {
        "id": "51vUqd3x2wRH"
      },
      "execution_count": null,
      "outputs": []
    },
    {
      "cell_type": "markdown",
      "source": [
        "Datos básicos sobre el dataframe completo con `info` y estadísticas básicas sobre las columnas  numéricas con `describe`"
      ],
      "metadata": {
        "id": "KC8i4lNt3dhj"
      }
    },
    {
      "cell_type": "code",
      "source": [
        "df.info()"
      ],
      "metadata": {
        "id": "of5pM6kr3pif"
      },
      "execution_count": null,
      "outputs": []
    },
    {
      "cell_type": "code",
      "source": [
        "df.describe()"
      ],
      "metadata": {
        "id": "NomZFNfp3tmO"
      },
      "execution_count": null,
      "outputs": []
    },
    {
      "cell_type": "markdown",
      "source": [
        "A menudo nos puede interesar saber qué valores diferentes toma una columna"
      ],
      "metadata": {
        "id": "bxDj1nIk33V-"
      }
    },
    {
      "cell_type": "code",
      "source": [
        "df[\"Type 1\"].unique()"
      ],
      "metadata": {
        "id": "xyrUHl_D4Aem"
      },
      "execution_count": null,
      "outputs": []
    },
    {
      "cell_type": "code",
      "source": [
        "len(df[\"Type 1\"].unique())"
      ],
      "metadata": {
        "id": "xQg4Mdc632pm"
      },
      "execution_count": null,
      "outputs": []
    },
    {
      "cell_type": "markdown",
      "source": [
        "También nos puede interesar saber ccuántos pokemon de cada tipo hay:"
      ],
      "metadata": {
        "id": "2dQlRrxQBPXv"
      }
    },
    {
      "cell_type": "code",
      "source": [
        "df[\"Type 1\"].value_counts()"
      ],
      "metadata": {
        "id": "Xz2iI0V4BJc-"
      },
      "execution_count": null,
      "outputs": []
    },
    {
      "cell_type": "code",
      "source": [
        "s = df[\"Type 1\"].value_counts()\n",
        "s.index"
      ],
      "metadata": {
        "id": "A4jPZbwGBfJk"
      },
      "execution_count": null,
      "outputs": []
    },
    {
      "cell_type": "code",
      "source": [
        "s.values"
      ],
      "metadata": {
        "id": "jVF3cC2XBoKm"
      },
      "execution_count": null,
      "outputs": []
    },
    {
      "cell_type": "markdown",
      "source": [
        "**Ejercicio** Tipo de Pokemon más común en Type 1 y número de veces que aparece"
      ],
      "metadata": {
        "id": "TxR6C3f2BsHm"
      }
    },
    {
      "cell_type": "code",
      "source": [],
      "metadata": {
        "id": "HNhKcsM3Bz5e"
      },
      "execution_count": null,
      "outputs": []
    },
    {
      "cell_type": "code",
      "source": [],
      "metadata": {
        "id": "OjMUwND9BrMm"
      },
      "execution_count": null,
      "outputs": []
    },
    {
      "cell_type": "markdown",
      "metadata": {
        "id": "z1RxBLc1LWAf"
      },
      "source": [
        "<a name=\"Modificación\"></a>\n",
        "## Modificación, inserción y borrado de columnas y filas"
      ]
    },
    {
      "cell_type": "markdown",
      "metadata": {
        "id": "oXpjXA6BES30"
      },
      "source": [
        "**Ejercicio 3** ¿Qué hace el siguiente código?"
      ]
    },
    {
      "cell_type": "code",
      "execution_count": null,
      "metadata": {
        "id": "ApsLUGKCES30"
      },
      "outputs": [],
      "source": [
        "datos = [['Madrid', 6507184], ['Barcelona', 5609350],\n",
        "         ['Valencia', 2547986], ['Sevilla', 1939887],\n",
        "         ['Alicante', 1838819], ['Málaga',1641121]  ]\n",
        "df = pd.DataFrame(datos ,columns=['provincias','habitantes'],\n",
        "               index=['a','b','c','d','e','f'])\n",
        "\n",
        "df.iloc[1] = 0\n",
        "df"
      ]
    },
    {
      "cell_type": "markdown",
      "metadata": {
        "id": "8BLODwyFES30"
      },
      "source": [
        "**Ejercicio 4** ¿Qué hace el siguiente código?"
      ]
    },
    {
      "cell_type": "code",
      "execution_count": null,
      "metadata": {
        "id": "oWySdvT1ES31"
      },
      "outputs": [],
      "source": [
        "df['superficie'] = 0\n",
        "df"
      ]
    },
    {
      "cell_type": "markdown",
      "metadata": {
        "id": "r2pHLKLNHB3x"
      },
      "source": [
        "Por tanto para crear una columna nos basta con \"rellenarla\" del valor que se desee. Luego veremos casos más complejos."
      ]
    },
    {
      "cell_type": "markdown",
      "metadata": {
        "id": "JpdpfqjLES31"
      },
      "source": [
        "### Eliminar filas y columnas\n",
        "Una forma de eliminar columnas es seleccionar solo las que se quieren mantener. Primero preparamos los datos."
      ]
    },
    {
      "cell_type": "code",
      "execution_count": null,
      "metadata": {
        "id": "tJttJryyHB3x"
      },
      "outputs": [],
      "source": [
        "datos = {'provincia' : ['Madrid', 'Barcelona', 'Valencia', 'Sevilla',\n",
        "         'Alicante', 'Málaga'],\n",
        "         'habitantes' : [6507184, 5609350,  2547986,  1939887,\n",
        "          1838819, 1641121 ]}\n",
        "df = pd.DataFrame(datos)\n",
        "df[\"superficie\"] = 0\n",
        "df"
      ]
    },
    {
      "cell_type": "code",
      "execution_count": null,
      "metadata": {
        "id": "AjuiSgS9ES31"
      },
      "outputs": [],
      "source": [
        "df2 = df.loc[ : , ['superficie'] ]  # todas las filas, columna solo superficie\n",
        "df2"
      ]
    },
    {
      "cell_type": "markdown",
      "metadata": {
        "id": "cf3vfLO2HB3y"
      },
      "source": [
        "Equivalente a"
      ]
    },
    {
      "cell_type": "code",
      "execution_count": null,
      "metadata": {
        "id": "hguSllWmHB3y"
      },
      "outputs": [],
      "source": [
        "df2 = df[[\"superficie\"]]\n",
        "df2"
      ]
    },
    {
      "cell_type": "markdown",
      "metadata": {
        "id": "R-YBbXsBHB3z"
      },
      "source": [
        "**Pregunta** ¿También es equivalente a `df[\"superficie\"]`?"
      ]
    },
    {
      "cell_type": "markdown",
      "metadata": {
        "id": "CBzXC1oQMJxB"
      },
      "source": [
        "Varias columnas"
      ]
    },
    {
      "cell_type": "code",
      "execution_count": null,
      "metadata": {
        "id": "3WtPw-W4MLgP"
      },
      "outputs": [],
      "source": [
        "df2 = df[['provincia', 'superficie'] ]\n",
        "df2"
      ]
    },
    {
      "cell_type": "markdown",
      "metadata": {
        "id": "EWUiDQCgHB30"
      },
      "source": [
        "En general para borrar filas o columnas por nombre usaremos [drop](https://pandas.pydata.org/docs/reference/api/pandas.DataFrame.drop.html). El parámetro `axis`indica si queremos borrar filas (0) o columnas (1)"
      ]
    },
    {
      "cell_type": "code",
      "execution_count": null,
      "metadata": {
        "id": "8IseY2okHB30"
      },
      "outputs": [],
      "source": [
        "datos = {'provincia' : ['Madrid', 'Barcelona', 'Valencia', 'Sevilla',\n",
        "         'Alicante', 'Málaga'],\n",
        "         'habitantes' : [6507184, 5609350,  2547986,  1939887,\n",
        "          1838819, 1641121 ]}\n",
        "df = pd.DataFrame(datos)\n",
        "df[\"superficie\"] = 0\n",
        "df"
      ]
    },
    {
      "cell_type": "code",
      "execution_count": null,
      "metadata": {
        "id": "rySqSjbdHB30"
      },
      "outputs": [],
      "source": [
        "dfSinFila = df.drop([3,5],axis=0)\n",
        "dfSinFila"
      ]
    },
    {
      "cell_type": "code",
      "execution_count": null,
      "metadata": {
        "id": "YEit7qFxHB30"
      },
      "outputs": [],
      "source": [
        "dfSinCol = df.drop(['superficie'],axis=1)\n",
        "dfSinCol"
      ]
    },
    {
      "cell_type": "markdown",
      "metadata": {
        "id": "FALCPynyHB31"
      },
      "source": [
        "Si queremos podemos eviar el uso de axis utilizando los parámetros `index` y `columns`"
      ]
    },
    {
      "cell_type": "code",
      "execution_count": null,
      "metadata": {
        "id": "cs-pMWz6HB31"
      },
      "outputs": [],
      "source": [
        "datos = {'provincia' : ['Madrid', 'Barcelona', 'Valencia', 'Sevilla',\n",
        "         'Alicante', 'Málaga'],\n",
        "         'habitantes' : [6507184, 5609350,  2547986,  1939887,\n",
        "          1838819, 1641121 ]}\n",
        "df = pd.DataFrame(datos)\n",
        "df[\"superficie\"] = 0\n",
        "df"
      ]
    },
    {
      "cell_type": "code",
      "execution_count": null,
      "metadata": {
        "id": "7FsGk2wIHB31"
      },
      "outputs": [],
      "source": [
        "df.drop(index=[1,3])"
      ]
    },
    {
      "cell_type": "code",
      "execution_count": null,
      "metadata": {
        "id": "fXP_TBbHHB31"
      },
      "outputs": [],
      "source": [
        "df.drop(columns=['provincia'])"
      ]
    },
    {
      "cell_type": "markdown",
      "metadata": {
        "id": "0Go4vqGwES31"
      },
      "source": [
        "Las columnas también se puede eliminar con `del` como en los diccionarios"
      ]
    },
    {
      "cell_type": "code",
      "execution_count": null,
      "metadata": {
        "id": "T5ix-yJWES31"
      },
      "outputs": [],
      "source": [
        "if 'superficie' in df2:\n",
        "    del df2['superficie']\n",
        "df2"
      ]
    },
    {
      "cell_type": "markdown",
      "metadata": {
        "id": "m4deoPwUHB32"
      },
      "source": [
        "Una variante interesante es `pop`, que borra una fila y la devuelve"
      ]
    },
    {
      "cell_type": "code",
      "execution_count": null,
      "metadata": {
        "id": "fElzCY8jHB32"
      },
      "outputs": [],
      "source": [
        "df2 = df.copy()\n",
        "habi = df2.pop(\"habitantes\")\n",
        "df2"
      ]
    },
    {
      "cell_type": "code",
      "execution_count": null,
      "metadata": {
        "id": "OEzrAxsgHB33"
      },
      "outputs": [],
      "source": [
        "habi"
      ]
    },
    {
      "cell_type": "code",
      "execution_count": null,
      "metadata": {
        "id": "hQaW2JkSHB33"
      },
      "outputs": [],
      "source": [
        "df"
      ]
    },
    {
      "cell_type": "markdown",
      "metadata": {
        "id": "7BOnGEpvN57o"
      },
      "source": [
        "### Filtros\n",
        "\n",
        "Para *filtrar* filas lo normal es escribir una expresión booleana que solo cumplan las filas que queremos y acceder mediante este filtro"
      ]
    },
    {
      "cell_type": "code",
      "execution_count": null,
      "metadata": {
        "id": "WLKPYyQJPy14"
      },
      "outputs": [],
      "source": [
        "datos = [['Madrid', 6507184], ['Barcelona', 5609350],\n",
        "         ['Valencia', 2547986], ['Sevilla', 1939887],\n",
        "         ['Alicante', 1838819], ['Málaga',1694089]  ]\n",
        "df = pd.DataFrame(datos ,columns=['ciudades','habitantes'],\n",
        "               index=['Capital','Capital Com. Autonoma','Capital Com. Autonoma','Ciudad','Ciudad','Ciudad'])\n",
        "\n",
        "df"
      ]
    },
    {
      "cell_type": "markdown",
      "metadata": {
        "id": "de7u9rYQO5uv"
      },
      "source": [
        "Ciudades con más de 200000 habitantes"
      ]
    },
    {
      "cell_type": "code",
      "execution_count": null,
      "metadata": {
        "id": "dPFIAY1cPA-f"
      },
      "outputs": [],
      "source": [
        "filtro = df.habitantes > 2000000\n",
        "df2 = df[filtro]\n",
        "df2"
      ]
    },
    {
      "cell_type": "markdown",
      "metadata": {
        "id": "WryDmJu9PRej"
      },
      "source": [
        "Esto es importante pero bastante complejo. Para entenderlo veamos primero el filtro"
      ]
    },
    {
      "cell_type": "code",
      "execution_count": null,
      "metadata": {
        "id": "nzOBHIbXPmAX"
      },
      "outputs": [],
      "source": [
        "filtro"
      ]
    },
    {
      "cell_type": "markdown",
      "metadata": {
        "id": "GZDo2jsWPp9m"
      },
      "source": [
        "Aquí el índice no es importante, lo importante es que hay un True en cada fila que cumple la condición y un false en la que no.\n",
        "\n",
        "Y Python permite usar una secuencia de Trues y False para acceder a elementos, devolviendo solo en los que hay Trues; por eso df[filtro] es equivalente a"
      ]
    },
    {
      "cell_type": "code",
      "execution_count": null,
      "metadata": {
        "id": "HVbyWYfVP7Eu"
      },
      "outputs": [],
      "source": [
        "df[[True,True,True,False,False,False]]"
      ]
    },
    {
      "cell_type": "markdown",
      "metadata": {
        "id": "qU1U3heOQaBk"
      },
      "source": [
        "**Ejemplo** La función de strings `startswith` indica si un string empieza por una letra"
      ]
    },
    {
      "cell_type": "code",
      "execution_count": null,
      "metadata": {
        "id": "otpfX1xLQjol"
      },
      "outputs": [],
      "source": [
        "s = \"Barcerlona\"\n",
        "print(s.startswith(\"B\"))\n",
        "print(s.startswith(\"V\"))"
      ]
    },
    {
      "cell_type": "markdown",
      "metadata": {
        "id": "zTPNa9hEQuVh"
      },
      "source": [
        "vamos a usarla para quedarnos solo con las ciudades que empiezan por M"
      ]
    },
    {
      "cell_type": "code",
      "execution_count": null,
      "metadata": {
        "id": "LQ0s3eZMO_Ln"
      },
      "outputs": [],
      "source": [
        "filtro = df.ciudades.str.startswith(\"M\")  # ciudades cuyo nombre empieza por M\n",
        "\n",
        "df2 = df[filtro]\n",
        "df2"
      ]
    },
    {
      "cell_type": "code",
      "execution_count": null,
      "metadata": {
        "id": "_xnm6GH_6M4M"
      },
      "outputs": [],
      "source": [
        "filtro"
      ]
    },
    {
      "cell_type": "markdown",
      "metadata": {
        "id": "oFexrnxL6FQV"
      },
      "source": [
        "**Detalle**: Fijarse en el df.ciudades**.str**.startswith(\"M\"). Es necesario porque al ser `startswith` una función que solo vale para strings tenemos que \"avisar\" a Python de que la función es de tipo string, cuando por defecto las considera numéricas. Además de *str* existe otro para indicar que la columna es una fecha, *dt*.\n",
        "\n",
        "Si lo que queremos es saber cuántos elementos cumplen el filtro, nos basta con recordar que los Trues se corresponden con 1s, y los Falses con 0s."
      ]
    },
    {
      "cell_type": "code",
      "execution_count": null,
      "metadata": {
        "id": "havcbeiH6UST"
      },
      "outputs": [],
      "source": [
        "sum(filtro)"
      ]
    },
    {
      "cell_type": "markdown",
      "metadata": {
        "id": "wDzbQZgCSnuR"
      },
      "source": [
        "**Ejercicio 4**\n",
        "\n",
        "a) Cargar el fichero \"https://raw.githubusercontent.com/RafaelCaballero/tdm/master/datos/parocomunidades.csv\" que está con codificación (`encoding`) \"latin1\" y dejarlo en un dataframe `df_paro`\n",
        "\n",
        "\n"
      ]
    },
    {
      "cell_type": "code",
      "execution_count": null,
      "metadata": {
        "id": "blH6MPMhWSVZ"
      },
      "outputs": [],
      "source": [
        "import pandas as pd\n",
        "url = \"https://raw.githubusercontent.com/RafaelCaballero/tdm/master/datos/parocomunidades.csv\"\n"
      ]
    },
    {
      "cell_type": "markdown",
      "metadata": {
        "id": "pUo_UonaSrZ4"
      },
      "source": [
        "b) Mostrar solo las filas de `df_paro` que corresponden al Periodo 2019"
      ]
    },
    {
      "cell_type": "code",
      "execution_count": null,
      "metadata": {
        "id": "yVnoRtAfTbwU"
      },
      "outputs": [],
      "source": []
    },
    {
      "cell_type": "markdown",
      "metadata": {
        "id": "zMPcr-UlT70e"
      },
      "source": [
        "c) Mostrar solo las filas de `df_paro` que corresponden a un total mayor de 15"
      ]
    },
    {
      "cell_type": "code",
      "execution_count": null,
      "metadata": {
        "id": "v6su4JVMT_DG"
      },
      "outputs": [],
      "source": []
    },
    {
      "cell_type": "markdown",
      "metadata": {
        "id": "x2YQIP2XUYps"
      },
      "source": [
        "d) (más difícil) Mostrar solo las filas que corresponden al Periodo 2019 y tienen Total mayor de 15"
      ]
    },
    {
      "cell_type": "code",
      "execution_count": null,
      "metadata": {
        "id": "NGgr20UlUVzm"
      },
      "outputs": [],
      "source": [
        "\n"
      ]
    },
    {
      "cell_type": "markdown",
      "metadata": {
        "id": "5AsbShKoVD4G"
      },
      "source": [
        "**Nota** Para combinar varias condiciones en un filtro se utilizan los operadores de bit: `&` en lugar de `and`, `|` en lugar de `or` y `~` en lugar de not."
      ]
    },
    {
      "cell_type": "markdown",
      "metadata": {
        "id": "6IcVjXC5VWvG"
      },
      "source": [
        "**Ejemplo**\n",
        "\n",
        "Queremos todos los datos de `df_paro` salvo los de Andalucía"
      ]
    },
    {
      "cell_type": "code",
      "execution_count": null,
      "metadata": {
        "id": "DZxByKcOVh3S"
      },
      "outputs": [],
      "source": [
        "# método 1\n",
        "import pandas as pd\n",
        "url = \"https://raw.githubusercontent.com/RafaelCaballero/tdm/master/datos/parocomunidades.csv\"\n",
        "df_paro = pd.read_csv(url, encoding=\"latin1\")\n",
        "filtro = df_paro[\"Comunidad\"]!=\"Andalucía\"\n",
        "df_paro[filtro]"
      ]
    },
    {
      "cell_type": "code",
      "execution_count": null,
      "metadata": {
        "id": "LLAzIj-RVsMR"
      },
      "outputs": [],
      "source": [
        "# método 2, más raro\n",
        "filtro = df_paro[\"Comunidad\"]==\"Andalucía\"\n",
        "df_paro[~filtro]"
      ]
    },
    {
      "cell_type": "markdown",
      "metadata": {
        "id": "zpqYtd--ES32"
      },
      "source": [
        "**Ejercicio 5** Consideramos este DataFrame"
      ]
    },
    {
      "cell_type": "code",
      "execution_count": null,
      "metadata": {
        "id": "huFZrkYaES32"
      },
      "outputs": [],
      "source": [
        "data = [[1,2,3,4,5,6,7],\n",
        "        [1,2,0,0,0,6,7],\n",
        "        [1,2,0,0,0,6,7],\n",
        "        [1,2,0,0,0,6,7],\n",
        "        [1,2,3,4,5,6,7],\n",
        "       ]\n",
        "df = pd.DataFrame(data)\n",
        "df"
      ]
    },
    {
      "cell_type": "markdown",
      "metadata": {
        "id": "Le7rxBF2ES32"
      },
      "source": [
        "Encontrar una expresión de cambiar todos los 0s por 9s (hay varias formas, alguna utilizando posiciones y alguna otra sin posiciones)"
      ]
    },
    {
      "cell_type": "code",
      "execution_count": null,
      "metadata": {
        "id": "rwzf_fijES32"
      },
      "outputs": [],
      "source": []
    },
    {
      "cell_type": "code",
      "execution_count": null,
      "metadata": {
        "id": "icpk5jJnES32"
      },
      "outputs": [],
      "source": []
    },
    {
      "cell_type": "markdown",
      "metadata": {
        "id": "I42_FCGts29k"
      },
      "source": [
        "### Añadir filas\n",
        "\n",
        "Veamos como [añadir filas](https://www.stackvidhya.com/add-row-to-dataframe/#:~:text=You%20can%20add%20rows%20to,append()) a un dataframe ya existente con append"
      ]
    },
    {
      "cell_type": "code",
      "execution_count": null,
      "metadata": {
        "id": "AIFlVtkZES32"
      },
      "outputs": [],
      "source": [
        "datos = [['Madrid', 6507184], ['Barcelona', 5609350],\n",
        "         ['Valencia', 2547986], ['Sevilla', 1939887],\n",
        "         ['Alicante', 1838819], ['Málaga',1694089]  ]\n",
        "df = pd.DataFrame(datos ,columns=['ciudades','habitantes'])\n",
        "df"
      ]
    },
    {
      "cell_type": "code",
      "execution_count": null,
      "metadata": {
        "id": "fvnraLRlt-Uj"
      },
      "outputs": [],
      "source": [
        "df = df.append( {'ciudades':'Cáceres', 'habitantes': 394151 }, ignore_index = True)\n",
        "df"
      ]
    },
    {
      "cell_type": "markdown",
      "metadata": {
        "id": "4sLJG_WiweR8"
      },
      "source": [
        "Ahora añadimos una columna con la superficie"
      ]
    },
    {
      "cell_type": "code",
      "execution_count": null,
      "metadata": {
        "id": "f7V87HQDwh2C"
      },
      "outputs": [],
      "source": [
        "df[\"superficie\"] = [8027, 7773, 10807,14036,5817,7306, 19868]\n",
        "df"
      ]
    },
    {
      "cell_type": "markdown",
      "metadata": {
        "id": "QhMxqPnKxxbC"
      },
      "source": [
        "Y obtenemos la densidad:"
      ]
    },
    {
      "cell_type": "code",
      "execution_count": null,
      "metadata": {
        "id": "UYG5b0D_x3VU"
      },
      "outputs": [],
      "source": [
        "df[\"densidad\"] = df[\"habitantes\"]/df[\"superficie\"]\n",
        "df"
      ]
    },
    {
      "cell_type": "markdown",
      "metadata": {
        "id": "LHIh_7pUyCrp"
      },
      "source": [
        "Finalmente, ordenamos por nombre de ciudad con `sort_values`. Nótese el uso de `inplace=True` para que modifique el dataframe y no devuelva una copia"
      ]
    },
    {
      "cell_type": "markdown",
      "source": [],
      "metadata": {
        "id": "tdrW-KOkustH"
      }
    },
    {
      "cell_type": "markdown",
      "metadata": {
        "id": "B2BgI9CTHB38"
      },
      "source": [
        "### Ordenar"
      ]
    },
    {
      "cell_type": "markdown",
      "metadata": {
        "id": "zqefeh-DHB38"
      },
      "source": [
        "Para ordenar utilizaremos `sort_values`"
      ]
    },
    {
      "cell_type": "code",
      "execution_count": null,
      "metadata": {
        "id": "iAHhpqVg2nuc"
      },
      "outputs": [],
      "source": [
        "datos = [['Madrid', 6507184], ['Barcelona', 5609350],\n",
        "         ['Valencia', 2547986], ['Sevilla', 1939887],\n",
        "         ['Alicante', 1838819], ['Málaga',1694089]  ]\n",
        "df = pd.DataFrame(datos ,columns=['provincia','habitantes'])\n",
        "df\n",
        "df.sort_values(by='provincia', ascending=True, inplace=True)\n",
        "df"
      ]
    },
    {
      "cell_type": "markdown",
      "metadata": {
        "id": "8yAu6YK0HB39"
      },
      "source": [
        "Ordenar por dos columnas"
      ]
    },
    {
      "cell_type": "code",
      "execution_count": null,
      "metadata": {
        "id": "6C4c5LgcHB39"
      },
      "outputs": [],
      "source": [
        "datos = [['Bertoldo', 'Cacaseno'], ['Aniceto', 'Cacaseno'],\n",
        "         ['Herminia', 'Ducasse'], ['Calixta', 'Albrich'] ]\n",
        "df = pd.DataFrame(datos ,columns=['nombre','apellido'])\n",
        "df.sort_values(by='apellido',ascending=True)"
      ]
    },
    {
      "cell_type": "code",
      "execution_count": null,
      "metadata": {
        "id": "kT3XgduFHB39"
      },
      "outputs": [],
      "source": [
        "df.sort_values(by=['apellido','nombre'],ascending=True)"
      ]
    },
    {
      "cell_type": "markdown",
      "metadata": {
        "id": "AEA1DYeEHB39"
      },
      "source": [
        "<a name=\"Samples\"></a>\n",
        "## Muestras\n",
        "\n",
        "En ocasiones nos interesará tomar muestras de un dataset muy grande para tener unos pocos datos manejables y representativos\n",
        "\n",
        "Las muestras también se utilizarán en nuestros experimentos con datos, dividiendo el conjunto en dos:\n",
        "\n",
        "- Entrenamiento\n",
        "\n",
        "- Test\n",
        "\n",
        "El conjunto de entrenamiento lo usaremos para nuestras hipótesis, nuestros modelos. Una vez realizado el modelo lo probaremos con datos \"nuevos\" los datos de test\n",
        "\n",
        "En ambos casos utilizaremos [sample](https://pandas.pydata.org/docs/reference/api/pandas.DataFrame.sample.html) al que se puede pasar la proporción de datos a obtener o el número de valores a obtener\n",
        "\n"
      ]
    },
    {
      "cell_type": "code",
      "execution_count": null,
      "metadata": {
        "id": "qbcDXbn_HB39"
      },
      "outputs": [],
      "source": [
        "# lectura de un fichero en panda\n",
        "import pandas as pd\n",
        "\n",
        "url = \"https://raw.githubusercontent.com/RafaelCaballero/tdm/master/datos/madpollution_output.csv\"\n",
        "df = pd.read_csv(url)\n",
        "df"
      ]
    },
    {
      "cell_type": "code",
      "execution_count": null,
      "metadata": {
        "id": "ViUACC7pHB39"
      },
      "outputs": [],
      "source": [
        "# solo queremos 100 filas al azar\n",
        "df.sample(n=100)"
      ]
    },
    {
      "cell_type": "markdown",
      "metadata": {
        "id": "pfceGRUgHB3-"
      },
      "source": [
        "Ejemplo de división de un dataframe en dos de forma aleatoria"
      ]
    },
    {
      "cell_type": "code",
      "execution_count": null,
      "metadata": {
        "id": "CyIx3BanHB3-"
      },
      "outputs": [],
      "source": [
        "train_dataset = df.sample(frac=0.8,random_state=0)\n",
        "test_dataset = df.drop(train_dataset.index)\n",
        "print(len(train_dataset), len(test_dataset))"
      ]
    },
    {
      "cell_type": "markdown",
      "metadata": {
        "id": "5vGcAZ72HB3-"
      },
      "source": [
        "También se pueden tomar muestras con reemplazamiento, lo que significa que se puede repetir"
      ]
    },
    {
      "cell_type": "code",
      "execution_count": null,
      "metadata": {
        "id": "l6eDtyzyHB3-"
      },
      "outputs": [],
      "source": [
        "datos = [['Bertoldo', 'Cacaseno'], ['Aniceto', 'Cacaseno'],\n",
        "         ['Herminia', 'Ducasse'], ['Calixta', 'Albrich'] ]\n",
        "df = pd.DataFrame(datos ,columns=['nombre','apellido'])\n",
        "df"
      ]
    },
    {
      "cell_type": "code",
      "execution_count": null,
      "metadata": {
        "id": "U8hJb7oFHB3-"
      },
      "outputs": [],
      "source": [
        "df.sample(n=10,replace=True)"
      ]
    },
    {
      "cell_type": "markdown",
      "metadata": {
        "id": "5adG4RmVHB3-"
      },
      "source": [
        "<a name=\"Iterar\"></a>\n",
        "## Iterar\n",
        "\n",
        "Intentaremos evitar iterar por el dataframe con un `for`, pero a veces no hay más remedio. En ese caso usaremos `iterrows`\n",
        " que nos devuelve cada fila como un array con dos posiciones, la 0 para el índice y la 1 para la fila en sí"
      ]
    },
    {
      "cell_type": "code",
      "execution_count": null,
      "metadata": {
        "id": "wvD3_inQHB3-"
      },
      "outputs": [],
      "source": [
        "import pandas as pd\n",
        "file = \"https://raw.githubusercontent.com/RafaelCaballero/tdm/master/datos/top10s.csv\"\n",
        "df = pd.read_csv(file,encoding=\"latin-1\", index_col=0)\n",
        "df"
      ]
    },
    {
      "cell_type": "code",
      "execution_count": null,
      "metadata": {
        "id": "NOxPXMdnHB3_"
      },
      "outputs": [],
      "source": [
        "for row in df.iterrows():\n",
        "    print(row[1][\"title\"])"
      ]
    },
    {
      "cell_type": "markdown",
      "metadata": {
        "id": "cES_g61gHB3_"
      },
      "source": [
        "**Ejemplo 11** Utilizar iterrows para encontrar el título de la canción  con más bpm.\n",
        "\n",
        "Idea: usar una variable bpm que lleve el máximo hasta el momento y otra título con el título del máximo hasta el momento, e ir actualizando ambas variables"
      ]
    },
    {
      "cell_type": "code",
      "execution_count": null,
      "metadata": {
        "id": "BajJWrPJHB3_"
      },
      "outputs": [],
      "source": []
    },
    {
      "cell_type": "code",
      "execution_count": null,
      "metadata": {
        "id": "jObOiweIHB3_"
      },
      "outputs": [],
      "source": [
        "## Y ahora sin iterrows..."
      ]
    },
    {
      "cell_type": "markdown",
      "metadata": {
        "id": "MWJxWvDwES33"
      },
      "source": [
        "## Índices"
      ]
    },
    {
      "cell_type": "markdown",
      "metadata": {
        "id": "RrsilsIcES33"
      },
      "source": [
        "Ya hemos visto unas cuantas cosas sobre los índices\n",
        "\n",
        "- Se usan para referenciar fila\n",
        "- Se puede acceder con loc\n",
        "- Hay índices de tipos diversos\n",
        "\n",
        "Algunas cosas nuevas:\n",
        "\n"
      ]
    },
    {
      "cell_type": "code",
      "execution_count": null,
      "metadata": {
        "id": "Fyn_XKQ-ES33"
      },
      "outputs": [],
      "source": [
        "import pandas as pd\n",
        "import numpy as np\n",
        "data = [[1,2,3,4,5,6,7],\n",
        "        [1,2,0,0,0,6,7],\n",
        "        [1,2,0,0,0,6,7],\n",
        "        [1,2,0,0,0,6,7],\n",
        "        [1,2,3,4,5,6,7],\n",
        "       ]\n",
        "df1 = pd.DataFrame(data, columns=[chr(ord('a')+i) for i in range(len(data[0]))],\n",
        "               index = ['i'+chr(ord('a')+i) for i in range(len(data))])\n",
        "df2 = pd.DataFrame(data, columns=[chr(ord('a')+i) for i in range(len(data[0]))],\n",
        "               index = [i-1 for i in range(len(data),0,-1)])\n",
        "df3 = pd.DataFrame(data, columns=[chr(ord('a')+i) for i in range(len(data[0]))],\n",
        "               index = [np.random.randint(3) for i in range(len(data),0,-1)])\n"
      ]
    },
    {
      "cell_type": "code",
      "execution_count": null,
      "metadata": {
        "id": "2M4IeHD4ES33"
      },
      "outputs": [],
      "source": [
        "print(df1,df2,df3,sep=\"\\n\")"
      ]
    },
    {
      "cell_type": "markdown",
      "metadata": {
        "id": "d9Zbk_DkES33"
      },
      "source": [
        "Se puede comprobar si es monótono creciente.\n",
        "\n",
        "> Indented block\n",
        "\n"
      ]
    },
    {
      "cell_type": "code",
      "execution_count": null,
      "metadata": {
        "id": "qU8la-mXES34"
      },
      "outputs": [],
      "source": [
        "df1.index.is_monotonic, df2.index.is_monotonic, df3.index.is_monotonic"
      ]
    },
    {
      "cell_type": "markdown",
      "metadata": {
        "id": "y0QWrzL3ES34"
      },
      "source": [
        "También de si hay valores repetidos"
      ]
    },
    {
      "cell_type": "code",
      "execution_count": null,
      "metadata": {
        "id": "i3wjc9MqES34"
      },
      "outputs": [],
      "source": [
        "df1.index.is_unique, df2.index.is_unique, df3.index.is_unique"
      ]
    },
    {
      "cell_type": "markdown",
      "metadata": {
        "id": "79-c0uoqES34"
      },
      "source": [
        "En caso de que no sea único podemos querer obtener los valores distintos"
      ]
    },
    {
      "cell_type": "code",
      "execution_count": null,
      "metadata": {
        "id": "HHMnQjSFES34"
      },
      "outputs": [],
      "source": [
        "df3.index.unique()"
      ]
    },
    {
      "cell_type": "markdown",
      "metadata": {
        "id": "VAY23XcwES34"
      },
      "source": [
        "Una de las operaciones más básicas, que haremos a menudo es reindexar:"
      ]
    },
    {
      "cell_type": "code",
      "execution_count": null,
      "metadata": {
        "id": "JwRds067ES35"
      },
      "outputs": [],
      "source": [
        "\n",
        "df4 = df2.reindex([1,2,3,4,5])\n",
        "df4\n"
      ]
    },
    {
      "cell_type": "markdown",
      "metadata": {
        "id": "cp1lzMzTES35"
      },
      "source": [
        "- ¿Por qué necesitamos hacer df4 y no queda modificado df2? Porque los índices son inmutables. Para que se cambie en el propio DataFram usar el argumento `inplace=True`\n",
        "\n",
        "- ¿Por qué aparecen los NaN? (pensar...)\n"
      ]
    },
    {
      "cell_type": "code",
      "execution_count": null,
      "metadata": {
        "id": "KXJzHM3dES35"
      },
      "outputs": [],
      "source": [
        "df4 = df2.reindex([1,2,3,4,5],fill_value=0)\n",
        "df4"
      ]
    },
    {
      "cell_type": "markdown",
      "metadata": {
        "id": "M8KRR5fCES35"
      },
      "source": [
        "También vale para columnas"
      ]
    },
    {
      "cell_type": "code",
      "execution_count": null,
      "metadata": {
        "id": "YYJu6sIzES35"
      },
      "outputs": [],
      "source": [
        "df4 = df2.reindex(columns=[1,2,3,4,5],fill_value=-1)\n",
        "df4"
      ]
    },
    {
      "cell_type": "markdown",
      "metadata": {
        "id": "QaIsieKfES36"
      },
      "source": [
        "Esto es un poco desastre. ¿No podemos solo cambiar los índices sin cargarnos todo? La solución es `reset_index()`"
      ]
    },
    {
      "cell_type": "code",
      "execution_count": null,
      "metadata": {
        "id": "ZYH0UHN0ES36"
      },
      "outputs": [],
      "source": [
        "df2 = pd.DataFrame(data, columns=[chr(ord('a')+i) for i in range(len(data[0]))],\n",
        "               index = [i-1 for i in range(len(data),0,-1)])\n",
        "df2"
      ]
    },
    {
      "cell_type": "code",
      "execution_count": null,
      "metadata": {
        "id": "UaHLod6rES36"
      },
      "outputs": [],
      "source": [
        "df2.reset_index(inplace=True)\n",
        "df2"
      ]
    },
    {
      "cell_type": "markdown",
      "metadata": {
        "id": "e6hYgsN_ES36"
      },
      "source": [
        "El índice se 'guarda' en una columna `index`. Se puede evitar utilizando `drop=True`"
      ]
    },
    {
      "cell_type": "code",
      "execution_count": null,
      "metadata": {
        "id": "ScQGWTagES36"
      },
      "outputs": [],
      "source": [
        "from pandas import DataFrame\n",
        "data = [[1,2,3,4,5,6,7],\n",
        "        [1,2,0,0,0,6,7],\n",
        "        [1,2,0,0,0,6,7],\n",
        "        [1,2,0,0,0,6,7],\n",
        "        [1,2,3,4,5,6,7],\n",
        "       ]\n",
        "df2 = DataFrame(data, columns=[chr(ord('a')+i) for i in range(len(data[0]))],\n",
        "               index = [i-1 for i in range(len(data),0,-1)])\n",
        "df2.reset_index(drop=True, inplace=True)\n",
        "df2"
      ]
    },
    {
      "cell_type": "markdown",
      "metadata": {
        "id": "6cHaepkuES36"
      },
      "source": [
        "Si no se quiere que el índice empiece en 0, ni tampoco que se pierda información, se puede acceder directamente a .index o a .columns"
      ]
    },
    {
      "cell_type": "code",
      "execution_count": null,
      "metadata": {
        "id": "ngCQZS0lES37"
      },
      "outputs": [],
      "source": [
        "df2.index = ['a','b','c','d','e']\n",
        "df2"
      ]
    },
    {
      "cell_type": "code",
      "execution_count": null,
      "metadata": {
        "id": "_hMC-zKOHB4C"
      },
      "outputs": [],
      "source": [
        "df2[df2.index=='a']"
      ]
    },
    {
      "cell_type": "code",
      "execution_count": null,
      "metadata": {
        "id": "iAN311fXHB4C"
      },
      "outputs": [],
      "source": [
        "df2.loc['a']"
      ]
    },
    {
      "cell_type": "markdown",
      "metadata": {
        "id": "1j0A-TJAES37"
      },
      "source": [
        "Si se accede directamente a `index` se deben poner tantos elementos como filas hay, si no se obtendrá un error"
      ]
    },
    {
      "cell_type": "code",
      "execution_count": null,
      "metadata": {
        "id": "Y_NlpC_6ES37"
      },
      "outputs": [],
      "source": [
        "# esto daría error\n",
        "#df2.index = ['a','b','c','d']"
      ]
    },
    {
      "cell_type": "markdown",
      "metadata": {
        "id": "w-Ua8nWlES37"
      },
      "source": [
        "**Ej.** Queremos sumar dos series:"
      ]
    },
    {
      "cell_type": "code",
      "execution_count": null,
      "metadata": {
        "id": "ri4rRNyLES37"
      },
      "outputs": [],
      "source": [
        "a = pd.Series([1,2,3,4],['a','b','c','d'])\n",
        "b = pd.Series([1,2,3,4],[10,20,30,40])"
      ]
    },
    {
      "cell_type": "markdown",
      "metadata": {
        "id": "KlD0DaI9ES38"
      },
      "source": [
        "Sin embargo:"
      ]
    },
    {
      "cell_type": "code",
      "execution_count": null,
      "metadata": {
        "id": "YHuA2_uVES38"
      },
      "outputs": [],
      "source": [
        "a+b"
      ]
    },
    {
      "cell_type": "markdown",
      "metadata": {
        "id": "7F1XA1VrES38"
      },
      "source": [
        "¿qué podemos hacer?"
      ]
    },
    {
      "cell_type": "code",
      "execution_count": null,
      "metadata": {
        "id": "aUnBksuMES38"
      },
      "outputs": [],
      "source": [
        "a.reset_index(drop=True)+b.reset_index(drop=True)"
      ]
    },
    {
      "cell_type": "markdown",
      "metadata": {
        "id": "_K4wdgRQES38"
      },
      "source": [
        "Se pueden eliminar filas a partir del índice con drop()"
      ]
    },
    {
      "cell_type": "code",
      "execution_count": null,
      "metadata": {
        "id": "RxougHE0ES38"
      },
      "outputs": [],
      "source": [
        "c = a.reset_index(drop=True)+b.reset_index(drop=True)\n",
        "print(c,type(c))\n",
        "d = c.drop([1,2])\n",
        "print(d)"
      ]
    },
    {
      "cell_type": "code",
      "execution_count": null,
      "metadata": {
        "id": "tyCQTZn1ES39"
      },
      "outputs": [],
      "source": [
        "df = DataFrame(np.arange(16).reshape((4, 4)),\n",
        "               columns=['c'+str(i) for i in range(4)],\n",
        "               index = ['f'+str(i) for i in range(4)])\n",
        "df"
      ]
    },
    {
      "cell_type": "code",
      "execution_count": null,
      "metadata": {
        "id": "skxZT64HES39"
      },
      "outputs": [],
      "source": [
        "df.drop(['c1','c2'],axis=1,inplace=True)\n",
        "df"
      ]
    },
    {
      "cell_type": "code",
      "execution_count": null,
      "metadata": {
        "id": "KliUKk1QES39"
      },
      "outputs": [],
      "source": [
        "df = DataFrame(np.arange(16).reshape((4, 4)),\n",
        "               columns=['c'+str(i) for i in range(4)],\n",
        "               index = ['f'+str(i) for i in range(4)])\n",
        "df.drop(['f1','f2'],axis=0,inplace=True)\n",
        "df"
      ]
    },
    {
      "cell_type": "markdown",
      "metadata": {
        "id": "lsrhU1QcES39"
      },
      "source": [
        "Como ya hemos visto las operaciones aritméticas utilizan los índices comunes. Esto vale tanto para filas como para columnas"
      ]
    },
    {
      "cell_type": "code",
      "execution_count": null,
      "metadata": {
        "id": "v4HvamE1ES39"
      },
      "outputs": [],
      "source": [
        "df1 = DataFrame(np.arange(12.).reshape((3, 4)), columns=list('abcd'))\n",
        "df2 = DataFrame(np.arange(20.).reshape((4, 5)), columns=list('abcde'))\n",
        "\n",
        "print(df1)\n",
        "print(df2)"
      ]
    },
    {
      "cell_type": "code",
      "execution_count": null,
      "metadata": {
        "id": "bQI7vKChES39"
      },
      "outputs": [],
      "source": [
        "df1+df2"
      ]
    },
    {
      "cell_type": "markdown",
      "metadata": {
        "id": "l3vNNJY4ES3-"
      },
      "source": [
        "Para evitarlo se puede añadir 0 para evitar el valor `NaN`"
      ]
    },
    {
      "cell_type": "code",
      "execution_count": null,
      "metadata": {
        "id": "oM_gSVC9ES3-"
      },
      "outputs": [],
      "source": [
        "df1.add(df2,fill_value=0)"
      ]
    },
    {
      "cell_type": "markdown",
      "metadata": {
        "id": "QpiIKIAoES3-"
      },
      "source": [
        "Análogamente existen funciones `add`, `sub`, `div`, `mul`\n",
        "\n",
        "La siguiente operación ya no debe sorprendernos:"
      ]
    },
    {
      "cell_type": "code",
      "execution_count": null,
      "metadata": {
        "id": "7A-JtfLzES3-"
      },
      "outputs": [],
      "source": [
        "f = df1.loc[1,:]\n",
        "print(df1,\"\\n\",f,\"\\n\",df1-f,sep=\"\")\n",
        "\n"
      ]
    },
    {
      "cell_type": "markdown",
      "metadata": {
        "id": "lYyK0Ip2ES3-"
      },
      "source": [
        "Si lo que queremos es restar sobre las columnas"
      ]
    },
    {
      "cell_type": "code",
      "execution_count": null,
      "metadata": {
        "id": "5ksq-Zc3ES3-"
      },
      "outputs": [],
      "source": [
        "f.index = range(len(f))\n",
        "df1.sub(f,axis=0)"
      ]
    },
    {
      "cell_type": "markdown",
      "metadata": {
        "id": "TZu7EVk4ES3_"
      },
      "source": [
        "Si lo que se quiere es ordenar los índices, no cambiarlo, se puede utilizar `sort_index()`"
      ]
    },
    {
      "cell_type": "code",
      "execution_count": null,
      "metadata": {
        "id": "qGsbjNK6ES3_"
      },
      "outputs": [],
      "source": [
        "df1 = DataFrame(np.arange(12.).reshape((3, 4)),\n",
        "                columns=list('dfab'),index=list('431'))\n",
        "df1"
      ]
    },
    {
      "cell_type": "code",
      "execution_count": null,
      "metadata": {
        "id": "2HBJidnMES3_"
      },
      "outputs": [],
      "source": [
        "df1.sort_index(inplace=True)\n",
        "df1"
      ]
    },
    {
      "cell_type": "code",
      "execution_count": null,
      "metadata": {
        "id": "a4_Xht--ES4D"
      },
      "outputs": [],
      "source": []
    }
  ],
  "metadata": {
    "colab": {
      "provenance": [],
      "include_colab_link": true
    },
    "kernelspec": {
      "display_name": "Python 3",
      "language": "python",
      "name": "python3"
    },
    "language_info": {
      "codemirror_mode": {
        "name": "ipython",
        "version": 3
      },
      "file_extension": ".py",
      "mimetype": "text/x-python",
      "name": "python",
      "nbconvert_exporter": "python",
      "pygments_lexer": "ipython3",
      "version": "3.8.5"
    }
  },
  "nbformat": 4,
  "nbformat_minor": 0
}