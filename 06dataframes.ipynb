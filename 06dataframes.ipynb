{
 "cells": [
  {
   "cell_type": "markdown",
   "metadata": {
    "id": "q110icUhES3b"
   },
   "source": [
    "# Introducción a Python \n",
    "\n",
    "## Pandas - DataFrames\n",
    "\n",
    "Los DataFrames son la estructura principal de Pandas. Se trata de una tabla bidimensional, aunque se pueden lograr representar más dimensiones usando *índices jerárquicos*.\n",
    "\n",
    "\n",
    "### Índice\n",
    "[Creación](#Creación)<br>\n",
    "[Acceso a columnas y filas](#Acceso-a-columnas-y-filas)<br>\n",
    "[Modificación, inserción y borrado de columnas y filas](#Modificación)<br>\n",
    "[Muestras](#Samples)<br>\n",
    "[Iterar](#Iterar)<br>\n",
    "[Índices](#Índices)<br>"
   ]
  },
  {
   "cell_type": "markdown",
   "metadata": {
    "id": "R2xHXR2IES3l"
   },
   "source": [
    "<a name=\"Creación\"></a>\n",
    "## Creación"
   ]
  },
  {
   "cell_type": "markdown",
   "metadata": {
    "id": "ztEdTvQVES3m"
   },
   "source": [
    "Ya hemos visto como cargar Dataframes desde un fichero CSV o Excel. \n",
    "Otra alternativa es a través de listas de listas. Esto es habitual cuando por ejemplo estamos recopilando la información mediante web scraping y la vamos acumulando en listas. En este caso habrá que indicar, además, los nombres de las columnas"
   ]
  },
  {
   "cell_type": "code",
   "execution_count": 68,
   "metadata": {
    "id": "IB9MXs1GES3n"
   },
   "outputs": [
    {
     "data": {
      "text/html": [
       "<div>\n",
       "<style scoped>\n",
       "    .dataframe tbody tr th:only-of-type {\n",
       "        vertical-align: middle;\n",
       "    }\n",
       "\n",
       "    .dataframe tbody tr th {\n",
       "        vertical-align: top;\n",
       "    }\n",
       "\n",
       "    .dataframe thead th {\n",
       "        text-align: right;\n",
       "    }\n",
       "</style>\n",
       "<table border=\"1\" class=\"dataframe\">\n",
       "  <thead>\n",
       "    <tr style=\"text-align: right;\">\n",
       "      <th></th>\n",
       "      <th>provincia</th>\n",
       "      <th>habitantes</th>\n",
       "    </tr>\n",
       "  </thead>\n",
       "  <tbody>\n",
       "    <tr>\n",
       "      <th>0</th>\n",
       "      <td>Madrid</td>\n",
       "      <td>6507184</td>\n",
       "    </tr>\n",
       "    <tr>\n",
       "      <th>1</th>\n",
       "      <td>Barcelona</td>\n",
       "      <td>5609350</td>\n",
       "    </tr>\n",
       "    <tr>\n",
       "      <th>2</th>\n",
       "      <td>Valencia</td>\n",
       "      <td>2547986</td>\n",
       "    </tr>\n",
       "    <tr>\n",
       "      <th>3</th>\n",
       "      <td>Sevilla</td>\n",
       "      <td>1939887</td>\n",
       "    </tr>\n",
       "    <tr>\n",
       "      <th>4</th>\n",
       "      <td>Alicante</td>\n",
       "      <td>1838819</td>\n",
       "    </tr>\n",
       "    <tr>\n",
       "      <th>5</th>\n",
       "      <td>Málaga</td>\n",
       "      <td>1641121</td>\n",
       "    </tr>\n",
       "  </tbody>\n",
       "</table>\n",
       "</div>"
      ],
      "text/plain": [
       "   provincia  habitantes\n",
       "0     Madrid     6507184\n",
       "1  Barcelona     5609350\n",
       "2   Valencia     2547986\n",
       "3    Sevilla     1939887\n",
       "4   Alicante     1838819\n",
       "5     Málaga     1641121"
      ]
     },
     "execution_count": 68,
     "metadata": {},
     "output_type": "execute_result"
    }
   ],
   "source": [
    "import pandas as pd\n",
    "from pandas import Series, DataFrame # para no tener que poner pd.\n",
    "\n",
    "datos = [['Madrid', 6507184], ['Barcelona', 5609350], \n",
    "         ['Valencia', 2547986], ['Sevilla', 1939887], \n",
    "         ['Alicante', 1838819], ['Málaga',1641121]  ]\n",
    "df = DataFrame(datos ,columns=['provincia','habitantes'])\n",
    "df"
   ]
  },
  {
   "cell_type": "markdown",
   "metadata": {
    "id": "vChhWEwzES3o"
   },
   "source": [
    "El siguiente resultado, quizás inesperado, debe ser fácil de entender"
   ]
  },
  {
   "cell_type": "code",
   "execution_count": 69,
   "metadata": {
    "id": "f8jgdXD_ES3p"
   },
   "outputs": [
    {
     "data": {
      "text/html": [
       "<div>\n",
       "<style scoped>\n",
       "    .dataframe tbody tr th:only-of-type {\n",
       "        vertical-align: middle;\n",
       "    }\n",
       "\n",
       "    .dataframe tbody tr th {\n",
       "        vertical-align: top;\n",
       "    }\n",
       "\n",
       "    .dataframe thead th {\n",
       "        text-align: right;\n",
       "    }\n",
       "</style>\n",
       "<table border=\"1\" class=\"dataframe\">\n",
       "  <thead>\n",
       "    <tr style=\"text-align: right;\">\n",
       "      <th></th>\n",
       "      <th>0</th>\n",
       "      <th>1</th>\n",
       "      <th>2</th>\n",
       "      <th>3</th>\n",
       "      <th>4</th>\n",
       "      <th>5</th>\n",
       "    </tr>\n",
       "  </thead>\n",
       "  <tbody>\n",
       "    <tr>\n",
       "      <th>provincia</th>\n",
       "      <td>Madrid</td>\n",
       "      <td>Barcelona</td>\n",
       "      <td>Valencia</td>\n",
       "      <td>Sevilla</td>\n",
       "      <td>Alicante</td>\n",
       "      <td>Málaga</td>\n",
       "    </tr>\n",
       "    <tr>\n",
       "      <th>habitantes</th>\n",
       "      <td>6507184</td>\n",
       "      <td>5609350</td>\n",
       "      <td>2547986</td>\n",
       "      <td>1939887</td>\n",
       "      <td>1838819</td>\n",
       "      <td>1641121</td>\n",
       "    </tr>\n",
       "  </tbody>\n",
       "</table>\n",
       "</div>"
      ],
      "text/plain": [
       "                  0          1         2        3         4        5\n",
       "provincia    Madrid  Barcelona  Valencia  Sevilla  Alicante   Málaga\n",
       "habitantes  6507184    5609350   2547986  1939887   1838819  1641121"
      ]
     },
     "execution_count": 69,
     "metadata": {},
     "output_type": "execute_result"
    }
   ],
   "source": [
    "\n",
    "ciudades = ['Madrid', 'Barcelona', 'Valencia', 'Sevilla', \n",
    "         'Alicante', 'Málaga']\n",
    "habitantes = [6507184, 5609350,  2547986,  1939887, \n",
    "          1838819, 1641121 ]\n",
    "\n",
    "df2 = DataFrame([ciudades,habitantes],['provincia','habitantes'])\n",
    "df2"
   ]
  },
  {
   "cell_type": "markdown",
   "metadata": {
    "id": "x9xDO9MCES3p"
   },
   "source": [
    "También se puede crear a partir de un diccionario"
   ]
  },
  {
   "cell_type": "code",
   "execution_count": 70,
   "metadata": {
    "id": "lSbkSiBCES3q"
   },
   "outputs": [
    {
     "data": {
      "text/html": [
       "<div>\n",
       "<style scoped>\n",
       "    .dataframe tbody tr th:only-of-type {\n",
       "        vertical-align: middle;\n",
       "    }\n",
       "\n",
       "    .dataframe tbody tr th {\n",
       "        vertical-align: top;\n",
       "    }\n",
       "\n",
       "    .dataframe thead th {\n",
       "        text-align: right;\n",
       "    }\n",
       "</style>\n",
       "<table border=\"1\" class=\"dataframe\">\n",
       "  <thead>\n",
       "    <tr style=\"text-align: right;\">\n",
       "      <th></th>\n",
       "      <th>provincia</th>\n",
       "      <th>habitantes</th>\n",
       "    </tr>\n",
       "  </thead>\n",
       "  <tbody>\n",
       "    <tr>\n",
       "      <th>0</th>\n",
       "      <td>Madrid</td>\n",
       "      <td>6507184</td>\n",
       "    </tr>\n",
       "    <tr>\n",
       "      <th>1</th>\n",
       "      <td>Barcelona</td>\n",
       "      <td>5609350</td>\n",
       "    </tr>\n",
       "    <tr>\n",
       "      <th>2</th>\n",
       "      <td>Valencia</td>\n",
       "      <td>2547986</td>\n",
       "    </tr>\n",
       "    <tr>\n",
       "      <th>3</th>\n",
       "      <td>Sevilla</td>\n",
       "      <td>1939887</td>\n",
       "    </tr>\n",
       "    <tr>\n",
       "      <th>4</th>\n",
       "      <td>Alicante</td>\n",
       "      <td>1838819</td>\n",
       "    </tr>\n",
       "    <tr>\n",
       "      <th>5</th>\n",
       "      <td>Málaga</td>\n",
       "      <td>1641121</td>\n",
       "    </tr>\n",
       "  </tbody>\n",
       "</table>\n",
       "</div>"
      ],
      "text/plain": [
       "   provincia  habitantes\n",
       "0     Madrid     6507184\n",
       "1  Barcelona     5609350\n",
       "2   Valencia     2547986\n",
       "3    Sevilla     1939887\n",
       "4   Alicante     1838819\n",
       "5     Málaga     1641121"
      ]
     },
     "execution_count": 70,
     "metadata": {},
     "output_type": "execute_result"
    }
   ],
   "source": [
    "datos = {'provincia' : ['Madrid', 'Barcelona', 'Valencia', 'Sevilla', \n",
    "         'Alicante', 'Málaga'],\n",
    "         'habitantes' : [6507184, 5609350,  2547986,  1939887, \n",
    "          1838819, 1641121 ]}\n",
    "df = DataFrame(datos)\n",
    "df"
   ]
  },
  {
   "cell_type": "markdown",
   "metadata": {
    "id": "MfShXpC-ES3r"
   },
   "source": [
    "## Acceso a columnas y filas"
   ]
  },
  {
   "cell_type": "markdown",
   "metadata": {
    "id": "Asmq7CYYES3s"
   },
   "source": [
    "Al acceder a una columna obtenemos una \"serie\", es decir una secuencia de datos todos ellos con su etiqueta (en principio un número)"
   ]
  },
  {
   "cell_type": "code",
   "execution_count": 71,
   "metadata": {
    "id": "3wapsIyZES3s"
   },
   "outputs": [
    {
     "data": {
      "text/plain": [
       "0       Madrid\n",
       "1    Barcelona\n",
       "2     Valencia\n",
       "3      Sevilla\n",
       "4     Alicante\n",
       "5       Málaga\n",
       "Name: provincia, dtype: object"
      ]
     },
     "execution_count": 71,
     "metadata": {},
     "output_type": "execute_result"
    }
   ],
   "source": [
    "df['provincia']"
   ]
  },
  {
   "cell_type": "markdown",
   "metadata": {
    "id": "3N5_riIxES3t"
   },
   "source": [
    "Otra forma de acceder es con la notación . que solo puede usarse si el nombre de columna no contiene espacios ni símbolos especiales"
   ]
  },
  {
   "cell_type": "code",
   "execution_count": 72,
   "metadata": {
    "id": "-klB2t-dES3t"
   },
   "outputs": [
    {
     "data": {
      "text/plain": [
       "0       Madrid\n",
       "1    Barcelona\n",
       "2     Valencia\n",
       "3      Sevilla\n",
       "4     Alicante\n",
       "5       Málaga\n",
       "Name: provincia, dtype: object"
      ]
     },
     "execution_count": 72,
     "metadata": {},
     "output_type": "execute_result"
    }
   ],
   "source": [
    "df.provincia"
   ]
  },
  {
   "cell_type": "markdown",
   "metadata": {},
   "source": [
    "Veamos cuál es el tipo de una columna"
   ]
  },
  {
   "cell_type": "code",
   "execution_count": 73,
   "metadata": {
    "id": "LDecbKByES3t"
   },
   "outputs": [
    {
     "name": "stdout",
     "output_type": "stream",
     "text": [
      "<class 'pandas.core.series.Series'>\n"
     ]
    }
   ],
   "source": [
    "print(type(df['provincia']))"
   ]
  },
  {
   "cell_type": "markdown",
   "metadata": {},
   "source": [
    "Una \"Serie\" representa una columna tiene 2 componentes, el índice y los valores"
   ]
  },
  {
   "cell_type": "code",
   "execution_count": 74,
   "metadata": {},
   "outputs": [
    {
     "data": {
      "text/plain": [
       "array(['Madrid', 'Barcelona', 'Valencia', 'Sevilla', 'Alicante', 'Málaga'],\n",
       "      dtype=object)"
      ]
     },
     "execution_count": 74,
     "metadata": {},
     "output_type": "execute_result"
    }
   ],
   "source": [
    "df.provincia.values"
   ]
  },
  {
   "cell_type": "code",
   "execution_count": 75,
   "metadata": {},
   "outputs": [
    {
     "data": {
      "text/plain": [
       "RangeIndex(start=0, stop=6, step=1)"
      ]
     },
     "execution_count": 75,
     "metadata": {},
     "output_type": "execute_result"
    }
   ],
   "source": [
    "df.provincia.index"
   ]
  },
  {
   "cell_type": "markdown",
   "metadata": {
    "id": "uGarzx7LES3u"
   },
   "source": [
    "Para acceder por varias columnas a la vez usar dobles corchetes, y el resultado es un nuevo Dataframe"
   ]
  },
  {
   "cell_type": "code",
   "execution_count": 76,
   "metadata": {
    "id": "RnflVyM0ES3u"
   },
   "outputs": [
    {
     "ename": "KeyError",
     "evalue": "\"['ciudades'] not in index\"",
     "output_type": "error",
     "traceback": [
      "\u001b[1;31m---------------------------------------------------------------------------\u001b[0m",
      "\u001b[1;31mKeyError\u001b[0m                                  Traceback (most recent call last)",
      "\u001b[1;32m<ipython-input-76-25a9e3b72a1a>\u001b[0m in \u001b[0;36m<module>\u001b[1;34m\u001b[0m\n\u001b[1;32m----> 1\u001b[1;33m \u001b[0mdf\u001b[0m\u001b[1;33m[\u001b[0m\u001b[1;33m[\u001b[0m\u001b[1;34m'ciudades'\u001b[0m\u001b[1;33m,\u001b[0m\u001b[1;34m'habitantes'\u001b[0m\u001b[1;33m]\u001b[0m\u001b[1;33m]\u001b[0m\u001b[1;33m\u001b[0m\u001b[1;33m\u001b[0m\u001b[0m\n\u001b[0m",
      "\u001b[1;32mD:\\instalado\\anacondainstalado\\lib\\site-packages\\pandas\\core\\frame.py\u001b[0m in \u001b[0;36m__getitem__\u001b[1;34m(self, key)\u001b[0m\n\u001b[0;32m   3462\u001b[0m             \u001b[1;32mif\u001b[0m \u001b[0mis_iterator\u001b[0m\u001b[1;33m(\u001b[0m\u001b[0mkey\u001b[0m\u001b[1;33m)\u001b[0m\u001b[1;33m:\u001b[0m\u001b[1;33m\u001b[0m\u001b[1;33m\u001b[0m\u001b[0m\n\u001b[0;32m   3463\u001b[0m                 \u001b[0mkey\u001b[0m \u001b[1;33m=\u001b[0m \u001b[0mlist\u001b[0m\u001b[1;33m(\u001b[0m\u001b[0mkey\u001b[0m\u001b[1;33m)\u001b[0m\u001b[1;33m\u001b[0m\u001b[1;33m\u001b[0m\u001b[0m\n\u001b[1;32m-> 3464\u001b[1;33m             \u001b[0mindexer\u001b[0m \u001b[1;33m=\u001b[0m \u001b[0mself\u001b[0m\u001b[1;33m.\u001b[0m\u001b[0mloc\u001b[0m\u001b[1;33m.\u001b[0m\u001b[0m_get_listlike_indexer\u001b[0m\u001b[1;33m(\u001b[0m\u001b[0mkey\u001b[0m\u001b[1;33m,\u001b[0m \u001b[0maxis\u001b[0m\u001b[1;33m=\u001b[0m\u001b[1;36m1\u001b[0m\u001b[1;33m)\u001b[0m\u001b[1;33m[\u001b[0m\u001b[1;36m1\u001b[0m\u001b[1;33m]\u001b[0m\u001b[1;33m\u001b[0m\u001b[1;33m\u001b[0m\u001b[0m\n\u001b[0m\u001b[0;32m   3465\u001b[0m \u001b[1;33m\u001b[0m\u001b[0m\n\u001b[0;32m   3466\u001b[0m         \u001b[1;31m# take() does not accept boolean indexers\u001b[0m\u001b[1;33m\u001b[0m\u001b[1;33m\u001b[0m\u001b[1;33m\u001b[0m\u001b[0m\n",
      "\u001b[1;32mD:\\instalado\\anacondainstalado\\lib\\site-packages\\pandas\\core\\indexing.py\u001b[0m in \u001b[0;36m_get_listlike_indexer\u001b[1;34m(self, key, axis)\u001b[0m\n\u001b[0;32m   1312\u001b[0m             \u001b[0mkeyarr\u001b[0m\u001b[1;33m,\u001b[0m \u001b[0mindexer\u001b[0m\u001b[1;33m,\u001b[0m \u001b[0mnew_indexer\u001b[0m \u001b[1;33m=\u001b[0m \u001b[0max\u001b[0m\u001b[1;33m.\u001b[0m\u001b[0m_reindex_non_unique\u001b[0m\u001b[1;33m(\u001b[0m\u001b[0mkeyarr\u001b[0m\u001b[1;33m)\u001b[0m\u001b[1;33m\u001b[0m\u001b[1;33m\u001b[0m\u001b[0m\n\u001b[0;32m   1313\u001b[0m \u001b[1;33m\u001b[0m\u001b[0m\n\u001b[1;32m-> 1314\u001b[1;33m         \u001b[0mself\u001b[0m\u001b[1;33m.\u001b[0m\u001b[0m_validate_read_indexer\u001b[0m\u001b[1;33m(\u001b[0m\u001b[0mkeyarr\u001b[0m\u001b[1;33m,\u001b[0m \u001b[0mindexer\u001b[0m\u001b[1;33m,\u001b[0m \u001b[0maxis\u001b[0m\u001b[1;33m)\u001b[0m\u001b[1;33m\u001b[0m\u001b[1;33m\u001b[0m\u001b[0m\n\u001b[0m\u001b[0;32m   1315\u001b[0m \u001b[1;33m\u001b[0m\u001b[0m\n\u001b[0;32m   1316\u001b[0m         if needs_i8_conversion(ax.dtype) or isinstance(\n",
      "\u001b[1;32mD:\\instalado\\anacondainstalado\\lib\\site-packages\\pandas\\core\\indexing.py\u001b[0m in \u001b[0;36m_validate_read_indexer\u001b[1;34m(self, key, indexer, axis)\u001b[0m\n\u001b[0;32m   1375\u001b[0m \u001b[1;33m\u001b[0m\u001b[0m\n\u001b[0;32m   1376\u001b[0m             \u001b[0mnot_found\u001b[0m \u001b[1;33m=\u001b[0m \u001b[0mlist\u001b[0m\u001b[1;33m(\u001b[0m\u001b[0mensure_index\u001b[0m\u001b[1;33m(\u001b[0m\u001b[0mkey\u001b[0m\u001b[1;33m)\u001b[0m\u001b[1;33m[\u001b[0m\u001b[0mmissing_mask\u001b[0m\u001b[1;33m.\u001b[0m\u001b[0mnonzero\u001b[0m\u001b[1;33m(\u001b[0m\u001b[1;33m)\u001b[0m\u001b[1;33m[\u001b[0m\u001b[1;36m0\u001b[0m\u001b[1;33m]\u001b[0m\u001b[1;33m]\u001b[0m\u001b[1;33m.\u001b[0m\u001b[0munique\u001b[0m\u001b[1;33m(\u001b[0m\u001b[1;33m)\u001b[0m\u001b[1;33m)\u001b[0m\u001b[1;33m\u001b[0m\u001b[1;33m\u001b[0m\u001b[0m\n\u001b[1;32m-> 1377\u001b[1;33m             \u001b[1;32mraise\u001b[0m \u001b[0mKeyError\u001b[0m\u001b[1;33m(\u001b[0m\u001b[1;34mf\"{not_found} not in index\"\u001b[0m\u001b[1;33m)\u001b[0m\u001b[1;33m\u001b[0m\u001b[1;33m\u001b[0m\u001b[0m\n\u001b[0m\u001b[0;32m   1378\u001b[0m \u001b[1;33m\u001b[0m\u001b[0m\n\u001b[0;32m   1379\u001b[0m \u001b[1;33m\u001b[0m\u001b[0m\n",
      "\u001b[1;31mKeyError\u001b[0m: \"['ciudades'] not in index\""
     ]
    }
   ],
   "source": [
    "df[['ciudades','habitantes']]"
   ]
  },
  {
   "cell_type": "markdown",
   "metadata": {
    "id": "vnFAhH15ES3u"
   },
   "source": [
    "Se puede acceder a las columnas, a los índices y a los valores"
   ]
  },
  {
   "cell_type": "code",
   "execution_count": null,
   "metadata": {
    "id": "WmW28ly1ES3v"
   },
   "outputs": [],
   "source": [
    "df.columns"
   ]
  },
  {
   "cell_type": "code",
   "execution_count": null,
   "metadata": {
    "id": "XezILkblES3v"
   },
   "outputs": [],
   "source": [
    "df.index"
   ]
  },
  {
   "cell_type": "code",
   "execution_count": null,
   "metadata": {
    "id": "_V9TeGtdES3v"
   },
   "outputs": [],
   "source": [
    "df.values"
   ]
  },
  {
   "cell_type": "markdown",
   "metadata": {
    "id": "cTcrYZjyES3w"
   },
   "source": [
    "Sin embargo, no podemos acceder a la fila por posición directamente:"
   ]
  },
  {
   "cell_type": "code",
   "execution_count": null,
   "metadata": {
    "id": "SIfzNy5SES3w"
   },
   "outputs": [],
   "source": [
    "df[0]"
   ]
  },
  {
   "cell_type": "markdown",
   "metadata": {
    "id": "2A8dD58vCA_p"
   },
   "source": [
    "Sí podríamos usar df.values, que nos da todas las filas, aunque no es muy habitual"
   ]
  },
  {
   "cell_type": "code",
   "execution_count": null,
   "metadata": {
    "id": "uujod4DlCGs_"
   },
   "outputs": [],
   "source": [
    "df.values[0]"
   ]
  },
  {
   "cell_type": "markdown",
   "metadata": {
    "id": "UUrgFERLES3w"
   },
   "source": [
    "En lugar de eso, utilizaremos `iloc` que recibe un entero como parámetro para acceder a la fila"
   ]
  },
  {
   "cell_type": "code",
   "execution_count": null,
   "metadata": {
    "id": "wHpizAa4AqPB"
   },
   "outputs": [],
   "source": [
    "df.iloc[0]"
   ]
  },
  {
   "cell_type": "markdown",
   "metadata": {
    "id": "f7tdX3EW_p8O"
   },
   "source": [
    "**Ejercicio 1**\n",
    "\n",
    "Acceder a las 3 primeras filas. Pista: utilizar la misma notación que si fuera una lista"
   ]
  },
  {
   "cell_type": "code",
   "execution_count": null,
   "metadata": {
    "id": "FYOWoeMbE3so"
   },
   "outputs": [],
   "source": []
  },
  {
   "cell_type": "markdown",
   "metadata": {
    "id": "MWYe91-nEJww"
   },
   "source": [
    "Igualmente dentro de la fila  podemos acceder a la columna por posición"
   ]
  },
  {
   "cell_type": "code",
   "execution_count": null,
   "metadata": {
    "id": "2ThHVLO9ES3w"
   },
   "outputs": [],
   "source": [
    "df.iloc[0][0], df.iloc[0][1] "
   ]
  },
  {
   "cell_type": "markdown",
   "metadata": {
    "id": "rwWWy1vjEdC4"
   },
   "source": [
    "Otra forma de lograr lo mismo [fila,columna]"
   ]
  },
  {
   "cell_type": "code",
   "execution_count": null,
   "metadata": {
    "id": "6z9dJVmqEfu_"
   },
   "outputs": [],
   "source": [
    "df.iloc[0,0], df.iloc[0,1]  "
   ]
  },
  {
   "cell_type": "markdown",
   "metadata": {
    "id": "3W7sHLgGGh7Z"
   },
   "source": [
    "**Ejercicio 2** Seleccionar las filas de la 2 a la 4, ambas incluidas (comenzando en 0) y solo la primera columna (la número 0)"
   ]
  },
  {
   "cell_type": "code",
   "execution_count": null,
   "metadata": {
    "id": "fr8SlW4HGiMH"
   },
   "outputs": [],
   "source": [
    "# solución\n"
   ]
  },
  {
   "cell_type": "markdown",
   "metadata": {
    "id": "o8-hzbg4FMn3"
   },
   "source": [
    "**Acceso por índice.**\n",
    "\n",
    "A menudo el índice es la posición sin más, con lo que la función iloc nos sirve. Sin embargo esto no es siempre así"
   ]
  },
  {
   "cell_type": "code",
   "execution_count": null,
   "metadata": {
    "id": "plusDdp8ES3x"
   },
   "outputs": [],
   "source": [
    "datos = [['Madrid', 6507184], ['Barcelona', 5609350], \n",
    "         ['Valencia', 2547986], ['Sevilla', 1939887], \n",
    "         ['Alicante', 1838819], ['Málaga',1641121]  ]\n",
    "df = DataFrame(datos ,columns=['provincia','habitantes'],\n",
    "               index=['Capital','Capital Com. Autonoma','Capital Com. Autonoma','Capital Com. Autonoma','Provincia','Provincia'])\n",
    "df"
   ]
  },
  {
   "cell_type": "markdown",
   "metadata": {
    "id": "BuGbpkBIGObp"
   },
   "source": [
    "Vemos que iloc en este caso no vale"
   ]
  },
  {
   "cell_type": "code",
   "execution_count": null,
   "metadata": {
    "id": "2FzH_Rd_ES3x"
   },
   "outputs": [],
   "source": [
    "df.iloc['Capital']"
   ]
  },
  {
   "cell_type": "markdown",
   "metadata": {
    "id": "Xvc3u1TzES3x"
   },
   "source": [
    "Si se quiere acceder por el índice se puede usar `loc`"
   ]
  },
  {
   "cell_type": "code",
   "execution_count": null,
   "metadata": {
    "id": "9F10TDs-ES3x"
   },
   "outputs": [],
   "source": [
    "df.loc['Capital']"
   ]
  },
  {
   "cell_type": "code",
   "execution_count": null,
   "metadata": {
    "id": "CQ7P-ES2KQiA"
   },
   "outputs": [],
   "source": [
    "df.loc['Provincia']"
   ]
  },
  {
   "cell_type": "markdown",
   "metadata": {
    "id": "p5cLVBCwES3y"
   },
   "source": [
    "Si se quiere acceder por nombre de fila y columna podemos hacerlo seleccionando primero la fila:"
   ]
  },
  {
   "cell_type": "code",
   "execution_count": null,
   "metadata": {
    "id": "fHOMWx5VES3y"
   },
   "outputs": [],
   "source": [
    "df.loc['Provincia'][\"provincia\"]"
   ]
  },
  {
   "cell_type": "markdown",
   "metadata": {
    "id": "-tMfKBDQES3y"
   },
   "source": [
    "O utilizar `loc`con la notación habitual fila, columna"
   ]
  },
  {
   "cell_type": "code",
   "execution_count": null,
   "metadata": {
    "id": "U_B4fJVYES3y"
   },
   "outputs": [],
   "source": [
    "df.loc['Provincia','provincia']"
   ]
  },
  {
   "cell_type": "markdown",
   "metadata": {
    "id": "z1RxBLc1LWAf"
   },
   "source": [
    "<a name=\"Modificación\"></a>\n",
    "## Modificación, inserción y borrado de columnas y filas"
   ]
  },
  {
   "cell_type": "markdown",
   "metadata": {
    "id": "oXpjXA6BES30"
   },
   "source": [
    "**Ejercicio 3** ¿Qué hace el siguiente código?"
   ]
  },
  {
   "cell_type": "code",
   "execution_count": null,
   "metadata": {
    "id": "ApsLUGKCES30"
   },
   "outputs": [],
   "source": [
    "datos = [['Madrid', 6507184], ['Barcelona', 5609350], \n",
    "         ['Valencia', 2547986], ['Sevilla', 1939887], \n",
    "         ['Alicante', 1838819], ['Málaga',1641121]  ]\n",
    "df = DataFrame(datos ,columns=['provincias','habitantes'],\n",
    "               index=['a','b','c','d','e','f'])\n",
    "\n",
    "df.iloc[1] = 0\n",
    "df"
   ]
  },
  {
   "cell_type": "markdown",
   "metadata": {
    "id": "8BLODwyFES30"
   },
   "source": [
    "**Ejercicio 4** ¿Qué hace el siguiente código?"
   ]
  },
  {
   "cell_type": "code",
   "execution_count": null,
   "metadata": {
    "id": "oWySdvT1ES31"
   },
   "outputs": [],
   "source": [
    "df['superficie'] = 0\n",
    "df"
   ]
  },
  {
   "cell_type": "markdown",
   "metadata": {},
   "source": [
    "Por tanto para crear una columna nos basta con \"rellenarla\" del valor que se desee. Luego veremos casos más complejos."
   ]
  },
  {
   "cell_type": "markdown",
   "metadata": {
    "id": "JpdpfqjLES31"
   },
   "source": [
    "### Eliminar filas y columnas\n",
    "Una forma de eliminar columnas es seleccionar solo las que se quieren mantener. Primero preparamos los datos."
   ]
  },
  {
   "cell_type": "code",
   "execution_count": null,
   "metadata": {},
   "outputs": [],
   "source": [
    "datos = {'provincia' : ['Madrid', 'Barcelona', 'Valencia', 'Sevilla', \n",
    "         'Alicante', 'Málaga'],\n",
    "         'habitantes' : [6507184, 5609350,  2547986,  1939887, \n",
    "          1838819, 1641121 ]}\n",
    "df = DataFrame(datos)\n",
    "df[\"superficie\"] = 0\n",
    "df             "
   ]
  },
  {
   "cell_type": "code",
   "execution_count": null,
   "metadata": {
    "id": "AjuiSgS9ES31"
   },
   "outputs": [],
   "source": [
    "df2 = df.loc[ : , ['superficie'] ]  # todas las filas, columna solo superficie\n",
    "df2"
   ]
  },
  {
   "cell_type": "markdown",
   "metadata": {},
   "source": [
    "Equivalente a "
   ]
  },
  {
   "cell_type": "code",
   "execution_count": null,
   "metadata": {},
   "outputs": [],
   "source": [
    "df2 = df[[\"superficie\"]]\n",
    "df2"
   ]
  },
  {
   "cell_type": "markdown",
   "metadata": {},
   "source": [
    "**Pregunta** ¿También es equivalente a `df[\"superficie\"]`?"
   ]
  },
  {
   "cell_type": "markdown",
   "metadata": {
    "id": "CBzXC1oQMJxB"
   },
   "source": [
    "Varias columnas"
   ]
  },
  {
   "cell_type": "code",
   "execution_count": null,
   "metadata": {
    "id": "3WtPw-W4MLgP"
   },
   "outputs": [],
   "source": [
    "df2 = df[['provincia', 'superficie'] ]\n",
    "df2"
   ]
  },
  {
   "cell_type": "markdown",
   "metadata": {},
   "source": [
    "En general para borrar filas o columnas por nombre usaremos [drop](https://pandas.pydata.org/docs/reference/api/pandas.DataFrame.drop.html). El parámetro `axis`indica si queremos borrar filas (0) o columnas (1)"
   ]
  },
  {
   "cell_type": "code",
   "execution_count": null,
   "metadata": {},
   "outputs": [],
   "source": [
    "datos = {'provincia' : ['Madrid', 'Barcelona', 'Valencia', 'Sevilla', \n",
    "         'Alicante', 'Málaga'],\n",
    "         'habitantes' : [6507184, 5609350,  2547986,  1939887, \n",
    "          1838819, 1641121 ]}\n",
    "df = DataFrame(datos)\n",
    "df[\"superficie\"] = 0\n",
    "df"
   ]
  },
  {
   "cell_type": "code",
   "execution_count": null,
   "metadata": {},
   "outputs": [],
   "source": [
    "dfSinFila = df.drop([3,5],axis=0)\n",
    "dfSinFila"
   ]
  },
  {
   "cell_type": "code",
   "execution_count": null,
   "metadata": {},
   "outputs": [],
   "source": [
    "dfSinCol = df.drop(['superficie'],axis=1)\n",
    "dfSinCol"
   ]
  },
  {
   "cell_type": "markdown",
   "metadata": {},
   "source": [
    "Si queremos podemos eviar el uso de axis utilizando los parámetros `index` y `columns`"
   ]
  },
  {
   "cell_type": "code",
   "execution_count": null,
   "metadata": {},
   "outputs": [],
   "source": [
    "datos = {'provincia' : ['Madrid', 'Barcelona', 'Valencia', 'Sevilla', \n",
    "         'Alicante', 'Málaga'],\n",
    "         'habitantes' : [6507184, 5609350,  2547986,  1939887, \n",
    "          1838819, 1641121 ]}\n",
    "df = DataFrame(datos)\n",
    "df[\"superficie\"] = 0\n",
    "df"
   ]
  },
  {
   "cell_type": "code",
   "execution_count": null,
   "metadata": {},
   "outputs": [],
   "source": [
    "df.drop(index=[1,3])"
   ]
  },
  {
   "cell_type": "code",
   "execution_count": null,
   "metadata": {},
   "outputs": [],
   "source": [
    "df.drop(columns=['provincia'])"
   ]
  },
  {
   "cell_type": "markdown",
   "metadata": {
    "id": "0Go4vqGwES31"
   },
   "source": [
    "Las columnas también se puede eliminar con `del` como en los diccionarios"
   ]
  },
  {
   "cell_type": "code",
   "execution_count": null,
   "metadata": {
    "id": "T5ix-yJWES31"
   },
   "outputs": [],
   "source": [
    "if 'superficie' in df2:\n",
    "    del df2['superficie'] \n",
    "df2"
   ]
  },
  {
   "cell_type": "markdown",
   "metadata": {},
   "source": [
    "Una variante interesante es `pop`, que borra una fila y la devuelve"
   ]
  },
  {
   "cell_type": "code",
   "execution_count": 77,
   "metadata": {},
   "outputs": [
    {
     "data": {
      "text/html": [
       "<div>\n",
       "<style scoped>\n",
       "    .dataframe tbody tr th:only-of-type {\n",
       "        vertical-align: middle;\n",
       "    }\n",
       "\n",
       "    .dataframe tbody tr th {\n",
       "        vertical-align: top;\n",
       "    }\n",
       "\n",
       "    .dataframe thead th {\n",
       "        text-align: right;\n",
       "    }\n",
       "</style>\n",
       "<table border=\"1\" class=\"dataframe\">\n",
       "  <thead>\n",
       "    <tr style=\"text-align: right;\">\n",
       "      <th></th>\n",
       "      <th>provincia</th>\n",
       "    </tr>\n",
       "  </thead>\n",
       "  <tbody>\n",
       "    <tr>\n",
       "      <th>0</th>\n",
       "      <td>Madrid</td>\n",
       "    </tr>\n",
       "    <tr>\n",
       "      <th>1</th>\n",
       "      <td>Barcelona</td>\n",
       "    </tr>\n",
       "    <tr>\n",
       "      <th>2</th>\n",
       "      <td>Valencia</td>\n",
       "    </tr>\n",
       "    <tr>\n",
       "      <th>3</th>\n",
       "      <td>Sevilla</td>\n",
       "    </tr>\n",
       "    <tr>\n",
       "      <th>4</th>\n",
       "      <td>Alicante</td>\n",
       "    </tr>\n",
       "    <tr>\n",
       "      <th>5</th>\n",
       "      <td>Málaga</td>\n",
       "    </tr>\n",
       "  </tbody>\n",
       "</table>\n",
       "</div>"
      ],
      "text/plain": [
       "   provincia\n",
       "0     Madrid\n",
       "1  Barcelona\n",
       "2   Valencia\n",
       "3    Sevilla\n",
       "4   Alicante\n",
       "5     Málaga"
      ]
     },
     "execution_count": 77,
     "metadata": {},
     "output_type": "execute_result"
    }
   ],
   "source": [
    "df2 = df.copy()\n",
    "habi = df2.pop(\"habitantes\")\n",
    "df2"
   ]
  },
  {
   "cell_type": "code",
   "execution_count": 78,
   "metadata": {},
   "outputs": [
    {
     "data": {
      "text/plain": [
       "0    6507184\n",
       "1    5609350\n",
       "2    2547986\n",
       "3    1939887\n",
       "4    1838819\n",
       "5    1641121\n",
       "Name: habitantes, dtype: int64"
      ]
     },
     "execution_count": 78,
     "metadata": {},
     "output_type": "execute_result"
    }
   ],
   "source": [
    "habi"
   ]
  },
  {
   "cell_type": "code",
   "execution_count": 79,
   "metadata": {},
   "outputs": [
    {
     "data": {
      "text/html": [
       "<div>\n",
       "<style scoped>\n",
       "    .dataframe tbody tr th:only-of-type {\n",
       "        vertical-align: middle;\n",
       "    }\n",
       "\n",
       "    .dataframe tbody tr th {\n",
       "        vertical-align: top;\n",
       "    }\n",
       "\n",
       "    .dataframe thead th {\n",
       "        text-align: right;\n",
       "    }\n",
       "</style>\n",
       "<table border=\"1\" class=\"dataframe\">\n",
       "  <thead>\n",
       "    <tr style=\"text-align: right;\">\n",
       "      <th></th>\n",
       "      <th>provincia</th>\n",
       "      <th>habitantes</th>\n",
       "    </tr>\n",
       "  </thead>\n",
       "  <tbody>\n",
       "    <tr>\n",
       "      <th>0</th>\n",
       "      <td>Madrid</td>\n",
       "      <td>6507184</td>\n",
       "    </tr>\n",
       "    <tr>\n",
       "      <th>1</th>\n",
       "      <td>Barcelona</td>\n",
       "      <td>5609350</td>\n",
       "    </tr>\n",
       "    <tr>\n",
       "      <th>2</th>\n",
       "      <td>Valencia</td>\n",
       "      <td>2547986</td>\n",
       "    </tr>\n",
       "    <tr>\n",
       "      <th>3</th>\n",
       "      <td>Sevilla</td>\n",
       "      <td>1939887</td>\n",
       "    </tr>\n",
       "    <tr>\n",
       "      <th>4</th>\n",
       "      <td>Alicante</td>\n",
       "      <td>1838819</td>\n",
       "    </tr>\n",
       "    <tr>\n",
       "      <th>5</th>\n",
       "      <td>Málaga</td>\n",
       "      <td>1641121</td>\n",
       "    </tr>\n",
       "  </tbody>\n",
       "</table>\n",
       "</div>"
      ],
      "text/plain": [
       "   provincia  habitantes\n",
       "0     Madrid     6507184\n",
       "1  Barcelona     5609350\n",
       "2   Valencia     2547986\n",
       "3    Sevilla     1939887\n",
       "4   Alicante     1838819\n",
       "5     Málaga     1641121"
      ]
     },
     "execution_count": 79,
     "metadata": {},
     "output_type": "execute_result"
    }
   ],
   "source": [
    "df"
   ]
  },
  {
   "cell_type": "markdown",
   "metadata": {
    "id": "7BOnGEpvN57o"
   },
   "source": [
    "### Filtros\n",
    "\n",
    "Para *filtrar* filas lo normal es escribir una expresión booleana que solo cumplan las filas que queremos y acceder mediante este filtro"
   ]
  },
  {
   "cell_type": "code",
   "execution_count": null,
   "metadata": {
    "id": "WLKPYyQJPy14"
   },
   "outputs": [],
   "source": [
    "datos = [['Madrid', 6507184], ['Barcelona', 5609350], \n",
    "         ['Valencia', 2547986], ['Sevilla', 1939887], \n",
    "         ['Alicante', 1838819], ['Málaga',1694089]  ]\n",
    "df = DataFrame(datos ,columns=['ciudades','habitantes'],\n",
    "               index=['Capital','Capital Com. Autonoma','Capital Com. Autonoma','Ciudad','Ciudad','Ciudad'])\n",
    "\n",
    "df"
   ]
  },
  {
   "cell_type": "markdown",
   "metadata": {
    "id": "de7u9rYQO5uv"
   },
   "source": [
    "Ciudades con más de 200000 habitantes"
   ]
  },
  {
   "cell_type": "code",
   "execution_count": null,
   "metadata": {
    "id": "dPFIAY1cPA-f"
   },
   "outputs": [],
   "source": [
    "filtro = df.habitantes > 2000000\n",
    "df2 = df[filtro]\n",
    "df2"
   ]
  },
  {
   "cell_type": "markdown",
   "metadata": {
    "id": "WryDmJu9PRej"
   },
   "source": [
    "Esto es importante pero bastante complejo. Para entenderlo veamos primero el filtro"
   ]
  },
  {
   "cell_type": "code",
   "execution_count": null,
   "metadata": {
    "id": "nzOBHIbXPmAX"
   },
   "outputs": [],
   "source": [
    "filtro"
   ]
  },
  {
   "cell_type": "markdown",
   "metadata": {
    "id": "GZDo2jsWPp9m"
   },
   "source": [
    "Aquí el índice no es importante, lo importante es que hay un True en cada fila que cumple la condición y un false en la que no.\n",
    "\n",
    "Y Python permite usar una secuencia de Trues y False para acceder a elementos, devolviendo solo en los que hay Trues; por eso df[filtro] es equivalente a "
   ]
  },
  {
   "cell_type": "code",
   "execution_count": null,
   "metadata": {
    "id": "HVbyWYfVP7Eu"
   },
   "outputs": [],
   "source": [
    "df[[True,True,True,False,False,False]]"
   ]
  },
  {
   "cell_type": "markdown",
   "metadata": {
    "id": "qU1U3heOQaBk"
   },
   "source": [
    "**Ejemplo** La función de strings `startswith` indica si un string empieza por una letra"
   ]
  },
  {
   "cell_type": "code",
   "execution_count": null,
   "metadata": {
    "id": "otpfX1xLQjol"
   },
   "outputs": [],
   "source": [
    "s = \"Barcerlona\"\n",
    "print(s.startswith(\"B\"))\n",
    "print(s.startswith(\"V\"))"
   ]
  },
  {
   "cell_type": "markdown",
   "metadata": {
    "id": "zTPNa9hEQuVh"
   },
   "source": [
    "vamos a usarla para quedarnos solo con las ciudades que empiezan por M"
   ]
  },
  {
   "cell_type": "code",
   "execution_count": null,
   "metadata": {
    "id": "LQ0s3eZMO_Ln"
   },
   "outputs": [],
   "source": [
    "filtro = df.ciudades.str.startswith(\"M\")  # ciudades cuyo nombre empieza por M\n",
    "\n",
    "df2 = df[filtro]\n",
    "df2"
   ]
  },
  {
   "cell_type": "code",
   "execution_count": null,
   "metadata": {
    "id": "_xnm6GH_6M4M"
   },
   "outputs": [],
   "source": [
    "filtro"
   ]
  },
  {
   "cell_type": "markdown",
   "metadata": {
    "id": "oFexrnxL6FQV"
   },
   "source": [
    "**Detalle**: Fijarse en el df.ciudades**.str**.startswith(\"M\"). Es necesario porque al ser startswith una función que solo vale para strings tenemos que \"avisar\" a Python de que la función es de tipo string, cuando por defecto las considera numéricas.\n",
    "\n",
    "Si lo que queremos es saber cuántos elementos cumplen el filtro, nos basta con recordar que los Trues se corresponden con 1s, y los Falses con 0s."
   ]
  },
  {
   "cell_type": "code",
   "execution_count": null,
   "metadata": {
    "id": "havcbeiH6UST"
   },
   "outputs": [],
   "source": [
    "sum(filtro)"
   ]
  },
  {
   "cell_type": "markdown",
   "metadata": {
    "id": "wDzbQZgCSnuR"
   },
   "source": [
    "**Ejercicio 4**\n",
    "\n",
    "a) Cargar el fichero \"https://raw.githubusercontent.com/RafaelCaballero/tdm/master/datos/parocomunidades.csv\" que está con codificación (`encoding`) \"latin1\" y dejarlo en un dataframe `df_paro`\n",
    "\n",
    "\n",
    " "
   ]
  },
  {
   "cell_type": "code",
   "execution_count": null,
   "metadata": {
    "id": "blH6MPMhWSVZ"
   },
   "outputs": [],
   "source": [
    "import pandas as pd\n",
    "url = \"https://raw.githubusercontent.com/RafaelCaballero/tdm/master/datos/parocomunidades.csv\"\n"
   ]
  },
  {
   "cell_type": "markdown",
   "metadata": {
    "id": "pUo_UonaSrZ4"
   },
   "source": [
    "b) Mostrar solo las filas de `df_paro` que corresponden al Periodo 2019"
   ]
  },
  {
   "cell_type": "code",
   "execution_count": null,
   "metadata": {
    "id": "yVnoRtAfTbwU"
   },
   "outputs": [],
   "source": []
  },
  {
   "cell_type": "markdown",
   "metadata": {
    "id": "zMPcr-UlT70e"
   },
   "source": [
    "c) Mostrar solo las filas de `df_paro` que corresponden a un total mayor de 15"
   ]
  },
  {
   "cell_type": "code",
   "execution_count": null,
   "metadata": {
    "id": "v6su4JVMT_DG"
   },
   "outputs": [],
   "source": [
    "filtro = df_paro[\"Total\"]>15\n",
    "df_paro[filtro]"
   ]
  },
  {
   "cell_type": "markdown",
   "metadata": {
    "id": "x2YQIP2XUYps"
   },
   "source": [
    "d) (más difícil) Mostrar solo las filas que corresponden al Periodo 2019 y tienen Total mayor de 15"
   ]
  },
  {
   "cell_type": "code",
   "execution_count": null,
   "metadata": {
    "id": "NGgr20UlUVzm"
   },
   "outputs": [],
   "source": [
    "\n"
   ]
  },
  {
   "cell_type": "markdown",
   "metadata": {
    "id": "5AsbShKoVD4G"
   },
   "source": [
    "**Nota** Para combinar varias condiciones en un filtro se utilizan los operadores de bit: `&` en lugar de `and`, `|` en lugar de `or` y `~` en lugar de not."
   ]
  },
  {
   "cell_type": "markdown",
   "metadata": {
    "id": "6IcVjXC5VWvG"
   },
   "source": [
    "**Ejemplo** \n",
    "\n",
    "Queremos todos los datos de `df_paro` salvo los de Andalucía"
   ]
  },
  {
   "cell_type": "code",
   "execution_count": null,
   "metadata": {
    "id": "DZxByKcOVh3S"
   },
   "outputs": [],
   "source": [
    "# método 1\n",
    "filtro = df_paro[\"Comunidad\"]!=\"Andalucía\"\n",
    "df_paro[filtro]"
   ]
  },
  {
   "cell_type": "code",
   "execution_count": null,
   "metadata": {
    "id": "LLAzIj-RVsMR"
   },
   "outputs": [],
   "source": [
    "# método 2, más raro \n",
    "filtro = df_paro[\"Comunidad\"]==\"Andalucía\"\n",
    "df_paro[~filtro]"
   ]
  },
  {
   "cell_type": "markdown",
   "metadata": {
    "id": "zpqYtd--ES32"
   },
   "source": [
    "**Ejercicio 5** Consideramos este DataFrame"
   ]
  },
  {
   "cell_type": "code",
   "execution_count": null,
   "metadata": {
    "id": "huFZrkYaES32"
   },
   "outputs": [],
   "source": [
    "\n",
    "data = [[1,2,3,4,5,6,7],\n",
    "        [1,2,0,0,0,6,7],\n",
    "        [1,2,0,0,0,6,7],\n",
    "        [1,2,0,0,0,6,7],\n",
    "        [1,2,3,4,5,6,7],\n",
    "       ]\n",
    "df = DataFrame(data)\n",
    "df"
   ]
  },
  {
   "cell_type": "markdown",
   "metadata": {
    "id": "Le7rxBF2ES32"
   },
   "source": [
    "Encontrar una expresión de cambiar todos los 0s por 9s (hay varias formas, alguna utilizando posiciones y alguna otra sin posiciones)"
   ]
  },
  {
   "cell_type": "code",
   "execution_count": null,
   "metadata": {
    "id": "rwzf_fijES32"
   },
   "outputs": [],
   "source": []
  },
  {
   "cell_type": "code",
   "execution_count": null,
   "metadata": {
    "id": "icpk5jJnES32"
   },
   "outputs": [],
   "source": []
  },
  {
   "cell_type": "markdown",
   "metadata": {
    "id": "I42_FCGts29k"
   },
   "source": [
    "### Añadir filas\n",
    "\n",
    "Veamos como [añadir filas](https://www.stackvidhya.com/add-row-to-dataframe/#:~:text=You%20can%20add%20rows%20to,append()) a un dataframe ya existente con append"
   ]
  },
  {
   "cell_type": "code",
   "execution_count": null,
   "metadata": {
    "id": "AIFlVtkZES32"
   },
   "outputs": [],
   "source": [
    "datos = [['Madrid', 6507184], ['Barcelona', 5609350], \n",
    "         ['Valencia', 2547986], ['Sevilla', 1939887], \n",
    "         ['Alicante', 1838819], ['Málaga',1694089]  ]\n",
    "df = DataFrame(datos ,columns=['ciudades','habitantes'])\n",
    "df"
   ]
  },
  {
   "cell_type": "code",
   "execution_count": null,
   "metadata": {
    "id": "fvnraLRlt-Uj"
   },
   "outputs": [],
   "source": [
    "df = df.append( {'ciudades':'Cáceres', 'habitantes': 394151 }, ignore_index = True)\n",
    "df"
   ]
  },
  {
   "cell_type": "markdown",
   "metadata": {
    "id": "4sLJG_WiweR8"
   },
   "source": [
    "Ahora añadimos una columna con la superficie"
   ]
  },
  {
   "cell_type": "code",
   "execution_count": null,
   "metadata": {
    "id": "f7V87HQDwh2C"
   },
   "outputs": [],
   "source": [
    "df[\"superficie\"] = [8027, 7773, 10807,14036,5817,7306, 19868]\n",
    "df"
   ]
  },
  {
   "cell_type": "markdown",
   "metadata": {
    "id": "QhMxqPnKxxbC"
   },
   "source": [
    "Y obtenemos la densidad:"
   ]
  },
  {
   "cell_type": "code",
   "execution_count": null,
   "metadata": {
    "id": "UYG5b0D_x3VU"
   },
   "outputs": [],
   "source": [
    "df[\"densidad\"] = df[\"habitantes\"]/df[\"superficie\"]\n",
    "df"
   ]
  },
  {
   "cell_type": "markdown",
   "metadata": {
    "id": "LHIh_7pUyCrp"
   },
   "source": [
    "Finalmente, ordenamos por nombre de ciudad con `sort_values`. Nótese el uso de `inplace=True` para que modifique el dataframe y no devuelva una copia"
   ]
  },
  {
   "cell_type": "markdown",
   "metadata": {},
   "source": [
    "### Ordenar"
   ]
  },
  {
   "cell_type": "markdown",
   "metadata": {},
   "source": [
    "Para ordenar utilizaremos `sort_values`"
   ]
  },
  {
   "cell_type": "code",
   "execution_count": 82,
   "metadata": {
    "id": "iAHhpqVg2nuc"
   },
   "outputs": [
    {
     "data": {
      "text/html": [
       "<div>\n",
       "<style scoped>\n",
       "    .dataframe tbody tr th:only-of-type {\n",
       "        vertical-align: middle;\n",
       "    }\n",
       "\n",
       "    .dataframe tbody tr th {\n",
       "        vertical-align: top;\n",
       "    }\n",
       "\n",
       "    .dataframe thead th {\n",
       "        text-align: right;\n",
       "    }\n",
       "</style>\n",
       "<table border=\"1\" class=\"dataframe\">\n",
       "  <thead>\n",
       "    <tr style=\"text-align: right;\">\n",
       "      <th></th>\n",
       "      <th>provincia</th>\n",
       "      <th>habitantes</th>\n",
       "    </tr>\n",
       "  </thead>\n",
       "  <tbody>\n",
       "    <tr>\n",
       "      <th>4</th>\n",
       "      <td>Alicante</td>\n",
       "      <td>1838819</td>\n",
       "    </tr>\n",
       "    <tr>\n",
       "      <th>1</th>\n",
       "      <td>Barcelona</td>\n",
       "      <td>5609350</td>\n",
       "    </tr>\n",
       "    <tr>\n",
       "      <th>0</th>\n",
       "      <td>Madrid</td>\n",
       "      <td>6507184</td>\n",
       "    </tr>\n",
       "    <tr>\n",
       "      <th>5</th>\n",
       "      <td>Málaga</td>\n",
       "      <td>1694089</td>\n",
       "    </tr>\n",
       "    <tr>\n",
       "      <th>3</th>\n",
       "      <td>Sevilla</td>\n",
       "      <td>1939887</td>\n",
       "    </tr>\n",
       "    <tr>\n",
       "      <th>2</th>\n",
       "      <td>Valencia</td>\n",
       "      <td>2547986</td>\n",
       "    </tr>\n",
       "  </tbody>\n",
       "</table>\n",
       "</div>"
      ],
      "text/plain": [
       "   provincia  habitantes\n",
       "4   Alicante     1838819\n",
       "1  Barcelona     5609350\n",
       "0     Madrid     6507184\n",
       "5     Málaga     1694089\n",
       "3    Sevilla     1939887\n",
       "2   Valencia     2547986"
      ]
     },
     "execution_count": 82,
     "metadata": {},
     "output_type": "execute_result"
    }
   ],
   "source": [
    "datos = [['Madrid', 6507184], ['Barcelona', 5609350], \n",
    "         ['Valencia', 2547986], ['Sevilla', 1939887], \n",
    "         ['Alicante', 1838819], ['Málaga',1694089]  ]\n",
    "df = DataFrame(datos ,columns=['provincia','habitantes'])\n",
    "df\n",
    "df.sort_values(by='provincia', ascending=True, inplace=True)\n",
    "df"
   ]
  },
  {
   "cell_type": "markdown",
   "metadata": {},
   "source": [
    "Ordenar por dos columnas"
   ]
  },
  {
   "cell_type": "code",
   "execution_count": 83,
   "metadata": {},
   "outputs": [
    {
     "data": {
      "text/html": [
       "<div>\n",
       "<style scoped>\n",
       "    .dataframe tbody tr th:only-of-type {\n",
       "        vertical-align: middle;\n",
       "    }\n",
       "\n",
       "    .dataframe tbody tr th {\n",
       "        vertical-align: top;\n",
       "    }\n",
       "\n",
       "    .dataframe thead th {\n",
       "        text-align: right;\n",
       "    }\n",
       "</style>\n",
       "<table border=\"1\" class=\"dataframe\">\n",
       "  <thead>\n",
       "    <tr style=\"text-align: right;\">\n",
       "      <th></th>\n",
       "      <th>nombre</th>\n",
       "      <th>apellido</th>\n",
       "    </tr>\n",
       "  </thead>\n",
       "  <tbody>\n",
       "    <tr>\n",
       "      <th>3</th>\n",
       "      <td>Calixta</td>\n",
       "      <td>Albrich</td>\n",
       "    </tr>\n",
       "    <tr>\n",
       "      <th>0</th>\n",
       "      <td>Bertoldo</td>\n",
       "      <td>Cacaseno</td>\n",
       "    </tr>\n",
       "    <tr>\n",
       "      <th>1</th>\n",
       "      <td>Aniceto</td>\n",
       "      <td>Cacaseno</td>\n",
       "    </tr>\n",
       "    <tr>\n",
       "      <th>2</th>\n",
       "      <td>Herminia</td>\n",
       "      <td>Ducasse</td>\n",
       "    </tr>\n",
       "  </tbody>\n",
       "</table>\n",
       "</div>"
      ],
      "text/plain": [
       "     nombre  apellido\n",
       "3   Calixta   Albrich\n",
       "0  Bertoldo  Cacaseno\n",
       "1   Aniceto  Cacaseno\n",
       "2  Herminia   Ducasse"
      ]
     },
     "execution_count": 83,
     "metadata": {},
     "output_type": "execute_result"
    }
   ],
   "source": [
    "datos = [['Bertoldo', 'Cacaseno'], ['Aniceto', 'Cacaseno'], \n",
    "         ['Herminia', 'Ducasse'], ['Calixta', 'Albrich'] ]\n",
    "df = DataFrame(datos ,columns=['nombre','apellido'])\n",
    "df.sort_values(by='apellido',ascending=True)"
   ]
  },
  {
   "cell_type": "code",
   "execution_count": 84,
   "metadata": {},
   "outputs": [
    {
     "data": {
      "text/html": [
       "<div>\n",
       "<style scoped>\n",
       "    .dataframe tbody tr th:only-of-type {\n",
       "        vertical-align: middle;\n",
       "    }\n",
       "\n",
       "    .dataframe tbody tr th {\n",
       "        vertical-align: top;\n",
       "    }\n",
       "\n",
       "    .dataframe thead th {\n",
       "        text-align: right;\n",
       "    }\n",
       "</style>\n",
       "<table border=\"1\" class=\"dataframe\">\n",
       "  <thead>\n",
       "    <tr style=\"text-align: right;\">\n",
       "      <th></th>\n",
       "      <th>nombre</th>\n",
       "      <th>apellido</th>\n",
       "    </tr>\n",
       "  </thead>\n",
       "  <tbody>\n",
       "    <tr>\n",
       "      <th>3</th>\n",
       "      <td>Calixta</td>\n",
       "      <td>Albrich</td>\n",
       "    </tr>\n",
       "    <tr>\n",
       "      <th>1</th>\n",
       "      <td>Aniceto</td>\n",
       "      <td>Cacaseno</td>\n",
       "    </tr>\n",
       "    <tr>\n",
       "      <th>0</th>\n",
       "      <td>Bertoldo</td>\n",
       "      <td>Cacaseno</td>\n",
       "    </tr>\n",
       "    <tr>\n",
       "      <th>2</th>\n",
       "      <td>Herminia</td>\n",
       "      <td>Ducasse</td>\n",
       "    </tr>\n",
       "  </tbody>\n",
       "</table>\n",
       "</div>"
      ],
      "text/plain": [
       "     nombre  apellido\n",
       "3   Calixta   Albrich\n",
       "1   Aniceto  Cacaseno\n",
       "0  Bertoldo  Cacaseno\n",
       "2  Herminia   Ducasse"
      ]
     },
     "execution_count": 84,
     "metadata": {},
     "output_type": "execute_result"
    }
   ],
   "source": [
    "df.sort_values(by=['apellido','nombre'],ascending=True)"
   ]
  },
  {
   "cell_type": "markdown",
   "metadata": {},
   "source": [
    "<a name=\"Samples\"></a>\n",
    "## Muestras\n",
    "\n",
    "En ocasiones nos interesará tomar muestras de un dataset muy grande para tener unos pocos datos manejables y representativos\n",
    "\n",
    "Las muestras también se utilizarán en nuestros experimentos con datos, dividiendo el conjunto en dos:\n",
    "\n",
    "- Entrenamiento\n",
    "\n",
    "- Test\n",
    "\n",
    "El conjunto de entrenamiento lo usaremos para nuestras hipótesis, nuestros modelos. Una vez realizado el modelo lo probaremos con datos \"nuevos\" los datos de test\n",
    "\n",
    "En ambos casos utilizaremos [sample](https://pandas.pydata.org/docs/reference/api/pandas.DataFrame.sample.html) al que se puede pasar la proporción de datos a obtener o el número de valores a obtener\n",
    "\n"
   ]
  },
  {
   "cell_type": "code",
   "execution_count": 86,
   "metadata": {},
   "outputs": [
    {
     "data": {
      "text/html": [
       "<div>\n",
       "<style scoped>\n",
       "    .dataframe tbody tr th:only-of-type {\n",
       "        vertical-align: middle;\n",
       "    }\n",
       "\n",
       "    .dataframe tbody tr th {\n",
       "        vertical-align: top;\n",
       "    }\n",
       "\n",
       "    .dataframe thead th {\n",
       "        text-align: right;\n",
       "    }\n",
       "</style>\n",
       "<table border=\"1\" class=\"dataframe\">\n",
       "  <thead>\n",
       "    <tr style=\"text-align: right;\">\n",
       "      <th></th>\n",
       "      <th>year</th>\n",
       "      <th>month</th>\n",
       "      <th>day</th>\n",
       "      <th>hour</th>\n",
       "      <th>minute</th>\n",
       "      <th>second</th>\n",
       "      <th>laborday</th>\n",
       "      <th>saturday</th>\n",
       "      <th>sunday</th>\n",
       "      <th>holiday</th>\n",
       "      <th>...</th>\n",
       "      <th>PM25</th>\n",
       "      <th>NOx</th>\n",
       "      <th>O3</th>\n",
       "      <th>windspeed</th>\n",
       "      <th>winddirection</th>\n",
       "      <th>temperature</th>\n",
       "      <th>humidity</th>\n",
       "      <th>pressure</th>\n",
       "      <th>rain</th>\n",
       "      <th>traffic</th>\n",
       "    </tr>\n",
       "  </thead>\n",
       "  <tbody>\n",
       "    <tr>\n",
       "      <th>0</th>\n",
       "      <td>2019</td>\n",
       "      <td>8</td>\n",
       "      <td>1</td>\n",
       "      <td>0</td>\n",
       "      <td>0</td>\n",
       "      <td>0</td>\n",
       "      <td>0</td>\n",
       "      <td>1</td>\n",
       "      <td>0</td>\n",
       "      <td>0</td>\n",
       "      <td>...</td>\n",
       "      <td>10.0</td>\n",
       "      <td>29.0</td>\n",
       "      <td>58.87</td>\n",
       "      <td>1.84</td>\n",
       "      <td>97.0</td>\n",
       "      <td>26.1</td>\n",
       "      <td>52.0</td>\n",
       "      <td>943.0</td>\n",
       "      <td>0.0</td>\n",
       "      <td>570.0</td>\n",
       "    </tr>\n",
       "    <tr>\n",
       "      <th>1</th>\n",
       "      <td>2019</td>\n",
       "      <td>8</td>\n",
       "      <td>1</td>\n",
       "      <td>1</td>\n",
       "      <td>0</td>\n",
       "      <td>0</td>\n",
       "      <td>0</td>\n",
       "      <td>1</td>\n",
       "      <td>0</td>\n",
       "      <td>0</td>\n",
       "      <td>...</td>\n",
       "      <td>10.0</td>\n",
       "      <td>18.0</td>\n",
       "      <td>63.73</td>\n",
       "      <td>1.97</td>\n",
       "      <td>117.0</td>\n",
       "      <td>24.9</td>\n",
       "      <td>55.0</td>\n",
       "      <td>943.0</td>\n",
       "      <td>0.0</td>\n",
       "      <td>404.0</td>\n",
       "    </tr>\n",
       "    <tr>\n",
       "      <th>2</th>\n",
       "      <td>2019</td>\n",
       "      <td>8</td>\n",
       "      <td>1</td>\n",
       "      <td>2</td>\n",
       "      <td>0</td>\n",
       "      <td>0</td>\n",
       "      <td>0</td>\n",
       "      <td>1</td>\n",
       "      <td>0</td>\n",
       "      <td>0</td>\n",
       "      <td>...</td>\n",
       "      <td>9.0</td>\n",
       "      <td>19.0</td>\n",
       "      <td>66.50</td>\n",
       "      <td>1.72</td>\n",
       "      <td>96.0</td>\n",
       "      <td>24.0</td>\n",
       "      <td>55.0</td>\n",
       "      <td>943.0</td>\n",
       "      <td>0.0</td>\n",
       "      <td>287.0</td>\n",
       "    </tr>\n",
       "    <tr>\n",
       "      <th>3</th>\n",
       "      <td>2019</td>\n",
       "      <td>8</td>\n",
       "      <td>1</td>\n",
       "      <td>3</td>\n",
       "      <td>0</td>\n",
       "      <td>0</td>\n",
       "      <td>0</td>\n",
       "      <td>1</td>\n",
       "      <td>0</td>\n",
       "      <td>0</td>\n",
       "      <td>...</td>\n",
       "      <td>10.0</td>\n",
       "      <td>15.0</td>\n",
       "      <td>66.62</td>\n",
       "      <td>1.55</td>\n",
       "      <td>106.0</td>\n",
       "      <td>23.3</td>\n",
       "      <td>55.0</td>\n",
       "      <td>943.0</td>\n",
       "      <td>0.0</td>\n",
       "      <td>209.0</td>\n",
       "    </tr>\n",
       "    <tr>\n",
       "      <th>4</th>\n",
       "      <td>2019</td>\n",
       "      <td>8</td>\n",
       "      <td>1</td>\n",
       "      <td>4</td>\n",
       "      <td>0</td>\n",
       "      <td>0</td>\n",
       "      <td>0</td>\n",
       "      <td>1</td>\n",
       "      <td>0</td>\n",
       "      <td>0</td>\n",
       "      <td>...</td>\n",
       "      <td>10.0</td>\n",
       "      <td>18.0</td>\n",
       "      <td>62.57</td>\n",
       "      <td>1.13</td>\n",
       "      <td>67.0</td>\n",
       "      <td>22.9</td>\n",
       "      <td>57.0</td>\n",
       "      <td>943.0</td>\n",
       "      <td>0.0</td>\n",
       "      <td>194.0</td>\n",
       "    </tr>\n",
       "    <tr>\n",
       "      <th>...</th>\n",
       "      <td>...</td>\n",
       "      <td>...</td>\n",
       "      <td>...</td>\n",
       "      <td>...</td>\n",
       "      <td>...</td>\n",
       "      <td>...</td>\n",
       "      <td>...</td>\n",
       "      <td>...</td>\n",
       "      <td>...</td>\n",
       "      <td>...</td>\n",
       "      <td>...</td>\n",
       "      <td>...</td>\n",
       "      <td>...</td>\n",
       "      <td>...</td>\n",
       "      <td>...</td>\n",
       "      <td>...</td>\n",
       "      <td>...</td>\n",
       "      <td>...</td>\n",
       "      <td>...</td>\n",
       "      <td>...</td>\n",
       "      <td>...</td>\n",
       "    </tr>\n",
       "    <tr>\n",
       "      <th>14744</th>\n",
       "      <td>2021</td>\n",
       "      <td>5</td>\n",
       "      <td>25</td>\n",
       "      <td>19</td>\n",
       "      <td>0</td>\n",
       "      <td>0</td>\n",
       "      <td>0</td>\n",
       "      <td>1</td>\n",
       "      <td>0</td>\n",
       "      <td>0</td>\n",
       "      <td>...</td>\n",
       "      <td>10.0</td>\n",
       "      <td>55.0</td>\n",
       "      <td>0.00</td>\n",
       "      <td>0.98</td>\n",
       "      <td>6.0</td>\n",
       "      <td>26.1</td>\n",
       "      <td>29.0</td>\n",
       "      <td>948.0</td>\n",
       "      <td>0.0</td>\n",
       "      <td>1399.0</td>\n",
       "    </tr>\n",
       "    <tr>\n",
       "      <th>14745</th>\n",
       "      <td>2021</td>\n",
       "      <td>5</td>\n",
       "      <td>25</td>\n",
       "      <td>20</td>\n",
       "      <td>0</td>\n",
       "      <td>0</td>\n",
       "      <td>0</td>\n",
       "      <td>1</td>\n",
       "      <td>0</td>\n",
       "      <td>0</td>\n",
       "      <td>...</td>\n",
       "      <td>7.0</td>\n",
       "      <td>58.0</td>\n",
       "      <td>0.00</td>\n",
       "      <td>0.91</td>\n",
       "      <td>42.0</td>\n",
       "      <td>25.0</td>\n",
       "      <td>30.0</td>\n",
       "      <td>948.0</td>\n",
       "      <td>0.0</td>\n",
       "      <td>1342.0</td>\n",
       "    </tr>\n",
       "    <tr>\n",
       "      <th>14746</th>\n",
       "      <td>2021</td>\n",
       "      <td>5</td>\n",
       "      <td>25</td>\n",
       "      <td>21</td>\n",
       "      <td>0</td>\n",
       "      <td>0</td>\n",
       "      <td>0</td>\n",
       "      <td>1</td>\n",
       "      <td>0</td>\n",
       "      <td>0</td>\n",
       "      <td>...</td>\n",
       "      <td>11.0</td>\n",
       "      <td>94.0</td>\n",
       "      <td>0.00</td>\n",
       "      <td>0.61</td>\n",
       "      <td>76.0</td>\n",
       "      <td>24.5</td>\n",
       "      <td>32.0</td>\n",
       "      <td>948.0</td>\n",
       "      <td>0.0</td>\n",
       "      <td>1096.0</td>\n",
       "    </tr>\n",
       "    <tr>\n",
       "      <th>14747</th>\n",
       "      <td>2021</td>\n",
       "      <td>5</td>\n",
       "      <td>25</td>\n",
       "      <td>22</td>\n",
       "      <td>0</td>\n",
       "      <td>0</td>\n",
       "      <td>0</td>\n",
       "      <td>1</td>\n",
       "      <td>0</td>\n",
       "      <td>0</td>\n",
       "      <td>...</td>\n",
       "      <td>6.0</td>\n",
       "      <td>84.0</td>\n",
       "      <td>0.00</td>\n",
       "      <td>1.26</td>\n",
       "      <td>92.0</td>\n",
       "      <td>22.7</td>\n",
       "      <td>42.0</td>\n",
       "      <td>949.0</td>\n",
       "      <td>0.0</td>\n",
       "      <td>835.0</td>\n",
       "    </tr>\n",
       "    <tr>\n",
       "      <th>14748</th>\n",
       "      <td>2021</td>\n",
       "      <td>5</td>\n",
       "      <td>25</td>\n",
       "      <td>23</td>\n",
       "      <td>0</td>\n",
       "      <td>0</td>\n",
       "      <td>0</td>\n",
       "      <td>1</td>\n",
       "      <td>0</td>\n",
       "      <td>0</td>\n",
       "      <td>...</td>\n",
       "      <td>5.0</td>\n",
       "      <td>35.0</td>\n",
       "      <td>0.00</td>\n",
       "      <td>1.19</td>\n",
       "      <td>126.0</td>\n",
       "      <td>20.6</td>\n",
       "      <td>51.0</td>\n",
       "      <td>950.0</td>\n",
       "      <td>0.0</td>\n",
       "      <td>631.0</td>\n",
       "    </tr>\n",
       "  </tbody>\n",
       "</table>\n",
       "<p>14749 rows × 21 columns</p>\n",
       "</div>"
      ],
      "text/plain": [
       "       year  month  day  hour  minute  second  laborday  saturday  sunday  \\\n",
       "0      2019      8    1     0       0       0         0         1       0   \n",
       "1      2019      8    1     1       0       0         0         1       0   \n",
       "2      2019      8    1     2       0       0         0         1       0   \n",
       "3      2019      8    1     3       0       0         0         1       0   \n",
       "4      2019      8    1     4       0       0         0         1       0   \n",
       "...     ...    ...  ...   ...     ...     ...       ...       ...     ...   \n",
       "14744  2021      5   25    19       0       0         0         1       0   \n",
       "14745  2021      5   25    20       0       0         0         1       0   \n",
       "14746  2021      5   25    21       0       0         0         1       0   \n",
       "14747  2021      5   25    22       0       0         0         1       0   \n",
       "14748  2021      5   25    23       0       0         0         1       0   \n",
       "\n",
       "       holiday  ...  PM25   NOx     O3  windspeed  winddirection  temperature  \\\n",
       "0            0  ...  10.0  29.0  58.87       1.84           97.0         26.1   \n",
       "1            0  ...  10.0  18.0  63.73       1.97          117.0         24.9   \n",
       "2            0  ...   9.0  19.0  66.50       1.72           96.0         24.0   \n",
       "3            0  ...  10.0  15.0  66.62       1.55          106.0         23.3   \n",
       "4            0  ...  10.0  18.0  62.57       1.13           67.0         22.9   \n",
       "...        ...  ...   ...   ...    ...        ...            ...          ...   \n",
       "14744        0  ...  10.0  55.0   0.00       0.98            6.0         26.1   \n",
       "14745        0  ...   7.0  58.0   0.00       0.91           42.0         25.0   \n",
       "14746        0  ...  11.0  94.0   0.00       0.61           76.0         24.5   \n",
       "14747        0  ...   6.0  84.0   0.00       1.26           92.0         22.7   \n",
       "14748        0  ...   5.0  35.0   0.00       1.19          126.0         20.6   \n",
       "\n",
       "       humidity  pressure  rain  traffic  \n",
       "0          52.0     943.0   0.0    570.0  \n",
       "1          55.0     943.0   0.0    404.0  \n",
       "2          55.0     943.0   0.0    287.0  \n",
       "3          55.0     943.0   0.0    209.0  \n",
       "4          57.0     943.0   0.0    194.0  \n",
       "...         ...       ...   ...      ...  \n",
       "14744      29.0     948.0   0.0   1399.0  \n",
       "14745      30.0     948.0   0.0   1342.0  \n",
       "14746      32.0     948.0   0.0   1096.0  \n",
       "14747      42.0     949.0   0.0    835.0  \n",
       "14748      51.0     950.0   0.0    631.0  \n",
       "\n",
       "[14749 rows x 21 columns]"
      ]
     },
     "execution_count": 86,
     "metadata": {},
     "output_type": "execute_result"
    }
   ],
   "source": [
    "# lectura de un fichero en panda\n",
    "import pandas as pd\n",
    "\n",
    "url = \"https://raw.githubusercontent.com/RafaelCaballero/tdm/master/datos/madpollution_output.csv\"\n",
    "df = pd.read_csv(url)\n",
    "df"
   ]
  },
  {
   "cell_type": "code",
   "execution_count": 87,
   "metadata": {},
   "outputs": [
    {
     "data": {
      "text/html": [
       "<div>\n",
       "<style scoped>\n",
       "    .dataframe tbody tr th:only-of-type {\n",
       "        vertical-align: middle;\n",
       "    }\n",
       "\n",
       "    .dataframe tbody tr th {\n",
       "        vertical-align: top;\n",
       "    }\n",
       "\n",
       "    .dataframe thead th {\n",
       "        text-align: right;\n",
       "    }\n",
       "</style>\n",
       "<table border=\"1\" class=\"dataframe\">\n",
       "  <thead>\n",
       "    <tr style=\"text-align: right;\">\n",
       "      <th></th>\n",
       "      <th>year</th>\n",
       "      <th>month</th>\n",
       "      <th>day</th>\n",
       "      <th>hour</th>\n",
       "      <th>minute</th>\n",
       "      <th>second</th>\n",
       "      <th>laborday</th>\n",
       "      <th>saturday</th>\n",
       "      <th>sunday</th>\n",
       "      <th>holiday</th>\n",
       "      <th>...</th>\n",
       "      <th>PM25</th>\n",
       "      <th>NOx</th>\n",
       "      <th>O3</th>\n",
       "      <th>windspeed</th>\n",
       "      <th>winddirection</th>\n",
       "      <th>temperature</th>\n",
       "      <th>humidity</th>\n",
       "      <th>pressure</th>\n",
       "      <th>rain</th>\n",
       "      <th>traffic</th>\n",
       "    </tr>\n",
       "  </thead>\n",
       "  <tbody>\n",
       "    <tr>\n",
       "      <th>13906</th>\n",
       "      <td>2021</td>\n",
       "      <td>4</td>\n",
       "      <td>20</td>\n",
       "      <td>21</td>\n",
       "      <td>0</td>\n",
       "      <td>0</td>\n",
       "      <td>0</td>\n",
       "      <td>1</td>\n",
       "      <td>0</td>\n",
       "      <td>0</td>\n",
       "      <td>...</td>\n",
       "      <td>6.0</td>\n",
       "      <td>44.0</td>\n",
       "      <td>54.95</td>\n",
       "      <td>1.09</td>\n",
       "      <td>238.0</td>\n",
       "      <td>16.5</td>\n",
       "      <td>54.0</td>\n",
       "      <td>940.0</td>\n",
       "      <td>0.0</td>\n",
       "      <td>1007.0</td>\n",
       "    </tr>\n",
       "    <tr>\n",
       "      <th>11189</th>\n",
       "      <td>2020</td>\n",
       "      <td>12</td>\n",
       "      <td>28</td>\n",
       "      <td>7</td>\n",
       "      <td>0</td>\n",
       "      <td>0</td>\n",
       "      <td>0</td>\n",
       "      <td>1</td>\n",
       "      <td>0</td>\n",
       "      <td>0</td>\n",
       "      <td>...</td>\n",
       "      <td>2.0</td>\n",
       "      <td>33.0</td>\n",
       "      <td>62.89</td>\n",
       "      <td>1.57</td>\n",
       "      <td>240.0</td>\n",
       "      <td>6.0</td>\n",
       "      <td>70.0</td>\n",
       "      <td>930.0</td>\n",
       "      <td>0.0</td>\n",
       "      <td>907.0</td>\n",
       "    </tr>\n",
       "    <tr>\n",
       "      <th>2501</th>\n",
       "      <td>2019</td>\n",
       "      <td>11</td>\n",
       "      <td>13</td>\n",
       "      <td>18</td>\n",
       "      <td>0</td>\n",
       "      <td>0</td>\n",
       "      <td>0</td>\n",
       "      <td>1</td>\n",
       "      <td>0</td>\n",
       "      <td>0</td>\n",
       "      <td>...</td>\n",
       "      <td>8.0</td>\n",
       "      <td>164.0</td>\n",
       "      <td>12.53</td>\n",
       "      <td>0.62</td>\n",
       "      <td>234.0</td>\n",
       "      <td>14.1</td>\n",
       "      <td>54.0</td>\n",
       "      <td>942.0</td>\n",
       "      <td>0.0</td>\n",
       "      <td>1420.0</td>\n",
       "    </tr>\n",
       "    <tr>\n",
       "      <th>9921</th>\n",
       "      <td>2020</td>\n",
       "      <td>11</td>\n",
       "      <td>5</td>\n",
       "      <td>8</td>\n",
       "      <td>0</td>\n",
       "      <td>0</td>\n",
       "      <td>0</td>\n",
       "      <td>1</td>\n",
       "      <td>0</td>\n",
       "      <td>0</td>\n",
       "      <td>...</td>\n",
       "      <td>8.0</td>\n",
       "      <td>130.0</td>\n",
       "      <td>10.11</td>\n",
       "      <td>1.21</td>\n",
       "      <td>70.0</td>\n",
       "      <td>9.4</td>\n",
       "      <td>89.0</td>\n",
       "      <td>949.0</td>\n",
       "      <td>3.2</td>\n",
       "      <td>1431.0</td>\n",
       "    </tr>\n",
       "    <tr>\n",
       "      <th>966</th>\n",
       "      <td>2019</td>\n",
       "      <td>9</td>\n",
       "      <td>10</td>\n",
       "      <td>16</td>\n",
       "      <td>0</td>\n",
       "      <td>0</td>\n",
       "      <td>0</td>\n",
       "      <td>1</td>\n",
       "      <td>0</td>\n",
       "      <td>0</td>\n",
       "      <td>...</td>\n",
       "      <td>3.0</td>\n",
       "      <td>58.0</td>\n",
       "      <td>47.06</td>\n",
       "      <td>1.20</td>\n",
       "      <td>308.0</td>\n",
       "      <td>20.9</td>\n",
       "      <td>28.0</td>\n",
       "      <td>945.0</td>\n",
       "      <td>0.0</td>\n",
       "      <td>1367.0</td>\n",
       "    </tr>\n",
       "    <tr>\n",
       "      <th>...</th>\n",
       "      <td>...</td>\n",
       "      <td>...</td>\n",
       "      <td>...</td>\n",
       "      <td>...</td>\n",
       "      <td>...</td>\n",
       "      <td>...</td>\n",
       "      <td>...</td>\n",
       "      <td>...</td>\n",
       "      <td>...</td>\n",
       "      <td>...</td>\n",
       "      <td>...</td>\n",
       "      <td>...</td>\n",
       "      <td>...</td>\n",
       "      <td>...</td>\n",
       "      <td>...</td>\n",
       "      <td>...</td>\n",
       "      <td>...</td>\n",
       "      <td>...</td>\n",
       "      <td>...</td>\n",
       "      <td>...</td>\n",
       "      <td>...</td>\n",
       "    </tr>\n",
       "    <tr>\n",
       "      <th>10371</th>\n",
       "      <td>2020</td>\n",
       "      <td>11</td>\n",
       "      <td>24</td>\n",
       "      <td>2</td>\n",
       "      <td>0</td>\n",
       "      <td>0</td>\n",
       "      <td>0</td>\n",
       "      <td>1</td>\n",
       "      <td>0</td>\n",
       "      <td>0</td>\n",
       "      <td>...</td>\n",
       "      <td>13.0</td>\n",
       "      <td>71.0</td>\n",
       "      <td>5.77</td>\n",
       "      <td>0.58</td>\n",
       "      <td>55.0</td>\n",
       "      <td>4.9</td>\n",
       "      <td>86.0</td>\n",
       "      <td>954.0</td>\n",
       "      <td>0.0</td>\n",
       "      <td>85.0</td>\n",
       "    </tr>\n",
       "    <tr>\n",
       "      <th>1558</th>\n",
       "      <td>2019</td>\n",
       "      <td>10</td>\n",
       "      <td>5</td>\n",
       "      <td>10</td>\n",
       "      <td>0</td>\n",
       "      <td>0</td>\n",
       "      <td>0</td>\n",
       "      <td>0</td>\n",
       "      <td>1</td>\n",
       "      <td>0</td>\n",
       "      <td>...</td>\n",
       "      <td>11.0</td>\n",
       "      <td>131.0</td>\n",
       "      <td>21.27</td>\n",
       "      <td>0.72</td>\n",
       "      <td>317.0</td>\n",
       "      <td>21.1</td>\n",
       "      <td>47.0</td>\n",
       "      <td>947.0</td>\n",
       "      <td>0.0</td>\n",
       "      <td>840.0</td>\n",
       "    </tr>\n",
       "    <tr>\n",
       "      <th>5325</th>\n",
       "      <td>2020</td>\n",
       "      <td>4</td>\n",
       "      <td>8</td>\n",
       "      <td>18</td>\n",
       "      <td>0</td>\n",
       "      <td>0</td>\n",
       "      <td>0</td>\n",
       "      <td>1</td>\n",
       "      <td>0</td>\n",
       "      <td>0</td>\n",
       "      <td>...</td>\n",
       "      <td>6.0</td>\n",
       "      <td>17.0</td>\n",
       "      <td>83.70</td>\n",
       "      <td>1.48</td>\n",
       "      <td>178.0</td>\n",
       "      <td>22.9</td>\n",
       "      <td>39.0</td>\n",
       "      <td>949.0</td>\n",
       "      <td>0.0</td>\n",
       "      <td>319.0</td>\n",
       "    </tr>\n",
       "    <tr>\n",
       "      <th>2629</th>\n",
       "      <td>2019</td>\n",
       "      <td>11</td>\n",
       "      <td>19</td>\n",
       "      <td>2</td>\n",
       "      <td>0</td>\n",
       "      <td>0</td>\n",
       "      <td>0</td>\n",
       "      <td>1</td>\n",
       "      <td>0</td>\n",
       "      <td>0</td>\n",
       "      <td>...</td>\n",
       "      <td>13.0</td>\n",
       "      <td>115.0</td>\n",
       "      <td>3.00</td>\n",
       "      <td>0.61</td>\n",
       "      <td>36.0</td>\n",
       "      <td>2.2</td>\n",
       "      <td>83.0</td>\n",
       "      <td>947.0</td>\n",
       "      <td>0.0</td>\n",
       "      <td>187.0</td>\n",
       "    </tr>\n",
       "    <tr>\n",
       "      <th>2222</th>\n",
       "      <td>2019</td>\n",
       "      <td>11</td>\n",
       "      <td>2</td>\n",
       "      <td>3</td>\n",
       "      <td>0</td>\n",
       "      <td>0</td>\n",
       "      <td>0</td>\n",
       "      <td>0</td>\n",
       "      <td>1</td>\n",
       "      <td>0</td>\n",
       "      <td>...</td>\n",
       "      <td>6.0</td>\n",
       "      <td>14.0</td>\n",
       "      <td>46.90</td>\n",
       "      <td>1.50</td>\n",
       "      <td>234.0</td>\n",
       "      <td>15.5</td>\n",
       "      <td>90.0</td>\n",
       "      <td>944.0</td>\n",
       "      <td>0.0</td>\n",
       "      <td>153.0</td>\n",
       "    </tr>\n",
       "  </tbody>\n",
       "</table>\n",
       "<p>100 rows × 21 columns</p>\n",
       "</div>"
      ],
      "text/plain": [
       "       year  month  day  hour  minute  second  laborday  saturday  sunday  \\\n",
       "13906  2021      4   20    21       0       0         0         1       0   \n",
       "11189  2020     12   28     7       0       0         0         1       0   \n",
       "2501   2019     11   13    18       0       0         0         1       0   \n",
       "9921   2020     11    5     8       0       0         0         1       0   \n",
       "966    2019      9   10    16       0       0         0         1       0   \n",
       "...     ...    ...  ...   ...     ...     ...       ...       ...     ...   \n",
       "10371  2020     11   24     2       0       0         0         1       0   \n",
       "1558   2019     10    5    10       0       0         0         0       1   \n",
       "5325   2020      4    8    18       0       0         0         1       0   \n",
       "2629   2019     11   19     2       0       0         0         1       0   \n",
       "2222   2019     11    2     3       0       0         0         0       1   \n",
       "\n",
       "       holiday  ...  PM25    NOx     O3  windspeed  winddirection  \\\n",
       "13906        0  ...   6.0   44.0  54.95       1.09          238.0   \n",
       "11189        0  ...   2.0   33.0  62.89       1.57          240.0   \n",
       "2501         0  ...   8.0  164.0  12.53       0.62          234.0   \n",
       "9921         0  ...   8.0  130.0  10.11       1.21           70.0   \n",
       "966          0  ...   3.0   58.0  47.06       1.20          308.0   \n",
       "...        ...  ...   ...    ...    ...        ...            ...   \n",
       "10371        0  ...  13.0   71.0   5.77       0.58           55.0   \n",
       "1558         0  ...  11.0  131.0  21.27       0.72          317.0   \n",
       "5325         0  ...   6.0   17.0  83.70       1.48          178.0   \n",
       "2629         0  ...  13.0  115.0   3.00       0.61           36.0   \n",
       "2222         0  ...   6.0   14.0  46.90       1.50          234.0   \n",
       "\n",
       "       temperature  humidity  pressure  rain  traffic  \n",
       "13906         16.5      54.0     940.0   0.0   1007.0  \n",
       "11189          6.0      70.0     930.0   0.0    907.0  \n",
       "2501          14.1      54.0     942.0   0.0   1420.0  \n",
       "9921           9.4      89.0     949.0   3.2   1431.0  \n",
       "966           20.9      28.0     945.0   0.0   1367.0  \n",
       "...            ...       ...       ...   ...      ...  \n",
       "10371          4.9      86.0     954.0   0.0     85.0  \n",
       "1558          21.1      47.0     947.0   0.0    840.0  \n",
       "5325          22.9      39.0     949.0   0.0    319.0  \n",
       "2629           2.2      83.0     947.0   0.0    187.0  \n",
       "2222          15.5      90.0     944.0   0.0    153.0  \n",
       "\n",
       "[100 rows x 21 columns]"
      ]
     },
     "execution_count": 87,
     "metadata": {},
     "output_type": "execute_result"
    }
   ],
   "source": [
    "# solo queremos 100 filas al azar\n",
    "df.sample(n=100)"
   ]
  },
  {
   "cell_type": "markdown",
   "metadata": {},
   "source": [
    "Ejemplo de división de un dataframe en dos de forma aleatoria"
   ]
  },
  {
   "cell_type": "code",
   "execution_count": 89,
   "metadata": {},
   "outputs": [
    {
     "name": "stdout",
     "output_type": "stream",
     "text": [
      "11799 2950\n"
     ]
    }
   ],
   "source": [
    "train_dataset = df.sample(frac=0.8,random_state=0)\n",
    "test_dataset = df.drop(train_dataset.index)\n",
    "print(len(train_dataset), len(test_dataset))"
   ]
  },
  {
   "cell_type": "markdown",
   "metadata": {},
   "source": [
    "También se pueden tomar muestras con reemplazamiento, lo que significa que se puede repetir"
   ]
  },
  {
   "cell_type": "code",
   "execution_count": 91,
   "metadata": {},
   "outputs": [
    {
     "data": {
      "text/html": [
       "<div>\n",
       "<style scoped>\n",
       "    .dataframe tbody tr th:only-of-type {\n",
       "        vertical-align: middle;\n",
       "    }\n",
       "\n",
       "    .dataframe tbody tr th {\n",
       "        vertical-align: top;\n",
       "    }\n",
       "\n",
       "    .dataframe thead th {\n",
       "        text-align: right;\n",
       "    }\n",
       "</style>\n",
       "<table border=\"1\" class=\"dataframe\">\n",
       "  <thead>\n",
       "    <tr style=\"text-align: right;\">\n",
       "      <th></th>\n",
       "      <th>nombre</th>\n",
       "      <th>apellido</th>\n",
       "    </tr>\n",
       "  </thead>\n",
       "  <tbody>\n",
       "    <tr>\n",
       "      <th>0</th>\n",
       "      <td>Bertoldo</td>\n",
       "      <td>Cacaseno</td>\n",
       "    </tr>\n",
       "    <tr>\n",
       "      <th>1</th>\n",
       "      <td>Aniceto</td>\n",
       "      <td>Cacaseno</td>\n",
       "    </tr>\n",
       "    <tr>\n",
       "      <th>2</th>\n",
       "      <td>Herminia</td>\n",
       "      <td>Ducasse</td>\n",
       "    </tr>\n",
       "    <tr>\n",
       "      <th>3</th>\n",
       "      <td>Calixta</td>\n",
       "      <td>Albrich</td>\n",
       "    </tr>\n",
       "  </tbody>\n",
       "</table>\n",
       "</div>"
      ],
      "text/plain": [
       "     nombre  apellido\n",
       "0  Bertoldo  Cacaseno\n",
       "1   Aniceto  Cacaseno\n",
       "2  Herminia   Ducasse\n",
       "3   Calixta   Albrich"
      ]
     },
     "execution_count": 91,
     "metadata": {},
     "output_type": "execute_result"
    }
   ],
   "source": [
    "datos = [['Bertoldo', 'Cacaseno'], ['Aniceto', 'Cacaseno'], \n",
    "         ['Herminia', 'Ducasse'], ['Calixta', 'Albrich'] ]\n",
    "df = DataFrame(datos ,columns=['nombre','apellido'])\n",
    "df"
   ]
  },
  {
   "cell_type": "code",
   "execution_count": 92,
   "metadata": {},
   "outputs": [
    {
     "data": {
      "text/html": [
       "<div>\n",
       "<style scoped>\n",
       "    .dataframe tbody tr th:only-of-type {\n",
       "        vertical-align: middle;\n",
       "    }\n",
       "\n",
       "    .dataframe tbody tr th {\n",
       "        vertical-align: top;\n",
       "    }\n",
       "\n",
       "    .dataframe thead th {\n",
       "        text-align: right;\n",
       "    }\n",
       "</style>\n",
       "<table border=\"1\" class=\"dataframe\">\n",
       "  <thead>\n",
       "    <tr style=\"text-align: right;\">\n",
       "      <th></th>\n",
       "      <th>nombre</th>\n",
       "      <th>apellido</th>\n",
       "    </tr>\n",
       "  </thead>\n",
       "  <tbody>\n",
       "    <tr>\n",
       "      <th>1</th>\n",
       "      <td>Aniceto</td>\n",
       "      <td>Cacaseno</td>\n",
       "    </tr>\n",
       "    <tr>\n",
       "      <th>2</th>\n",
       "      <td>Herminia</td>\n",
       "      <td>Ducasse</td>\n",
       "    </tr>\n",
       "    <tr>\n",
       "      <th>0</th>\n",
       "      <td>Bertoldo</td>\n",
       "      <td>Cacaseno</td>\n",
       "    </tr>\n",
       "    <tr>\n",
       "      <th>0</th>\n",
       "      <td>Bertoldo</td>\n",
       "      <td>Cacaseno</td>\n",
       "    </tr>\n",
       "    <tr>\n",
       "      <th>3</th>\n",
       "      <td>Calixta</td>\n",
       "      <td>Albrich</td>\n",
       "    </tr>\n",
       "    <tr>\n",
       "      <th>0</th>\n",
       "      <td>Bertoldo</td>\n",
       "      <td>Cacaseno</td>\n",
       "    </tr>\n",
       "    <tr>\n",
       "      <th>1</th>\n",
       "      <td>Aniceto</td>\n",
       "      <td>Cacaseno</td>\n",
       "    </tr>\n",
       "    <tr>\n",
       "      <th>2</th>\n",
       "      <td>Herminia</td>\n",
       "      <td>Ducasse</td>\n",
       "    </tr>\n",
       "    <tr>\n",
       "      <th>2</th>\n",
       "      <td>Herminia</td>\n",
       "      <td>Ducasse</td>\n",
       "    </tr>\n",
       "    <tr>\n",
       "      <th>2</th>\n",
       "      <td>Herminia</td>\n",
       "      <td>Ducasse</td>\n",
       "    </tr>\n",
       "  </tbody>\n",
       "</table>\n",
       "</div>"
      ],
      "text/plain": [
       "     nombre  apellido\n",
       "1   Aniceto  Cacaseno\n",
       "2  Herminia   Ducasse\n",
       "0  Bertoldo  Cacaseno\n",
       "0  Bertoldo  Cacaseno\n",
       "3   Calixta   Albrich\n",
       "0  Bertoldo  Cacaseno\n",
       "1   Aniceto  Cacaseno\n",
       "2  Herminia   Ducasse\n",
       "2  Herminia   Ducasse\n",
       "2  Herminia   Ducasse"
      ]
     },
     "execution_count": 92,
     "metadata": {},
     "output_type": "execute_result"
    }
   ],
   "source": [
    "df.sample(n=10,replace=True)"
   ]
  },
  {
   "cell_type": "markdown",
   "metadata": {},
   "source": [
    "<a name=\"Iterar\"></a>\n",
    "## Iterar\n",
    "\n",
    "Intentaremos evitar iterar por el dataframe con un `for`, pero a veces no hay más remedio. En ese caso usaremos `iterrows`\n",
    " que nos devuelve cada fila como un array con dos posiciones, la 0 para el índice y la 1 para la fila en sí"
   ]
  },
  {
   "cell_type": "code",
   "execution_count": 94,
   "metadata": {},
   "outputs": [
    {
     "data": {
      "text/html": [
       "<div>\n",
       "<style scoped>\n",
       "    .dataframe tbody tr th:only-of-type {\n",
       "        vertical-align: middle;\n",
       "    }\n",
       "\n",
       "    .dataframe tbody tr th {\n",
       "        vertical-align: top;\n",
       "    }\n",
       "\n",
       "    .dataframe thead th {\n",
       "        text-align: right;\n",
       "    }\n",
       "</style>\n",
       "<table border=\"1\" class=\"dataframe\">\n",
       "  <thead>\n",
       "    <tr style=\"text-align: right;\">\n",
       "      <th></th>\n",
       "      <th>title</th>\n",
       "      <th>artist</th>\n",
       "      <th>top genre</th>\n",
       "      <th>year</th>\n",
       "      <th>bpm</th>\n",
       "      <th>nrgy</th>\n",
       "      <th>dnce</th>\n",
       "      <th>dB</th>\n",
       "      <th>live</th>\n",
       "      <th>val</th>\n",
       "      <th>dur</th>\n",
       "      <th>acous</th>\n",
       "      <th>spch</th>\n",
       "      <th>pop</th>\n",
       "    </tr>\n",
       "  </thead>\n",
       "  <tbody>\n",
       "    <tr>\n",
       "      <th>1</th>\n",
       "      <td>Hey, Soul Sister</td>\n",
       "      <td>Train</td>\n",
       "      <td>neo mellow</td>\n",
       "      <td>2010</td>\n",
       "      <td>97</td>\n",
       "      <td>89</td>\n",
       "      <td>67</td>\n",
       "      <td>-4</td>\n",
       "      <td>8</td>\n",
       "      <td>80</td>\n",
       "      <td>217</td>\n",
       "      <td>19</td>\n",
       "      <td>4</td>\n",
       "      <td>83</td>\n",
       "    </tr>\n",
       "    <tr>\n",
       "      <th>2</th>\n",
       "      <td>Love The Way You Lie</td>\n",
       "      <td>Eminem</td>\n",
       "      <td>detroit hip hop</td>\n",
       "      <td>2010</td>\n",
       "      <td>87</td>\n",
       "      <td>93</td>\n",
       "      <td>75</td>\n",
       "      <td>-5</td>\n",
       "      <td>52</td>\n",
       "      <td>64</td>\n",
       "      <td>263</td>\n",
       "      <td>24</td>\n",
       "      <td>23</td>\n",
       "      <td>82</td>\n",
       "    </tr>\n",
       "    <tr>\n",
       "      <th>3</th>\n",
       "      <td>TiK ToK</td>\n",
       "      <td>Kesha</td>\n",
       "      <td>dance pop</td>\n",
       "      <td>2010</td>\n",
       "      <td>120</td>\n",
       "      <td>84</td>\n",
       "      <td>76</td>\n",
       "      <td>-3</td>\n",
       "      <td>29</td>\n",
       "      <td>71</td>\n",
       "      <td>200</td>\n",
       "      <td>10</td>\n",
       "      <td>14</td>\n",
       "      <td>80</td>\n",
       "    </tr>\n",
       "    <tr>\n",
       "      <th>4</th>\n",
       "      <td>Bad Romance</td>\n",
       "      <td>Lady Gaga</td>\n",
       "      <td>dance pop</td>\n",
       "      <td>2010</td>\n",
       "      <td>119</td>\n",
       "      <td>92</td>\n",
       "      <td>70</td>\n",
       "      <td>-4</td>\n",
       "      <td>8</td>\n",
       "      <td>71</td>\n",
       "      <td>295</td>\n",
       "      <td>0</td>\n",
       "      <td>4</td>\n",
       "      <td>79</td>\n",
       "    </tr>\n",
       "    <tr>\n",
       "      <th>5</th>\n",
       "      <td>Just the Way You Are</td>\n",
       "      <td>Bruno Mars</td>\n",
       "      <td>pop</td>\n",
       "      <td>2010</td>\n",
       "      <td>109</td>\n",
       "      <td>84</td>\n",
       "      <td>64</td>\n",
       "      <td>-5</td>\n",
       "      <td>9</td>\n",
       "      <td>43</td>\n",
       "      <td>221</td>\n",
       "      <td>2</td>\n",
       "      <td>4</td>\n",
       "      <td>78</td>\n",
       "    </tr>\n",
       "    <tr>\n",
       "      <th>...</th>\n",
       "      <td>...</td>\n",
       "      <td>...</td>\n",
       "      <td>...</td>\n",
       "      <td>...</td>\n",
       "      <td>...</td>\n",
       "      <td>...</td>\n",
       "      <td>...</td>\n",
       "      <td>...</td>\n",
       "      <td>...</td>\n",
       "      <td>...</td>\n",
       "      <td>...</td>\n",
       "      <td>...</td>\n",
       "      <td>...</td>\n",
       "      <td>...</td>\n",
       "    </tr>\n",
       "    <tr>\n",
       "      <th>599</th>\n",
       "      <td>Find U Again (feat. Camila Cabello)</td>\n",
       "      <td>Mark Ronson</td>\n",
       "      <td>dance pop</td>\n",
       "      <td>2019</td>\n",
       "      <td>104</td>\n",
       "      <td>66</td>\n",
       "      <td>61</td>\n",
       "      <td>-7</td>\n",
       "      <td>20</td>\n",
       "      <td>16</td>\n",
       "      <td>176</td>\n",
       "      <td>1</td>\n",
       "      <td>3</td>\n",
       "      <td>75</td>\n",
       "    </tr>\n",
       "    <tr>\n",
       "      <th>600</th>\n",
       "      <td>Cross Me (feat. Chance the Rapper &amp; PnB Rock)</td>\n",
       "      <td>Ed Sheeran</td>\n",
       "      <td>pop</td>\n",
       "      <td>2019</td>\n",
       "      <td>95</td>\n",
       "      <td>79</td>\n",
       "      <td>75</td>\n",
       "      <td>-6</td>\n",
       "      <td>7</td>\n",
       "      <td>61</td>\n",
       "      <td>206</td>\n",
       "      <td>21</td>\n",
       "      <td>12</td>\n",
       "      <td>75</td>\n",
       "    </tr>\n",
       "    <tr>\n",
       "      <th>601</th>\n",
       "      <td>No Brainer (feat. Justin Bieber, Chance the Ra...</td>\n",
       "      <td>DJ Khaled</td>\n",
       "      <td>dance pop</td>\n",
       "      <td>2019</td>\n",
       "      <td>136</td>\n",
       "      <td>76</td>\n",
       "      <td>53</td>\n",
       "      <td>-5</td>\n",
       "      <td>9</td>\n",
       "      <td>65</td>\n",
       "      <td>260</td>\n",
       "      <td>7</td>\n",
       "      <td>34</td>\n",
       "      <td>70</td>\n",
       "    </tr>\n",
       "    <tr>\n",
       "      <th>602</th>\n",
       "      <td>Nothing Breaks Like a Heart (feat. Miley Cyrus)</td>\n",
       "      <td>Mark Ronson</td>\n",
       "      <td>dance pop</td>\n",
       "      <td>2019</td>\n",
       "      <td>114</td>\n",
       "      <td>79</td>\n",
       "      <td>60</td>\n",
       "      <td>-6</td>\n",
       "      <td>42</td>\n",
       "      <td>24</td>\n",
       "      <td>217</td>\n",
       "      <td>1</td>\n",
       "      <td>7</td>\n",
       "      <td>69</td>\n",
       "    </tr>\n",
       "    <tr>\n",
       "      <th>603</th>\n",
       "      <td>Kills You Slowly</td>\n",
       "      <td>The Chainsmokers</td>\n",
       "      <td>electropop</td>\n",
       "      <td>2019</td>\n",
       "      <td>150</td>\n",
       "      <td>44</td>\n",
       "      <td>70</td>\n",
       "      <td>-9</td>\n",
       "      <td>13</td>\n",
       "      <td>23</td>\n",
       "      <td>213</td>\n",
       "      <td>6</td>\n",
       "      <td>6</td>\n",
       "      <td>67</td>\n",
       "    </tr>\n",
       "  </tbody>\n",
       "</table>\n",
       "<p>603 rows × 14 columns</p>\n",
       "</div>"
      ],
      "text/plain": [
       "                                                 title            artist  \\\n",
       "1                                     Hey, Soul Sister             Train   \n",
       "2                                 Love The Way You Lie            Eminem   \n",
       "3                                              TiK ToK             Kesha   \n",
       "4                                          Bad Romance         Lady Gaga   \n",
       "5                                 Just the Way You Are        Bruno Mars   \n",
       "..                                                 ...               ...   \n",
       "599                Find U Again (feat. Camila Cabello)       Mark Ronson   \n",
       "600      Cross Me (feat. Chance the Rapper & PnB Rock)        Ed Sheeran   \n",
       "601  No Brainer (feat. Justin Bieber, Chance the Ra...         DJ Khaled   \n",
       "602    Nothing Breaks Like a Heart (feat. Miley Cyrus)       Mark Ronson   \n",
       "603                                   Kills You Slowly  The Chainsmokers   \n",
       "\n",
       "           top genre  year  bpm  nrgy  dnce  dB  live  val  dur  acous  spch  \\\n",
       "1         neo mellow  2010   97    89    67  -4     8   80  217     19     4   \n",
       "2    detroit hip hop  2010   87    93    75  -5    52   64  263     24    23   \n",
       "3          dance pop  2010  120    84    76  -3    29   71  200     10    14   \n",
       "4          dance pop  2010  119    92    70  -4     8   71  295      0     4   \n",
       "5                pop  2010  109    84    64  -5     9   43  221      2     4   \n",
       "..               ...   ...  ...   ...   ...  ..   ...  ...  ...    ...   ...   \n",
       "599        dance pop  2019  104    66    61  -7    20   16  176      1     3   \n",
       "600              pop  2019   95    79    75  -6     7   61  206     21    12   \n",
       "601        dance pop  2019  136    76    53  -5     9   65  260      7    34   \n",
       "602        dance pop  2019  114    79    60  -6    42   24  217      1     7   \n",
       "603       electropop  2019  150    44    70  -9    13   23  213      6     6   \n",
       "\n",
       "     pop  \n",
       "1     83  \n",
       "2     82  \n",
       "3     80  \n",
       "4     79  \n",
       "5     78  \n",
       "..   ...  \n",
       "599   75  \n",
       "600   75  \n",
       "601   70  \n",
       "602   69  \n",
       "603   67  \n",
       "\n",
       "[603 rows x 14 columns]"
      ]
     },
     "execution_count": 94,
     "metadata": {},
     "output_type": "execute_result"
    }
   ],
   "source": [
    "import pandas as pd\n",
    "file = \"https://raw.githubusercontent.com/RafaelCaballero/tdm/master/datos/top10s.csv\"\n",
    "df = pd.read_csv(file,encoding=\"latin-1\", index_col=0)\n",
    "df"
   ]
  },
  {
   "cell_type": "code",
   "execution_count": 95,
   "metadata": {},
   "outputs": [
    {
     "name": "stdout",
     "output_type": "stream",
     "text": [
      "Hey, Soul Sister\n",
      "Love The Way You Lie\n",
      "TiK ToK\n",
      "Bad Romance\n",
      "Just the Way You Are\n",
      "Baby\n",
      "Dynamite\n",
      "Secrets\n",
      "Empire State of Mind (Part II) Broken Down\n",
      "Only Girl (In The World)\n",
      "Club Can't Handle Me (feat. David Guetta)\n",
      "Marry You\n",
      "Cooler Than Me - Single Mix\n",
      "Telephone\n",
      "Like A G6\n",
      "OMG (feat. will.i.am)\n",
      "Eenie Meenie\n",
      "The Time (Dirty Bit)\n",
      "Alejandro\n",
      "Your Love Is My Drug\n",
      "Meet Me Halfway\n",
      "Whataya Want from Me\n",
      "Take It Off\n",
      "Misery\n",
      "All The Right Moves\n",
      "Animal\n",
      "Naturally\n",
      "I Like It\n",
      "Teenage Dream\n",
      "California Gurls\n",
      "3\n",
      "My First Kiss - feat. Ke$ha\n",
      "Blah Blah Blah (feat. 3OH!3)\n",
      "Imma Be\n",
      "Try Sleeping with a Broken Heart\n",
      "Sexy Bitch (feat. Akon)\n",
      "Bound To You - Burlesque Original Motion Picture Soundtrack\n",
      "If I Had You\n",
      "Rock That Body\n",
      "Dog Days Are Over\n",
      "Something's Got A Hold On Me - Burlesque Original Motion Picture Soundtrack\n",
      "Doesn't Mean Anything\n",
      "Hard\n",
      "Loca\n",
      "You Lost Me\n",
      "Not Myself Tonight\n",
      "Written in the Stars (feat. Eric Turner)\n",
      "DJ Got Us Fallin' In Love (feat. Pitbull)\n",
      "Castle Walls (feat. Christina Aguilera)\n",
      "Break Your Heart\n",
      "Hello\n",
      "A Thousand Years\n",
      "Someone Like You\n",
      "Give Me Everything\n",
      "Just the Way You Are\n",
      "Rolling in the Deep\n",
      "Run the World (Girls)\n",
      "Moves Like Jagger - Studio Recording From The Voice Performance\n",
      "Love On Top\n",
      "Grenade\n",
      "Tonight Tonight\n",
      "What the Hell\n",
      "Born This Way\n",
      "Monster\n",
      "Marry You\n",
      "Best Thing I Never Had\n",
      "Party Rock Anthem\n",
      "We R Who We R\n",
      "Price Tag\n",
      "Good Life\n",
      "Just Cant Get Enough\n",
      "On The Floor\n",
      "What's My Name?\n",
      "Yeah 3x\n",
      "Without You (feat. Usher)\n",
      "Sexy And I Know It\n",
      "The Edge Of Glory\n",
      "E.T.\n",
      "Till the World Ends\n",
      "I Wanna Go\n",
      "Blow\n",
      "You And I\n",
      "Judas\n",
      "Tonight (I'm Fuckin' You)\n",
      "Please Don't Go\n",
      "We Found Love\n",
      "Marry The Night\n",
      "1+1\n",
      "Hold It Against Me\n",
      "I'm Into You\n",
      "Papi\n",
      "Cheers (Drink To That)\n",
      "S&M Remix\n",
      "Written in the Stars (feat. Eric Turner)\n",
      "Jar of Hearts\n",
      "Castle Walls (feat. Christina Aguilera)\n",
      "Turning Page\n",
      "Super Bass\n",
      "Raise Your Glass\n",
      "Invading My Mind\n",
      "Moment 4 Life - Album Version (Edited)\n",
      "Last Friday Night (T.G.I.F.)\n",
      "Firework\n",
      "Muny - Album Version (Edited)\n",
      "Titanium (feat. Sia)\n",
      "Locked Out of Heaven\n",
      "Paradise\n",
      "Payphone\n",
      "What Makes You Beautiful\n",
      "I Knew You Were Trouble.\n",
      "Call Me Maybe\n",
      "Love You Like A Love Song\n",
      "Set Fire to the Rain\n",
      "We Are Never Ever Getting Back Together\n",
      "Stronger (What Doesn't Kill You)\n",
      "Try\n",
      "Starships\n",
      "One More Night\n",
      "Good Time\n",
      "Glad You Came\n",
      "Beauty And A Beat\n",
      "International Love\n",
      "Some Nights\n",
      "Boyfriend\n",
      "Part Of Me\n",
      "Domino\n",
      "Where Have You Been\n",
      "Wide Awake\n",
      "The One That Got Away\n",
      "Dance Again\n",
      "Turn Up the Music\n",
      "Lights - Single Version\n",
      "We Are Young (feat. Janelle Monáe)\n",
      "Diamonds\n",
      "Don't Stop the Party (feat. TJR)\n",
      "You Da One\n",
      "Stereo Hearts (feat. Adam Levine)\n",
      "It Will Rain\n",
      "Blow Me (One Last Kiss)\n",
      "Underneath the Tree\n",
      "Wake Me Up\n",
      "Story of My Life\n",
      "Just Give Me a Reason (feat. Nate Ruess)\n",
      "Hall of Fame\n",
      "Roar\n",
      "We Can't Stop\n",
      "Don't You Worry Child - Radio Edit\n",
      "Get Lucky (feat. Pharrell Williams & Nile Rodgers) - Radio Edit\n",
      "Wrecking Ball\n",
      "Impossible\n",
      "Blurred Lines\n",
      "Heart Attack\n",
      "We Are Never Ever Getting Back Together\n",
      "Die Young\n",
      "Clarity\n",
      "Summertime Sadness (Lana Del Rey Vs. Cedric Gervais) - Cedric Gervais Remix\n",
      "Under Control\n",
      "Everybody Talks\n",
      "Hold On, We're Going Home\n",
      "Best Song Ever\n",
      "Kiss You\n",
      "Sweet Nothing (feat. Florence Welch)\n",
      "Lose Yourself to Dance\n",
      "Work Bitch\n",
      "Brave\n",
      "Can't Hold Us (feat. Ray Dalton)\n",
      "Feel This Moment (feat. Christina Aguilera)\n",
      "Beneath Your Beautiful\n",
      "Let Me Love You (Until You Learn To Love Yourself)\n",
      "Thrift Shop (feat. Wanz)\n",
      "If I Lose Myself - Alesso vs OneRepublic\n",
      "The Way\n",
      "Suit & Tie\n",
      "#thatPOWER\n",
      "I Love It (feat. Charli XCX)\n",
      "Play Hard (feat. Ne-Yo & Akon) - New Edit\n",
      "Daylight\n",
      "Love Somebody\n",
      "A Little Party Never Killed Nobody (All We Got)\n",
      "Move\n",
      "Walks Like Rihanna\n",
      "Rock N Roll\n",
      "Heartbreaker\n",
      "Mirrors - Radio Edit\n",
      "Next To Me\n",
      "Made In The USA\n",
      "Clown\n",
      "Girl On Fire (feat. Nicki Minaj) - Inferno Version\n",
      "TKO\n",
      "Come & Get It\n",
      "Live It Up\n",
      "We Own The Night\n",
      "Atlas - From The Hunger Games: Catching Fire Soundtrack\n",
      "What About Love\n",
      "Take Back the Night\n",
      "Applause\n",
      "Anything Could Happen\n",
      "Finally Found You\n",
      "Pom Poms\n",
      "#Beautiful\n",
      "How Ya Doin'? (feat. Missy Elliott)\n",
      "Crazy Kids (feat. will.i.am)\n",
      "Ooh La La (from \"The Smurfs 2\")\n",
      "People Like Us\n",
      "Overdose\n",
      "Right Now - Dyro Radio Edit\n",
      "Give It 2 U\n",
      "Foolish Games\n",
      "Outta Nowhere (feat. Danny Mercer)\n",
      "Freak\n",
      "All of Me\n",
      "Stay With Me\n",
      "Summer\n",
      "Happy - From \"Despicable Me 2\"\n",
      "Rude\n",
      "Shake It Off\n",
      "Dark Horse\n",
      "Hey Brother\n",
      "Maps\n",
      "Treasure\n",
      "Let Her Go\n",
      "Problem\n",
      "Pompeii\n",
      "Team\n",
      "Love Me Again\n",
      "Latch\n",
      "Adore You\n",
      "Love Never Felt So Good\n",
      "Burn\n",
      "She Looks So Perfect\n",
      "Fancy\n",
      "Talk Dirty (feat. 2 Chainz)\n",
      "Gorilla\n",
      "human\n",
      "Young Girls\n",
      "Wiggle (feat. Snoop Dogg)\n",
      "Love Runs Out\n",
      "This Is How We Do\n",
      "Mmm Yeah (feat. Pitbull)\n",
      "A Little Party Never Killed Nobody (All We Got)\n",
      "#SELFIE\n",
      "Partition\n",
      "Birthday\n",
      "G.U.Y.\n",
      "Stay The Night - Featuring Hayley Williams Of Paramore\n",
      "Let It Go - From \"Frozen / Single Version\n",
      "Wings\n",
      "Can't Remember to Forget You (feat. Rihanna)\n",
      "Shot Me Down (feat. Skylar Grey) - Radio Edit\n",
      "Say Something\n",
      "A Sky Full of Stars\n",
      "Come Get It Bae\n",
      "Chandelier\n",
      "XO\n",
      "We Are One (Ole Ola) [The Official 2014 FIFA World Cup Song]\n",
      "Not About Angels\n",
      "Drunk in Love\n",
      "Anaconda\n",
      "Boom Clap - From the Motion Picture Das Schicksal ist ein mieser Verräter\n",
      "La La La (Brasil 2014) (feat. Carlinhos Brown)\n",
      "Tee Shirt - Soundtrack Version\n",
      "Words as Weapons\n",
      "You're Mine (Eternal)\n",
      "Sheezus\n",
      "Cannonball\n",
      "It's On Again - Main Soundtrack\n",
      "I Luh Ya Papi\n",
      "Not a Bad Thing\n",
      "Thinking out Loud\n",
      "I'm Not The Only One\n",
      "The Hills\n",
      "Love Yourself\n",
      "Uptown Funk\n",
      "Take Me To Church\n",
      "Sugar\n",
      "Sorry\n",
      "FourFiveSeconds\n",
      "Love Me Like You Do - From \"Fifty Shades Of Grey\"\n",
      "Earned It (Fifty Shades Of Grey) - From The \"Fifty Shades Of Grey\" Soundtrack\n",
      "What Do You Mean?\n",
      "Stitches\n",
      "Want to Want Me\n",
      "My House\n",
      "Waves - Robin Schulz Radio Edit\n",
      "Night Changes\n",
      "How Deep Is Your Love\n",
      "Never Forget You\n",
      "Love Me Harder\n",
      "Animals\n",
      "Blame\n",
      "Worth It\n",
      "Break Free\n",
      "Don't\n",
      "Elastic Heart\n",
      "Rather Be (feat. Jess Glynne)\n",
      "Hello\n",
      "Dear Future Husband\n",
      "43776\n",
      "The Heart Wants What It Wants\n",
      "Hey Mama (feat. Nicki Minaj, Bebe Rexha & Afrojack)\n",
      "Genie In a Bottle\n",
      "Company\n",
      "Sing\n",
      "Jealous - Remix\n",
      "Really Don't Care\n",
      "Downtown (feat. Melle Mel, Grandmaster Caz, Kool Moe Dee & Eric Nally)\n",
      "Only Love Can Hurt Like This\n",
      "Heartbeat Song\n",
      "Up\n",
      "Trumpets\n",
      "Runnin' (Lose It All)\n",
      "Same Old Love\n",
      "I Want You To Know\n",
      "Lips Are Movin\n",
      "I'll Show You\n",
      "Here\n",
      "I Lived\n",
      "Fireball (feat. John Ryan)\n",
      "Easy Love\n",
      "The Feeling\n",
      "I Really Like You\n",
      "BO$$\n",
      "Sugar\n",
      "Focus\n",
      "All About That Bass\n",
      "On My Mind\n",
      "Love Me Like You\n",
      "Broken Arrows\n",
      "Booty\n",
      "What Do You Mean? - Acoustic\n",
      "Mark My Words\n",
      "Lay It All on Me\n",
      "American Oxygen\n",
      "Bang Bang\n",
      "Reality - Radio Edit\n",
      "Alive\n",
      "Sugar (feat. Francesco Yates)\n",
      "Been You\n",
      "Prayer in C - Robin Schulz Radio Edit\n",
      "See You Again (feat. Charlie Puth)\n",
      "Heroes (we could be)\n",
      "Feel The Light - From The \"Home\" Soundtrack\n",
      "Perfect\n",
      "Ghosttown\n",
      "Bang My Head (feat. Sia & Fetty Wap)\n",
      "Bloodstream\n",
      "Living For Love\n",
      "Baby Don't Lie\n",
      "Don't Be so Hard on Yourself\n",
      "Steal My Girl\n",
      "Celebrate (From the Original Motion Picture \"Penguins of Madagascar\")\n",
      "We Are Here\n",
      "St Jude\n",
      "Yesterday (feat. Bebe Rexha)\n",
      "Time of Our Lives\n",
      "Sparks\n",
      "Mr. Put It Down\n",
      "Legendary Lovers\n",
      "Spark The Fire\n",
      "Run Run Run\n",
      "Let Me Be Your Lover\n",
      "Dangerous\n",
      "L.A.LOVE (la la)\n",
      "The Hills\n",
      "Love Yourself\n",
      "Cake By The Ocean\n",
      "Don't Let Me Down\n",
      "In the Name of Love\n",
      "Into You\n",
      "This Is What You Came For\n",
      "Million Reasons\n",
      "Needed Me\n",
      "7 Years\n",
      "CAN'T STOP THE FEELING! (Original Song from DreamWorks Animation's \"TROLLS\")\n",
      "Work from Home (feat. Ty Dolla $ign)\n",
      "Scars To Your Beautiful\n",
      "Like I'm Gonna Lose You (feat. John Legend)\n",
      "Work\n",
      "Stitches\n",
      "Me, Myself & I\n",
      "I Took A Pill In Ibiza - Seeb Remix\n",
      "Dangerous Woman\n",
      "Starving\n",
      "Shout Out to My Ex\n",
      "Electric Love\n",
      "Confident\n",
      "Too Good\n",
      "Roses\n",
      "Cold Water (feat. Justin Bieber & MØ)\n",
      "Me Too\n",
      "Light It Up (feat. Nyla & Fuse ODG) [Remix]\n",
      "Ain't Your Mama\n",
      "Close\n",
      "Toothbrush\n",
      "All We Know\n",
      "Final Song\n",
      "Company\n",
      "Hands To Myself\n",
      "All I Ask\n",
      "Just Like Fire (From the Original Motion Picture \"Alice Through The Looking Glass\")\n",
      "NO\n",
      "Kill Em With Kindness\n",
      "Cool Girl\n",
      "Runnin' (Lose It All)\n",
      "Here\n",
      "Perfect Illusion\n",
      "PILLOWTALK\n",
      "Out Of The Woods\n",
      "Rise\n",
      "Wherever I Go\n",
      "Body Say\n",
      "Don't Be A Fool\n",
      "LIKE I WOULD\n",
      "Cheap Thrills\n",
      "I Got You\n",
      "Run Away With Me\n",
      "Cruel (feat. ZAYN)\n",
      "Send My Love (To Your New Lover)\n",
      "WTF (Where They From)\n",
      "Desire\n",
      "When We Were Young\n",
      "I Know What You Did Last Summer\n",
      "Wish That You Were Here - From Miss Peregrines Home for Peculiar Children Original Motion Picture\n",
      "Hurts\n",
      "Change\n",
      "Make Me... (feat. G-Eazy)\n",
      "Keeping Your Head Up\n",
      "True Colors\n",
      "Make Me Like You\n",
      "Champagne Problems\n",
      "Blown\n",
      "Start\n",
      "Pep Rally\n",
      "Higher\n",
      "Invitation\n",
      "One Call Away (feat. Tyga) - Remix\n",
      "Beautiful Birds (feat. Birdy)\n",
      "Little Lies\n",
      "Do You Wanna Come Over?\n",
      "BURNITUP!\n",
      "Picky - Remix\n",
      "Behind Your Back\n",
      "Million Years Ago\n",
      "Shape of You\n",
      "Closer\n",
      "Starboy\n",
      "Treat You Better\n",
      "That's What I Like\n",
      "Let Me Love You\n",
      "I Feel It Coming\n",
      "Mercy\n",
      "Side To Side\n",
      "Stay\n",
      "It Ain't Me (with Selena Gomez)\n",
      "Malibu\n",
      "Something Just Like This\n",
      "Rockabye (feat. Sean Paul & Anne-Marie)\n",
      "I Dont Wanna Live Forever (Fifty Shades Darker)\n",
      "My Way\n",
      "I'm the One (feat. Justin Bieber, Quavo, Chance the Rapper & Lil Wayne)\n",
      "Praying\n",
      "Despacito - Remix\n",
      "The Greatest\n",
      "There for You\n",
      "Paris\n",
      "Crying in the Club\n",
      "Mama\n",
      "Slide (feat. Frank Ocean & Migos)\n",
      "Swish Swish\n",
      "Chained To The Rhythm\n",
      "Cold (feat. Future)\n",
      "Love\n",
      "Reggaetón Lento (Remix)\n",
      "All I Ask\n",
      "First Time\n",
      "The Cure\n",
      "How Far I'll Go - From \"Moana\"\n",
      "Bodak Yellow\n",
      "Rich Love (with Seeb)\n",
      "Tired\n",
      "Came Here for Love\n",
      "24K Magic\n",
      "Strip That Down (feat. Quavo)\n",
      "Cut To The Feeling\n",
      "OK - Spotify Version\n",
      "Bon appétit\n",
      "Summer Bummer (feat. A$AP Rocky & Playboi Carti)\n",
      "Get Low (with Liam Payne)\n",
      "Kissing Strangers\n",
      "Slow Hands\n",
      "Younger Now\n",
      "Body Moves\n",
      "Reality (feat. Janieck Devy) - Radio Edit\n",
      "Angel\n",
      "Touch (feat. Kid Ink)\n",
      "We Don't Talk Anymore - DROELOE Remix\n",
      "Love Incredible (feat. Camila Cabello)\n",
      "No Vacancy (with Sebastián Yatra)\n",
      "Rich Boy\n",
      "Lust for Life (with The Weeknd)\n",
      "Greenlight (feat. Flo Rida & LunchMoney Lewis)\n",
      "Influence\n",
      "Remember I Told You\n",
      "Messin' Around\n",
      "Water Under the Bridge\n",
      "Free Me\n",
      "Kissing Strangers - Remix\n",
      "A L I E N S\n",
      "One Kiss (with Dua Lipa)\n",
      "Havana (feat. Young Thug)\n",
      "I Like It\n",
      "New Rules\n",
      "There's Nothing Holdin' Me Back\n",
      "no tears left to cry\n",
      "IDGAF\n",
      "In My Blood\n",
      "Wolves\n",
      "Dusk Till Dawn - Radio Edit\n",
      "Attention\n",
      "Electricity (with Dua Lipa)\n",
      "Love On The Brain\n",
      "Let Me Go (with Alesso, Florida Georgia Line & watt)\n",
      "Silence\n",
      "Sorry Not Sorry\n",
      "Shallow - Radio Edit\n",
      "These Days\n",
      "What Lovers Do (feat. SZA)\n",
      "Finesse - Remix; feat. Cardi B\n",
      "Perfect Duet (Ed Sheeran & Beyoncé)\n",
      "Bad At Love\n",
      "Him & I (with Halsey)\n",
      "Friends (with BloodPop®)\n",
      "Wild Thoughts (feat. Rihanna & Bryson Tiller)\n",
      "My My My!\n",
      "Capital Letters\n",
      "Sick Boy\n",
      "Tequila\n",
      "Look What You Made Me Do\n",
      "Youth (feat. Khalid)\n",
      "Bad Liar\n",
      "Anywhere\n",
      "Say Something\n",
      "Chun-Li\n",
      "Sign of the Times\n",
      "Familiar\n",
      "Let Me\n",
      "Supernova\n",
      "Nervous\n",
      "First Time\n",
      "End Game\n",
      "Mi Gente (feat. Beyoncé)\n",
      "Lemon\n",
      "For You (With Rita Ora)\n",
      "Want To\n",
      "What I Need (feat. Kehlani)\n",
      "Wait\n",
      "What About Us\n",
      "Kissing Strangers\n",
      "2U (feat. Justin Bieber)\n",
      "Walk On Water (feat. Beyoncé)\n",
      "This Town\n",
      "Girls (feat. Cardi B, Bebe Rexha & Charli XCX)\n",
      "MOVE TO MIAMI\n",
      "Miss You (with Major Lazer & Tory Lanez)\n",
      "Filthy\n",
      "Never Be the Same - Radio Edit\n",
      "Ferrari\n",
      "Supplies\n",
      "Boom Boom\n",
      "...Ready For It? - BloodPop® Remix\n",
      "Drip (feat. Migos)\n",
      "Tell Me You Love Me - NOTD Remix\n",
      "Memories\n",
      "Lose You To Love Me\n",
      "Someone You Loved\n",
      "Señorita\n",
      "How Do You Sleep?\n",
      "South of the Border (feat. Camila Cabello & Cardi B)\n",
      "Trampoline (with ZAYN)\n",
      "Happier\n",
      "Truth Hurts\n",
      "Good as Hell (feat. Ariana Grande) - Remix\n",
      "Higher Love\n",
      "Only Human\n",
      "Beautiful People (feat. Khalid)\n",
      "Sucker\n",
      "Don't Call Me Up\n",
      "I Don't Care (with Justin Bieber)\n",
      "Talk (feat. Disclosure)\n",
      "Giant (with Rag'n'Bone Man)\n",
      "Takeaway\n",
      "All Around The World (La La La)\n",
      "Girls Like You (feat. Cardi B)\n",
      "Call You Mine\n",
      "No Guidance (feat. Drake)\n",
      "Antisocial (with Travis Scott)\n",
      "Taki Taki (feat. Selena Gomez, Ozuna & Cardi B)\n",
      "Con Calma - Remix\n",
      "Find U Again (feat. Camila Cabello)\n",
      "Cross Me (feat. Chance the Rapper & PnB Rock)\n",
      "No Brainer (feat. Justin Bieber, Chance the Rapper & Quavo)\n",
      "Nothing Breaks Like a Heart (feat. Miley Cyrus)\n",
      "Kills You Slowly\n"
     ]
    }
   ],
   "source": [
    "for row in df.iterrows():\n",
    "    print(row[1][\"title\"])"
   ]
  },
  {
   "cell_type": "markdown",
   "metadata": {},
   "source": [
    "**Ejemplo 11** Utilizar iterrows para encontrar el título de la canción  con más bpm.\n",
    "\n",
    "Idea: usar una variable bpm que lleve el máximo hasta el momento y otra título con el título del máximo hasta el momento, e ir actualizando ambas variables"
   ]
  },
  {
   "cell_type": "code",
   "execution_count": null,
   "metadata": {},
   "outputs": [],
   "source": []
  },
  {
   "cell_type": "code",
   "execution_count": null,
   "metadata": {},
   "outputs": [],
   "source": [
    "## Y ahora sin iterrows..."
   ]
  },
  {
   "cell_type": "markdown",
   "metadata": {
    "id": "MWJxWvDwES33"
   },
   "source": [
    "## Índices"
   ]
  },
  {
   "cell_type": "markdown",
   "metadata": {
    "id": "RrsilsIcES33"
   },
   "source": [
    "Ya hemos visto unas cuantas cosas sobre los índices\n",
    "\n",
    "- Se usan para referenciar fila\n",
    "- Se puede acceder con loc\n",
    "- Hay índices de tipos diversos\n",
    "\n",
    "Algunas cosas nuevas:\n",
    "\n"
   ]
  },
  {
   "cell_type": "code",
   "execution_count": 59,
   "metadata": {
    "id": "Fyn_XKQ-ES33"
   },
   "outputs": [],
   "source": [
    "import pandas as pd\n",
    "import numpy as np\n",
    "data = [[1,2,3,4,5,6,7],\n",
    "        [1,2,0,0,0,6,7],\n",
    "        [1,2,0,0,0,6,7],\n",
    "        [1,2,0,0,0,6,7],\n",
    "        [1,2,3,4,5,6,7],\n",
    "       ]\n",
    "df1 = pd.DataFrame(data, columns=[chr(ord('a')+i) for i in range(len(data[0]))],\n",
    "               index = ['i'+chr(ord('a')+i) for i in range(len(data))])\n",
    "df2 = pd.DataFrame(data, columns=[chr(ord('a')+i) for i in range(len(data[0]))],\n",
    "               index = [i-1 for i in range(len(data),0,-1)])\n",
    "df3 = pd.DataFrame(data, columns=[chr(ord('a')+i) for i in range(len(data[0]))],\n",
    "               index = [np.random.randint(3) for i in range(len(data),0,-1)])\n"
   ]
  },
  {
   "cell_type": "code",
   "execution_count": null,
   "metadata": {
    "id": "2M4IeHD4ES33"
   },
   "outputs": [],
   "source": [
    "print(df1,df2,df3,sep=\"\\n\")"
   ]
  },
  {
   "cell_type": "markdown",
   "metadata": {
    "id": "d9Zbk_DkES33"
   },
   "source": [
    "A menudo interesa asegurarse de si es monótono creciente."
   ]
  },
  {
   "cell_type": "code",
   "execution_count": null,
   "metadata": {
    "id": "qU8la-mXES34"
   },
   "outputs": [],
   "source": [
    "df1.index.is_monotonic, df2.index.is_monotonic, df3.index.is_monotonic"
   ]
  },
  {
   "cell_type": "markdown",
   "metadata": {
    "id": "y0QWrzL3ES34"
   },
   "source": [
    "También de si hay valores repetidos"
   ]
  },
  {
   "cell_type": "code",
   "execution_count": null,
   "metadata": {
    "id": "i3wjc9MqES34"
   },
   "outputs": [],
   "source": [
    "df1.index.is_unique, df2.index.is_unique, df3.index.is_unique"
   ]
  },
  {
   "cell_type": "markdown",
   "metadata": {
    "id": "79-c0uoqES34"
   },
   "source": [
    "En caso de que no sea único podemos querer obtener los valores distintos"
   ]
  },
  {
   "cell_type": "code",
   "execution_count": null,
   "metadata": {
    "id": "HHMnQjSFES34"
   },
   "outputs": [],
   "source": [
    "df3.index.unique()"
   ]
  },
  {
   "cell_type": "markdown",
   "metadata": {
    "id": "VAY23XcwES34"
   },
   "source": [
    "Una de las operaciones más básicas, que haremos a menudo es reindexar:"
   ]
  },
  {
   "cell_type": "code",
   "execution_count": null,
   "metadata": {
    "id": "JwRds067ES35"
   },
   "outputs": [],
   "source": [
    "\n",
    "df4 = df2.reindex([1,2,3,4,5])\n",
    "df4\n"
   ]
  },
  {
   "cell_type": "markdown",
   "metadata": {
    "id": "cp1lzMzTES35"
   },
   "source": [
    "- ¿Por qué necesitamos hacer df4 y no queda modificado df2? Porque los índices son inmutables. Para que se cambie en el propio DataFram usar el argumento `inplace=True`\n",
    "\n",
    "- ¿Por qué aparecen los NaN? (pensar...)\n"
   ]
  },
  {
   "cell_type": "code",
   "execution_count": null,
   "metadata": {
    "id": "KXJzHM3dES35"
   },
   "outputs": [],
   "source": [
    "df4 = df2.reindex([1,2,3,4,5],fill_value=0)\n",
    "df4"
   ]
  },
  {
   "cell_type": "markdown",
   "metadata": {
    "id": "M8KRR5fCES35"
   },
   "source": [
    "También vale para columnas"
   ]
  },
  {
   "cell_type": "code",
   "execution_count": null,
   "metadata": {
    "id": "YYJu6sIzES35"
   },
   "outputs": [],
   "source": [
    "df4 = df2.reindex(columns=[1,2,3,4,5],fill_value=-1)\n",
    "df4"
   ]
  },
  {
   "cell_type": "markdown",
   "metadata": {
    "id": "QaIsieKfES36"
   },
   "source": [
    "Esto es un poco desastre. ¿No podemos solo cambiar los índices sin cargarnos todo? La solución es `reset_index()`"
   ]
  },
  {
   "cell_type": "code",
   "execution_count": null,
   "metadata": {
    "id": "ZYH0UHN0ES36"
   },
   "outputs": [],
   "source": [
    "df2 = DataFrame(data, columns=[chr(ord('a')+i) for i in range(len(data[0]))],\n",
    "               index = [i-1 for i in range(len(data),0,-1)])\n",
    "df2"
   ]
  },
  {
   "cell_type": "code",
   "execution_count": null,
   "metadata": {
    "id": "UaHLod6rES36"
   },
   "outputs": [],
   "source": [
    "df2.reset_index(inplace=True)\n",
    "df2"
   ]
  },
  {
   "cell_type": "markdown",
   "metadata": {
    "id": "e6hYgsN_ES36"
   },
   "source": [
    "El índice se 'guarda' en una columna `index`. Se puede evitar utilizando `drop=True`"
   ]
  },
  {
   "cell_type": "code",
   "execution_count": 7,
   "metadata": {
    "id": "ScQGWTagES36"
   },
   "outputs": [
    {
     "data": {
      "text/html": [
       "<div>\n",
       "<style scoped>\n",
       "    .dataframe tbody tr th:only-of-type {\n",
       "        vertical-align: middle;\n",
       "    }\n",
       "\n",
       "    .dataframe tbody tr th {\n",
       "        vertical-align: top;\n",
       "    }\n",
       "\n",
       "    .dataframe thead th {\n",
       "        text-align: right;\n",
       "    }\n",
       "</style>\n",
       "<table border=\"1\" class=\"dataframe\">\n",
       "  <thead>\n",
       "    <tr style=\"text-align: right;\">\n",
       "      <th></th>\n",
       "      <th>a</th>\n",
       "      <th>b</th>\n",
       "      <th>c</th>\n",
       "      <th>d</th>\n",
       "      <th>e</th>\n",
       "      <th>f</th>\n",
       "      <th>g</th>\n",
       "    </tr>\n",
       "  </thead>\n",
       "  <tbody>\n",
       "    <tr>\n",
       "      <th>0</th>\n",
       "      <td>1</td>\n",
       "      <td>2</td>\n",
       "      <td>3</td>\n",
       "      <td>4</td>\n",
       "      <td>5</td>\n",
       "      <td>6</td>\n",
       "      <td>7</td>\n",
       "    </tr>\n",
       "    <tr>\n",
       "      <th>1</th>\n",
       "      <td>1</td>\n",
       "      <td>2</td>\n",
       "      <td>0</td>\n",
       "      <td>0</td>\n",
       "      <td>0</td>\n",
       "      <td>6</td>\n",
       "      <td>7</td>\n",
       "    </tr>\n",
       "    <tr>\n",
       "      <th>2</th>\n",
       "      <td>1</td>\n",
       "      <td>2</td>\n",
       "      <td>0</td>\n",
       "      <td>0</td>\n",
       "      <td>0</td>\n",
       "      <td>6</td>\n",
       "      <td>7</td>\n",
       "    </tr>\n",
       "    <tr>\n",
       "      <th>3</th>\n",
       "      <td>1</td>\n",
       "      <td>2</td>\n",
       "      <td>0</td>\n",
       "      <td>0</td>\n",
       "      <td>0</td>\n",
       "      <td>6</td>\n",
       "      <td>7</td>\n",
       "    </tr>\n",
       "    <tr>\n",
       "      <th>4</th>\n",
       "      <td>1</td>\n",
       "      <td>2</td>\n",
       "      <td>3</td>\n",
       "      <td>4</td>\n",
       "      <td>5</td>\n",
       "      <td>6</td>\n",
       "      <td>7</td>\n",
       "    </tr>\n",
       "  </tbody>\n",
       "</table>\n",
       "</div>"
      ],
      "text/plain": [
       "   a  b  c  d  e  f  g\n",
       "0  1  2  3  4  5  6  7\n",
       "1  1  2  0  0  0  6  7\n",
       "2  1  2  0  0  0  6  7\n",
       "3  1  2  0  0  0  6  7\n",
       "4  1  2  3  4  5  6  7"
      ]
     },
     "execution_count": 7,
     "metadata": {},
     "output_type": "execute_result"
    }
   ],
   "source": [
    "from pandas import DataFrame\n",
    "data = [[1,2,3,4,5,6,7],\n",
    "        [1,2,0,0,0,6,7],\n",
    "        [1,2,0,0,0,6,7],\n",
    "        [1,2,0,0,0,6,7],\n",
    "        [1,2,3,4,5,6,7],\n",
    "       ]\n",
    "df2 = DataFrame(data, columns=[chr(ord('a')+i) for i in range(len(data[0]))],\n",
    "               index = [i-1 for i in range(len(data),0,-1)])\n",
    "df2.reset_index(drop=True, inplace=True)\n",
    "df2"
   ]
  },
  {
   "cell_type": "markdown",
   "metadata": {
    "id": "6cHaepkuES36"
   },
   "source": [
    "Si no se quiere que el índice empiece en 0, ni tampoco que se pierda información, se puede acceder directamente a .index o a .columns"
   ]
  },
  {
   "cell_type": "code",
   "execution_count": 8,
   "metadata": {
    "id": "ngCQZS0lES37"
   },
   "outputs": [
    {
     "data": {
      "text/html": [
       "<div>\n",
       "<style scoped>\n",
       "    .dataframe tbody tr th:only-of-type {\n",
       "        vertical-align: middle;\n",
       "    }\n",
       "\n",
       "    .dataframe tbody tr th {\n",
       "        vertical-align: top;\n",
       "    }\n",
       "\n",
       "    .dataframe thead th {\n",
       "        text-align: right;\n",
       "    }\n",
       "</style>\n",
       "<table border=\"1\" class=\"dataframe\">\n",
       "  <thead>\n",
       "    <tr style=\"text-align: right;\">\n",
       "      <th></th>\n",
       "      <th>a</th>\n",
       "      <th>b</th>\n",
       "      <th>c</th>\n",
       "      <th>d</th>\n",
       "      <th>e</th>\n",
       "      <th>f</th>\n",
       "      <th>g</th>\n",
       "    </tr>\n",
       "  </thead>\n",
       "  <tbody>\n",
       "    <tr>\n",
       "      <th>a</th>\n",
       "      <td>1</td>\n",
       "      <td>2</td>\n",
       "      <td>3</td>\n",
       "      <td>4</td>\n",
       "      <td>5</td>\n",
       "      <td>6</td>\n",
       "      <td>7</td>\n",
       "    </tr>\n",
       "    <tr>\n",
       "      <th>b</th>\n",
       "      <td>1</td>\n",
       "      <td>2</td>\n",
       "      <td>0</td>\n",
       "      <td>0</td>\n",
       "      <td>0</td>\n",
       "      <td>6</td>\n",
       "      <td>7</td>\n",
       "    </tr>\n",
       "    <tr>\n",
       "      <th>c</th>\n",
       "      <td>1</td>\n",
       "      <td>2</td>\n",
       "      <td>0</td>\n",
       "      <td>0</td>\n",
       "      <td>0</td>\n",
       "      <td>6</td>\n",
       "      <td>7</td>\n",
       "    </tr>\n",
       "    <tr>\n",
       "      <th>d</th>\n",
       "      <td>1</td>\n",
       "      <td>2</td>\n",
       "      <td>0</td>\n",
       "      <td>0</td>\n",
       "      <td>0</td>\n",
       "      <td>6</td>\n",
       "      <td>7</td>\n",
       "    </tr>\n",
       "    <tr>\n",
       "      <th>e</th>\n",
       "      <td>1</td>\n",
       "      <td>2</td>\n",
       "      <td>3</td>\n",
       "      <td>4</td>\n",
       "      <td>5</td>\n",
       "      <td>6</td>\n",
       "      <td>7</td>\n",
       "    </tr>\n",
       "  </tbody>\n",
       "</table>\n",
       "</div>"
      ],
      "text/plain": [
       "   a  b  c  d  e  f  g\n",
       "a  1  2  3  4  5  6  7\n",
       "b  1  2  0  0  0  6  7\n",
       "c  1  2  0  0  0  6  7\n",
       "d  1  2  0  0  0  6  7\n",
       "e  1  2  3  4  5  6  7"
      ]
     },
     "execution_count": 8,
     "metadata": {},
     "output_type": "execute_result"
    }
   ],
   "source": [
    "df2.index = ['a','b','c','d','e']\n",
    "df2"
   ]
  },
  {
   "cell_type": "code",
   "execution_count": 12,
   "metadata": {},
   "outputs": [
    {
     "data": {
      "text/html": [
       "<div>\n",
       "<style scoped>\n",
       "    .dataframe tbody tr th:only-of-type {\n",
       "        vertical-align: middle;\n",
       "    }\n",
       "\n",
       "    .dataframe tbody tr th {\n",
       "        vertical-align: top;\n",
       "    }\n",
       "\n",
       "    .dataframe thead th {\n",
       "        text-align: right;\n",
       "    }\n",
       "</style>\n",
       "<table border=\"1\" class=\"dataframe\">\n",
       "  <thead>\n",
       "    <tr style=\"text-align: right;\">\n",
       "      <th></th>\n",
       "      <th>a</th>\n",
       "      <th>b</th>\n",
       "      <th>c</th>\n",
       "      <th>d</th>\n",
       "      <th>e</th>\n",
       "      <th>f</th>\n",
       "      <th>g</th>\n",
       "    </tr>\n",
       "  </thead>\n",
       "  <tbody>\n",
       "    <tr>\n",
       "      <th>a</th>\n",
       "      <td>1</td>\n",
       "      <td>2</td>\n",
       "      <td>3</td>\n",
       "      <td>4</td>\n",
       "      <td>5</td>\n",
       "      <td>6</td>\n",
       "      <td>7</td>\n",
       "    </tr>\n",
       "  </tbody>\n",
       "</table>\n",
       "</div>"
      ],
      "text/plain": [
       "   a  b  c  d  e  f  g\n",
       "a  1  2  3  4  5  6  7"
      ]
     },
     "execution_count": 12,
     "metadata": {},
     "output_type": "execute_result"
    }
   ],
   "source": [
    "df2[df2.index=='a']"
   ]
  },
  {
   "cell_type": "code",
   "execution_count": 13,
   "metadata": {},
   "outputs": [
    {
     "data": {
      "text/plain": [
       "a    1\n",
       "b    2\n",
       "c    3\n",
       "d    4\n",
       "e    5\n",
       "f    6\n",
       "g    7\n",
       "Name: a, dtype: int64"
      ]
     },
     "execution_count": 13,
     "metadata": {},
     "output_type": "execute_result"
    }
   ],
   "source": [
    "df2.loc['a']"
   ]
  },
  {
   "cell_type": "markdown",
   "metadata": {
    "id": "1j0A-TJAES37"
   },
   "source": [
    "Si se accede directamente a `index` se deben poner tantos elementos como filas hay, si no se obtendrá un error"
   ]
  },
  {
   "cell_type": "code",
   "execution_count": null,
   "metadata": {
    "id": "Y_NlpC_6ES37"
   },
   "outputs": [],
   "source": [
    "df2.index = ['a','b','c','d']"
   ]
  },
  {
   "cell_type": "markdown",
   "metadata": {
    "id": "w-Ua8nWlES37"
   },
   "source": [
    "**Ej.** Queremos sumar dos series:"
   ]
  },
  {
   "cell_type": "code",
   "execution_count": null,
   "metadata": {
    "id": "ri4rRNyLES37"
   },
   "outputs": [],
   "source": [
    "a = Series([1,2,3,4],['a','b','c','d'])\n",
    "b = Series([1,2,3,4],[10,20,30,40])"
   ]
  },
  {
   "cell_type": "markdown",
   "metadata": {
    "id": "KlD0DaI9ES38"
   },
   "source": [
    "Sin embargo:"
   ]
  },
  {
   "cell_type": "code",
   "execution_count": null,
   "metadata": {
    "id": "YHuA2_uVES38"
   },
   "outputs": [],
   "source": [
    "a+b"
   ]
  },
  {
   "cell_type": "markdown",
   "metadata": {
    "id": "7F1XA1VrES38"
   },
   "source": [
    "¿qué podemos hacer?"
   ]
  },
  {
   "cell_type": "code",
   "execution_count": null,
   "metadata": {
    "id": "aUnBksuMES38"
   },
   "outputs": [],
   "source": [
    "a.reset_index(drop=True)+b.reset_index(drop=True)"
   ]
  },
  {
   "cell_type": "markdown",
   "metadata": {
    "id": "_K4wdgRQES38"
   },
   "source": [
    "Se pueden eliminar filas a partir del índice con drop()"
   ]
  },
  {
   "cell_type": "code",
   "execution_count": null,
   "metadata": {
    "id": "RxougHE0ES38"
   },
   "outputs": [],
   "source": [
    "c = a.reset_index(drop=True)+b.reset_index(drop=True)\n",
    "print(c,type(c))\n",
    "d = c.drop([1,2])\n",
    "print(d)"
   ]
  },
  {
   "cell_type": "code",
   "execution_count": null,
   "metadata": {
    "id": "tyCQTZn1ES39"
   },
   "outputs": [],
   "source": [
    "df = DataFrame(np.arange(16).reshape((4, 4)), \n",
    "               columns=['c'+str(i) for i in range(4)],\n",
    "               index = ['f'+str(i) for i in range(4)])\n",
    "df"
   ]
  },
  {
   "cell_type": "code",
   "execution_count": null,
   "metadata": {
    "id": "skxZT64HES39"
   },
   "outputs": [],
   "source": [
    "df.drop(['c1','c2'],axis=1,inplace=True)\n",
    "df"
   ]
  },
  {
   "cell_type": "code",
   "execution_count": null,
   "metadata": {
    "id": "KliUKk1QES39"
   },
   "outputs": [],
   "source": [
    "df = DataFrame(np.arange(16).reshape((4, 4)), \n",
    "               columns=['c'+str(i) for i in range(4)],\n",
    "               index = ['f'+str(i) for i in range(4)])\n",
    "df.drop(['f1','f2'],axis=0,inplace=True)\n",
    "df"
   ]
  },
  {
   "cell_type": "markdown",
   "metadata": {
    "id": "lsrhU1QcES39"
   },
   "source": [
    "Como ya hemos visto las operaciones aritméticas utilizan los índices comunes. Esto vale tanto para filas como para columnas"
   ]
  },
  {
   "cell_type": "code",
   "execution_count": null,
   "metadata": {
    "id": "v4HvamE1ES39"
   },
   "outputs": [],
   "source": [
    "df1 = DataFrame(np.arange(12.).reshape((3, 4)), columns=list('abcd'))\n",
    "df2 = DataFrame(np.arange(20.).reshape((4, 5)), columns=list('abcde'))\n",
    "\n",
    "print(df1)\n",
    "print(df2)"
   ]
  },
  {
   "cell_type": "code",
   "execution_count": null,
   "metadata": {
    "id": "bQI7vKChES39"
   },
   "outputs": [],
   "source": [
    "df1+df2"
   ]
  },
  {
   "cell_type": "markdown",
   "metadata": {
    "id": "l3vNNJY4ES3-"
   },
   "source": [
    "Para evitarlo se puede añadir 0 para evitar el valor `NaN`"
   ]
  },
  {
   "cell_type": "code",
   "execution_count": null,
   "metadata": {
    "id": "oM_gSVC9ES3-"
   },
   "outputs": [],
   "source": [
    "df1.add(df2,fill_value=0)"
   ]
  },
  {
   "cell_type": "markdown",
   "metadata": {
    "id": "QpiIKIAoES3-"
   },
   "source": [
    "Análogamente existen funciones `add`, `sub`, `div`, `mul`\n",
    "\n",
    "La siguiente operación ya no debe sorprendernos:"
   ]
  },
  {
   "cell_type": "code",
   "execution_count": null,
   "metadata": {
    "id": "7A-JtfLzES3-"
   },
   "outputs": [],
   "source": [
    "f = df1.loc[1,:]\n",
    "print(df1,\"\\n\",f,\"\\n\",df1-f,sep=\"\")\n",
    "\n"
   ]
  },
  {
   "cell_type": "markdown",
   "metadata": {
    "id": "lYyK0Ip2ES3-"
   },
   "source": [
    "Si lo que queremos es restar sobre las columnas"
   ]
  },
  {
   "cell_type": "code",
   "execution_count": null,
   "metadata": {
    "id": "5ksq-Zc3ES3-"
   },
   "outputs": [],
   "source": [
    "f.index = range(len(f))\n",
    "df1.sub(f,axis=0)"
   ]
  },
  {
   "cell_type": "markdown",
   "metadata": {
    "id": "TZu7EVk4ES3_"
   },
   "source": [
    "Si lo que se quiere es ordenar los índices, no cambiarlo, se puede utilizar `sort_index()`"
   ]
  },
  {
   "cell_type": "code",
   "execution_count": null,
   "metadata": {
    "id": "qGsbjNK6ES3_"
   },
   "outputs": [],
   "source": [
    "df1 = DataFrame(np.arange(12.).reshape((3, 4)), \n",
    "                columns=list('dfab'),index=list('431'))\n",
    "df1"
   ]
  },
  {
   "cell_type": "code",
   "execution_count": null,
   "metadata": {
    "id": "2HBJidnMES3_"
   },
   "outputs": [],
   "source": [
    "df1.sort_index(inplace=True)\n",
    "df1"
   ]
  },
  {
   "cell_type": "code",
   "execution_count": null,
   "metadata": {
    "id": "a4_Xht--ES4D"
   },
   "outputs": [],
   "source": []
  }
 ],
 "metadata": {
  "colab": {
   "name": "5dataframes.ipynb",
   "provenance": []
  },
  "kernelspec": {
   "display_name": "Python 3",
   "language": "python",
   "name": "python3"
  },
  "language_info": {
   "codemirror_mode": {
    "name": "ipython",
    "version": 3
   },
   "file_extension": ".py",
   "mimetype": "text/x-python",
   "name": "python",
   "nbconvert_exporter": "python",
   "pygments_lexer": "ipython3",
   "version": "3.8.5"
  }
 },
 "nbformat": 4,
 "nbformat_minor": 1
}
