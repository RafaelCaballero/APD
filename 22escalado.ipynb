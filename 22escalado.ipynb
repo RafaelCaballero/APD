{
 "cells": [
  {
   "cell_type": "markdown",
   "id": "42fa765a",
   "metadata": {},
   "source": [
    "## Adquisición y preprocesamiento de la información - RafaC\n",
    "\n",
    "<table>\n",
    "    <tr>\n",
    "      <td>Grado en Ingeniería de Datos e Inteligencia Artificial - Facultad de Informática - UCM\n",
    "      </td>\n",
    "      <td>\n",
    "      <img src=\"https://biblioteca.ucm.es/data/cont/media/www/pag-88746//escudo.jpg\"  width=50/>\n",
    "      </td>\n",
    "     </tr>\n",
    "</table>\n",
    "\n",
    "\n",
    "\n",
    "\n",
    "# Escalado: estandarización y normalización\n",
    "\n",
    "### Índice\n",
    "[Ejemplo](#ejemplo)<br>\n",
    "[Estandarización](#estandarización)<br>\n",
    "[Normalización](#normalización)<br>\n",
    "[Otros normalizadores](#otros)<br>\n",
    "\n",
    "<a name=\"ejemplo\"></a>\n",
    "#### Ejemplo\n",
    "\n",
    "Tenemos datos de altura y número de zapato de unas cuantas personas"
   ]
  },
  {
   "cell_type": "code",
   "execution_count": 52,
   "id": "6c861d04",
   "metadata": {},
   "outputs": [
    {
     "data": {
      "text/plain": [
       "array([[<AxesSubplot: title={'center': 'alto'}>,\n",
       "        <AxesSubplot: title={'center': 'pie'}>]], dtype=object)"
      ]
     },
     "execution_count": 52,
     "metadata": {},
     "output_type": "execute_result"
    },
    {
     "data": {
      "image/png": "[encoded data removed]",
      "text/plain": [
       "<Figure size 640x480 with 2 Axes>"
      ]
     },
     "metadata": {},
     "output_type": "display_data"
    }
   ],
   "source": [
    "import statistics as s\n",
    "import numpy as np\n",
    "import pandas as pd\n",
    "\n",
    "size = 100\n",
    "n = s.NormalDist(mu=1.76, sigma=0.16) # generador de números siguiendo una normal N(1.76,0.16)\n",
    "altura = n.samples(size,seed=3)  \n",
    "altura = np.array(altura).round(4)\n",
    "n2 = s.NormalDist(mu=40, sigma=3.2) # generador de números siguiendo una normal N(40,3.2)\n",
    "zapato = n2.samples(size,seed=30) \n",
    "zapato = np.array(zapato).round(2)\n",
    "\n",
    "df = pd.DataFrame({\"alto\":altura,\"pie\":zapato})\n",
    "\n",
    "df.hist()               \n"
   ]
  },
  {
   "cell_type": "code",
   "execution_count": 53,
   "id": "06b4c541",
   "metadata": {},
   "outputs": [
    {
     "data": {
      "text/plain": [
       "array([1.7752, 1.96  , 1.611 , 1.9188, 1.7185, 1.7182, 2.064 , 1.7852,\n",
       "       1.7531, 1.8767, 1.9403, 1.7551, 1.8541, 1.6042, 1.7013, 1.6899,\n",
       "       1.5468, 1.5186, 1.4997, 1.7218, 1.7324, 1.7087, 1.7711, 1.5463,\n",
       "       1.7473, 1.7981, 1.8802, 1.6246, 1.696 , 1.4376, 1.6794, 1.4085,\n",
       "       1.5329, 1.9362, 1.4077, 1.8878, 1.8125, 1.71  , 1.8335, 1.8444,\n",
       "       1.9273, 1.7231, 1.6652, 1.6633, 1.6022, 1.7528, 1.6343, 1.931 ,\n",
       "       1.4609, 1.585 , 1.6075, 1.4251, 2.0644, 1.3747, 1.7147, 1.676 ,\n",
       "       2.0249, 1.4423, 1.9315, 1.643 , 1.7352, 1.6526, 1.8625, 1.578 ,\n",
       "       1.7474, 1.8165, 2.0544, 1.3752, 2.004 , 1.9117, 1.6826, 1.8088,\n",
       "       1.6854, 2.0235, 1.7935, 1.7255, 1.7235, 1.728 , 1.7317, 1.6194,\n",
       "       2.0893, 1.4542, 1.1831, 1.7403, 1.7365, 1.8196, 1.7273, 1.7363,\n",
       "       1.8132, 1.9149, 1.6883, 1.7003, 2.0705, 1.8448, 1.6023, 2.1318,\n",
       "       1.8841, 1.6658, 1.5721, 1.8077])"
      ]
     },
     "execution_count": 53,
     "metadata": {},
     "output_type": "execute_result"
    }
   ],
   "source": [
    "altura"
   ]
  },
  {
   "cell_type": "code",
   "execution_count": 54,
   "id": "df6fa642",
   "metadata": {},
   "outputs": [
    {
     "data": {
      "text/plain": [
       "array([37.44, 39.36, 44.58, 40.87, 40.61, 42.39, 36.34, 42.76, 43.55,\n",
       "       39.75, 50.01, 39.59, 40.06, 41.24, 43.3 , 45.19, 34.21, 35.81,\n",
       "       44.59, 39.19, 38.83, 39.74, 45.73, 40.85, 37.44, 35.21, 35.61,\n",
       "       38.08, 35.63, 34.8 , 42.85, 42.41, 37.81, 45.61, 41.75, 38.3 ,\n",
       "       42.09, 41.16, 37.83, 45.04, 35.51, 42.86, 38.77, 43.7 , 41.79,\n",
       "       44.24, 33.65, 39.48, 43.68, 38.77, 46.85, 43.13, 43.41, 38.77,\n",
       "       32.6 , 40.67, 39.94, 42.46, 38.38, 35.48, 37.65, 34.47, 36.67,\n",
       "       39.74, 40.34, 42.19, 37.67, 42.48, 39.71, 35.56, 36.88, 39.79,\n",
       "       37.79, 37.77, 41.35, 35.6 , 38.95, 37.09, 34.92, 39.43, 43.78,\n",
       "       38.94, 37.89, 44.42, 42.11, 41.97, 43.97, 40.83, 39.92, 43.19,\n",
       "       41.06, 35.58, 43.37, 40.8 , 45.95, 40.25, 33.76, 40.14, 39.45,\n",
       "       45.93])"
      ]
     },
     "execution_count": 54,
     "metadata": {},
     "output_type": "execute_result"
    }
   ],
   "source": [
    "zapato"
   ]
  },
  {
   "cell_type": "markdown",
   "id": "b6e1c299",
   "metadata": {},
   "source": [
    "Los datos no son nada \"reales\" (¿por qué?) pero nos valen para un experimento sencillo"
   ]
  },
  {
   "cell_type": "code",
   "execution_count": 55,
   "id": "dd26e88c",
   "metadata": {},
   "outputs": [
    {
     "data": {
      "text/html": [
       "<div>\n",
       "<style scoped>\n",
       "    .dataframe tbody tr th:only-of-type {\n",
       "        vertical-align: middle;\n",
       "    }\n",
       "\n",
       "    .dataframe tbody tr th {\n",
       "        vertical-align: top;\n",
       "    }\n",
       "\n",
       "    .dataframe thead th {\n",
       "        text-align: right;\n",
       "    }\n",
       "</style>\n",
       "<table border=\"1\" class=\"dataframe\">\n",
       "  <thead>\n",
       "    <tr style=\"text-align: right;\">\n",
       "      <th></th>\n",
       "      <th>alto</th>\n",
       "      <th>pie</th>\n",
       "    </tr>\n",
       "  </thead>\n",
       "  <tbody>\n",
       "    <tr>\n",
       "      <th>82</th>\n",
       "      <td>1.1831</td>\n",
       "      <td>37.89</td>\n",
       "    </tr>\n",
       "    <tr>\n",
       "      <th>31</th>\n",
       "      <td>1.4085</td>\n",
       "      <td>42.41</td>\n",
       "    </tr>\n",
       "    <tr>\n",
       "      <th>57</th>\n",
       "      <td>1.4423</td>\n",
       "      <td>42.46</td>\n",
       "    </tr>\n",
       "    <tr>\n",
       "      <th>55</th>\n",
       "      <td>1.6760</td>\n",
       "      <td>40.67</td>\n",
       "    </tr>\n",
       "    <tr>\n",
       "      <th>72</th>\n",
       "      <td>1.6854</td>\n",
       "      <td>37.79</td>\n",
       "    </tr>\n",
       "    <tr>\n",
       "      <th>76</th>\n",
       "      <td>1.7235</td>\n",
       "      <td>38.95</td>\n",
       "    </tr>\n",
       "    <tr>\n",
       "      <th>78</th>\n",
       "      <td>1.7317</td>\n",
       "      <td>34.92</td>\n",
       "    </tr>\n",
       "    <tr>\n",
       "      <th>60</th>\n",
       "      <td>1.7352</td>\n",
       "      <td>37.65</td>\n",
       "    </tr>\n",
       "    <tr>\n",
       "      <th>83</th>\n",
       "      <td>1.7403</td>\n",
       "      <td>44.42</td>\n",
       "    </tr>\n",
       "    <tr>\n",
       "      <th>92</th>\n",
       "      <td>2.0705</td>\n",
       "      <td>43.37</td>\n",
       "    </tr>\n",
       "  </tbody>\n",
       "</table>\n",
       "</div>"
      ],
      "text/plain": [
       "      alto    pie\n",
       "82  1.1831  37.89\n",
       "31  1.4085  42.41\n",
       "57  1.4423  42.46\n",
       "55  1.6760  40.67\n",
       "72  1.6854  37.79\n",
       "76  1.7235  38.95\n",
       "78  1.7317  34.92\n",
       "60  1.7352  37.65\n",
       "83  1.7403  44.42\n",
       "92  2.0705  43.37"
      ]
     },
     "execution_count": 55,
     "metadata": {},
     "output_type": "execute_result"
    }
   ],
   "source": [
    "df.sample(10).sort_values(by=[\"alto\"])"
   ]
  },
  {
   "cell_type": "markdown",
   "id": "31bb6548",
   "metadata": {},
   "source": [
    "Veamos si es normal, apuntada, simétrica, etc."
   ]
  },
  {
   "cell_type": "code",
   "execution_count": 56,
   "id": "c197840e",
   "metadata": {},
   "outputs": [],
   "source": [
    "from scipy.stats import normaltest\n",
    "from scipy.stats import skew,skewtest,kurtosis,kurtosistest\n",
    "\n",
    "def asimetría(x):\n",
    "    s = skew(x,nan_policy='omit')\n",
    "    e,p  = skewtest(x,nan_policy='omit')\n",
    "    msg = (\"Asimetría a la derecha \" if s > 0 else \"asimetría negativa\" ) if p<0.05 else \"no se puede descartar simetría\"\n",
    "    return s,e,p,msg\n",
    "\n",
    "def curtosis(x):\n",
    "    k = kurtosis(x,nan_policy='omit')\n",
    "    e,p  = kurtosistest(x,nan_policy='omit')\n",
    "    msg = (\"Leptocúrtica \" if k > 0 else \"platicúrtica\" ) if p<0.05 else \"no se puede descartar curtosis normal\"\n",
    "    return k,e,p,msg\n",
    "\n",
    "def normal(data):\n",
    "    k2, p = normaltest(data,nan_policy=\"omit\")\n",
    "    if p<0.05:\n",
    "        msg = \"Se rechaza H0: no sigue una distribución normal\"\n",
    "    else:    \n",
    "        msg = \"No se rechaza H0; no podemos descartar  una distribución normal\"\n",
    "    return msg,round(p,4),round(k2,4)"
   ]
  },
  {
   "cell_type": "code",
   "execution_count": 57,
   "id": "a9ec00b4",
   "metadata": {},
   "outputs": [
    {
     "name": "stdout",
     "output_type": "stream",
     "text": [
      "alto\n",
      "No se rechaza H0; no podemos descartar  una distribución normal 0.5561 1.1737\n",
      "(0.20806430241671459, 0.7445631729625118, 0.456535837933258, 'no se puede descartar curtosis normal')\n",
      "(-0.18231155598056784, -0.7869687716964887, 0.4313001471417156, 'no se puede descartar simetría')\n",
      "pie\n",
      "No se rechaza H0; no podemos descartar  una distribución normal 0.7758 0.5076\n",
      "(-0.35296820207172264, -0.5947739055322828, 0.5519946124588391, 'no se puede descartar curtosis normal')\n",
      "(0.09041098342882287, 0.392221123620988, 0.6948948376514785, 'no se puede descartar simetría')\n"
     ]
    }
   ],
   "source": [
    "cs = [\"alto\",\"pie\"]\n",
    "for c in cs:\n",
    "    print(c)\n",
    "    m,p,e = normal(df[c])\n",
    "    print(m,p,e)\n",
    "    if p>0.05:\n",
    "        print(curtosis(df[c]))\n",
    "        print(asimetría(df[c]))\n",
    "    "
   ]
  },
  {
   "cell_type": "markdown",
   "id": "ca24dbf2",
   "metadata": {},
   "source": [
    "Se trata de una normal \"normalísima\". Supongamos ahora que tenemos una actividad que requiere tener pie pequeño y bastante altura, digamos 36 de pie y 1.95 de altura. ¿Qué valores en df se acercan más a este estándar? Podemos utilizar la fórmula de la distancia para ello:\n",
    "\n",
    "$[(x_2 - x_1)^2 + (y_2 - y_1)^2]^{(\\frac{1}{2})}$"
   ]
  },
  {
   "cell_type": "code",
   "execution_count": 58,
   "id": "ca880a94",
   "metadata": {},
   "outputs": [
    {
     "data": {
      "text/html": [
       "<div>\n",
       "<style scoped>\n",
       "    .dataframe tbody tr th:only-of-type {\n",
       "        vertical-align: middle;\n",
       "    }\n",
       "\n",
       "    .dataframe tbody tr th {\n",
       "        vertical-align: top;\n",
       "    }\n",
       "\n",
       "    .dataframe thead th {\n",
       "        text-align: right;\n",
       "    }\n",
       "</style>\n",
       "<table border=\"1\" class=\"dataframe\">\n",
       "  <thead>\n",
       "    <tr style=\"text-align: right;\">\n",
       "      <th></th>\n",
       "      <th>alto</th>\n",
       "      <th>pie</th>\n",
       "      <th>dist</th>\n",
       "    </tr>\n",
       "  </thead>\n",
       "  <tbody>\n",
       "    <tr>\n",
       "      <th>6</th>\n",
       "      <td>2.0640</td>\n",
       "      <td>36.34</td>\n",
       "      <td>0.358603</td>\n",
       "    </tr>\n",
       "    <tr>\n",
       "      <th>26</th>\n",
       "      <td>1.8802</td>\n",
       "      <td>35.61</td>\n",
       "      <td>0.396197</td>\n",
       "    </tr>\n",
       "    <tr>\n",
       "      <th>69</th>\n",
       "      <td>1.9117</td>\n",
       "      <td>35.56</td>\n",
       "      <td>0.441664</td>\n",
       "    </tr>\n",
       "    <tr>\n",
       "      <th>28</th>\n",
       "      <td>1.6960</td>\n",
       "      <td>35.63</td>\n",
       "      <td>0.448794</td>\n",
       "    </tr>\n",
       "    <tr>\n",
       "      <th>75</th>\n",
       "      <td>1.7255</td>\n",
       "      <td>35.60</td>\n",
       "      <td>0.458694</td>\n",
       "    </tr>\n",
       "    <tr>\n",
       "      <th>...</th>\n",
       "      <td>...</td>\n",
       "      <td>...</td>\n",
       "      <td>...</td>\n",
       "    </tr>\n",
       "    <tr>\n",
       "      <th>22</th>\n",
       "      <td>1.7711</td>\n",
       "      <td>45.73</td>\n",
       "      <td>9.731645</td>\n",
       "    </tr>\n",
       "    <tr>\n",
       "      <th>99</th>\n",
       "      <td>1.8077</td>\n",
       "      <td>45.93</td>\n",
       "      <td>9.931020</td>\n",
       "    </tr>\n",
       "    <tr>\n",
       "      <th>94</th>\n",
       "      <td>1.6023</td>\n",
       "      <td>45.95</td>\n",
       "      <td>9.956073</td>\n",
       "    </tr>\n",
       "    <tr>\n",
       "      <th>50</th>\n",
       "      <td>1.6075</td>\n",
       "      <td>46.85</td>\n",
       "      <td>10.855404</td>\n",
       "    </tr>\n",
       "    <tr>\n",
       "      <th>10</th>\n",
       "      <td>1.9403</td>\n",
       "      <td>50.01</td>\n",
       "      <td>14.010003</td>\n",
       "    </tr>\n",
       "  </tbody>\n",
       "</table>\n",
       "<p>100 rows × 3 columns</p>\n",
       "</div>"
      ],
      "text/plain": [
       "      alto    pie       dist\n",
       "6   2.0640  36.34   0.358603\n",
       "26  1.8802  35.61   0.396197\n",
       "69  1.9117  35.56   0.441664\n",
       "28  1.6960  35.63   0.448794\n",
       "75  1.7255  35.60   0.458694\n",
       "..     ...    ...        ...\n",
       "22  1.7711  45.73   9.731645\n",
       "99  1.8077  45.93   9.931020\n",
       "94  1.6023  45.95   9.956073\n",
       "50  1.6075  46.85  10.855404\n",
       "10  1.9403  50.01  14.010003\n",
       "\n",
       "[100 rows x 3 columns]"
      ]
     },
     "execution_count": 58,
     "metadata": {},
     "output_type": "execute_result"
    }
   ],
   "source": [
    "x1 = 1.95\n",
    "y1 = 36\n",
    "\n",
    "df2 = df.copy()\n",
    "df2[\"dist\"] = ((df.alto-x1)**2 + (df.pie-y1)**2)**0.5\n",
    "\n",
    "df2.sort_values(by=[\"dist\"])"
   ]
  },
  {
   "cell_type": "markdown",
   "id": "c89a9bfe",
   "metadata": {},
   "source": [
    "¿Qué ocurre? ¿Por qué no funciona?"
   ]
  },
  {
   "cell_type": "code",
   "execution_count": 59,
   "id": "f5a36f87",
   "metadata": {},
   "outputs": [
    {
     "data": {
      "image/png": "[encoded data removed]",
      "text/plain": [
       "<Figure size 500x300 with 1 Axes>"
      ]
     },
     "metadata": {},
     "output_type": "display_data"
    }
   ],
   "source": [
    "import matplotlib.pyplot as plt \n",
    "fig, ax = plt.subplots(figsize=(5, 3))\n",
    "dfs = df\n",
    "ax.scatter(dfs.alto,dfs.pie,s=0.5)\n",
    "plt.xlim(0,50)\n",
    "plt.ylim(0,50)\n",
    "plt.xlabel(\"alto\")\n",
    "plt.ylabel(\"pie\")\n",
    "plt.show()"
   ]
  },
  {
   "cell_type": "markdown",
   "id": "bc906386",
   "metadata": {},
   "source": [
    "¡¡Prácticamente hay una sopla dimensión!! "
   ]
  },
  {
   "cell_type": "markdown",
   "id": "ad370d0f",
   "metadata": {},
   "source": [
    "<a name=\"estandarizacion\"></a>\n",
    "#### Estandarización\n",
    "\n",
    "¿Cuál es la solución? **Estandarizar**  (también conocida como *estandarización Z*, o *Z-score standarization*), que es la forma de escalado más habitual entre datos que siguen aproximadamente una normal (y que a veces también se usa con datos que no la siguen!)\n",
    "\n",
    "\n",
    "La idea es convertir las distribuciones en una N(0,1) para facilitar la comparación\n",
    "\n",
    "<img src=\"https://miro.medium.com/v2/resize:fit:1400/format:webp/1*dZlwWGNhFco5bmpfwYyLCQ.png\" width=300/>\n",
    "\n",
    "La transformación es sencilla, dada una columna $x$ con media $\\mu$ y desviación típica $\\sigma$ vamos a construir una versión:\n",
    "\n",
    "\n",
    "$$\n",
    "z = \\frac{x - \\mu}{\\sigma}\n",
    "$$"
   ]
  },
  {
   "cell_type": "markdown",
   "id": "179aa8c0",
   "metadata": {},
   "source": [
    "Vamos a hacerlo primero \"a mano\""
   ]
  },
  {
   "cell_type": "code",
   "execution_count": 60,
   "id": "faa01378",
   "metadata": {},
   "outputs": [],
   "source": [
    "media_alto,media_pie = df.mean()\n",
    "dt_alto,dt_pie = df.std()\n",
    "\n",
    "dfs = df.copy()\n",
    "dfs[\"alto_s\"] = (df.alto-media_alto)/dt_alto\n",
    "dfs[\"pie_s\"] = (df.pie-media_pie)/dt_pie\n"
   ]
  },
  {
   "cell_type": "code",
   "execution_count": 61,
   "id": "8af790d2",
   "metadata": {},
   "outputs": [],
   "source": [
    "media_alto_s,media_pie_s = dfs[[\"alto_s\",\"pie_s\"]].mean()\n",
    "dt_alto_s,dt_pie_s = dfs[[\"alto_s\",\"pie_s\"]].std()"
   ]
  },
  {
   "cell_type": "code",
   "execution_count": 62,
   "id": "8248b382",
   "metadata": {},
   "outputs": [
    {
     "data": {
      "text/plain": [
       "(1.732987, 40.11109999999999)"
      ]
     },
     "execution_count": 62,
     "metadata": {},
     "output_type": "execute_result"
    }
   ],
   "source": [
    "media_alto,media_pie"
   ]
  },
  {
   "cell_type": "code",
   "execution_count": 63,
   "id": "a0f9f5fa",
   "metadata": {},
   "outputs": [
    {
     "data": {
      "text/plain": [
       "(0.1787150904838947, 3.418395835901555)"
      ]
     },
     "execution_count": 63,
     "metadata": {},
     "output_type": "execute_result"
    }
   ],
   "source": [
    "dt_alto,dt_pie"
   ]
  },
  {
   "cell_type": "code",
   "execution_count": 64,
   "id": "2c7b8619",
   "metadata": {},
   "outputs": [
    {
     "data": {
      "image/png": "[encoded data removed]",
      "text/plain": [
       "<Figure size 500x300 with 1 Axes>"
      ]
     },
     "metadata": {},
     "output_type": "display_data"
    }
   ],
   "source": [
    "import matplotlib.pyplot as plt \n",
    "fig, ax = plt.subplots(figsize=(5, 3))\n",
    "ax.scatter(dfs.alto_s,dfs.pie_s,s=4)\n",
    "plt.xlim(-3,3)\n",
    "plt.ylim(-3,3)\n",
    "plt.xlabel(\"alto\")\n",
    "plt.ylabel(\"pie\")\n",
    "plt.show()"
   ]
  },
  {
   "cell_type": "code",
   "execution_count": 65,
   "id": "ea5f1de1",
   "metadata": {},
   "outputs": [
    {
     "data": {
      "text/html": [
       "<div>\n",
       "<style scoped>\n",
       "    .dataframe tbody tr th:only-of-type {\n",
       "        vertical-align: middle;\n",
       "    }\n",
       "\n",
       "    .dataframe tbody tr th {\n",
       "        vertical-align: top;\n",
       "    }\n",
       "\n",
       "    .dataframe thead th {\n",
       "        text-align: right;\n",
       "    }\n",
       "</style>\n",
       "<table border=\"1\" class=\"dataframe\">\n",
       "  <thead>\n",
       "    <tr style=\"text-align: right;\">\n",
       "      <th></th>\n",
       "      <th>alto</th>\n",
       "      <th>pie</th>\n",
       "      <th>alto_s</th>\n",
       "      <th>pie_s</th>\n",
       "    </tr>\n",
       "  </thead>\n",
       "  <tbody>\n",
       "    <tr>\n",
       "      <th>0</th>\n",
       "      <td>1.7752</td>\n",
       "      <td>37.44</td>\n",
       "      <td>0.236203</td>\n",
       "      <td>-0.781390</td>\n",
       "    </tr>\n",
       "    <tr>\n",
       "      <th>1</th>\n",
       "      <td>1.9600</td>\n",
       "      <td>39.36</td>\n",
       "      <td>1.270251</td>\n",
       "      <td>-0.219723</td>\n",
       "    </tr>\n",
       "    <tr>\n",
       "      <th>2</th>\n",
       "      <td>1.6110</td>\n",
       "      <td>44.58</td>\n",
       "      <td>-0.682578</td>\n",
       "      <td>1.307309</td>\n",
       "    </tr>\n",
       "    <tr>\n",
       "      <th>3</th>\n",
       "      <td>1.9188</td>\n",
       "      <td>40.87</td>\n",
       "      <td>1.039716</td>\n",
       "      <td>0.222005</td>\n",
       "    </tr>\n",
       "    <tr>\n",
       "      <th>4</th>\n",
       "      <td>1.7185</td>\n",
       "      <td>40.61</td>\n",
       "      <td>-0.081062</td>\n",
       "      <td>0.145946</td>\n",
       "    </tr>\n",
       "    <tr>\n",
       "      <th>...</th>\n",
       "      <td>...</td>\n",
       "      <td>...</td>\n",
       "      <td>...</td>\n",
       "      <td>...</td>\n",
       "    </tr>\n",
       "    <tr>\n",
       "      <th>95</th>\n",
       "      <td>2.1318</td>\n",
       "      <td>40.25</td>\n",
       "      <td>2.231557</td>\n",
       "      <td>0.040633</td>\n",
       "    </tr>\n",
       "    <tr>\n",
       "      <th>96</th>\n",
       "      <td>1.8841</td>\n",
       "      <td>33.76</td>\n",
       "      <td>0.845553</td>\n",
       "      <td>-1.857918</td>\n",
       "    </tr>\n",
       "    <tr>\n",
       "      <th>97</th>\n",
       "      <td>1.6658</td>\n",
       "      <td>40.14</td>\n",
       "      <td>-0.375945</td>\n",
       "      <td>0.008454</td>\n",
       "    </tr>\n",
       "    <tr>\n",
       "      <th>98</th>\n",
       "      <td>1.5721</td>\n",
       "      <td>39.45</td>\n",
       "      <td>-0.900243</td>\n",
       "      <td>-0.193395</td>\n",
       "    </tr>\n",
       "    <tr>\n",
       "      <th>99</th>\n",
       "      <td>1.8077</td>\n",
       "      <td>45.93</td>\n",
       "      <td>0.418056</td>\n",
       "      <td>1.702231</td>\n",
       "    </tr>\n",
       "  </tbody>\n",
       "</table>\n",
       "<p>100 rows × 4 columns</p>\n",
       "</div>"
      ],
      "text/plain": [
       "      alto    pie    alto_s     pie_s\n",
       "0   1.7752  37.44  0.236203 -0.781390\n",
       "1   1.9600  39.36  1.270251 -0.219723\n",
       "2   1.6110  44.58 -0.682578  1.307309\n",
       "3   1.9188  40.87  1.039716  0.222005\n",
       "4   1.7185  40.61 -0.081062  0.145946\n",
       "..     ...    ...       ...       ...\n",
       "95  2.1318  40.25  2.231557  0.040633\n",
       "96  1.8841  33.76  0.845553 -1.857918\n",
       "97  1.6658  40.14 -0.375945  0.008454\n",
       "98  1.5721  39.45 -0.900243 -0.193395\n",
       "99  1.8077  45.93  0.418056  1.702231\n",
       "\n",
       "[100 rows x 4 columns]"
      ]
     },
     "execution_count": 65,
     "metadata": {},
     "output_type": "execute_result"
    }
   ],
   "source": [
    "dfs"
   ]
  },
  {
   "cell_type": "code",
   "execution_count": 66,
   "id": "9e050162",
   "metadata": {},
   "outputs": [
    {
     "data": {
      "text/html": [
       "<div>\n",
       "<style scoped>\n",
       "    .dataframe tbody tr th:only-of-type {\n",
       "        vertical-align: middle;\n",
       "    }\n",
       "\n",
       "    .dataframe tbody tr th {\n",
       "        vertical-align: top;\n",
       "    }\n",
       "\n",
       "    .dataframe thead th {\n",
       "        text-align: right;\n",
       "    }\n",
       "</style>\n",
       "<table border=\"1\" class=\"dataframe\">\n",
       "  <thead>\n",
       "    <tr style=\"text-align: right;\">\n",
       "      <th></th>\n",
       "      <th>alto</th>\n",
       "      <th>pie</th>\n",
       "      <th>alto_s</th>\n",
       "      <th>pie_s</th>\n",
       "      <th>dist</th>\n",
       "    </tr>\n",
       "  </thead>\n",
       "  <tbody>\n",
       "    <tr>\n",
       "      <th>40</th>\n",
       "      <td>1.9273</td>\n",
       "      <td>35.51</td>\n",
       "      <td>1.087278</td>\n",
       "      <td>-1.345982</td>\n",
       "      <td>0.191521</td>\n",
       "    </tr>\n",
       "    <tr>\n",
       "      <th>69</th>\n",
       "      <td>1.9117</td>\n",
       "      <td>35.56</td>\n",
       "      <td>0.999988</td>\n",
       "      <td>-1.331355</td>\n",
       "      <td>0.249991</td>\n",
       "    </tr>\n",
       "    <tr>\n",
       "      <th>26</th>\n",
       "      <td>1.8802</td>\n",
       "      <td>35.61</td>\n",
       "      <td>0.823730</td>\n",
       "      <td>-1.316729</td>\n",
       "      <td>0.406888</td>\n",
       "    </tr>\n",
       "    <tr>\n",
       "      <th>62</th>\n",
       "      <td>1.8625</td>\n",
       "      <td>36.67</td>\n",
       "      <td>0.724690</td>\n",
       "      <td>-1.006642</td>\n",
       "      <td>0.527380</td>\n",
       "    </tr>\n",
       "    <tr>\n",
       "      <th>6</th>\n",
       "      <td>2.0640</td>\n",
       "      <td>36.34</td>\n",
       "      <td>1.852183</td>\n",
       "      <td>-1.103178</td>\n",
       "      <td>0.645594</td>\n",
       "    </tr>\n",
       "    <tr>\n",
       "      <th>...</th>\n",
       "      <td>...</td>\n",
       "      <td>...</td>\n",
       "      <td>...</td>\n",
       "      <td>...</td>\n",
       "      <td>...</td>\n",
       "    </tr>\n",
       "    <tr>\n",
       "      <th>51</th>\n",
       "      <td>1.4251</td>\n",
       "      <td>43.13</td>\n",
       "      <td>-1.722781</td>\n",
       "      <td>0.883134</td>\n",
       "      <td>3.602343</td>\n",
       "    </tr>\n",
       "    <tr>\n",
       "      <th>50</th>\n",
       "      <td>1.6075</td>\n",
       "      <td>46.85</td>\n",
       "      <td>-0.702162</td>\n",
       "      <td>1.971363</td>\n",
       "      <td>3.707709</td>\n",
       "    </tr>\n",
       "    <tr>\n",
       "      <th>67</th>\n",
       "      <td>1.3752</td>\n",
       "      <td>42.48</td>\n",
       "      <td>-2.001997</td>\n",
       "      <td>0.692986</td>\n",
       "      <td>3.733354</td>\n",
       "    </tr>\n",
       "    <tr>\n",
       "      <th>10</th>\n",
       "      <td>1.9403</td>\n",
       "      <td>50.01</td>\n",
       "      <td>1.160020</td>\n",
       "      <td>2.895773</td>\n",
       "      <td>4.098773</td>\n",
       "    </tr>\n",
       "    <tr>\n",
       "      <th>82</th>\n",
       "      <td>1.1831</td>\n",
       "      <td>37.89</td>\n",
       "      <td>-3.076892</td>\n",
       "      <td>-0.649749</td>\n",
       "      <td>4.326659</td>\n",
       "    </tr>\n",
       "  </tbody>\n",
       "</table>\n",
       "<p>100 rows × 5 columns</p>\n",
       "</div>"
      ],
      "text/plain": [
       "      alto    pie    alto_s     pie_s      dist\n",
       "40  1.9273  35.51  1.087278 -1.345982  0.191521\n",
       "69  1.9117  35.56  0.999988 -1.331355  0.249991\n",
       "26  1.8802  35.61  0.823730 -1.316729  0.406888\n",
       "62  1.8625  36.67  0.724690 -1.006642  0.527380\n",
       "6   2.0640  36.34  1.852183 -1.103178  0.645594\n",
       "..     ...    ...       ...       ...       ...\n",
       "51  1.4251  43.13 -1.722781  0.883134  3.602343\n",
       "50  1.6075  46.85 -0.702162  1.971363  3.707709\n",
       "67  1.3752  42.48 -2.001997  0.692986  3.733354\n",
       "10  1.9403  50.01  1.160020  2.895773  4.098773\n",
       "82  1.1831  37.89 -3.076892 -0.649749  4.326659\n",
       "\n",
       "[100 rows x 5 columns]"
      ]
     },
     "execution_count": 66,
     "metadata": {},
     "output_type": "execute_result"
    }
   ],
   "source": [
    "x1 = (1.95-media_alto)/dt_alto\n",
    "y1 = (36-media_pie)/dt_pie\n",
    "\n",
    "df2 = dfs.copy()\n",
    "df2[\"dist\"] = ((dfs.alto_s-x1)**2 + (dfs.pie_s-y1)**2)**0.5\n",
    "\n",
    "df2.sort_values(by=[\"dist\"])"
   ]
  },
  {
   "cell_type": "code",
   "execution_count": 67,
   "id": "16cbdfdf",
   "metadata": {},
   "outputs": [
    {
     "data": {
      "image/png": "[encoded data removed]",
      "text/plain": [
       "<Figure size 500x300 with 1 Axes>"
      ]
     },
     "metadata": {},
     "output_type": "display_data"
    }
   ],
   "source": [
    "import matplotlib.pyplot as plt \n",
    "fig, ax = plt.subplots(figsize=(5, 3))\n",
    "ax.scatter(dfs.alto_s,dfs.pie_s,s=4,color=\"blue\")\n",
    "ax.scatter([x1],[y1],s=40,color=\"green\")\n",
    "cercanos = df2.sort_values(by=[\"dist\"]).head(10)\n",
    "ax.scatter(cercanos.alto_s,cercanos.pie_s,s=4,color=\"red\")\n",
    "\n",
    "plt.xlim(-3,3)\n",
    "plt.ylim(-3,3)\n",
    "plt.xlabel(\"alto\")\n",
    "plt.ylabel(\"pie\")\n",
    "plt.show()"
   ]
  },
  {
   "cell_type": "code",
   "execution_count": 68,
   "id": "81611b09",
   "metadata": {},
   "outputs": [
    {
     "data": {
      "text/plain": [
       "(1.2142958908081491, -1.2026401263491322)"
      ]
     },
     "execution_count": 68,
     "metadata": {},
     "output_type": "execute_result"
    }
   ],
   "source": [
    "x1,y1"
   ]
  },
  {
   "cell_type": "markdown",
   "id": "a44f853a",
   "metadata": {},
   "source": [
    "Hay muchos métodos que ML que requerirán estandarización, tantos que aunque es una trnasformación bastante simple de implementar es muy normal utilizar la versión incluída en la bibliteca sklearn"
   ]
  },
  {
   "cell_type": "code",
   "execution_count": 69,
   "id": "c46e0b31",
   "metadata": {},
   "outputs": [
    {
     "data": {
      "text/html": [
       "<div>\n",
       "<style scoped>\n",
       "    .dataframe tbody tr th:only-of-type {\n",
       "        vertical-align: middle;\n",
       "    }\n",
       "\n",
       "    .dataframe tbody tr th {\n",
       "        vertical-align: top;\n",
       "    }\n",
       "\n",
       "    .dataframe thead th {\n",
       "        text-align: right;\n",
       "    }\n",
       "</style>\n",
       "<table border=\"1\" class=\"dataframe\">\n",
       "  <thead>\n",
       "    <tr style=\"text-align: right;\">\n",
       "      <th></th>\n",
       "      <th>alto_s</th>\n",
       "      <th>pie_s</th>\n",
       "    </tr>\n",
       "  </thead>\n",
       "  <tbody>\n",
       "    <tr>\n",
       "      <th>0</th>\n",
       "      <td>0.237393</td>\n",
       "      <td>-0.785326</td>\n",
       "    </tr>\n",
       "    <tr>\n",
       "      <th>1</th>\n",
       "      <td>1.276650</td>\n",
       "      <td>-0.220830</td>\n",
       "    </tr>\n",
       "    <tr>\n",
       "      <th>2</th>\n",
       "      <td>-0.686017</td>\n",
       "      <td>1.313895</td>\n",
       "    </tr>\n",
       "    <tr>\n",
       "      <th>3</th>\n",
       "      <td>1.044954</td>\n",
       "      <td>0.223123</td>\n",
       "    </tr>\n",
       "    <tr>\n",
       "      <th>4</th>\n",
       "      <td>-0.081470</td>\n",
       "      <td>0.146681</td>\n",
       "    </tr>\n",
       "    <tr>\n",
       "      <th>...</th>\n",
       "      <td>...</td>\n",
       "      <td>...</td>\n",
       "    </tr>\n",
       "    <tr>\n",
       "      <th>95</th>\n",
       "      <td>2.242800</td>\n",
       "      <td>0.040838</td>\n",
       "    </tr>\n",
       "    <tr>\n",
       "      <th>96</th>\n",
       "      <td>0.849812</td>\n",
       "      <td>-1.867278</td>\n",
       "    </tr>\n",
       "    <tr>\n",
       "      <th>97</th>\n",
       "      <td>-0.377839</td>\n",
       "      <td>0.008497</td>\n",
       "    </tr>\n",
       "    <tr>\n",
       "      <th>98</th>\n",
       "      <td>-0.904778</td>\n",
       "      <td>-0.194369</td>\n",
       "    </tr>\n",
       "    <tr>\n",
       "      <th>99</th>\n",
       "      <td>0.420163</td>\n",
       "      <td>1.710807</td>\n",
       "    </tr>\n",
       "  </tbody>\n",
       "</table>\n",
       "<p>100 rows × 2 columns</p>\n",
       "</div>"
      ],
      "text/plain": [
       "      alto_s     pie_s\n",
       "0   0.237393 -0.785326\n",
       "1   1.276650 -0.220830\n",
       "2  -0.686017  1.313895\n",
       "3   1.044954  0.223123\n",
       "4  -0.081470  0.146681\n",
       "..       ...       ...\n",
       "95  2.242800  0.040838\n",
       "96  0.849812 -1.867278\n",
       "97 -0.377839  0.008497\n",
       "98 -0.904778 -0.194369\n",
       "99  0.420163  1.710807\n",
       "\n",
       "[100 rows x 2 columns]"
      ]
     },
     "execution_count": 69,
     "metadata": {},
     "output_type": "execute_result"
    }
   ],
   "source": [
    "from sklearn.preprocessing import StandardScaler\n",
    "\n",
    "\n",
    "scaler = StandardScaler() # 1 declarar el método\n",
    "scaler.fit(df)  # 2 \"aprender\" de los datos (en este caso obtener la media y la desviación típica)\n",
    "datos = scaler.transform(df) # aplicar el método ya instanciado a los datos\n",
    "dfs = pd.DataFrame(datos,columns=[\"alto_s\",\"pie_s\"]) # convertir a DataFrame\n",
    "dfs"
   ]
  },
  {
   "cell_type": "code",
   "execution_count": 70,
   "id": "fef4cac0",
   "metadata": {},
   "outputs": [
    {
     "data": {
      "image/png": "[encoded data removed]",
      "text/plain": [
       "<Figure size 500x300 with 1 Axes>"
      ]
     },
     "metadata": {},
     "output_type": "display_data"
    }
   ],
   "source": [
    "import matplotlib.pyplot as plt \n",
    "\n",
    "\n",
    "fig, ax = plt.subplots(figsize=(5, 3))\n",
    "ax.scatter(dfs.alto_s,dfs.pie_s,s=4,color=\"blue\")\n",
    "ax.scatter([x1],[y1],s=40,color=\"green\")\n",
    "cercanos = df2.sort_values(by=[\"dist\"]).head(10)\n",
    "ax.scatter(cercanos.alto_s,cercanos.pie_s,s=4,color=\"red\")\n",
    "\n",
    "plt.xlim(-3,3)\n",
    "plt.ylim(-3,3)\n",
    "plt.xlabel(\"alto\")\n",
    "plt.ylabel(\"pie\")\n",
    "plt.show()"
   ]
  },
  {
   "cell_type": "markdown",
   "id": "49e0f0e3",
   "metadata": {},
   "source": [
    "Un último apunte: el que queramos estandarizar (o usar otro escalado) va a depender de la situación. Por ejemplo siquieremos disitnguir días soleados de nublados a partir de datos de sensores puede ser una mala idea:\n",
    "\n",
    "<img src=\"https://github.com/RafaelCaballero/tdm/raw/master/images/soleadonublado.png\" />"
   ]
  },
  {
   "cell_type": "markdown",
   "id": "fdde2178",
   "metadata": {},
   "source": [
    "<a name=\"normalizacion\"></a>\n",
    "#### Normalización\n",
    "\n",
    "Hay otras formas de escalar alternativas, que en ocasiones resultan muy útiles, especialmente (pero no solo) con datos que no siguen una normal. El más habitual es el MIN-MAX scaler que convierte la columna al rango 0-1 aplicando esta sencilla transformación: dada una variable/columna $x$ con máximo $M$ y mínimo $m$, se define la transformación min-max $x'$\n",
    "\n",
    "$$\n",
    "x' = \\frac{x-m}{M-m}\n",
    "$$\n",
    "\n"
   ]
  },
  {
   "cell_type": "code",
   "execution_count": 71,
   "id": "82670ba1",
   "metadata": {},
   "outputs": [
    {
     "data": {
      "text/html": [
       "<div>\n",
       "<style scoped>\n",
       "    .dataframe tbody tr th:only-of-type {\n",
       "        vertical-align: middle;\n",
       "    }\n",
       "\n",
       "    .dataframe tbody tr th {\n",
       "        vertical-align: top;\n",
       "    }\n",
       "\n",
       "    .dataframe thead th {\n",
       "        text-align: right;\n",
       "    }\n",
       "</style>\n",
       "<table border=\"1\" class=\"dataframe\">\n",
       "  <thead>\n",
       "    <tr style=\"text-align: right;\">\n",
       "      <th></th>\n",
       "      <th>alto</th>\n",
       "      <th>pie</th>\n",
       "    </tr>\n",
       "  </thead>\n",
       "  <tbody>\n",
       "    <tr>\n",
       "      <th>0</th>\n",
       "      <td>1.7752</td>\n",
       "      <td>37.44</td>\n",
       "    </tr>\n",
       "    <tr>\n",
       "      <th>1</th>\n",
       "      <td>1.9600</td>\n",
       "      <td>39.36</td>\n",
       "    </tr>\n",
       "    <tr>\n",
       "      <th>2</th>\n",
       "      <td>1.6110</td>\n",
       "      <td>44.58</td>\n",
       "    </tr>\n",
       "    <tr>\n",
       "      <th>3</th>\n",
       "      <td>1.9188</td>\n",
       "      <td>40.87</td>\n",
       "    </tr>\n",
       "    <tr>\n",
       "      <th>4</th>\n",
       "      <td>1.7185</td>\n",
       "      <td>40.61</td>\n",
       "    </tr>\n",
       "    <tr>\n",
       "      <th>...</th>\n",
       "      <td>...</td>\n",
       "      <td>...</td>\n",
       "    </tr>\n",
       "    <tr>\n",
       "      <th>95</th>\n",
       "      <td>2.1318</td>\n",
       "      <td>40.25</td>\n",
       "    </tr>\n",
       "    <tr>\n",
       "      <th>96</th>\n",
       "      <td>1.8841</td>\n",
       "      <td>33.76</td>\n",
       "    </tr>\n",
       "    <tr>\n",
       "      <th>97</th>\n",
       "      <td>1.6658</td>\n",
       "      <td>40.14</td>\n",
       "    </tr>\n",
       "    <tr>\n",
       "      <th>98</th>\n",
       "      <td>1.5721</td>\n",
       "      <td>39.45</td>\n",
       "    </tr>\n",
       "    <tr>\n",
       "      <th>99</th>\n",
       "      <td>1.8077</td>\n",
       "      <td>45.93</td>\n",
       "    </tr>\n",
       "  </tbody>\n",
       "</table>\n",
       "<p>100 rows × 2 columns</p>\n",
       "</div>"
      ],
      "text/plain": [
       "      alto    pie\n",
       "0   1.7752  37.44\n",
       "1   1.9600  39.36\n",
       "2   1.6110  44.58\n",
       "3   1.9188  40.87\n",
       "4   1.7185  40.61\n",
       "..     ...    ...\n",
       "95  2.1318  40.25\n",
       "96  1.8841  33.76\n",
       "97  1.6658  40.14\n",
       "98  1.5721  39.45\n",
       "99  1.8077  45.93\n",
       "\n",
       "[100 rows x 2 columns]"
      ]
     },
     "execution_count": 71,
     "metadata": {},
     "output_type": "execute_result"
    }
   ],
   "source": [
    "df"
   ]
  },
  {
   "cell_type": "code",
   "execution_count": 72,
   "id": "05e56df3",
   "metadata": {},
   "outputs": [],
   "source": [
    "alto_m, pie_m = df.min()\n",
    "alto_M, pie_M = df.max()"
   ]
  },
  {
   "cell_type": "code",
   "execution_count": 73,
   "id": "405ae0ff",
   "metadata": {},
   "outputs": [
    {
     "data": {
      "text/html": [
       "<div>\n",
       "<style scoped>\n",
       "    .dataframe tbody tr th:only-of-type {\n",
       "        vertical-align: middle;\n",
       "    }\n",
       "\n",
       "    .dataframe tbody tr th {\n",
       "        vertical-align: top;\n",
       "    }\n",
       "\n",
       "    .dataframe thead th {\n",
       "        text-align: right;\n",
       "    }\n",
       "</style>\n",
       "<table border=\"1\" class=\"dataframe\">\n",
       "  <thead>\n",
       "    <tr style=\"text-align: right;\">\n",
       "      <th></th>\n",
       "      <th>alto</th>\n",
       "      <th>pie</th>\n",
       "      <th>alto_n</th>\n",
       "      <th>pie_n</th>\n",
       "    </tr>\n",
       "  </thead>\n",
       "  <tbody>\n",
       "    <tr>\n",
       "      <th>0</th>\n",
       "      <td>1.7752</td>\n",
       "      <td>37.44</td>\n",
       "      <td>0.624117</td>\n",
       "      <td>0.278001</td>\n",
       "    </tr>\n",
       "    <tr>\n",
       "      <th>1</th>\n",
       "      <td>1.9600</td>\n",
       "      <td>39.36</td>\n",
       "      <td>0.818910</td>\n",
       "      <td>0.388283</td>\n",
       "    </tr>\n",
       "    <tr>\n",
       "      <th>2</th>\n",
       "      <td>1.6110</td>\n",
       "      <td>44.58</td>\n",
       "      <td>0.451038</td>\n",
       "      <td>0.688110</td>\n",
       "    </tr>\n",
       "    <tr>\n",
       "      <th>3</th>\n",
       "      <td>1.9188</td>\n",
       "      <td>40.87</td>\n",
       "      <td>0.775482</td>\n",
       "      <td>0.475014</td>\n",
       "    </tr>\n",
       "    <tr>\n",
       "      <th>4</th>\n",
       "      <td>1.7185</td>\n",
       "      <td>40.61</td>\n",
       "      <td>0.564351</td>\n",
       "      <td>0.460080</td>\n",
       "    </tr>\n",
       "    <tr>\n",
       "      <th>...</th>\n",
       "      <td>...</td>\n",
       "      <td>...</td>\n",
       "      <td>...</td>\n",
       "      <td>...</td>\n",
       "    </tr>\n",
       "    <tr>\n",
       "      <th>95</th>\n",
       "      <td>2.1318</td>\n",
       "      <td>40.25</td>\n",
       "      <td>1.000000</td>\n",
       "      <td>0.439403</td>\n",
       "    </tr>\n",
       "    <tr>\n",
       "      <th>96</th>\n",
       "      <td>1.8841</td>\n",
       "      <td>33.76</td>\n",
       "      <td>0.738906</td>\n",
       "      <td>0.066628</td>\n",
       "    </tr>\n",
       "    <tr>\n",
       "      <th>97</th>\n",
       "      <td>1.6658</td>\n",
       "      <td>40.14</td>\n",
       "      <td>0.508802</td>\n",
       "      <td>0.433084</td>\n",
       "    </tr>\n",
       "    <tr>\n",
       "      <th>98</th>\n",
       "      <td>1.5721</td>\n",
       "      <td>39.45</td>\n",
       "      <td>0.410035</td>\n",
       "      <td>0.393452</td>\n",
       "    </tr>\n",
       "    <tr>\n",
       "      <th>99</th>\n",
       "      <td>1.8077</td>\n",
       "      <td>45.93</td>\n",
       "      <td>0.658375</td>\n",
       "      <td>0.765652</td>\n",
       "    </tr>\n",
       "  </tbody>\n",
       "</table>\n",
       "<p>100 rows × 4 columns</p>\n",
       "</div>"
      ],
      "text/plain": [
       "      alto    pie    alto_n     pie_n\n",
       "0   1.7752  37.44  0.624117  0.278001\n",
       "1   1.9600  39.36  0.818910  0.388283\n",
       "2   1.6110  44.58  0.451038  0.688110\n",
       "3   1.9188  40.87  0.775482  0.475014\n",
       "4   1.7185  40.61  0.564351  0.460080\n",
       "..     ...    ...       ...       ...\n",
       "95  2.1318  40.25  1.000000  0.439403\n",
       "96  1.8841  33.76  0.738906  0.066628\n",
       "97  1.6658  40.14  0.508802  0.433084\n",
       "98  1.5721  39.45  0.410035  0.393452\n",
       "99  1.8077  45.93  0.658375  0.765652\n",
       "\n",
       "[100 rows x 4 columns]"
      ]
     },
     "execution_count": 73,
     "metadata": {},
     "output_type": "execute_result"
    }
   ],
   "source": [
    "dfn = df.copy()\n",
    "dfn[\"alto_n\"] = (df.alto-alto_m)/(alto_M-alto_m)\n",
    "dfn[\"pie_n\"] = (df.pie-pie_m)/(pie_M-pie_m)\n",
    "dfn"
   ]
  },
  {
   "cell_type": "code",
   "execution_count": 74,
   "id": "94e5a809",
   "metadata": {},
   "outputs": [
    {
     "data": {
      "text/html": [
       "<div>\n",
       "<style scoped>\n",
       "    .dataframe tbody tr th:only-of-type {\n",
       "        vertical-align: middle;\n",
       "    }\n",
       "\n",
       "    .dataframe tbody tr th {\n",
       "        vertical-align: top;\n",
       "    }\n",
       "\n",
       "    .dataframe thead th {\n",
       "        text-align: right;\n",
       "    }\n",
       "</style>\n",
       "<table border=\"1\" class=\"dataframe\">\n",
       "  <thead>\n",
       "    <tr style=\"text-align: right;\">\n",
       "      <th></th>\n",
       "      <th>alto</th>\n",
       "      <th>pie</th>\n",
       "      <th>alto_n</th>\n",
       "      <th>pie_n</th>\n",
       "      <th>dist</th>\n",
       "    </tr>\n",
       "  </thead>\n",
       "  <tbody>\n",
       "    <tr>\n",
       "      <th>40</th>\n",
       "      <td>1.9273</td>\n",
       "      <td>35.51</td>\n",
       "      <td>0.784442</td>\n",
       "      <td>0.167145</td>\n",
       "      <td>0.036941</td>\n",
       "    </tr>\n",
       "    <tr>\n",
       "      <th>69</th>\n",
       "      <td>1.9117</td>\n",
       "      <td>35.56</td>\n",
       "      <td>0.767998</td>\n",
       "      <td>0.170017</td>\n",
       "      <td>0.047629</td>\n",
       "    </tr>\n",
       "    <tr>\n",
       "      <th>26</th>\n",
       "      <td>1.8802</td>\n",
       "      <td>35.61</td>\n",
       "      <td>0.734795</td>\n",
       "      <td>0.172889</td>\n",
       "      <td>0.076909</td>\n",
       "    </tr>\n",
       "    <tr>\n",
       "      <th>62</th>\n",
       "      <td>1.8625</td>\n",
       "      <td>36.67</td>\n",
       "      <td>0.716138</td>\n",
       "      <td>0.233774</td>\n",
       "      <td>0.099938</td>\n",
       "    </tr>\n",
       "    <tr>\n",
       "      <th>6</th>\n",
       "      <td>2.0640</td>\n",
       "      <td>36.34</td>\n",
       "      <td>0.928534</td>\n",
       "      <td>0.214819</td>\n",
       "      <td>0.121741</td>\n",
       "    </tr>\n",
       "    <tr>\n",
       "      <th>...</th>\n",
       "      <td>...</td>\n",
       "      <td>...</td>\n",
       "      <td>...</td>\n",
       "      <td>...</td>\n",
       "      <td>...</td>\n",
       "    </tr>\n",
       "    <tr>\n",
       "      <th>51</th>\n",
       "      <td>1.4251</td>\n",
       "      <td>43.13</td>\n",
       "      <td>0.255086</td>\n",
       "      <td>0.604825</td>\n",
       "      <td>0.688361</td>\n",
       "    </tr>\n",
       "    <tr>\n",
       "      <th>67</th>\n",
       "      <td>1.3752</td>\n",
       "      <td>42.48</td>\n",
       "      <td>0.202488</td>\n",
       "      <td>0.567490</td>\n",
       "      <td>0.711073</td>\n",
       "    </tr>\n",
       "    <tr>\n",
       "      <th>50</th>\n",
       "      <td>1.6075</td>\n",
       "      <td>46.85</td>\n",
       "      <td>0.447349</td>\n",
       "      <td>0.818495</td>\n",
       "      <td>0.720222</td>\n",
       "    </tr>\n",
       "    <tr>\n",
       "      <th>10</th>\n",
       "      <td>1.9403</td>\n",
       "      <td>50.01</td>\n",
       "      <td>0.798145</td>\n",
       "      <td>1.000000</td>\n",
       "      <td>0.804775</td>\n",
       "    </tr>\n",
       "    <tr>\n",
       "      <th>82</th>\n",
       "      <td>1.1831</td>\n",
       "      <td>37.89</td>\n",
       "      <td>0.000000</td>\n",
       "      <td>0.303848</td>\n",
       "      <td>0.815626</td>\n",
       "    </tr>\n",
       "  </tbody>\n",
       "</table>\n",
       "<p>100 rows × 5 columns</p>\n",
       "</div>"
      ],
      "text/plain": [
       "      alto    pie    alto_n     pie_n      dist\n",
       "40  1.9273  35.51  0.784442  0.167145  0.036941\n",
       "69  1.9117  35.56  0.767998  0.170017  0.047629\n",
       "26  1.8802  35.61  0.734795  0.172889  0.076909\n",
       "62  1.8625  36.67  0.716138  0.233774  0.099938\n",
       "6   2.0640  36.34  0.928534  0.214819  0.121741\n",
       "..     ...    ...       ...       ...       ...\n",
       "51  1.4251  43.13  0.255086  0.604825  0.688361\n",
       "67  1.3752  42.48  0.202488  0.567490  0.711073\n",
       "50  1.6075  46.85  0.447349  0.818495  0.720222\n",
       "10  1.9403  50.01  0.798145  1.000000  0.804775\n",
       "82  1.1831  37.89  0.000000  0.303848  0.815626\n",
       "\n",
       "[100 rows x 5 columns]"
      ]
     },
     "execution_count": 74,
     "metadata": {},
     "output_type": "execute_result"
    }
   ],
   "source": [
    "xn = (1.95-alto_m)/(alto_M-alto_m)\n",
    "yn = (36-pie_m)/(pie_M-pie_m)\n",
    "\n",
    "df2n = dfn.copy()\n",
    "df2n[\"dist\"] = ((dfn.alto_n-xn)**2 + (dfn.pie_n-yn)**2)**0.5\n",
    "\n",
    "df2n.sort_values(by=[\"dist\"])"
   ]
  },
  {
   "cell_type": "code",
   "execution_count": 78,
   "id": "d6ca2566",
   "metadata": {},
   "outputs": [
    {
     "data": {
      "image/png": "[encoded data removed]",
      "text/plain": [
       "<Figure size 500x300 with 1 Axes>"
      ]
     },
     "metadata": {},
     "output_type": "display_data"
    }
   ],
   "source": [
    "import matplotlib.pyplot as plt \n",
    "\n",
    "\n",
    "fig, ax = plt.subplots(figsize=(5, 3))\n",
    "ax.scatter(dfn.alto_n,dfn.pie_n,s=4,color=\"blue\")\n",
    "ax.scatter([xn],[yn],s=40,color=\"green\")\n",
    "cercanos = df2n.sort_values(by=[\"dist\"]).head(10)\n",
    "ax.scatter(cercanos.alto_n,cercanos.pie_n,s=4,color=\"red\")\n",
    "\n",
    "plt.xlim(0,1)\n",
    "plt.ylim(0,1)\n",
    "plt.xlabel(\"alto\")\n",
    "plt.ylabel(\"pie\")\n",
    "plt.show()"
   ]
  },
  {
   "cell_type": "markdown",
   "id": "2f1d14b9",
   "metadata": {},
   "source": [
    "De nuevo podemos utilizar la librería "
   ]
  },
  {
   "cell_type": "code",
   "execution_count": 88,
   "id": "6a5b1667",
   "metadata": {},
   "outputs": [
    {
     "data": {
      "text/html": [
       "<div>\n",
       "<style scoped>\n",
       "    .dataframe tbody tr th:only-of-type {\n",
       "        vertical-align: middle;\n",
       "    }\n",
       "\n",
       "    .dataframe tbody tr th {\n",
       "        vertical-align: top;\n",
       "    }\n",
       "\n",
       "    .dataframe thead th {\n",
       "        text-align: right;\n",
       "    }\n",
       "</style>\n",
       "<table border=\"1\" class=\"dataframe\">\n",
       "  <thead>\n",
       "    <tr style=\"text-align: right;\">\n",
       "      <th></th>\n",
       "      <th>alto_s</th>\n",
       "      <th>pie_s</th>\n",
       "    </tr>\n",
       "  </thead>\n",
       "  <tbody>\n",
       "    <tr>\n",
       "      <th>0</th>\n",
       "      <td>0.624117</td>\n",
       "      <td>0.278001</td>\n",
       "    </tr>\n",
       "    <tr>\n",
       "      <th>1</th>\n",
       "      <td>0.818910</td>\n",
       "      <td>0.388283</td>\n",
       "    </tr>\n",
       "    <tr>\n",
       "      <th>2</th>\n",
       "      <td>0.451038</td>\n",
       "      <td>0.688110</td>\n",
       "    </tr>\n",
       "    <tr>\n",
       "      <th>3</th>\n",
       "      <td>0.775482</td>\n",
       "      <td>0.475014</td>\n",
       "    </tr>\n",
       "    <tr>\n",
       "      <th>4</th>\n",
       "      <td>0.564351</td>\n",
       "      <td>0.460080</td>\n",
       "    </tr>\n",
       "    <tr>\n",
       "      <th>...</th>\n",
       "      <td>...</td>\n",
       "      <td>...</td>\n",
       "    </tr>\n",
       "    <tr>\n",
       "      <th>95</th>\n",
       "      <td>1.000000</td>\n",
       "      <td>0.439403</td>\n",
       "    </tr>\n",
       "    <tr>\n",
       "      <th>96</th>\n",
       "      <td>0.738906</td>\n",
       "      <td>0.066628</td>\n",
       "    </tr>\n",
       "    <tr>\n",
       "      <th>97</th>\n",
       "      <td>0.508802</td>\n",
       "      <td>0.433084</td>\n",
       "    </tr>\n",
       "    <tr>\n",
       "      <th>98</th>\n",
       "      <td>0.410035</td>\n",
       "      <td>0.393452</td>\n",
       "    </tr>\n",
       "    <tr>\n",
       "      <th>99</th>\n",
       "      <td>0.658375</td>\n",
       "      <td>0.765652</td>\n",
       "    </tr>\n",
       "  </tbody>\n",
       "</table>\n",
       "<p>100 rows × 2 columns</p>\n",
       "</div>"
      ],
      "text/plain": [
       "      alto_s     pie_s\n",
       "0   0.624117  0.278001\n",
       "1   0.818910  0.388283\n",
       "2   0.451038  0.688110\n",
       "3   0.775482  0.475014\n",
       "4   0.564351  0.460080\n",
       "..       ...       ...\n",
       "95  1.000000  0.439403\n",
       "96  0.738906  0.066628\n",
       "97  0.508802  0.433084\n",
       "98  0.410035  0.393452\n",
       "99  0.658375  0.765652\n",
       "\n",
       "[100 rows x 2 columns]"
      ]
     },
     "execution_count": 88,
     "metadata": {},
     "output_type": "execute_result"
    }
   ],
   "source": [
    "from sklearn.preprocessing import StandardScaler,MinMaxScaler\n",
    "\n",
    "\n",
    "scaler = MinMaxScaler() # 1 declarar el método\n",
    "scaler.fit(df)  # 2 \"aprender\" de los datos (en este caso obtener la media y la desviación típica)\n",
    "datos = scaler.transform(df) # aplicar el método ya instanciado a los datos\n",
    "dfs = pd.DataFrame(datos,columns=[\"alto_s\",\"pie_s\"]) # convertir a DataFrame\n",
    "dfs"
   ]
  },
  {
   "cell_type": "code",
   "execution_count": 89,
   "id": "3f833596",
   "metadata": {},
   "outputs": [
    {
     "name": "stderr",
     "output_type": "stream",
     "text": [
      "C:\\Users\\Rafa\\AppData\\Roaming\\Python\\Python39\\site-packages\\sklearn\\base.py:450: UserWarning: X does not have valid feature names, but MinMaxScaler was fitted with feature names\n",
      "  warnings.warn(\n"
     ]
    },
    {
     "data": {
      "text/plain": [
       "array([[0.80836935, 0.19529006]])"
      ]
     },
     "execution_count": 89,
     "metadata": {},
     "output_type": "execute_result"
    }
   ],
   "source": [
    "scaler.transform([[1.95,36]])"
   ]
  },
  {
   "cell_type": "code",
   "execution_count": 90,
   "id": "41af96a0",
   "metadata": {},
   "outputs": [
    {
     "name": "stderr",
     "output_type": "stream",
     "text": [
      "C:\\Users\\Rafa\\AppData\\Roaming\\Python\\Python39\\site-packages\\sklearn\\base.py:450: UserWarning: X does not have valid feature names, but MinMaxScaler was fitted with feature names\n",
      "  warnings.warn(\n"
     ]
    }
   ],
   "source": [
    "xn,yn = scaler.transform([[1.95,36]])[0]"
   ]
  },
  {
   "cell_type": "code",
   "execution_count": 93,
   "id": "64a52afb",
   "metadata": {},
   "outputs": [
    {
     "data": {
      "text/html": [
       "<div>\n",
       "<style scoped>\n",
       "    .dataframe tbody tr th:only-of-type {\n",
       "        vertical-align: middle;\n",
       "    }\n",
       "\n",
       "    .dataframe tbody tr th {\n",
       "        vertical-align: top;\n",
       "    }\n",
       "\n",
       "    .dataframe thead th {\n",
       "        text-align: right;\n",
       "    }\n",
       "</style>\n",
       "<table border=\"1\" class=\"dataframe\">\n",
       "  <thead>\n",
       "    <tr style=\"text-align: right;\">\n",
       "      <th></th>\n",
       "      <th>alto_s</th>\n",
       "      <th>pie_s</th>\n",
       "      <th>dist</th>\n",
       "    </tr>\n",
       "  </thead>\n",
       "  <tbody>\n",
       "    <tr>\n",
       "      <th>40</th>\n",
       "      <td>0.784442</td>\n",
       "      <td>0.167145</td>\n",
       "      <td>0.036941</td>\n",
       "    </tr>\n",
       "    <tr>\n",
       "      <th>69</th>\n",
       "      <td>0.767998</td>\n",
       "      <td>0.170017</td>\n",
       "      <td>0.047629</td>\n",
       "    </tr>\n",
       "    <tr>\n",
       "      <th>26</th>\n",
       "      <td>0.734795</td>\n",
       "      <td>0.172889</td>\n",
       "      <td>0.076909</td>\n",
       "    </tr>\n",
       "    <tr>\n",
       "      <th>62</th>\n",
       "      <td>0.716138</td>\n",
       "      <td>0.233774</td>\n",
       "      <td>0.099938</td>\n",
       "    </tr>\n",
       "    <tr>\n",
       "      <th>6</th>\n",
       "      <td>0.928534</td>\n",
       "      <td>0.214819</td>\n",
       "      <td>0.121741</td>\n",
       "    </tr>\n",
       "    <tr>\n",
       "      <th>...</th>\n",
       "      <td>...</td>\n",
       "      <td>...</td>\n",
       "      <td>...</td>\n",
       "    </tr>\n",
       "    <tr>\n",
       "      <th>51</th>\n",
       "      <td>0.255086</td>\n",
       "      <td>0.604825</td>\n",
       "      <td>0.688361</td>\n",
       "    </tr>\n",
       "    <tr>\n",
       "      <th>67</th>\n",
       "      <td>0.202488</td>\n",
       "      <td>0.567490</td>\n",
       "      <td>0.711073</td>\n",
       "    </tr>\n",
       "    <tr>\n",
       "      <th>50</th>\n",
       "      <td>0.447349</td>\n",
       "      <td>0.818495</td>\n",
       "      <td>0.720222</td>\n",
       "    </tr>\n",
       "    <tr>\n",
       "      <th>10</th>\n",
       "      <td>0.798145</td>\n",
       "      <td>1.000000</td>\n",
       "      <td>0.804775</td>\n",
       "    </tr>\n",
       "    <tr>\n",
       "      <th>82</th>\n",
       "      <td>0.000000</td>\n",
       "      <td>0.303848</td>\n",
       "      <td>0.815626</td>\n",
       "    </tr>\n",
       "  </tbody>\n",
       "</table>\n",
       "<p>100 rows × 3 columns</p>\n",
       "</div>"
      ],
      "text/plain": [
       "      alto_s     pie_s      dist\n",
       "40  0.784442  0.167145  0.036941\n",
       "69  0.767998  0.170017  0.047629\n",
       "26  0.734795  0.172889  0.076909\n",
       "62  0.716138  0.233774  0.099938\n",
       "6   0.928534  0.214819  0.121741\n",
       "..       ...       ...       ...\n",
       "51  0.255086  0.604825  0.688361\n",
       "67  0.202488  0.567490  0.711073\n",
       "50  0.447349  0.818495  0.720222\n",
       "10  0.798145  1.000000  0.804775\n",
       "82  0.000000  0.303848  0.815626\n",
       "\n",
       "[100 rows x 3 columns]"
      ]
     },
     "execution_count": 93,
     "metadata": {},
     "output_type": "execute_result"
    }
   ],
   "source": [
    "df2n = dfs.copy()\n",
    "df2n[\"dist\"] = ((dfs.alto_s-xn)**2 + (dfs.pie_s-yn)**2)**0.5\n",
    "\n",
    "df2n.sort_values(by=[\"dist\"])"
   ]
  },
  {
   "cell_type": "code",
   "execution_count": 95,
   "id": "7b8d8442",
   "metadata": {},
   "outputs": [
    {
     "data": {
      "image/png": "[encoded data removed]",
      "text/plain": [
       "<Figure size 500x300 with 1 Axes>"
      ]
     },
     "metadata": {},
     "output_type": "display_data"
    }
   ],
   "source": [
    "import matplotlib.pyplot as plt \n",
    "\n",
    "\n",
    "fig, ax = plt.subplots(figsize=(5, 3))\n",
    "ax.scatter(dfs.alto_s,dfs.pie_s,s=4,color=\"blue\")\n",
    "ax.scatter([xn],[yn],s=40,color=\"green\")\n",
    "cercanos = df2n.sort_values(by=[\"dist\"]).head(10)\n",
    "ax.scatter(cercanos.alto_s,cercanos.pie_s,s=4,color=\"red\")\n",
    "\n",
    "plt.xlim(0,1)\n",
    "plt.ylim(0,1)\n",
    "plt.xlabel(\"alto\")\n",
    "plt.ylabel(\"pie\")\n",
    "plt.show()"
   ]
  },
  {
   "cell_type": "markdown",
   "id": "4c40fd85",
   "metadata": {},
   "source": [
    "El usar el mismo esquema nos permite escribir una función que sea independiente del método"
   ]
  },
  {
   "cell_type": "code",
   "execution_count": 98,
   "id": "d88d8056",
   "metadata": {},
   "outputs": [],
   "source": [
    "from sklearn.preprocessing import StandardScaler,MinMaxScaler\n",
    "\n",
    "def escala(df,metodo,columnas):\n",
    "    metodo.fit(df)\n",
    "    datos = metodo.transform(df)\n",
    "    return pd.DataFrame(datos,columns=columnas)\n",
    "    \n",
    "    \n",
    "dfmM = escala(df, MinMaxScaler(), [\"alto_s\",\"pie_s\"])\n",
    "dfs  = escala(df, StandardScaler(), [\"alto_s\",\"pie_s\"])\n"
   ]
  },
  {
   "cell_type": "markdown",
   "id": "e27c902c",
   "metadata": {},
   "source": [
    "\n",
    "<a name=\"otros\"></a>\n",
    "#### Otros normalizadores\n",
    "Un problema conocido en el caso de maxmin, y una razón por la que a menudo se prefiere la estandarización "
   ]
  },
  {
   "cell_type": "code",
   "execution_count": 110,
   "id": "11392ba4",
   "metadata": {},
   "outputs": [
    {
     "data": {
      "text/html": [
       "<div>\n",
       "<style scoped>\n",
       "    .dataframe tbody tr th:only-of-type {\n",
       "        vertical-align: middle;\n",
       "    }\n",
       "\n",
       "    .dataframe tbody tr th {\n",
       "        vertical-align: top;\n",
       "    }\n",
       "\n",
       "    .dataframe thead th {\n",
       "        text-align: right;\n",
       "    }\n",
       "</style>\n",
       "<table border=\"1\" class=\"dataframe\">\n",
       "  <thead>\n",
       "    <tr style=\"text-align: right;\">\n",
       "      <th></th>\n",
       "      <th>alto</th>\n",
       "      <th>pie</th>\n",
       "    </tr>\n",
       "  </thead>\n",
       "  <tbody>\n",
       "    <tr>\n",
       "      <th>0</th>\n",
       "      <td>40.0000</td>\n",
       "      <td>37.44</td>\n",
       "    </tr>\n",
       "    <tr>\n",
       "      <th>1</th>\n",
       "      <td>1.9600</td>\n",
       "      <td>39.36</td>\n",
       "    </tr>\n",
       "    <tr>\n",
       "      <th>2</th>\n",
       "      <td>1.6110</td>\n",
       "      <td>44.58</td>\n",
       "    </tr>\n",
       "    <tr>\n",
       "      <th>3</th>\n",
       "      <td>1.9188</td>\n",
       "      <td>40.87</td>\n",
       "    </tr>\n",
       "    <tr>\n",
       "      <th>4</th>\n",
       "      <td>1.7185</td>\n",
       "      <td>40.61</td>\n",
       "    </tr>\n",
       "    <tr>\n",
       "      <th>...</th>\n",
       "      <td>...</td>\n",
       "      <td>...</td>\n",
       "    </tr>\n",
       "    <tr>\n",
       "      <th>95</th>\n",
       "      <td>2.1318</td>\n",
       "      <td>40.25</td>\n",
       "    </tr>\n",
       "    <tr>\n",
       "      <th>96</th>\n",
       "      <td>1.8841</td>\n",
       "      <td>33.76</td>\n",
       "    </tr>\n",
       "    <tr>\n",
       "      <th>97</th>\n",
       "      <td>1.6658</td>\n",
       "      <td>40.14</td>\n",
       "    </tr>\n",
       "    <tr>\n",
       "      <th>98</th>\n",
       "      <td>1.5721</td>\n",
       "      <td>39.45</td>\n",
       "    </tr>\n",
       "    <tr>\n",
       "      <th>99</th>\n",
       "      <td>1.8077</td>\n",
       "      <td>45.93</td>\n",
       "    </tr>\n",
       "  </tbody>\n",
       "</table>\n",
       "<p>100 rows × 2 columns</p>\n",
       "</div>"
      ],
      "text/plain": [
       "       alto    pie\n",
       "0   40.0000  37.44\n",
       "1    1.9600  39.36\n",
       "2    1.6110  44.58\n",
       "3    1.9188  40.87\n",
       "4    1.7185  40.61\n",
       "..      ...    ...\n",
       "95   2.1318  40.25\n",
       "96   1.8841  33.76\n",
       "97   1.6658  40.14\n",
       "98   1.5721  39.45\n",
       "99   1.8077  45.93\n",
       "\n",
       "[100 rows x 2 columns]"
      ]
     },
     "execution_count": 110,
     "metadata": {},
     "output_type": "execute_result"
    }
   ],
   "source": [
    "df2 = df.copy()\n",
    "df2.iloc[0,0]=40 # un error en los datos\n",
    "df2"
   ]
  },
  {
   "cell_type": "code",
   "execution_count": 112,
   "id": "c75e4fa8",
   "metadata": {},
   "outputs": [
    {
     "name": "stderr",
     "output_type": "stream",
     "text": [
      "C:\\Users\\Rafa\\AppData\\Roaming\\Python\\Python39\\site-packages\\sklearn\\base.py:450: UserWarning: X does not have valid feature names, but MinMaxScaler was fitted with feature names\n",
      "  warnings.warn(\n"
     ]
    },
    {
     "data": {
      "image/png": "[encoded data removed]",
      "text/plain": [
       "<Figure size 500x300 with 1 Axes>"
      ]
     },
     "metadata": {},
     "output_type": "display_data"
    }
   ],
   "source": [
    "minmax =  MinMaxScaler()\n",
    "dfs = escala(df2, minmax, [\"alto_s\",\"pie_s\"])\n",
    "\n",
    "# distancias\n",
    "xn,yn = minmax.transform([[1.95,36]])[0]\n",
    "df2n = dfs.copy()\n",
    "df2n[\"dist\"] = ((dfs.alto_s-xn)**2 + (dfs.pie_s-yn)**2)**0.5\n",
    "\n",
    "\n",
    "\n",
    "fig, ax = plt.subplots(figsize=(5, 3))\n",
    "ax.scatter(dfs.alto_s,dfs.pie_s,s=4,color=\"blue\")\n",
    "ax.scatter([xn],[yn],s=40,color=\"green\")\n",
    "cercanos = df2n.sort_values(by=[\"dist\"]).head(10)\n",
    "ax.scatter(cercanos.alto_s,cercanos.pie_s,s=4,color=\"red\")\n",
    "\n",
    "plt.xlim(0,0.1)\n",
    "plt.ylim(0,1)\n",
    "plt.xlabel(\"alto\")\n",
    "plt.ylabel(\"pie\")\n",
    "plt.show()"
   ]
  },
  {
   "cell_type": "markdown",
   "id": "5bf89e6f",
   "metadata": {},
   "source": [
    "Para evitar este problema existen otras versiones como RobusScaler que se basan en la mediana"
   ]
  },
  {
   "cell_type": "code",
   "execution_count": 114,
   "id": "ab05e2ce",
   "metadata": {},
   "outputs": [
    {
     "name": "stderr",
     "output_type": "stream",
     "text": [
      "C:\\Users\\Rafa\\AppData\\Roaming\\Python\\Python39\\site-packages\\sklearn\\base.py:450: UserWarning: X does not have valid feature names, but RobustScaler was fitted with feature names\n",
      "  warnings.warn(\n"
     ]
    },
    {
     "data": {
      "image/png": "[encoded data removed]",
      "text/plain": [
       "<Figure size 500x300 with 1 Axes>"
      ]
     },
     "metadata": {},
     "output_type": "display_data"
    }
   ],
   "source": [
    "from sklearn.preprocessing import RobustScaler\n",
    "\n",
    "escalador =    RobustScaler() \n",
    "dfs = escala(df2, escalador, [\"alto_s\",\"pie_s\"])\n",
    "\n",
    "# distancias\n",
    "xn,yn = escalador.transform([[1.95,36]])[0]\n",
    "df2n = dfs.copy()\n",
    "df2n[\"dist\"] = ((dfs.alto_s-xn)**2 + (dfs.pie_s-yn)**2)**0.5\n",
    "\n",
    "\n",
    "\n",
    "fig, ax = plt.subplots(figsize=(5, 3))\n",
    "ax.scatter(dfs.alto_s,dfs.pie_s,s=4,color=\"blue\")\n",
    "ax.scatter([xn],[yn],s=40,color=\"green\")\n",
    "cercanos = df2n.sort_values(by=[\"dist\"]).head(10)\n",
    "ax.scatter(cercanos.alto_s,cercanos.pie_s,s=4,color=\"red\")\n",
    "\n",
    "plt.xlim(-2,2)\n",
    "plt.ylim(-2,2)\n",
    "plt.xlabel(\"alto\")\n",
    "plt.ylabel(\"pie\")\n",
    "plt.show()"
   ]
  },
  {
   "cell_type": "markdown",
   "id": "62570f87",
   "metadata": {},
   "source": [
    "[Aquí](https://scikit-learn.org/stable/auto_examples/preprocessing/plot_all_scaling.html) se puede encontrar una comparativa del efecto que pueden tener los outliers comparando estos y otros escaladores"
   ]
  },
  {
   "cell_type": "code",
   "execution_count": null,
   "id": "084f7bd4",
   "metadata": {},
   "outputs": [],
   "source": []
  }
 ],
 "metadata": {
  "kernelspec": {
   "display_name": "Python 3 (ipykernel)",
   "language": "python",
   "name": "python3"
  },
  "language_info": {
   "codemirror_mode": {
    "name": "ipython",
    "version": 3
   },
   "file_extension": ".py",
   "mimetype": "text/x-python",
   "name": "python",
   "nbconvert_exporter": "python",
   "pygments_lexer": "ipython3",
   "version": "3.9.12"
  }
 },
 "nbformat": 4,
 "nbformat_minor": 5
}
