{
 "cells": [
  {
   "cell_type": "markdown",
   "metadata": {
    "id": "o0_EgU3R_jRR"
   },
   "source": [
    "# Introducción a la ciencia de datos con Python \n",
    "###  Rafa Caballero \n",
    "\n",
    "\n",
    "## Instrucciones de control y funciones de usuario\n"
   ]
  },
  {
   "cell_type": "markdown",
   "metadata": {
    "id": "cL1obFdq_jRZ"
   },
   "source": [
    "\n",
    "\n",
    "### Índice\n",
    "\n",
    "[Condicionales](#Condicionales)<br>\n",
    "    &emsp;[If](#If)<br>\n",
    "    &emsp;[If-else](#If-else)<br>\n",
    "    &emsp;[if-elif](#if-elif)<br><br>\n",
    "[Bucles](#Bucles)<br>\n",
    "    &emsp;[For](#For)<br>\n",
    "    &emsp;[While](#While)<br>\n",
    "    &emsp;[Listas Intensionales](#Listas-Intensionales)<br>\n",
    "    &emsp;[Lectura de ficheros](#Lectura-de-ficheros)<br>\n",
    "    \n",
    "[Funciones definidas por el usuario](#Funciones-definidas-por-el-usuario)<br>\n",
    "    &emsp;[Estructura](#Estructura)<br>\n",
    "    &emsp;[Parámetros por defecto](#Parámetros-por-defecto)<br>\n",
    "    &emsp;[Parámetros nombrados](#Parámetros-nombrados)<br>\n",
    "    &emsp;[Funciones lambda](#Funciones-lambda)<br>\n",
    "<hr>\n",
    "\n",
    "Como hemos visto, Python, como casi todos los lenguajes, va procesando las instrucciones de forma consecutiva, de arriba hacia abajo.\n",
    "Al hablar de *instrucciones de control*, nos referimos a aquellas instrucciones que nos permiten cambiar este modo de funcionamiento, elegir qué instrucciones se ejecutarán y cuáles no, y qué numero de veces lo harán."
   ]
  },
  {
   "cell_type": "markdown",
   "metadata": {
    "id": "pyeILMJL_jRb"
   },
   "source": [
    "<a name=\"Condicionales\"></a>\n",
    "## Condicionales"
   ]
  },
  {
   "cell_type": "markdown",
   "metadata": {
    "id": "aqzW97pD_jRc"
   },
   "source": [
    "Las instrucciones condicionales permiten *bifurcar* el código, indicando si una instrucción se va a ejecutar o no dependiendo de una condición."
   ]
  },
  {
   "cell_type": "markdown",
   "metadata": {
    "id": "T9HPur-__jRd"
   },
   "source": [
    "<a name=\"If\"></a>\n",
    "### If"
   ]
  },
  {
   "cell_type": "markdown",
   "metadata": {
    "id": "D12XyvvB_jRe"
   },
   "source": [
    "La forma general es\n",
    "\n",
    "     if cond_booleana:\n",
    "         código"
   ]
  },
  {
   "cell_type": "code",
   "execution_count": null,
   "metadata": {
    "id": "2es2qLWd_jRg"
   },
   "outputs": [],
   "source": [
    "x = 12\n",
    "if x >10:\n",
    "    print(\"Hola!!\")\n"
   ]
  },
  {
   "cell_type": "markdown",
   "metadata": {
    "id": "kaqHI2A2_jRl"
   },
   "source": [
    "Importante: El código que corresponde al *if* debe ir identado a la derecha. Al menos 4 espacios; mientras se siga con la identación se entiende que estamos dentro del bloque.\n",
    "\n"
   ]
  },
  {
   "cell_type": "markdown",
   "metadata": {
    "id": "jQ4Ekb1k_jRm"
   },
   "source": [
    "<a name=\"If-else\"></a>\n",
    "### If-else"
   ]
  },
  {
   "cell_type": "markdown",
   "metadata": {
    "id": "3RM-hkJj_jRo"
   },
   "source": [
    "Forma general\n",
    "\n",
    "    if cond_booleana:\n",
    "        código\n",
    "    else:\n",
    "        código"
   ]
  },
  {
   "cell_type": "code",
   "execution_count": null,
   "metadata": {
    "id": "gsFkupxx_jRp"
   },
   "outputs": [],
   "source": [
    "x = 10\n",
    "if x > 10:\n",
    "    print(\"hello\")\n",
    "else:\n",
    "    print(\"world\")"
   ]
  },
  {
   "cell_type": "markdown",
   "metadata": {
    "id": "nRNqAwP1_jRq"
   },
   "source": [
    "**Ejercicio 1** Decir qué hará el siguiente código sin necesidad de ejecutarlo, tanto en el caso de que la edad sea mayor que 18 como en el caso contrario."
   ]
  },
  {
   "cell_type": "code",
   "execution_count": null,
   "metadata": {
    "id": "W_uBDF6e_jRr"
   },
   "outputs": [],
   "source": [
    "print(\"Buenos días, me dice su edad? \")\n",
    "edad = 16\n",
    "if edad <18:\n",
    "    print(\"Los menores no tienen acceso permitido\")\n",
    "    print(\"Lo lamentamos\")\n",
    "else:\n",
    "    print(\"Bienvenido, pase\")\n",
    "print(\"Siguiente!\")"
   ]
  },
  {
   "cell_type": "markdown",
   "metadata": {
    "id": "9RTDz1wW_jRs"
   },
   "source": [
    "**Ejercicio 2** Escribir código para mostrar el mayor de dos números x,y usando una instrucción `if`...`else`"
   ]
  },
  {
   "cell_type": "code",
   "execution_count": null,
   "metadata": {
    "id": "WOJsn8kG_jRt"
   },
   "outputs": [],
   "source": [
    "x=5\n",
    "y=6\n",
    "\n",
    "# debe funcionar sea el que sea el mayor"
   ]
  },
  {
   "cell_type": "markdown",
   "metadata": {
    "id": "dSrbKCZI_jRt"
   },
   "source": [
    "**Ejercicio 3** Escribir un código que a partir de las variable login y password compruebe si el login es \"bertoldo\" y el password \"gominolas\" el programa escribira \"login correcto\", y si no \"acceso denegado\""
   ]
  },
  {
   "cell_type": "code",
   "execution_count": null,
   "metadata": {
    "id": "b2clUMEp_jRu"
   },
   "outputs": [],
   "source": [
    "# solución\n",
    "\n",
    "login = \"bertoldo\"\n",
    "password  = \"gominolas\"\n"
   ]
  },
  {
   "cell_type": "markdown",
   "metadata": {
    "id": "BolkISTf_jRv"
   },
   "source": [
    "<a name=\"if-elif\"></a>\n",
    "### if-elif"
   ]
  },
  {
   "cell_type": "markdown",
   "metadata": {
    "id": "6oFEU3MQ_jRv"
   },
   "source": [
    "Se utiiza para abreviar estructuras de la forma *if cond ... else if cond ... else if*\n",
    "\n",
    "    if cond_booleana:\n",
    "        código\n",
    "    elif cond_booleana:\n",
    "        código\n",
    "    else:\n",
    "        código"
   ]
  },
  {
   "cell_type": "markdown",
   "metadata": {
    "id": "nVEHXytG_jRw"
   },
   "source": [
    "Dados dos números x,y, mostrar si x es mayor, menor o igual a y"
   ]
  },
  {
   "cell_type": "code",
   "execution_count": null,
   "metadata": {
    "id": "wKuBYD8F_jRx"
   },
   "outputs": [],
   "source": [
    "x = 10\n",
    "y = 12\n",
    "if x > y:\n",
    "    print(\"x>y\")\n",
    "elif x < y:\n",
    "    print(\"x<y\")\n",
    "else:\n",
    "    print(\"x=y\")"
   ]
  },
  {
   "cell_type": "markdown",
   "metadata": {
    "id": "n0jR1nEs_jRx"
   },
   "source": [
    "Un if dentro de un if se llama un *if anidado*"
   ]
  },
  {
   "cell_type": "code",
   "execution_count": null,
   "metadata": {
    "id": "aa7gg4bZ_jRy"
   },
   "outputs": [],
   "source": [
    "x = 10\n",
    "y = 12\n",
    "if x > y:\n",
    "    print(\"x>y\")\n",
    "elif x < y:\n",
    "    print(\"x<y\")\n",
    "    if x>0:\n",
    "        print(\"x positivo\")\n",
    "    else:\n",
    "        print(\"ínvalido\")\n",
    "else:\n",
    "    print(\"x=y\")"
   ]
  },
  {
   "cell_type": "markdown",
   "metadata": {
    "id": "trweML9X_jRz"
   },
   "source": [
    "**Ejercicio 4** Escribir código para mostrar el mayor de 3 números x,y,z"
   ]
  },
  {
   "cell_type": "code",
   "execution_count": null,
   "metadata": {
    "id": "eHlJNtPf_jRz"
   },
   "outputs": [],
   "source": [
    "x=7\n",
    "y=6\n",
    "z=8\n",
    "\n",
    "        \n",
    "    \n",
    "    "
   ]
  },
  {
   "cell_type": "markdown",
   "metadata": {
    "id": "8QBmsybD_jR0"
   },
   "source": [
    "<a name=\"Bucles\"></a>\n",
    "## Bucles"
   ]
  },
  {
   "cell_type": "markdown",
   "metadata": {
    "id": "EI2ijgFZ_jR0"
   },
   "source": [
    "<a name=\"For\"></a>\n",
    "### For"
   ]
  },
  {
   "cell_type": "markdown",
   "metadata": {
    "id": "9__k9ot6_jR1"
   },
   "source": [
    "Formato general\n",
    "    \n",
    "    for variable in estructura_iterable:\n",
    "        código\n",
    "        \n",
    "Ejemplo: escribir los números de 0 a 4"
   ]
  },
  {
   "cell_type": "code",
   "execution_count": null,
   "metadata": {
    "id": "ok9FC_Tm_jR1"
   },
   "outputs": [],
   "source": [
    "for i in (0,1,2,3,4):\n",
    "    print(i)"
   ]
  },
  {
   "cell_type": "markdown",
   "metadata": {
    "id": "8Rz36PE5_jR3"
   },
   "source": [
    "Equivalente a:"
   ]
  },
  {
   "cell_type": "code",
   "execution_count": null,
   "metadata": {
    "id": "J-DlOTYS_jR4"
   },
   "outputs": [],
   "source": [
    "i=0\n",
    "print(i)\n",
    "i=1\n",
    "print(i)\n",
    "i=2\n",
    "print(i)\n",
    "# ..."
   ]
  },
  {
   "cell_type": "markdown",
   "metadata": {
    "id": "-ZCmcrBlCGzZ"
   },
   "source": [
    "Otra forma, mediante la función predefinida `range`"
   ]
  },
  {
   "cell_type": "code",
   "execution_count": null,
   "metadata": {
    "id": "CCyqXm6C_jR2"
   },
   "outputs": [],
   "source": [
    "for i in range(5):\n",
    "    print(i)"
   ]
  },
  {
   "cell_type": "markdown",
   "metadata": {
    "id": "_8X66R2m_jR5"
   },
   "source": [
    "**Ejemplo 5** Escribir un fragmento de código que, para cada número desde 0 hasta 10, escriba el número si es par. Pista: cuando x es par, x % 2 == 0"
   ]
  },
  {
   "cell_type": "code",
   "execution_count": null,
   "metadata": {
    "id": "9lGsbR9B_jR6"
   },
   "outputs": [],
   "source": []
  },
  {
   "cell_type": "markdown",
   "metadata": {
    "id": "Rs0mHEys_jR6"
   },
   "source": [
    "Otras estructuras iterables son secuencias (listas, tuplas),  y los ficheros"
   ]
  },
  {
   "cell_type": "code",
   "execution_count": null,
   "metadata": {
    "id": "MD7O6gqW_jR7"
   },
   "outputs": [],
   "source": [
    "list_of_lists = [[1, 2, 3,4], [ 5, 6,7,8], [9,10,11,12]]\n",
    "for list1 in list_of_lists:\n",
    "        print(list1)"
   ]
  },
  {
   "cell_type": "markdown",
   "metadata": {
    "id": "VVBPua_S_jR7"
   },
   "source": [
    "Un ejemplo sobre una lista anidada"
   ]
  },
  {
   "cell_type": "code",
   "execution_count": null,
   "metadata": {
    "id": "YKON4pA0_jR8"
   },
   "outputs": [],
   "source": [
    "list_of_lists = [[1, 2, 3], [4, 5, 6], [7, 8, 9]]\n",
    "for list1 in list_of_lists:\n",
    "    print(list1)\n",
    "    for x in list1:\n",
    "        print(x)\n",
    "    print(\"--\"*5)\n",
    "print(\"fin\")\n"
   ]
  },
  {
   "cell_type": "markdown",
   "metadata": {
    "id": "Pv-Hv33j_jR8"
   },
   "source": [
    "**Ejemplo** Calcular todos los divisores de un número n cualquiera"
   ]
  },
  {
   "cell_type": "code",
   "execution_count": null,
   "metadata": {
    "id": "OUMcP_29_jR9"
   },
   "outputs": [],
   "source": [
    "n=1024\n",
    "for d in range(1,n+1): # d es candidato a dividir a i. d=1...n\n",
    "    #print(d)\n",
    "    if n%d == 0:\n",
    "        print (d, \"es divisor de\", n)\n"
   ]
  },
  {
   "cell_type": "markdown",
   "metadata": {
    "id": "o8BqJX57_jR9"
   },
   "source": [
    "**Ejemplo 6** Escribir un fragmento que, para cada número de 1 a 100, escriba la lista de sus divisores. Por ejemplo, para 10 escribirá 1,2,5,10."
   ]
  },
  {
   "cell_type": "code",
   "execution_count": null,
   "metadata": {
    "id": "4gJlkhDt_jR9"
   },
   "outputs": [],
   "source": [
    "\n"
   ]
  },
  {
   "cell_type": "markdown",
   "metadata": {
    "id": "oNJiZdBS_jR-"
   },
   "source": [
    "**Ejemplo 7** Calcular el número total de divisores que tiene un número i dado"
   ]
  },
  {
   "cell_type": "code",
   "execution_count": null,
   "metadata": {
    "id": "wuyrRmpG_jR-"
   },
   "outputs": [],
   "source": [
    "n=1024\n",
    "       "
   ]
  },
  {
   "cell_type": "markdown",
   "metadata": {
    "id": "DWob-t20_jR_"
   },
   "source": [
    "**Ejemplo 8** Escribir un fragmento de código que deje en una variable tipo lista de enteros l todos los divisiones de 100. Idea: partir de *l=[ ]* e ir usando el método append para ir añadiendo elementos a *l*."
   ]
  },
  {
   "cell_type": "code",
   "execution_count": null,
   "metadata": {
    "id": "gdjUiUsJ_jR_"
   },
   "outputs": [],
   "source": []
  },
  {
   "cell_type": "markdown",
   "metadata": {
    "id": "r5UTx_ZB_jR_"
   },
   "source": [
    "**Ejemplo 9** Sabemos que el método *find* busca subcadenas. Supongamos por un momento que no existe. Escribir un fragmento de código que dado, un string *s* busque todas las apariciones de la letra \"u\" y muestre por pantalla la posición en la que aparecen."
   ]
  },
  {
   "cell_type": "code",
   "execution_count": null,
   "metadata": {
    "id": "iH8Vb1Rs_jSA"
   },
   "outputs": [],
   "source": [
    "s = \"\"\"Tyger! Tyger! burning bright.\n",
    "    In the forests of the night, \n",
    "    What immortal hand or eye. ...\"\"\""
   ]
  },
  {
   "cell_type": "markdown",
   "metadata": {
    "id": "BA6s3AFQ_jSA"
   },
   "source": [
    "**Ejemplo 10** Nos venimos arriba y queremos extender el código anterior para que en lugar de buscar un caracter busque todas las apariciones de una subcadena s1 dentro de s. Como en el caso anterior queremos que muestra la posición en la que aparece."
   ]
  },
  {
   "cell_type": "code",
   "execution_count": null,
   "metadata": {
    "id": "UtoM01lf_jSA"
   },
   "outputs": [],
   "source": [
    "s = \"\"\"Tyger! Tyger! burning bright.\n",
    "    In the forests of the night, \n",
    "    What immortal hand or eye. ...\"\"\"\n"
   ]
  },
  {
   "cell_type": "markdown",
   "metadata": {
    "id": "4NfDvq81DGYz"
   },
   "source": [
    "En ocasiones a la vez que recorremos una estructura como una lista o un string queremos saber que posición ocupa cada elemento. Hay varias formas de hacer esto:"
   ]
  },
  {
   "cell_type": "code",
   "execution_count": null,
   "metadata": {
    "id": "Zmx74vv6DRvp"
   },
   "outputs": [],
   "source": [
    "s = \"tenemos el arte para no perecer a causa de la verdad\"\n",
    "p = 0\n",
    "for c in s:\n",
    "    print(p,c)\n",
    "    p+=1"
   ]
  },
  {
   "cell_type": "code",
   "execution_count": null,
   "metadata": {
    "id": "0wb91jbMDtPK"
   },
   "outputs": [],
   "source": [
    "s = \"tenemos el arte para no perecer a causa de la verdad\"\n",
    "for p in range(len(s)):\n",
    "    print(p,s[p])\n"
   ]
  },
  {
   "cell_type": "markdown",
   "metadata": {
    "id": "O-P1uNNbD-eL"
   },
   "source": [
    "Hay aun otra forma de hacerlo, con la función enumerate, que devuelve parejas posición,valor"
   ]
  },
  {
   "cell_type": "code",
   "execution_count": null,
   "metadata": {
    "id": "dDNglQNrEEcR"
   },
   "outputs": [],
   "source": [
    "for (p,c) in enumerate(s):\n",
    "    print(p,c)"
   ]
  },
  {
   "cell_type": "code",
   "execution_count": null,
   "metadata": {
    "id": "hA8T0XrnfSFf"
   },
   "outputs": [],
   "source": []
  },
  {
   "cell_type": "markdown",
   "metadata": {
    "id": "jlmJrvdN_jSB"
   },
   "source": [
    "<a name=\"While\"></a>\n",
    "## While"
   ]
  },
  {
   "cell_type": "markdown",
   "metadata": {
    "id": "QVz4OCDv_jSB"
   },
   "source": [
    "Forma: \n",
    "    \n",
    "    while cond_booleana:    \n",
    "        código"
   ]
  },
  {
   "cell_type": "code",
   "execution_count": null,
   "metadata": {
    "id": "3gC9nPJH_jSB"
   },
   "outputs": [],
   "source": [
    "i = 1\n",
    "while i < 3:\n",
    "    print(i ** 2)\n",
    "    i = i+1\n",
    "print('Bye')"
   ]
  },
  {
   "cell_type": "markdown",
   "metadata": {
    "id": "yw6rlHK5_jSC"
   },
   "source": [
    "**Ejercicio 12** Repetimos el ejercicio de buscar un caracter en una cadena s, pero ahora solo queremos que deje en una variable *p* la primera aparición de la \"u\". Si no aparece debe dejar p=-1."
   ]
  },
  {
   "cell_type": "code",
   "execution_count": null,
   "metadata": {
    "id": "njMGvrGc_jSC"
   },
   "outputs": [],
   "source": [
    "s = \"dábale arroz a la zorra el abad\"\n",
    "s = \"había muchas letras en aquella extraña frase\"\n",
    "#print(p)"
   ]
  },
  {
   "cell_type": "markdown",
   "metadata": {
    "id": "Eew0w7vr_jSJ"
   },
   "source": [
    "<a name=\"Listas-Intensionales\"></a>\n",
    "### Listas Intensionales"
   ]
  },
  {
   "cell_type": "markdown",
   "metadata": {
    "id": "j8s1hijz_jSJ"
   },
   "source": [
    "Tal y como dijimos, en Python las listas son estructuras muy usadas para almacenar datos, por ejemplo:"
   ]
  },
  {
   "cell_type": "code",
   "execution_count": null,
   "metadata": {
    "id": "sWNJPl5b_jSJ"
   },
   "outputs": [],
   "source": [
    "div = []\n",
    "for i in range(1,101):\n",
    "    if 100 % i == 0: \n",
    "        div.append(i)\n",
    "print(div)"
   ]
  },
  {
   "cell_type": "markdown",
   "metadata": {
    "id": "crmQP38i_jSK"
   },
   "source": [
    "Este tipo de código es tan común que se ofrece una forma de hacerlo en una sola expresión, las listas intensionales:"
   ]
  },
  {
   "cell_type": "code",
   "execution_count": null,
   "metadata": {
    "id": "pzuE-w62_jSK"
   },
   "outputs": [],
   "source": [
    "[i for i in range(1,101) if 100%i==0]"
   ]
  },
  {
   "cell_type": "markdown",
   "metadata": {
    "id": "mRncQmYe_jSK"
   },
   "source": [
    "La sintaxis es: \n",
    "``` Python\n",
    "nuevalista = [expr for var in estructura_iterable if condicion]\n",
    "```"
   ]
  },
  {
   "cell_type": "markdown",
   "metadata": {
    "id": "4ZHUqkbs_jSK"
   },
   "source": [
    "La idea es:\n",
    "\n",
    "* La variable irá tomando todos los valores de la estructura_iterable\n",
    "* Los valores que no cumplen el *if* se descartan (el *if* es opcional)\n",
    "* Los valores que sí cumplen el if se evalúan en la expresión expr, cuyo resultado se añade a la lista nueva"
   ]
  },
  {
   "cell_type": "code",
   "execution_count": null,
   "metadata": {
    "id": "u9aMjBXQ_jSK"
   },
   "outputs": [],
   "source": [
    "[x for x in range(1,20) if x % 2 ==0]"
   ]
  },
  {
   "cell_type": "markdown",
   "metadata": {
    "id": "UnxuDEOE_jSK"
   },
   "source": [
    "**Ejemplo** Escribir código que extraiga solo los símbolos no numéricos de un string (x.isalpha indica si un carácter es no numérico)"
   ]
  },
  {
   "cell_type": "code",
   "execution_count": null,
   "metadata": {
    "id": "HsAyo-gf_jSL"
   },
   "outputs": [],
   "source": [
    "s = \"y5o n0o qui1ero9 tantos digitos\"\n"
   ]
  },
  {
   "cell_type": "markdown",
   "metadata": {
    "id": "zVpbOcs8_jSL"
   },
   "source": [
    "**Ejercicio 13** Generar un lista y que  para cada elemento v de x tenga v*v"
   ]
  },
  {
   "cell_type": "code",
   "execution_count": null,
   "metadata": {
    "id": "RMPwoqnd_jSL"
   },
   "outputs": [],
   "source": [
    "x = list(range(10))\n"
   ]
  },
  {
   "cell_type": "markdown",
   "metadata": {
    "id": "yV-ktOyt_jSL"
   },
   "source": [
    "<a name=\"Lectura-de-ficheros\"></a>\n",
    "### Lectura de ficheros"
   ]
  },
  {
   "cell_type": "markdown",
   "metadata": {
    "id": "7Je6i1yW_jSL"
   },
   "source": [
    "Para leer de ficheros es conveniente utilizar la palabra reservada with, que se encargará de liberar recursos al acabar.\n",
    "\n",
    "Ejemplo: leemos un fichero de contaminación que se genera automáticamente en madrid cada día\n",
    "\n",
    "\n",
    "http://www.mambiente.munimadrid.es/opendata/horario.txt\n",
    "\n",
    "En este fichero, el que vamos a utilizar, cada fila tiene los datos de una estación para un contaminante concreto en el día en curso. Para cada fila, el formato:\n",
    "\n",
    "* Las 3 primeras columnas especifican la [estación](https://gist.githubusercontent.com/koldLight/533038c852ca0a546da247292b5d9ab9/raw/deb47b10bd67a7c9795ea24af49ed90b1f572ebd/madrid_air_quality_stations.csv)\n",
    "* Las 3 siguientes el contaminante. En realidad la primera ya indica el contaminante (01--> SO2µg/m³, 08 --> NO2 µg/m³, 10 --> PM10 µg/m3,14--> O3µg/m³, 20-->TOL µg/m³ ,...)\n",
    "* El resto de las columnas van en parejas, y son 48, una pareja por cada hora del día. Si el segundo componente es N el dato aun no está disponible, si es V el dato de la columna anterior es válido\n",
    "\n",
    "Una descripción más completa [aquí](http://espiadellabo.com/wp-content/uploads/2019/06/Interprete_ficheros_-calidad_-del_-aire_global.pdf)\n",
    "\n",
    "Primero lo descargamos en local"
   ]
  },
  {
   "cell_type": "code",
   "execution_count": 1,
   "metadata": {
    "id": "qIBmP00G_jSL"
   },
   "outputs": [
    {
     "data": {
      "text/plain": [
       "17980"
      ]
     },
     "execution_count": 1,
     "metadata": {},
     "output_type": "execute_result"
    }
   ],
   "source": [
    "url = 'http://www.mambiente.munimadrid.es/opendata/horario.txt'\n",
    "# lo descargamos en local\n",
    "salida = 'horario.txt'\n",
    "import requests\n",
    "r = requests.get(url, allow_redirects=True) # el fichero queda en la variable r\n",
    "open(salida, 'wb').write(r.content) # ahora lo grabamos localmente\n",
    "\n",
    "\n"
   ]
  },
  {
   "cell_type": "code",
   "execution_count": null,
   "metadata": {
    "id": "YBzi-yie_jSL"
   },
   "outputs": [],
   "source": [
    "with open(salida,encoding=\"utf-8\") as f:\n",
    "    for line in f:\n",
    "        print(line)\n"
   ]
  },
  {
   "cell_type": "markdown",
   "metadata": {
    "id": "dYNtYXD3_jSM"
   },
   "source": [
    "**Ejemplo** Buscar los datos Plaza de España 28,079,004 para el contaminante 08. Idea: usar la función split separar por la coma"
   ]
  },
  {
   "cell_type": "code",
   "execution_count": null,
   "metadata": {
    "id": "UH8vKg7q_jSM"
   },
   "outputs": [],
   "source": [
    "with open(salida,encoding=\"utf-8\") as f:\n",
    "    for line in f:\n",
    "        dato = line.split(\",\")\n",
    "        if dato[0]==\"28\" and dato[1]==\"079\" and dato[2]==\"004\" and dato[3]==\"08\":\n",
    "            print(line)"
   ]
  },
  {
   "cell_type": "markdown",
   "metadata": {
    "id": "Xf0JE6v5kcDQ"
   },
   "source": [
    "Repetir el código anterior pero mostrando para cada hora válida el número de hora y el valor. Dejar el resultado en dos arrays; horas y valores."
   ]
  },
  {
   "cell_type": "code",
   "execution_count": null,
   "metadata": {
    "id": "Z--tPPSa_jSM"
   },
   "outputs": [],
   "source": []
  },
  {
   "cell_type": "code",
   "execution_count": null,
   "metadata": {
    "id": "LI0qrJvc_jSM"
   },
   "outputs": [],
   "source": [
    "import matplotlib.pyplot as plt\n",
    "plt.plot(horas,valores)\n",
    "plt.show()"
   ]
  },
  {
   "cell_type": "markdown",
   "metadata": {
    "id": "KKxN-4dx_jSM"
   },
   "source": [
    "<a name=\"Fuinciones-definidas-por-el-usuario\"></a>\n",
    "## Funciones definidas por el usuario"
   ]
  },
  {
   "cell_type": "markdown",
   "metadata": {
    "id": "RQLvKvB3_jSM"
   },
   "source": [
    "<a name=\"Estructura\"></a>\n",
    "### Estructura"
   ]
  },
  {
   "cell_type": "markdown",
   "metadata": {
    "id": "yxy69fii_jSM"
   },
   "source": [
    "La estructura general es:\n",
    "\n",
    "    def userDefFunction (arg1, arg2, arg3 ...):\n",
    "        program statement1\n",
    "        program statement3\n",
    "        program statement3\n",
    "        ....\n",
    "       return value"
   ]
  },
  {
   "cell_type": "code",
   "execution_count": null,
   "metadata": {
    "id": "zUcjxguH_jSN"
   },
   "outputs": [],
   "source": [
    "def cubo(x):\n",
    "    r = x*x*x\n",
    "    return r"
   ]
  },
  {
   "cell_type": "code",
   "execution_count": null,
   "metadata": {
    "id": "wwE_ckJj_jSN"
   },
   "outputs": [],
   "source": [
    "cubo(3)"
   ]
  },
  {
   "cell_type": "code",
   "execution_count": null,
   "metadata": {
    "id": "K_-K56xX_jSN"
   },
   "outputs": [],
   "source": [
    "x=2\n",
    "a=2\n",
    "cubo(a)"
   ]
  },
  {
   "cell_type": "code",
   "execution_count": null,
   "metadata": {
    "id": "Nt03rf8e_jSN"
   },
   "outputs": [],
   "source": [
    "cubo(cubo(2))"
   ]
  },
  {
   "cell_type": "markdown",
   "metadata": {
    "id": "_pLXm9bYl4RY"
   },
   "source": [
    "#### **Ejercicio 14** Escribir una función que muestre la suma de dos valores y que se llame `suma`"
   ]
  },
  {
   "cell_type": "code",
   "execution_count": null,
   "metadata": {
    "id": "daT28t4Ul73j"
   },
   "outputs": [],
   "source": [
    "# la función aquí\n",
    "\n",
    "# para probar\n",
    "print(suma(2,3))\n",
    "print(suma(suma(2,3),4))"
   ]
  },
  {
   "cell_type": "markdown",
   "metadata": {
    "id": "MQZ_KWAhmPQ0"
   },
   "source": [
    "**Ejercicio 15** Escribir una función que devuelva la suma, el mayor y el menor de una lista de valores si esta no es vacía, o None, None, None en otro caso"
   ]
  },
  {
   "cell_type": "code",
   "execution_count": null,
   "metadata": {
    "id": "vqHdtvmOmcVQ"
   },
   "outputs": [],
   "source": []
  },
  {
   "cell_type": "markdown",
   "metadata": {
    "id": "HxMZyVQz_jSN"
   },
   "source": [
    "<a name=\"Parámetros-por-defecto\"></a>\n",
    "### Parámetros por defecto"
   ]
  },
  {
   "cell_type": "markdown",
   "metadata": {
    "id": "wOhmYbEd_jSN"
   },
   "source": [
    "La función puede especificar algunos valores por defecto para que no tenga que proporcionarlos el usuario"
   ]
  },
  {
   "cell_type": "code",
   "execution_count": null,
   "metadata": {
    "id": "6YWYKjL-_jSO"
   },
   "outputs": [],
   "source": [
    "import cmath\n",
    "def raices(a,b=0,c=0):\n",
    "    #discriminante\n",
    "    d = b*b - 4*a*c\n",
    "    sol1 = -b+cmath.sqrt(d)/(2*a)\n",
    "    sol2 = -b-cmath.sqrt(d)/(2*a)\n",
    "    return sol1,sol2\n",
    "    "
   ]
  },
  {
   "cell_type": "code",
   "execution_count": null,
   "metadata": {
    "id": "JLJZc1A6_jSO"
   },
   "outputs": [],
   "source": [
    "raices(1,16,4)"
   ]
  },
  {
   "cell_type": "code",
   "execution_count": null,
   "metadata": {
    "id": "pBs2IgEA_jSO"
   },
   "outputs": [],
   "source": [
    "raices(1,16) # c es 0"
   ]
  },
  {
   "cell_type": "markdown",
   "metadata": {
    "id": "o4sJHYwR_jSO"
   },
   "source": [
    "<a name=\"Parámetros-nombrados\"></a>\n",
    "### Parámetros nombrados"
   ]
  },
  {
   "cell_type": "markdown",
   "metadata": {
    "id": "oAWtscsm_jSO"
   },
   "source": [
    "Un problema con los parámetros por defecto es especificar qué parámetros queremos que tomen valor por defecto ¿qué sucede si, en el ejemplo anterior, b es 0, pero c no?. Esto se resuelve indicado explícitamente a qué parámetro de la función se refiere cada parámetro de llamada"
   ]
  },
  {
   "cell_type": "code",
   "execution_count": null,
   "metadata": {
    "id": "uRd9NiNZ_jSO"
   },
   "outputs": [],
   "source": [
    "raices(a=2,c=5)"
   ]
  },
  {
   "cell_type": "markdown",
   "metadata": {
    "id": "t4y5WpBp_jSO"
   },
   "source": [
    "Obviamente si se utilizan los parámetros nombrados, aquellos que no se nombren deben tener valor por defecto"
   ]
  },
  {
   "cell_type": "markdown",
   "metadata": {
    "id": "lx1BLdHN_jSP"
   },
   "source": [
    "<a name=\"Funciones-lambda\"></a>\n",
    "### Funciones lambda"
   ]
  },
  {
   "cell_type": "markdown",
   "metadata": {
    "id": "t3rTY-Qv_jSP"
   },
   "source": [
    "Se trata de funciones que se declaran \"sobre la marcha\"; no tienen nombre y se pueden almacenar en funciones, incluso pasar como parámetros. Se suele decir que las  lambda convierten a las funciones en \"ciudadanos de primera clase\" en Python"
   ]
  },
  {
   "cell_type": "code",
   "execution_count": null,
   "metadata": {
    "id": "bbE_Ut8O_jSP"
   },
   "outputs": [],
   "source": [
    "x = lambda a,b: a // b\n",
    "print(x(8,3))\n",
    "x = lambda a,b: a / b\n",
    "print(x(8,3))"
   ]
  },
  {
   "cell_type": "code",
   "execution_count": null,
   "metadata": {
    "id": "sUzdTG6j_jSP"
   },
   "outputs": [],
   "source": [
    "def cosarara(n):\n",
    "    return lambda m:m*n"
   ]
  },
  {
   "cell_type": "markdown",
   "metadata": {
    "id": "IiBeD2Dr_jSP"
   },
   "source": [
    "**Ejercicio 16** ¿qué escribira el siguiente código?"
   ]
  },
  {
   "cell_type": "code",
   "execution_count": null,
   "metadata": {
    "id": "2z3TB0FN_jSP"
   },
   "outputs": [],
   "source": [
    "a = cosarara(5)\n",
    "b = cosarara(6)\n",
    "print(a(2))\n",
    "print(b(2))"
   ]
  },
  {
   "cell_type": "markdown",
   "metadata": {
    "id": "hUXKY8Vv_jSP"
   },
   "source": [
    "<a name=\"Excepciones\"></a>\n",
    "# Excepciones"
   ]
  },
  {
   "cell_type": "markdown",
   "metadata": {
    "id": "heyuXUUE_jSQ"
   },
   "source": [
    "A menudo se producen errores durante la ejecución del programa que pueden \"romper\" el programa. Las excepciones nos permiten capturarlas.\n",
    " \n",
    "    try:\n",
    "       try_suite\n",
    "    except exception_group1 as variable1:\n",
    "       except_suite1\n",
    "       …\n",
    "    except exception_groupN as variableN:\n",
    "       except_suiteN\n",
    "    else:\n",
    "       else_suite\n",
    "    finally:\n",
    "       finally_suite\n",
    "\n",
    "try_suite es el bloque de instrucciones que se pueden *romper* los apartados *except* describen posibles tipos de errores. El bloque *else* se ejecuta si no ocurre ninguna excepción. En cambio el bloque *finally* se ejecuta siempre, haya o no excepción\n",
    "\n",
    "Los valores *exception_groupi*  tienen que ser uno de los de la jerarquía de los errores\n",
    "\n",
    "\n",
    "<img src=\"https://dotnettutorials.net/wp-content/uploads/2020/07/word-image-181.png\">\n",
    "\n",
    "Ojo porque si ponemos primero un error de más arriba en la jerarquía, por ejemplo *EnvironmentError*, ya no se detectará un *OSError*. Es decir se va ejecutándo de arriba hacia abajo y el primero caso que encaja hace que ya no se mire más"
   ]
  },
  {
   "cell_type": "code",
   "execution_count": null,
   "metadata": {
    "id": "awlFlibX_jSQ"
   },
   "outputs": [],
   "source": [
    "a = 5\n",
    "b = 0\n",
    "try:\n",
    "    x = a/b\n",
    "except ZeroDivisionError:\n",
    "    print(\"División por 0\")\n",
    "except ArithmeticError: \n",
    "    print(\"Error aritmético\")\n",
    "except KeyError:\n",
    "    print(\"La clave no existe\")\n",
    "else:\n",
    "    print(\"No hay error\")\n",
    "finally:\n",
    "    print(\"yo me ejecuto en todo caso...\")"
   ]
  },
  {
   "cell_type": "code",
   "execution_count": null,
   "metadata": {
    "id": "hG9OP7NY_jSQ"
   },
   "outputs": [],
   "source": []
  }
 ],
 "metadata": {
  "colab": {
   "name": "7control.ipynb",
   "provenance": []
  },
  "kernelspec": {
   "display_name": "Python 3",
   "language": "python",
   "name": "python3"
  },
  "language_info": {
   "codemirror_mode": {
    "name": "ipython",
    "version": 3
   },
   "file_extension": ".py",
   "mimetype": "text/x-python",
   "name": "python",
   "nbconvert_exporter": "python",
   "pygments_lexer": "ipython3",
   "version": "3.8.5"
  }
 },
 "nbformat": 4,
 "nbformat_minor": 1
}
