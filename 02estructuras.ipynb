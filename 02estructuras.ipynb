{
 "cells": [
  {
   "cell_type": "markdown",
   "metadata": {
    "id": "-da5ucdyH0th"
   },
   "source": [
    "# Introducción a la ciencia de datos con Python \n",
    "###  Rafa Caballero \n",
    "\n",
    "## Estructuras de datos: listas, tuplas, strings, conjuntos y diccionarios\n"
   ]
  },
  {
   "cell_type": "markdown",
   "metadata": {
    "id": "JulqrYBVH0tl"
   },
   "source": [
    "### Índice\n",
    "\n",
    "[Secuencias](#Secuencias)<br>\n",
    "[Conjuntos](#Conjuntos)<br>\n",
    "[Diccionarios](#Diccionarios)<br>\n",
    "\n",
    "Los enteros, reales, booleanos o caracteres son datos simples. Sin embargo, los lenguajes de programación ofrecen también la posibilidad de agregar varios de estos datos simples en estructuras que pueden manejarse como una unidad: almacenarse en variables, mostrarse por pantalla, etc.\n",
    "\n",
    "\n",
    "<img src=\"https://github.com/RafaelCaballero/tdm/blob/master/images/python-data-types.png?raw=true\">\n"
   ]
  },
  {
   "cell_type": "markdown",
   "metadata": {
    "id": "AC3a8mdhH0to"
   },
   "source": [
    "<a name=\"Secuencias\"></a>\n",
    "## Secuencias\n",
    "\n",
    "[Operadores para secuencias](#Operadores-para-secuencias)<br>\n",
    "[Listas](#Listas)<br>\n",
    "&emsp;[Acceso por índice](#Acceso-por-índices)<br>\n",
    "&emsp;[Funciones de listas](#Funciones-de-listas)<br>\n",
    "&emsp;[Copias de listas: ¡ojo!](#Copia-de-listas)<br>\n",
    "[Tuplas](#Tuplas)<br>\n",
    "[Strings](#Strings)<br>\n",
    "\n",
    "\n",
    "Las secuencias son sucesiones de elementos (no necesariamente del mismo tipo). Son principalmente listas (entre corchetes [1,2,3]), tuplas (entre paréntesis) y strings (entre comillas), y tienen características comunes\n",
    "\n",
    "- Se puede hablar de la posición o índice de un elemento (siempre empezando desde 0)\n",
    "- Se pueden recorrer secuencialmente\n",
    "- Se pueden extraer subsecuencias\n",
    "\n",
    "Todo esto hace que tengan numeras funciones comunes, aunque luego veremos que cada una tiene sus particularidades"
   ]
  },
  {
   "cell_type": "markdown",
   "metadata": {
    "id": "VD5AAdZBH0tq"
   },
   "source": [
    "<a name=\"Operadores-para-secuencias\"></a>\n",
    "### Operadores para secuencias\n",
    "\n",
    "En este apartado vemos los operadadores comunes a todas las secuencias aplicados a las tuplas. Los mismos operadores, sin ningún cambio son aplicables a listas y a strings.\n"
   ]
  },
  {
   "cell_type": "markdown",
   "metadata": {
    "id": "NyFqErPDqSFi"
   },
   "source": [
    "\n",
    "#### **Concatenación con + y ***\n",
    "\n",
    "El operador + *concatena* dos secuencias"
   ]
  },
  {
   "cell_type": "code",
   "execution_count": null,
   "metadata": {
    "id": "53VCpn5UH0ts"
   },
   "outputs": [],
   "source": [
    "(1,2,3) + ( 4 ,5)  "
   ]
  },
  {
   "cell_type": "code",
   "execution_count": null,
   "metadata": {
    "id": "xHpT3AJ4H0tt"
   },
   "outputs": [],
   "source": [
    "\"hola \"+\"mundo\""
   ]
  },
  {
   "cell_type": "markdown",
   "metadata": {
    "id": "kxMymvjQH0tv"
   },
   "source": [
    "El operador * repite una secuencia una cantidad de veces"
   ]
  },
  {
   "cell_type": "code",
   "execution_count": null,
   "metadata": {
    "id": "vIjSS31xH0tw"
   },
   "outputs": [],
   "source": [
    "(1,2,3)*4"
   ]
  },
  {
   "cell_type": "markdown",
   "metadata": {
    "id": "dsvzk3fXH0tx"
   },
   "source": [
    "Resulta muy útil para ahorrarse escribir en algunas ocasiones:"
   ]
  },
  {
   "cell_type": "code",
   "execution_count": null,
   "metadata": {
    "id": "DzlyAws8H0tz"
   },
   "outputs": [],
   "source": [
    "print(\"-\"*30)"
   ]
  },
  {
   "cell_type": "markdown",
   "metadata": {
    "id": "3RvOXlYSH0t0"
   },
   "source": [
    "#### **Acceso por índice**\n",
    "\n",
    "El operador `[i]` permite acceder al i-ésimo elemento (i una expresión que devuelve un entero). Hay que tener en cuenta que el primer elemento es el que ocupa la posición 0, el segundo la posición 1, etc. Si el índice `i`es un valor negativo empieza a contar desde el final, siendo el -1 el primer elemento desde el final (es decir, el ultimo elemento de la secuencia)"
   ]
  },
  {
   "cell_type": "code",
   "execution_count": null,
   "metadata": {
    "id": "SvK7mn4FH0t2"
   },
   "outputs": [],
   "source": [
    "#     0  1  2   posiciones desde el principio\n",
    "#    -3 -2 -1   posiciones desde el final\n",
    "t = (10,20,30)\n",
    "\n",
    "print(t[0],t[-3])"
   ]
  },
  {
   "cell_type": "markdown",
   "metadata": {
    "id": "URVYMi0HH0t3"
   },
   "source": [
    "**Ej.** ¿Qué ocurre aquí?"
   ]
  },
  {
   "cell_type": "code",
   "execution_count": null,
   "metadata": {
    "id": "Cl0hBcRXH0t4"
   },
   "outputs": [],
   "source": [
    "(1,2,3)[3]"
   ]
  },
  {
   "cell_type": "markdown",
   "metadata": {
    "id": "3K1VIG-QoS4q"
   },
   "source": [
    "**Nota**: dentro del acceso por posición nos falta la extracción de subsecuencias por posiciones consecutivas también llamadas slices, las veremos en seguida"
   ]
  },
  {
   "cell_type": "markdown",
   "metadata": {
    "id": "0qhTI-ESH0t9"
   },
   "source": [
    "#### **len( )** nos dice el número de elementos en la secuencia."
   ]
  },
  {
   "cell_type": "code",
   "execution_count": null,
   "metadata": {
    "id": "6YWTYBoRH0t9"
   },
   "outputs": [],
   "source": [
    "ventas = (10,30,50,1,7,20)\n",
    "len(ventas)"
   ]
  },
  {
   "cell_type": "markdown",
   "metadata": {
    "id": "2GpjXkt_H0t5"
   },
   "source": [
    "####**in** y **not in**\n",
    "\n",
    "Los operadores relacionales infijos *in* y  *not in* sirven para determinar si un elemento está o no en una secuencia"
   ]
  },
  {
   "cell_type": "code",
   "execution_count": null,
   "metadata": {
    "id": "8eNKLjVeH0t5"
   },
   "outputs": [],
   "source": [
    "x = (1,2,3)\n",
    "print(2 in x)\n",
    "print(5 not in x)\n",
    "print(5  in x)"
   ]
  },
  {
   "cell_type": "code",
   "execution_count": null,
   "metadata": {
    "id": "UAft3jdyH0t7"
   },
   "outputs": [],
   "source": [
    "ventas = (10,30,50,1,7,20)\n",
    "print(7 in ventas)"
   ]
  },
  {
   "cell_type": "markdown",
   "metadata": {
    "id": "gX7yzOOolrPj"
   },
   "source": [
    "#### **all**, **any**: secuencias de booleanos\n",
    "\n",
    "La función predefinida `all` indica si todos los elementos de una secuencia son ciertos (valores True), es como una generalización del `and`"
   ]
  },
  {
   "cell_type": "code",
   "execution_count": null,
   "metadata": {
    "id": "GCa3jY5KlDBM"
   },
   "outputs": [],
   "source": [
    "all( (True, False, True))"
   ]
  },
  {
   "cell_type": "code",
   "execution_count": null,
   "metadata": {
    "id": "bt6ghU2Ymcgq"
   },
   "outputs": [],
   "source": [
    "all((True, True, True))"
   ]
  },
  {
   "cell_type": "code",
   "execution_count": null,
   "metadata": {
    "id": "EMvvplmxmwM0"
   },
   "outputs": [],
   "source": [
    "any( (True, False, True))"
   ]
  },
  {
   "cell_type": "code",
   "execution_count": null,
   "metadata": {
    "id": "h6pUzrFTm367"
   },
   "outputs": [],
   "source": [
    "any( (False, False, False))"
   ]
  },
  {
   "cell_type": "markdown",
   "metadata": {
    "id": "Qdp5ykQdnHuK"
   },
   "source": [
    "**Ejercicio 1** Penar el significado de las siguientes expresiones en función del valor de s"
   ]
  },
  {
   "cell_type": "code",
   "execution_count": null,
   "metadata": {
    "id": "Z3IgLuofm-UK"
   },
   "outputs": [],
   "source": [
    "s = (True, False, True) # pensarlo en general, no para este valor concreto\n",
    "print(not all(s))\n",
    "print(not any(s))"
   ]
  },
  {
   "cell_type": "markdown",
   "metadata": {
    "id": "w1d2xbhtH0t8"
   },
   "source": [
    "#### **Otras funciones para secuencias**\n",
    "\n",
    "También se pueden utilizar otras funciones como\n",
    "\n",
    "- min(mySeq), max(mySeq): devuelve el menor y el mayor elemento de mySeq, respectivamente.\n",
    "\n",
    "- x *in* mySeq: devuelve True o False según si x aparece o no en MySeq\n",
    "\n",
    "- mySeq.*index*(x): devuelve la posición (empezando desde 0) de la primera ocurrencia del valor x en la secuencia mySeq, o un error si no x no aparece.  Si se quiere evitar el error mejor emplear el operador *in* dentro de una instrucción *if*. \n",
    "\n",
    "    \n",
    "- mySeq.count(x): devuelve el número de apariciones del valor x en mySeq."
   ]
  },
  {
   "cell_type": "markdown",
   "metadata": {
    "id": "iiA37OIyH0t-"
   },
   "source": [
    "En el caso de secuencias cuyos elementos son todos enteros **min( )** y **max( )**  nos dará el minimo y el máximo de la secuencia."
   ]
  },
  {
   "cell_type": "code",
   "execution_count": null,
   "metadata": {
    "id": "4kcarEd4H0t-"
   },
   "outputs": [],
   "source": [
    "num = (100,200,600,300,400)\n",
    "min(num), max(num)\n"
   ]
  },
  {
   "cell_type": "markdown",
   "metadata": {
    "id": "L-quMVAyH0t-"
   },
   "source": [
    "Si la lista contiene cadenas de caracteres,  **max( )** devolverá el string mayor según el orden alfabético, mientras que  **min( )**  devolverá el menor (primero en orden alfabético). \n",
    "\n",
    "Si lo que se desea es que  **max( )** devuelva el string de mayor longitud se puede añadir el parámetro  'key=len'.\n",
    "\n",
    "Sean string o enteros, tanto **max** como **min** devuelven el elemento de menor índice en el caso de elementos repetidos."
   ]
  },
  {
   "cell_type": "code",
   "execution_count": null,
   "metadata": {
    "id": "DlsArUWNH0t_"
   },
   "outputs": [],
   "source": [
    "herramientas = ('tornillos','tuercas','arandelas') \n",
    "print(max(herramientas, key=len))\n",
    "print(min(herramientas, key=len))"
   ]
  },
  {
   "cell_type": "markdown",
   "metadata": {
    "id": "viEInHQdlLrC"
   },
   "source": []
  },
  {
   "cell_type": "markdown",
   "metadata": {
    "id": "JPogyyAbH0t_"
   },
   "source": [
    "**index( )** permite encontrar la posición en la que aparece la primera aparición de un cierto elemento. Si se le pasa un segundo parámetro, éste especifica la posición inicial desde la que buscar. Si solo hay un parámetro se busca desde el primero.\n",
    "\n",
    "Ojo porque si el elemento no está se devolverá una excepción, es decir se producirá un error."
   ]
  },
  {
   "cell_type": "code",
   "execution_count": null,
   "metadata": {
    "id": "pFo0INvOH0uA"
   },
   "outputs": [],
   "source": [
    "s = (1,1,4,8,7)\n",
    "print(s.index(7))\n",
    "print(s.index(4,5))"
   ]
  },
  {
   "cell_type": "markdown",
   "metadata": {
    "id": "zwdQNWNfH0uA"
   },
   "source": [
    "Para evitar que se lance la excepción se recomienda preguntar si el elemento está \n"
   ]
  },
  {
   "cell_type": "code",
   "execution_count": null,
   "metadata": {
    "id": "VPPs1AqWH0uA"
   },
   "outputs": [],
   "source": [
    "if 5 in s[5:]:\n",
    "    print(s.index(4,5))\n",
    "else:\n",
    "    print(\"No está\")\n"
   ]
  },
  {
   "cell_type": "code",
   "execution_count": null,
   "metadata": {
    "id": "UfDTzraMH0uB"
   },
   "outputs": [],
   "source": [
    "# otra forma, menos eficiente\n",
    "if s[4:].count(5)>0:\n",
    "    print(s.index(4,5))\n",
    "else:\n",
    "    print(\"No está\")\n"
   ]
  },
  {
   "cell_type": "markdown",
   "metadata": {
    "id": "iYtB5qq3H0uB"
   },
   "source": [
    "**Ejercicio 2** ¿Qué mostrará la siguiente expresión (pensar antes de ejecutar)?"
   ]
  },
  {
   "cell_type": "code",
   "execution_count": null,
   "metadata": {
    "id": "ovGMQI5VH0uB"
   },
   "outputs": [],
   "source": [
    "s = (2,2,4,8,7)\n",
    "s.index(2,1)"
   ]
  },
  {
   "cell_type": "markdown",
   "metadata": {
    "id": "lUAbCcZmH0uB"
   },
   "source": [
    "**count( )** permite contar el número de repeticiones de una elemento en una secuencia. "
   ]
  },
  {
   "cell_type": "code",
   "execution_count": null,
   "metadata": {
    "id": "MD-nNtrmH0uC"
   },
   "outputs": [],
   "source": [
    "\"abracadabra\".count(\"a\")"
   ]
  },
  {
   "cell_type": "markdown",
   "metadata": {
    "id": "Frl7TwLpH0uC"
   },
   "source": [
    "#### **Slices**\n",
    "\n",
    "El acceso mediante índices nos permite acceder a un elemento concreto. Si lo que queremos es acceder a varios  elementos consecutivos a la vez, tendremos que emplear *slicing* representado por el operador :.\n",
    "Este operador extrae una subsecuencia de la secuencia\n",
    "\n",
    "Al hacer slicing usaremos la notacion s[ ini : fin ], con ini la posición del primer elemento a seleccionar (incluido)  y fin el último elemento (excluido). \n",
    "Si `ini`  o `in no se definen, entonces se asume que se trata del primero (si falta a), y el último (si falta b)\n",
    "\n",
    "\n",
    "    s[ini:fin]  # elementos desde ini hasta fin -1\n",
    "    s[ini:]      # desde ini hasta el final\n",
    "    s[:fin]       # desde el principio hasta fin-1\n",
    "    s[:]           # copia la secuencia\n",
    "    s[ini:fin:step] # desde ini sin llegar ni pasar de fin, saltando step\n"
   ]
  },
  {
   "cell_type": "code",
   "execution_count": null,
   "metadata": {
    "id": "G0BQuzMZH0uC"
   },
   "outputs": [],
   "source": [
    "num = (0,1,2,3,4,5,6,7,8,9)"
   ]
  },
  {
   "cell_type": "code",
   "execution_count": null,
   "metadata": {
    "id": "HYpaYiPkH0uD"
   },
   "outputs": [],
   "source": [
    "print(num[0:4])\n",
    "print(num[4:])"
   ]
  },
  {
   "cell_type": "markdown",
   "metadata": {
    "id": "q9Hs7Y8QH0uD"
   },
   "source": [
    "También podemos hacer 'rodajas saltarinas', añadiendo el tamaño del salto, de nuevo meidante el operador :"
   ]
  },
  {
   "cell_type": "code",
   "execution_count": null,
   "metadata": {
    "id": "PGYR28FvH0uD"
   },
   "outputs": [],
   "source": [
    "num[0:9:3]"
   ]
  },
  {
   "cell_type": "markdown",
   "metadata": {
    "id": "fMvLnGfhH0uE"
   },
   "source": [
    "Si no se especifica el final del intervalo se entiende que sigue hasta el último elemento, y si no se especifica el primero que comienza desde el principio de la secuencia:"
   ]
  },
  {
   "cell_type": "code",
   "execution_count": null,
   "metadata": {
    "id": "BBoH4pIuH0uE"
   },
   "outputs": [],
   "source": [
    "num[1:]"
   ]
  },
  {
   "cell_type": "code",
   "execution_count": null,
   "metadata": {
    "id": "GxDf7ptOH0uF"
   },
   "outputs": [],
   "source": [
    "num[:6]"
   ]
  },
  {
   "cell_type": "markdown",
   "metadata": {
    "id": "7tE01eltH0uF"
   },
   "source": [
    "**Ejercicio 3** ¿qué devolverá este código?"
   ]
  },
  {
   "cell_type": "code",
   "execution_count": null,
   "metadata": {
    "id": "ZzGR49VMH0uF"
   },
   "outputs": [],
   "source": [
    "num[-3:-1]"
   ]
  },
  {
   "cell_type": "markdown",
   "metadata": {
    "id": "Yglctw_UH0uG"
   },
   "source": [
    "<a name=\"Listas\"></a>\n",
    "### Listas"
   ]
  },
  {
   "cell_type": "markdown",
   "metadata": {
    "id": "_QTyqYC4H0uG"
   },
   "source": [
    "La estructura más común en Python. Podemos pensar en las listas como secuencias de elementos de cualquier tipo que se pueden modificar. Se escriben entre corchetes, con sus componentes, o elementos, separados por comas. \n",
    "\n",
    "Como toda secuencia las listas están ordenadas: cada elemento tiene una posición, comenzando desde 0, que podremos utilizar para acceder a él.\n",
    "\n",
    "Comencemos por la lista más simple, la lista con 0 elementos:"
   ]
  },
  {
   "cell_type": "code",
   "execution_count": null,
   "metadata": {
    "id": "nxkNid7xvqnH"
   },
   "outputs": [],
   "source": [
    "soyunalistavacia = []\n",
    "print(soyunalistavacia, type(soyunalistavacia))"
   ]
  },
  {
   "cell_type": "markdown",
   "metadata": {
    "id": "ansWvLHs_rIZ"
   },
   "source": [
    "Una lista con elementos de tipos diferentes"
   ]
  },
  {
   "cell_type": "code",
   "execution_count": null,
   "metadata": {
    "id": "c7CtdinjH0uG"
   },
   "outputs": [],
   "source": [
    "soyunalistaNovacia = [5,\"si\", True,\"vaya\"]\n",
    "print(soyunalistaNovacia, type(soyunalistavacia))"
   ]
  },
  {
   "cell_type": "markdown",
   "metadata": {
    "id": "YXSZAtcfH0uH"
   },
   "source": [
    "Una lista con strings:"
   ]
  },
  {
   "cell_type": "code",
   "execution_count": null,
   "metadata": {
    "id": "nZgFpIEEH0uH"
   },
   "outputs": [],
   "source": [
    "herramientas = ['tornillos','tuercas','arandelas']\n",
    "print(herramientas)"
   ]
  },
  {
   "cell_type": "markdown",
   "metadata": {
    "id": "C1ffo7SnH0uH"
   },
   "source": [
    "<a name=\"Acceso-por-índices\"></a>\n",
    "#### Acceso por índices"
   ]
  },
  {
   "cell_type": "markdown",
   "metadata": {
    "id": "ROHySVl3H0uI"
   },
   "source": [
    "Como hemos dicho, los índices en Python empiezan en 0. Por tanto en una lista de 2 elementos podemos hablar del elemento en la posición 0, o primer elemento, y del elemento en la posición 1, o segundo elemento"
   ]
  },
  {
   "cell_type": "code",
   "execution_count": null,
   "metadata": {
    "id": "OfTJmrRDH0uI"
   },
   "outputs": [],
   "source": [
    "herramientas[0]"
   ]
  },
  {
   "cell_type": "markdown",
   "metadata": {
    "id": "SqkpPliHH0uJ"
   },
   "source": [
    "También hemos visto una particularidad de Python: además de empezar a contar desde el principio, también podemos hacerlo comenzando desde el final. El indice del último elemento es -1, el del penúltimo -2, y así sucesivamente."
   ]
  },
  {
   "cell_type": "code",
   "execution_count": null,
   "metadata": {
    "id": "mKnhi9glH0uJ"
   },
   "outputs": [],
   "source": [
    "herramientas[-1]"
   ]
  },
  {
   "cell_type": "markdown",
   "metadata": {
    "id": "wywwIcdFH0uJ"
   },
   "source": [
    "En la variable herramientas, de 3 elementos, herramientas[0] = herramientas[-3], herramientas[1] = herramientas[-2] y herramientas[2] = herramientas -1. \n"
   ]
  },
  {
   "cell_type": "markdown",
   "metadata": {
    "id": "waAbKYkbH0uK"
   },
   "source": [
    "Ahora vamos a combinar la lista herramientas con una lista de utensilios en una nueva lista, `caja`. Este procedimiento de listas anidadas es muy común."
   ]
  },
  {
   "cell_type": "code",
   "execution_count": null,
   "metadata": {
    "id": "FLzNaTvVH0uK"
   },
   "outputs": [],
   "source": [
    "herramientas = ['tornillos','tuercas','arandelas']\n",
    "utensilios = ['martillo','sierra']\n",
    "caja  = [herramientas,utensilios]\n",
    "print(caja)"
   ]
  },
  {
   "cell_type": "markdown",
   "metadata": {
    "id": "3HArWuuMH0uK"
   },
   "source": [
    "**Ejercicio 4**\n",
    "\n",
    "-¿Cuantos elementos tiene la lista `caja`?\n",
    "\n",
    "-¿Cómo se accedería al 'martillo'?"
   ]
  },
  {
   "cell_type": "code",
   "execution_count": null,
   "metadata": {
    "id": "mSDE3CZ8H0uK",
    "scrolled": true
   },
   "outputs": [],
   "source": [
    "#Solución\n",
    "# núm elementos de caja:\n",
    "# print ....\n"
   ]
  },
  {
   "cell_type": "markdown",
   "metadata": {
    "id": "hXY8qWtcH0uL"
   },
   "source": [
    "<a name=\"Funciones-de-listas\"></a>\n",
    "#### Funciones de listas"
   ]
  },
  {
   "cell_type": "markdown",
   "metadata": {
    "id": "4KcOEqbXH0uL"
   },
   "source": [
    "Recordemos para comenzar que todas las funciones vistas para secuencias están disponibles para listas.\n",
    "\n",
    "Por ejemplo, en ocasiones estaremos interesados en saber si un elemento particular aparrece en la lista"
   ]
  },
  {
   "cell_type": "code",
   "execution_count": null,
   "metadata": {
    "collapsed": true,
    "id": "P6DmiMH7H0uL"
   },
   "outputs": [],
   "source": [
    "herramientas = ['tornillos','tuercas','arandelas']"
   ]
  },
  {
   "cell_type": "markdown",
   "metadata": {
    "id": "it9o0vc8H0uL"
   },
   "source": [
    "En este caso podemos usar el operador **in** devuelve un booleano que indica si el elemento está en la lista"
   ]
  },
  {
   "cell_type": "code",
   "execution_count": null,
   "metadata": {
    "id": "IaZIQu4DH0uL"
   },
   "outputs": [],
   "source": [
    "'tornillos' in herramientas"
   ]
  },
  {
   "cell_type": "code",
   "execution_count": null,
   "metadata": {
    "id": "AYyhQGVCH0uM"
   },
   "outputs": [],
   "source": [
    "'clavos' in herramientas"
   ]
  },
  {
   "cell_type": "markdown",
   "metadata": {
    "id": "GVvyegsfH0uN"
   },
   "source": [
    "##### **append( )** en cambio es específica para listas: se utiliza para añadir elementos al final de una lista. Nos será muy útil."
   ]
  },
  {
   "cell_type": "code",
   "execution_count": null,
   "metadata": {
    "collapsed": true,
    "id": "f9QImvAzH0uN"
   },
   "outputs": [],
   "source": [
    "lst = [1,1,4,8,7]"
   ]
  },
  {
   "cell_type": "code",
   "execution_count": null,
   "metadata": {
    "id": "3RD5J1qrH0uN"
   },
   "outputs": [],
   "source": [
    "lst.append(66)\n",
    "print(lst)"
   ]
  },
  {
   "cell_type": "markdown",
   "metadata": {
    "id": "5dGkx2DnHik8"
   },
   "source": [
    "**Ejercicio 5**\n",
    "Añadir 'clavos' a las herramientas"
   ]
  },
  {
   "cell_type": "code",
   "execution_count": null,
   "metadata": {
    "id": "udqKrVl0HtCE"
   },
   "outputs": [],
   "source": [
    "herramientas = ['tornillos','tuercas','arandelas']\n",
    "# sol.\n",
    "\n",
    "# para ver si hemos añadido bien los clavos...\n",
    "herramientas"
   ]
  },
  {
   "cell_type": "markdown",
   "metadata": {
    "id": "z1LmQ_p1H3cq"
   },
   "source": [
    "**Ejercicio 6** (algo más difícil). Ahora queremos añadir igual los clavos a la caja de herramientas, tras las arandelas"
   ]
  },
  {
   "cell_type": "code",
   "execution_count": null,
   "metadata": {
    "id": "tNiYIuwUICSK"
   },
   "outputs": [],
   "source": [
    "\n",
    "caja  = [['tornillos','tuercas','arandelas'],['martillo','sierra']]\n",
    "\n",
    "# solución\n",
    "\n",
    "\n",
    "# para ver si hemos añadido bien los clavos\n",
    "caja"
   ]
  },
  {
   "cell_type": "markdown",
   "metadata": {
    "id": "0ssf1tE6H0uN"
   },
   "source": [
    "**append( )** también permite añadir una lista al final de otra, pero ojo, la lista se añadirá como una lista anidada."
   ]
  },
  {
   "cell_type": "code",
   "execution_count": null,
   "metadata": {
    "id": "3I6LAgARH0uO"
   },
   "outputs": [],
   "source": [
    "lst = [1,1,4,8,7]\n",
    "lst1 = [5,4,2,8]\n",
    "lst.append(lst1)\n",
    "print(lst)"
   ]
  },
  {
   "cell_type": "markdown",
   "metadata": {
    "id": "9Fa7hQmuH0uO"
   },
   "source": [
    "Si se quieren añadir todos los elementos de la lista, pero no de forma anidada sino como si se repitiera **append** muchas veces, podemos usar **extend( )**."
   ]
  },
  {
   "cell_type": "code",
   "execution_count": null,
   "metadata": {
    "id": "-oG-ezQmH0uP"
   },
   "outputs": [],
   "source": [
    "lst = [1,1,4,8,7]\n",
    "lst1 = [5,4,2,8]\n",
    "lst.extend(lst1)\n",
    "print(lst)"
   ]
  },
  {
   "cell_type": "code",
   "execution_count": null,
   "metadata": {
    "id": "PZM1A0gLH0uP"
   },
   "outputs": [],
   "source": [
    "print(lst)"
   ]
  },
  {
   "cell_type": "markdown",
   "metadata": {
    "id": "crBpOTaCH0uP"
   },
   "source": [
    "**insert(x,y)** permite insertar un elemento *y* en la posición *x*, al contrario que **append( )**, que solo inserta al final. "
   ]
  },
  {
   "cell_type": "code",
   "execution_count": null,
   "metadata": {
    "id": "3u1drIyqH0uP"
   },
   "outputs": [],
   "source": [
    "lst.insert(5, 'name')\n",
    "print(lst)"
   ]
  },
  {
   "cell_type": "markdown",
   "metadata": {
    "id": "ZaUeJCiVH0uQ"
   },
   "source": [
    "**insert(x,y)** inserta pero no reemplaza, es decir la lista aumenta su longitud en uno. Si lo que se requiere es reemplazar, no necesitamos una función especial, sino acceder directamente a la posición y asignar el valor deseado:"
   ]
  },
  {
   "cell_type": "code",
   "execution_count": null,
   "metadata": {
    "id": "y-ZskgZYH0uQ"
   },
   "outputs": [],
   "source": [
    "lst[5] = 'Python'\n",
    "print(lst)"
   ]
  },
  {
   "cell_type": "markdown",
   "metadata": {
    "id": "jvmK0AfTH0uQ"
   },
   "source": [
    "**pop( )** elimina y devuelve el último elemento de la lista. Esto permite utilizar las listas como si fuera el tipo abstracto de datos pila al ser el inverso de `append`"
   ]
  },
  {
   "cell_type": "code",
   "execution_count": null,
   "metadata": {
    "id": "rZDmyw0EH0uQ"
   },
   "outputs": [],
   "source": [
    "lst.pop()"
   ]
  },
  {
   "cell_type": "markdown",
   "metadata": {
    "id": "SfiNfom2H0uR"
   },
   "source": [
    "Pop también se puede utilizar para eliminar un elemento concreto."
   ]
  },
  {
   "cell_type": "code",
   "execution_count": null,
   "metadata": {
    "id": "A0WXHseoH0uR"
   },
   "outputs": [],
   "source": [
    "print(lst)\n",
    "x = lst.pop(0)\n",
    "print('eliminado ',x)\n",
    "print(lst)"
   ]
  },
  {
   "cell_type": "markdown",
   "metadata": {
    "id": "GeUO54DDH0uS"
   },
   "source": [
    "**Nota**: Obsérvese la diferencia entre las funciones **pop( )** y **remove()**: mientras que la primera elimina un elemento por su posición,  la segunda lo hace buscando la primera aparición del elemento en la lista. "
   ]
  },
  {
   "cell_type": "code",
   "execution_count": null,
   "metadata": {
    "id": "YonAnqxsH0uS"
   },
   "outputs": [],
   "source": [
    "lst = [\"Java\",\"R\",\"Python\",\"C++\"]\n",
    "lst.remove('Python')\n",
    "print(lst)\n"
   ]
  },
  {
   "cell_type": "markdown",
   "metadata": {
    "id": "WQFg8YtXH0uS"
   },
   "source": [
    "Otra forma de borrar a partir de la posición es **del**"
   ]
  },
  {
   "cell_type": "code",
   "execution_count": null,
   "metadata": {
    "id": "exmTrs6BH0uS"
   },
   "outputs": [],
   "source": [
    "del lst[1]\n",
    "print(lst)"
   ]
  },
  {
   "cell_type": "markdown",
   "metadata": {
    "id": "b2uLlAvGH0uT"
   },
   "source": [
    "Si queremos dar la vuelta a toda la lista utilizaremos la función  **reverse()**."
   ]
  },
  {
   "cell_type": "code",
   "execution_count": null,
   "metadata": {
    "id": "8VoAARUoH0uT"
   },
   "outputs": [],
   "source": [
    "lst = [10,[20,21,22],30]\n",
    "lst.reverse()\n",
    "print(lst)"
   ]
  },
  {
   "cell_type": "markdown",
   "metadata": {
    "id": "1mXyAxYTH0uT"
   },
   "source": [
    "###### Pregunta: ¿Por qué la lista [20,21,22] no se ha invertido?"
   ]
  },
  {
   "cell_type": "code",
   "execution_count": null,
   "metadata": {
    "collapsed": true,
    "id": "bloAfNL5H0uT"
   },
   "outputs": [],
   "source": [
    "# respuesta:  "
   ]
  },
  {
   "cell_type": "markdown",
   "metadata": {
    "id": "mJUHuJlCH0uU"
   },
   "source": [
    "###### **Ejercicio 7** (algo difícil): ¿Cómo encontrar la última posición en la que aparece un elemento p en una lista l?"
   ]
  },
  {
   "cell_type": "code",
   "execution_count": null,
   "metadata": {
    "id": "oT2-Sb55H0uU"
   },
   "outputs": [],
   "source": [
    "# Solución: máximo 3 instrucciones\n",
    "p = 5\n",
    "l = list([3,5,5,6,7,5,8])\n",
    "\n",
    "#\n",
    "#"
   ]
  },
  {
   "cell_type": "markdown",
   "metadata": {
    "id": "Xc72pC3DH0uV"
   },
   "source": [
    "\n",
    "La función predefinida **sort( )** permite ordenar los elementos en orden ascendente (de menor a mayor)."
   ]
  },
  {
   "cell_type": "code",
   "execution_count": null,
   "metadata": {
    "id": "_XfNkk_OH0uV"
   },
   "outputs": [],
   "source": [
    "l.sort()\n",
    "print(l)"
   ]
  },
  {
   "cell_type": "markdown",
   "metadata": {
    "id": "3B6ZGQpqH0uW"
   },
   "source": [
    "El parámetro *reverse* indica en qué sentido se ordena. Por defecto vale False, indicando que va de menor a mayor. Si lo ponemos a True el orden será de mayor a menor (descendente)."
   ]
  },
  {
   "cell_type": "code",
   "execution_count": null,
   "metadata": {
    "id": "Dp5NKYwfH0uX"
   },
   "outputs": [],
   "source": [
    "l.sort(reverse=True)\n",
    "print(l)"
   ]
  },
  {
   "cell_type": "markdown",
   "metadata": {
    "id": "AC1PkT8qH0uX"
   },
   "source": [
    "En el caso de listas de strings, **sort( )** funciona de forma análoga, incluyendo la positibilidad de poner *reverse=True* para orden descendente."
   ]
  },
  {
   "cell_type": "code",
   "execution_count": null,
   "metadata": {
    "id": "nYX1Nbq2H0uY"
   },
   "outputs": [],
   "source": [
    "herramientas = ['tornillos','tuercas','arandelas']\n",
    "herramientas.sort()\n",
    "print(herramientas)\n",
    "herramientas.sort(reverse=True)\n",
    "print(herramientas)"
   ]
  },
  {
   "cell_type": "markdown",
   "metadata": {
    "id": "0MYD1bfyH0uZ"
   },
   "source": [
    "Para ordenar por longitud usaremos **key=len**:"
   ]
  },
  {
   "cell_type": "code",
   "execution_count": null,
   "metadata": {
    "id": "f3ra_D0gH0uZ"
   },
   "outputs": [],
   "source": [
    "herramientas.sort(key=len)\n",
    "print(herramientas)\n",
    "herramientas.sort(key=len,reverse=True)\n",
    "print(herramientas)"
   ]
  },
  {
   "cell_type": "markdown",
   "metadata": {
    "id": "pmnyVr8TH0uZ"
   },
   "source": [
    "<a name=\"Copia-de-listas\"></a>\n",
    "#### Copias de listas: ¡ojo!"
   ]
  },
  {
   "cell_type": "markdown",
   "metadata": {
    "id": "thlxrdAgH0uZ"
   },
   "source": [
    "Este es un error común cuando se comienza a programar en Python. Consideramos la lista:"
   ]
  },
  {
   "cell_type": "code",
   "execution_count": null,
   "metadata": {
    "id": "cF_bEI3pH0ua"
   },
   "outputs": [],
   "source": [
    "lista= [2,1,4,3]"
   ]
  },
  {
   "cell_type": "code",
   "execution_count": null,
   "metadata": {
    "id": "MM19152GH0ua"
   },
   "outputs": [],
   "source": [
    "listb = lista\n",
    "print(listb)"
   ]
  },
  {
   "cell_type": "markdown",
   "metadata": {
    "id": "EHkXIxv6H0ua"
   },
   "source": [
    "Hasta aquí nada sospechoso:\n",
    "* Hemos creado una lista, lista = [2,1,4,3]. \n",
    "* También hemos creado listb como una copia de lista, obtenida usando la asignación.\n",
    "\n",
    "\n",
    "Ahora jugamos un poco con lista:"
   ]
  },
  {
   "cell_type": "code",
   "execution_count": null,
   "metadata": {
    "id": "7-SjsMcbH0ua"
   },
   "outputs": [],
   "source": [
    "print(lista)\n",
    "lista.extend([9,10,11,12])\n",
    "print(lista)\n",
    "lista.pop()\n",
    "print(lista)"
   ]
  },
  {
   "cell_type": "code",
   "execution_count": null,
   "metadata": {
    "id": "zXJgaydnH0ub"
   },
   "outputs": [],
   "source": [
    "print(listb)"
   ]
  },
  {
   "cell_type": "markdown",
   "metadata": {
    "id": "uNsSJXrHH0ub"
   },
   "source": [
    "listb también ha cambiado ¡¡pero si no la hemos tocado!!\n",
    "\n",
    "Esto es porque las variables tipo lista son *punteros*. Es decir en el caso de estructuras complejas, como las listas la variable no contiene los datos, como sí ocurría con los enteros, sino *la dirección de memoria donde se aloja la estructura*. Así que la asignación `listab = lista`, solo copia en `listab` la dirección de memoria de `lista`; ambas \"apuntan\" a la misma estructura. Por tanto no hemos copiado la lista, solo hemos creado otro alias para la lista. En Python a las variables que se guardan como punteros se les llama *mutables*\n",
    "\n",
    "<img src=\"https://csharpcorner-mindcrackerinc.netdna-ssl.com/article/python-datatypes/Images/pd12.png\">\n",
    "\n",
    "¿Cómo conseguir una copia auténtica? El truco nos lo da el operador de slicing, :. Recordemos que devuelve una sublista dadas una posición inicial y final. Al hacer, : crea esta sublista como una lista nueva, es decir, *realmente copia los elementos*. \n",
    "\n",
    "Así que podemos hacer:"
   ]
  },
  {
   "cell_type": "code",
   "execution_count": null,
   "metadata": {
    "id": "7MKQAgUxH0ub"
   },
   "outputs": [],
   "source": [
    "lista = [2,1,4,3]"
   ]
  },
  {
   "cell_type": "code",
   "execution_count": null,
   "metadata": {
    "id": "Am9qKzzDH0ub"
   },
   "outputs": [],
   "source": [
    "listb = lista[:] # al no indicar inicio ni fin es la lista completa\n",
    "print(listb)"
   ]
  },
  {
   "cell_type": "code",
   "execution_count": null,
   "metadata": {
    "id": "58tjwjgZH0ub"
   },
   "outputs": [],
   "source": [
    "print(lista)\n",
    "lista.extend([9,10,11,12])\n",
    "print(lista)\n",
    "lista.pop()\n",
    "print(lista)"
   ]
  },
  {
   "cell_type": "code",
   "execution_count": null,
   "metadata": {
    "id": "Ohst3aimH0ub"
   },
   "outputs": [],
   "source": [
    "print(listb)"
   ]
  },
  {
   "cell_type": "markdown",
   "metadata": {
    "id": "1dz6Hr0tH0uc"
   },
   "source": [
    "Otra forma de lograr lo mismo es con la función *copy()*"
   ]
  },
  {
   "cell_type": "code",
   "execution_count": null,
   "metadata": {
    "id": "sp0iixqUH0uc"
   },
   "outputs": [],
   "source": [
    "lista = [2,1,4,3]\n",
    "listb = lista.copy()\n",
    "lista[3]=7\n",
    "print(lista,listb)"
   ]
  },
  {
   "cell_type": "markdown",
   "metadata": {
    "id": "CFgucIYgH0uc"
   },
   "source": [
    "<a name=\"Tuplas\"></a>\n",
    "### Tuplas"
   ]
  },
  {
   "cell_type": "markdown",
   "metadata": {
    "id": "4eTZBdFRH0ud"
   },
   "source": [
    "Ya hemos visto las tuplas son similares a las listas, pero con la diferencia de que sus elementos no pueden ser modifiados. Para entender mejor su utilidad, vamos a ver un ejemplo basado en  la función **divmod()**, que devuelve tanto el cociente como el resto de una división."
   ]
  },
  {
   "cell_type": "code",
   "execution_count": null,
   "metadata": {
    "id": "5csD-BZ5H0ud"
   },
   "outputs": [],
   "source": [
    "xyz = divmod(10,3)\n",
    "print(xyz)\n",
    "print(type(xyz))"
   ]
  },
  {
   "cell_type": "markdown",
   "metadata": {
    "id": "eenl6tZJH0ud"
   },
   "source": [
    "Divmod devuelve una tupla porque se trata de valores fijos, que no se espera que sean modificados.."
   ]
  },
  {
   "cell_type": "markdown",
   "metadata": {
    "id": "kHJ1yYtlH0ud"
   },
   "source": [
    "Para hacer que una variable sea de tipo tupla se puede o bien asignarle ( ) o *tuple( )*."
   ]
  },
  {
   "cell_type": "code",
   "execution_count": null,
   "metadata": {
    "collapsed": true,
    "id": "P_8ps8hFH0ud"
   },
   "outputs": [],
   "source": [
    "tup = ()\n",
    "tup2 = tuple()"
   ]
  },
  {
   "cell_type": "markdown",
   "metadata": {
    "id": "XCF8gUCQH0ue"
   },
   "source": [
    "Tambíen se puede asignar directamente con sus valores:"
   ]
  },
  {
   "cell_type": "code",
   "execution_count": null,
   "metadata": {
    "id": "PVLMnfxzH0ue"
   },
   "outputs": [],
   "source": [
    "x = 4.5\n",
    "y = 18.0\n",
    "punto = (x,y)\n",
    "print(punto)"
   ]
  },
  {
   "cell_type": "markdown",
   "metadata": {
    "id": "ixoLN_GSH0ue"
   },
   "source": [
    "Un caso curioso es la creación de tuplas de un solo elemento. \n",
    "Si escribimos por ejemplo x = (66), esto creará la variable x como el valor\n",
    "entero 66, ya que considera que son los paréntesis de una expresión aritmética. En lugar de eso se emplea el truco de poner una coma al final, para avisar de que es una tupla"
   ]
  },
  {
   "cell_type": "code",
   "execution_count": null,
   "metadata": {
    "id": "TPKPUM68H0uf"
   },
   "outputs": [],
   "source": [
    "v = 66,\n",
    "print(v)"
   ]
  },
  {
   "cell_type": "markdown",
   "metadata": {
    "id": "WI8ZBptTH0ug"
   },
   "source": [
    "Puede pensarse que al fin y al cabo 66 como entero o 66 como tupla da igual, se trata del mismo número. Esto no es cierto porque el comportamiento de operadores como * cambia si se trata de una tupla:"
   ]
  },
  {
   "cell_type": "code",
   "execution_count": null,
   "metadata": {
    "id": "L8kZmA0JH0ug"
   },
   "outputs": [],
   "source": [
    "print(2*66)\n",
    "print(2*(66,))"
   ]
  },
  {
   "cell_type": "markdown",
   "metadata": {
    "id": "iSSuS_hQH0ug"
   },
   "source": [
    "También se pueden crear tuplas a partir de listas:"
   ]
  },
  {
   "cell_type": "code",
   "execution_count": null,
   "metadata": {
    "id": "9BXAklLVH0ug",
    "scrolled": true
   },
   "outputs": [],
   "source": [
    "tup3 = tuple([1,2,3])\n",
    "print(tup3)\n",
    "tup4 = tuple('Hello')\n",
    "print(tup4)"
   ]
  },
  {
   "cell_type": "markdown",
   "metadata": {
    "id": "TKZgVz4UH0ug"
   },
   "source": [
    "Las tuplas siguen la misma forma de indexación y acceso que las listas:"
   ]
  },
  {
   "cell_type": "code",
   "execution_count": null,
   "metadata": {
    "id": "IDU07etEH0ug"
   },
   "outputs": [],
   "source": [
    "print(tup3)\n",
    "print(len(tup3))\n",
    "print(tup3[1])\n",
    "tup5 = tup4[:3]\n",
    "print(tup5)"
   ]
  },
  {
   "cell_type": "markdown",
   "metadata": {
    "id": "ozkCjKh0H0uh"
   },
   "source": [
    "#### Mapping entre tuplas... o asignación múltiple"
   ]
  },
  {
   "cell_type": "code",
   "execution_count": null,
   "metadata": {
    "collapsed": true,
    "id": "Yfn-6DWVH0ui"
   },
   "outputs": [],
   "source": [
    "(a,b,c)= ('alpha','beta','gamma') #declaración de 3 variables, a,b y c\n",
    "d,e,f = ('alpha','beta','gamma')\n",
    "g,h,i = 'alpha','beta','gamma'\n"
   ]
  },
  {
   "cell_type": "code",
   "execution_count": null,
   "metadata": {
    "id": "HAO3YSoFH0ui"
   },
   "outputs": [],
   "source": [
    "print(a,b,c)\n",
    "print(d,e,f)\n",
    "print(g,h,i)"
   ]
  },
  {
   "cell_type": "code",
   "execution_count": null,
   "metadata": {
    "id": "E6Bzv0_QH0ui"
   },
   "outputs": [],
   "source": [
    "d = tuple('It is a capital mistake to theorize before one has data (Sherlock Holmes)')\n",
    "print(d)"
   ]
  },
  {
   "cell_type": "markdown",
   "metadata": {
    "id": "FPhHVk_4H0ui"
   },
   "source": [
    "#### Funciones predefinidas para tuplas"
   ]
  },
  {
   "cell_type": "markdown",
   "metadata": {
    "id": "zW5HI0JxH0ui"
   },
   "source": [
    "No hay funciones específicas, tenemos las mismas que las ya vistas para las secuencias:\n",
    "\n",
    "La función **count()** indica el númro de veces que un elemento aparece en la tupla."
   ]
  },
  {
   "cell_type": "code",
   "execution_count": null,
   "metadata": {
    "id": "6JTfKxBpH0ui"
   },
   "outputs": [],
   "source": [
    "d.count('a')"
   ]
  },
  {
   "cell_type": "markdown",
   "metadata": {
    "id": "UOG3r2SYH0uj"
   },
   "source": [
    "Igual que en el caso de las listas, **index()** devuelve la posición o índice de la primera aparición del elemento especificado "
   ]
  },
  {
   "cell_type": "code",
   "execution_count": null,
   "metadata": {
    "id": "F7Fykw5YH0uj"
   },
   "outputs": [],
   "source": [
    "d.index('a')"
   ]
  },
  {
   "cell_type": "markdown",
   "metadata": {
    "id": "v1acak1sH0uj"
   },
   "source": [
    "<a name=\"Strings\"></a>\n",
    "### Strings"
   ]
  },
  {
   "cell_type": "markdown",
   "metadata": {
    "id": "mgxIcXQsH0uj"
   },
   "source": [
    "Llamamos *strings* a las cadenas de caracteres\n",
    "\n",
    "#### Declaración\n",
    "Se pueden usar comillas simples o dobles, pero recordar utilizar la misma para abrir que para cerrar. También se pueden utilizar 3 comillas para cadenas multilínea"
   ]
  },
  {
   "cell_type": "code",
   "execution_count": null,
   "metadata": {
    "id": "mUyP-DJeH0uk"
   },
   "outputs": [],
   "source": [
    "s0 = 'vivo sin vivir en mí'\n",
    "s1 = \"Vivo sin vivir en mí\"\n",
    "s2 = '''Vivo sin vivir en mí\n",
    "y tan alta vida espero\n",
    "que muero porque no muero'''\n",
    "\n",
    "print(s0 , type(s0))\n",
    "print(s1, type(s1))\n",
    "print(s2, type(s2))"
   ]
  },
  {
   "cell_type": "markdown",
   "metadata": {
    "id": "TyVNMzd8H0uk"
   },
   "source": [
    "#### Funciones de búsqueda y formato\n",
    "\n",
    "Vamos a ver algunas operaciones básicas con cadenas de caracteres. Muchas de ellas nos aparecieron cuando hablemos de listas, ya que los strings son realmente listas de caracteres, así nos sirve de repaso.\n",
    "\n",
    "Comenzando buscando la posición en la que aparece una subcadena con **find**. Sustituye a **index** que como vimos falla si el elemento buscado no existe. En realidad tiene dos diferencias\n",
    "\n",
    "\n",
    "1.- No falla si el elemento no existe, sino que devuelve -1<br>\n",
    "2.- Permite buscar una secuencia de elementos, no solo 1"
   ]
  },
  {
   "cell_type": "code",
   "execution_count": null,
   "metadata": {
    "id": "8ijbrRswH0uk"
   },
   "outputs": [],
   "source": [
    "print(s0)\n",
    "print(s0.find('in vi'))\n",
    "print(s0.find('am'))"
   ]
  },
  {
   "cell_type": "markdown",
   "metadata": {
    "id": "Wy2Te0PVH0ul"
   },
   "source": [
    "También se puede especificar entre qué posiciones buscar (recordar que la primera posición es la 0):"
   ]
  },
  {
   "cell_type": "code",
   "execution_count": null,
   "metadata": {
    "id": "D7J54LRKH0ul"
   },
   "outputs": [],
   "source": [
    "print(s0.find('i',4))   # a partir de la 4\n",
    "print(s0.find('i',1,3)) # entre la 1 y la 3"
   ]
  },
  {
   "cell_type": "markdown",
   "metadata": {
    "id": "rUjmN_n2H0ul"
   },
   "source": [
    "**capitalize( )** convierte a mayúscula la primera letra"
   ]
  },
  {
   "cell_type": "code",
   "execution_count": null,
   "metadata": {
    "id": "2HGT1c5fH0ul"
   },
   "outputs": [],
   "source": [
    "print(s0)\n",
    "print(s0.capitalize())"
   ]
  },
  {
   "cell_type": "markdown",
   "metadata": {
    "id": "6SaP2fn4H0ul"
   },
   "source": [
    "**lower()** y **upper()** convierten todo el texto enn minúsculas y en mayúsculas, respectivamente:"
   ]
  },
  {
   "cell_type": "code",
   "execution_count": null,
   "metadata": {
    "id": "JJLfZbOFH0um"
   },
   "outputs": [],
   "source": [
    "print(s0.upper())"
   ]
  },
  {
   "cell_type": "markdown",
   "metadata": {
    "id": "nx1WWcvKH0um"
   },
   "source": [
    "**center( )** alinea el texto dentro de los espacios indicados"
   ]
  },
  {
   "cell_type": "code",
   "execution_count": null,
   "metadata": {
    "id": "6qVoiRCPH0um"
   },
   "outputs": [],
   "source": [
    "centrado = s0.center(70)\n",
    "print(centrado)"
   ]
  },
  {
   "cell_type": "markdown",
   "metadata": {
    "id": "vsJga33zH0um"
   },
   "source": [
    "En lugar de espacios, se puede rellanar con otro carácter, como '-'"
   ]
  },
  {
   "cell_type": "code",
   "execution_count": null,
   "metadata": {
    "id": "MkAbSkmNH0um"
   },
   "outputs": [],
   "source": [
    "s0.center(70,'-')"
   ]
  },
  {
   "cell_type": "markdown",
   "metadata": {
    "id": "IdD5CK1xH0um"
   },
   "source": [
    "Para quitar caracteres sobrantes podemos usar **strip()**, que elimina \n",
    "el caracter indicado (blanco si no se dice nada) de ambos extremos de la \n",
    "cadena. Si solo queremos quitarlos por un lado, podemos usar **rstrip()**\n",
    "o **lstrip()**"
   ]
  },
  {
   "cell_type": "code",
   "execution_count": null,
   "metadata": {
    "id": "bAjsoubSH0un"
   },
   "outputs": [],
   "source": [
    "print(centrado.strip(), end=\"\")\n",
    "print(\".\")\n",
    "s1 = 'Big'\n",
    "s2 = 'Data'\n",
    "print( s1 +' '+ s2)"
   ]
  },
  {
   "cell_type": "markdown",
   "metadata": {
    "id": "2dhV0B0dH0un"
   },
   "source": [
    "print utiliza códigos especiales para mostrar valores. Por ejemplo **%s** Se usa en print para representar una cadena"
   ]
  },
  {
   "cell_type": "code",
   "execution_count": null,
   "metadata": {
    "id": "_xUkc2GFH0un"
   },
   "outputs": [],
   "source": [
    "print(\"Hello %s\" % s1)"
   ]
  },
  {
   "cell_type": "markdown",
   "metadata": {
    "id": "pItdeEX-H0un"
   },
   "source": [
    "De forma análoga podemos usar otros símbolos\n",
    "\n",
    "    - %s -> string\n",
    "    - %d -> Integer\n",
    "    - %f -> Float\n",
    "    - %o -> Octal\n",
    "    - %x -> Hexadecimal\n",
    "    - %e -> exponential\n",
    "    \n",
    "Esto permite hacer conversiones dentro del print"
   ]
  },
  {
   "cell_type": "code",
   "execution_count": null,
   "metadata": {
    "id": "EQWhE4CnH0uo"
   },
   "outputs": [],
   "source": [
    "nombre = \"Bertoldo\"\n",
    "snacido = \"1985\"\n",
    "nacido = int(snacido)\n",
    "actual = 2022\n",
    "\n",
    "print(\"Hola %s! Tu edad es %d o %d\"%(nombre,actual-nacido-1,actual-nacido))\n"
   ]
  },
  {
   "cell_type": "markdown",
   "metadata": {
    "id": "70S6Kq09H0uo"
   },
   "source": [
    "Normalmente es más fácil usar texto formateado:"
   ]
  },
  {
   "cell_type": "code",
   "execution_count": null,
   "metadata": {
    "id": "qc5Vv2PpH0uo"
   },
   "outputs": [],
   "source": [
    "nombre = \"Bertoldo\"\n",
    "snacido = \"1985\"\n",
    "nacido = int(snacido)\n",
    "actual = 2018\n",
    "\n",
    "print(f\"Hola {nombre}! Tu edad es {actual-nacido-1} o {actual-nacido}\")\n"
   ]
  },
  {
   "cell_type": "markdown",
   "metadata": {
    "id": "V4oc9Rp5H0uo"
   },
   "source": [
    "Sin embargo, el % resulta muy útil para formatear números reales limitando por ejemplo sus posiciones decimales"
   ]
  },
  {
   "cell_type": "code",
   "execution_count": null,
   "metadata": {
    "id": "h7x1xwY6H0up"
   },
   "outputs": [],
   "source": [
    "x = 12.3456789\n",
    "print('The value of x is %2.3f' %x)"
   ]
  },
  {
   "cell_type": "markdown",
   "metadata": {
    "id": "BVzC4pBdH0up"
   },
   "source": [
    "La función **replace( )** reemplaza un substring por otro"
   ]
  },
  {
   "cell_type": "code",
   "execution_count": null,
   "metadata": {
    "id": "Uw2sTLd-H0up"
   },
   "outputs": [],
   "source": [
    "cadena = 'programación'\n",
    "print(cadena.replace('gram','fan'))\n",
    "cadena = 'xxyyxxyyxx'\n",
    "print(cadena.replace('xx','aa'))"
   ]
  },
  {
   "cell_type": "markdown",
   "metadata": {
    "id": "BrsgeuZbFRoP"
   },
   "source": [
    "otras funciones interesantes se aplican al caso particular de un carácter is nos permite comprobar si es in dígito (isdigit), alfanumérico (isalpha), etc. Ver [aquí](https://www.w3schools.com/python/python_ref_string.asp) para una lista bastante completa de funciones sobre strings"
   ]
  },
  {
   "cell_type": "markdown",
   "metadata": {
    "id": "PxIFZqjiH0up"
   },
   "source": [
    "**Ejercicio 8**\n",
    "\n",
    "Vamos a cargar una página de la wikipedia para hacer unas pruebas. Google Colab tiene una versión antigua, que primero borramos; luego instalamos la más actualizada"
   ]
  },
  {
   "cell_type": "code",
   "execution_count": null,
   "metadata": {
    "id": "kftyaJ7mP4PM"
   },
   "outputs": [],
   "source": [
    "!pip install wikipedia"
   ]
  },
  {
   "cell_type": "code",
   "execution_count": null,
   "metadata": {
    "id": "Jv1uVx4HH0uq"
   },
   "outputs": [],
   "source": [
    "\n",
    "import wikipedia\n",
    "wikipedia.set_lang(\"es\")\n",
    "\n",
    "q1 = wikipedia.page('Bolsa de Madrid')\n",
    "s = q1.content\n",
    "print(s)"
   ]
  },
  {
   "cell_type": "markdown",
   "metadata": {
    "id": "xo_7zGWzH0uq"
   },
   "source": [
    "a) Encontrar la primera aparición en s del string *lonja*, y mostrar desde esa posición hasta 165 caracteres más adelante."
   ]
  },
  {
   "cell_type": "code",
   "execution_count": null,
   "metadata": {
    "id": "mRbUhCWzH0uq"
   },
   "outputs": [],
   "source": []
  },
  {
   "cell_type": "markdown",
   "metadata": {
    "id": "Vh4cblm7H0uq"
   },
   "source": [
    "b) Cambiar en s las 'a' por 'i'. Mostrar los 150 primeros caracteres del string resultante"
   ]
  },
  {
   "cell_type": "code",
   "execution_count": null,
   "metadata": {
    "id": "eRGGZiDvH0uq"
   },
   "outputs": [],
   "source": []
  },
  {
   "cell_type": "markdown",
   "metadata": {
    "id": "L0LKauLVH0uq"
   },
   "source": [
    "c) Contar cuántas veces aparece en s la palabra \"Bolsa\"\n"
   ]
  },
  {
   "cell_type": "code",
   "execution_count": null,
   "metadata": {
    "id": "an5O9c_iH0ur"
   },
   "outputs": [],
   "source": []
  },
  {
   "cell_type": "markdown",
   "metadata": {
    "id": "DJPW1-YOqxvK"
   },
   "source": [
    "d) El problema de buscar \"Bolsa\" es que busca exactamente esa palabra, pero puede que aparezca por ejemplo en minúsculas. Convertir primero el string s a mayúsculas para luego buscar las apariciones de \"BOLSA\""
   ]
  },
  {
   "cell_type": "code",
   "execution_count": null,
   "metadata": {
    "id": "7KU7UZVu3mhp"
   },
   "outputs": [],
   "source": []
  },
  {
   "cell_type": "markdown",
   "metadata": {
    "id": "ABybt2EwH0ur"
   },
   "source": [
    "<a name=\"Conjuntos\"></a>\n",
    "## Conjuntos"
   ]
  },
  {
   "cell_type": "markdown",
   "metadata": {
    "id": "pI6zBbqQH0ur"
   },
   "source": [
    "Los conjuntos representan secuencias de elementos no repetidos.\n",
    "\n",
    "Para inicializar una varial conjunto vacíon usaremos la constructora **set()**. También podemos utilizar la notación **set([sequence])** para indicar los elementos iniciales."
   ]
  },
  {
   "cell_type": "code",
   "execution_count": null,
   "metadata": {
    "id": "gS4DyKjNH0ur"
   },
   "outputs": [],
   "source": [
    "set1 = set()\n",
    "print(type(set1))"
   ]
  },
  {
   "cell_type": "code",
   "execution_count": null,
   "metadata": {
    "id": "c_C2mngcH0ur"
   },
   "outputs": [],
   "source": [
    "seta = set([1,2,2,3,3,4])\n",
    "print(seta)"
   ]
  },
  {
   "cell_type": "markdown",
   "metadata": {
    "id": "BUEa3aJ5H0ur"
   },
   "source": [
    "como podemos ver los elementos 2 y 3, que se repetían dos veces en la lista original, se ven  solo una vez al convertir la lista a conjunto."
   ]
  },
  {
   "cell_type": "markdown",
   "metadata": {
    "id": "YIHaz6CNH0us"
   },
   "source": [
    "#### Funciones predefinidas"
   ]
  },
  {
   "cell_type": "code",
   "execution_count": null,
   "metadata": {
    "collapsed": true,
    "id": "v1RdY7PIH0us"
   },
   "outputs": [],
   "source": [
    "set1 = set([1,2,3])"
   ]
  },
  {
   "cell_type": "code",
   "execution_count": null,
   "metadata": {
    "collapsed": true,
    "id": "t1hJ0idNH0us"
   },
   "outputs": [],
   "source": [
    "set2 = set([2,3,4,5])"
   ]
  },
  {
   "cell_type": "markdown",
   "metadata": {
    "id": "KjqSog3nH0us"
   },
   "source": [
    "La función **union( )** reune los elementos de dos conjuntos, por supuesto evitando repeticiones."
   ]
  },
  {
   "cell_type": "code",
   "execution_count": null,
   "metadata": {
    "id": "lFOhyg__H0us"
   },
   "outputs": [],
   "source": [
    "set1.union(set2)"
   ]
  },
  {
   "cell_type": "markdown",
   "metadata": {
    "id": "yhAy4EUsH0ut"
   },
   "source": [
    "**add( )** Añade un nuevo elemento al conjunto (si no está ya)."
   ]
  },
  {
   "cell_type": "code",
   "execution_count": null,
   "metadata": {
    "id": "JXQMMA3YH0ut"
   },
   "outputs": [],
   "source": [
    "set1.add(0)\n",
    "set1"
   ]
  },
  {
   "cell_type": "markdown",
   "metadata": {
    "id": "rIVvlHoxH0ut"
   },
   "source": [
    "La función **intersection( )** recoge los elementos comunes a dos conjuntos."
   ]
  },
  {
   "cell_type": "code",
   "execution_count": null,
   "metadata": {
    "id": "3WZwhbMVH0ut"
   },
   "outputs": [],
   "source": [
    "set1.intersection(set2)"
   ]
  },
  {
   "cell_type": "markdown",
   "metadata": {
    "id": "kzPzukipH0uu"
   },
   "source": [
    "La función **difference( )** devuelve los elementos del conjunto set1 que no estén en el conjunto set2."
   ]
  },
  {
   "cell_type": "code",
   "execution_count": null,
   "metadata": {
    "id": "U4HcFeivH0uu"
   },
   "outputs": [],
   "source": [
    "set1.difference(set2)"
   ]
  },
  {
   "cell_type": "markdown",
   "metadata": {
    "id": "3ToAJuMJH0uu"
   },
   "source": [
    " La función  **symmetric_difference( )** devuelve los elementos que están solo en un uno de los dos conjuntos."
   ]
  },
  {
   "cell_type": "code",
   "execution_count": null,
   "metadata": {
    "id": "8zwjuBvyH0uu"
   },
   "outputs": [],
   "source": [
    "set2.symmetric_difference(set1)"
   ]
  },
  {
   "cell_type": "markdown",
   "metadata": {
    "id": "92Q85xaCH0uv"
   },
   "source": [
    "Las funciones **issubset( ), isdisjoint( ), issuperset( )** permiten comprobar si s1 es un subconjunto, o un conjunto disjunto, o un superconjunto, de s2, respectivamente."
   ]
  },
  {
   "cell_type": "code",
   "execution_count": null,
   "metadata": {
    "id": "KuZX-pFHH0uv"
   },
   "outputs": [],
   "source": [
    "print(set1.issubset(set2))\n",
    "\n",
    "s1 = set([1,2])\n",
    "s2 = set(range(20))\n",
    "print(s2)\n",
    "s1.issubset(s2)"
   ]
  },
  {
   "cell_type": "code",
   "execution_count": null,
   "metadata": {
    "id": "Pz_hZSQ4H0uv"
   },
   "outputs": [],
   "source": [
    "set2.isdisjoint(set1)"
   ]
  },
  {
   "cell_type": "code",
   "execution_count": null,
   "metadata": {
    "id": "2-zeD7nQH0uv"
   },
   "outputs": [],
   "source": [
    "set2.issuperset(set1)"
   ]
  },
  {
   "cell_type": "markdown",
   "metadata": {
    "id": "GMRzCqrOH0uv"
   },
   "source": [
    "**pop( )** elimina un elemento al azar del conjunto."
   ]
  },
  {
   "cell_type": "code",
   "execution_count": null,
   "metadata": {
    "id": "Xdj42YMSH0uw"
   },
   "outputs": [],
   "source": [
    "s2.pop()\n",
    "print(s2)"
   ]
  },
  {
   "cell_type": "markdown",
   "metadata": {
    "id": "rBHX0XEYH0uw"
   },
   "source": [
    "**remove( )** elimina el elemento indicado del conjunto."
   ]
  },
  {
   "cell_type": "code",
   "execution_count": null,
   "metadata": {
    "id": "rEaKAPAkH0uw"
   },
   "outputs": [],
   "source": [
    "set1.remove(2)\n",
    "set1"
   ]
  },
  {
   "cell_type": "markdown",
   "metadata": {
    "id": "0k1y5ACSH0uw"
   },
   "source": [
    "**clear( )** elimina todos los elementos, y por tanto convierte cualquier conjunto en el conjunto vacío."
   ]
  },
  {
   "cell_type": "code",
   "execution_count": null,
   "metadata": {
    "id": "SXjKvn9ZH0uw"
   },
   "outputs": [],
   "source": [
    "set1.clear()\n",
    "set1"
   ]
  },
  {
   "cell_type": "markdown",
   "metadata": {
    "id": "NsEjNUefH0ux"
   },
   "source": [
    "**Ejercicio 9** ¿Qué mostrará el siguiente programa?"
   ]
  },
  {
   "cell_type": "code",
   "execution_count": null,
   "metadata": {
    "id": "0vZt92n7H0ux"
   },
   "outputs": [],
   "source": [
    "\n",
    "s1 = set([1,2,3,4,5])\n",
    "s2 = s1\n",
    "s1.pop()\n",
    "print(s1,s2,s1.union(s2))"
   ]
  },
  {
   "cell_type": "markdown",
   "metadata": {
    "id": "SzVFnWV4H0uy"
   },
   "source": [
    "Solo queríamos quitar un elemento de s1, ¿Cómo arreglarlo?"
   ]
  },
  {
   "cell_type": "code",
   "execution_count": null,
   "metadata": {
    "id": "8lHe_hZgH0uy"
   },
   "outputs": [],
   "source": []
  },
  {
   "cell_type": "markdown",
   "metadata": {
    "id": "c7GfoJcJH0uy"
   },
   "source": [
    "<a name=\"Diccionarios\"></a>\n",
    "## Diccionarios"
   ]
  },
  {
   "cell_type": "markdown",
   "metadata": {
    "id": "mvT3pnaTH0uy"
   },
   "source": [
    "Los diccionarios son estructuras que asocian claves con valores. Podemos imaginarlos como un 'record' en otros lenguajes, que recoge varios valores en una estructura asociados a campos con nombre predeterminado.\n",
    "\n",
    "Para crear un diccionario usamos la constructora { } o dict()"
   ]
  },
  {
   "cell_type": "code",
   "execution_count": null,
   "metadata": {
    "id": "6uk-H-4WH0uy"
   },
   "outputs": [],
   "source": [
    "d0 = {}\n",
    "d1 = dict()\n",
    "print(type(d0), type(d1))"
   ]
  },
  {
   "cell_type": "markdown",
   "metadata": {
    "id": "cSNgT4z8H0uy"
   },
   "source": [
    "Podemos añadir 'campos' de forma dinámica:"
   ]
  },
  {
   "cell_type": "code",
   "execution_count": null,
   "metadata": {
    "id": "jvtru0p5H0uz"
   },
   "outputs": [],
   "source": [
    "d0['nombre'] = 'bertoldo'\n",
    "d0['edad'] = 23\n",
    "print(d0)"
   ]
  },
  {
   "cell_type": "code",
   "execution_count": null,
   "metadata": {
    "id": "HXfz2ZD5H0uz"
   },
   "outputs": [],
   "source": [
    "print(d0['edad'])"
   ]
  },
  {
   "cell_type": "markdown",
   "metadata": {
    "id": "zTBsfEymH0uz"
   },
   "source": [
    "A valores índice de un diccionario, como 'edad' se les llama *claves*. \n",
    "Como cada clave tiene un valor asociado, a los diccionarios se les llama\n",
    "a menudo *estructura clave-valor*."
   ]
  },
  {
   "cell_type": "markdown",
   "metadata": {
    "id": "44M7ggdLH0u0"
   },
   "source": [
    "Podemos combinar dos listas con la función zip para crear un diccionario"
   ]
  },
  {
   "cell_type": "code",
   "execution_count": null,
   "metadata": {
    "id": "igxYrwyMH0u0"
   },
   "outputs": [],
   "source": [
    "metal = ['Gold', 'Silver', 'Palladium', 'Platinum']\n",
    "valor = [55.08, 0.6104, 67.46, 28.16]\n",
    "parejas = zip(metal,valor)\n",
    "dictparejas = dict(parejas)\n",
    "print(dictparejas)\n"
   ]
  },
  {
   "cell_type": "code",
   "execution_count": null,
   "metadata": {
    "id": "LLXvJjziH0u0"
   },
   "outputs": [],
   "source": [
    "print(dictparejas)\n",
    "print(dictparejas['Palladium'])"
   ]
  },
  {
   "cell_type": "markdown",
   "metadata": {
    "id": "zko9-6asH0u0"
   },
   "source": [
    "Se pueden obtener  todas las claves y los valores de un diccionario, \n",
    "usando las funciones **keys()** y **values()**"
   ]
  },
  {
   "cell_type": "code",
   "execution_count": null,
   "metadata": {
    "id": "PS0YC7lOH0u0"
   },
   "outputs": [],
   "source": [
    "dictparejas.keys()"
   ]
  },
  {
   "cell_type": "markdown",
   "metadata": {
    "id": "-YEDaglcH0u1"
   },
   "source": [
    "Para convertir el diccionario en una lista de parejas, podemos usar **items()**"
   ]
  },
  {
   "cell_type": "code",
   "execution_count": null,
   "metadata": {
    "id": "Kz2Cx7rPH0u1"
   },
   "outputs": [],
   "source": [
    "dictparejas.items()"
   ]
  },
  {
   "cell_type": "markdown",
   "metadata": {
    "id": "_9PwBnn-H0u1"
   },
   "source": [
    "También podemos eliminar una clave, con **pop()**"
   ]
  },
  {
   "cell_type": "code",
   "execution_count": null,
   "metadata": {
    "id": "-fK-DY5-H0u1"
   },
   "outputs": [],
   "source": [
    "dictparejas.pop('Silver')\n",
    "dictparejas"
   ]
  },
  {
   "cell_type": "code",
   "execution_count": null,
   "metadata": {
    "id": "quHZbu9EH0u2"
   },
   "outputs": [],
   "source": [
    "print(dictparejas)"
   ]
  },
  {
   "cell_type": "markdown",
   "metadata": {
    "id": "NrKP0SimH0u2"
   },
   "source": [
    "Finalmente, si se quieren borrar todos los elementos del diccionario, se puede usar **clear()**"
   ]
  },
  {
   "cell_type": "code",
   "execution_count": null,
   "metadata": {
    "id": "mw7VNpV5H0u2"
   },
   "outputs": [],
   "source": [
    "dictparejas.clear()\n",
    "print(dictparejas)"
   ]
  },
  {
   "cell_type": "code",
   "execution_count": null,
   "metadata": {
    "collapsed": true,
    "id": "U1b1Am8MH0u2"
   },
   "outputs": [],
   "source": []
  }
 ],
 "metadata": {
  "colab": {
   "name": "4estructuras.ipynb",
   "provenance": []
  },
  "kernelspec": {
   "display_name": "Python 3 (ipykernel)",
   "language": "python",
   "name": "python3"
  },
  "language_info": {
   "codemirror_mode": {
    "name": "ipython",
    "version": 3
   },
   "file_extension": ".py",
   "mimetype": "text/x-python",
   "name": "python",
   "nbconvert_exporter": "python",
   "pygments_lexer": "ipython3",
   "version": "3.9.12"
  }
 },
 "nbformat": 4,
 "nbformat_minor": 1
}
