{
 "cells": [
  {
   "cell_type": "markdown",
   "metadata": {},
   "source": [
    "## Adquisición y preprocesamiento de la información\n",
    "\n",
    "<table>\n",
    "    <tr>\n",
    "      <td>Grado en Ingeniería de Datos e Inteligencia Artificial - Facultad de Informática - UCM\n",
    "      </td>\n",
    "      <td>\n",
    "      <img src=\"https://biblioteca.ucm.es/data/cont/media/www/pag-88746//escudo.jpg\"  width=50/>\n",
    "      </td>\n",
    "     </tr>\n",
    "</table>\n",
    "\n",
    "\n",
    "\n",
    "\n",
    "# Outliers - Boxplots\n",
    "\n",
    "\n",
    "\n",
    "### Índice\n",
    "[Intro](#Introducción)<br>\n",
    "[Ejemplo](#Ejemplo)<br>\n",
    "[Visualizando outliers](#Visualizando)<br>\n",
    "&nbsp;&nbsp;&nbsp;&nbsp;[Histogramas](#Histogramas)<br>\n",
    "&nbsp;&nbsp;&nbsp;&nbsp;[Boxplots](#Boxplots)<br>\n",
    "[Métodos numéricos](#Numéricos)<br>\n",
    "[Outliers en varias dimensiones](#Multivariante)<br>\n",
    "[Bibliografía](#Bibliografía)<br>\n",
    "\n",
    "\n",
    "<a name=\"Intro\"></a>\n",
    "## Introducción\n",
    "¿Qué es un outlier? Una posible definición sería \n",
    "\n",
    "*un valor que se desvía tanto del resto que lleva a sospechar que se ha producido a través de un mecanismo diferente* \n",
    "\n",
    "Ese mecanismo diferente puede ser un error en la toma de datos o una circunstancia especial. \n",
    "\n",
    "Al considerar outliers no debemos utilizar la media y la desviación típica, porque son valores que se ven muy afectados por los propios outliers. En su lugar utilizaremos medidas más *robustas* como la mediana. Hay multitud de métodos dado que se trata de un problema recurrente y fundamental. Aquí vamos a ver dos tipos de métodos:\n",
    "\n",
    "* Visuales\n",
    "* Estadísticos\n",
    "\n",
    "Para más detalles ver la [bibliografía](#Bibliografía)\n",
    "\n",
    "<a name=\"Ejemplo\"></a>\n",
    "## Ejemplo\n",
    "\n",
    "Como ejemplo vamos a ver las estadísticas de varios pilotos de Fórmula 1 en el gran premio de Arabia Saudita en marzo de 2023. \n",
    "\n",
    "Estos datos nos los proporciona la siguiente librería\n"
   ]
  },
  {
   "cell_type": "code",
   "execution_count": 160,
   "metadata": {},
   "outputs": [
    {
     "name": "stdout",
     "output_type": "stream",
     "text": [
      "Requirement already satisfied: numpy in c:\\users\\rafa\\appdata\\roaming\\python\\python39\\site-packages (1.24.2)\n"
     ]
    }
   ],
   "source": [
    "!pip install --user --upgrade numpy"
   ]
  },
  {
   "cell_type": "code",
   "execution_count": 2,
   "metadata": {},
   "outputs": [
    {
     "name": "stdout",
     "output_type": "stream",
     "text": [
      "Requirement already satisfied: scipy in e:\\instalados\\anaconda\\lib\\site-packages (1.9.3)\n",
      "Collecting scipy\n",
      "  Downloading scipy-1.10.1-cp39-cp39-win_amd64.whl (42.5 MB)\n",
      "     --------------------------------------- 42.5/42.5 MB 28.5 MB/s eta 0:00:00\n",
      "Requirement already satisfied: numpy<1.27.0,>=1.19.5 in c:\\users\\rafa\\appdata\\roaming\\python\\python39\\site-packages (from scipy) (1.24.2)\n",
      "Installing collected packages: scipy\n",
      "Successfully installed scipy-1.10.1\n"
     ]
    }
   ],
   "source": [
    "!pip install --user --upgrade scipy"
   ]
  },
  {
   "cell_type": "code",
   "execution_count": 3,
   "metadata": {},
   "outputs": [
    {
     "name": "stdout",
     "output_type": "stream",
     "text": [
      "Requirement already satisfied: fastf1 in c:\\users\\rafa\\appdata\\roaming\\python\\python39\\site-packages (2.3.1)\n",
      "Requirement already satisfied: thefuzz in c:\\users\\rafa\\appdata\\roaming\\python\\python39\\site-packages (from fastf1) (0.19.0)\n",
      "Requirement already satisfied: scipy in c:\\users\\rafa\\appdata\\roaming\\python\\python39\\site-packages (from fastf1) (1.10.1)\n",
      "Requirement already satisfied: pandas>=1.1.0 in c:\\users\\rafa\\appdata\\roaming\\python\\python39\\site-packages (from fastf1) (1.5.1)\n",
      "Requirement already satisfied: timple>=0.1.2 in c:\\users\\rafa\\appdata\\roaming\\python\\python39\\site-packages (from fastf1) (0.1.5)\n",
      "Requirement already satisfied: signalr-client-aio in c:\\users\\rafa\\appdata\\roaming\\python\\python39\\site-packages (from fastf1) (0.0.1.6.2)\n",
      "Requirement already satisfied: matplotlib>=3.3.3 in c:\\users\\rafa\\appdata\\roaming\\python\\python39\\site-packages (from fastf1) (3.6.2)\n",
      "Requirement already satisfied: numpy>=1.17.3 in c:\\users\\rafa\\appdata\\roaming\\python\\python39\\site-packages (from fastf1) (1.24.2)\n",
      "Requirement already satisfied: requests-cache>=0.8.0 in c:\\users\\rafa\\appdata\\roaming\\python\\python39\\site-packages (from fastf1) (1.0.1)\n",
      "Requirement already satisfied: requests in e:\\instalados\\anaconda\\lib\\site-packages (from fastf1) (2.28.1)\n",
      "Requirement already satisfied: pyparsing>=2.2.1 in c:\\users\\rafa\\appdata\\roaming\\python\\python39\\site-packages (from matplotlib>=3.3.3->fastf1) (3.0.9)\n",
      "Requirement already satisfied: packaging>=20.0 in c:\\users\\rafa\\appdata\\roaming\\python\\python39\\site-packages (from matplotlib>=3.3.3->fastf1) (21.3)\n",
      "Requirement already satisfied: cycler>=0.10 in c:\\users\\rafa\\appdata\\roaming\\python\\python39\\site-packages (from matplotlib>=3.3.3->fastf1) (0.11.0)\n",
      "Requirement already satisfied: fonttools>=4.22.0 in c:\\users\\rafa\\appdata\\roaming\\python\\python39\\site-packages (from matplotlib>=3.3.3->fastf1) (4.38.0)\n",
      "Requirement already satisfied: python-dateutil>=2.7 in c:\\users\\rafa\\appdata\\roaming\\python\\python39\\site-packages (from matplotlib>=3.3.3->fastf1) (2.8.2)\n",
      "Requirement already satisfied: pillow>=6.2.0 in c:\\users\\rafa\\appdata\\roaming\\python\\python39\\site-packages (from matplotlib>=3.3.3->fastf1) (9.3.0)\n",
      "Requirement already satisfied: contourpy>=1.0.1 in c:\\users\\rafa\\appdata\\roaming\\python\\python39\\site-packages (from matplotlib>=3.3.3->fastf1) (1.0.6)\n",
      "Requirement already satisfied: kiwisolver>=1.0.1 in c:\\users\\rafa\\appdata\\roaming\\python\\python39\\site-packages (from matplotlib>=3.3.3->fastf1) (1.4.4)\n",
      "Requirement already satisfied: pytz>=2020.1 in c:\\users\\rafa\\appdata\\roaming\\python\\python39\\site-packages (from pandas>=1.1.0->fastf1) (2022.6)\n",
      "Requirement already satisfied: urllib3>=1.25.5 in e:\\instalados\\anaconda\\lib\\site-packages (from requests-cache>=0.8.0->fastf1) (1.26.12)\n",
      "Requirement already satisfied: platformdirs>=2.5 in c:\\users\\rafa\\appdata\\roaming\\python\\python39\\site-packages (from requests-cache>=0.8.0->fastf1) (3.2.0)\n",
      "Requirement already satisfied: attrs>=21.2 in e:\\instalados\\anaconda\\lib\\site-packages (from requests-cache>=0.8.0->fastf1) (22.1.0)\n",
      "Requirement already satisfied: url-normalize>=1.4 in c:\\users\\rafa\\appdata\\roaming\\python\\python39\\site-packages (from requests-cache>=0.8.0->fastf1) (1.4.3)\n",
      "Requirement already satisfied: cattrs>=22.2 in c:\\users\\rafa\\appdata\\roaming\\python\\python39\\site-packages (from requests-cache>=0.8.0->fastf1) (22.2.0)\n",
      "Requirement already satisfied: charset-normalizer<3,>=2 in e:\\instalados\\anaconda\\lib\\site-packages (from requests->fastf1) (2.1.1)\n",
      "Requirement already satisfied: certifi>=2017.4.17 in e:\\instalados\\anaconda\\lib\\site-packages (from requests->fastf1) (2022.9.24)\n",
      "Requirement already satisfied: idna<4,>=2.5 in e:\\instalados\\anaconda\\lib\\site-packages (from requests->fastf1) (3.4)\n",
      "Requirement already satisfied: websockets>=4.0.1 in c:\\users\\rafa\\appdata\\roaming\\python\\python39\\site-packages (from signalr-client-aio->fastf1) (10.4)\n",
      "Requirement already satisfied: exceptiongroup in e:\\instalados\\anaconda\\lib\\site-packages (from cattrs>=22.2->requests-cache>=0.8.0->fastf1) (1.0.4)\n",
      "Requirement already satisfied: six>=1.5 in c:\\users\\rafa\\appdata\\roaming\\python\\python39\\site-packages (from python-dateutil>=2.7->matplotlib>=3.3.3->fastf1) (1.16.0)\n"
     ]
    }
   ],
   "source": [
    "!pip install --user --upgrade fastf1"
   ]
  },
  {
   "cell_type": "markdown",
   "metadata": {},
   "source": [
    "Aquí se preparan los datos, que incluyen el tiempo por vuelta y el tiempo en cada sector para algunos pilotos"
   ]
  },
  {
   "cell_type": "code",
   "execution_count": 1,
   "metadata": {},
   "outputs": [
    {
     "name": "stderr",
     "output_type": "stream",
     "text": [
      "core           INFO \tLoading data for Saudi Arabian Grand Prix - Race [v2.3.1]\n",
      "api            INFO \tNo cached data found for driver_info. Loading data...\n",
      "api            INFO \tFetching driver list...\n",
      "api            INFO \tData has been written to cache!\n",
      "api            INFO \tNo cached data found for timing_data. Loading data...\n",
      "api            INFO \tFetching timing data...\n",
      "api            INFO \tParsing timing data...\n",
      "api            INFO \tData has been written to cache!\n",
      "api            INFO \tNo cached data found for timing_app_data. Loading data...\n",
      "api            INFO \tFetching timing app data...\n",
      "api            INFO \tData has been written to cache!\n",
      "core           INFO \tProcessing timing data...\n",
      "api            INFO \tNo cached data found for session_status_data. Loading data...\n",
      "api            INFO \tFetching session status data...\n",
      "api            INFO \tData has been written to cache!\n",
      "api            INFO \tNo cached data found for track_status_data. Loading data...\n",
      "api            INFO \tFetching track status data...\n",
      "api            INFO \tData has been written to cache!\n",
      "api            INFO \tNo cached data found for car_data. Loading data...\n",
      "api            INFO \tFetching car data...\n",
      "api            INFO \tParsing car data...\n",
      "api            INFO \tData has been written to cache!\n",
      "api            INFO \tNo cached data found for position_data. Loading data...\n",
      "api            INFO \tFetching position data...\n",
      "api            INFO \tParsing position data...\n",
      "api         WARNING \tDriver 241: Position data is incomplete!\n",
      "api         WARNING \tDriver 242: Position data is incomplete!\n",
      "api         WARNING \tDriver 243: Position data is incomplete!\n",
      "api            INFO \tData has been written to cache!\n",
      "api            INFO \tNo cached data found for weather_data. Loading data...\n",
      "api            INFO \tFetching weather data...\n",
      "api            INFO \tData has been written to cache!\n",
      "api            INFO \tNo cached data found for race_control_messages. Loading data...\n",
      "api            INFO \tFetching race control messages...\n",
      "api            INFO \tData has been written to cache!\n",
      "core           INFO \tFinished loading data for 20 drivers: ['11', '1', '14', '63', '44', '55', '16', '31', '10', '20', '22', '27', '24', '21', '81', '2', '4', '77', '23', '18']\n"
     ]
    },
    {
     "data": {
      "text/html": [
       "<div>\n",
       "<style scoped>\n",
       "    .dataframe tbody tr th:only-of-type {\n",
       "        vertical-align: middle;\n",
       "    }\n",
       "\n",
       "    .dataframe tbody tr th {\n",
       "        vertical-align: top;\n",
       "    }\n",
       "\n",
       "    .dataframe thead th {\n",
       "        text-align: right;\n",
       "    }\n",
       "</style>\n",
       "<table border=\"1\" class=\"dataframe\">\n",
       "  <thead>\n",
       "    <tr style=\"text-align: right;\">\n",
       "      <th></th>\n",
       "      <th>LapTime</th>\n",
       "      <th>LapNumber</th>\n",
       "      <th>PitInTime</th>\n",
       "      <th>Sector1Time</th>\n",
       "      <th>Sector2Time</th>\n",
       "      <th>Sector3Time</th>\n",
       "      <th>SpeedST</th>\n",
       "      <th>Compound</th>\n",
       "      <th>TyreLife</th>\n",
       "      <th>Team</th>\n",
       "      <th>Driver</th>\n",
       "    </tr>\n",
       "  </thead>\n",
       "  <tbody>\n",
       "    <tr>\n",
       "      <th>1</th>\n",
       "      <td>95.906</td>\n",
       "      <td>2</td>\n",
       "      <td>0</td>\n",
       "      <td>35.785</td>\n",
       "      <td>29.903</td>\n",
       "      <td>30.218</td>\n",
       "      <td>316.0</td>\n",
       "      <td>MEDIUM</td>\n",
       "      <td>2.0</td>\n",
       "      <td>Red Bull Racing</td>\n",
       "      <td>PER</td>\n",
       "    </tr>\n",
       "    <tr>\n",
       "      <th>2</th>\n",
       "      <td>94.829</td>\n",
       "      <td>3</td>\n",
       "      <td>0</td>\n",
       "      <td>35.34</td>\n",
       "      <td>29.825</td>\n",
       "      <td>29.664</td>\n",
       "      <td>334.0</td>\n",
       "      <td>MEDIUM</td>\n",
       "      <td>3.0</td>\n",
       "      <td>Red Bull Racing</td>\n",
       "      <td>PER</td>\n",
       "    </tr>\n",
       "    <tr>\n",
       "      <th>3</th>\n",
       "      <td>95.651</td>\n",
       "      <td>4</td>\n",
       "      <td>0</td>\n",
       "      <td>35.484</td>\n",
       "      <td>30.147</td>\n",
       "      <td>30.02</td>\n",
       "      <td>307.0</td>\n",
       "      <td>MEDIUM</td>\n",
       "      <td>4.0</td>\n",
       "      <td>Red Bull Racing</td>\n",
       "      <td>PER</td>\n",
       "    </tr>\n",
       "    <tr>\n",
       "      <th>4</th>\n",
       "      <td>94.873</td>\n",
       "      <td>5</td>\n",
       "      <td>0</td>\n",
       "      <td>35.024</td>\n",
       "      <td>29.903</td>\n",
       "      <td>29.946</td>\n",
       "      <td>312.0</td>\n",
       "      <td>MEDIUM</td>\n",
       "      <td>5.0</td>\n",
       "      <td>Red Bull Racing</td>\n",
       "      <td>PER</td>\n",
       "    </tr>\n",
       "    <tr>\n",
       "      <th>5</th>\n",
       "      <td>94.621</td>\n",
       "      <td>6</td>\n",
       "      <td>0</td>\n",
       "      <td>34.934</td>\n",
       "      <td>29.815</td>\n",
       "      <td>29.872</td>\n",
       "      <td>310.0</td>\n",
       "      <td>MEDIUM</td>\n",
       "      <td>6.0</td>\n",
       "      <td>Red Bull Racing</td>\n",
       "      <td>PER</td>\n",
       "    </tr>\n",
       "    <tr>\n",
       "      <th>...</th>\n",
       "      <td>...</td>\n",
       "      <td>...</td>\n",
       "      <td>...</td>\n",
       "      <td>...</td>\n",
       "      <td>...</td>\n",
       "      <td>...</td>\n",
       "      <td>...</td>\n",
       "      <td>...</td>\n",
       "      <td>...</td>\n",
       "      <td>...</td>\n",
       "      <td>...</td>\n",
       "    </tr>\n",
       "    <tr>\n",
       "      <th>195</th>\n",
       "      <td>92.982</td>\n",
       "      <td>46</td>\n",
       "      <td>0</td>\n",
       "      <td>34.188</td>\n",
       "      <td>29.299</td>\n",
       "      <td>29.495</td>\n",
       "      <td>303.0</td>\n",
       "      <td>HARD</td>\n",
       "      <td>28.0</td>\n",
       "      <td>Mercedes</td>\n",
       "      <td>RUS</td>\n",
       "    </tr>\n",
       "    <tr>\n",
       "      <th>196</th>\n",
       "      <td>92.901</td>\n",
       "      <td>47</td>\n",
       "      <td>0</td>\n",
       "      <td>34.167</td>\n",
       "      <td>29.235</td>\n",
       "      <td>29.499</td>\n",
       "      <td>306.0</td>\n",
       "      <td>HARD</td>\n",
       "      <td>29.0</td>\n",
       "      <td>Mercedes</td>\n",
       "      <td>RUS</td>\n",
       "    </tr>\n",
       "    <tr>\n",
       "      <th>197</th>\n",
       "      <td>92.756</td>\n",
       "      <td>48</td>\n",
       "      <td>0</td>\n",
       "      <td>33.841</td>\n",
       "      <td>29.174</td>\n",
       "      <td>29.741</td>\n",
       "      <td>299.0</td>\n",
       "      <td>HARD</td>\n",
       "      <td>30.0</td>\n",
       "      <td>Mercedes</td>\n",
       "      <td>RUS</td>\n",
       "    </tr>\n",
       "    <tr>\n",
       "      <th>198</th>\n",
       "      <td>93.135</td>\n",
       "      <td>49</td>\n",
       "      <td>0</td>\n",
       "      <td>34.245</td>\n",
       "      <td>29.248</td>\n",
       "      <td>29.642</td>\n",
       "      <td>305.0</td>\n",
       "      <td>HARD</td>\n",
       "      <td>31.0</td>\n",
       "      <td>Mercedes</td>\n",
       "      <td>RUS</td>\n",
       "    </tr>\n",
       "    <tr>\n",
       "      <th>199</th>\n",
       "      <td>92.433</td>\n",
       "      <td>50</td>\n",
       "      <td>0</td>\n",
       "      <td>33.785</td>\n",
       "      <td>29.221</td>\n",
       "      <td>29.427</td>\n",
       "      <td>311.0</td>\n",
       "      <td>HARD</td>\n",
       "      <td>32.0</td>\n",
       "      <td>Mercedes</td>\n",
       "      <td>RUS</td>\n",
       "    </tr>\n",
       "  </tbody>\n",
       "</table>\n",
       "<p>187 rows × 11 columns</p>\n",
       "</div>"
      ],
      "text/plain": [
       "     LapTime  LapNumber PitInTime  Sector1Time  Sector2Time  Sector3Time  \\\n",
       "1     95.906          2         0       35.785       29.903       30.218   \n",
       "2     94.829          3         0        35.34       29.825       29.664   \n",
       "3     95.651          4         0       35.484       30.147        30.02   \n",
       "4     94.873          5         0       35.024       29.903       29.946   \n",
       "5     94.621          6         0       34.934       29.815       29.872   \n",
       "..       ...        ...       ...          ...          ...          ...   \n",
       "195   92.982         46         0       34.188       29.299       29.495   \n",
       "196   92.901         47         0       34.167       29.235       29.499   \n",
       "197   92.756         48         0       33.841       29.174       29.741   \n",
       "198   93.135         49         0       34.245       29.248       29.642   \n",
       "199   92.433         50         0       33.785       29.221       29.427   \n",
       "\n",
       "     SpeedST Compound  TyreLife             Team Driver  \n",
       "1      316.0   MEDIUM       2.0  Red Bull Racing    PER  \n",
       "2      334.0   MEDIUM       3.0  Red Bull Racing    PER  \n",
       "3      307.0   MEDIUM       4.0  Red Bull Racing    PER  \n",
       "4      312.0   MEDIUM       5.0  Red Bull Racing    PER  \n",
       "5      310.0   MEDIUM       6.0  Red Bull Racing    PER  \n",
       "..       ...      ...       ...              ...    ...  \n",
       "195    303.0     HARD      28.0         Mercedes    RUS  \n",
       "196    306.0     HARD      29.0         Mercedes    RUS  \n",
       "197    299.0     HARD      30.0         Mercedes    RUS  \n",
       "198    305.0     HARD      31.0         Mercedes    RUS  \n",
       "199    311.0     HARD      32.0         Mercedes    RUS  \n",
       "\n",
       "[187 rows x 11 columns]"
      ]
     },
     "execution_count": 1,
     "metadata": {},
     "output_type": "execute_result"
    }
   ],
   "source": [
    "import fastf1\n",
    "from fastf1 import plotting\n",
    "from matplotlib import pyplot as plt\n",
    "\n",
    "import pandas as pd\n",
    "import warnings\n",
    "warnings.filterwarnings('ignore')\n",
    "\n",
    "fastf1.Cache.enable_cache('.')\n",
    "\n",
    "race = fastf1.get_session(2023, 'Jeddah', 'R')\n",
    "race.load()\n",
    "\n",
    "short = [\"PER\",\"VER\",\"ALO\",\"RUS\"]\n",
    "delta_cols = [\"LapTime\",\"Sector1Time\",\"Sector2Time\",\"Sector3Time\"]\n",
    "drivers = []\n",
    "for s in short:\n",
    "    df = race.laps.pick_driver(s)\n",
    "    df.loc[:,\"Driver\"] = s\n",
    "    df = df.drop(columns=[\"DriverNumber\", \"Time\",\"PitOutTime\", \"Sector1SessionTime\",\"Sector2SessionTime\",\n",
    "                          \"Sector3SessionTime\",\"SpeedI1\",\"SpeedI2\",\"SpeedFL\",\n",
    "                        \"IsPersonalBest\",\"LapStartTime\",\"FreshTyre\",\"Stint\",\"LapStartDate\",\"TrackStatus\",\"IsAccurate\"])\n",
    "    df[\"PitInTime\"] = pd.to_timedelta(df[\"PitInTime\"])\n",
    "    df.loc[df[\"PitInTime\"].isna(),\"PitInTime\"] = 0\n",
    "    for c in delta_cols:\n",
    "        df[c] = df[c].astype('timedelta64[ms]').astype(pd.Int64Dtype())/1000.0\n",
    "    drivers.append(df)\n",
    "\n",
    "f1 = pd.concat(drivers,axis=0).dropna()\n",
    "f1.to_csv(\"f1-Jeddah23.csv\", index=False)\n",
    "f1"
   ]
  },
  {
   "cell_type": "code",
   "execution_count": 87,
   "metadata": {},
   "outputs": [],
   "source": [
    "# usar esta dirección si se quiere leer los datos directamente\n",
    "# url = \"https://raw.githubusercontent.com/RafaelCaballero/tdm/master/datos/f1-Jeddah23.csv\""
   ]
  },
  {
   "cell_type": "code",
   "execution_count": 88,
   "metadata": {},
   "outputs": [
    {
     "name": "stdout",
     "output_type": "stream",
     "text": [
      "<class 'fastf1.core.Laps'>\n",
      "Int64Index: 187 entries, 1 to 199\n",
      "Data columns (total 11 columns):\n",
      " #   Column       Non-Null Count  Dtype  \n",
      "---  ------       --------------  -----  \n",
      " 0   LapTime      187 non-null    Float64\n",
      " 1   LapNumber    187 non-null    int64  \n",
      " 2   PitInTime    187 non-null    object \n",
      " 3   Sector1Time  187 non-null    Float64\n",
      " 4   Sector2Time  187 non-null    Float64\n",
      " 5   Sector3Time  187 non-null    Float64\n",
      " 6   SpeedST      187 non-null    float64\n",
      " 7   Compound     187 non-null    object \n",
      " 8   TyreLife     187 non-null    float64\n",
      " 9   Team         187 non-null    object \n",
      " 10  Driver       187 non-null    object \n",
      "dtypes: Float64(4), float64(2), int64(1), object(4)\n",
      "memory usage: 18.3+ KB\n"
     ]
    }
   ],
   "source": [
    "f1.info()"
   ]
  },
  {
   "cell_type": "code",
   "execution_count": 90,
   "metadata": {},
   "outputs": [
    {
     "data": {
      "text/html": [
       "<div>\n",
       "<style scoped>\n",
       "    .dataframe tbody tr th:only-of-type {\n",
       "        vertical-align: middle;\n",
       "    }\n",
       "\n",
       "    .dataframe tbody tr th {\n",
       "        vertical-align: top;\n",
       "    }\n",
       "\n",
       "    .dataframe thead th {\n",
       "        text-align: right;\n",
       "    }\n",
       "</style>\n",
       "<table border=\"1\" class=\"dataframe\">\n",
       "  <thead>\n",
       "    <tr style=\"text-align: right;\">\n",
       "      <th></th>\n",
       "      <th>LapTime</th>\n",
       "      <th>LapNumber</th>\n",
       "      <th>Sector1Time</th>\n",
       "      <th>Sector2Time</th>\n",
       "      <th>Sector3Time</th>\n",
       "      <th>SpeedST</th>\n",
       "      <th>TyreLife</th>\n",
       "    </tr>\n",
       "  </thead>\n",
       "  <tbody>\n",
       "    <tr>\n",
       "      <th>count</th>\n",
       "      <td>187.0</td>\n",
       "      <td>187.000000</td>\n",
       "      <td>187.0</td>\n",
       "      <td>187.0</td>\n",
       "      <td>187.0</td>\n",
       "      <td>187.000000</td>\n",
       "      <td>187.000000</td>\n",
       "    </tr>\n",
       "    <tr>\n",
       "      <th>mean</th>\n",
       "      <td>94.702412</td>\n",
       "      <td>26.256684</td>\n",
       "      <td>34.782487</td>\n",
       "      <td>29.847299</td>\n",
       "      <td>30.072626</td>\n",
       "      <td>306.385027</td>\n",
       "      <td>14.962567</td>\n",
       "    </tr>\n",
       "    <tr>\n",
       "      <th>std</th>\n",
       "      <td>5.50129</td>\n",
       "      <td>14.448961</td>\n",
       "      <td>1.452949</td>\n",
       "      <td>2.098748</td>\n",
       "      <td>2.18043</td>\n",
       "      <td>15.320286</td>\n",
       "      <td>8.437862</td>\n",
       "    </tr>\n",
       "    <tr>\n",
       "      <th>min</th>\n",
       "      <td>91.906</td>\n",
       "      <td>2.000000</td>\n",
       "      <td>33.543</td>\n",
       "      <td>29.029</td>\n",
       "      <td>29.244</td>\n",
       "      <td>186.000000</td>\n",
       "      <td>2.000000</td>\n",
       "    </tr>\n",
       "    <tr>\n",
       "      <th>25%</th>\n",
       "      <td>92.954</td>\n",
       "      <td>13.000000</td>\n",
       "      <td>34.1715</td>\n",
       "      <td>29.2665</td>\n",
       "      <td>29.503</td>\n",
       "      <td>301.000000</td>\n",
       "      <td>8.000000</td>\n",
       "    </tr>\n",
       "    <tr>\n",
       "      <th>50%</th>\n",
       "      <td>93.758</td>\n",
       "      <td>27.000000</td>\n",
       "      <td>34.486</td>\n",
       "      <td>29.514</td>\n",
       "      <td>29.754</td>\n",
       "      <td>309.000000</td>\n",
       "      <td>14.000000</td>\n",
       "    </tr>\n",
       "    <tr>\n",
       "      <th>75%</th>\n",
       "      <td>94.8825</td>\n",
       "      <td>39.000000</td>\n",
       "      <td>34.9935</td>\n",
       "      <td>29.81</td>\n",
       "      <td>30.006</td>\n",
       "      <td>313.000000</td>\n",
       "      <td>21.000000</td>\n",
       "    </tr>\n",
       "    <tr>\n",
       "      <th>max</th>\n",
       "      <td>134.348</td>\n",
       "      <td>50.000000</td>\n",
       "      <td>48.991</td>\n",
       "      <td>47.443</td>\n",
       "      <td>46.114</td>\n",
       "      <td>342.000000</td>\n",
       "      <td>33.000000</td>\n",
       "    </tr>\n",
       "  </tbody>\n",
       "</table>\n",
       "</div>"
      ],
      "text/plain": [
       "         LapTime   LapNumber  Sector1Time  Sector2Time  Sector3Time  \\\n",
       "count      187.0  187.000000        187.0        187.0        187.0   \n",
       "mean   94.702412   26.256684    34.782487    29.847299    30.072626   \n",
       "std      5.50129   14.448961     1.452949     2.098748      2.18043   \n",
       "min       91.906    2.000000       33.543       29.029       29.244   \n",
       "25%       92.954   13.000000      34.1715      29.2665       29.503   \n",
       "50%       93.758   27.000000       34.486       29.514       29.754   \n",
       "75%      94.8825   39.000000      34.9935        29.81       30.006   \n",
       "max      134.348   50.000000       48.991       47.443       46.114   \n",
       "\n",
       "          SpeedST    TyreLife  \n",
       "count  187.000000  187.000000  \n",
       "mean   306.385027   14.962567  \n",
       "std     15.320286    8.437862  \n",
       "min    186.000000    2.000000  \n",
       "25%    301.000000    8.000000  \n",
       "50%    309.000000   14.000000  \n",
       "75%    313.000000   21.000000  \n",
       "max    342.000000   33.000000  "
      ]
     },
     "execution_count": 90,
     "metadata": {},
     "output_type": "execute_result"
    }
   ],
   "source": [
    "f1.describe()"
   ]
  },
  {
   "cell_type": "markdown",
   "metadata": {},
   "source": [
    "<a name=\"Visualizando\"></a>\n",
    "## Visualizando outliers\n",
    "\n",
    "\n",
    "<a name=\"Histogramas\"></a>\n",
    "### Histogramas\n",
    "\n",
    "Un primero método consiste en visualizar el histograma de la variable y observar si algún intervalo o `bin` está muy alejado o tiene una cantidad pequeña de valores:"
   ]
  },
  {
   "cell_type": "code",
   "execution_count": 2,
   "metadata": {},
   "outputs": [
    {
     "data": {
      "text/plain": [
       "<AxesSubplot: >"
      ]
     },
     "execution_count": 2,
     "metadata": {},
     "output_type": "execute_result"
    },
    {
     "data": {
      "image/png": "[encoded data removed]",
      "text/plain": [
       "<Figure size 640x480 with 1 Axes>"
      ]
     },
     "metadata": {},
     "output_type": "display_data"
    }
   ],
   "source": [
    "f1[\"LapTime\"].hist(bins=20)"
   ]
  },
  {
   "cell_type": "markdown",
   "metadata": {},
   "source": [
    "Parece que algunos bins aparecen muy a la derecha, son tiempos por vuelta inusualmente altos. \n",
    "\n",
    "Si nos concentramos solo en esta columna y la del nombre del piloto podemos ver si sucede para cada piloto"
   ]
  },
  {
   "cell_type": "code",
   "execution_count": 3,
   "metadata": {},
   "outputs": [
    {
     "data": {
      "text/html": [
       "<div>\n",
       "<style scoped>\n",
       "    .dataframe tbody tr th:only-of-type {\n",
       "        vertical-align: middle;\n",
       "    }\n",
       "\n",
       "    .dataframe tbody tr th {\n",
       "        vertical-align: top;\n",
       "    }\n",
       "\n",
       "    .dataframe thead th {\n",
       "        text-align: right;\n",
       "    }\n",
       "</style>\n",
       "<table border=\"1\" class=\"dataframe\">\n",
       "  <thead>\n",
       "    <tr style=\"text-align: right;\">\n",
       "      <th></th>\n",
       "      <th>LapNumber</th>\n",
       "      <th>LapTime</th>\n",
       "      <th>Driver</th>\n",
       "    </tr>\n",
       "  </thead>\n",
       "  <tbody>\n",
       "    <tr>\n",
       "      <th>1</th>\n",
       "      <td>2</td>\n",
       "      <td>95.906</td>\n",
       "      <td>PER</td>\n",
       "    </tr>\n",
       "    <tr>\n",
       "      <th>2</th>\n",
       "      <td>3</td>\n",
       "      <td>94.829</td>\n",
       "      <td>PER</td>\n",
       "    </tr>\n",
       "    <tr>\n",
       "      <th>3</th>\n",
       "      <td>4</td>\n",
       "      <td>95.651</td>\n",
       "      <td>PER</td>\n",
       "    </tr>\n",
       "    <tr>\n",
       "      <th>4</th>\n",
       "      <td>5</td>\n",
       "      <td>94.873</td>\n",
       "      <td>PER</td>\n",
       "    </tr>\n",
       "    <tr>\n",
       "      <th>5</th>\n",
       "      <td>6</td>\n",
       "      <td>94.621</td>\n",
       "      <td>PER</td>\n",
       "    </tr>\n",
       "    <tr>\n",
       "      <th>...</th>\n",
       "      <td>...</td>\n",
       "      <td>...</td>\n",
       "      <td>...</td>\n",
       "    </tr>\n",
       "    <tr>\n",
       "      <th>195</th>\n",
       "      <td>46</td>\n",
       "      <td>92.982</td>\n",
       "      <td>RUS</td>\n",
       "    </tr>\n",
       "    <tr>\n",
       "      <th>196</th>\n",
       "      <td>47</td>\n",
       "      <td>92.901</td>\n",
       "      <td>RUS</td>\n",
       "    </tr>\n",
       "    <tr>\n",
       "      <th>197</th>\n",
       "      <td>48</td>\n",
       "      <td>92.756</td>\n",
       "      <td>RUS</td>\n",
       "    </tr>\n",
       "    <tr>\n",
       "      <th>198</th>\n",
       "      <td>49</td>\n",
       "      <td>93.135</td>\n",
       "      <td>RUS</td>\n",
       "    </tr>\n",
       "    <tr>\n",
       "      <th>199</th>\n",
       "      <td>50</td>\n",
       "      <td>92.433</td>\n",
       "      <td>RUS</td>\n",
       "    </tr>\n",
       "  </tbody>\n",
       "</table>\n",
       "<p>187 rows × 3 columns</p>\n",
       "</div>"
      ],
      "text/plain": [
       "     LapNumber  LapTime Driver\n",
       "1            2   95.906    PER\n",
       "2            3   94.829    PER\n",
       "3            4   95.651    PER\n",
       "4            5   94.873    PER\n",
       "5            6   94.621    PER\n",
       "..         ...      ...    ...\n",
       "195         46   92.982    RUS\n",
       "196         47   92.901    RUS\n",
       "197         48   92.756    RUS\n",
       "198         49   93.135    RUS\n",
       "199         50   92.433    RUS\n",
       "\n",
       "[187 rows x 3 columns]"
      ]
     },
     "execution_count": 3,
     "metadata": {},
     "output_type": "execute_result"
    }
   ],
   "source": [
    "df_vueltas = f1[[\"LapNumber\",\"LapTime\",\"Driver\"]]\n",
    "df_vueltas"
   ]
  },
  {
   "cell_type": "markdown",
   "metadata": {},
   "source": [
    "Podríamos obtener el nombre de cada piloto, con un bucle hacer un filtro para ese piloto y entonces el histograma...muy lioso y lento ¿Qué operación podemos usar para que cada piloto sea una columna con sus tiempos por vuelta?"
   ]
  },
  {
   "cell_type": "code",
   "execution_count": null,
   "metadata": {},
   "outputs": [],
   "source": []
  },
  {
   "cell_type": "markdown",
   "metadata": {},
   "source": [
    "Parece que un criterio sería encontrar bins con muy pocos valores, quizás tras varios \"bins\" vacíos. Para conocer el número de elementos en cada bin usaremos la función hist de plt, que nos devuelve estas frecuencias `n`, "
   ]
  },
  {
   "cell_type": "code",
   "execution_count": 5,
   "metadata": {},
   "outputs": [
    {
     "data": {
      "image/png": "[encoded data removed]",
      "text/plain": [
       "<Figure size 640x480 with 1 Axes>"
      ]
     },
     "metadata": {},
     "output_type": "display_data"
    }
   ],
   "source": [
    "import numpy as np \n",
    "import matplotlib.pyplot as plt \n",
    "\n",
    "(n, bins, patches)  = plt.hist(f1[\"LapTime\"],bins=20)"
   ]
  },
  {
   "cell_type": "code",
   "execution_count": 6,
   "metadata": {},
   "outputs": [
    {
     "data": {
      "text/plain": [
       "(array([99., 78.,  6.,  0.,  0.,  0.,  0.,  0.,  0.,  0.,  0.,  0.,  0.,\n",
       "         0.,  0.,  0.,  1.,  1.,  1.,  1.]),\n",
       " 20)"
      ]
     },
     "execution_count": 6,
     "metadata": {},
     "output_type": "execute_result"
    }
   ],
   "source": [
    "n, len(n)"
   ]
  },
  {
   "cell_type": "code",
   "execution_count": 7,
   "metadata": {},
   "outputs": [
    {
     "data": {
      "text/plain": [
       "(array([ 91.906 ,  94.0281,  96.1502,  98.2723, 100.3944, 102.5165,\n",
       "        104.6386, 106.7607, 108.8828, 111.0049, 113.127 , 115.2491,\n",
       "        117.3712, 119.4933, 121.6154, 123.7375, 125.8596, 127.9817,\n",
       "        130.1038, 132.2259, 134.348 ]),\n",
       " 21)"
      ]
     },
     "execution_count": 7,
     "metadata": {},
     "output_type": "execute_result"
    }
   ],
   "source": [
    "bins, len(bins)"
   ]
  },
  {
   "cell_type": "markdown",
   "metadata": {},
   "source": [
    "Parece por tanto que a partir de 125.8596, hay outliers, vamos a ver estos valores"
   ]
  },
  {
   "cell_type": "code",
   "execution_count": 8,
   "metadata": {},
   "outputs": [
    {
     "data": {
      "text/html": [
       "<div>\n",
       "<style scoped>\n",
       "    .dataframe tbody tr th:only-of-type {\n",
       "        vertical-align: middle;\n",
       "    }\n",
       "\n",
       "    .dataframe tbody tr th {\n",
       "        vertical-align: top;\n",
       "    }\n",
       "\n",
       "    .dataframe thead th {\n",
       "        text-align: right;\n",
       "    }\n",
       "</style>\n",
       "<table border=\"1\" class=\"dataframe\">\n",
       "  <thead>\n",
       "    <tr style=\"text-align: right;\">\n",
       "      <th></th>\n",
       "      <th>LapTime</th>\n",
       "      <th>LapNumber</th>\n",
       "      <th>PitInTime</th>\n",
       "      <th>Sector1Time</th>\n",
       "      <th>Sector2Time</th>\n",
       "      <th>Sector3Time</th>\n",
       "      <th>SpeedST</th>\n",
       "      <th>Compound</th>\n",
       "      <th>TyreLife</th>\n",
       "      <th>Team</th>\n",
       "      <th>Driver</th>\n",
       "    </tr>\n",
       "  </thead>\n",
       "  <tbody>\n",
       "    <tr>\n",
       "      <th>17</th>\n",
       "      <td>127.357</td>\n",
       "      <td>18</td>\n",
       "      <td>0 days 01:31:46.882000</td>\n",
       "      <td>39.183</td>\n",
       "      <td>47.443</td>\n",
       "      <td>40.731</td>\n",
       "      <td>282.0</td>\n",
       "      <td>MEDIUM</td>\n",
       "      <td>18.0</td>\n",
       "      <td>Red Bull Racing</td>\n",
       "      <td>PER</td>\n",
       "    </tr>\n",
       "    <tr>\n",
       "      <th>67</th>\n",
       "      <td>134.348</td>\n",
       "      <td>18</td>\n",
       "      <td>0 days 01:32:15.366000</td>\n",
       "      <td>48.991</td>\n",
       "      <td>40.059</td>\n",
       "      <td>45.298</td>\n",
       "      <td>197.0</td>\n",
       "      <td>MEDIUM</td>\n",
       "      <td>18.0</td>\n",
       "      <td>Red Bull Racing</td>\n",
       "      <td>VER</td>\n",
       "    </tr>\n",
       "    <tr>\n",
       "      <th>117</th>\n",
       "      <td>129.623</td>\n",
       "      <td>18</td>\n",
       "      <td>0 days 01:31:55.100000</td>\n",
       "      <td>39.863</td>\n",
       "      <td>43.937</td>\n",
       "      <td>45.823</td>\n",
       "      <td>186.0</td>\n",
       "      <td>MEDIUM</td>\n",
       "      <td>18.0</td>\n",
       "      <td>Aston Martin</td>\n",
       "      <td>ALO</td>\n",
       "    </tr>\n",
       "    <tr>\n",
       "      <th>167</th>\n",
       "      <td>132.217</td>\n",
       "      <td>18</td>\n",
       "      <td>0 days 01:32:05.756000</td>\n",
       "      <td>43.181</td>\n",
       "      <td>42.922</td>\n",
       "      <td>46.114</td>\n",
       "      <td>241.0</td>\n",
       "      <td>MEDIUM</td>\n",
       "      <td>18.0</td>\n",
       "      <td>Mercedes</td>\n",
       "      <td>RUS</td>\n",
       "    </tr>\n",
       "  </tbody>\n",
       "</table>\n",
       "</div>"
      ],
      "text/plain": [
       "     LapTime  LapNumber               PitInTime  Sector1Time  Sector2Time  \\\n",
       "17   127.357         18  0 days 01:31:46.882000       39.183       47.443   \n",
       "67   134.348         18  0 days 01:32:15.366000       48.991       40.059   \n",
       "117  129.623         18  0 days 01:31:55.100000       39.863       43.937   \n",
       "167  132.217         18  0 days 01:32:05.756000       43.181       42.922   \n",
       "\n",
       "     Sector3Time  SpeedST Compound  TyreLife             Team Driver  \n",
       "17        40.731    282.0   MEDIUM      18.0  Red Bull Racing    PER  \n",
       "67        45.298    197.0   MEDIUM      18.0  Red Bull Racing    VER  \n",
       "117       45.823    186.0   MEDIUM      18.0     Aston Martin    ALO  \n",
       "167       46.114    241.0   MEDIUM      18.0         Mercedes    RUS  "
      ]
     },
     "execution_count": 8,
     "metadata": {},
     "output_type": "execute_result"
    }
   ],
   "source": [
    "limite = 125.8596\n",
    "filtro = f1[\"LapTime\"] > limite\n",
    "f1[filtro]"
   ]
  },
  {
   "cell_type": "code",
   "execution_count": 9,
   "metadata": {},
   "outputs": [
    {
     "data": {
      "text/html": [
       "<div>\n",
       "<style scoped>\n",
       "    .dataframe tbody tr th:only-of-type {\n",
       "        vertical-align: middle;\n",
       "    }\n",
       "\n",
       "    .dataframe tbody tr th {\n",
       "        vertical-align: top;\n",
       "    }\n",
       "\n",
       "    .dataframe thead th {\n",
       "        text-align: right;\n",
       "    }\n",
       "</style>\n",
       "<table border=\"1\" class=\"dataframe\">\n",
       "  <thead>\n",
       "    <tr style=\"text-align: right;\">\n",
       "      <th></th>\n",
       "      <th>LapTime</th>\n",
       "      <th>LapNumber</th>\n",
       "      <th>PitInTime</th>\n",
       "      <th>Sector1Time</th>\n",
       "      <th>Sector2Time</th>\n",
       "      <th>Sector3Time</th>\n",
       "      <th>SpeedST</th>\n",
       "      <th>Compound</th>\n",
       "      <th>TyreLife</th>\n",
       "      <th>Team</th>\n",
       "      <th>Driver</th>\n",
       "    </tr>\n",
       "  </thead>\n",
       "  <tbody>\n",
       "    <tr>\n",
       "      <th>1</th>\n",
       "      <td>95.906</td>\n",
       "      <td>2</td>\n",
       "      <td>0</td>\n",
       "      <td>35.785</td>\n",
       "      <td>29.903</td>\n",
       "      <td>30.218</td>\n",
       "      <td>316.0</td>\n",
       "      <td>MEDIUM</td>\n",
       "      <td>2.0</td>\n",
       "      <td>Red Bull Racing</td>\n",
       "      <td>PER</td>\n",
       "    </tr>\n",
       "    <tr>\n",
       "      <th>2</th>\n",
       "      <td>94.829</td>\n",
       "      <td>3</td>\n",
       "      <td>0</td>\n",
       "      <td>35.34</td>\n",
       "      <td>29.825</td>\n",
       "      <td>29.664</td>\n",
       "      <td>334.0</td>\n",
       "      <td>MEDIUM</td>\n",
       "      <td>3.0</td>\n",
       "      <td>Red Bull Racing</td>\n",
       "      <td>PER</td>\n",
       "    </tr>\n",
       "    <tr>\n",
       "      <th>3</th>\n",
       "      <td>95.651</td>\n",
       "      <td>4</td>\n",
       "      <td>0</td>\n",
       "      <td>35.484</td>\n",
       "      <td>30.147</td>\n",
       "      <td>30.02</td>\n",
       "      <td>307.0</td>\n",
       "      <td>MEDIUM</td>\n",
       "      <td>4.0</td>\n",
       "      <td>Red Bull Racing</td>\n",
       "      <td>PER</td>\n",
       "    </tr>\n",
       "    <tr>\n",
       "      <th>4</th>\n",
       "      <td>94.873</td>\n",
       "      <td>5</td>\n",
       "      <td>0</td>\n",
       "      <td>35.024</td>\n",
       "      <td>29.903</td>\n",
       "      <td>29.946</td>\n",
       "      <td>312.0</td>\n",
       "      <td>MEDIUM</td>\n",
       "      <td>5.0</td>\n",
       "      <td>Red Bull Racing</td>\n",
       "      <td>PER</td>\n",
       "    </tr>\n",
       "    <tr>\n",
       "      <th>5</th>\n",
       "      <td>94.621</td>\n",
       "      <td>6</td>\n",
       "      <td>0</td>\n",
       "      <td>34.934</td>\n",
       "      <td>29.815</td>\n",
       "      <td>29.872</td>\n",
       "      <td>310.0</td>\n",
       "      <td>MEDIUM</td>\n",
       "      <td>6.0</td>\n",
       "      <td>Red Bull Racing</td>\n",
       "      <td>PER</td>\n",
       "    </tr>\n",
       "    <tr>\n",
       "      <th>...</th>\n",
       "      <td>...</td>\n",
       "      <td>...</td>\n",
       "      <td>...</td>\n",
       "      <td>...</td>\n",
       "      <td>...</td>\n",
       "      <td>...</td>\n",
       "      <td>...</td>\n",
       "      <td>...</td>\n",
       "      <td>...</td>\n",
       "      <td>...</td>\n",
       "      <td>...</td>\n",
       "    </tr>\n",
       "    <tr>\n",
       "      <th>195</th>\n",
       "      <td>92.982</td>\n",
       "      <td>46</td>\n",
       "      <td>0</td>\n",
       "      <td>34.188</td>\n",
       "      <td>29.299</td>\n",
       "      <td>29.495</td>\n",
       "      <td>303.0</td>\n",
       "      <td>HARD</td>\n",
       "      <td>28.0</td>\n",
       "      <td>Mercedes</td>\n",
       "      <td>RUS</td>\n",
       "    </tr>\n",
       "    <tr>\n",
       "      <th>196</th>\n",
       "      <td>92.901</td>\n",
       "      <td>47</td>\n",
       "      <td>0</td>\n",
       "      <td>34.167</td>\n",
       "      <td>29.235</td>\n",
       "      <td>29.499</td>\n",
       "      <td>306.0</td>\n",
       "      <td>HARD</td>\n",
       "      <td>29.0</td>\n",
       "      <td>Mercedes</td>\n",
       "      <td>RUS</td>\n",
       "    </tr>\n",
       "    <tr>\n",
       "      <th>197</th>\n",
       "      <td>92.756</td>\n",
       "      <td>48</td>\n",
       "      <td>0</td>\n",
       "      <td>33.841</td>\n",
       "      <td>29.174</td>\n",
       "      <td>29.741</td>\n",
       "      <td>299.0</td>\n",
       "      <td>HARD</td>\n",
       "      <td>30.0</td>\n",
       "      <td>Mercedes</td>\n",
       "      <td>RUS</td>\n",
       "    </tr>\n",
       "    <tr>\n",
       "      <th>198</th>\n",
       "      <td>93.135</td>\n",
       "      <td>49</td>\n",
       "      <td>0</td>\n",
       "      <td>34.245</td>\n",
       "      <td>29.248</td>\n",
       "      <td>29.642</td>\n",
       "      <td>305.0</td>\n",
       "      <td>HARD</td>\n",
       "      <td>31.0</td>\n",
       "      <td>Mercedes</td>\n",
       "      <td>RUS</td>\n",
       "    </tr>\n",
       "    <tr>\n",
       "      <th>199</th>\n",
       "      <td>92.433</td>\n",
       "      <td>50</td>\n",
       "      <td>0</td>\n",
       "      <td>33.785</td>\n",
       "      <td>29.221</td>\n",
       "      <td>29.427</td>\n",
       "      <td>311.0</td>\n",
       "      <td>HARD</td>\n",
       "      <td>32.0</td>\n",
       "      <td>Mercedes</td>\n",
       "      <td>RUS</td>\n",
       "    </tr>\n",
       "  </tbody>\n",
       "</table>\n",
       "<p>183 rows × 11 columns</p>\n",
       "</div>"
      ],
      "text/plain": [
       "     LapTime  LapNumber PitInTime  Sector1Time  Sector2Time  Sector3Time  \\\n",
       "1     95.906          2         0       35.785       29.903       30.218   \n",
       "2     94.829          3         0        35.34       29.825       29.664   \n",
       "3     95.651          4         0       35.484       30.147        30.02   \n",
       "4     94.873          5         0       35.024       29.903       29.946   \n",
       "5     94.621          6         0       34.934       29.815       29.872   \n",
       "..       ...        ...       ...          ...          ...          ...   \n",
       "195   92.982         46         0       34.188       29.299       29.495   \n",
       "196   92.901         47         0       34.167       29.235       29.499   \n",
       "197   92.756         48         0       33.841       29.174       29.741   \n",
       "198   93.135         49         0       34.245       29.248       29.642   \n",
       "199   92.433         50         0       33.785       29.221       29.427   \n",
       "\n",
       "     SpeedST Compound  TyreLife             Team Driver  \n",
       "1      316.0   MEDIUM       2.0  Red Bull Racing    PER  \n",
       "2      334.0   MEDIUM       3.0  Red Bull Racing    PER  \n",
       "3      307.0   MEDIUM       4.0  Red Bull Racing    PER  \n",
       "4      312.0   MEDIUM       5.0  Red Bull Racing    PER  \n",
       "5      310.0   MEDIUM       6.0  Red Bull Racing    PER  \n",
       "..       ...      ...       ...              ...    ...  \n",
       "195    303.0     HARD      28.0         Mercedes    RUS  \n",
       "196    306.0     HARD      29.0         Mercedes    RUS  \n",
       "197    299.0     HARD      30.0         Mercedes    RUS  \n",
       "198    305.0     HARD      31.0         Mercedes    RUS  \n",
       "199    311.0     HARD      32.0         Mercedes    RUS  \n",
       "\n",
       "[183 rows x 11 columns]"
      ]
     },
     "execution_count": 9,
     "metadata": {},
     "output_type": "execute_result"
    }
   ],
   "source": [
    "f1[~filtro]"
   ]
  },
  {
   "cell_type": "markdown",
   "metadata": {},
   "source": [
    "Parece mostrarnos que los outliers coinciden justo con cuando PitInTime !=0, que es cuando han entrado a cambiar neumáticos"
   ]
  },
  {
   "cell_type": "code",
   "execution_count": 10,
   "metadata": {},
   "outputs": [
    {
     "data": {
      "text/html": [
       "<div>\n",
       "<style scoped>\n",
       "    .dataframe tbody tr th:only-of-type {\n",
       "        vertical-align: middle;\n",
       "    }\n",
       "\n",
       "    .dataframe tbody tr th {\n",
       "        vertical-align: top;\n",
       "    }\n",
       "\n",
       "    .dataframe thead th {\n",
       "        text-align: right;\n",
       "    }\n",
       "</style>\n",
       "<table border=\"1\" class=\"dataframe\">\n",
       "  <thead>\n",
       "    <tr style=\"text-align: right;\">\n",
       "      <th></th>\n",
       "      <th>LapTime</th>\n",
       "      <th>LapNumber</th>\n",
       "      <th>PitInTime</th>\n",
       "      <th>Sector1Time</th>\n",
       "      <th>Sector2Time</th>\n",
       "      <th>Sector3Time</th>\n",
       "      <th>SpeedST</th>\n",
       "      <th>Compound</th>\n",
       "      <th>TyreLife</th>\n",
       "      <th>Team</th>\n",
       "      <th>Driver</th>\n",
       "    </tr>\n",
       "  </thead>\n",
       "  <tbody>\n",
       "    <tr>\n",
       "      <th>17</th>\n",
       "      <td>127.357</td>\n",
       "      <td>18</td>\n",
       "      <td>0 days 01:31:46.882000</td>\n",
       "      <td>39.183</td>\n",
       "      <td>47.443</td>\n",
       "      <td>40.731</td>\n",
       "      <td>282.0</td>\n",
       "      <td>MEDIUM</td>\n",
       "      <td>18.0</td>\n",
       "      <td>Red Bull Racing</td>\n",
       "      <td>PER</td>\n",
       "    </tr>\n",
       "    <tr>\n",
       "      <th>67</th>\n",
       "      <td>134.348</td>\n",
       "      <td>18</td>\n",
       "      <td>0 days 01:32:15.366000</td>\n",
       "      <td>48.991</td>\n",
       "      <td>40.059</td>\n",
       "      <td>45.298</td>\n",
       "      <td>197.0</td>\n",
       "      <td>MEDIUM</td>\n",
       "      <td>18.0</td>\n",
       "      <td>Red Bull Racing</td>\n",
       "      <td>VER</td>\n",
       "    </tr>\n",
       "    <tr>\n",
       "      <th>117</th>\n",
       "      <td>129.623</td>\n",
       "      <td>18</td>\n",
       "      <td>0 days 01:31:55.100000</td>\n",
       "      <td>39.863</td>\n",
       "      <td>43.937</td>\n",
       "      <td>45.823</td>\n",
       "      <td>186.0</td>\n",
       "      <td>MEDIUM</td>\n",
       "      <td>18.0</td>\n",
       "      <td>Aston Martin</td>\n",
       "      <td>ALO</td>\n",
       "    </tr>\n",
       "    <tr>\n",
       "      <th>167</th>\n",
       "      <td>132.217</td>\n",
       "      <td>18</td>\n",
       "      <td>0 days 01:32:05.756000</td>\n",
       "      <td>43.181</td>\n",
       "      <td>42.922</td>\n",
       "      <td>46.114</td>\n",
       "      <td>241.0</td>\n",
       "      <td>MEDIUM</td>\n",
       "      <td>18.0</td>\n",
       "      <td>Mercedes</td>\n",
       "      <td>RUS</td>\n",
       "    </tr>\n",
       "  </tbody>\n",
       "</table>\n",
       "</div>"
      ],
      "text/plain": [
       "     LapTime  LapNumber               PitInTime  Sector1Time  Sector2Time  \\\n",
       "17   127.357         18  0 days 01:31:46.882000       39.183       47.443   \n",
       "67   134.348         18  0 days 01:32:15.366000       48.991       40.059   \n",
       "117  129.623         18  0 days 01:31:55.100000       39.863       43.937   \n",
       "167  132.217         18  0 days 01:32:05.756000       43.181       42.922   \n",
       "\n",
       "     Sector3Time  SpeedST Compound  TyreLife             Team Driver  \n",
       "17        40.731    282.0   MEDIUM      18.0  Red Bull Racing    PER  \n",
       "67        45.298    197.0   MEDIUM      18.0  Red Bull Racing    VER  \n",
       "117       45.823    186.0   MEDIUM      18.0     Aston Martin    ALO  \n",
       "167       46.114    241.0   MEDIUM      18.0         Mercedes    RUS  "
      ]
     },
     "execution_count": 10,
     "metadata": {},
     "output_type": "execute_result"
    }
   ],
   "source": [
    "f1[f1.PitInTime!=0]"
   ]
  },
  {
   "cell_type": "markdown",
   "metadata": {},
   "source": [
    "Veamos los histogramas sin  outliers "
   ]
  },
  {
   "cell_type": "code",
   "execution_count": 12,
   "metadata": {},
   "outputs": [
    {
     "data": {
      "image/png": "[encoded data removed]",
      "text/plain": [
       "<Figure size 3000x1800 with 4 Axes>"
      ]
     },
     "metadata": {},
     "output_type": "display_data"
    }
   ],
   "source": [
    "\n",
    "df_vueltas = f1.loc[~filtro,[\"LapNumber\",\"LapTime\",\"Driver\"]]\n",
    "fig, ax = plt.subplots(2,2,figsize=(10, 6),dpi=300)\n",
    "\n",
    "df_pilotos = df_vueltas.pivot(index=\"LapNumber\", columns=\"Driver\", values=\"LapTime\").dropna()\n",
    "df_pilotos.hist(ax=ax, range=[df_vueltas.LapTime.min() , df_vueltas.LapTime.max()])\n",
    "plt.show()"
   ]
  },
  {
   "cell_type": "markdown",
   "metadata": {},
   "source": [
    "Sabiendo que el número de filas es aproximadamente el mismo ¿cuál se parece más a una normal atendiendo al estadístico? ¿y a p?"
   ]
  },
  {
   "cell_type": "code",
   "execution_count": 13,
   "metadata": {},
   "outputs": [
    {
     "name": "stdout",
     "output_type": "stream",
     "text": [
      "PER\n",
      "PER: estadístico 2.8403, p 0.2417\n",
      "VER\n",
      "VER: estadístico 4.5581, p 0.1024\n",
      "ALO\n",
      "ALO: estadístico 1.3949, p 0.4979\n",
      "RUS\n",
      "RUS: estadístico 5.4281, p 0.0663\n"
     ]
    }
   ],
   "source": [
    "from scipy.stats import normaltest\n",
    "\n",
    "for driver in df_vueltas.Driver.unique():\n",
    "    print(driver)\n",
    "    k2, p = normaltest(np.array(df_pilotos[driver],dtype='f'))\n",
    "    print(f\"{driver}: estadístico {round(k2,4)}, p {round(p,4)}\")"
   ]
  },
  {
   "cell_type": "markdown",
   "metadata": {},
   "source": [
    "Asimetría y Curtosis en cada caso\n"
   ]
  },
  {
   "cell_type": "code",
   "execution_count": 14,
   "metadata": {},
   "outputs": [
    {
     "name": "stdout",
     "output_type": "stream",
     "text": [
      "PER\n",
      "No podemos rechazar que no tenga asimetría\n",
      "No podemos rechazar que curtosis==0\n",
      "============================================================\n",
      "VER\n",
      "Asimetría  positiva\n",
      "No podemos rechazar que curtosis==0\n",
      "============================================================\n",
      "ALO\n",
      "No podemos rechazar que no tenga asimetría\n",
      "No podemos rechazar que curtosis==0\n",
      "============================================================\n",
      "RUS\n",
      "No podemos rechazar que no tenga asimetría\n",
      "Curtosis  mesocúrtica\n",
      "============================================================\n"
     ]
    }
   ],
   "source": [
    "from scipy.stats import skew,skewtest,kurtosis,kurtosistest\n",
    "\n",
    "for driver in df_vueltas.Driver.unique():\n",
    "    print(driver)\n",
    "    x = np.array(df_pilotos[driver],dtype='f')\n",
    "    e_s,p_s  = skewtest(x)\n",
    "    e_k,p_k  = kurtosistest(x)\n",
    "    if p_s>0.05: \n",
    "        print(\"No podemos rechazar que no tenga asimetría\")\n",
    "    else:\n",
    "        print(\"Asimetría \", \"positiva\" if skew(x)>0 else \"negativa\")\n",
    "    if p_k>0.05: \n",
    "        print(\"No podemos rechazar que curtosis==0\")\n",
    "    else:\n",
    "        print(\"Curtosis \", \"leptocúrtica\" if kurtosis(x)>0 else \"mesocúrtica\")\n",
    "    print(\"=\"*60)"
   ]
  },
  {
   "cell_type": "markdown",
   "metadata": {},
   "source": [
    "¿Qué sígnifica que RUS tenga histograma \"mesocúrtico\"?"
   ]
  },
  {
   "cell_type": "markdown",
   "metadata": {},
   "source": [
    "<a name=\"Boxplots\"></a>\n",
    "### Boxplots\n",
    "\n",
    "Sin embargo hay otro método que se utiliza más a menudo porque además da más información: los boxplots (también llamados en castellano \"diagramas de cajas y bigotes\"). Están basados en la mediana y muestran la siguiente información:\n",
    "\n",
    "<img src=\"https://miro.medium.com/max/9000/1*2c21SkzJMf3frPXPAR_gZA.png\" width=600/>\n",
    "\n",
    "El criterio para declarar algo como outlier es por tanto ser  $< Q_1 - 1.5 \\times (Q_3- Q_1)$  o  bien $> Q_3 + 1.5 \\times (Q_3- Q_1)$\n",
    "\n",
    "Se trata de un criterio bastante exigente porque en el caso de una normal suma más del 99% de la población\n",
    "\n",
    "<img src=\"https://miro.medium.com/max/8100/1*NRlqiZGQdsIyAu0KzP7LaQ.png\" width=600/>\n",
    "\n",
    "En Python se pueden mostrar tanto con pandas, como con matplotlib como con seaborn.\n",
    "\n",
    "Con matplotlib:"
   ]
  },
  {
   "cell_type": "code",
   "execution_count": 21,
   "metadata": {},
   "outputs": [
    {
     "data": {
      "text/html": [
       "<div>\n",
       "<style scoped>\n",
       "    .dataframe tbody tr th:only-of-type {\n",
       "        vertical-align: middle;\n",
       "    }\n",
       "\n",
       "    .dataframe tbody tr th {\n",
       "        vertical-align: top;\n",
       "    }\n",
       "\n",
       "    .dataframe thead th {\n",
       "        text-align: right;\n",
       "    }\n",
       "</style>\n",
       "<table border=\"1\" class=\"dataframe\">\n",
       "  <thead>\n",
       "    <tr style=\"text-align: right;\">\n",
       "      <th></th>\n",
       "      <th>LapTime</th>\n",
       "      <th>LapNumber</th>\n",
       "      <th>PitInTime</th>\n",
       "      <th>Sector1Time</th>\n",
       "      <th>Sector2Time</th>\n",
       "      <th>Sector3Time</th>\n",
       "      <th>SpeedST</th>\n",
       "      <th>Compound</th>\n",
       "      <th>TyreLife</th>\n",
       "      <th>Team</th>\n",
       "      <th>Driver</th>\n",
       "    </tr>\n",
       "  </thead>\n",
       "  <tbody>\n",
       "    <tr>\n",
       "      <th>1</th>\n",
       "      <td>80.0</td>\n",
       "      <td>2</td>\n",
       "      <td>0</td>\n",
       "      <td>35.785</td>\n",
       "      <td>29.903</td>\n",
       "      <td>30.218</td>\n",
       "      <td>316.0</td>\n",
       "      <td>MEDIUM</td>\n",
       "      <td>2.0</td>\n",
       "      <td>Red Bull Racing</td>\n",
       "      <td>PER</td>\n",
       "    </tr>\n",
       "    <tr>\n",
       "      <th>2</th>\n",
       "      <td>94.829</td>\n",
       "      <td>3</td>\n",
       "      <td>0</td>\n",
       "      <td>35.34</td>\n",
       "      <td>29.825</td>\n",
       "      <td>29.664</td>\n",
       "      <td>334.0</td>\n",
       "      <td>MEDIUM</td>\n",
       "      <td>3.0</td>\n",
       "      <td>Red Bull Racing</td>\n",
       "      <td>PER</td>\n",
       "    </tr>\n",
       "    <tr>\n",
       "      <th>3</th>\n",
       "      <td>95.651</td>\n",
       "      <td>4</td>\n",
       "      <td>0</td>\n",
       "      <td>35.484</td>\n",
       "      <td>30.147</td>\n",
       "      <td>30.02</td>\n",
       "      <td>307.0</td>\n",
       "      <td>MEDIUM</td>\n",
       "      <td>4.0</td>\n",
       "      <td>Red Bull Racing</td>\n",
       "      <td>PER</td>\n",
       "    </tr>\n",
       "    <tr>\n",
       "      <th>4</th>\n",
       "      <td>94.873</td>\n",
       "      <td>5</td>\n",
       "      <td>0</td>\n",
       "      <td>35.024</td>\n",
       "      <td>29.903</td>\n",
       "      <td>29.946</td>\n",
       "      <td>312.0</td>\n",
       "      <td>MEDIUM</td>\n",
       "      <td>5.0</td>\n",
       "      <td>Red Bull Racing</td>\n",
       "      <td>PER</td>\n",
       "    </tr>\n",
       "    <tr>\n",
       "      <th>5</th>\n",
       "      <td>94.621</td>\n",
       "      <td>6</td>\n",
       "      <td>0</td>\n",
       "      <td>34.934</td>\n",
       "      <td>29.815</td>\n",
       "      <td>29.872</td>\n",
       "      <td>310.0</td>\n",
       "      <td>MEDIUM</td>\n",
       "      <td>6.0</td>\n",
       "      <td>Red Bull Racing</td>\n",
       "      <td>PER</td>\n",
       "    </tr>\n",
       "    <tr>\n",
       "      <th>...</th>\n",
       "      <td>...</td>\n",
       "      <td>...</td>\n",
       "      <td>...</td>\n",
       "      <td>...</td>\n",
       "      <td>...</td>\n",
       "      <td>...</td>\n",
       "      <td>...</td>\n",
       "      <td>...</td>\n",
       "      <td>...</td>\n",
       "      <td>...</td>\n",
       "      <td>...</td>\n",
       "    </tr>\n",
       "    <tr>\n",
       "      <th>195</th>\n",
       "      <td>92.982</td>\n",
       "      <td>46</td>\n",
       "      <td>0</td>\n",
       "      <td>34.188</td>\n",
       "      <td>29.299</td>\n",
       "      <td>29.495</td>\n",
       "      <td>303.0</td>\n",
       "      <td>HARD</td>\n",
       "      <td>28.0</td>\n",
       "      <td>Mercedes</td>\n",
       "      <td>RUS</td>\n",
       "    </tr>\n",
       "    <tr>\n",
       "      <th>196</th>\n",
       "      <td>92.901</td>\n",
       "      <td>47</td>\n",
       "      <td>0</td>\n",
       "      <td>34.167</td>\n",
       "      <td>29.235</td>\n",
       "      <td>29.499</td>\n",
       "      <td>306.0</td>\n",
       "      <td>HARD</td>\n",
       "      <td>29.0</td>\n",
       "      <td>Mercedes</td>\n",
       "      <td>RUS</td>\n",
       "    </tr>\n",
       "    <tr>\n",
       "      <th>197</th>\n",
       "      <td>92.756</td>\n",
       "      <td>48</td>\n",
       "      <td>0</td>\n",
       "      <td>33.841</td>\n",
       "      <td>29.174</td>\n",
       "      <td>29.741</td>\n",
       "      <td>299.0</td>\n",
       "      <td>HARD</td>\n",
       "      <td>30.0</td>\n",
       "      <td>Mercedes</td>\n",
       "      <td>RUS</td>\n",
       "    </tr>\n",
       "    <tr>\n",
       "      <th>198</th>\n",
       "      <td>93.135</td>\n",
       "      <td>49</td>\n",
       "      <td>0</td>\n",
       "      <td>34.245</td>\n",
       "      <td>29.248</td>\n",
       "      <td>29.642</td>\n",
       "      <td>305.0</td>\n",
       "      <td>HARD</td>\n",
       "      <td>31.0</td>\n",
       "      <td>Mercedes</td>\n",
       "      <td>RUS</td>\n",
       "    </tr>\n",
       "    <tr>\n",
       "      <th>199</th>\n",
       "      <td>92.433</td>\n",
       "      <td>50</td>\n",
       "      <td>0</td>\n",
       "      <td>33.785</td>\n",
       "      <td>29.221</td>\n",
       "      <td>29.427</td>\n",
       "      <td>311.0</td>\n",
       "      <td>HARD</td>\n",
       "      <td>32.0</td>\n",
       "      <td>Mercedes</td>\n",
       "      <td>RUS</td>\n",
       "    </tr>\n",
       "  </tbody>\n",
       "</table>\n",
       "<p>187 rows × 11 columns</p>\n",
       "</div>"
      ],
      "text/plain": [
       "     LapTime  LapNumber PitInTime  Sector1Time  Sector2Time  Sector3Time  \\\n",
       "1       80.0          2         0       35.785       29.903       30.218   \n",
       "2     94.829          3         0        35.34       29.825       29.664   \n",
       "3     95.651          4         0       35.484       30.147        30.02   \n",
       "4     94.873          5         0       35.024       29.903       29.946   \n",
       "5     94.621          6         0       34.934       29.815       29.872   \n",
       "..       ...        ...       ...          ...          ...          ...   \n",
       "195   92.982         46         0       34.188       29.299       29.495   \n",
       "196   92.901         47         0       34.167       29.235       29.499   \n",
       "197   92.756         48         0       33.841       29.174       29.741   \n",
       "198   93.135         49         0       34.245       29.248       29.642   \n",
       "199   92.433         50         0       33.785       29.221       29.427   \n",
       "\n",
       "     SpeedST Compound  TyreLife             Team Driver  \n",
       "1      316.0   MEDIUM       2.0  Red Bull Racing    PER  \n",
       "2      334.0   MEDIUM       3.0  Red Bull Racing    PER  \n",
       "3      307.0   MEDIUM       4.0  Red Bull Racing    PER  \n",
       "4      312.0   MEDIUM       5.0  Red Bull Racing    PER  \n",
       "5      310.0   MEDIUM       6.0  Red Bull Racing    PER  \n",
       "..       ...      ...       ...              ...    ...  \n",
       "195    303.0     HARD      28.0         Mercedes    RUS  \n",
       "196    306.0     HARD      29.0         Mercedes    RUS  \n",
       "197    299.0     HARD      30.0         Mercedes    RUS  \n",
       "198    305.0     HARD      31.0         Mercedes    RUS  \n",
       "199    311.0     HARD      32.0         Mercedes    RUS  \n",
       "\n",
       "[187 rows x 11 columns]"
      ]
     },
     "execution_count": 21,
     "metadata": {},
     "output_type": "execute_result"
    }
   ],
   "source": [
    "f1.iloc[0,0]=80\n",
    "f1"
   ]
  },
  {
   "cell_type": "code",
   "execution_count": 22,
   "metadata": {},
   "outputs": [
    {
     "data": {
      "text/plain": [
       "<AxesSubplot: >"
      ]
     },
     "execution_count": 22,
     "metadata": {},
     "output_type": "execute_result"
    },
    {
     "data": {
      "image/png": "[encoded data removed]",
      "text/plain": [
       "<Figure size 640x480 with 1 Axes>"
      ]
     },
     "metadata": {},
     "output_type": "display_data"
    }
   ],
   "source": [
    "f1.boxplot(column = \"LapTime\")"
   ]
  },
  {
   "cell_type": "code",
   "execution_count": 66,
   "metadata": {},
   "outputs": [
    {
     "data": {
      "text/plain": [
       "<AxesSubplot: title={'center': 'LapTime'}, xlabel='Driver'>"
      ]
     },
     "execution_count": 66,
     "metadata": {},
     "output_type": "execute_result"
    },
    {
     "data": {
      "image/png": "[encoded data removed]",
      "text/plain": [
       "<Figure size 600x1000 with 1 Axes>"
      ]
     },
     "metadata": {},
     "output_type": "display_data"
    }
   ],
   "source": [
    "fig, ax = plt.subplots(figsize=(6, 10),dpi=100)\n",
    "f1.boxplot(column = \"LapTime\", by=\"Driver\",ax=ax)"
   ]
  },
  {
   "cell_type": "markdown",
   "metadata": {},
   "source": [
    "**matplotlib** Tiene la ventaja de poder incluir el \"notch\" que indica un intervalo de confianza para la mediana"
   ]
  },
  {
   "cell_type": "code",
   "execution_count": 24,
   "metadata": {},
   "outputs": [
    {
     "data": {
      "text/plain": [
       "{'whiskers': [<matplotlib.lines.Line2D at 0x23fff306550>,\n",
       "  <matplotlib.lines.Line2D at 0x23fff3067f0>,\n",
       "  <matplotlib.lines.Line2D at 0x23fff35e7f0>,\n",
       "  <matplotlib.lines.Line2D at 0x23fff35ea90>,\n",
       "  <matplotlib.lines.Line2D at 0x23fff379a90>,\n",
       "  <matplotlib.lines.Line2D at 0x23fff379d30>,\n",
       "  <matplotlib.lines.Line2D at 0x23fff393d90>,\n",
       "  <matplotlib.lines.Line2D at 0x23fff3b3070>],\n",
       " 'caps': [<matplotlib.lines.Line2D at 0x23fff306a90>,\n",
       "  <matplotlib.lines.Line2D at 0x23fff306d30>,\n",
       "  <matplotlib.lines.Line2D at 0x23fff35ed30>,\n",
       "  <matplotlib.lines.Line2D at 0x23fff35efd0>,\n",
       "  <matplotlib.lines.Line2D at 0x23fff379fd0>,\n",
       "  <matplotlib.lines.Line2D at 0x23fff3932b0>,\n",
       "  <matplotlib.lines.Line2D at 0x23fff3b3310>,\n",
       "  <matplotlib.lines.Line2D at 0x23fff3b35e0>],\n",
       " 'boxes': [<matplotlib.lines.Line2D at 0x23fff3062b0>,\n",
       "  <matplotlib.lines.Line2D at 0x23fff35e550>,\n",
       "  <matplotlib.lines.Line2D at 0x23fff3797f0>,\n",
       "  <matplotlib.lines.Line2D at 0x23fff393a90>],\n",
       " 'medians': [<matplotlib.lines.Line2D at 0x23fff306fd0>,\n",
       "  <matplotlib.lines.Line2D at 0x23fff3792b0>,\n",
       "  <matplotlib.lines.Line2D at 0x23fff393550>,\n",
       "  <matplotlib.lines.Line2D at 0x23fff3b3880>],\n",
       " 'fliers': [<matplotlib.lines.Line2D at 0x23fff35e2b0>,\n",
       "  <matplotlib.lines.Line2D at 0x23fff379550>,\n",
       "  <matplotlib.lines.Line2D at 0x23fff3937f0>,\n",
       "  <matplotlib.lines.Line2D at 0x23fff3b3b20>],\n",
       " 'means': []}"
      ]
     },
     "execution_count": 24,
     "metadata": {},
     "output_type": "execute_result"
    },
    {
     "data": {
      "image/png": "[encoded data removed]",
      "text/plain": [
       "<Figure size 1000x600 with 1 Axes>"
      ]
     },
     "metadata": {},
     "output_type": "display_data"
    }
   ],
   "source": [
    "df_vueltas = f1[[\"LapNumber\",\"LapTime\",\"Driver\"]]\n",
    "\n",
    "df_pilotos = df_vueltas.pivot(index=\"LapNumber\", columns=\"Driver\", values=\"LapTime\")\n",
    "\n",
    "fig, ax = plt.subplots(figsize=(10, 6),dpi=100)\n",
    "ax.boxplot(df_pilotos.dropna(),    notch = True,labels=df_pilotos.columns)\n"
   ]
  },
  {
   "cell_type": "markdown",
   "metadata": {},
   "source": [
    "Un poco más bonito"
   ]
  },
  {
   "cell_type": "code",
   "execution_count": 68,
   "metadata": {},
   "outputs": [
    {
     "data": {
      "image/png": "[encoded data removed]",
      "text/plain": [
       "<Figure size 600x1000 with 1 Axes>"
      ]
     },
     "metadata": {},
     "output_type": "display_data"
    }
   ],
   "source": [
    "fig, ax = plt.subplots(figsize=(6, 10),dpi=100)\n",
    "boxplots = ax.boxplot(df_pilotos.dropna(), notch = True,labels=df_pilotos.columns,\n",
    "             widths = .7,\n",
    "             patch_artist=True,\n",
    "             medianprops = dict(linestyle='-', linewidth=2, color='Yellow'),\n",
    "             boxprops = dict(linestyle='--', linewidth=2, color='Black', facecolor = 'blue', alpha = .4))\n",
    "# colores\n",
    "boxplots['boxes'][0].set_facecolor('darkgreen')\n",
    "boxplots['boxes'][1].set_facecolor('navy')\n",
    "boxplots['boxes'][2].set_facecolor('grey')\n",
    "boxplots['boxes'][3].set_facecolor('navy')\n",
    "\n",
    "plt.ylabel('Tiempo ms', fontsize = 20)\n",
    "plt.xlabel('Piloto', fontsize = 20)\n",
    "plt.xticks(fontsize = 16)\n",
    "plt.yticks(fontsize = 16)\n",
    "plt.show()"
   ]
  },
  {
   "cell_type": "markdown",
   "metadata": {},
   "source": [
    "**Seaborn**"
   ]
  },
  {
   "cell_type": "code",
   "execution_count": 25,
   "metadata": {},
   "outputs": [
    {
     "data": {
      "text/plain": [
       "<AxesSubplot: xlabel='LapTime'>"
      ]
     },
     "execution_count": 25,
     "metadata": {},
     "output_type": "execute_result"
    },
    {
     "data": {
      "image/png": "[encoded data removed]",
      "text/plain": [
       "<Figure size 640x480 with 1 Axes>"
      ]
     },
     "metadata": {},
     "output_type": "display_data"
    }
   ],
   "source": [
    "import seaborn as sns\n",
    "sns.boxplot(x=f1[\"LapTime\"])"
   ]
  },
  {
   "cell_type": "code",
   "execution_count": 28,
   "metadata": {},
   "outputs": [
    {
     "data": {
      "text/plain": [
       "<AxesSubplot: xlabel='LapTime', ylabel='Driver'>"
      ]
     },
     "execution_count": 28,
     "metadata": {},
     "output_type": "execute_result"
    },
    {
     "data": {
      "image/png": "[encoded data removed]",
      "text/plain": [
       "<Figure size 1000x600 with 1 Axes>"
      ]
     },
     "metadata": {},
     "output_type": "display_data"
    }
   ],
   "source": [
    "from matplotlib import pyplot as plt\n",
    "import seaborn as sns\n",
    "fig, ax = plt.subplots(figsize=(10, 6),dpi=100)\n",
    "sns.boxplot(x=f1[\"LapTime\"],y=f1[\"Driver\"])"
   ]
  },
  {
   "cell_type": "code",
   "execution_count": 71,
   "metadata": {},
   "outputs": [
    {
     "data": {
      "text/plain": [
       "<AxesSubplot: xlabel='LapTime', ylabel='Compound'>"
      ]
     },
     "execution_count": 71,
     "metadata": {},
     "output_type": "execute_result"
    },
    {
     "data": {
      "image/png": "[encoded data removed]",
      "text/plain": [
       "<Figure size 640x480 with 1 Axes>"
      ]
     },
     "metadata": {},
     "output_type": "display_data"
    }
   ],
   "source": [
    "sns.boxplot(x=f1[\"LapTime\"],y=f1[\"Compound\"])"
   ]
  },
  {
   "cell_type": "code",
   "execution_count": 79,
   "metadata": {},
   "outputs": [
    {
     "data": {
      "text/html": [
       "<div>\n",
       "<style scoped>\n",
       "    .dataframe tbody tr th:only-of-type {\n",
       "        vertical-align: middle;\n",
       "    }\n",
       "\n",
       "    .dataframe tbody tr th {\n",
       "        vertical-align: top;\n",
       "    }\n",
       "\n",
       "    .dataframe thead th {\n",
       "        text-align: right;\n",
       "    }\n",
       "</style>\n",
       "<table border=\"1\" class=\"dataframe\">\n",
       "  <thead>\n",
       "    <tr style=\"text-align: right;\">\n",
       "      <th></th>\n",
       "      <th>Driver</th>\n",
       "      <th>LapNumber</th>\n",
       "      <th>variable</th>\n",
       "      <th>value</th>\n",
       "    </tr>\n",
       "  </thead>\n",
       "  <tbody>\n",
       "    <tr>\n",
       "      <th>0</th>\n",
       "      <td>PER</td>\n",
       "      <td>2</td>\n",
       "      <td>Sector1Time</td>\n",
       "      <td>35.785</td>\n",
       "    </tr>\n",
       "    <tr>\n",
       "      <th>1</th>\n",
       "      <td>PER</td>\n",
       "      <td>3</td>\n",
       "      <td>Sector1Time</td>\n",
       "      <td>35.34</td>\n",
       "    </tr>\n",
       "    <tr>\n",
       "      <th>2</th>\n",
       "      <td>PER</td>\n",
       "      <td>4</td>\n",
       "      <td>Sector1Time</td>\n",
       "      <td>35.484</td>\n",
       "    </tr>\n",
       "    <tr>\n",
       "      <th>3</th>\n",
       "      <td>PER</td>\n",
       "      <td>5</td>\n",
       "      <td>Sector1Time</td>\n",
       "      <td>35.024</td>\n",
       "    </tr>\n",
       "    <tr>\n",
       "      <th>4</th>\n",
       "      <td>PER</td>\n",
       "      <td>6</td>\n",
       "      <td>Sector1Time</td>\n",
       "      <td>34.934</td>\n",
       "    </tr>\n",
       "    <tr>\n",
       "      <th>...</th>\n",
       "      <td>...</td>\n",
       "      <td>...</td>\n",
       "      <td>...</td>\n",
       "      <td>...</td>\n",
       "    </tr>\n",
       "    <tr>\n",
       "      <th>544</th>\n",
       "      <td>RUS</td>\n",
       "      <td>46</td>\n",
       "      <td>Sector3Time</td>\n",
       "      <td>29.495</td>\n",
       "    </tr>\n",
       "    <tr>\n",
       "      <th>545</th>\n",
       "      <td>RUS</td>\n",
       "      <td>47</td>\n",
       "      <td>Sector3Time</td>\n",
       "      <td>29.499</td>\n",
       "    </tr>\n",
       "    <tr>\n",
       "      <th>546</th>\n",
       "      <td>RUS</td>\n",
       "      <td>48</td>\n",
       "      <td>Sector3Time</td>\n",
       "      <td>29.741</td>\n",
       "    </tr>\n",
       "    <tr>\n",
       "      <th>547</th>\n",
       "      <td>RUS</td>\n",
       "      <td>49</td>\n",
       "      <td>Sector3Time</td>\n",
       "      <td>29.642</td>\n",
       "    </tr>\n",
       "    <tr>\n",
       "      <th>548</th>\n",
       "      <td>RUS</td>\n",
       "      <td>50</td>\n",
       "      <td>Sector3Time</td>\n",
       "      <td>29.427</td>\n",
       "    </tr>\n",
       "  </tbody>\n",
       "</table>\n",
       "<p>549 rows × 4 columns</p>\n",
       "</div>"
      ],
      "text/plain": [
       "    Driver  LapNumber     variable   value\n",
       "0      PER          2  Sector1Time  35.785\n",
       "1      PER          3  Sector1Time   35.34\n",
       "2      PER          4  Sector1Time  35.484\n",
       "3      PER          5  Sector1Time  35.024\n",
       "4      PER          6  Sector1Time  34.934\n",
       "..     ...        ...          ...     ...\n",
       "544    RUS         46  Sector3Time  29.495\n",
       "545    RUS         47  Sector3Time  29.499\n",
       "546    RUS         48  Sector3Time  29.741\n",
       "547    RUS         49  Sector3Time  29.642\n",
       "548    RUS         50  Sector3Time  29.427\n",
       "\n",
       "[549 rows x 4 columns]"
      ]
     },
     "execution_count": 79,
     "metadata": {},
     "output_type": "execute_result"
    }
   ],
   "source": [
    "columns = ['Sector1Time', 'Sector2Time', 'Sector3Time', 'Driver',\"LapNumber\"]\n",
    "df_sectores = pd.melt(f1[~filtro][columns], id_vars=['Driver','LapNumber'])\n",
    "df_sectores"
   ]
  },
  {
   "cell_type": "code",
   "execution_count": 82,
   "metadata": {},
   "outputs": [
    {
     "data": {
      "text/plain": [
       "<AxesSubplot: xlabel='value', ylabel='Driver'>"
      ]
     },
     "execution_count": 82,
     "metadata": {},
     "output_type": "execute_result"
    },
    {
     "data": {
      "image/png": "[encoded data removed]",
      "text/plain": [
       "<Figure size 640x480 with 1 Axes>"
      ]
     },
     "metadata": {},
     "output_type": "display_data"
    }
   ],
   "source": [
    "sns.boxplot(data = df_sectores, x=\"value\",y=\"Driver\")"
   ]
  },
  {
   "cell_type": "code",
   "execution_count": 84,
   "metadata": {
    "scrolled": false
   },
   "outputs": [
    {
     "data": {
      "text/plain": [
       "<AxesSubplot: xlabel='value', ylabel='variable'>"
      ]
     },
     "execution_count": 84,
     "metadata": {},
     "output_type": "execute_result"
    },
    {
     "data": {
      "image/png": "[encoded data removed]",
      "text/plain": [
       "<Figure size 640x480 with 1 Axes>"
      ]
     },
     "metadata": {},
     "output_type": "display_data"
    }
   ],
   "source": [
    "sns.boxplot(data = df_sectores, x=\"value\",y=\"variable\",hue=\"Driver\")"
   ]
  },
  {
   "cell_type": "markdown",
   "metadata": {},
   "source": [
    "<a name=\"Numéricos\"></a>\n",
    "## Métodos numéricos\n",
    "\n",
    "El primero ya lo hemos visto y es el que utilizan los boxplots; un valor x se considera outlier si \n",
    "\n",
    "$x< Q_1 - 1.5 \\times (Q_3- Q_1)$  o  bien $x> Q_3 + 1.5 \\times (Q_3- Q_1)$\n",
    "\n",
    "Solo nos falta poder calcular $Q_1, Q_3$, pero el método `quantile`de Pandas lo pone muy fácil. Vamos a obtener los outliers para cada piloto:"
   ]
  },
  {
   "cell_type": "code",
   "execution_count": 92,
   "metadata": {},
   "outputs": [],
   "source": [
    "df_vueltas = f1[[\"LapNumber\",\"LapTime\",\"Driver\"]]\n",
    "\n",
    "df_pilotos = df_vueltas.pivot(index=\"LapNumber\", columns=\"Driver\", values=\"LapTime\")"
   ]
  },
  {
   "cell_type": "code",
   "execution_count": 30,
   "metadata": {},
   "outputs": [
    {
     "data": {
      "image/png": "[encoded data removed]",
      "text/plain": [
       "<Figure size 1000x600 with 1 Axes>"
      ]
     },
     "metadata": {},
     "output_type": "display_data"
    }
   ],
   "source": [
    "def muestra(ax, x,inferior,superior,c):\n",
    "    filtro_menor = x < inferior\n",
    "    filtro_mayor = x > superior\n",
    "    outliers = np.concatenate( (x[filtro_menor].values,x[filtro_mayor].values))\n",
    "\n",
    "    # lo mostramos\n",
    "    ax.scatter(x, [i]*len(x),color=\"green\",s=2)\n",
    "    \n",
    "    # señalamos el límite inferior y superior\n",
    "    ax.plot([inferior, inferior], [i,i+0.1],color=\"red\")\n",
    "    ax.plot([superior, superior], [i,i+0.1],color=\"red\")\n",
    "\n",
    "    \n",
    "    # ahora cada outlier\n",
    "    for o in outliers:\n",
    "        ax.scatter([o],[i],color=\"red\",s=2.5) \n",
    "        plt.text(o-0.5,i-0.1,round(o,2))\n",
    "\n",
    "    plt.text(85, i, c)\n",
    "    return\n",
    "    \n",
    "    \n",
    "\n",
    "fig, ax = plt.subplots(figsize=(10, 6),dpi=100)\n",
    "for i, driver in enumerate(df_pilotos.columns):\n",
    "    x = df_pilotos[driver].dropna()\n",
    "    q1 = x.quantile(0.25)\n",
    "    q3 = x.quantile(0.75)\n",
    "    inferior = q1 - 1.5*(q3-q1)\n",
    "    superior = q3 + 1.5*(q3-q1)\n",
    "    muestra(ax,x,inferior,superior,driver)\n",
    "    \n",
    "\n",
    "ax.set_xlim([80,150])\n",
    "#ax.set_ylim([-1,len(df_pilotos.columns)])\n",
    "plt.show()\n",
    "        "
   ]
  },
  {
   "cell_type": "markdown",
   "metadata": {},
   "source": [
    "Otro método, el llamado *Hampel X84*  utiliza la mediana y el mad para indicar que los puntos que están separados más de $1.4826 \\times \\theta\\times MAD$ de la mediana son puntos extremos, donde $\\theta$ es un número (1,2,3,4) que elegimos nosotros. Por ejemplo para $\\theta=3$:"
   ]
  },
  {
   "cell_type": "code",
   "execution_count": 32,
   "metadata": {},
   "outputs": [
    {
     "data": {
      "image/png": "[encoded data removed]",
      "text/plain": [
       "<Figure size 1000x600 with 1 Axes>"
      ]
     },
     "metadata": {},
     "output_type": "display_data"
    }
   ],
   "source": [
    "from scipy.stats import median_abs_deviation\n",
    "\n",
    "fig, ax = plt.subplots(figsize=(10, 6),dpi=100)\n",
    "for i, driver in enumerate(df_pilotos.columns):\n",
    "    x = df_pilotos[driver].dropna()\n",
    "    mediana = x.median()\n",
    "    MAD = median_abs_deviation(x)\n",
    "    theta = 4\n",
    "    inferior = mediana -  1.4826*4*MAD\n",
    "    superior = mediana + 1.4826*4*MAD\n",
    "\n",
    "    muestra(ax,x,inferior,superior,driver)\n",
    "\n",
    "    \n",
    "\n",
    "ax.set_xlim([80,150])\n",
    "#ax.set_ylim([-1,len(df_pilotos.columns)])\n",
    "plt.show()"
   ]
  },
  {
   "cell_type": "markdown",
   "metadata": {},
   "source": [
    "<a name=\"Multivariante\"></a>\n",
    "## Outliers en varias dimensiones\n",
    "\n",
    "Consideramos el siguiente dataframe"
   ]
  },
  {
   "cell_type": "code",
   "execution_count": 33,
   "metadata": {},
   "outputs": [
    {
     "data": {
      "text/html": [
       "<div>\n",
       "<style scoped>\n",
       "    .dataframe tbody tr th:only-of-type {\n",
       "        vertical-align: middle;\n",
       "    }\n",
       "\n",
       "    .dataframe tbody tr th {\n",
       "        vertical-align: top;\n",
       "    }\n",
       "\n",
       "    .dataframe thead th {\n",
       "        text-align: right;\n",
       "    }\n",
       "</style>\n",
       "<table border=\"1\" class=\"dataframe\">\n",
       "  <thead>\n",
       "    <tr style=\"text-align: right;\">\n",
       "      <th></th>\n",
       "      <th>Var1</th>\n",
       "      <th>Var2</th>\n",
       "    </tr>\n",
       "  </thead>\n",
       "  <tbody>\n",
       "    <tr>\n",
       "      <th>0</th>\n",
       "      <td>-0.461246</td>\n",
       "      <td>-1.840763</td>\n",
       "    </tr>\n",
       "    <tr>\n",
       "      <th>1</th>\n",
       "      <td>-0.805791</td>\n",
       "      <td>-0.967171</td>\n",
       "    </tr>\n",
       "    <tr>\n",
       "      <th>2</th>\n",
       "      <td>-0.081409</td>\n",
       "      <td>-0.470394</td>\n",
       "    </tr>\n",
       "    <tr>\n",
       "      <th>3</th>\n",
       "      <td>-1.060986</td>\n",
       "      <td>-0.596637</td>\n",
       "    </tr>\n",
       "    <tr>\n",
       "      <th>4</th>\n",
       "      <td>-0.858232</td>\n",
       "      <td>0.635539</td>\n",
       "    </tr>\n",
       "    <tr>\n",
       "      <th>...</th>\n",
       "      <td>...</td>\n",
       "      <td>...</td>\n",
       "    </tr>\n",
       "    <tr>\n",
       "      <th>197</th>\n",
       "      <td>14.917787</td>\n",
       "      <td>10.454471</td>\n",
       "    </tr>\n",
       "    <tr>\n",
       "      <th>198</th>\n",
       "      <td>14.696319</td>\n",
       "      <td>8.612987</td>\n",
       "    </tr>\n",
       "    <tr>\n",
       "      <th>199</th>\n",
       "      <td>15.375207</td>\n",
       "      <td>10.674702</td>\n",
       "    </tr>\n",
       "    <tr>\n",
       "      <th>200</th>\n",
       "      <td>0.000000</td>\n",
       "      <td>10.000000</td>\n",
       "    </tr>\n",
       "    <tr>\n",
       "      <th>201</th>\n",
       "      <td>0.000000</td>\n",
       "      <td>9.500000</td>\n",
       "    </tr>\n",
       "  </tbody>\n",
       "</table>\n",
       "<p>202 rows × 2 columns</p>\n",
       "</div>"
      ],
      "text/plain": [
       "          Var1       Var2\n",
       "0    -0.461246  -1.840763\n",
       "1    -0.805791  -0.967171\n",
       "2    -0.081409  -0.470394\n",
       "3    -1.060986  -0.596637\n",
       "4    -0.858232   0.635539\n",
       "..         ...        ...\n",
       "197  14.917787  10.454471\n",
       "198  14.696319   8.612987\n",
       "199  15.375207  10.674702\n",
       "200   0.000000  10.000000\n",
       "201   0.000000   9.500000\n",
       "\n",
       "[202 rows x 2 columns]"
      ]
     },
     "execution_count": 33,
     "metadata": {},
     "output_type": "execute_result"
    }
   ],
   "source": [
    "### Create the Data\n",
    "d1 = np.random.multivariate_normal(mean = np.array([-.5, 0]),\n",
    "                               cov = np.array([[1, 0], [0, 1]]), size = 100)\n",
    "d2 = np.random.multivariate_normal(mean = np.array([15, 10]),\n",
    "                               cov = np.array([[1, 0.3], [.3, 1]]), size = 100)\n",
    "outliers = np.array([[0, 10],[0, 9.5]])\n",
    "df = pd.DataFrame(np.concatenate([d1, d2, outliers], axis = 0), columns = ['Var1', 'Var2'])\n",
    "df"
   ]
  },
  {
   "cell_type": "markdown",
   "metadata": {},
   "source": [
    "usamos el método anterior\n",
    "\n"
   ]
  },
  {
   "cell_type": "code",
   "execution_count": 35,
   "metadata": {},
   "outputs": [
    {
     "data": {
      "text/plain": [
       "<AxesSubplot: >"
      ]
     },
     "execution_count": 35,
     "metadata": {},
     "output_type": "execute_result"
    },
    {
     "data": {
      "image/png": "[encoded data removed]",
      "text/plain": [
       "<Figure size 640x480 with 1 Axes>"
      ]
     },
     "metadata": {},
     "output_type": "display_data"
    }
   ],
   "source": [
    "df.boxplot()"
   ]
  },
  {
   "cell_type": "code",
   "execution_count": 36,
   "metadata": {},
   "outputs": [
    {
     "data": {
      "image/png": "[encoded data removed]",
      "text/plain": [
       "<Figure size 1000x600 with 1 Axes>"
      ]
     },
     "metadata": {},
     "output_type": "display_data"
    }
   ],
   "source": [
    "from scipy.stats import median_abs_deviation\n",
    "\n",
    "fig, ax = plt.subplots(figsize=(10, 6),dpi=100)\n",
    "for i, c in enumerate(df.columns):\n",
    "    x = df[c].dropna()\n",
    "    mediana = x.median()\n",
    "    MAD = median_abs_deviation(x)\n",
    "    inferior = mediana -  1.4826*3*MAD\n",
    "    superior = mediana + 1.4826*3*MAD\n",
    "\n",
    "    muestra(ax,x,inferior,superior,c)\n",
    "\n",
    "    \n",
    "\n",
    "#ax.set_ylim([-1,len(df_pilotos.columns)])\n",
    "plt.show()"
   ]
  },
  {
   "cell_type": "code",
   "execution_count": 37,
   "metadata": {},
   "outputs": [
    {
     "name": "stdout",
     "output_type": "stream",
     "text": [
      "Object `Seguro` not found.\n"
     ]
    }
   ],
   "source": [
    "¡No hay ouliers! Seguro?"
   ]
  },
  {
   "cell_type": "code",
   "execution_count": 38,
   "metadata": {},
   "outputs": [
    {
     "data": {
      "text/plain": [
       "<matplotlib.collections.PathCollection at 0x23fff9bb9a0>"
      ]
     },
     "execution_count": 38,
     "metadata": {},
     "output_type": "execute_result"
    },
    {
     "data": {
      "image/png": "[encoded data removed]",
      "text/plain": [
       "<Figure size 1000x600 with 1 Axes>"
      ]
     },
     "metadata": {},
     "output_type": "display_data"
    }
   ],
   "source": [
    "fig, ax = plt.subplots(figsize=(10, 6),dpi=100)\n",
    "ax.scatter(df.Var1,df.Var2)"
   ]
  },
  {
   "cell_type": "markdown",
   "metadata": {},
   "source": [
    "¿Cómo detectar estos puntos? La idea es que hay que tener una idea de punto \"demasiado\" alejado del resto, para eso utilizaremos \n",
    "la llamada [distancia de Mahalanobis](https://www.statisticshowto.com/mahalanobis-distance/) que tiene la distancia de un punto a un conjunto de puntos. Esto se hace mediante \"envolturas elípticas\" "
   ]
  },
  {
   "cell_type": "code",
   "execution_count": 47,
   "metadata": {},
   "outputs": [
    {
     "data": {
      "text/html": [
       "<style>#sk-container-id-3 {color: black;background-color: white;}#sk-container-id-3 pre{padding: 0;}#sk-container-id-3 div.sk-toggleable {background-color: white;}#sk-container-id-3 label.sk-toggleable__label {cursor: pointer;display: block;width: 100%;margin-bottom: 0;padding: 0.3em;box-sizing: border-box;text-align: center;}#sk-container-id-3 label.sk-toggleable__label-arrow:before {content: \"▸\";float: left;margin-right: 0.25em;color: #696969;}#sk-container-id-3 label.sk-toggleable__label-arrow:hover:before {color: black;}#sk-container-id-3 div.sk-estimator:hover label.sk-toggleable__label-arrow:before {color: black;}#sk-container-id-3 div.sk-toggleable__content {max-height: 0;max-width: 0;overflow: hidden;text-align: left;background-color: #f0f8ff;}#sk-container-id-3 div.sk-toggleable__content pre {margin: 0.2em;color: black;border-radius: 0.25em;background-color: #f0f8ff;}#sk-container-id-3 input.sk-toggleable__control:checked~div.sk-toggleable__content {max-height: 200px;max-width: 100%;overflow: auto;}#sk-container-id-3 input.sk-toggleable__control:checked~label.sk-toggleable__label-arrow:before {content: \"▾\";}#sk-container-id-3 div.sk-estimator input.sk-toggleable__control:checked~label.sk-toggleable__label {background-color: #d4ebff;}#sk-container-id-3 div.sk-label input.sk-toggleable__control:checked~label.sk-toggleable__label {background-color: #d4ebff;}#sk-container-id-3 input.sk-hidden--visually {border: 0;clip: rect(1px 1px 1px 1px);clip: rect(1px, 1px, 1px, 1px);height: 1px;margin: -1px;overflow: hidden;padding: 0;position: absolute;width: 1px;}#sk-container-id-3 div.sk-estimator {font-family: monospace;background-color: #f0f8ff;border: 1px dotted black;border-radius: 0.25em;box-sizing: border-box;margin-bottom: 0.5em;}#sk-container-id-3 div.sk-estimator:hover {background-color: #d4ebff;}#sk-container-id-3 div.sk-parallel-item::after {content: \"\";width: 100%;border-bottom: 1px solid gray;flex-grow: 1;}#sk-container-id-3 div.sk-label:hover label.sk-toggleable__label {background-color: #d4ebff;}#sk-container-id-3 div.sk-serial::before {content: \"\";position: absolute;border-left: 1px solid gray;box-sizing: border-box;top: 0;bottom: 0;left: 50%;z-index: 0;}#sk-container-id-3 div.sk-serial {display: flex;flex-direction: column;align-items: center;background-color: white;padding-right: 0.2em;padding-left: 0.2em;position: relative;}#sk-container-id-3 div.sk-item {position: relative;z-index: 1;}#sk-container-id-3 div.sk-parallel {display: flex;align-items: stretch;justify-content: center;background-color: white;position: relative;}#sk-container-id-3 div.sk-item::before, #sk-container-id-3 div.sk-parallel-item::before {content: \"\";position: absolute;border-left: 1px solid gray;box-sizing: border-box;top: 0;bottom: 0;left: 50%;z-index: -1;}#sk-container-id-3 div.sk-parallel-item {display: flex;flex-direction: column;z-index: 1;position: relative;background-color: white;}#sk-container-id-3 div.sk-parallel-item:first-child::after {align-self: flex-end;width: 50%;}#sk-container-id-3 div.sk-parallel-item:last-child::after {align-self: flex-start;width: 50%;}#sk-container-id-3 div.sk-parallel-item:only-child::after {width: 0;}#sk-container-id-3 div.sk-dashed-wrapped {border: 1px dashed gray;margin: 0 0.4em 0.5em 0.4em;box-sizing: border-box;padding-bottom: 0.4em;background-color: white;}#sk-container-id-3 div.sk-label label {font-family: monospace;font-weight: bold;display: inline-block;line-height: 1.2em;}#sk-container-id-3 div.sk-label-container {text-align: center;}#sk-container-id-3 div.sk-container {/* jupyter's `normalize.less` sets `[hidden] { display: none; }` but bootstrap.min.css set `[hidden] { display: none !important; }` so we also need the `!important` here to be able to override the default hidden behavior on the sphinx rendered scikit-learn.org. See: https://github.com/scikit-learn/scikit-learn/issues/21755 */display: inline-block !important;position: relative;}#sk-container-id-3 div.sk-text-repr-fallback {display: none;}</style><div id=\"sk-container-id-3\" class=\"sk-top-container\"><div class=\"sk-text-repr-fallback\"><pre>EllipticEnvelope()</pre><b>In a Jupyter environment, please rerun this cell to show the HTML representation or trust the notebook. <br />On GitHub, the HTML representation is unable to render, please try loading this page with nbviewer.org.</b></div><div class=\"sk-container\" hidden><div class=\"sk-item\"><div class=\"sk-estimator sk-toggleable\"><input class=\"sk-toggleable__control sk-hidden--visually\" id=\"sk-estimator-id-3\" type=\"checkbox\" checked><label for=\"sk-estimator-id-3\" class=\"sk-toggleable__label sk-toggleable__label-arrow\">EllipticEnvelope</label><div class=\"sk-toggleable__content\"><pre>EllipticEnvelope()</pre></div></div></div></div></div>"
      ],
      "text/plain": [
       "EllipticEnvelope()"
      ]
     },
     "execution_count": 47,
     "metadata": {},
     "output_type": "execute_result"
    }
   ],
   "source": [
    "from sklearn.covariance import EllipticEnvelope\n",
    "ee = EllipticEnvelope(contamination=.1).fit(df)  # la contaminación es la proporción de outliers, la decidimos nosotros\n",
    "ee # una \"envoltura\""
   ]
  },
  {
   "cell_type": "code",
   "execution_count": 48,
   "metadata": {},
   "outputs": [
    {
     "data": {
      "text/plain": [
       "array([ 1,  1,  1,  1,  1,  1,  1,  1,  1,  1,  1,  1,  1,  1,  1, -1,  1,\n",
       "        1,  1,  1,  1,  1,  1,  1,  1,  1,  1, -1,  1,  1,  1,  1,  1,  1,\n",
       "        1,  1,  1,  1, -1,  1,  1,  1, -1,  1,  1,  1,  1,  1, -1,  1,  1,\n",
       "        1,  1,  1,  1, -1,  1,  1, -1,  1,  1, -1,  1,  1,  1,  1,  1,  1,\n",
       "        1,  1,  1,  1,  1,  1, -1,  1, -1,  1,  1,  1,  1,  1, -1,  1, -1,\n",
       "       -1,  1,  1,  1,  1,  1,  1,  1,  1,  1, -1,  1,  1, -1,  1,  1,  1,\n",
       "        1,  1,  1,  1,  1,  1,  1,  1,  1,  1,  1,  1,  1,  1,  1,  1,  1,\n",
       "        1,  1,  1,  1,  1,  1,  1,  1,  1,  1,  1,  1,  1,  1,  1,  1,  1,\n",
       "        1,  1,  1,  1,  1,  1,  1,  1,  1, -1,  1,  1,  1,  1,  1,  1,  1,\n",
       "        1,  1,  1,  1,  1,  1,  1,  1,  1,  1,  1,  1,  1,  1,  1, -1,  1,\n",
       "       -1,  1,  1,  1,  1,  1,  1,  1,  1,  1,  1,  1,  1,  1,  1,  1,  1,\n",
       "        1,  1,  1,  1,  1,  1,  1,  1, -1,  1,  1,  1,  1, -1, -1])"
      ]
     },
     "execution_count": 48,
     "metadata": {},
     "output_type": "execute_result"
    }
   ],
   "source": [
    "p = ee.predict(df)\n",
    "p # +1 normal, -1 outlier"
   ]
  },
  {
   "cell_type": "code",
   "execution_count": 49,
   "metadata": {},
   "outputs": [
    {
     "data": {
      "text/plain": [
       "<matplotlib.collections.PathCollection at 0x23f9a7ae4f0>"
      ]
     },
     "execution_count": 49,
     "metadata": {},
     "output_type": "execute_result"
    },
    {
     "data": {
      "image/png": "[encoded data removed]",
      "text/plain": [
       "<Figure size 1000x600 with 1 Axes>"
      ]
     },
     "metadata": {},
     "output_type": "display_data"
    }
   ],
   "source": [
    "filtro = p==+1\n",
    "normales = df[filtro]\n",
    "outliers = df[~filtro]\n",
    "fig, ax = plt.subplots(figsize=(10, 6),dpi=100)\n",
    "ax.scatter(normales.Var1,normales.Var2,color=\"green\")\n",
    "ax.scatter(outliers.Var1,outliers.Var2,color=\"red\")\n"
   ]
  },
  {
   "cell_type": "markdown",
   "metadata": {},
   "source": [
    "En el ejemplo de la f1:"
   ]
  },
  {
   "cell_type": "code",
   "execution_count": 50,
   "metadata": {},
   "outputs": [
    {
     "data": {
      "text/plain": [
       "array([-1,  1,  1,  1,  1,  1,  1,  1,  1,  1,  1,  1,  1,  1,  1,  1,  1,\n",
       "        1,  1,  1,  1,  1,  1,  1,  1,  1,  1,  1,  1,  1,  1,  1,  1,  1,\n",
       "        1,  1,  1,  1,  1,  1,  1,  1,  1,  1,  1,  1])"
      ]
     },
     "execution_count": 50,
     "metadata": {},
     "output_type": "execute_result"
    }
   ],
   "source": [
    "df = df_pilotos.dropna()\n",
    "ee = EllipticEnvelope(contamination=.01).fit(df)\n",
    "p = ee.predict(df)\n",
    "p"
   ]
  },
  {
   "cell_type": "code",
   "execution_count": 52,
   "metadata": {},
   "outputs": [
    {
     "data": {
      "text/html": [
       "<div>\n",
       "<style scoped>\n",
       "    .dataframe tbody tr th:only-of-type {\n",
       "        vertical-align: middle;\n",
       "    }\n",
       "\n",
       "    .dataframe tbody tr th {\n",
       "        vertical-align: top;\n",
       "    }\n",
       "\n",
       "    .dataframe thead th {\n",
       "        text-align: right;\n",
       "    }\n",
       "</style>\n",
       "<table border=\"1\" class=\"dataframe\">\n",
       "  <thead>\n",
       "    <tr style=\"text-align: right;\">\n",
       "      <th>Driver</th>\n",
       "      <th>ALO</th>\n",
       "      <th>PER</th>\n",
       "      <th>RUS</th>\n",
       "      <th>VER</th>\n",
       "    </tr>\n",
       "    <tr>\n",
       "      <th>LapNumber</th>\n",
       "      <th></th>\n",
       "      <th></th>\n",
       "      <th></th>\n",
       "      <th></th>\n",
       "    </tr>\n",
       "  </thead>\n",
       "  <tbody>\n",
       "    <tr>\n",
       "      <th>2</th>\n",
       "      <td>95.567</td>\n",
       "      <td>80.0</td>\n",
       "      <td>96.114</td>\n",
       "      <td>97.68</td>\n",
       "    </tr>\n",
       "  </tbody>\n",
       "</table>\n",
       "</div>"
      ],
      "text/plain": [
       "Driver        ALO   PER     RUS    VER\n",
       "LapNumber                             \n",
       "2          95.567  80.0  96.114  97.68"
      ]
     },
     "execution_count": 52,
     "metadata": {},
     "output_type": "execute_result"
    }
   ],
   "source": [
    "filtro = p==+1\n",
    "normales = df[filtro]\n",
    "outliers = df[~filtro]\n",
    "\n",
    "outliers"
   ]
  },
  {
   "cell_type": "markdown",
   "metadata": {},
   "source": [
    "Un aviso: No funciona bien si las funciones no siguen una normal ni aproximadamente"
   ]
  },
  {
   "cell_type": "markdown",
   "metadata": {},
   "source": [
    "<a name=\"Bibliografía\"></a>\n",
    "## Bibliografía\n",
    "\n",
    "[Notebook](https://github.com/mGalarnyk/Python_Tutorials/blob/master/Statistics/boxplot/Box_plot_interpretation.ipynb) con ejemplos de Boxplot incluyendo variantes como el \"notch\"\n",
    "\n",
    "*Data Cleaning*. Ihab F. Ilyas and Xu Chu. Association for Computing Machinery 9781450371544 Tiene un capítulo dedicado a outliers muy completo\n",
    "\n",
    "\n",
    "[Best Practices in Data Cleaning: A Complete Guide to Everything You Need to Do Before and After Collecting Your Data](http://pzs.dstu.dp.ua/DataMining/preprocessing/bibl/cleaning.pdf). Capítulo 7.\n",
    "de Jason W. Osborne. Un poco técnico/estadístico pero muy preciso, \n",
    "\n",
    "[Outliers multivariante](https://medium.com/analytics-vidhya/anomaly-detection-in-python-part-1-basics-code-and-standard-algorithms-37d022cdbcff) Artículo de donde he tomado el código y el ejemplo para este apartado"
   ]
  },
  {
   "cell_type": "code",
   "execution_count": null,
   "metadata": {},
   "outputs": [],
   "source": []
  }
 ],
 "metadata": {
  "kernelspec": {
   "display_name": "Python 3 (ipykernel)",
   "language": "python",
   "name": "python3"
  },
  "language_info": {
   "codemirror_mode": {
    "name": "ipython",
    "version": 3
   },
   "file_extension": ".py",
   "mimetype": "text/x-python",
   "name": "python",
   "nbconvert_exporter": "python",
   "pygments_lexer": "ipython3",
   "version": "3.10.9"
  }
 },
 "nbformat": 4,
 "nbformat_minor": 4
}
