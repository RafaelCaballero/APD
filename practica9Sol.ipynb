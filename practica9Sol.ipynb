{
 "cells": [
  {
   "cell_type": "markdown",
   "id": "fb3db631",
   "metadata": {},
   "source": [
    "## Adquisición y preprocesamiento de la información\n",
    "\n",
    "<table>\n",
    "    <tr>\n",
    "      <td>Grado en Ingeniería de Datos e Inteligencia Artificial - Facultad de Informática - UCM\n",
    "      </td>\n",
    "      <td>\n",
    "      <img src=\"https://biblioteca.ucm.es/data/cont/media/www/pag-88746//escudo.jpg\"  width=50/>\n",
    "      </td>\n",
    "     </tr>\n",
    "</table>\n",
    "\n",
    "\n",
    "\n",
    "### Práctica 9 -Solución\n"
   ]
  },
  {
   "cell_type": "markdown",
   "id": "cadee397",
   "metadata": {},
   "source": [
    "Ejecutar el siguiente código para instalar la biblioteca `missingno`. Tras hacerlo conviene reiniciar el entorno Jupyter"
   ]
  },
  {
   "cell_type": "code",
   "execution_count": 153,
   "id": "f99bec92",
   "metadata": {},
   "outputs": [
    {
     "name": "stdout",
     "output_type": "stream",
     "text": [
      "Instalando módulos\n",
      "missingno  encontrado\n",
      "¡Terminado, quizás haya que hacer Restart!\n"
     ]
    }
   ],
   "source": [
    "modules = [\"missingno\"]\n",
    "\n",
    "\n",
    "import sys\n",
    "import os.path\n",
    "from subprocess import check_call\n",
    "import importlib\n",
    "import os\n",
    "\n",
    "def instala(modules):\n",
    "    print(\"Instalando módulos\")\n",
    "    for m in modules:\n",
    "        torch_loader = importlib.util.find_spec(m)\n",
    "        if torch_loader is not None:\n",
    "              print(m,\" encontrado\")\n",
    "        else:\n",
    "            print(m,\" No encontrado, instalando...\",end=\"\")  \n",
    "            try:        \n",
    "                r = check_call([sys.executable, \"-m\", \"pip\", \"install\", \"--user\", m])\n",
    "                print(\"¡hecho!\")\n",
    "            except:\n",
    "                print(\"¡Problema al instalar \",m,\"! ¿seguro que el módulo existe?\",sep=\"\")\n",
    "\n",
    "    print(\"¡Terminado, quizás haya que hacer Restart!\")\n",
    "\n",
    "instala(modules)  "
   ]
  },
  {
   "cell_type": "markdown",
   "id": "d00c107e",
   "metadata": {},
   "source": [
    "**Ejercicio 1**\n",
    "\n",
    "Leer en un dataframe `df` el fichero csv alojado en \n",
    "\n",
    "\"https://github.com/RafaelCaballero/tdm/raw/master/datos/tusa2020bcsv.zip\"\n",
    "\n",
    "Teniendo en cuenta que:\n",
    "\n",
    "1.- La columna `created_at` debe ser leída como una fecha\n",
    "\n",
    "2.- Las columnas `_id`,`userid`, `RT_source` deben ser leídas como un string\n",
    "\n",
    "\n",
    "Notas: En [read_csv](https://pandas.pydata.org/docs/reference/api/pandas.read_csv.html):\n",
    "* La opción `parse_dates`  permite leer fechas\n",
    "* La opción `dtype`  nos permitirá indicar que `_id`,`userid`, `RT_source` son de tipo `str`"
   ]
  },
  {
   "cell_type": "code",
   "execution_count": 154,
   "id": "8f6f9729",
   "metadata": {},
   "outputs": [
    {
     "name": "stdout",
     "output_type": "stream",
     "text": [
      "<class 'pandas.core.frame.DataFrame'>\n",
      "RangeIndex: 8223 entries, 0 to 8222\n",
      "Data columns (total 16 columns):\n",
      " #   Column          Non-Null Count  Dtype              \n",
      "---  ------          --------------  -----              \n",
      " 0   _id             8223 non-null   object             \n",
      " 1   text            4126 non-null   object             \n",
      " 2   userid          8223 non-null   object             \n",
      " 3   screen_name     8223 non-null   object             \n",
      " 4   created_at      8223 non-null   datetime64[ns, UTC]\n",
      " 5   lang            4126 non-null   object             \n",
      " 6   quote_count     4126 non-null   float64            \n",
      " 7   reply_count     4126 non-null   float64            \n",
      " 8   retweet_count   4126 non-null   float64            \n",
      " 9   favorite_count  4126 non-null   float64            \n",
      " 10  coordinates     0 non-null      float64            \n",
      " 11  reply           4126 non-null   object             \n",
      " 12  quote           4110 non-null   object             \n",
      " 13  RT              8223 non-null   bool               \n",
      " 14  RT_source       4097 non-null   object             \n",
      " 15  nRTin           4126 non-null   float64            \n",
      "dtypes: bool(1), datetime64[ns, UTC](1), float64(6), object(8)\n",
      "memory usage: 971.8+ KB\n"
     ]
    }
   ],
   "source": [
    "import pandas as pd\n",
    "url=\"https://github.com/RafaelCaballero/tdm/raw/master/datos/tusa2020bcsv.zip\"\n",
    "\n",
    "df = pd.read_csv(url, parse_dates=['created_at'],dtype={'_id':str, 'userid': str, 'RT_source': str})\n",
    "\n",
    "\n",
    "# para probar\n",
    "df.info()"
   ]
  },
  {
   "cell_type": "code",
   "execution_count": 155,
   "id": "d963d3e0",
   "metadata": {},
   "outputs": [
    {
     "data": {
      "text/html": [
       "<div>\n",
       "<style scoped>\n",
       "    .dataframe tbody tr th:only-of-type {\n",
       "        vertical-align: middle;\n",
       "    }\n",
       "\n",
       "    .dataframe tbody tr th {\n",
       "        vertical-align: top;\n",
       "    }\n",
       "\n",
       "    .dataframe thead th {\n",
       "        text-align: right;\n",
       "    }\n",
       "</style>\n",
       "<table border=\"1\" class=\"dataframe\">\n",
       "  <thead>\n",
       "    <tr style=\"text-align: right;\">\n",
       "      <th></th>\n",
       "      <th>_id</th>\n",
       "      <th>text</th>\n",
       "      <th>userid</th>\n",
       "      <th>screen_name</th>\n",
       "      <th>created_at</th>\n",
       "      <th>lang</th>\n",
       "      <th>quote_count</th>\n",
       "      <th>reply_count</th>\n",
       "      <th>retweet_count</th>\n",
       "      <th>favorite_count</th>\n",
       "      <th>coordinates</th>\n",
       "      <th>reply</th>\n",
       "      <th>quote</th>\n",
       "      <th>RT</th>\n",
       "      <th>RT_source</th>\n",
       "      <th>nRTin</th>\n",
       "    </tr>\n",
       "  </thead>\n",
       "  <tbody>\n",
       "    <tr>\n",
       "      <th>0</th>\n",
       "      <td>1322162444786126848</td>\n",
       "      <td>Winners attract other winners</td>\n",
       "      <td>289706821</td>\n",
       "      <td>thatguy0603</td>\n",
       "      <td>2020-10-30 13:04:26+00:00</td>\n",
       "      <td>en</td>\n",
       "      <td>0.0</td>\n",
       "      <td>0.0</td>\n",
       "      <td>0.0</td>\n",
       "      <td>0.0</td>\n",
       "      <td>NaN</td>\n",
       "      <td>False</td>\n",
       "      <td>True</td>\n",
       "      <td>False</td>\n",
       "      <td>NaN</td>\n",
       "      <td>0.0</td>\n",
       "    </tr>\n",
       "    <tr>\n",
       "      <th>1</th>\n",
       "      <td>1316829358686834688</td>\n",
       "      <td>NOW WE KNOW...C-SPAN Steve Sculley tried to ri...</td>\n",
       "      <td>1116507977828175872</td>\n",
       "      <td>FloridaDude297</td>\n",
       "      <td>2020-10-15 19:52:39+00:00</td>\n",
       "      <td>en</td>\n",
       "      <td>12.0</td>\n",
       "      <td>28.0</td>\n",
       "      <td>681.0</td>\n",
       "      <td>1232.0</td>\n",
       "      <td>NaN</td>\n",
       "      <td>False</td>\n",
       "      <td>False</td>\n",
       "      <td>False</td>\n",
       "      <td>NaN</td>\n",
       "      <td>0.0</td>\n",
       "    </tr>\n",
       "    <tr>\n",
       "      <th>2</th>\n",
       "      <td>1318888111699599362</td>\n",
       "      <td>NaN</td>\n",
       "      <td>1290009888580657152</td>\n",
       "      <td>why_inn</td>\n",
       "      <td>2020-10-21 12:13:24+00:00</td>\n",
       "      <td>NaN</td>\n",
       "      <td>NaN</td>\n",
       "      <td>NaN</td>\n",
       "      <td>NaN</td>\n",
       "      <td>NaN</td>\n",
       "      <td>NaN</td>\n",
       "      <td>NaN</td>\n",
       "      <td>NaN</td>\n",
       "      <td>True</td>\n",
       "      <td>1318884437258571777</td>\n",
       "      <td>NaN</td>\n",
       "    </tr>\n",
       "    <tr>\n",
       "      <th>3</th>\n",
       "      <td>1321483993922023424</td>\n",
       "      <td>@realDonaldTrump Vote Biden🌊🌊🌊🌊🌊🌊🌊🌊🌊🌊🌊</td>\n",
       "      <td>922851359594033152</td>\n",
       "      <td>Janet06969062</td>\n",
       "      <td>2020-10-28 16:08:30+00:00</td>\n",
       "      <td>fr</td>\n",
       "      <td>0.0</td>\n",
       "      <td>0.0</td>\n",
       "      <td>0.0</td>\n",
       "      <td>0.0</td>\n",
       "      <td>NaN</td>\n",
       "      <td>True</td>\n",
       "      <td>False</td>\n",
       "      <td>False</td>\n",
       "      <td>NaN</td>\n",
       "      <td>0.0</td>\n",
       "    </tr>\n",
       "    <tr>\n",
       "      <th>4</th>\n",
       "      <td>1313626566694404096</td>\n",
       "      <td>NaN</td>\n",
       "      <td>3285934814</td>\n",
       "      <td>Bill4TruthTrump</td>\n",
       "      <td>2020-10-06 23:45:54+00:00</td>\n",
       "      <td>NaN</td>\n",
       "      <td>NaN</td>\n",
       "      <td>NaN</td>\n",
       "      <td>NaN</td>\n",
       "      <td>NaN</td>\n",
       "      <td>NaN</td>\n",
       "      <td>NaN</td>\n",
       "      <td>NaN</td>\n",
       "      <td>True</td>\n",
       "      <td>1313617592125448194</td>\n",
       "      <td>NaN</td>\n",
       "    </tr>\n",
       "  </tbody>\n",
       "</table>\n",
       "</div>"
      ],
      "text/plain": [
       "                   _id                                               text  \\\n",
       "0  1322162444786126848                      Winners attract other winners   \n",
       "1  1316829358686834688  NOW WE KNOW...C-SPAN Steve Sculley tried to ri...   \n",
       "2  1318888111699599362                                                NaN   \n",
       "3  1321483993922023424             @realDonaldTrump Vote Biden🌊🌊🌊🌊🌊🌊🌊🌊🌊🌊🌊   \n",
       "4  1313626566694404096                                                NaN   \n",
       "\n",
       "                userid      screen_name                created_at lang  \\\n",
       "0            289706821      thatguy0603 2020-10-30 13:04:26+00:00   en   \n",
       "1  1116507977828175872   FloridaDude297 2020-10-15 19:52:39+00:00   en   \n",
       "2  1290009888580657152          why_inn 2020-10-21 12:13:24+00:00  NaN   \n",
       "3   922851359594033152    Janet06969062 2020-10-28 16:08:30+00:00   fr   \n",
       "4           3285934814  Bill4TruthTrump 2020-10-06 23:45:54+00:00  NaN   \n",
       "\n",
       "   quote_count  reply_count  retweet_count  favorite_count  coordinates  \\\n",
       "0          0.0          0.0            0.0             0.0          NaN   \n",
       "1         12.0         28.0          681.0          1232.0          NaN   \n",
       "2          NaN          NaN            NaN             NaN          NaN   \n",
       "3          0.0          0.0            0.0             0.0          NaN   \n",
       "4          NaN          NaN            NaN             NaN          NaN   \n",
       "\n",
       "   reply  quote     RT            RT_source  nRTin  \n",
       "0  False   True  False                  NaN    0.0  \n",
       "1  False  False  False                  NaN    0.0  \n",
       "2    NaN    NaN   True  1318884437258571777    NaN  \n",
       "3   True  False  False                  NaN    0.0  \n",
       "4    NaN    NaN   True  1313617592125448194    NaN  "
      ]
     },
     "execution_count": 155,
     "metadata": {},
     "output_type": "execute_result"
    }
   ],
   "source": [
    "# para probar\n",
    "df.head()"
   ]
  },
  {
   "cell_type": "markdown",
   "id": "460955c3",
   "metadata": {},
   "source": [
    "Metadatos: \n",
    "\n",
    "    _id: identificador del tweet, es único\n",
    "    text: texto del tweet\n",
    "    userid: identificador del usuario, se puede repetir porque el mismo usuario puede tener varios tweets           \n",
    "    screen_name: nombre en twitter del usuario\n",
    "    created_at: fecha de emisión del tweet\n",
    "    lang: idioma del tweet\n",
    "    quote_count, reply_count, retweet_count, favorite_count: número de citas, respuestas, retweets y marcas como favorito de este tweet, respectivamente\n",
    "    coordinates: coordenadas desde las que se emitió\n",
    "    reply: True si el tweet es un reply, False en otro caso\n",
    "    quote: True si el tweet es una cita, False en otro caso\n",
    "    RT: True si el tweet es un retweet, False en otro caso\n",
    "    RT_source: Si RT==True  indica el `_id` del tweet original             \n",
    "    nRTin: número de retweets del tweet incluídos en este conjunto"
   ]
  },
  {
   "cell_type": "markdown",
   "id": "69d4ae73",
   "metadata": {},
   "source": [
    "**Ejercicio 2** \n",
    "\n",
    "a) A partir de `df.info()`seleccionar una columna candidata para ser borrada y borrarla. El resultado debe quedar en un dataframe `df2`"
   ]
  },
  {
   "cell_type": "code",
   "execution_count": 156,
   "id": "4c547004",
   "metadata": {},
   "outputs": [
    {
     "name": "stdout",
     "output_type": "stream",
     "text": [
      "<class 'pandas.core.frame.DataFrame'>\n",
      "RangeIndex: 8223 entries, 0 to 8222\n",
      "Data columns (total 15 columns):\n",
      " #   Column          Non-Null Count  Dtype              \n",
      "---  ------          --------------  -----              \n",
      " 0   _id             8223 non-null   object             \n",
      " 1   text            4126 non-null   object             \n",
      " 2   userid          8223 non-null   object             \n",
      " 3   screen_name     8223 non-null   object             \n",
      " 4   created_at      8223 non-null   datetime64[ns, UTC]\n",
      " 5   lang            4126 non-null   object             \n",
      " 6   quote_count     4126 non-null   float64            \n",
      " 7   reply_count     4126 non-null   float64            \n",
      " 8   retweet_count   4126 non-null   float64            \n",
      " 9   favorite_count  4126 non-null   float64            \n",
      " 10  reply           4126 non-null   object             \n",
      " 11  quote           4110 non-null   object             \n",
      " 12  RT              8223 non-null   bool               \n",
      " 13  RT_source       4097 non-null   object             \n",
      " 14  nRTin           4126 non-null   float64            \n",
      "dtypes: bool(1), datetime64[ns, UTC](1), float64(5), object(8)\n",
      "memory usage: 907.5+ KB\n"
     ]
    }
   ],
   "source": [
    "df2 = df.drop(columns=[\"coordinates\"])\n",
    "\n",
    "# para probar\n",
    "df2.info()"
   ]
  },
  {
   "cell_type": "markdown",
   "id": "8374c010",
   "metadata": {},
   "source": [
    "b) Utilizar la biblioteca `missingno` para mostrar gráficamente la matriz de nulos (método matrix) en `df2`"
   ]
  },
  {
   "cell_type": "code",
   "execution_count": 157,
   "id": "b89d2c9b",
   "metadata": {},
   "outputs": [
    {
     "data": {
      "text/plain": [
       "<Axes: >"
      ]
     },
     "execution_count": 157,
     "metadata": {},
     "output_type": "execute_result"
    },
    {
     "data": {
      "image/png": "[encoded data removed]",
      "text/plain": [
       "<Figure size 2500x1000 with 2 Axes>"
      ]
     },
     "metadata": {},
     "output_type": "display_data"
    }
   ],
   "source": [
    "import missingno as msno\n",
    "%matplotlib inline\n",
    "\n",
    "# solución\n",
    "msno.matrix(df2)"
   ]
  },
  {
   "cell_type": "markdown",
   "id": "55f9e188",
   "metadata": {},
   "source": [
    "¿Extraes alguna conclusión  a partir de la matriz? (no hace falta que sea una certeza, solo escribir si algo nos llama la atención). Una o 2 frases deben bastar"
   ]
  },
  {
   "cell_type": "markdown",
   "id": "79d9c62d",
   "metadata": {},
   "source": [
    "Comentario:\n",
    "\n"
   ]
  },
  {
   "cell_type": "markdown",
   "id": "19f70f9c",
   "metadata": {},
   "source": [
    "**Ejercicio 3** \n",
    "\n",
    "Escribir una función `columnas_con_nulos` con las siguientes características:\n",
    "\n",
    "- Nombre: columnas_con_nulos\n",
    "- Parámetros: df, un dataframe\n",
    "- Salida: lista con los nombres de columnas de df que tienen algún nulo\n",
    "\n",
    "Nota: si se usan bucles for la pregunta puntúa sobre 0.5\n",
    "\n"
   ]
  },
  {
   "cell_type": "code",
   "execution_count": 158,
   "id": "867e39fe",
   "metadata": {},
   "outputs": [
    {
     "data": {
      "text/plain": [
       "Index(['text', 'lang', 'quote_count', 'reply_count', 'retweet_count',\n",
       "       'favorite_count', 'reply', 'quote', 'RT_source', 'nRTin'],\n",
       "      dtype='object')"
      ]
     },
     "execution_count": 158,
     "metadata": {},
     "output_type": "execute_result"
    }
   ],
   "source": [
    "# solución\n",
    "\n",
    "# Alternativa df.dropna(axis=1,how=\"any\")\n",
    "\n",
    "def columnas_con_nulos(df):    \n",
    "    filtro = (df.isna().sum() > 0) # o df.isna().any()\n",
    "    colnulos = df.columns[filtro]\n",
    "    return colnulos\n",
    "    \n",
    "\n",
    "# para probar\n",
    "colnulos = columnas_con_nulos(df2)\n",
    "colnulos"
   ]
  },
  {
   "cell_type": "markdown",
   "id": "0bca720f",
   "metadata": {},
   "source": [
    "**Ejercicio 4** De nuevo con la biblioteca `msno` mostrar un heatmap de las columnas de df2 que tienen algún nulo, representadas por la variable `colnulos` dada a continuación"
   ]
  },
  {
   "cell_type": "code",
   "execution_count": 159,
   "id": "439db416",
   "metadata": {},
   "outputs": [
    {
     "data": {
      "text/plain": [
       "<Axes: >"
      ]
     },
     "execution_count": 159,
     "metadata": {},
     "output_type": "execute_result"
    },
    {
     "data": {
      "image/png": "[encoded data removed]",
      "text/plain": [
       "<Figure size 2000x1200 with 2 Axes>"
      ]
     },
     "metadata": {},
     "output_type": "display_data"
    }
   ],
   "source": [
    "colnulos = ['text', 'lang', 'quote_count', 'reply_count', 'retweet_count',\n",
    "       'favorite_count', 'reply', 'quote', 'RT_source', 'nRTin']\n",
    "\n",
    "# solución\n",
    "msno.heatmap(df2[colnulos])"
   ]
  },
  {
   "cell_type": "markdown",
   "id": "da800372",
   "metadata": {},
   "source": [
    "¿Qué conclusión sacas? Una o dos frases deben bastar "
   ]
  },
  {
   "cell_type": "markdown",
   "id": "91ddce8e",
   "metadata": {},
   "source": []
  },
  {
   "cell_type": "markdown",
   "id": "e290bd70",
   "metadata": {},
   "source": [
    "**Ejercicio 5** \n",
    "\n",
    "Vamos a dividir `df2` en dos dataframes: `df_original` que solo tiene tweets que tengan `RT` a False, y `df_RT`que solo tenga filas que tengan `RT`a True.  Observar que es una partición del dataframe ya que RT no tiene nulos y solo toma los valores True y False"
   ]
  },
  {
   "cell_type": "code",
   "execution_count": 160,
   "id": "a945976e",
   "metadata": {},
   "outputs": [],
   "source": [
    "# solución\n",
    "df_original = df2[~df2.RT]\n",
    "df_RT = df2[df2.RT]"
   ]
  },
  {
   "cell_type": "code",
   "execution_count": 161,
   "id": "8a1aac57",
   "metadata": {},
   "outputs": [
    {
     "name": "stdout",
     "output_type": "stream",
     "text": [
      "8223 8223\n",
      "<class 'pandas.core.frame.DataFrame'>\n",
      "Int64Index: 4126 entries, 0 to 8222\n",
      "Data columns (total 15 columns):\n",
      " #   Column          Non-Null Count  Dtype              \n",
      "---  ------          --------------  -----              \n",
      " 0   _id             4126 non-null   object             \n",
      " 1   text            4126 non-null   object             \n",
      " 2   userid          4126 non-null   object             \n",
      " 3   screen_name     4126 non-null   object             \n",
      " 4   created_at      4126 non-null   datetime64[ns, UTC]\n",
      " 5   lang            4126 non-null   object             \n",
      " 6   quote_count     4126 non-null   float64            \n",
      " 7   reply_count     4126 non-null   float64            \n",
      " 8   retweet_count   4126 non-null   float64            \n",
      " 9   favorite_count  4126 non-null   float64            \n",
      " 10  reply           4126 non-null   object             \n",
      " 11  quote           4110 non-null   object             \n",
      " 12  RT              4126 non-null   bool               \n",
      " 13  RT_source       0 non-null      object             \n",
      " 14  nRTin           4126 non-null   float64            \n",
      "dtypes: bool(1), datetime64[ns, UTC](1), float64(5), object(8)\n",
      "memory usage: 487.5+ KB\n"
     ]
    }
   ],
   "source": [
    "# para probar\n",
    "print(len(df2), len(df_RT)+len(df_original))\n",
    "df_original.info()"
   ]
  },
  {
   "cell_type": "code",
   "execution_count": 162,
   "id": "104ac92e",
   "metadata": {},
   "outputs": [
    {
     "name": "stdout",
     "output_type": "stream",
     "text": [
      "<class 'pandas.core.frame.DataFrame'>\n",
      "Int64Index: 4097 entries, 2 to 7999\n",
      "Data columns (total 15 columns):\n",
      " #   Column          Non-Null Count  Dtype              \n",
      "---  ------          --------------  -----              \n",
      " 0   _id             4097 non-null   object             \n",
      " 1   text            0 non-null      object             \n",
      " 2   userid          4097 non-null   object             \n",
      " 3   screen_name     4097 non-null   object             \n",
      " 4   created_at      4097 non-null   datetime64[ns, UTC]\n",
      " 5   lang            0 non-null      object             \n",
      " 6   quote_count     0 non-null      float64            \n",
      " 7   reply_count     0 non-null      float64            \n",
      " 8   retweet_count   0 non-null      float64            \n",
      " 9   favorite_count  0 non-null      float64            \n",
      " 10  reply           0 non-null      object             \n",
      " 11  quote           0 non-null      object             \n",
      " 12  RT              4097 non-null   bool               \n",
      " 13  RT_source       4097 non-null   object             \n",
      " 14  nRTin           0 non-null      float64            \n",
      "dtypes: bool(1), datetime64[ns, UTC](1), float64(5), object(8)\n",
      "memory usage: 484.1+ KB\n"
     ]
    }
   ],
   "source": [
    "# para probar\n",
    "df_RT.info()"
   ]
  },
  {
   "cell_type": "markdown",
   "id": "dc1bc000",
   "metadata": {},
   "source": [
    "**Ejercicio 6** Decidir a partir del resultado de las llamadas a info() (y del sentido común) qué columnas se pueden eliminar en cada caso. Eliminarlas dejando el resultado en el mismo dataframe.\n",
    "\n",
    "Nota: \n",
    "- No borrar \"_id\", \"userid\" o \"screen_name\", vamos a utlizarlas más adelante\n",
    "- se pueden escribir los nombres de las columnas explícitamente (\"a mano\"), pero entonces el apartado vale 0.25 en lugar de 1, es preferible programar el criterio que se haya elegido para su eliminación\n"
   ]
  },
  {
   "cell_type": "code",
   "execution_count": 175,
   "id": "99250fbe",
   "metadata": {},
   "outputs": [
    {
     "data": {
      "text/plain": [
       "_id               False\n",
       "text              False\n",
       "userid            False\n",
       "screen_name       False\n",
       "created_at        False\n",
       "lang              False\n",
       "quote_count       False\n",
       "reply_count       False\n",
       "retweet_count     False\n",
       "favorite_count    False\n",
       "coordinates        True\n",
       "reply             False\n",
       "quote             False\n",
       "RT                False\n",
       "RT_source         False\n",
       "nRTin             False\n",
       "dtype: bool"
      ]
     },
     "execution_count": 175,
     "metadata": {},
     "output_type": "execute_result"
    }
   ],
   "source": [
    "df.isna().all()"
   ]
  },
  {
   "cell_type": "code",
   "execution_count": 163,
   "id": "a7566f54",
   "metadata": {},
   "outputs": [],
   "source": [
    "# solución\n",
    "\n",
    "# alternativa seguramente más sencilla y elegante: df.dropna(axis=1,how=\"all\")\n",
    "def columnas_todo_nulos(df):    \n",
    "    filtro = (df.isna().sum()== df.shape[0]) # df.isna().all()\n",
    "    colnulos = df.columns[filtro]\n",
    "    return colnulos\n",
    "\n",
    "def columnas_unsolovalor(df):    \n",
    "    unosolo = []\n",
    "    for c in df:\n",
    "        n= len(df[c].unique())\n",
    "        if n==1:\n",
    "            unosolo.append(c)\n",
    "    return  unosolo\n",
    "\n",
    "    \n",
    "df_RT = df_RT.drop(columns=list(columnas_todo_nulos(df_RT)) + list(columnas_unsolovalor(df_RT)))\n",
    "df_original = df_original.drop(columns=list(columnas_todo_nulos(df_original)) + list(columnas_unsolovalor(df_original)))"
   ]
  },
  {
   "cell_type": "code",
   "execution_count": 164,
   "id": "a0cf83d3",
   "metadata": {},
   "outputs": [
    {
     "data": {
      "text/html": [
       "<div>\n",
       "<style scoped>\n",
       "    .dataframe tbody tr th:only-of-type {\n",
       "        vertical-align: middle;\n",
       "    }\n",
       "\n",
       "    .dataframe tbody tr th {\n",
       "        vertical-align: top;\n",
       "    }\n",
       "\n",
       "    .dataframe thead th {\n",
       "        text-align: right;\n",
       "    }\n",
       "</style>\n",
       "<table border=\"1\" class=\"dataframe\">\n",
       "  <thead>\n",
       "    <tr style=\"text-align: right;\">\n",
       "      <th></th>\n",
       "      <th>_id</th>\n",
       "      <th>userid</th>\n",
       "      <th>screen_name</th>\n",
       "      <th>created_at</th>\n",
       "      <th>RT_source</th>\n",
       "    </tr>\n",
       "  </thead>\n",
       "  <tbody>\n",
       "    <tr>\n",
       "      <th>2</th>\n",
       "      <td>1318888111699599362</td>\n",
       "      <td>1290009888580657152</td>\n",
       "      <td>why_inn</td>\n",
       "      <td>2020-10-21 12:13:24+00:00</td>\n",
       "      <td>1318884437258571777</td>\n",
       "    </tr>\n",
       "    <tr>\n",
       "      <th>4</th>\n",
       "      <td>1313626566694404096</td>\n",
       "      <td>3285934814</td>\n",
       "      <td>Bill4TruthTrump</td>\n",
       "      <td>2020-10-06 23:45:54+00:00</td>\n",
       "      <td>1313617592125448194</td>\n",
       "    </tr>\n",
       "    <tr>\n",
       "      <th>5</th>\n",
       "      <td>1323494450883166208</td>\n",
       "      <td>897848315752071169</td>\n",
       "      <td>HamilBaltisar</td>\n",
       "      <td>2020-11-03 05:17:21+00:00</td>\n",
       "      <td>1323467682671415302</td>\n",
       "    </tr>\n",
       "    <tr>\n",
       "      <th>6</th>\n",
       "      <td>1312583721090867200</td>\n",
       "      <td>247903672</td>\n",
       "      <td>mike4libertyCA</td>\n",
       "      <td>2020-10-04 02:42:00+00:00</td>\n",
       "      <td>1312560078717943809</td>\n",
       "    </tr>\n",
       "    <tr>\n",
       "      <th>7</th>\n",
       "      <td>1315739228869808128</td>\n",
       "      <td>1288936715793571840</td>\n",
       "      <td>RichCrowe5</td>\n",
       "      <td>2020-10-12 19:40:52+00:00</td>\n",
       "      <td>1315736794982281224</td>\n",
       "    </tr>\n",
       "  </tbody>\n",
       "</table>\n",
       "</div>"
      ],
      "text/plain": [
       "                   _id               userid      screen_name  \\\n",
       "2  1318888111699599362  1290009888580657152          why_inn   \n",
       "4  1313626566694404096           3285934814  Bill4TruthTrump   \n",
       "5  1323494450883166208   897848315752071169    HamilBaltisar   \n",
       "6  1312583721090867200            247903672   mike4libertyCA   \n",
       "7  1315739228869808128  1288936715793571840       RichCrowe5   \n",
       "\n",
       "                 created_at            RT_source  \n",
       "2 2020-10-21 12:13:24+00:00  1318884437258571777  \n",
       "4 2020-10-06 23:45:54+00:00  1313617592125448194  \n",
       "5 2020-11-03 05:17:21+00:00  1323467682671415302  \n",
       "6 2020-10-04 02:42:00+00:00  1312560078717943809  \n",
       "7 2020-10-12 19:40:52+00:00  1315736794982281224  "
      ]
     },
     "execution_count": 164,
     "metadata": {},
     "output_type": "execute_result"
    }
   ],
   "source": [
    "# para probar\n",
    "df_RT.head()"
   ]
  },
  {
   "cell_type": "code",
   "execution_count": 165,
   "id": "1d4b6c5c",
   "metadata": {},
   "outputs": [
    {
     "data": {
      "text/html": [
       "<div>\n",
       "<style scoped>\n",
       "    .dataframe tbody tr th:only-of-type {\n",
       "        vertical-align: middle;\n",
       "    }\n",
       "\n",
       "    .dataframe tbody tr th {\n",
       "        vertical-align: top;\n",
       "    }\n",
       "\n",
       "    .dataframe thead th {\n",
       "        text-align: right;\n",
       "    }\n",
       "</style>\n",
       "<table border=\"1\" class=\"dataframe\">\n",
       "  <thead>\n",
       "    <tr style=\"text-align: right;\">\n",
       "      <th></th>\n",
       "      <th>_id</th>\n",
       "      <th>text</th>\n",
       "      <th>userid</th>\n",
       "      <th>screen_name</th>\n",
       "      <th>created_at</th>\n",
       "      <th>lang</th>\n",
       "      <th>quote_count</th>\n",
       "      <th>reply_count</th>\n",
       "      <th>retweet_count</th>\n",
       "      <th>favorite_count</th>\n",
       "      <th>reply</th>\n",
       "      <th>quote</th>\n",
       "      <th>nRTin</th>\n",
       "    </tr>\n",
       "  </thead>\n",
       "  <tbody>\n",
       "    <tr>\n",
       "      <th>0</th>\n",
       "      <td>1322162444786126848</td>\n",
       "      <td>Winners attract other winners</td>\n",
       "      <td>289706821</td>\n",
       "      <td>thatguy0603</td>\n",
       "      <td>2020-10-30 13:04:26+00:00</td>\n",
       "      <td>en</td>\n",
       "      <td>0.0</td>\n",
       "      <td>0.0</td>\n",
       "      <td>0.0</td>\n",
       "      <td>0.0</td>\n",
       "      <td>False</td>\n",
       "      <td>True</td>\n",
       "      <td>0.0</td>\n",
       "    </tr>\n",
       "    <tr>\n",
       "      <th>1</th>\n",
       "      <td>1316829358686834688</td>\n",
       "      <td>NOW WE KNOW...C-SPAN Steve Sculley tried to ri...</td>\n",
       "      <td>1116507977828175872</td>\n",
       "      <td>FloridaDude297</td>\n",
       "      <td>2020-10-15 19:52:39+00:00</td>\n",
       "      <td>en</td>\n",
       "      <td>12.0</td>\n",
       "      <td>28.0</td>\n",
       "      <td>681.0</td>\n",
       "      <td>1232.0</td>\n",
       "      <td>False</td>\n",
       "      <td>False</td>\n",
       "      <td>0.0</td>\n",
       "    </tr>\n",
       "    <tr>\n",
       "      <th>3</th>\n",
       "      <td>1321483993922023424</td>\n",
       "      <td>@realDonaldTrump Vote Biden🌊🌊🌊🌊🌊🌊🌊🌊🌊🌊🌊</td>\n",
       "      <td>922851359594033152</td>\n",
       "      <td>Janet06969062</td>\n",
       "      <td>2020-10-28 16:08:30+00:00</td>\n",
       "      <td>fr</td>\n",
       "      <td>0.0</td>\n",
       "      <td>0.0</td>\n",
       "      <td>0.0</td>\n",
       "      <td>0.0</td>\n",
       "      <td>True</td>\n",
       "      <td>False</td>\n",
       "      <td>0.0</td>\n",
       "    </tr>\n",
       "    <tr>\n",
       "      <th>9</th>\n",
       "      <td>1313497108566011905</td>\n",
       "      <td>@realDonaldTrump https://t.co/uU7arNqAKK</td>\n",
       "      <td>941136678369968129</td>\n",
       "      <td>Trump_4Prison</td>\n",
       "      <td>2020-10-06 15:11:28+00:00</td>\n",
       "      <td>und</td>\n",
       "      <td>0.0</td>\n",
       "      <td>0.0</td>\n",
       "      <td>0.0</td>\n",
       "      <td>0.0</td>\n",
       "      <td>True</td>\n",
       "      <td>False</td>\n",
       "      <td>0.0</td>\n",
       "    </tr>\n",
       "    <tr>\n",
       "      <th>10</th>\n",
       "      <td>1314650690866741248</td>\n",
       "      <td>@Johnny_Congress @SugengHaryono70 @TeamTrump @...</td>\n",
       "      <td>940807712161587200</td>\n",
       "      <td>GjsgloBug</td>\n",
       "      <td>2020-10-09 19:35:24+00:00</td>\n",
       "      <td>en</td>\n",
       "      <td>0.0</td>\n",
       "      <td>0.0</td>\n",
       "      <td>0.0</td>\n",
       "      <td>0.0</td>\n",
       "      <td>True</td>\n",
       "      <td>False</td>\n",
       "      <td>0.0</td>\n",
       "    </tr>\n",
       "  </tbody>\n",
       "</table>\n",
       "</div>"
      ],
      "text/plain": [
       "                    _id                                               text  \\\n",
       "0   1322162444786126848                      Winners attract other winners   \n",
       "1   1316829358686834688  NOW WE KNOW...C-SPAN Steve Sculley tried to ri...   \n",
       "3   1321483993922023424             @realDonaldTrump Vote Biden🌊🌊🌊🌊🌊🌊🌊🌊🌊🌊🌊   \n",
       "9   1313497108566011905           @realDonaldTrump https://t.co/uU7arNqAKK   \n",
       "10  1314650690866741248  @Johnny_Congress @SugengHaryono70 @TeamTrump @...   \n",
       "\n",
       "                 userid     screen_name                created_at lang  \\\n",
       "0             289706821     thatguy0603 2020-10-30 13:04:26+00:00   en   \n",
       "1   1116507977828175872  FloridaDude297 2020-10-15 19:52:39+00:00   en   \n",
       "3    922851359594033152   Janet06969062 2020-10-28 16:08:30+00:00   fr   \n",
       "9    941136678369968129   Trump_4Prison 2020-10-06 15:11:28+00:00  und   \n",
       "10   940807712161587200       GjsgloBug 2020-10-09 19:35:24+00:00   en   \n",
       "\n",
       "    quote_count  reply_count  retweet_count  favorite_count  reply  quote  \\\n",
       "0           0.0          0.0            0.0             0.0  False   True   \n",
       "1          12.0         28.0          681.0          1232.0  False  False   \n",
       "3           0.0          0.0            0.0             0.0   True  False   \n",
       "9           0.0          0.0            0.0             0.0   True  False   \n",
       "10          0.0          0.0            0.0             0.0   True  False   \n",
       "\n",
       "    nRTin  \n",
       "0     0.0  \n",
       "1     0.0  \n",
       "3     0.0  \n",
       "9     0.0  \n",
       "10    0.0  "
      ]
     },
     "execution_count": 165,
     "metadata": {},
     "output_type": "execute_result"
    }
   ],
   "source": [
    "# para probar\n",
    "df_original.head()"
   ]
  },
  {
   "cell_type": "markdown",
   "id": "cccb98e2",
   "metadata": {},
   "source": [
    "**Ejercicio 7**  Queremos saber qué proporción de elementos de `df_RT` son retweet de un elemento en `df_original`, es decir cumplen que \n",
    "`df_RT[\"RT_source\"]` aparece entre los `df_original[\"_id\"]`. Escribir un fragmento de código que muestre esta proporción como tanto por ciento con dos decimales"
   ]
  },
  {
   "cell_type": "code",
   "execution_count": 166,
   "id": "66344321",
   "metadata": {},
   "outputs": [
    {
     "data": {
      "text/plain": [
       "318"
      ]
     },
     "execution_count": 166,
     "metadata": {},
     "output_type": "execute_result"
    }
   ],
   "source": [
    "len(df_RT.merge(df_original, left_on=\"RT_source\", right_on='_id'))"
   ]
  },
  {
   "cell_type": "code",
   "execution_count": 167,
   "id": "40a9085f",
   "metadata": {},
   "outputs": [
    {
     "data": {
      "text/plain": [
       "7.76"
      ]
     },
     "execution_count": 167,
     "metadata": {},
     "output_type": "execute_result"
    }
   ],
   "source": [
    "round(100*len(df_RT.merge(df_original, left_on=\"RT_source\", right_on='_id'))/len(df_RT),2)"
   ]
  },
  {
   "cell_type": "markdown",
   "id": "84f9864c",
   "metadata": {},
   "source": [
    "**Ejercicio 8** Queremos eliminar de `df_original` las filas que corresponan a lenguajes que aparezcan menos de 10 veces en este dataframe. Dejar el resultado `df_original_lang`\n",
    "\n",
    "Ayuda: \n",
    "\n",
    "- El método df.c.value_counts() devuelve un valor de tipo Series donde el índice (index) es el cada valor distinto de c, ordenado de más a menos frecuente, y el valor es dicha frecuencia\n",
    "- El método df.c.isin(l) devuelve True para aquellos valores de c que estén en la lista l, y False en caso contrario"
   ]
  },
  {
   "cell_type": "code",
   "execution_count": 171,
   "id": "b3ec3e70",
   "metadata": {},
   "outputs": [
    {
     "data": {
      "text/plain": [
       "en     3336\n",
       "und     610\n",
       "es       43\n",
       "fr       26\n",
       "pt       20\n",
       "Name: lang, dtype: int64"
      ]
     },
     "execution_count": 171,
     "metadata": {},
     "output_type": "execute_result"
    }
   ],
   "source": [
    "# solución\n",
    "valores = df_original.lang.value_counts()\n",
    "filtro10 = valores>10\n",
    "langs = valores[filtro10].index\n",
    "df_original_lang = df_original[df_original.lang.isin(langs)] # también se podría con merge\n",
    "\n",
    "# para probar\n",
    "df_original_lang.lang.value_counts()"
   ]
  },
  {
   "cell_type": "markdown",
   "id": "5d90ac61",
   "metadata": {},
   "source": [
    "**Ejercicio 9** En `df_original_lang` (o en `df_original` si no se ha hecho el ejercicio anterior) reemplazar la columna `lang` por su conversión a datos numéricos mediante la técnica *one-hot encoding*. El resultado será un dataframe `df_onehot `."
   ]
  },
  {
   "cell_type": "code",
   "execution_count": 172,
   "id": "399cf02e",
   "metadata": {},
   "outputs": [
    {
     "name": "stdout",
     "output_type": "stream",
     "text": [
      "(4035, 18)\n",
      "Index(['index', '_id', 'text', 'userid', 'screen_name', 'created_at',\n",
      "       'quote_count', 'reply_count', 'retweet_count', 'favorite_count',\n",
      "       'reply', 'quote', 'nRTin', 'lang_en', 'lang_es', 'lang_fr', 'lang_pt',\n",
      "       'lang_und'],\n",
      "      dtype='object')\n"
     ]
    },
    {
     "data": {
      "text/html": [
       "<div>\n",
       "<style scoped>\n",
       "    .dataframe tbody tr th:only-of-type {\n",
       "        vertical-align: middle;\n",
       "    }\n",
       "\n",
       "    .dataframe tbody tr th {\n",
       "        vertical-align: top;\n",
       "    }\n",
       "\n",
       "    .dataframe thead th {\n",
       "        text-align: right;\n",
       "    }\n",
       "</style>\n",
       "<table border=\"1\" class=\"dataframe\">\n",
       "  <thead>\n",
       "    <tr style=\"text-align: right;\">\n",
       "      <th></th>\n",
       "      <th>index</th>\n",
       "      <th>_id</th>\n",
       "      <th>text</th>\n",
       "      <th>userid</th>\n",
       "      <th>screen_name</th>\n",
       "      <th>created_at</th>\n",
       "      <th>quote_count</th>\n",
       "      <th>reply_count</th>\n",
       "      <th>retweet_count</th>\n",
       "      <th>favorite_count</th>\n",
       "      <th>reply</th>\n",
       "      <th>quote</th>\n",
       "      <th>nRTin</th>\n",
       "      <th>lang_en</th>\n",
       "      <th>lang_es</th>\n",
       "      <th>lang_fr</th>\n",
       "      <th>lang_pt</th>\n",
       "      <th>lang_und</th>\n",
       "    </tr>\n",
       "  </thead>\n",
       "  <tbody>\n",
       "    <tr>\n",
       "      <th>0</th>\n",
       "      <td>0</td>\n",
       "      <td>1322162444786126848</td>\n",
       "      <td>Winners attract other winners</td>\n",
       "      <td>289706821</td>\n",
       "      <td>thatguy0603</td>\n",
       "      <td>2020-10-30 13:04:26+00:00</td>\n",
       "      <td>0.0</td>\n",
       "      <td>0.0</td>\n",
       "      <td>0.0</td>\n",
       "      <td>0.0</td>\n",
       "      <td>False</td>\n",
       "      <td>True</td>\n",
       "      <td>0.0</td>\n",
       "      <td>1.0</td>\n",
       "      <td>0.0</td>\n",
       "      <td>0.0</td>\n",
       "      <td>0.0</td>\n",
       "      <td>0.0</td>\n",
       "    </tr>\n",
       "    <tr>\n",
       "      <th>1</th>\n",
       "      <td>1</td>\n",
       "      <td>1316829358686834688</td>\n",
       "      <td>NOW WE KNOW...C-SPAN Steve Sculley tried to ri...</td>\n",
       "      <td>1116507977828175872</td>\n",
       "      <td>FloridaDude297</td>\n",
       "      <td>2020-10-15 19:52:39+00:00</td>\n",
       "      <td>12.0</td>\n",
       "      <td>28.0</td>\n",
       "      <td>681.0</td>\n",
       "      <td>1232.0</td>\n",
       "      <td>False</td>\n",
       "      <td>False</td>\n",
       "      <td>0.0</td>\n",
       "      <td>1.0</td>\n",
       "      <td>0.0</td>\n",
       "      <td>0.0</td>\n",
       "      <td>0.0</td>\n",
       "      <td>0.0</td>\n",
       "    </tr>\n",
       "    <tr>\n",
       "      <th>2</th>\n",
       "      <td>3</td>\n",
       "      <td>1321483993922023424</td>\n",
       "      <td>@realDonaldTrump Vote Biden🌊🌊🌊🌊🌊🌊🌊🌊🌊🌊🌊</td>\n",
       "      <td>922851359594033152</td>\n",
       "      <td>Janet06969062</td>\n",
       "      <td>2020-10-28 16:08:30+00:00</td>\n",
       "      <td>0.0</td>\n",
       "      <td>0.0</td>\n",
       "      <td>0.0</td>\n",
       "      <td>0.0</td>\n",
       "      <td>True</td>\n",
       "      <td>False</td>\n",
       "      <td>0.0</td>\n",
       "      <td>0.0</td>\n",
       "      <td>0.0</td>\n",
       "      <td>1.0</td>\n",
       "      <td>0.0</td>\n",
       "      <td>0.0</td>\n",
       "    </tr>\n",
       "    <tr>\n",
       "      <th>3</th>\n",
       "      <td>9</td>\n",
       "      <td>1313497108566011905</td>\n",
       "      <td>@realDonaldTrump https://t.co/uU7arNqAKK</td>\n",
       "      <td>941136678369968129</td>\n",
       "      <td>Trump_4Prison</td>\n",
       "      <td>2020-10-06 15:11:28+00:00</td>\n",
       "      <td>0.0</td>\n",
       "      <td>0.0</td>\n",
       "      <td>0.0</td>\n",
       "      <td>0.0</td>\n",
       "      <td>True</td>\n",
       "      <td>False</td>\n",
       "      <td>0.0</td>\n",
       "      <td>0.0</td>\n",
       "      <td>0.0</td>\n",
       "      <td>0.0</td>\n",
       "      <td>0.0</td>\n",
       "      <td>1.0</td>\n",
       "    </tr>\n",
       "    <tr>\n",
       "      <th>4</th>\n",
       "      <td>10</td>\n",
       "      <td>1314650690866741248</td>\n",
       "      <td>@Johnny_Congress @SugengHaryono70 @TeamTrump @...</td>\n",
       "      <td>940807712161587200</td>\n",
       "      <td>GjsgloBug</td>\n",
       "      <td>2020-10-09 19:35:24+00:00</td>\n",
       "      <td>0.0</td>\n",
       "      <td>0.0</td>\n",
       "      <td>0.0</td>\n",
       "      <td>0.0</td>\n",
       "      <td>True</td>\n",
       "      <td>False</td>\n",
       "      <td>0.0</td>\n",
       "      <td>1.0</td>\n",
       "      <td>0.0</td>\n",
       "      <td>0.0</td>\n",
       "      <td>0.0</td>\n",
       "      <td>0.0</td>\n",
       "    </tr>\n",
       "  </tbody>\n",
       "</table>\n",
       "</div>"
      ],
      "text/plain": [
       "   index                  _id  \\\n",
       "0      0  1322162444786126848   \n",
       "1      1  1316829358686834688   \n",
       "2      3  1321483993922023424   \n",
       "3      9  1313497108566011905   \n",
       "4     10  1314650690866741248   \n",
       "\n",
       "                                                text               userid  \\\n",
       "0                      Winners attract other winners            289706821   \n",
       "1  NOW WE KNOW...C-SPAN Steve Sculley tried to ri...  1116507977828175872   \n",
       "2             @realDonaldTrump Vote Biden🌊🌊🌊🌊🌊🌊🌊🌊🌊🌊🌊   922851359594033152   \n",
       "3           @realDonaldTrump https://t.co/uU7arNqAKK   941136678369968129   \n",
       "4  @Johnny_Congress @SugengHaryono70 @TeamTrump @...   940807712161587200   \n",
       "\n",
       "      screen_name                created_at  quote_count  reply_count  \\\n",
       "0     thatguy0603 2020-10-30 13:04:26+00:00          0.0          0.0   \n",
       "1  FloridaDude297 2020-10-15 19:52:39+00:00         12.0         28.0   \n",
       "2   Janet06969062 2020-10-28 16:08:30+00:00          0.0          0.0   \n",
       "3   Trump_4Prison 2020-10-06 15:11:28+00:00          0.0          0.0   \n",
       "4       GjsgloBug 2020-10-09 19:35:24+00:00          0.0          0.0   \n",
       "\n",
       "   retweet_count  favorite_count  reply  quote  nRTin  lang_en  lang_es  \\\n",
       "0            0.0             0.0  False   True    0.0      1.0      0.0   \n",
       "1          681.0          1232.0  False  False    0.0      1.0      0.0   \n",
       "2            0.0             0.0   True  False    0.0      0.0      0.0   \n",
       "3            0.0             0.0   True  False    0.0      0.0      0.0   \n",
       "4            0.0             0.0   True  False    0.0      1.0      0.0   \n",
       "\n",
       "   lang_fr  lang_pt  lang_und  \n",
       "0      0.0      0.0       0.0  \n",
       "1      0.0      0.0       0.0  \n",
       "2      1.0      0.0       0.0  \n",
       "3      0.0      0.0       1.0  \n",
       "4      0.0      0.0       0.0  "
      ]
     },
     "execution_count": 172,
     "metadata": {},
     "output_type": "execute_result"
    }
   ],
   "source": [
    "from sklearn.preprocessing import OneHotEncoder\n",
    "df_original_lang = df_original_lang.reset_index() # para evitar problemas de índices\n",
    "df_original = df_original.reset_index()\n",
    "\n",
    "# solución\n",
    "a_transformar = df_original_lang[[\"lang\"]]\n",
    "enc = OneHotEncoder(sparse_output=False)  # 1 método\n",
    "enc.fit(a_transformar)  #  2 el método \"aprende\"\n",
    "salida = enc.transform(a_transformar) # 3 aplicamos el método\n",
    "encoded_df = pd.DataFrame(salida,   columns=enc.get_feature_names_out())\n",
    "df_onehot = pd.concat([df_original_lang,encoded_df],axis=1)\n",
    "df_onehot = df_onehot.drop(columns=\"lang\")\n",
    "\n",
    "# para probar \n",
    "print(df_onehot.shape)\n",
    "print(df_onehot.columns)\n",
    "df_onehot.head()"
   ]
  },
  {
   "cell_type": "markdown",
   "id": "c9a07db6",
   "metadata": {},
   "source": [
    "**Ejercicio 10** (Difícil) En principio a cada  `userid` le debería corresponde un 'screen_name', pero sospechamos que no es así. Escribir código para mostrar la cantidad de `userid`s que tienen asociado más de un 'screen_name' en `df_original`. No se pueden utilizar bucles for ni listas intensionales"
   ]
  },
  {
   "cell_type": "code",
   "execution_count": 173,
   "id": "f08cdb2b",
   "metadata": {},
   "outputs": [
    {
     "data": {
      "text/plain": [
       "1"
      ]
     },
     "execution_count": 173,
     "metadata": {},
     "output_type": "execute_result"
    }
   ],
   "source": [
    "import numpy as np\n",
    "df_num_screen_name = df_original.pivot_table(index='userid', values='screen_name', aggfunc=lambda x: len(set(x)))\n",
    "filtro = df_num_screen_name.screen_name>1\n",
    "sum(filtro)"
   ]
  },
  {
   "cell_type": "code",
   "execution_count": 174,
   "id": "361c701d",
   "metadata": {},
   "outputs": [
    {
     "data": {
      "text/html": [
       "<div>\n",
       "<style scoped>\n",
       "    .dataframe tbody tr th:only-of-type {\n",
       "        vertical-align: middle;\n",
       "    }\n",
       "\n",
       "    .dataframe tbody tr th {\n",
       "        vertical-align: top;\n",
       "    }\n",
       "\n",
       "    .dataframe thead th {\n",
       "        text-align: right;\n",
       "    }\n",
       "</style>\n",
       "<table border=\"1\" class=\"dataframe\">\n",
       "  <thead>\n",
       "    <tr style=\"text-align: right;\">\n",
       "      <th></th>\n",
       "      <th>index</th>\n",
       "      <th>_id</th>\n",
       "      <th>text</th>\n",
       "      <th>userid</th>\n",
       "      <th>screen_name</th>\n",
       "      <th>created_at</th>\n",
       "      <th>lang</th>\n",
       "      <th>quote_count</th>\n",
       "      <th>reply_count</th>\n",
       "      <th>retweet_count</th>\n",
       "      <th>favorite_count</th>\n",
       "      <th>reply</th>\n",
       "      <th>quote</th>\n",
       "      <th>nRTin</th>\n",
       "    </tr>\n",
       "  </thead>\n",
       "  <tbody>\n",
       "    <tr>\n",
       "      <th>3977</th>\n",
       "      <td>8074</td>\n",
       "      <td>1319062581298876416</td>\n",
       "      <td>THREAD\\n\\nObama went out to berate @realDonald...</td>\n",
       "      <td>1157388784301793280</td>\n",
       "      <td>Bertoldo</td>\n",
       "      <td>2020-10-21 23:46:41+00:00</td>\n",
       "      <td>en</td>\n",
       "      <td>0.0</td>\n",
       "      <td>0.0</td>\n",
       "      <td>0.0</td>\n",
       "      <td>0.0</td>\n",
       "      <td>False</td>\n",
       "      <td>False</td>\n",
       "      <td>632.0</td>\n",
       "    </tr>\n",
       "    <tr>\n",
       "      <th>4074</th>\n",
       "      <td>8171</td>\n",
       "      <td>1314052650204164096</td>\n",
       "      <td>THREAD\\n\\nYou know what's funny, @realDonaldTr...</td>\n",
       "      <td>1157388784301793280</td>\n",
       "      <td>Aniceto</td>\n",
       "      <td>2020-10-08 03:59:00+00:00</td>\n",
       "      <td>en</td>\n",
       "      <td>0.0</td>\n",
       "      <td>0.0</td>\n",
       "      <td>1.0</td>\n",
       "      <td>1.0</td>\n",
       "      <td>False</td>\n",
       "      <td>False</td>\n",
       "      <td>335.0</td>\n",
       "    </tr>\n",
       "    <tr>\n",
       "      <th>4118</th>\n",
       "      <td>8215</td>\n",
       "      <td>1313923308916600832</td>\n",
       "      <td>THREAD\\n\\nAs I always say, @realDonaldTrump an...</td>\n",
       "      <td>1157388784301793280</td>\n",
       "      <td>COsweda</td>\n",
       "      <td>2020-10-07 19:25:03+00:00</td>\n",
       "      <td>en</td>\n",
       "      <td>0.0</td>\n",
       "      <td>0.0</td>\n",
       "      <td>0.0</td>\n",
       "      <td>0.0</td>\n",
       "      <td>False</td>\n",
       "      <td>False</td>\n",
       "      <td>412.0</td>\n",
       "    </tr>\n",
       "  </tbody>\n",
       "</table>\n",
       "</div>"
      ],
      "text/plain": [
       "      index                  _id  \\\n",
       "3977   8074  1319062581298876416   \n",
       "4074   8171  1314052650204164096   \n",
       "4118   8215  1313923308916600832   \n",
       "\n",
       "                                                   text               userid  \\\n",
       "3977  THREAD\\n\\nObama went out to berate @realDonald...  1157388784301793280   \n",
       "4074  THREAD\\n\\nYou know what's funny, @realDonaldTr...  1157388784301793280   \n",
       "4118  THREAD\\n\\nAs I always say, @realDonaldTrump an...  1157388784301793280   \n",
       "\n",
       "     screen_name                created_at lang  quote_count  reply_count  \\\n",
       "3977    Bertoldo 2020-10-21 23:46:41+00:00   en          0.0          0.0   \n",
       "4074     Aniceto 2020-10-08 03:59:00+00:00   en          0.0          0.0   \n",
       "4118     COsweda 2020-10-07 19:25:03+00:00   en          0.0          0.0   \n",
       "\n",
       "      retweet_count  favorite_count  reply  quote  nRTin  \n",
       "3977            0.0             0.0  False  False  632.0  \n",
       "4074            1.0             1.0  False  False  335.0  \n",
       "4118            0.0             0.0  False  False  412.0  "
      ]
     },
     "execution_count": 174,
     "metadata": {},
     "output_type": "execute_result"
    }
   ],
   "source": [
    "df_original[df_original[\"userid\"]==\"1157388784301793280\"]"
   ]
  },
  {
   "cell_type": "code",
   "execution_count": null,
   "id": "b944de30",
   "metadata": {},
   "outputs": [],
   "source": []
  }
 ],
 "metadata": {
  "kernelspec": {
   "display_name": "Python 3 (ipykernel)",
   "language": "python",
   "name": "python3"
  },
  "language_info": {
   "codemirror_mode": {
    "name": "ipython",
    "version": 3
   },
   "file_extension": ".py",
   "mimetype": "text/x-python",
   "name": "python",
   "nbconvert_exporter": "python",
   "pygments_lexer": "ipython3",
   "version": "3.10.9"
  }
 },
 "nbformat": 4,
 "nbformat_minor": 5
}
