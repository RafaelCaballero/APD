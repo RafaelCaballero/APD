{
 "cells": [
  {
   "cell_type": "markdown",
   "metadata": {},
   "source": [
    "\n",
    "<table>\n",
    "    <tr>\n",
    "      <td>Grado en Ingeniería de Datos e Inteligencia Artificial - Facultad de Informática - UCM\n",
    "      </td>\n",
    "      <td>\n",
    "      <img src=\"https://biblioteca.ucm.es/data/cont/media/www/pag-88746//escudo.jpg\"  width=50/>\n",
    "      </td>\n",
    "     </tr>\n",
    "</table>\n",
    "\n",
    "\n",
    "## Adquisición y preprocesamiento de la información\n",
    "\n",
    "### Práctica \n",
    "\n",
    "No olvidéis los dos nombres de los miembros del grupo"
   ]
  },
  {
   "cell_type": "markdown",
   "metadata": {},
   "source": [
    "Nombre 1: \n",
    "Nombre 2:"
   ]
  },
  {
   "cell_type": "markdown",
   "metadata": {},
   "source": [
    "Ejecutar el siguiente código para asegurarse de que las bibliotecas que vamos a usar estar instaladas. En ocasiones conviene hacer \"Kernel+Restart\" tras la instalación para poder usarlas"
   ]
  },
  {
   "cell_type": "code",
   "execution_count": 1,
   "metadata": {},
   "outputs": [
    {
     "name": "stdout",
     "output_type": "stream",
     "text": [
      "Instalando módulos\n",
      "numpy  encontrado\n",
      "¡Terminado!\n"
     ]
    }
   ],
   "source": [
    "modules = [\"numpy\"]\n",
    "\n",
    "\n",
    "import sys\n",
    "import os.path\n",
    "from subprocess import check_call\n",
    "import importlib\n",
    "import os\n",
    "\n",
    "def instala(modules):\n",
    "    print(\"Instalando módulos\")\n",
    "    for m in modules:\n",
    "        # para el import quitamos [...] y ==...\n",
    "        p = m.find(\"[\")\n",
    "        mi = m if p==-1 else m[:p]\n",
    "        p = mi.find(\"==\")\n",
    "        mi = mi if p==-1 else mi[:p]\n",
    "        torch_loader = importlib.util.find_spec(mi)\n",
    "        if torch_loader is not None:\n",
    "            print(m,\" encontrado\")\n",
    "        else:\n",
    "            print(m,\" No encontrado, instalando...\",end=\"\")  \n",
    "            try:        \n",
    "                r = check_call([sys.executable, \"-m\", \"pip\", \"install\", \"--user\", m])\n",
    "                print(\"¡hecho!\")\n",
    "            except:\n",
    "                print(\"¡Problema al instalar \",m,\"! ¿seguro que el módulo existe?\",sep=\"\")\n",
    "\n",
    "    print(\"¡Terminado!\")\n",
    "\n",
    "instala(modules)  "
   ]
  },
  {
   "cell_type": "markdown",
   "metadata": {},
   "source": [
    "**Ejercicio 1**\n",
    "La lista `nombres` tiene nombres de personas y la lista `edades` sus edades. Añadir código para mostrar cada persona junto con su edad. Saldrá algo así\n",
    "\n",
    "    Melibea 18\n",
    "    Bertoldo 20\n",
    "    Herminia 23\n",
    "    Calixto 18\n",
    "    Aniceto 21"
   ]
  },
  {
   "cell_type": "code",
   "execution_count": 2,
   "metadata": {},
   "outputs": [
    {
     "name": "stdout",
     "output_type": "stream",
     "text": [
      "Melibea 18\n",
      "Bertoldo 20\n",
      "Herminia 23\n",
      "Calixto 18\n",
      "Aniceto 21\n"
     ]
    }
   ],
   "source": [
    "nombres = [\"Melibea\", \"Bertoldo\", \"Herminia\", \"Calixto\", \"Aniceto\"]\n",
    "edades = [18,20,23,18,21]\n",
    "\n",
    "## Solución\n",
    "for i in range(len(nombres)):\n",
    "    print(nombres[i],edades[i])\n"
   ]
  },
  {
   "cell_type": "markdown",
   "metadata": {},
   "source": [
    "**Ejercicio 2** Ahora escribir código para mostrar solo el nombre de la persona de más edad (si hubiera varias con la misma edad máxima el de una de ellas)"
   ]
  },
  {
   "cell_type": "code",
   "execution_count": 5,
   "metadata": {},
   "outputs": [
    {
     "name": "stdout",
     "output_type": "stream",
     "text": [
      "Herminia\n"
     ]
    }
   ],
   "source": [
    "# Solucion\n",
    "max_value = max(edades)\n",
    "max_index = edades.index(max_value)\n",
    "print(nombres[max_index])"
   ]
  },
  {
   "cell_type": "markdown",
   "metadata": {},
   "source": [
    "**Ejercicio 3** A partir de la listas `edades` y `nombres` queremos crear 4 listas: `edades20`, `nombres20` con las edades menores o iguales a 20 y sus nombres, y `edadesMasDe20`, `nombresMasDe20` con las edades y nombres de los que tienen más de 20 años"
   ]
  },
  {
   "cell_type": "code",
   "execution_count": 42,
   "metadata": {},
   "outputs": [],
   "source": [
    "# Solución\n",
    "mayorde20 = [p for p,edad in enumerate(edades) if edad>20]\n",
    "resto     = [p for p,edad in enumerate(edades) if edad<=20]\n",
    "\n",
    "edades20 = [edades[p] for p in resto]\n",
    "nombres20 = [nombres[p] for p in resto]\n",
    "\n",
    "edadesMasDe20 = [edades[p] for p in mayorde20]\n",
    "nombresMasDe20  = [nombres[p] for p in mayorde20]\n",
    "\n"
   ]
  },
  {
   "cell_type": "markdown",
   "metadata": {},
   "source": [
    "**Ejercicio 4** La sucesión de fibonacci es: 1,1,2,3,5,8...cada número es la suma de los dos anteriores. Calcular la lista `fib`de los n primeros números de fibonnaci para n>=2 completando el siguiente código"
   ]
  },
  {
   "cell_type": "code",
   "execution_count": 9,
   "metadata": {},
   "outputs": [
    {
     "name": "stdout",
     "output_type": "stream",
     "text": [
      "[1, 1, 2, 3, 5, 8, 13]\n"
     ]
    }
   ],
   "source": [
    "fib=[1,1] # partimos de los dos iniciales\n",
    "n = 7 # este es el número de elementos que quiero calcular (2 ya están calculados, por eso siempre n>=2)\n",
    "\n",
    "# Solución: completar el resto\n",
    "for n in range(2,n):\n",
    "    fib.append(fib[-1]+fib[-2])\n",
    "\n",
    "# mostramos el resultado que para n=7 será [1, 1, 2, 3, 5, 8, 13]\n",
    "print(fib)    "
   ]
  },
  {
   "cell_type": "markdown",
   "metadata": {},
   "source": [
    "**Ejercicio 5**\n",
    "Mostrar los caracteres comunes que tienen 2 strings (las repeticiones no cuentan, por ejemplo en el ejemplo se debe mostrar 'a' y ' ') "
   ]
  },
  {
   "cell_type": "code",
   "execution_count": 13,
   "metadata": {},
   "outputs": [
    {
     "data": {
      "text/plain": [
       "{' ', 'a'}"
      ]
     },
     "execution_count": 13,
     "metadata": {},
     "output_type": "execute_result"
    }
   ],
   "source": [
    "s1 = \"calla ya\"\n",
    "s2 = \"anda, anda\"\n",
    "\n",
    "# solución\n",
    "set(s1).intersection(s2)"
   ]
  },
  {
   "cell_type": "markdown",
   "metadata": {},
   "source": [
    "**Ejercicio 6**\n",
    "\n",
    "Encontrar si todos los elementos de una lista `l1` aparecen en otra `l2` (no importa si hay repeticiones); por ejemplo con los valores de prueba debe mostrar True, pero si a l1 le añadimos por ejemplo 17 debe mostrar false"
   ]
  },
  {
   "cell_type": "code",
   "execution_count": 16,
   "metadata": {},
   "outputs": [
    {
     "data": {
      "text/plain": [
       "True"
      ]
     },
     "execution_count": 16,
     "metadata": {},
     "output_type": "execute_result"
    }
   ],
   "source": [
    "l1 = [2,3,4,5]\n",
    "l2 = [6,7,4,2,1,3,5]\n",
    "\n",
    "# solucion\n",
    "set(l1).issubset(set(l2))"
   ]
  },
  {
   "cell_type": "markdown",
   "metadata": {},
   "source": [
    "**Ejercicio 7** Dada una lista de números generos al azar como la siguiente"
   ]
  },
  {
   "cell_type": "code",
   "execution_count": 40,
   "metadata": {},
   "outputs": [
    {
     "name": "stdout",
     "output_type": "stream",
     "text": [
      "[1, 81, 85, 61, 12, 74, 31, 13, 61, 78]\n"
     ]
    }
   ],
   "source": [
    "import random\n",
    "l = [random.randint(1,100) for n in range(10)]\n",
    "print(l)"
   ]
  },
  {
   "cell_type": "markdown",
   "metadata": {},
   "source": [
    "Escribir un código para determinar si hay algún múltiplo de 5 en `l`"
   ]
  },
  {
   "cell_type": "code",
   "execution_count": 41,
   "metadata": {},
   "outputs": [
    {
     "data": {
      "text/plain": [
       "True"
      ]
     },
     "execution_count": 41,
     "metadata": {},
     "output_type": "execute_result"
    }
   ],
   "source": [
    "# solucion\n",
    "any([x%5==0 for x in l])"
   ]
  },
  {
   "cell_type": "markdown",
   "metadata": {},
   "source": [
    "**Ejercicio 8**\n",
    "\n",
    "Queremos conocer la edad de Bertoldo en el siguiente diccionario, agregar código para extraer este valor"
   ]
  },
  {
   "cell_type": "code",
   "execution_count": 23,
   "metadata": {},
   "outputs": [
    {
     "data": {
      "text/plain": [
       "30"
      ]
     },
     "execution_count": 23,
     "metadata": {},
     "output_type": "execute_result"
    }
   ],
   "source": [
    "d = {'bertoldo': {'datos':{'nombreCompleto':' Bertoldo Peláez', 'edad':30} } }\n",
    "\n",
    "# solucion\n",
    "d[\"bertoldo\"][\"datos\"][\"edad\"]"
   ]
  },
  {
   "cell_type": "markdown",
   "metadata": {},
   "source": [
    "**Ejercicio 9**"
   ]
  },
  {
   "cell_type": "markdown",
   "metadata": {},
   "source": [
    "Dada una lista de posiciones `p` y otra con números `l`, generar una nueva lita `l2` con los elementos de `l` obtenidos al extraer los números indicados en las posiciones.\n",
    "\n",
    "En el ejemplo: [505, 202, 909, 1101]"
   ]
  },
  {
   "cell_type": "code",
   "execution_count": 25,
   "metadata": {},
   "outputs": [
    {
     "data": {
      "text/plain": [
       "[505, 202, 909, 1101]"
      ]
     },
     "execution_count": 25,
     "metadata": {},
     "output_type": "execute_result"
    }
   ],
   "source": [
    "p = [4,1,8,10]\n",
    "l = [101,202,303,404,505,606,707,808,909,1001,1101,1102]\n",
    "# solución\n",
    "[l[i] for i in p]"
   ]
  },
  {
   "cell_type": "markdown",
   "metadata": {},
   "source": [
    "**Ejercicio 10**\n",
    "Dada una lista de números enteros positivos `l` generar una lista de listas donde el elemento iésimo sea de la forma [1...l[i]].\n",
    "\n",
    "Por ejemplo, para el ejemplo la salida esperada será `[[1, 2], [1, 2, 3, 4, 5], [1, 2, 3, 4, 5, 6], [1, 2, 3, 4, 5, 6, 7], [1]]`\n",
    "\n",
    "Nota: 1 punto con listas intensionales, 0.5 sin listas intensionales"
   ]
  },
  {
   "cell_type": "code",
   "execution_count": 22,
   "metadata": {},
   "outputs": [
    {
     "data": {
      "text/plain": [
       "[[1, 2], [1, 2, 3, 4, 5], [1, 2, 3, 4, 5, 6], [1, 2, 3, 4, 5, 6, 7], [1]]"
      ]
     },
     "execution_count": 22,
     "metadata": {},
     "output_type": "execute_result"
    }
   ],
   "source": [
    "l = [2,5,6,7,1]\n",
    "\n",
    "# solucion\n",
    "[ [n for n in range(1,v+1)] for i,v in enumerate(l)]"
   ]
  },
  {
   "cell_type": "markdown",
   "metadata": {},
   "source": [
    "Entrega: \n",
    "\n",
    "1) File+Download As (Notebook) para descargar el archivo. \n",
    "2) Subir el fichero a la entrega del campus"
   ]
  }
 ],
 "metadata": {
  "kernelspec": {
   "display_name": "Python 3",
   "language": "python",
   "name": "python3"
  },
  "language_info": {
   "codemirror_mode": {
    "name": "ipython",
    "version": 3
   },
   "file_extension": ".py",
   "mimetype": "text/x-python",
   "name": "python",
   "nbconvert_exporter": "python",
   "pygments_lexer": "ipython3",
   "version": "3.8.5"
  }
 },
 "nbformat": 4,
 "nbformat_minor": 4
}
