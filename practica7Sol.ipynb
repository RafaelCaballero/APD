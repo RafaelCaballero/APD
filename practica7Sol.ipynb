{
 "cells": [
  {
   "cell_type": "markdown",
   "metadata": {},
   "source": [
    "## Adquisición y preprocesamiento de la información\n",
    "\n",
    "<table>\n",
    "    <tr>\n",
    "      <td>Grado en Ingeniería de Datos e Inteligencia Artificial - Facultad de Informática - UCM\n",
    "      </td>\n",
    "      <td>\n",
    "      <img src=\"https://biblioteca.ucm.es/data/cont/media/www/pag-88746//escudo.jpg\"  width=50/>\n",
    "      </td>\n",
    "     </tr>\n",
    "</table>\n",
    "\n",
    "\n",
    "\n",
    "\n",
    "### Práctica 7 -Solución\n",
    "\n",
    "No olvidéis los nombres de los dos componentes del grupo\n"
   ]
  },
  {
   "cell_type": "markdown",
   "metadata": {},
   "source": [
    "Nombre 1:\n",
    "\n",
    "Nombre 2:"
   ]
  },
  {
   "cell_type": "markdown",
   "metadata": {},
   "source": [
    "\n",
    "<img src=\"https://grist.org/wp-content/uploads/2020/03/gettyimages-1179212574-e1584114897219.jpg\" width=400/>\n",
    "\n",
    "Vamos a analizar un fichero con datos de [viajes en bicicleta](https://www.kaggle.com/datasets/gabrielramos87/bike-trips) por Nueva York extraído de Kaggle.\n",
    "\n",
    "**Ejercicio 1**  Leer el fichero desde la URL `url` teniendo en cuenta que las columnas \"start_time\" y \"stop_time\" son de tipo *datetime* (ver [aquí](https://stackoverflow.com/questions/21269399/datetime-dtypes-in-pandas-read-csv)). El resultado debe quedar en un dataframe de Pandas con nombre `df_raw`"
   ]
  },
  {
   "cell_type": "code",
   "execution_count": 3,
   "metadata": {
    "scrolled": true
   },
   "outputs": [
    {
     "data": {
      "text/html": [
       "<div>\n",
       "<style scoped>\n",
       "    .dataframe tbody tr th:only-of-type {\n",
       "        vertical-align: middle;\n",
       "    }\n",
       "\n",
       "    .dataframe tbody tr th {\n",
       "        vertical-align: top;\n",
       "    }\n",
       "\n",
       "    .dataframe thead th {\n",
       "        text-align: right;\n",
       "    }\n",
       "</style>\n",
       "<table border=\"1\" class=\"dataframe\">\n",
       "  <thead>\n",
       "    <tr style=\"text-align: right;\">\n",
       "      <th></th>\n",
       "      <th>start_time</th>\n",
       "      <th>stop_time</th>\n",
       "      <th>start_station_id</th>\n",
       "      <th>end_station_id</th>\n",
       "      <th>user_type</th>\n",
       "      <th>bike_id</th>\n",
       "      <th>gender</th>\n",
       "      <th>age</th>\n",
       "      <th>trip_duration</th>\n",
       "    </tr>\n",
       "  </thead>\n",
       "  <tbody>\n",
       "    <tr>\n",
       "      <th>0</th>\n",
       "      <td>2018-05-09 18:43:16</td>\n",
       "      <td>2018-05-09 19:02:25</td>\n",
       "      <td>362</td>\n",
       "      <td>3467</td>\n",
       "      <td>Subscriber</td>\n",
       "      <td>15063</td>\n",
       "      <td>male</td>\n",
       "      <td>23</td>\n",
       "      <td>19.15</td>\n",
       "    </tr>\n",
       "    <tr>\n",
       "      <th>1</th>\n",
       "      <td>2018-05-23 20:12:08</td>\n",
       "      <td>2018-05-23 20:28:10</td>\n",
       "      <td>3059</td>\n",
       "      <td>3420</td>\n",
       "      <td>Subscriber</td>\n",
       "      <td>27714</td>\n",
       "      <td>female</td>\n",
       "      <td>33</td>\n",
       "      <td>16.03</td>\n",
       "    </tr>\n",
       "    <tr>\n",
       "      <th>2</th>\n",
       "      <td>2018-05-02 17:47:11</td>\n",
       "      <td>2018-05-02 17:59:53</td>\n",
       "      <td>3664</td>\n",
       "      <td>3002</td>\n",
       "      <td>Subscriber</td>\n",
       "      <td>21317</td>\n",
       "      <td>female</td>\n",
       "      <td>24</td>\n",
       "      <td>12.68</td>\n",
       "    </tr>\n",
       "    <tr>\n",
       "      <th>3</th>\n",
       "      <td>2018-05-21 08:22:28</td>\n",
       "      <td>2018-05-21 08:39:51</td>\n",
       "      <td>3569</td>\n",
       "      <td>3381</td>\n",
       "      <td>Subscriber</td>\n",
       "      <td>30276</td>\n",
       "      <td>male</td>\n",
       "      <td>34</td>\n",
       "      <td>17.37</td>\n",
       "    </tr>\n",
       "    <tr>\n",
       "      <th>4</th>\n",
       "      <td>2018-05-31 17:35:25</td>\n",
       "      <td>2018-05-31 18:06:53</td>\n",
       "      <td>474</td>\n",
       "      <td>3331</td>\n",
       "      <td>Subscriber</td>\n",
       "      <td>30135</td>\n",
       "      <td>female</td>\n",
       "      <td>31</td>\n",
       "      <td>31.47</td>\n",
       "    </tr>\n",
       "    <tr>\n",
       "      <th>...</th>\n",
       "      <td>...</td>\n",
       "      <td>...</td>\n",
       "      <td>...</td>\n",
       "      <td>...</td>\n",
       "      <td>...</td>\n",
       "      <td>...</td>\n",
       "      <td>...</td>\n",
       "      <td>...</td>\n",
       "      <td>...</td>\n",
       "    </tr>\n",
       "    <tr>\n",
       "      <th>49995</th>\n",
       "      <td>2018-05-04 08:02:55</td>\n",
       "      <td>2018-05-04 08:07:30</td>\n",
       "      <td>3300</td>\n",
       "      <td>3418</td>\n",
       "      <td>Subscriber</td>\n",
       "      <td>15221</td>\n",
       "      <td>female</td>\n",
       "      <td>51</td>\n",
       "      <td>4.58</td>\n",
       "    </tr>\n",
       "    <tr>\n",
       "      <th>49996</th>\n",
       "      <td>2018-05-26 13:46:37</td>\n",
       "      <td>2018-05-26 13:59:25</td>\n",
       "      <td>315</td>\n",
       "      <td>2008</td>\n",
       "      <td>Subscriber</td>\n",
       "      <td>33294</td>\n",
       "      <td>male</td>\n",
       "      <td>58</td>\n",
       "      <td>12.80</td>\n",
       "    </tr>\n",
       "    <tr>\n",
       "      <th>49997</th>\n",
       "      <td>2018-05-31 08:04:40</td>\n",
       "      <td>2018-05-31 08:11:49</td>\n",
       "      <td>537</td>\n",
       "      <td>293</td>\n",
       "      <td>Subscriber</td>\n",
       "      <td>32148</td>\n",
       "      <td>male</td>\n",
       "      <td>56</td>\n",
       "      <td>7.13</td>\n",
       "    </tr>\n",
       "    <tr>\n",
       "      <th>49998</th>\n",
       "      <td>2018-05-24 17:31:36</td>\n",
       "      <td>2018-05-24 17:53:50</td>\n",
       "      <td>492</td>\n",
       "      <td>317</td>\n",
       "      <td>Subscriber</td>\n",
       "      <td>17055</td>\n",
       "      <td>male</td>\n",
       "      <td>28</td>\n",
       "      <td>22.23</td>\n",
       "    </tr>\n",
       "    <tr>\n",
       "      <th>49999</th>\n",
       "      <td>2018-05-07 17:07:06</td>\n",
       "      <td>2018-05-07 17:09:46</td>\n",
       "      <td>3233</td>\n",
       "      <td>228</td>\n",
       "      <td>Subscriber</td>\n",
       "      <td>19366</td>\n",
       "      <td>male</td>\n",
       "      <td>38</td>\n",
       "      <td>2.67</td>\n",
       "    </tr>\n",
       "  </tbody>\n",
       "</table>\n",
       "<p>50000 rows × 9 columns</p>\n",
       "</div>"
      ],
      "text/plain": [
       "               start_time           stop_time  start_station_id  \\\n",
       "0     2018-05-09 18:43:16 2018-05-09 19:02:25               362   \n",
       "1     2018-05-23 20:12:08 2018-05-23 20:28:10              3059   \n",
       "2     2018-05-02 17:47:11 2018-05-02 17:59:53              3664   \n",
       "3     2018-05-21 08:22:28 2018-05-21 08:39:51              3569   \n",
       "4     2018-05-31 17:35:25 2018-05-31 18:06:53               474   \n",
       "...                   ...                 ...               ...   \n",
       "49995 2018-05-04 08:02:55 2018-05-04 08:07:30              3300   \n",
       "49996 2018-05-26 13:46:37 2018-05-26 13:59:25               315   \n",
       "49997 2018-05-31 08:04:40 2018-05-31 08:11:49               537   \n",
       "49998 2018-05-24 17:31:36 2018-05-24 17:53:50               492   \n",
       "49999 2018-05-07 17:07:06 2018-05-07 17:09:46              3233   \n",
       "\n",
       "       end_station_id   user_type  bike_id  gender  age  trip_duration  \n",
       "0                3467  Subscriber    15063    male   23          19.15  \n",
       "1                3420  Subscriber    27714  female   33          16.03  \n",
       "2                3002  Subscriber    21317  female   24          12.68  \n",
       "3                3381  Subscriber    30276    male   34          17.37  \n",
       "4                3331  Subscriber    30135  female   31          31.47  \n",
       "...               ...         ...      ...     ...  ...            ...  \n",
       "49995            3418  Subscriber    15221  female   51           4.58  \n",
       "49996            2008  Subscriber    33294    male   58          12.80  \n",
       "49997             293  Subscriber    32148    male   56           7.13  \n",
       "49998             317  Subscriber    17055    male   28          22.23  \n",
       "49999             228  Subscriber    19366    male   38           2.67  \n",
       "\n",
       "[50000 rows x 9 columns]"
      ]
     },
     "execution_count": 3,
     "metadata": {},
     "output_type": "execute_result"
    }
   ],
   "source": [
    "import pandas as pd\n",
    "import numpy as np\n",
    "import seaborn as sns \n",
    "from matplotlib import pyplot as plt\n",
    "\n",
    "url= \"https://github.com/RafaelCaballero/tdm/raw/master/datos/NYbike.zip\"\n",
    "\n",
    "# solución\n",
    "df_raw = pd.read_csv(url,parse_dates=[\"start_time\", \"stop_time\"])\n",
    "\n",
    "# para ver el contenido\n",
    "df_raw"
   ]
  },
  {
   "cell_type": "code",
   "execution_count": 4,
   "metadata": {},
   "outputs": [
    {
     "name": "stdout",
     "output_type": "stream",
     "text": [
      "<class 'pandas.core.frame.DataFrame'>\n",
      "RangeIndex: 50000 entries, 0 to 49999\n",
      "Data columns (total 9 columns):\n",
      " #   Column            Non-Null Count  Dtype         \n",
      "---  ------            --------------  -----         \n",
      " 0   start_time        50000 non-null  datetime64[ns]\n",
      " 1   stop_time         50000 non-null  datetime64[ns]\n",
      " 2   start_station_id  50000 non-null  int64         \n",
      " 3   end_station_id    50000 non-null  int64         \n",
      " 4   user_type         50000 non-null  object        \n",
      " 5   bike_id           50000 non-null  int64         \n",
      " 6   gender            50000 non-null  object        \n",
      " 7   age               50000 non-null  int64         \n",
      " 8   trip_duration     50000 non-null  float64       \n",
      "dtypes: datetime64[ns](2), float64(1), int64(4), object(2)\n",
      "memory usage: 3.4+ MB\n"
     ]
    }
   ],
   "source": [
    "df_raw.info()"
   ]
  },
  {
   "cell_type": "code",
   "execution_count": 5,
   "metadata": {},
   "outputs": [
    {
     "data": {
      "text/html": [
       "<div>\n",
       "<style scoped>\n",
       "    .dataframe tbody tr th:only-of-type {\n",
       "        vertical-align: middle;\n",
       "    }\n",
       "\n",
       "    .dataframe tbody tr th {\n",
       "        vertical-align: top;\n",
       "    }\n",
       "\n",
       "    .dataframe thead th {\n",
       "        text-align: right;\n",
       "    }\n",
       "</style>\n",
       "<table border=\"1\" class=\"dataframe\">\n",
       "  <thead>\n",
       "    <tr style=\"text-align: right;\">\n",
       "      <th></th>\n",
       "      <th>start_station_id</th>\n",
       "      <th>end_station_id</th>\n",
       "      <th>bike_id</th>\n",
       "      <th>age</th>\n",
       "      <th>trip_duration</th>\n",
       "    </tr>\n",
       "  </thead>\n",
       "  <tbody>\n",
       "    <tr>\n",
       "      <th>count</th>\n",
       "      <td>50000.000000</td>\n",
       "      <td>50000.000000</td>\n",
       "      <td>50000.000000</td>\n",
       "      <td>50000.000000</td>\n",
       "      <td>50000.000000</td>\n",
       "    </tr>\n",
       "    <tr>\n",
       "      <th>mean</th>\n",
       "      <td>1556.719200</td>\n",
       "      <td>1541.566800</td>\n",
       "      <td>26192.324520</td>\n",
       "      <td>37.943300</td>\n",
       "      <td>18.769479</td>\n",
       "    </tr>\n",
       "    <tr>\n",
       "      <th>std</th>\n",
       "      <td>1429.951866</td>\n",
       "      <td>1427.601063</td>\n",
       "      <td>5789.473116</td>\n",
       "      <td>11.047923</td>\n",
       "      <td>522.013157</td>\n",
       "    </tr>\n",
       "    <tr>\n",
       "      <th>min</th>\n",
       "      <td>72.000000</td>\n",
       "      <td>72.000000</td>\n",
       "      <td>14529.000000</td>\n",
       "      <td>16.000000</td>\n",
       "      <td>1.020000</td>\n",
       "    </tr>\n",
       "    <tr>\n",
       "      <th>25%</th>\n",
       "      <td>382.000000</td>\n",
       "      <td>379.000000</td>\n",
       "      <td>20603.000000</td>\n",
       "      <td>29.000000</td>\n",
       "      <td>6.080000</td>\n",
       "    </tr>\n",
       "    <tr>\n",
       "      <th>50%</th>\n",
       "      <td>503.000000</td>\n",
       "      <td>501.000000</td>\n",
       "      <td>27845.000000</td>\n",
       "      <td>35.000000</td>\n",
       "      <td>10.230000</td>\n",
       "    </tr>\n",
       "    <tr>\n",
       "      <th>75%</th>\n",
       "      <td>3233.000000</td>\n",
       "      <td>3233.000000</td>\n",
       "      <td>31028.000000</td>\n",
       "      <td>46.000000</td>\n",
       "      <td>17.520000</td>\n",
       "    </tr>\n",
       "    <tr>\n",
       "      <th>max</th>\n",
       "      <td>3686.000000</td>\n",
       "      <td>3686.000000</td>\n",
       "      <td>33690.000000</td>\n",
       "      <td>65.000000</td>\n",
       "      <td>86384.020000</td>\n",
       "    </tr>\n",
       "  </tbody>\n",
       "</table>\n",
       "</div>"
      ],
      "text/plain": [
       "       start_station_id  end_station_id       bike_id           age  \\\n",
       "count      50000.000000    50000.000000  50000.000000  50000.000000   \n",
       "mean        1556.719200     1541.566800  26192.324520     37.943300   \n",
       "std         1429.951866     1427.601063   5789.473116     11.047923   \n",
       "min           72.000000       72.000000  14529.000000     16.000000   \n",
       "25%          382.000000      379.000000  20603.000000     29.000000   \n",
       "50%          503.000000      501.000000  27845.000000     35.000000   \n",
       "75%         3233.000000     3233.000000  31028.000000     46.000000   \n",
       "max         3686.000000     3686.000000  33690.000000     65.000000   \n",
       "\n",
       "       trip_duration  \n",
       "count   50000.000000  \n",
       "mean       18.769479  \n",
       "std       522.013157  \n",
       "min         1.020000  \n",
       "25%         6.080000  \n",
       "50%        10.230000  \n",
       "75%        17.520000  \n",
       "max     86384.020000  "
      ]
     },
     "execution_count": 5,
     "metadata": {},
     "output_type": "execute_result"
    }
   ],
   "source": [
    "df_raw.describe()"
   ]
  },
  {
   "cell_type": "markdown",
   "metadata": {},
   "source": [
    "**Ejercicio 1.b** 2 pasos:\n",
    "    \n",
    "1.- Crear un nuevo dataframe `df_hour` como copia de `df_raw`\n",
    "\n",
    "2.- Añadir una columna `hour`a `df_hour` que tenga la hora de salida (extraída de `start_time`). Ver [aquí](https://pandas.pydata.org/pandas-docs/stable/user_guide/basics.html#dt-accessor) información útil  para extraer la hora\n",
    "    \n"
   ]
  },
  {
   "cell_type": "code",
   "execution_count": 6,
   "metadata": {},
   "outputs": [
    {
     "data": {
      "text/html": [
       "<div>\n",
       "<style scoped>\n",
       "    .dataframe tbody tr th:only-of-type {\n",
       "        vertical-align: middle;\n",
       "    }\n",
       "\n",
       "    .dataframe tbody tr th {\n",
       "        vertical-align: top;\n",
       "    }\n",
       "\n",
       "    .dataframe thead th {\n",
       "        text-align: right;\n",
       "    }\n",
       "</style>\n",
       "<table border=\"1\" class=\"dataframe\">\n",
       "  <thead>\n",
       "    <tr style=\"text-align: right;\">\n",
       "      <th></th>\n",
       "      <th>start_time</th>\n",
       "      <th>stop_time</th>\n",
       "      <th>start_station_id</th>\n",
       "      <th>end_station_id</th>\n",
       "      <th>user_type</th>\n",
       "      <th>bike_id</th>\n",
       "      <th>gender</th>\n",
       "      <th>age</th>\n",
       "      <th>trip_duration</th>\n",
       "      <th>hour</th>\n",
       "    </tr>\n",
       "  </thead>\n",
       "  <tbody>\n",
       "    <tr>\n",
       "      <th>0</th>\n",
       "      <td>2018-05-09 18:43:16</td>\n",
       "      <td>2018-05-09 19:02:25</td>\n",
       "      <td>362</td>\n",
       "      <td>3467</td>\n",
       "      <td>Subscriber</td>\n",
       "      <td>15063</td>\n",
       "      <td>male</td>\n",
       "      <td>23</td>\n",
       "      <td>19.15</td>\n",
       "      <td>18</td>\n",
       "    </tr>\n",
       "    <tr>\n",
       "      <th>1</th>\n",
       "      <td>2018-05-23 20:12:08</td>\n",
       "      <td>2018-05-23 20:28:10</td>\n",
       "      <td>3059</td>\n",
       "      <td>3420</td>\n",
       "      <td>Subscriber</td>\n",
       "      <td>27714</td>\n",
       "      <td>female</td>\n",
       "      <td>33</td>\n",
       "      <td>16.03</td>\n",
       "      <td>20</td>\n",
       "    </tr>\n",
       "    <tr>\n",
       "      <th>2</th>\n",
       "      <td>2018-05-02 17:47:11</td>\n",
       "      <td>2018-05-02 17:59:53</td>\n",
       "      <td>3664</td>\n",
       "      <td>3002</td>\n",
       "      <td>Subscriber</td>\n",
       "      <td>21317</td>\n",
       "      <td>female</td>\n",
       "      <td>24</td>\n",
       "      <td>12.68</td>\n",
       "      <td>17</td>\n",
       "    </tr>\n",
       "    <tr>\n",
       "      <th>3</th>\n",
       "      <td>2018-05-21 08:22:28</td>\n",
       "      <td>2018-05-21 08:39:51</td>\n",
       "      <td>3569</td>\n",
       "      <td>3381</td>\n",
       "      <td>Subscriber</td>\n",
       "      <td>30276</td>\n",
       "      <td>male</td>\n",
       "      <td>34</td>\n",
       "      <td>17.37</td>\n",
       "      <td>8</td>\n",
       "    </tr>\n",
       "    <tr>\n",
       "      <th>4</th>\n",
       "      <td>2018-05-31 17:35:25</td>\n",
       "      <td>2018-05-31 18:06:53</td>\n",
       "      <td>474</td>\n",
       "      <td>3331</td>\n",
       "      <td>Subscriber</td>\n",
       "      <td>30135</td>\n",
       "      <td>female</td>\n",
       "      <td>31</td>\n",
       "      <td>31.47</td>\n",
       "      <td>17</td>\n",
       "    </tr>\n",
       "    <tr>\n",
       "      <th>...</th>\n",
       "      <td>...</td>\n",
       "      <td>...</td>\n",
       "      <td>...</td>\n",
       "      <td>...</td>\n",
       "      <td>...</td>\n",
       "      <td>...</td>\n",
       "      <td>...</td>\n",
       "      <td>...</td>\n",
       "      <td>...</td>\n",
       "      <td>...</td>\n",
       "    </tr>\n",
       "    <tr>\n",
       "      <th>49995</th>\n",
       "      <td>2018-05-04 08:02:55</td>\n",
       "      <td>2018-05-04 08:07:30</td>\n",
       "      <td>3300</td>\n",
       "      <td>3418</td>\n",
       "      <td>Subscriber</td>\n",
       "      <td>15221</td>\n",
       "      <td>female</td>\n",
       "      <td>51</td>\n",
       "      <td>4.58</td>\n",
       "      <td>8</td>\n",
       "    </tr>\n",
       "    <tr>\n",
       "      <th>49996</th>\n",
       "      <td>2018-05-26 13:46:37</td>\n",
       "      <td>2018-05-26 13:59:25</td>\n",
       "      <td>315</td>\n",
       "      <td>2008</td>\n",
       "      <td>Subscriber</td>\n",
       "      <td>33294</td>\n",
       "      <td>male</td>\n",
       "      <td>58</td>\n",
       "      <td>12.80</td>\n",
       "      <td>13</td>\n",
       "    </tr>\n",
       "    <tr>\n",
       "      <th>49997</th>\n",
       "      <td>2018-05-31 08:04:40</td>\n",
       "      <td>2018-05-31 08:11:49</td>\n",
       "      <td>537</td>\n",
       "      <td>293</td>\n",
       "      <td>Subscriber</td>\n",
       "      <td>32148</td>\n",
       "      <td>male</td>\n",
       "      <td>56</td>\n",
       "      <td>7.13</td>\n",
       "      <td>8</td>\n",
       "    </tr>\n",
       "    <tr>\n",
       "      <th>49998</th>\n",
       "      <td>2018-05-24 17:31:36</td>\n",
       "      <td>2018-05-24 17:53:50</td>\n",
       "      <td>492</td>\n",
       "      <td>317</td>\n",
       "      <td>Subscriber</td>\n",
       "      <td>17055</td>\n",
       "      <td>male</td>\n",
       "      <td>28</td>\n",
       "      <td>22.23</td>\n",
       "      <td>17</td>\n",
       "    </tr>\n",
       "    <tr>\n",
       "      <th>49999</th>\n",
       "      <td>2018-05-07 17:07:06</td>\n",
       "      <td>2018-05-07 17:09:46</td>\n",
       "      <td>3233</td>\n",
       "      <td>228</td>\n",
       "      <td>Subscriber</td>\n",
       "      <td>19366</td>\n",
       "      <td>male</td>\n",
       "      <td>38</td>\n",
       "      <td>2.67</td>\n",
       "      <td>17</td>\n",
       "    </tr>\n",
       "  </tbody>\n",
       "</table>\n",
       "<p>50000 rows × 10 columns</p>\n",
       "</div>"
      ],
      "text/plain": [
       "               start_time           stop_time  start_station_id  \\\n",
       "0     2018-05-09 18:43:16 2018-05-09 19:02:25               362   \n",
       "1     2018-05-23 20:12:08 2018-05-23 20:28:10              3059   \n",
       "2     2018-05-02 17:47:11 2018-05-02 17:59:53              3664   \n",
       "3     2018-05-21 08:22:28 2018-05-21 08:39:51              3569   \n",
       "4     2018-05-31 17:35:25 2018-05-31 18:06:53               474   \n",
       "...                   ...                 ...               ...   \n",
       "49995 2018-05-04 08:02:55 2018-05-04 08:07:30              3300   \n",
       "49996 2018-05-26 13:46:37 2018-05-26 13:59:25               315   \n",
       "49997 2018-05-31 08:04:40 2018-05-31 08:11:49               537   \n",
       "49998 2018-05-24 17:31:36 2018-05-24 17:53:50               492   \n",
       "49999 2018-05-07 17:07:06 2018-05-07 17:09:46              3233   \n",
       "\n",
       "       end_station_id   user_type  bike_id  gender  age  trip_duration  hour  \n",
       "0                3467  Subscriber    15063    male   23          19.15    18  \n",
       "1                3420  Subscriber    27714  female   33          16.03    20  \n",
       "2                3002  Subscriber    21317  female   24          12.68    17  \n",
       "3                3381  Subscriber    30276    male   34          17.37     8  \n",
       "4                3331  Subscriber    30135  female   31          31.47    17  \n",
       "...               ...         ...      ...     ...  ...            ...   ...  \n",
       "49995            3418  Subscriber    15221  female   51           4.58     8  \n",
       "49996            2008  Subscriber    33294    male   58          12.80    13  \n",
       "49997             293  Subscriber    32148    male   56           7.13     8  \n",
       "49998             317  Subscriber    17055    male   28          22.23    17  \n",
       "49999             228  Subscriber    19366    male   38           2.67    17  \n",
       "\n",
       "[50000 rows x 10 columns]"
      ]
     },
     "execution_count": 6,
     "metadata": {},
     "output_type": "execute_result"
    }
   ],
   "source": [
    "df_hour = df_raw.copy()\n",
    "df_hour[\"hour\"] = df_raw.start_time.dt.hour\n",
    "df_hour"
   ]
  },
  {
   "cell_type": "markdown",
   "metadata": {},
   "source": [
    "**Ejercicio 2** Hacer histograma de todos las columnas de `df_hour`para las que pueda tener sentido aplicar este tipo de gráfica (ordinales, intervalo y ratio). Se pueden añadir más casillas de código si se considera conveniente para histogramas de más columnas"
   ]
  },
  {
   "cell_type": "code",
   "execution_count": 8,
   "metadata": {},
   "outputs": [
    {
     "data": {
      "text/plain": [
       "<Axes: >"
      ]
     },
     "execution_count": 8,
     "metadata": {},
     "output_type": "execute_result"
    },
    {
     "data": {
      "image/png": "[encoded data removed]",
      "text/plain": [
       "<Figure size 432x288 with 1 Axes>"
      ]
     },
     "metadata": {
      "needs_background": "light"
     },
     "output_type": "display_data"
    }
   ],
   "source": [
    "# solución\n",
    "df_hour[\"age\"].hist()"
   ]
  },
  {
   "cell_type": "code",
   "execution_count": 9,
   "metadata": {},
   "outputs": [
    {
     "data": {
      "text/plain": [
       "<Axes: >"
      ]
     },
     "execution_count": 9,
     "metadata": {},
     "output_type": "execute_result"
    },
    {
     "data": {
      "image/png": "[encoded data removed]",
      "text/plain": [
       "<Figure size 432x288 with 1 Axes>"
      ]
     },
     "metadata": {
      "needs_background": "light"
     },
     "output_type": "display_data"
    }
   ],
   "source": [
    "df_hour[\"trip_duration\"].hist(bins=40)"
   ]
  },
  {
   "cell_type": "code",
   "execution_count": 10,
   "metadata": {},
   "outputs": [
    {
     "data": {
      "text/plain": [
       "<Axes: >"
      ]
     },
     "execution_count": 10,
     "metadata": {},
     "output_type": "execute_result"
    },
    {
     "data": {
      "image/png": "[encoded data removed]",
      "text/plain": [
       "<Figure size 432x288 with 1 Axes>"
      ]
     },
     "metadata": {
      "needs_background": "light"
     },
     "output_type": "display_data"
    }
   ],
   "source": [
    "df_hour.hour.hist()"
   ]
  },
  {
   "cell_type": "markdown",
   "metadata": {},
   "source": [
    "Escribe una frase con la información que veas más relevante sobre cada histograma:"
   ]
  },
  {
   "cell_type": "markdown",
   "metadata": {},
   "source": [
    "Solución\n",
    "\n"
   ]
  },
  {
   "cell_type": "markdown",
   "metadata": {},
   "source": [
    "**Ejercicio 3** A menudo los datasets tienen que cumplir unas ciertas *reglas de validación*. Escribir código para eliminar todas las filas df_hour que no verifiquen la regla \n",
    "\n",
    "$R_1$ `stop_time > start_time`\n",
    "\n",
    "El df resultante se llamara df_R1"
   ]
  },
  {
   "cell_type": "code",
   "execution_count": 12,
   "metadata": {},
   "outputs": [
    {
     "data": {
      "text/plain": [
       "1"
      ]
     },
     "execution_count": 12,
     "metadata": {},
     "output_type": "execute_result"
    }
   ],
   "source": [
    "# solución\n",
    "filtro_R1 = df.stop_time > df.start_time\n",
    "df_R1 = df[filtro_R1]\n",
    "\n",
    "# para probar\n",
    "len(df)-len(df_R1)"
   ]
  },
  {
   "cell_type": "markdown",
   "metadata": {},
   "source": [
    "**Ejercicio 4** Otra regla de validación a verificar\n",
    "\n",
    "\n",
    "$R_2$  stop_time - start_time < 500 minutos\n",
    "\n",
    "Para aplicar esta regla vamos a proceder como sigue:\n",
    "\n",
    "* Creamos df_R2 como una copia de df_R1\n",
    "* Añadimos una columna `tot_mins_diff` a df_R2 que sea la diferencia en minutos entre stop_time y start_time calculada por nosotros. \n",
    "* Eliminamos de df_R2 todas las filas que verifiquen `tot_mins_diff`>500\n",
    "\n",
    "\n",
    "Nota: Dados 2 valores `a` y `b` de tipo  datetime64[ns], podemos calcular su diferencia en minutos como `(a-b)/ pd.Timedelta(minutes=1)`, que dará un valor de tipo float con la diferencia en minutos\n"
   ]
  },
  {
   "cell_type": "code",
   "execution_count": 16,
   "metadata": {},
   "outputs": [
    {
     "data": {
      "text/plain": [
       "start_time          datetime64[ns]\n",
       "stop_time           datetime64[ns]\n",
       "start_station_id             int64\n",
       "end_station_id               int64\n",
       "user_type                   object\n",
       "bike_id                      int64\n",
       "gender                      object\n",
       "age                          int64\n",
       "trip_duration              float64\n",
       "dtype: object"
      ]
     },
     "execution_count": 16,
     "metadata": {},
     "output_type": "execute_result"
    }
   ],
   "source": [
    "df_R1.dtypes"
   ]
  },
  {
   "cell_type": "code",
   "execution_count": 17,
   "metadata": {},
   "outputs": [
    {
     "data": {
      "text/plain": [
       "28"
      ]
     },
     "execution_count": 17,
     "metadata": {},
     "output_type": "execute_result"
    }
   ],
   "source": [
    "# solución\n",
    "df_R2 = df_R1.copy()\n",
    "\n",
    "df_R2['tot_mins_diff'] = (df_R1.stop_time - df_R1.start_time) / pd.Timedelta(minutes=1)\n",
    "\n",
    "filtro = df_R2['tot_mins_diff'] <= 500\n",
    "df_R2 = df_R2[filtro]\n",
    "\n",
    "# para probar\n",
    "len(df_R1)-len(df_R2) #  28"
   ]
  },
  {
   "cell_type": "markdown",
   "metadata": {},
   "source": [
    "**Ejercicio 5** El valor `trip_duration` ya contiene la duración del viaje en minutos tal y como la da el dataset, que debe coincidir muy aproximadamente con el valor `tot_mins_diff` que acabamos de calcular.\n",
    "\n",
    "¿Podemos considerar que las distribuciones de `trip_duration` y `tot_mins_diff` son aproximadamente iguales en `df_R2`? Escribir un fragmento de código que utilice un test y muestre un mensaje con esta información y que también muestre el p-value.\n",
    "\n",
    "Nota: Utilizar el [Kolmogorov-Smirnov](https://docs.scipy.org/doc/scipy/reference/generated/scipy.stats.kstest.html) test ya que no se puede asumir que estas variables siguen una distribución normal "
   ]
  },
  {
   "cell_type": "code",
   "execution_count": 37,
   "metadata": {},
   "outputs": [
    {
     "name": "stdout",
     "output_type": "stream",
     "text": [
      "No podemos descartar distribuciones iguales 0.9997598257176995\n"
     ]
    }
   ],
   "source": [
    "from scipy.stats import kstest\n",
    "\n",
    "\n",
    "# solución\n",
    "e,p = kstest(df_R2.trip_duration, df_R2.tot_mins_diff)\n",
    "print(\"Las distribuciones son diferentes \" if p<0.05 else \"No podemos descartar distribuciones iguales\", p)"
   ]
  },
  {
   "cell_type": "markdown",
   "metadata": {},
   "source": [
    "**Ejercicio 6** Hacer un boxplot de 'age' en df_R2"
   ]
  },
  {
   "cell_type": "code",
   "execution_count": 92,
   "metadata": {},
   "outputs": [
    {
     "data": {
      "text/plain": [
       "<AxesSubplot: xlabel='age'>"
      ]
     },
     "execution_count": 92,
     "metadata": {},
     "output_type": "execute_result"
    },
    {
     "data": {
      "image/png": "[encoded data removed]",
      "text/plain": [
       "<Figure size 640x480 with 1 Axes>"
      ]
     },
     "metadata": {},
     "output_type": "display_data"
    }
   ],
   "source": [
    " sns.boxplot(x=df_R2['age'] )"
   ]
  },
  {
   "cell_type": "code",
   "execution_count": null,
   "metadata": {},
   "outputs": [],
   "source": [
    "¿Qué información se extrae viendo el boxplot? (una par de líneas deben bastar)"
   ]
  },
  {
   "cell_type": "markdown",
   "metadata": {},
   "source": [
    " "
   ]
  },
  {
   "cell_type": "markdown",
   "metadata": {},
   "source": [
    "**Ejercicio 7** Escribir código para mostrar si la variable `age` en df_R2 es asimétrica a la derecha, a la izquierda o si no podemos descartar simetría, y análogamente con la curtosis (si es mesocúrtica, leptocúrtica o si no podemos descartar curtosis==0).\n",
    "\n",
    "Nota: Los mensajes deben corresponder a hechos con significancia estadística"
   ]
  },
  {
   "cell_type": "code",
   "execution_count": 40,
   "metadata": {},
   "outputs": [
    {
     "name": "stdout",
     "output_type": "stream",
     "text": [
      "Asimetría:  positiva\n",
      "Curtosis:  mesocúrtica\n"
     ]
    }
   ],
   "source": [
    "# solución\n",
    "\n",
    "from scipy.stats import skew,skewtest,kurtosis,kurtosistest\n",
    "x = df_R2.age\n",
    "e_s,p_s  = skewtest(x)\n",
    "e_k,p_k  = kurtosistest(x)\n",
    "if p_s>0.05: \n",
    "    print(\"No podemos rechazar que no tenga asimetría\")\n",
    "else:\n",
    "    print(\"Asimetría: \", \"positiva\" if skew(x)>0 else \"negativa\")\n",
    "if p_k>0.05: \n",
    "    print(\"No podemos rechazar que curtosis==0\")\n",
    "else:\n",
    "    print(\"Curtosis: \", \"leptocúrtica\" if kurtosis(x)>0 else \"mesocúrtica\")\n",
    "\n"
   ]
  },
  {
   "cell_type": "markdown",
   "metadata": {},
   "source": [
    "**Ejercicio 8** Cuando las variables son de tipo nominal en lugar de un histograma podemos hacer un diagrama de barras. La biblioteca seaborn (sns) incluye  la función `countplot`para este fin mostrando el reparto por `user_type`y por `gender`como muestra la figura:\n",
    "\n",
    "<img src=\"https://github.com/RafaelCaballero/tdm/raw/master/images/user_type_gender.jpg\" width=400 />"
   ]
  },
  {
   "cell_type": "code",
   "execution_count": 41,
   "metadata": {},
   "outputs": [
    {
     "data": {
      "text/plain": [
       "<Axes: xlabel='user_type', ylabel='count'>"
      ]
     },
     "execution_count": 41,
     "metadata": {},
     "output_type": "execute_result"
    },
    {
     "data": {
      "image/png": "[encoded data removed]",
      "text/plain": [
       "<Figure size 432x288 with 1 Axes>"
      ]
     },
     "metadata": {
      "needs_background": "light"
     },
     "output_type": "display_data"
    }
   ],
   "source": [
    "# solución\n",
    "sns.countplot(data=df_R2, x=\"user_type\", hue=\"gender\")"
   ]
  },
  {
   "cell_type": "markdown",
   "metadata": {},
   "source": [
    "**Ejercicio 9** Generar un nuevo dataframe `df_sinout` que sea el resultado de quitar outliers de df_R2 para `trip_duration` con el método  *Hampel X84* con $\\theta=4$ "
   ]
  },
  {
   "cell_type": "code",
   "execution_count": null,
   "metadata": {},
   "outputs": [],
   "source": [
    "# solución\n",
    "from scipy.stats import median_abs_deviation\n",
    "theta =4 \n",
    "\n",
    "\n",
    "x = df_R2.trip_duration\n",
    "mediana = x.median()\n",
    "MAD = median_abs_deviation(x)\n",
    "inferior = mediana -  1.4826*theta*MAD\n",
    "superior = mediana + 1.4826*theta*MAD\n",
    "\n",
    "df_sinout = df_R2[(df_R2.trip_duration>inferior) & (df_R2.trip_duration<superior) ]\n",
    "\n",
    "# para probar\n",
    "sinout"
   ]
  },
  {
   "cell_type": "markdown",
   "metadata": {},
   "source": [
    "**Ejercicio 10** Tabla con tiempo medio por trayecto (`trip_duration`) de estación a estación en df_R2, será una tabla donde los índices son los valores de 'start_station_id', las  columnas  los valores de 'end_station_id' y el valor que corresponde a una estación de partida y otra de destino es la media de la duración entre ambas estaciones"
   ]
  },
  {
   "cell_type": "code",
   "execution_count": 42,
   "metadata": {},
   "outputs": [
    {
     "data": {
      "text/html": [
       "<div>\n",
       "<style scoped>\n",
       "    .dataframe tbody tr th:only-of-type {\n",
       "        vertical-align: middle;\n",
       "    }\n",
       "\n",
       "    .dataframe tbody tr th {\n",
       "        vertical-align: top;\n",
       "    }\n",
       "\n",
       "    .dataframe thead th {\n",
       "        text-align: right;\n",
       "    }\n",
       "</style>\n",
       "<table border=\"1\" class=\"dataframe\">\n",
       "  <thead>\n",
       "    <tr style=\"text-align: right;\">\n",
       "      <th></th>\n",
       "      <th>start_time</th>\n",
       "      <th>stop_time</th>\n",
       "      <th>start_station_id</th>\n",
       "      <th>end_station_id</th>\n",
       "      <th>user_type</th>\n",
       "      <th>bike_id</th>\n",
       "      <th>gender</th>\n",
       "      <th>age</th>\n",
       "      <th>trip_duration</th>\n",
       "      <th>tot_mins_diff</th>\n",
       "    </tr>\n",
       "  </thead>\n",
       "  <tbody>\n",
       "    <tr>\n",
       "      <th>0</th>\n",
       "      <td>2018-05-09 18:43:16</td>\n",
       "      <td>2018-05-09 19:02:25</td>\n",
       "      <td>362</td>\n",
       "      <td>3467</td>\n",
       "      <td>Subscriber</td>\n",
       "      <td>15063</td>\n",
       "      <td>male</td>\n",
       "      <td>23</td>\n",
       "      <td>19.15</td>\n",
       "      <td>19.150000</td>\n",
       "    </tr>\n",
       "    <tr>\n",
       "      <th>1</th>\n",
       "      <td>2018-05-23 20:12:08</td>\n",
       "      <td>2018-05-23 20:28:10</td>\n",
       "      <td>3059</td>\n",
       "      <td>3420</td>\n",
       "      <td>Subscriber</td>\n",
       "      <td>27714</td>\n",
       "      <td>female</td>\n",
       "      <td>33</td>\n",
       "      <td>16.03</td>\n",
       "      <td>16.033333</td>\n",
       "    </tr>\n",
       "    <tr>\n",
       "      <th>2</th>\n",
       "      <td>2018-05-02 17:47:11</td>\n",
       "      <td>2018-05-02 17:59:53</td>\n",
       "      <td>3664</td>\n",
       "      <td>3002</td>\n",
       "      <td>Subscriber</td>\n",
       "      <td>21317</td>\n",
       "      <td>female</td>\n",
       "      <td>24</td>\n",
       "      <td>12.68</td>\n",
       "      <td>12.700000</td>\n",
       "    </tr>\n",
       "    <tr>\n",
       "      <th>3</th>\n",
       "      <td>2018-05-21 08:22:28</td>\n",
       "      <td>2018-05-21 08:39:51</td>\n",
       "      <td>3569</td>\n",
       "      <td>3381</td>\n",
       "      <td>Subscriber</td>\n",
       "      <td>30276</td>\n",
       "      <td>male</td>\n",
       "      <td>34</td>\n",
       "      <td>17.37</td>\n",
       "      <td>17.383333</td>\n",
       "    </tr>\n",
       "    <tr>\n",
       "      <th>4</th>\n",
       "      <td>2018-05-31 17:35:25</td>\n",
       "      <td>2018-05-31 18:06:53</td>\n",
       "      <td>474</td>\n",
       "      <td>3331</td>\n",
       "      <td>Subscriber</td>\n",
       "      <td>30135</td>\n",
       "      <td>female</td>\n",
       "      <td>31</td>\n",
       "      <td>31.47</td>\n",
       "      <td>31.466667</td>\n",
       "    </tr>\n",
       "    <tr>\n",
       "      <th>...</th>\n",
       "      <td>...</td>\n",
       "      <td>...</td>\n",
       "      <td>...</td>\n",
       "      <td>...</td>\n",
       "      <td>...</td>\n",
       "      <td>...</td>\n",
       "      <td>...</td>\n",
       "      <td>...</td>\n",
       "      <td>...</td>\n",
       "      <td>...</td>\n",
       "    </tr>\n",
       "    <tr>\n",
       "      <th>49995</th>\n",
       "      <td>2018-05-04 08:02:55</td>\n",
       "      <td>2018-05-04 08:07:30</td>\n",
       "      <td>3300</td>\n",
       "      <td>3418</td>\n",
       "      <td>Subscriber</td>\n",
       "      <td>15221</td>\n",
       "      <td>female</td>\n",
       "      <td>51</td>\n",
       "      <td>4.58</td>\n",
       "      <td>4.583333</td>\n",
       "    </tr>\n",
       "    <tr>\n",
       "      <th>49996</th>\n",
       "      <td>2018-05-26 13:46:37</td>\n",
       "      <td>2018-05-26 13:59:25</td>\n",
       "      <td>315</td>\n",
       "      <td>2008</td>\n",
       "      <td>Subscriber</td>\n",
       "      <td>33294</td>\n",
       "      <td>male</td>\n",
       "      <td>58</td>\n",
       "      <td>12.80</td>\n",
       "      <td>12.800000</td>\n",
       "    </tr>\n",
       "    <tr>\n",
       "      <th>49997</th>\n",
       "      <td>2018-05-31 08:04:40</td>\n",
       "      <td>2018-05-31 08:11:49</td>\n",
       "      <td>537</td>\n",
       "      <td>293</td>\n",
       "      <td>Subscriber</td>\n",
       "      <td>32148</td>\n",
       "      <td>male</td>\n",
       "      <td>56</td>\n",
       "      <td>7.13</td>\n",
       "      <td>7.150000</td>\n",
       "    </tr>\n",
       "    <tr>\n",
       "      <th>49998</th>\n",
       "      <td>2018-05-24 17:31:36</td>\n",
       "      <td>2018-05-24 17:53:50</td>\n",
       "      <td>492</td>\n",
       "      <td>317</td>\n",
       "      <td>Subscriber</td>\n",
       "      <td>17055</td>\n",
       "      <td>male</td>\n",
       "      <td>28</td>\n",
       "      <td>22.23</td>\n",
       "      <td>22.233333</td>\n",
       "    </tr>\n",
       "    <tr>\n",
       "      <th>49999</th>\n",
       "      <td>2018-05-07 17:07:06</td>\n",
       "      <td>2018-05-07 17:09:46</td>\n",
       "      <td>3233</td>\n",
       "      <td>228</td>\n",
       "      <td>Subscriber</td>\n",
       "      <td>19366</td>\n",
       "      <td>male</td>\n",
       "      <td>38</td>\n",
       "      <td>2.67</td>\n",
       "      <td>2.666667</td>\n",
       "    </tr>\n",
       "  </tbody>\n",
       "</table>\n",
       "<p>49971 rows × 10 columns</p>\n",
       "</div>"
      ],
      "text/plain": [
       "               start_time           stop_time  start_station_id  \\\n",
       "0     2018-05-09 18:43:16 2018-05-09 19:02:25               362   \n",
       "1     2018-05-23 20:12:08 2018-05-23 20:28:10              3059   \n",
       "2     2018-05-02 17:47:11 2018-05-02 17:59:53              3664   \n",
       "3     2018-05-21 08:22:28 2018-05-21 08:39:51              3569   \n",
       "4     2018-05-31 17:35:25 2018-05-31 18:06:53               474   \n",
       "...                   ...                 ...               ...   \n",
       "49995 2018-05-04 08:02:55 2018-05-04 08:07:30              3300   \n",
       "49996 2018-05-26 13:46:37 2018-05-26 13:59:25               315   \n",
       "49997 2018-05-31 08:04:40 2018-05-31 08:11:49               537   \n",
       "49998 2018-05-24 17:31:36 2018-05-24 17:53:50               492   \n",
       "49999 2018-05-07 17:07:06 2018-05-07 17:09:46              3233   \n",
       "\n",
       "       end_station_id   user_type  bike_id  gender  age  trip_duration  \\\n",
       "0                3467  Subscriber    15063    male   23          19.15   \n",
       "1                3420  Subscriber    27714  female   33          16.03   \n",
       "2                3002  Subscriber    21317  female   24          12.68   \n",
       "3                3381  Subscriber    30276    male   34          17.37   \n",
       "4                3331  Subscriber    30135  female   31          31.47   \n",
       "...               ...         ...      ...     ...  ...            ...   \n",
       "49995            3418  Subscriber    15221  female   51           4.58   \n",
       "49996            2008  Subscriber    33294    male   58          12.80   \n",
       "49997             293  Subscriber    32148    male   56           7.13   \n",
       "49998             317  Subscriber    17055    male   28          22.23   \n",
       "49999             228  Subscriber    19366    male   38           2.67   \n",
       "\n",
       "       tot_mins_diff  \n",
       "0          19.150000  \n",
       "1          16.033333  \n",
       "2          12.700000  \n",
       "3          17.383333  \n",
       "4          31.466667  \n",
       "...              ...  \n",
       "49995       4.583333  \n",
       "49996      12.800000  \n",
       "49997       7.150000  \n",
       "49998      22.233333  \n",
       "49999       2.666667  \n",
       "\n",
       "[49971 rows x 10 columns]"
      ]
     },
     "execution_count": 42,
     "metadata": {},
     "output_type": "execute_result"
    }
   ],
   "source": [
    "# solución\n"
   ]
  },
  {
   "cell_type": "code",
   "execution_count": null,
   "metadata": {},
   "outputs": [],
   "source": []
  }
 ],
 "metadata": {
  "kernelspec": {
   "display_name": "Python 3",
   "language": "python",
   "name": "python3"
  },
  "language_info": {
   "codemirror_mode": {
    "name": "ipython",
    "version": 3
   },
   "file_extension": ".py",
   "mimetype": "text/x-python",
   "name": "python",
   "nbconvert_exporter": "python",
   "pygments_lexer": "ipython3",
   "version": "3.8.5"
  }
 },
 "nbformat": 4,
 "nbformat_minor": 5
}
