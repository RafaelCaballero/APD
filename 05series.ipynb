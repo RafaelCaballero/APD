{
  "cells": [
    {
      "cell_type": "markdown",
      "metadata": {
        "id": "jf7mOx9ZLKNJ"
      },
      "source": [
        "# Introducción a Python \n",
        "\n",
        "## Pandas -Series\n",
        "\n",
        "Vamos a ver las características principales de esta biblioteca \n",
        "que \"recubre\" numpy con estructuras de alto nivel y herramientas que\n",
        "failitan el tratamiento de datos. Representa una fila o una columna de un dataframe\n",
        "\n",
        "\n",
        "### Índice\n",
        "[Creación](#Creación)<br>\n",
        "[Índices](#Índices)<br>\n",
        "[Atributos](#Atributos)<br>\n",
        "[Valores temporales](#Valores-temporales)<br>\n"
      ]
    },
    {
      "cell_type": "markdown",
      "metadata": {
        "id": "9w5cPdWCLKNN"
      },
      "source": [
        "### Creación"
      ]
    },
    {
      "cell_type": "markdown",
      "metadata": {
        "id": "gxQFZdYsLKNO"
      },
      "source": [
        "La forma más sencilla: a partir de arrays unidimensionales de cualquier tipo admitido por Numpy"
      ]
    },
    {
      "cell_type": "code",
      "execution_count": 6,
      "metadata": {
        "colab": {
          "base_uri": "https://localhost:8080/"
        },
        "id": "JKpOgVUdLKNP",
        "outputId": "57a81afb-9264-4e29-d44d-895d45cef17f"
      },
      "outputs": [
        {
          "output_type": "execute_result",
          "data": {
            "text/plain": [
              "0    1.0\n",
              "1    7.0\n",
              "2    5.0\n",
              "3    3.1\n",
              "dtype: float64"
            ]
          },
          "metadata": {},
          "execution_count": 6
        }
      ],
      "source": [
        "import pandas as pd\n",
        "from pandas import Series\n",
        "\n",
        "serie = Series([1.0, 7., 5., 3.1]) # creación\n",
        "serie"
      ]
    },
    {
      "cell_type": "code",
      "source": [
        "from random import randint\n",
        "randint(1,100)"
      ],
      "metadata": {
        "colab": {
          "base_uri": "https://localhost:8080/"
        },
        "id": "HeWIN0JdLq7t",
        "outputId": "5dc587dc-5e07-4ff1-9161-ffc1b878dc27"
      },
      "execution_count": 5,
      "outputs": [
        {
          "output_type": "execute_result",
          "data": {
            "text/plain": [
              "65"
            ]
          },
          "metadata": {},
          "execution_count": 5
        }
      ]
    },
    {
      "cell_type": "markdown",
      "metadata": {
        "id": "ZwN76Z8cLKNR"
      },
      "source": [
        "Ya vemos algo interesante; salen 2 columnas, el valor que hemos puesto pero antes su posición. Es lo que vamos a llamar índice y se puede ver como un \"nombre\" del valor."
      ]
    },
    {
      "cell_type": "markdown",
      "metadata": {
        "id": "J5StqA7MLKNR"
      },
      "source": [
        "### Índices"
      ]
    },
    {
      "cell_type": "markdown",
      "metadata": {
        "id": "vhK28mlRLKNS"
      },
      "source": [
        "La columna de la izquierda son los índices. Un error muy común es crer un índice que simplemente es la posición de cada elemento, como parece a primera vista"
      ]
    },
    {
      "cell_type": "code",
      "execution_count": 7,
      "metadata": {
        "colab": {
          "base_uri": "https://localhost:8080/"
        },
        "id": "etyZhEShLKNT",
        "outputId": "646bef82-4e89-4a6f-a8ae-f55679697633"
      },
      "outputs": [
        {
          "output_type": "stream",
          "name": "stdout",
          "text": [
            "3.1\n",
            "0    1.0\n",
            "1    7.0\n",
            "dtype: float64\n"
          ]
        }
      ],
      "source": [
        "print(serie[3])\n",
        "print(serie[0:2])"
      ]
    },
    {
      "cell_type": "markdown",
      "metadata": {
        "id": "tVZSmlttLKNU"
      },
      "source": [
        "Pero son un identificador de fila, que puede tomar cualquier valor básico"
      ]
    },
    {
      "cell_type": "code",
      "execution_count": 9,
      "metadata": {
        "colab": {
          "base_uri": "https://localhost:8080/"
        },
        "id": "FdiV7jJALKNU",
        "outputId": "c792f2c8-fa68-43e4-9a7f-73012e141351"
      },
      "outputs": [
        {
          "output_type": "execute_result",
          "data": {
            "text/plain": [
              "nombre      Bertoldo\n",
              "apellido      Peláez\n",
              "calle       C/Jazmín\n",
              "teléfono      999999\n",
              "dtype: object"
            ]
          },
          "metadata": {},
          "execution_count": 9
        }
      ],
      "source": [
        "serie = Series([\"Bertoldo\", \"Peláez\", \"C/Jazmín\", \"999999\"],\n",
        "               [\"nombre\",    \"apellido\",\"calle\",  \"teléfono\"]) # creación con ind.\n",
        "serie"
      ]
    },
    {
      "cell_type": "code",
      "execution_count": 10,
      "metadata": {
        "colab": {
          "base_uri": "https://localhost:8080/"
        },
        "id": "eo8JLev-LKNV",
        "outputId": "a46a4792-e61e-4a7f-d464-4e1ab0d11e56"
      },
      "outputs": [
        {
          "output_type": "stream",
          "name": "stdout",
          "text": [
            "999999 C/Jazmín\n"
          ]
        }
      ],
      "source": [
        "print(serie[3],serie['calle'])"
      ]
    },
    {
      "cell_type": "code",
      "execution_count": 11,
      "metadata": {
        "scrolled": false,
        "colab": {
          "base_uri": "https://localhost:8080/"
        },
        "id": "SIt475PyLKNW",
        "outputId": "03fbdbbe-33a1-47ee-d09f-26468135eacd"
      },
      "outputs": [
        {
          "output_type": "stream",
          "name": "stdout",
          "text": [
            "nombre      Bertoldo\n",
            "apellido      Peláez\n",
            "calle       C/Jazmín\n",
            "dtype: object\n"
          ]
        }
      ],
      "source": [
        "print(serie['nombre':'calle'])"
      ]
    },
    {
      "cell_type": "code",
      "execution_count": null,
      "metadata": {
        "id": "B8hdjyFNLKNW",
        "outputId": "33014130-185a-4731-9b63-bf192c69dae1"
      },
      "outputs": [
        {
          "name": "stdout",
          "output_type": "stream",
          "text": [
            "d    1.0\n",
            "c    7.0\n",
            "b    5.0\n",
            "dtype: float64\n"
          ]
        }
      ],
      "source": [
        "print(serie[0:3])"
      ]
    },
    {
      "cell_type": "code",
      "execution_count": null,
      "metadata": {
        "id": "1cenLHBWLKNX",
        "outputId": "21a1ebdd-60e6-4169-9b7d-4928394bc26a"
      },
      "outputs": [
        {
          "data": {
            "text/plain": [
              "5.0"
            ]
          },
          "execution_count": 10,
          "metadata": {},
          "output_type": "execute_result"
        }
      ],
      "source": [
        "serie = Series([1.0, 7., 5., 3.1],[5,6,7,8]) # creación con ind.\n",
        "serie[7]"
      ]
    },
    {
      "cell_type": "markdown",
      "metadata": {
        "id": "xMmcyhX-LKNX"
      },
      "source": [
        "El índice no debe confundirse con una *clave única*, puede repetirse y en ese caso devuelve una serie"
      ]
    },
    {
      "cell_type": "code",
      "execution_count": 12,
      "metadata": {
        "colab": {
          "base_uri": "https://localhost:8080/"
        },
        "id": "EVQffUceLKNX",
        "outputId": "fa93fec1-9f91-469a-9603-af6d3dd53bbf"
      },
      "outputs": [
        {
          "output_type": "execute_result",
          "data": {
            "text/plain": [
              "d    1.0\n",
              "d    7.0\n",
              "b    5.0\n",
              "d    3.1\n",
              "dtype: float64"
            ]
          },
          "metadata": {},
          "execution_count": 12
        }
      ],
      "source": [
        "serie = Series([1.0, 7., 5., 3.1],[\"d\",\"d\",\"b\",\"d\"]) # creación con ind.\n",
        "serie"
      ]
    },
    {
      "cell_type": "code",
      "execution_count": 15,
      "metadata": {
        "colab": {
          "base_uri": "https://localhost:8080/"
        },
        "id": "sR_UJnJpLKNY",
        "outputId": "f0ca1ad9-d253-4c1c-cd14-0befbbf1580c"
      },
      "outputs": [
        {
          "output_type": "execute_result",
          "data": {
            "text/plain": [
              "d    1.0\n",
              "d    7.0\n",
              "d    3.1\n",
              "dtype: float64"
            ]
          },
          "metadata": {},
          "execution_count": 15
        }
      ],
      "source": [
        "serie['d']"
      ]
    },
    {
      "cell_type": "code",
      "execution_count": 16,
      "metadata": {
        "colab": {
          "base_uri": "https://localhost:8080/"
        },
        "id": "b2Dyo-RXLKNY",
        "outputId": "395eac72-83a5-4d19-9781-7480a927be48"
      },
      "outputs": [
        {
          "output_type": "stream",
          "name": "stdout",
          "text": [
            "<class 'numpy.float64'>\n",
            "<class 'pandas.core.series.Series'>\n"
          ]
        }
      ],
      "source": [
        "print(type(serie['b']))\n",
        "print(type(serie['d']))\n"
      ]
    },
    {
      "cell_type": "markdown",
      "metadata": {
        "id": "CPeLBdfHLKNZ"
      },
      "source": [
        "Por tanto una *Serie* tiene dos componentes: los valores y sus índice"
      ]
    },
    {
      "cell_type": "code",
      "execution_count": 17,
      "metadata": {
        "colab": {
          "base_uri": "https://localhost:8080/"
        },
        "id": "3w1J0zMkLKNZ",
        "outputId": "f37bf2d3-7efa-4281-da2b-4ecd5305e37b"
      },
      "outputs": [
        {
          "output_type": "stream",
          "name": "stdout",
          "text": [
            "[1.  7.  5.  3.1] <class 'numpy.ndarray'>\n",
            "Index(['d', 'd', 'b', 'd'], dtype='object') <class 'pandas.core.indexes.base.Index'>\n"
          ]
        }
      ],
      "source": [
        "print(serie.values, type(serie.values))\n",
        "print(serie.index, type(serie.index))"
      ]
    },
    {
      "cell_type": "markdown",
      "metadata": {
        "id": "MP9YoGHmLKNa"
      },
      "source": [
        "Ya que una serie es un array Numpy podemos usar todo lo que vimos al hablar de esta bibliteca\n",
        "\n",
        "*Ej.* Mostrar todos los elementos de `serie` mayores que 3"
      ]
    },
    {
      "cell_type": "code",
      "execution_count": 18,
      "metadata": {
        "colab": {
          "base_uri": "https://localhost:8080/"
        },
        "id": "UnH9ky0kLKNa",
        "outputId": "90a14770-9d0c-411e-c98d-3ce37cb694fb"
      },
      "outputs": [
        {
          "output_type": "execute_result",
          "data": {
            "text/plain": [
              "d    7.0\n",
              "b    5.0\n",
              "d    3.1\n",
              "dtype: float64"
            ]
          },
          "metadata": {},
          "execution_count": 18
        }
      ],
      "source": [
        "filtro = serie>3\n",
        "serie[filtro]"
      ]
    },
    {
      "cell_type": "markdown",
      "metadata": {
        "id": "Hci6CV6bLKNa"
      },
      "source": [
        "Cambiar por 0 todos los valores de `serie` con índice 'd'"
      ]
    },
    {
      "cell_type": "code",
      "execution_count": 19,
      "metadata": {
        "colab": {
          "base_uri": "https://localhost:8080/"
        },
        "id": "wHfiVgqVLKNb",
        "outputId": "8126dc5a-f79f-4dbf-a149-ac0f413a2b6a"
      },
      "outputs": [
        {
          "output_type": "execute_result",
          "data": {
            "text/plain": [
              "d    0.0\n",
              "d    0.0\n",
              "b    5.0\n",
              "d    0.0\n",
              "dtype: float64"
            ]
          },
          "metadata": {},
          "execution_count": 19
        }
      ],
      "source": [
        "serie['d']=0\n",
        "serie"
      ]
    },
    {
      "cell_type": "markdown",
      "metadata": {
        "id": "9iUv5oYlLKNb"
      },
      "source": [
        "En general casi todas las operaciones se refieren a los valores y no a los índices. Solo unas pocas, como `in` se refieren a los índices, lo que puede resultar confuso. \n",
        "\n",
        "Para entenderlo podemos pensar en una Serie como un diccionario, con los índices las claves."
      ]
    },
    {
      "cell_type": "code",
      "execution_count": null,
      "metadata": {
        "id": "JOBSfpR0LKNb",
        "outputId": "27beda55-068c-429b-d6be-18b575dff941"
      },
      "outputs": [
        {
          "name": "stdout",
          "output_type": "stream",
          "text": [
            "False True\n",
            "True\n"
          ]
        }
      ],
      "source": [
        "print(0 in serie, 0 in serie.values)\n",
        "print('d' in serie)"
      ]
    },
    {
      "cell_type": "code",
      "execution_count": 20,
      "metadata": {
        "colab": {
          "base_uri": "https://localhost:8080/"
        },
        "id": "v6qppqNTLKNb",
        "outputId": "5de57501-3214-4311-8afc-c5985846b708"
      },
      "outputs": [
        {
          "output_type": "execute_result",
          "data": {
            "text/plain": [
              "Madrid       6507184\n",
              "Barcelona    5609350\n",
              "Valencia     2547986\n",
              "Sevilla      1939887\n",
              "Alicante     1838819\n",
              "Málaga       1641121\n",
              "dtype: int64"
            ]
          },
          "metadata": {},
          "execution_count": 20
        }
      ],
      "source": [
        "sdata = {'Madrid': 6507184, 'Barcelona': 5609350, \n",
        "         'Valencia': 2547986, 'Sevilla': 1939887, \n",
        "         'Alicante': 1838819, 'Málaga':1641121  }\n",
        "ciudades = Series(sdata)\n",
        "ciudades"
      ]
    },
    {
      "cell_type": "markdown",
      "metadata": {
        "id": "X--wCrB5LKNc"
      },
      "source": [
        "**Ej.** Nombres de ciudades con más de 2 millones de habitantes"
      ]
    },
    {
      "cell_type": "code",
      "execution_count": 23,
      "metadata": {
        "colab": {
          "base_uri": "https://localhost:8080/"
        },
        "id": "2VN1hoJeLKNc",
        "outputId": "dcac0cc1-f226-448d-baa3-1f3d1719208e"
      },
      "outputs": [
        {
          "output_type": "execute_result",
          "data": {
            "text/plain": [
              "array([6507184, 5609350, 2547986])"
            ]
          },
          "metadata": {},
          "execution_count": 23
        }
      ],
      "source": [
        "filtro = ciudades>2000000\n",
        "ciudades[filtro].values"
      ]
    },
    {
      "cell_type": "markdown",
      "metadata": {
        "id": "MZU6IkwtLKNc"
      },
      "source": [
        "Tiene que haber tantos índices como valores"
      ]
    },
    {
      "cell_type": "code",
      "execution_count": null,
      "metadata": {
        "id": "xnQTStOfLKNc"
      },
      "outputs": [],
      "source": [
        "s2 = Series([4.4,5.5,5],['a','b'])\n",
        "s2"
      ]
    },
    {
      "cell_type": "code",
      "execution_count": null,
      "metadata": {
        "id": "40G-NQrpLKNd"
      },
      "outputs": [],
      "source": [
        "s2 = Series([4.4,5.5,5],index = ['d','b','c','a'])\n",
        "s2"
      ]
    },
    {
      "cell_type": "markdown",
      "metadata": {
        "id": "4oiU4KGMLKNd"
      },
      "source": [
        "Con los diccionarios se pueden hacer cosas un poco más extrañas, que provocan la aparición de valores missing"
      ]
    },
    {
      "cell_type": "code",
      "execution_count": null,
      "metadata": {
        "id": "Z0zNZBRJLKNd",
        "outputId": "e1110a07-909b-4e8a-c56b-4785aa820428"
      },
      "outputs": [
        {
          "data": {
            "text/plain": [
              "Málaga      1641121.0\n",
              "Sevilla     1939887.0\n",
              "Móstoles          NaN\n",
              "dtype: float64"
            ]
          },
          "execution_count": 20,
          "metadata": {},
          "output_type": "execute_result"
        }
      ],
      "source": [
        "sdata = {'Madrid': 6507184, 'Barcelona': 5609350, \n",
        "         'Valencia': 2547986, 'Sevilla': 1939887, \n",
        "         'Alicante': 1838819, 'Málaga':1641121  }\n",
        "ciudades2 = Series(sdata, ['Málaga','Sevilla','Móstoles'])\n",
        "ciudades2"
      ]
    },
    {
      "cell_type": "markdown",
      "metadata": {
        "id": "ms71AIRILKNd"
      },
      "source": [
        "Los predicados `pd.isnull` (método `isnull`) y `pd.notnull` (método `nitnull`) permiten devuelve una Serie (o un DataFrame) con valores booleanos para señalar los valores perdidos"
      ]
    },
    {
      "cell_type": "code",
      "execution_count": null,
      "metadata": {
        "id": "7md1HQ3kLKNd",
        "outputId": "475bf735-3f2e-449c-c605-df77c04bc7c5"
      },
      "outputs": [
        {
          "name": "stdout",
          "output_type": "stream",
          "text": [
            "Málaga      False\n",
            "Sevilla     False\n",
            "Móstoles     True\n",
            "dtype: bool \n",
            " Málaga      False\n",
            "Sevilla     False\n",
            "Móstoles     True\n",
            "dtype: bool <class 'pandas.core.series.Series'>\n"
          ]
        }
      ],
      "source": [
        "print(pd.isnull(ciudades2),\"\\n\",\n",
        "      ciudades2.isnull(),type(pd.isnull(ciudades2)))"
      ]
    },
    {
      "cell_type": "markdown",
      "metadata": {
        "id": "D199aS4mLKNe"
      },
      "source": [
        "**Ej.** Crear un objeto tipo Series que sea una copia de  `ciudades2` pero con los valores missing puestos a 0"
      ]
    },
    {
      "cell_type": "code",
      "execution_count": null,
      "metadata": {
        "id": "CHgzD3mBLKNe"
      },
      "outputs": [],
      "source": [
        "ciudades3 = ciudades2.copy()\n",
        "ciudades3[ciudades2.isnull()]=0\n",
        "print(ciudades3,\"\\n\",ciudades2)"
      ]
    },
    {
      "cell_type": "markdown",
      "metadata": {
        "id": "1jN-FwrbLKNe"
      },
      "source": [
        "Los índices se usan para *alinear* los dataframes/series"
      ]
    },
    {
      "cell_type": "code",
      "execution_count": null,
      "metadata": {
        "id": "vS-bf2DELKNe"
      },
      "outputs": [],
      "source": [
        "ciudades + ciudades3"
      ]
    },
    {
      "cell_type": "code",
      "execution_count": null,
      "metadata": {
        "id": "ZkmwMDa9LKNf"
      },
      "outputs": [],
      "source": [
        "ciudades + ciudades2"
      ]
    },
    {
      "cell_type": "markdown",
      "metadata": {
        "id": "Zs4ZyMoVLKNf"
      },
      "source": [
        "**Ej.** ¿Qué resultado dará el siguiente código? "
      ]
    },
    {
      "cell_type": "code",
      "execution_count": null,
      "metadata": {
        "id": "EcD75UtJLKNf"
      },
      "outputs": [],
      "source": [
        "a = Series([0,1,2,3])\n",
        "b = Series(range(4),range(3,-1,-1))\n",
        "a+b"
      ]
    },
    {
      "cell_type": "markdown",
      "metadata": {
        "id": "QRWBJEd-LKNf"
      },
      "source": [
        "**Ej.** ¿Qué podemos hacer con lo ya visto para sumar componente a componente?"
      ]
    },
    {
      "cell_type": "code",
      "execution_count": null,
      "metadata": {
        "id": "ZRyPCSNyLKNf"
      },
      "outputs": [],
      "source": [
        "a.values+b.values"
      ]
    },
    {
      "cell_type": "markdown",
      "metadata": {
        "id": "FslGosv4LKNg"
      },
      "source": [
        "Otra posibilidad es modificar los índices de `b`"
      ]
    },
    {
      "cell_type": "code",
      "execution_count": null,
      "metadata": {
        "id": "ARZE0sdILKNg"
      },
      "outputs": [],
      "source": [
        "b.index = range(4)\n",
        "a+b"
      ]
    },
    {
      "cell_type": "markdown",
      "metadata": {
        "id": "XN8IQ_3YLKNg"
      },
      "source": [
        "El tener los índices en orden poco habitual cuando son numéricos puede dar lugar a confusión"
      ]
    },
    {
      "cell_type": "code",
      "execution_count": null,
      "metadata": {
        "id": "eiptHJr5LKNg"
      },
      "outputs": [],
      "source": [
        "b = Series(range(4),['d','c','b','a'])\n",
        "b"
      ]
    },
    {
      "cell_type": "code",
      "execution_count": null,
      "metadata": {
        "id": "p7_A6yY_LKNg"
      },
      "outputs": [],
      "source": [
        "b['a'],b['b']"
      ]
    },
    {
      "cell_type": "code",
      "execution_count": null,
      "metadata": {
        "id": "1EsoDsmaLKNh"
      },
      "outputs": [],
      "source": [
        "b['d':'b']"
      ]
    },
    {
      "cell_type": "markdown",
      "metadata": {
        "id": "iX0FCT08LKNh"
      },
      "source": [
        "### Atributos"
      ]
    },
    {
      "cell_type": "markdown",
      "metadata": {
        "id": "cza180boLKNh"
      },
      "source": [
        "Además de los atributos *index* y *values*, `Serie` tiene otros atributos de interés.<br><br>\n",
        "\n",
        "Los siguientes permiten comprobar si una serie es monótona, monótona creciente o monótona decreciente"
      ]
    },
    {
      "cell_type": "code",
      "execution_count": 24,
      "metadata": {
        "colab": {
          "base_uri": "https://localhost:8080/"
        },
        "id": "0SZKnsQmLKNh",
        "outputId": "7ccf460b-6b1e-4fc2-f584-effc3603df75"
      },
      "outputs": [
        {
          "output_type": "execute_result",
          "data": {
            "text/plain": [
              "(True, False, True)"
            ]
          },
          "metadata": {},
          "execution_count": 24
        }
      ],
      "source": [
        "a = Series(range(4))\n",
        "a.is_monotonic, a.is_monotonic_decreasing, a.is_monotonic_increasing"
      ]
    },
    {
      "cell_type": "code",
      "execution_count": null,
      "metadata": {
        "id": "R_E1nWbYLKNh",
        "outputId": "bc416575-2ca2-4662-ab0d-d72c24d831cc"
      },
      "outputs": [
        {
          "data": {
            "text/plain": [
              "0    0\n",
              "1    1\n",
              "2    2\n",
              "3    3\n",
              "dtype: int64"
            ]
          },
          "execution_count": 23,
          "metadata": {},
          "output_type": "execute_result"
        }
      ],
      "source": [
        "a"
      ]
    },
    {
      "cell_type": "code",
      "execution_count": null,
      "metadata": {
        "id": "H_m394IeLKNi"
      },
      "outputs": [],
      "source": []
    },
    {
      "cell_type": "markdown",
      "metadata": {
        "id": "VWO2JWXJLKNi"
      },
      "source": [
        "En ocasiones es interesante ponerle un nombre a una serie"
      ]
    },
    {
      "cell_type": "code",
      "execution_count": null,
      "metadata": {
        "id": "mR60-DyGLKNi",
        "outputId": "26497793-d67a-4724-9cc5-2bdc03e7cd73"
      },
      "outputs": [
        {
          "name": "stdout",
          "output_type": "stream",
          "text": [
            "Datos autobuses Almendralejo\n"
          ]
        }
      ],
      "source": [
        "a.name = 'Datos autobuses Almendralejo'\n",
        "b = a\n",
        "print(b.name )"
      ]
    },
    {
      "cell_type": "code",
      "execution_count": null,
      "metadata": {
        "id": "MuTwhkosLKNi",
        "outputId": "778f8a9a-945b-4fd3-fc9a-7c445affe20b"
      },
      "outputs": [
        {
          "data": {
            "text/plain": [
              "0    0\n",
              "1    1\n",
              "2    2\n",
              "3    3\n",
              "Name: Datos autobuses Almendralejo, dtype: int64"
            ]
          },
          "execution_count": 26,
          "metadata": {},
          "output_type": "execute_result"
        }
      ],
      "source": [
        "a"
      ]
    },
    {
      "cell_type": "markdown",
      "metadata": {
        "id": "kEqYH1vPLKNj"
      },
      "source": [
        "El índice también puede tener su nombre"
      ]
    },
    {
      "cell_type": "code",
      "execution_count": null,
      "metadata": {
        "id": "oG2fUeEwLKNj",
        "outputId": "44150e62-ab96-4121-bd8e-1e74bea9cbb4"
      },
      "outputs": [
        {
          "data": {
            "text/plain": [
              "El índice\n",
              "0    0\n",
              "1    1\n",
              "2    2\n",
              "3    3\n",
              "Name: Datos autobuses Almendralejo, dtype: int64"
            ]
          },
          "execution_count": 27,
          "metadata": {},
          "output_type": "execute_result"
        }
      ],
      "source": [
        "a.index.name = \"El índice\"\n",
        "a"
      ]
    },
    {
      "cell_type": "markdown",
      "metadata": {
        "id": "F_EoUrCYLKNj"
      },
      "source": [
        "Recordemos también que tenemos muchos de los atributos que existían en Numpy."
      ]
    },
    {
      "cell_type": "code",
      "execution_count": null,
      "metadata": {
        "id": "Jr7nW1efLKNj",
        "outputId": "8d5b7351-30a1-4d4d-c54b-65017305f93f"
      },
      "outputs": [
        {
          "name": "stdout",
          "output_type": "stream",
          "text": [
            "(4,) \n",
            " 4\n"
          ]
        }
      ],
      "source": [
        "print(a.shape, \"\\n\", a.size)"
      ]
    },
    {
      "cell_type": "markdown",
      "metadata": {
        "id": "b8_hdJwMLKNk"
      },
      "source": [
        "Son de especial interés los atributos que permiten acceder directamente a los atributos a través de su posición o de la posición de sus índices. Los emplearemos muchos al hablar de DataFrames:\n",
        "\n",
        "- loc permite el acceso a través de los índices\n",
        "- iloc permite el acceso a través de la posición"
      ]
    },
    {
      "cell_type": "code",
      "execution_count": null,
      "metadata": {
        "id": "GR2GfJTGLKNk"
      },
      "outputs": [],
      "source": [
        "a = Series([0,1,3,4],['a','b','c','d'])\n",
        "a"
      ]
    },
    {
      "cell_type": "code",
      "execution_count": null,
      "metadata": {
        "id": "WFz35LuPLKNk"
      },
      "outputs": [],
      "source": [
        "# equivale a  a['b'], o a.values[1]\n",
        "a.loc['b'], a.iloc[1]"
      ]
    },
    {
      "cell_type": "code",
      "execution_count": null,
      "metadata": {
        "id": "q2BTzet5LKNk"
      },
      "outputs": [],
      "source": [
        "a['b':'d']"
      ]
    },
    {
      "cell_type": "markdown",
      "metadata": {
        "id": "r8Rp6vDQLKNk"
      },
      "source": [
        "### Valores temporales"
      ]
    },
    {
      "cell_type": "markdown",
      "metadata": {
        "id": "5Z7ozxA8LKNl"
      },
      "source": [
        "A veces es útil tener índices que son intervalos temporales"
      ]
    },
    {
      "cell_type": "code",
      "execution_count": 26,
      "metadata": {
        "colab": {
          "base_uri": "https://localhost:8080/"
        },
        "id": "NEX0m_DiLKNl",
        "outputId": "0c7d39be-9932-4694-c21e-654b02c4b275"
      },
      "outputs": [
        {
          "output_type": "stream",
          "name": "stdout",
          "text": [
            "DatetimeIndex(['2022-12-30', '2022-12-31', '2023-01-01', '2023-01-02',\n",
            "               '2023-01-03', '2023-01-04', '2023-01-05', '2023-01-06',\n",
            "               '2023-01-07', '2023-01-08', '2023-01-09', '2023-01-10',\n",
            "               '2023-01-11', '2023-01-12', '2023-01-13', '2023-01-14',\n",
            "               '2023-01-15', '2023-01-16', '2023-01-17', '2023-01-18',\n",
            "               '2023-01-19', '2023-01-20', '2023-01-21', '2023-01-22',\n",
            "               '2023-01-23', '2023-01-24', '2023-01-25', '2023-01-26',\n",
            "               '2023-01-27', '2023-01-28', '2023-01-29', '2023-01-30',\n",
            "               '2023-01-31', '2023-02-01', '2023-02-02', '2023-02-03',\n",
            "               '2023-02-04', '2023-02-05', '2023-02-06', '2023-02-07',\n",
            "               '2023-02-08', '2023-02-09', '2023-02-10', '2023-02-11',\n",
            "               '2023-02-12'],\n",
            "              dtype='datetime64[ns]', freq='D')\n"
          ]
        },
        {
          "output_type": "execute_result",
          "data": {
            "text/plain": [
              "2022-12-30    19\n",
              "2022-12-31    26\n",
              "2023-01-01     4\n",
              "2023-01-02    15\n",
              "2023-01-03    27\n",
              "2023-01-04    25\n",
              "2023-01-05     1\n",
              "2023-01-06    13\n",
              "2023-01-07     3\n",
              "2023-01-08    28\n",
              "2023-01-09    23\n",
              "2023-01-10    24\n",
              "2023-01-11     3\n",
              "2023-01-12    25\n",
              "2023-01-13    20\n",
              "2023-01-14    15\n",
              "2023-01-15    15\n",
              "2023-01-16     7\n",
              "2023-01-17    24\n",
              "2023-01-18    17\n",
              "2023-01-19    13\n",
              "2023-01-20    21\n",
              "2023-01-21    17\n",
              "2023-01-22     1\n",
              "2023-01-23    28\n",
              "2023-01-24    25\n",
              "2023-01-25     1\n",
              "2023-01-26     4\n",
              "2023-01-27    20\n",
              "2023-01-28    29\n",
              "2023-01-29     6\n",
              "2023-01-30    18\n",
              "2023-01-31     9\n",
              "2023-02-01    25\n",
              "2023-02-02    28\n",
              "2023-02-03    21\n",
              "2023-02-04    20\n",
              "2023-02-05    12\n",
              "2023-02-06    11\n",
              "2023-02-07    20\n",
              "2023-02-08    15\n",
              "2023-02-09    19\n",
              "2023-02-10     4\n",
              "2023-02-11    22\n",
              "2023-02-12    19\n",
              "Freq: D, dtype: int64"
            ]
          },
          "metadata": {},
          "execution_count": 26
        }
      ],
      "source": [
        "import numpy as np\n",
        "idia = pd.date_range('12/30/2022', periods=45)\n",
        "print(idia)\n",
        "serie = Series(np.random.randint(30,size=45),idia)\n",
        "serie\n"
      ]
    },
    {
      "cell_type": "markdown",
      "metadata": {
        "id": "LzeU4JmbLKNl"
      },
      "source": [
        "Se puede cambiar la frecuencia:\n",
        "\n",
        "    Alias \tDescription\n",
        "    B \tbusiness day frequency\n",
        "    C \tcustom business day frequency\n",
        "    D \tcalendar day frequency\n",
        "    W \tweekly frequency\n",
        "    M \tmonth end frequency\n",
        "    SM \tsemi-month end frequency (15th and end of month)\n",
        "    BM \tbusiness month end frequency\n",
        "    CBM \tcustom business month end frequency\n",
        "    MS \tmonth start frequency\n",
        "    SMS \tsemi-month start frequency (1st and 15th)\n",
        "    BMS \tbusiness month start frequency\n",
        "    CBMS \tcustom business month start frequency\n",
        "    Q \tquarter end frequency\n",
        "    BQ \tbusiness quarter end frequency\n",
        "    QS \tquarter start frequency\n",
        "    BQS \tbusiness quarter start frequency\n",
        "    A, Y \tyear end frequency\n",
        "    BA, BY \tbusiness year end frequency\n",
        "    AS, YS \tyear start frequency\n",
        "    BAS, BYS \tbusiness year start frequency\n",
        "    BH \tbusiness hour frequency\n",
        "    H \thourly frequency\n",
        "    T, min \tminutely frequency\n",
        "    S \tsecondly frequency\n",
        "    L, ms \tmilliseconds\n",
        "    U, us \tmicroseconds\n",
        "    N \tnanoseconds"
      ]
    },
    {
      "cell_type": "code",
      "execution_count": 27,
      "metadata": {
        "colab": {
          "base_uri": "https://localhost:8080/"
        },
        "id": "DUMBlY01LKNm",
        "outputId": "620d1371-e387-4be8-bcda-b4b27b8ae41e"
      },
      "outputs": [
        {
          "output_type": "stream",
          "name": "stdout",
          "text": [
            "DatetimeIndex(['2019-12-11 16:00:00', '2019-12-11 16:01:00',\n",
            "               '2019-12-11 16:02:00', '2019-12-11 16:03:00',\n",
            "               '2019-12-11 16:04:00', '2019-12-11 16:05:00',\n",
            "               '2019-12-11 16:06:00', '2019-12-11 16:07:00',\n",
            "               '2019-12-11 16:08:00', '2019-12-11 16:09:00',\n",
            "               '2019-12-11 16:10:00', '2019-12-11 16:11:00',\n",
            "               '2019-12-11 16:12:00', '2019-12-11 16:13:00',\n",
            "               '2019-12-11 16:14:00'],\n",
            "              dtype='datetime64[ns]', freq='T')\n"
          ]
        },
        {
          "output_type": "execute_result",
          "data": {
            "text/plain": [
              "2019-12-11 16:00:00    22\n",
              "2019-12-11 16:01:00    21\n",
              "2019-12-11 16:02:00     1\n",
              "2019-12-11 16:03:00     1\n",
              "2019-12-11 16:04:00    29\n",
              "2019-12-11 16:05:00     9\n",
              "2019-12-11 16:06:00    10\n",
              "2019-12-11 16:07:00     4\n",
              "2019-12-11 16:08:00     8\n",
              "2019-12-11 16:09:00    25\n",
              "2019-12-11 16:10:00     8\n",
              "2019-12-11 16:11:00     5\n",
              "2019-12-11 16:12:00     8\n",
              "2019-12-11 16:13:00     8\n",
              "2019-12-11 16:14:00    17\n",
              "Freq: T, dtype: int64"
            ]
          },
          "metadata": {},
          "execution_count": 27
        }
      ],
      "source": [
        "idia = pd.date_range('12/11/2019 16:00:00', periods=15, freq='T')\n",
        "print(idia)\n",
        "seriea = Series(np.random.randint(30,size=15),idia)\n",
        "seriea"
      ]
    },
    {
      "cell_type": "code",
      "execution_count": 28,
      "metadata": {
        "colab": {
          "base_uri": "https://localhost:8080/"
        },
        "id": "HBCoQDyiLKNm",
        "outputId": "79967912-2b31-41f2-cc98-41cbed7d262a"
      },
      "outputs": [
        {
          "output_type": "stream",
          "name": "stdout",
          "text": [
            "DatetimeIndex(['2019-12-11 16:00:00', '2019-12-11 16:02:00',\n",
            "               '2019-12-11 16:04:00', '2019-12-11 16:06:00',\n",
            "               '2019-12-11 16:08:00', '2019-12-11 16:10:00',\n",
            "               '2019-12-11 16:12:00', '2019-12-11 16:14:00',\n",
            "               '2019-12-11 16:16:00', '2019-12-11 16:18:00',\n",
            "               '2019-12-11 16:20:00', '2019-12-11 16:22:00',\n",
            "               '2019-12-11 16:24:00', '2019-12-11 16:26:00',\n",
            "               '2019-12-11 16:28:00'],\n",
            "              dtype='datetime64[ns]', freq='2T')\n"
          ]
        },
        {
          "output_type": "execute_result",
          "data": {
            "text/plain": [
              "2019-12-11 16:00:00    15\n",
              "2019-12-11 16:02:00    20\n",
              "2019-12-11 16:04:00    22\n",
              "2019-12-11 16:06:00    18\n",
              "2019-12-11 16:08:00    23\n",
              "2019-12-11 16:10:00     5\n",
              "2019-12-11 16:12:00    14\n",
              "2019-12-11 16:14:00    29\n",
              "2019-12-11 16:16:00     2\n",
              "2019-12-11 16:18:00    25\n",
              "2019-12-11 16:20:00     0\n",
              "2019-12-11 16:22:00    23\n",
              "2019-12-11 16:24:00    19\n",
              "2019-12-11 16:26:00     6\n",
              "2019-12-11 16:28:00    12\n",
              "Freq: 2T, dtype: int64"
            ]
          },
          "metadata": {},
          "execution_count": 28
        }
      ],
      "source": [
        "idib = pd.date_range('12/11/2019 16:00:00', periods=15, freq='2T')\n",
        "print(idib)\n",
        "serieb = Series(np.random.randint(30,size=15),idib)\n",
        "serieb "
      ]
    },
    {
      "cell_type": "code",
      "execution_count": 29,
      "metadata": {
        "colab": {
          "base_uri": "https://localhost:8080/"
        },
        "id": "uEhqAZBcLKNm",
        "outputId": "31029ab3-a702-413c-d95e-d99ab9aee095"
      },
      "outputs": [
        {
          "output_type": "execute_result",
          "data": {
            "text/plain": [
              "2019-12-11 16:00:00    37.0\n",
              "2019-12-11 16:01:00     NaN\n",
              "2019-12-11 16:02:00    21.0\n",
              "2019-12-11 16:03:00     NaN\n",
              "2019-12-11 16:04:00    51.0\n",
              "2019-12-11 16:05:00     NaN\n",
              "2019-12-11 16:06:00    28.0\n",
              "2019-12-11 16:07:00     NaN\n",
              "2019-12-11 16:08:00    31.0\n",
              "2019-12-11 16:09:00     NaN\n",
              "2019-12-11 16:10:00    13.0\n",
              "2019-12-11 16:11:00     NaN\n",
              "2019-12-11 16:12:00    22.0\n",
              "2019-12-11 16:13:00     NaN\n",
              "2019-12-11 16:14:00    46.0\n",
              "2019-12-11 16:16:00     NaN\n",
              "2019-12-11 16:18:00     NaN\n",
              "2019-12-11 16:20:00     NaN\n",
              "2019-12-11 16:22:00     NaN\n",
              "2019-12-11 16:24:00     NaN\n",
              "2019-12-11 16:26:00     NaN\n",
              "2019-12-11 16:28:00     NaN\n",
              "dtype: float64"
            ]
          },
          "metadata": {},
          "execution_count": 29
        }
      ],
      "source": [
        "seriea+serieb"
      ]
    },
    {
      "cell_type": "code",
      "execution_count": 30,
      "metadata": {
        "colab": {
          "base_uri": "https://localhost:8080/"
        },
        "id": "dCIaYxiALKNm",
        "outputId": "544bae41-6141-4a97-a005-f23237325ebf"
      },
      "outputs": [
        {
          "output_type": "execute_result",
          "data": {
            "text/plain": [
              "2019-12-11 16:00:00    22\n",
              "2019-12-11 16:01:00    21\n",
              "2019-12-11 16:02:00     1\n",
              "2019-12-11 16:03:00     1\n",
              "2019-12-11 16:04:00    29\n",
              "2019-12-11 16:05:00     9\n",
              "2019-12-11 16:06:00    10\n",
              "2019-12-11 16:07:00     4\n",
              "2019-12-11 16:08:00     8\n",
              "2019-12-11 16:09:00    25\n",
              "2019-12-11 16:10:00     8\n",
              "2019-12-11 16:11:00     5\n",
              "2019-12-11 16:12:00     8\n",
              "2019-12-11 16:13:00     8\n",
              "2019-12-11 16:14:00    17\n",
              "Freq: T, dtype: int64"
            ]
          },
          "metadata": {},
          "execution_count": 30
        }
      ],
      "source": [
        "seriea"
      ]
    },
    {
      "cell_type": "code",
      "source": [
        "serieb"
      ],
      "metadata": {
        "colab": {
          "base_uri": "https://localhost:8080/"
        },
        "id": "qQcOns1nQLpi",
        "outputId": "1c3a334f-8c0b-49f8-bf03-7f1f57eabea3"
      },
      "execution_count": 31,
      "outputs": [
        {
          "output_type": "execute_result",
          "data": {
            "text/plain": [
              "2019-12-11 16:00:00    15\n",
              "2019-12-11 16:02:00    20\n",
              "2019-12-11 16:04:00    22\n",
              "2019-12-11 16:06:00    18\n",
              "2019-12-11 16:08:00    23\n",
              "2019-12-11 16:10:00     5\n",
              "2019-12-11 16:12:00    14\n",
              "2019-12-11 16:14:00    29\n",
              "2019-12-11 16:16:00     2\n",
              "2019-12-11 16:18:00    25\n",
              "2019-12-11 16:20:00     0\n",
              "2019-12-11 16:22:00    23\n",
              "2019-12-11 16:24:00    19\n",
              "2019-12-11 16:26:00     6\n",
              "2019-12-11 16:28:00    12\n",
              "Freq: 2T, dtype: int64"
            ]
          },
          "metadata": {},
          "execution_count": 31
        }
      ]
    },
    {
      "cell_type": "code",
      "source": [
        "seriec = seriea+serieb\n",
        "seriec"
      ],
      "metadata": {
        "colab": {
          "base_uri": "https://localhost:8080/"
        },
        "id": "BkaB6_MWQRG0",
        "outputId": "e843f79d-58d0-4f82-961d-2c3610897d24"
      },
      "execution_count": 34,
      "outputs": [
        {
          "output_type": "execute_result",
          "data": {
            "text/plain": [
              "2019-12-11 16:00:00    37.0\n",
              "2019-12-11 16:01:00     NaN\n",
              "2019-12-11 16:02:00    21.0\n",
              "2019-12-11 16:03:00     NaN\n",
              "2019-12-11 16:04:00    51.0\n",
              "2019-12-11 16:05:00     NaN\n",
              "2019-12-11 16:06:00    28.0\n",
              "2019-12-11 16:07:00     NaN\n",
              "2019-12-11 16:08:00    31.0\n",
              "2019-12-11 16:09:00     NaN\n",
              "2019-12-11 16:10:00    13.0\n",
              "2019-12-11 16:11:00     NaN\n",
              "2019-12-11 16:12:00    22.0\n",
              "2019-12-11 16:13:00     NaN\n",
              "2019-12-11 16:14:00    46.0\n",
              "2019-12-11 16:16:00     NaN\n",
              "2019-12-11 16:18:00     NaN\n",
              "2019-12-11 16:20:00     NaN\n",
              "2019-12-11 16:22:00     NaN\n",
              "2019-12-11 16:24:00     NaN\n",
              "2019-12-11 16:26:00     NaN\n",
              "2019-12-11 16:28:00     NaN\n",
              "dtype: float64"
            ]
          },
          "metadata": {},
          "execution_count": 34
        }
      ]
    },
    {
      "cell_type": "code",
      "source": [
        "sum(seriec)/len(seriec)"
      ],
      "metadata": {
        "colab": {
          "base_uri": "https://localhost:8080/"
        },
        "id": "hV7Jf9ARQf1_",
        "outputId": "0458847f-0a92-495b-c0fb-ef70c040d16d"
      },
      "execution_count": 37,
      "outputs": [
        {
          "output_type": "execute_result",
          "data": {
            "text/plain": [
              "nan"
            ]
          },
          "metadata": {},
          "execution_count": 37
        }
      ]
    },
    {
      "cell_type": "code",
      "source": [
        "seriec.mean()"
      ],
      "metadata": {
        "colab": {
          "base_uri": "https://localhost:8080/"
        },
        "id": "74GxO1ZiRaTi",
        "outputId": "ee455ed0-d4f5-4220-ca02-512daa9d1652"
      },
      "execution_count": 38,
      "outputs": [
        {
          "output_type": "execute_result",
          "data": {
            "text/plain": [
              "31.125"
            ]
          },
          "metadata": {},
          "execution_count": 38
        }
      ]
    }
  ],
  "metadata": {
    "kernelspec": {
      "display_name": "Python 3",
      "language": "python",
      "name": "python3"
    },
    "language_info": {
      "codemirror_mode": {
        "name": "ipython",
        "version": 3
      },
      "file_extension": ".py",
      "mimetype": "text/x-python",
      "name": "python",
      "nbconvert_exporter": "python",
      "pygments_lexer": "ipython3",
      "version": "3.8.5"
    },
    "colab": {
      "provenance": []
    }
  },
  "nbformat": 4,
  "nbformat_minor": 0
}