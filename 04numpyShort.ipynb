{
 "cells": [
  {
   "cell_type": "markdown",
   "metadata": {},
   "source": [
    "\n",
    "<table>\n",
    "    <tr>\n",
    "      <td>Grado en Ingeniería de Datos e Inteligencia Artificial - Facultad de Informática - UCM\n",
    "      </td>\n",
    "      <td>\n",
    "      <img src=\"https://biblioteca.ucm.es/data/cont/media/www/pag-88746//escudo.jpg\"  width=50/>\n",
    "      </td>\n",
    "     </tr>\n",
    "</table>\n",
    "\n",
    "## Adquisicion y preprocesamiento de datos\n",
    "\n",
    "<img src=\"https://numpy.org/doc/stable/_static/numpylogo.svg\"/>"
   ]
  },
  {
   "cell_type": "markdown",
   "metadata": {},
   "source": [
    "#### Una razón para usar numpy\n",
    "Numpy representa vectores y matrices de forma más eficiente; va a ser el soporte de los dataframes en Pandas. Veamos distintas formas de encontrar el máximo de un vector\n"
   ]
  },
  {
   "cell_type": "code",
   "execution_count": 81,
   "metadata": {},
   "outputs": [
    {
     "name": "stdout",
     "output_type": "stream",
     "text": [
      "Wall time: 5.03 s\n"
     ]
    }
   ],
   "source": [
    "%%time\n",
    "import random\n",
    "cuantos = 10000000\n",
    "l = [random.randint(1,100) for n in range(cuantos)]"
   ]
  },
  {
   "cell_type": "code",
   "execution_count": 82,
   "metadata": {},
   "outputs": [
    {
     "name": "stdout",
     "output_type": "stream",
     "text": [
      "100\n",
      "Wall time: 390 ms\n"
     ]
    }
   ],
   "source": [
    "%%time\n",
    "maximo = 0\n",
    "for x in l:\n",
    "    if x>maximo:\n",
    "        maximo=x\n",
    "print(maximo)        \n",
    "        \n"
   ]
  },
  {
   "cell_type": "code",
   "execution_count": 83,
   "metadata": {},
   "outputs": [
    {
     "name": "stdout",
     "output_type": "stream",
     "text": [
      "Wall time: 61.2 ms\n"
     ]
    },
    {
     "data": {
      "text/plain": [
       "100"
      ]
     },
     "execution_count": 83,
     "metadata": {},
     "output_type": "execute_result"
    }
   ],
   "source": [
    "%%time \n",
    "max(l)"
   ]
  },
  {
   "cell_type": "markdown",
   "metadata": {},
   "source": [
    "Ahora con numpy"
   ]
  },
  {
   "cell_type": "code",
   "execution_count": 84,
   "metadata": {},
   "outputs": [
    {
     "name": "stdout",
     "output_type": "stream",
     "text": [
      "Wall time: 62.4 ms\n"
     ]
    }
   ],
   "source": [
    "%%time\n",
    "import random\n",
    "l =  np.random.randint(1, 100, cuantos)"
   ]
  },
  {
   "cell_type": "code",
   "execution_count": 85,
   "metadata": {},
   "outputs": [
    {
     "name": "stdout",
     "output_type": "stream",
     "text": [
      "Wall time: 4 ms\n"
     ]
    },
    {
     "data": {
      "text/plain": [
       "99"
      ]
     },
     "execution_count": 85,
     "metadata": {},
     "output_type": "execute_result"
    }
   ],
   "source": [
    "%%time\n",
    "import numpy as np\n",
    "l.max()"
   ]
  },
  {
   "cell_type": "markdown",
   "metadata": {},
   "source": [
    "### Creación de ndarrays\n",
    "\n",
    "#### Creación desde arrays Python"
   ]
  },
  {
   "cell_type": "code",
   "execution_count": 86,
   "metadata": {},
   "outputs": [
    {
     "name": "stdout",
     "output_type": "stream",
     "text": [
      "[10 20 30 40] (4,) int32\n"
     ]
    }
   ],
   "source": [
    "import numpy as np\n",
    "v = [10,20,30,40]\n",
    "a1  = np.array(v) \n",
    "\n",
    "print(a1, a1.shape, a1.dtype)"
   ]
  },
  {
   "cell_type": "code",
   "execution_count": 89,
   "metadata": {},
   "outputs": [
    {
     "name": "stdout",
     "output_type": "stream",
     "text": [
      "['10' '20' '30' '40' 'hola'] (5,) <U11\n"
     ]
    }
   ],
   "source": [
    "v = [10,20,30,40,\"hola\"]\n",
    "a1  = np.array(v) \n",
    "\n",
    "print(a1, a1.shape, a1.dtype)"
   ]
  },
  {
   "cell_type": "markdown",
   "metadata": {},
   "source": [
    "En https://numpy.org/doc/stable/reference/arrays.dtypes.html hay algunas explicaciones sobre los tipos de datos de pymongo"
   ]
  },
  {
   "cell_type": "code",
   "execution_count": 90,
   "metadata": {},
   "outputs": [
    {
     "name": "stdout",
     "output_type": "stream",
     "text": [
      "[[1.  2.  3.  4. ]\n",
      " [5.  6.  7.  8.2]] (2, 4) float64\n"
     ]
    }
   ],
   "source": [
    "d = [[1, 2, 3, 4], [5, 6, 7, 8.2]]\n",
    "\n",
    "a2 = np.array(d)\n",
    "print(a2, a2.shape, a2.dtype)"
   ]
  },
  {
   "cell_type": "markdown",
   "metadata": {},
   "source": [
    "Es importante notar que *array* crea una copia, esto es, reserva memoria nueva para el resultado.\n",
    "La variante *asarray* no crea una copia si el parámetro ya es un *ndarray*"
   ]
  },
  {
   "cell_type": "code",
   "execution_count": 92,
   "metadata": {},
   "outputs": [
    {
     "name": "stdout",
     "output_type": "stream",
     "text": [
      "[[1. 2. 3. 4.]\n",
      " [5. 6. 7. 0.]]\n"
     ]
    }
   ],
   "source": [
    "\n",
    "d = [[1, 2, 3, 4], [5, 6, 7, 8.2]]\n",
    "\n",
    "a2 = np.array(d)\n",
    "a3 = np.array(a2)\n",
    "a4 = np.asarray(a2)\n",
    "\n",
    "a3[0,1] = 0\n",
    "a4[1,3] = 0\n",
    "print(a2)"
   ]
  },
  {
   "cell_type": "markdown",
   "metadata": {},
   "source": [
    "#### Crear arrays en numpy repitiendo valores\n",
    "\n",
    "Aparte de *np.array* tenemos:\n",
    "\n",
    "- *np.zeros(s)*: crea un array con 0s (float) con el *shape* indicado<br>\n",
    "\n",
    "- *np.zeros_like(a)*: crea un array con 0s (float) con el mismo *shape* que el del array *a*<br>\n",
    "\n",
    "- *np.ones(s)*: crea un array con 1s (float) con el *shape* indicado<br>\n",
    "\n",
    "- *np.ones_like(a)*: crea un array con 1s (float) con el mismo *shape* que el del array *a*<br>\n",
    "\n",
    "- *np.empty(s)*: crea un array con el *shape* indicado sin inicializar<br>\n",
    "\n",
    "- *np.empty_like(a)*: crea un array con el *shape* de *a* sin inicializar<br>\n",
    "\n",
    "- *np.arange(n)*: la versión np de *range*\n",
    "\n",
    "- *np.eye(n)*, *np.identity(n)*: matriz diagonal de nxn"
   ]
  },
  {
   "cell_type": "code",
   "execution_count": 93,
   "metadata": {},
   "outputs": [
    {
     "data": {
      "text/plain": [
       "array([[[0., 0., 0., 0.],\n",
       "        [0., 0., 0., 0.],\n",
       "        [0., 0., 0., 0.]],\n",
       "\n",
       "       [[0., 0., 0., 0.],\n",
       "        [0., 0., 0., 0.],\n",
       "        [0., 0., 0., 0.]]])"
      ]
     },
     "execution_count": 93,
     "metadata": {},
     "output_type": "execute_result"
    }
   ],
   "source": [
    "np.zeros((2,3,4))"
   ]
  },
  {
   "cell_type": "markdown",
   "metadata": {},
   "source": [
    "#### Crear arrays en numpy mediante números aleatorios\n",
    "\n",
    "numpy dispone de un paquete `numpy.random` que se encarga de generar números aleatrorios. Python también dispone de dicho paquete. La diferencia es que el módulo de numpy puede generar muchos valores diferentes con una sola llamada y de muy diversas funciones de probabilidad. \n",
    "\n",
    "Las funciones incluídas en este paquete son: \n",
    "\n",
    "    seed: semilla del generador de números aleatorios\n",
    "    permutation: permutación al azar de una secuencia\n",
    "    shuffle: permuta una secuencia in-place (no devuelve copia)\n",
    "    rand: devuelve números aleatorios de una función uniforme\n",
    "    randint: Valores enteros distribuidos uniformemente \n",
    "    randn: valores de una N(0,1)\n",
    "    binomial: ejemplo de una binomial\n",
    "    normal: valores de una gaussiana cuyos parámetros se le pasan\n",
    "    beta: valores aleatorios de una distribución beta\n",
    "    chisquare: valores aleatorios de una chi-cuadrado\n",
    "    gamma: valores de una gamma\n",
    "    uniform: valores de una uniforme (0,1)\n",
    "    \n",
    "Vamos a comparar en velocidad con la generación mediante números aleatorios de Python"
   ]
  },
  {
   "cell_type": "code",
   "execution_count": 94,
   "metadata": {},
   "outputs": [
    {
     "name": "stdout",
     "output_type": "stream",
     "text": [
      "519 ms ± 4.42 ms per loop (mean ± std. dev. of 7 runs, 1 loop each)\n"
     ]
    }
   ],
   "source": [
    "from random import normalvariate \n",
    "N = 1000000\n",
    "%timeit [normalvariate(0,1) for _ in range(N)]"
   ]
  },
  {
   "cell_type": "code",
   "execution_count": 95,
   "metadata": {},
   "outputs": [
    {
     "name": "stdout",
     "output_type": "stream",
     "text": [
      "17.4 ms ± 229 µs per loop (mean ± std. dev. of 7 runs, 100 loops each)\n"
     ]
    }
   ],
   "source": [
    "%timeit np.random.normal(size=N)"
   ]
  },
  {
   "cell_type": "code",
   "execution_count": null,
   "metadata": {},
   "outputs": [],
   "source": [
    "%timeit np.random.normal(size=N)"
   ]
  },
  {
   "cell_type": "markdown",
   "metadata": {},
   "source": [
    "### Vectorización"
   ]
  },
  {
   "cell_type": "markdown",
   "metadata": {},
   "source": [
    "Aparte de la velocidad y de la gran cantidad de funciones que contiene, la *vectorización* es una razón importante para utilizar numpy. La idea es sí es muy sencilla:\n",
    "\n",
    "\n",
    "\n",
    "*Toda operación que se pueda aplicar a un elemento de un tipo básico (ej. int) se extiende forma natural a ndarrays*"
   ]
  },
  {
   "cell_type": "code",
   "execution_count": 97,
   "metadata": {},
   "outputs": [
    {
     "data": {
      "text/plain": [
       "50"
      ]
     },
     "execution_count": 97,
     "metadata": {},
     "output_type": "execute_result"
    }
   ],
   "source": [
    "a = 20\n",
    "b = 30\n",
    "a+b   # python puro"
   ]
  },
  {
   "cell_type": "code",
   "execution_count": 98,
   "metadata": {},
   "outputs": [
    {
     "data": {
      "text/plain": [
       "array([110, 220, 330, 440])"
      ]
     },
     "execution_count": 98,
     "metadata": {},
     "output_type": "execute_result"
    }
   ],
   "source": [
    "import numpy as np\n",
    "\n",
    "a  = np.array([10,20,30,40]) \n",
    "b  = np.array([100,200,300,400])\n",
    "\n",
    "a+b # numpy"
   ]
  },
  {
   "cell_type": "code",
   "execution_count": 99,
   "metadata": {},
   "outputs": [
    {
     "data": {
      "text/plain": [
       "array([ 1000,  4000,  9000, 16000])"
      ]
     },
     "execution_count": 99,
     "metadata": {},
     "output_type": "execute_result"
    }
   ],
   "source": [
    "a*b "
   ]
  },
  {
   "cell_type": "code",
   "execution_count": 100,
   "metadata": {},
   "outputs": [
    {
     "data": {
      "text/plain": [
       "array([ 55., 110., 165., 220.])"
      ]
     },
     "execution_count": 100,
     "metadata": {},
     "output_type": "execute_result"
    }
   ],
   "source": [
    "(a+b)/2"
   ]
  },
  {
   "cell_type": "code",
   "execution_count": 108,
   "metadata": {},
   "outputs": [
    {
     "data": {
      "text/plain": [
       "array([[0, 0, 0, 0, 0, 0, 0, 0, 0, 0],\n",
       "       [0, 0, 0, 0, 0, 0, 0, 0, 0, 0],\n",
       "       [0, 0, 0, 0, 0, 0, 0, 0, 0, 0],\n",
       "       [0, 0, 0, 0, 0, 0, 0, 0, 0, 0],\n",
       "       [0, 0, 0, 0, 0, 0, 0, 0, 0, 0],\n",
       "       [0, 0, 0, 0, 0, 0, 0, 0, 0, 0],\n",
       "       [0, 0, 0, 0, 0, 0, 0, 0, 0, 0],\n",
       "       [0, 0, 0, 0, 0, 0, 0, 0, 0, 0],\n",
       "       [0, 0, 0, 0, 0, 0, 0, 0, 0, 0],\n",
       "       [0, 0, 0, 0, 0, 0, 0, 0, 0, 0]])"
      ]
     },
     "execution_count": 108,
     "metadata": {},
     "output_type": "execute_result"
    }
   ],
   "source": [
    "m = np.zeros((10,10),dtype=np.int32)\n",
    "m"
   ]
  },
  {
   "cell_type": "code",
   "execution_count": 109,
   "metadata": {},
   "outputs": [
    {
     "data": {
      "text/plain": [
       "array([[0, 0, 0, 0, 0, 0, 0, 0, 0, 0],\n",
       "       [0, 0, 0, 0, 0, 0, 0, 0, 0, 0],\n",
       "       [0, 0, 0, 0, 0, 0, 0, 0, 0, 0],\n",
       "       [0, 0, 0, 1, 1, 1, 1, 0, 0, 0],\n",
       "       [0, 0, 0, 1, 1, 1, 1, 0, 0, 0],\n",
       "       [0, 0, 0, 1, 1, 1, 1, 0, 0, 0],\n",
       "       [0, 0, 0, 1, 1, 1, 1, 0, 0, 0],\n",
       "       [0, 0, 0, 0, 0, 0, 0, 0, 0, 0],\n",
       "       [0, 0, 0, 0, 0, 0, 0, 0, 0, 0],\n",
       "       [0, 0, 0, 0, 0, 0, 0, 0, 0, 0]])"
      ]
     },
     "execution_count": 109,
     "metadata": {},
     "output_type": "execute_result"
    }
   ],
   "source": [
    "m[3:7,3:7]=1\n",
    "m"
   ]
  },
  {
   "cell_type": "markdown",
   "metadata": {},
   "source": [
    "## Índices booleanos\n",
    "\n",
    "Todavía una razón más; utilizar arrays de booleanos como índices; esto va a ser una herramienta muy poderosa para filtrar datos"
   ]
  },
  {
   "cell_type": "code",
   "execution_count": 115,
   "metadata": {},
   "outputs": [
    {
     "data": {
      "text/plain": [
       "array([ 1,  2,  3,  4,  5,  6,  7,  8,  9, 10])"
      ]
     },
     "execution_count": 115,
     "metadata": {},
     "output_type": "execute_result"
    }
   ],
   "source": [
    "a = np.arange(1,11)\n",
    "a"
   ]
  },
  {
   "cell_type": "code",
   "execution_count": 116,
   "metadata": {},
   "outputs": [
    {
     "data": {
      "text/plain": [
       "array([1, 4, 7])"
      ]
     },
     "execution_count": 116,
     "metadata": {},
     "output_type": "execute_result"
    }
   ],
   "source": [
    "a[ [True,False,False,True,False,False,True,False,False,False]]"
   ]
  },
  {
   "cell_type": "markdown",
   "metadata": {},
   "source": [
    "Esto, que parece no tener importancia, muestra su potencia al combinarlo con la vectorización, y da lugar a todo un estilo de programación"
   ]
  },
  {
   "cell_type": "code",
   "execution_count": 117,
   "metadata": {},
   "outputs": [
    {
     "data": {
      "text/plain": [
       "array([False,  True, False,  True, False,  True, False,  True, False,\n",
       "        True])"
      ]
     },
     "execution_count": 117,
     "metadata": {},
     "output_type": "execute_result"
    }
   ],
   "source": [
    "a % 2 == 0"
   ]
  },
  {
   "cell_type": "code",
   "execution_count": 120,
   "metadata": {},
   "outputs": [
    {
     "data": {
      "text/plain": [
       "array([ 2,  4,  6,  8, 10])"
      ]
     },
     "execution_count": 120,
     "metadata": {},
     "output_type": "execute_result"
    }
   ],
   "source": [
    "filtro = a % 2 == 0\n",
    "a[filtro]"
   ]
  },
  {
   "cell_type": "code",
   "execution_count": 121,
   "metadata": {},
   "outputs": [
    {
     "data": {
      "text/plain": [
       "array([ 2,  4,  6,  8, 10])"
      ]
     },
     "execution_count": 121,
     "metadata": {},
     "output_type": "execute_result"
    }
   ],
   "source": [
    "a[ a % 2 == 0]"
   ]
  },
  {
   "cell_type": "markdown",
   "metadata": {},
   "source": [
    "**Ejemplo**\n",
    "Queremos quedarnos solo con los elementos positivos del array a"
   ]
  },
  {
   "cell_type": "code",
   "execution_count": 123,
   "metadata": {},
   "outputs": [
    {
     "data": {
      "text/plain": [
       "array([ 43, -59, -63, -69,  41,  36,   8,  53,  97,   5,  42, -26, -67,\n",
       "        -9, -93,  12, -92,  64,  54,  81, -31, -31,  42, -83, -15,  -3,\n",
       "        89,   9, -26, -72, -99,  82, -91,  49, -65, -28,  -6,  90, -55,\n",
       "       -45, -46,  10,  -8, -57,   3,  43, -96,  69,  77,  37])"
      ]
     },
     "execution_count": 123,
     "metadata": {},
     "output_type": "execute_result"
    }
   ],
   "source": [
    "a = np.random.randint(-100,100,50)\n",
    "a"
   ]
  },
  {
   "cell_type": "code",
   "execution_count": 124,
   "metadata": {},
   "outputs": [],
   "source": [
    "# solución\n"
   ]
  },
  {
   "cell_type": "markdown",
   "metadata": {},
   "source": [
    "Se pueden combinar dos arrays"
   ]
  },
  {
   "cell_type": "code",
   "execution_count": 125,
   "metadata": {},
   "outputs": [
    {
     "data": {
      "text/plain": [
       "(array(['Bertoldo', 'Herminia', 'Calixto', 'Melibea', 'Aniceto'],\n",
       "       dtype='<U8'),\n",
       " array([1200,  800, 1500, 2300,  940]))"
      ]
     },
     "execution_count": 125,
     "metadata": {},
     "output_type": "execute_result"
    }
   ],
   "source": [
    "nombre = np.array([\"Bertoldo\",\"Herminia\",\"Calixto\",\"Melibea\",\"Aniceto\"])\n",
    "ingresos = np.array([1200,800,1500,2300,940])\n",
    "\n",
    "nombre, ingresos"
   ]
  },
  {
   "cell_type": "code",
   "execution_count": 126,
   "metadata": {},
   "outputs": [
    {
     "data": {
      "text/plain": [
       "array(['Bertoldo', 'Calixto', 'Melibea'], dtype='<U8')"
      ]
     },
     "execution_count": 126,
     "metadata": {},
     "output_type": "execute_result"
    }
   ],
   "source": [
    "# Nombre de los que ganan más de 1000 euros\n",
    "filtro = ingresos>1000\n",
    "nombre[filtro]"
   ]
  },
  {
   "cell_type": "markdown",
   "metadata": {},
   "source": [
    "**Ejercicio** A partir de la listas `edades` y `nombres` queremos crear 4 listas: `edades20`, `nombres20` con las edades menores o iguales a 20 y sus nombres, y `edadesMasDe20`, `nombresMasDe20` con las edades y nombres de los que tienen más de 20 años"
   ]
  },
  {
   "cell_type": "code",
   "execution_count": 127,
   "metadata": {},
   "outputs": [],
   "source": [
    "nombres = np.array([\"Melibea\", \"Bertoldo\", \"Herminia\", \"Calixto\", \"Aniceto\"])\n",
    "edades = np.array([18,20,23,18,21])"
   ]
  },
  {
   "cell_type": "code",
   "execution_count": 128,
   "metadata": {},
   "outputs": [
    {
     "name": "stdout",
     "output_type": "stream",
     "text": [
      "[18 20 18] ['Melibea' 'Bertoldo' 'Calixto']\n",
      "[23 21] ['Herminia' 'Aniceto']\n"
     ]
    }
   ],
   "source": [
    "filtro1 = edades>20\n",
    "filtro2 = edades<=20\n",
    "\n",
    "edades20, nombres20  = edades[filtro2], nombres[filtro2]\n",
    "\n",
    "edadesMasDe20, nombresMasDe20 = edades[filtro1], nombres[filtro1]\n",
    "\n",
    "print(edades20, nombres20)\n",
    "print(edadesMasDe20, nombresMasDe20 )"
   ]
  },
  {
   "cell_type": "markdown",
   "metadata": {},
   "source": [
    "Sobre los arrays booleanos se pueden hacer operaciones and (se escribe &), or (|) y not (~)"
   ]
  },
  {
   "cell_type": "code",
   "execution_count": 129,
   "metadata": {},
   "outputs": [
    {
     "data": {
      "text/plain": [
       "array([False, False,  True, False,  True])"
      ]
     },
     "execution_count": 129,
     "metadata": {},
     "output_type": "execute_result"
    }
   ],
   "source": [
    "filtro1"
   ]
  },
  {
   "cell_type": "code",
   "execution_count": 130,
   "metadata": {},
   "outputs": [
    {
     "data": {
      "text/plain": [
       "array([ True,  True, False,  True, False])"
      ]
     },
     "execution_count": 130,
     "metadata": {},
     "output_type": "execute_result"
    }
   ],
   "source": [
    "~filtro1"
   ]
  },
  {
   "cell_type": "code",
   "execution_count": 131,
   "metadata": {},
   "outputs": [
    {
     "name": "stdout",
     "output_type": "stream",
     "text": [
      "[18 20 18] ['Melibea' 'Bertoldo' 'Calixto']\n",
      "[23 21] ['Herminia' 'Aniceto']\n"
     ]
    }
   ],
   "source": [
    "filtro = edades>20\n",
    "\n",
    "\n",
    "edades20, nombres20  = edades[~filtro], nombres[~filtro]\n",
    "\n",
    "edadesMasDe20, nombresMasDe20 = edades[filtro], nombres[filtro]\n",
    "\n",
    "print(edades20, nombres20)\n",
    "print(edadesMasDe20, nombresMasDe20 )"
   ]
  },
  {
   "cell_type": "code",
   "execution_count": null,
   "metadata": {},
   "outputs": [],
   "source": []
  }
 ],
 "metadata": {
  "kernelspec": {
   "display_name": "Python 3",
   "language": "python",
   "name": "python3"
  },
  "language_info": {
   "codemirror_mode": {
    "name": "ipython",
    "version": 3
   },
   "file_extension": ".py",
   "mimetype": "text/x-python",
   "name": "python",
   "nbconvert_exporter": "python",
   "pygments_lexer": "ipython3",
   "version": "3.8.5"
  }
 },
 "nbformat": 4,
 "nbformat_minor": 4
}
